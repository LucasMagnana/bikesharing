{
 "cells": [
  {
   "cell_type": "code",
   "execution_count": 1,
   "metadata": {},
   "outputs": [],
   "source": [
    "import pandas as pd\n",
    "import numpy as np\n",
    "import plotly.express as px\n",
    "import xml.etree.ElementTree as ET\n",
    "import pickle\n",
    "import math\n",
    "import copy\n",
    "from rdp import *\n",
    "token = \"pk.eyJ1IjoibG1hZ25hbmEiLCJhIjoiY2s2N3hmNzgwMGNnODNqcGJ1N2l2ZXZpdiJ9.-aOxDLM8KbEQnJfXegtl7A\"\n",
    "px.set_mapbox_access_token(token)"
   ]
  },
  {
   "cell_type": "code",
   "execution_count": 3,
   "metadata": {
    "scrolled": true
   },
   "outputs": [],
   "source": [
    "def load_gpx():\n",
    "    with open('gpx.df','rb') as infile:\n",
    "        df = pickle.load(infile)\n",
    "    begin = int(df.iloc[-1][\"route_num\"])\n",
    "    print(begin)\n",
    "    for i in range(begin+1, begin+1109+1):\n",
    "        tree = ET.parse('Datas/GPS/GPX/data'+str(i)+'.gpx')\n",
    "        if(len(tree.getroot()) > 1):\n",
    "            root = tree.getroot()[1][0]\n",
    "            df_temp = pd.DataFrame(columns=['lat', 'lon'])\n",
    "            j=0\n",
    "            for child in root:\n",
    "                coord = child.attrib\n",
    "                coord['lat'] = float(coord['lat'])\n",
    "                coord['lon'] = float(coord['lon'])\n",
    "                df_temp = df_temp.append(pd.DataFrame(coord, index=[j]))\n",
    "                j+=1\n",
    "            df_temp[\"route_num\"] = i\n",
    "            df = df.append(df_temp)\n",
    "    with open('gpx.df', 'wb') as outfile:\n",
    "        pickle.dump(df, outfile)"
   ]
  },
  {
   "cell_type": "code",
   "execution_count": 3,
   "metadata": {
    "scrolled": false
   },
   "outputs": [],
   "source": [
    "def rd_compression(df):\n",
    "    df_simplified = pd.DataFrame(columns=['lat', 'lon', 'route_num'])\n",
    "    for i in range(1, 1110):\n",
    "        route = df[df['route_num']==i].values\n",
    "        if(len(route)>0):\n",
    "            simplified = rdp(np.delete(route, 2, 1), epsilon=1e-4)\n",
    "            simplified = np.insert(simplified, 2, route[0][2], axis=1)\n",
    "            df_temp = pd.DataFrame(simplified, columns=['lat', 'lon', 'route_num'])\n",
    "            df_simplified = df_simplified.append(df_temp)\n",
    "    return df_simplified"
   ]
  },
  {
   "cell_type": "code",
   "execution_count": 75,
   "metadata": {},
   "outputs": [],
   "source": [
    "df_simplified = rd_compression(df)\n",
    "with open('gpx_simplified.df', 'wb') as outfile:\n",
    "    pickle.dump(df_simplified, outfile)"
   ]
  },
  {
   "cell_type": "code",
   "execution_count": 2,
   "metadata": {},
   "outputs": [],
   "source": [
    "def display(file, n=75):    \n",
    "    with open(file,'rb') as infile:\n",
    "        df = pickle.load(infile)\n",
    "    fig = px.line_mapbox(df[df[\"route_num\"]<n], lat=\"lat\", lon=\"lon\", line_group=\"route_num\", zoom=11)\n",
    "    fig.show()"
   ]
  },
  {
   "cell_type": "code",
   "execution_count": 5,
   "metadata": {},
   "outputs": [],
   "source": [
    "from sklearn.cluster import DBSCAN\n",
    "def dbscan_clustering(df):\n",
    "    X = df[[\"lon\", \"lat\"]].values\n",
    "    clustering = DBSCAN(eps=0.1,min_samples=2).fit(X)\n",
    "    return clustering.labels_\n",
    "    "
   ]
  },
  {
   "cell_type": "code",
   "execution_count": 10,
   "metadata": {},
   "outputs": [],
   "source": [
    "with open(\"gpx.df\",'rb') as infile:\n",
    "    df = pickle.load(infile)\n",
    "clusters = dbscan_clustering(df[df[\"route_num\"]<5])"
   ]
  },
  {
   "cell_type": "code",
   "execution_count": 5,
   "metadata": {},
   "outputs": [
    {
     "data": {
      "application/vnd.plotly.v1+json": {
       "config": {
        "plotlyServerURL": "https://plot.ly"
       },
       "data": [
        {
         "hoverlabel": {
          "namelength": 0
         },
         "hovertemplate": "route_num=1<br>lat=%{lat}<br>lon=%{lon}",
         "lat": [
          45.7597379,
          45.7594543,
          45.75876832,
          45.75807992,
          45.75672044,
          45.75490154,
          45.75487488,
          45.75438988,
          45.75276134,
          45.75101162,
          45.75081634,
          45.75039882,
          45.75035424,
          45.74903047,
          45.74719221,
          45.74502268,
          45.74296191,
          45.74143137,
          45.73917602,
          45.73706151,
          45.73502972,
          45.7345798,
          45.72093785,
          45.71977639,
          45.7183188,
          45.71173528,
          45.70800263,
          45.70688691,
          45.70689246,
          45.70654918,
          45.70613218,
          45.70543845,
          45.70300388,
          45.70229707,
          45.70212037,
          45.70171149,
          45.70297177,
          45.70331486,
          45.70448637,
          45.70491583,
          45.70564567,
          45.70455069,
          45.70374964,
          45.70332643,
          45.7032535,
          45.70356367
         ],
         "legendgroup": "",
         "line": {
          "color": "#636efa"
         },
         "lon": [
          4.87564968,
          4.87562544,
          4.87633725,
          4.87662766,
          4.87622178,
          4.87596118,
          4.87512089,
          4.87341389,
          4.86970291,
          4.87295691,
          4.87365467,
          4.87390946,
          4.87374888,
          4.87321552,
          4.87198515,
          4.87098524,
          4.86975812,
          4.86862736,
          4.86650606,
          4.86510099,
          4.86345003,
          4.8633533,
          4.87386039,
          4.87489447,
          4.87586047,
          4.88113473,
          4.88690401,
          4.88736774,
          4.88777587,
          4.88787811,
          4.88887657,
          4.88902773,
          4.8951566,
          4.89619978,
          4.89726056,
          4.89835119,
          4.89945834,
          4.89900966,
          4.90010707,
          4.89980376,
          4.900549,
          4.9024579,
          4.90158739,
          4.90199092,
          4.90184727,
          4.901477
         ],
         "mode": "lines",
         "name": "",
         "showlegend": false,
         "subplot": "mapbox",
         "type": "scattermapbox"
        },
        {
         "hoverlabel": {
          "namelength": 0
         },
         "hovertemplate": "route_num=2<br>lat=%{lat}<br>lon=%{lon}",
         "lat": [
          45.7230953,
          45.72382033,
          45.72583608,
          45.72630913,
          45.72623379,
          45.72687459,
          45.72752489,
          45.72949354,
          45.729689,
          45.73195256,
          45.73282947,
          45.7335897,
          45.73506583,
          45.73574677,
          45.73643711,
          45.73659903,
          45.7366749,
          45.73694775,
          45.73738502,
          45.73776569,
          45.74096835,
          45.7406203,
          45.74119348,
          45.74133871,
          45.74206439,
          45.7425789,
          45.74309047,
          45.74309398,
          45.74319773,
          45.7433009,
          45.74393003,
          45.7440699,
          45.74447857,
          45.74477346,
          45.7448999,
          45.74511895,
          45.74532954,
          45.74546046,
          45.74580347,
          45.74698356,
          45.7473684,
          45.74775027,
          45.74884758,
          45.74929317,
          45.74955984,
          45.74982993,
          45.7500733,
          45.75078643,
          45.75081999,
          45.75118444,
          45.7511554,
          45.75133754,
          45.75160773,
          45.7509313,
          45.75177694,
          45.75218921,
          45.7516919,
          45.75301496,
          45.75346246,
          45.75401461,
          45.7540859,
          45.7535452,
          45.75418975,
          45.75475577,
          45.75510126,
          45.7556144,
          45.7547489,
          45.75595721,
          45.75583923,
          45.75779576,
          45.75849243,
          45.75943892,
          45.75966824,
          45.75980814,
          45.76205217,
          45.76275823,
          45.76342942,
          45.76353364,
          45.76375649,
          45.76382654,
          45.76466509,
          45.76500485,
          45.76510847,
          45.76516963,
          45.76511078,
          45.76588897,
          45.76771331,
          45.76801211,
          45.76865203,
          45.768757,
          45.76877931,
          45.76943536,
          45.76997534,
          45.77029001,
          45.77051062,
          45.77198674,
          45.77205486,
          45.77199885,
          45.7722979,
          45.7721971,
          45.772315,
          45.7723043
         ],
         "legendgroup": "",
         "line": {
          "color": "#636efa"
         },
         "lon": [
          4.8939493,
          4.89287008,
          4.8875351,
          4.88691166,
          4.8865893,
          4.88559149,
          4.88413025,
          4.87904356,
          4.87901033,
          4.8758138,
          4.87493762,
          4.87369338,
          4.87396333,
          4.87387318,
          4.87398977,
          4.87387058,
          4.87400069,
          4.87388134,
          4.87404439,
          4.87393082,
          4.87419431,
          4.8741872,
          4.8740932,
          4.87383561,
          4.87417754,
          4.87409188,
          4.87415062,
          4.87426185,
          4.8741574,
          4.8742931,
          4.87426365,
          4.8744644,
          4.87442477,
          4.87483314,
          4.87471664,
          4.87493838,
          4.87496728,
          4.87481096,
          4.87502279,
          4.87495517,
          4.87521885,
          4.87515932,
          4.87550595,
          4.87540259,
          4.87555386,
          4.8754239,
          4.8757029,
          4.87599317,
          4.87576891,
          4.87639651,
          4.8761946,
          4.87614297,
          4.87647067,
          4.8761732,
          4.87656032,
          4.8764943,
          4.8765191,
          4.87679628,
          4.87670228,
          4.87727436,
          4.87713526,
          4.8769072,
          4.87722946,
          4.87708904,
          4.8772923,
          4.87694285,
          4.877154,
          4.8768852,
          4.87618215,
          4.87654765,
          4.87649453,
          4.87574669,
          4.87581097,
          4.87550256,
          4.87396757,
          4.87407823,
          4.87386188,
          4.87408234,
          4.87399586,
          4.87418135,
          4.87391713,
          4.87401476,
          4.87384614,
          4.8740217,
          4.87385169,
          4.87399196,
          4.87377494,
          4.87392461,
          4.87367573,
          4.8738164,
          4.87364705,
          4.87374894,
          4.8736403,
          4.87338278,
          4.87368942,
          4.87364442,
          4.87333746,
          4.87365951,
          4.8737504,
          4.8737274,
          4.8736376,
          4.8737455
         ],
         "mode": "lines",
         "name": "",
         "showlegend": false,
         "subplot": "mapbox",
         "type": "scattermapbox"
        }
       ],
       "layout": {
        "height": 600,
        "legend": {
         "tracegroupgap": 0
        },
        "mapbox": {
         "accesstoken": "pk.eyJ1IjoibG1hZ25hbmEiLCJhIjoiY2s2N3hmNzgwMGNnODNqcGJ1N2l2ZXZpdiJ9.-aOxDLM8KbEQnJfXegtl7A",
         "center": {
          "lat": 45.74357312675674,
          "lon": 4.878055444121624
         },
         "domain": {
          "x": [
           0,
           1
          ],
          "y": [
           0,
           1
          ]
         },
         "zoom": 11
        },
        "margin": {
         "t": 60
        },
        "template": {
         "data": {
          "bar": [
           {
            "error_x": {
             "color": "#2a3f5f"
            },
            "error_y": {
             "color": "#2a3f5f"
            },
            "marker": {
             "line": {
              "color": "#E5ECF6",
              "width": 0.5
             }
            },
            "type": "bar"
           }
          ],
          "barpolar": [
           {
            "marker": {
             "line": {
              "color": "#E5ECF6",
              "width": 0.5
             }
            },
            "type": "barpolar"
           }
          ],
          "carpet": [
           {
            "aaxis": {
             "endlinecolor": "#2a3f5f",
             "gridcolor": "white",
             "linecolor": "white",
             "minorgridcolor": "white",
             "startlinecolor": "#2a3f5f"
            },
            "baxis": {
             "endlinecolor": "#2a3f5f",
             "gridcolor": "white",
             "linecolor": "white",
             "minorgridcolor": "white",
             "startlinecolor": "#2a3f5f"
            },
            "type": "carpet"
           }
          ],
          "choropleth": [
           {
            "colorbar": {
             "outlinewidth": 0,
             "ticks": ""
            },
            "type": "choropleth"
           }
          ],
          "contour": [
           {
            "colorbar": {
             "outlinewidth": 0,
             "ticks": ""
            },
            "colorscale": [
             [
              0,
              "#0d0887"
             ],
             [
              0.1111111111111111,
              "#46039f"
             ],
             [
              0.2222222222222222,
              "#7201a8"
             ],
             [
              0.3333333333333333,
              "#9c179e"
             ],
             [
              0.4444444444444444,
              "#bd3786"
             ],
             [
              0.5555555555555556,
              "#d8576b"
             ],
             [
              0.6666666666666666,
              "#ed7953"
             ],
             [
              0.7777777777777778,
              "#fb9f3a"
             ],
             [
              0.8888888888888888,
              "#fdca26"
             ],
             [
              1,
              "#f0f921"
             ]
            ],
            "type": "contour"
           }
          ],
          "contourcarpet": [
           {
            "colorbar": {
             "outlinewidth": 0,
             "ticks": ""
            },
            "type": "contourcarpet"
           }
          ],
          "heatmap": [
           {
            "colorbar": {
             "outlinewidth": 0,
             "ticks": ""
            },
            "colorscale": [
             [
              0,
              "#0d0887"
             ],
             [
              0.1111111111111111,
              "#46039f"
             ],
             [
              0.2222222222222222,
              "#7201a8"
             ],
             [
              0.3333333333333333,
              "#9c179e"
             ],
             [
              0.4444444444444444,
              "#bd3786"
             ],
             [
              0.5555555555555556,
              "#d8576b"
             ],
             [
              0.6666666666666666,
              "#ed7953"
             ],
             [
              0.7777777777777778,
              "#fb9f3a"
             ],
             [
              0.8888888888888888,
              "#fdca26"
             ],
             [
              1,
              "#f0f921"
             ]
            ],
            "type": "heatmap"
           }
          ],
          "heatmapgl": [
           {
            "colorbar": {
             "outlinewidth": 0,
             "ticks": ""
            },
            "colorscale": [
             [
              0,
              "#0d0887"
             ],
             [
              0.1111111111111111,
              "#46039f"
             ],
             [
              0.2222222222222222,
              "#7201a8"
             ],
             [
              0.3333333333333333,
              "#9c179e"
             ],
             [
              0.4444444444444444,
              "#bd3786"
             ],
             [
              0.5555555555555556,
              "#d8576b"
             ],
             [
              0.6666666666666666,
              "#ed7953"
             ],
             [
              0.7777777777777778,
              "#fb9f3a"
             ],
             [
              0.8888888888888888,
              "#fdca26"
             ],
             [
              1,
              "#f0f921"
             ]
            ],
            "type": "heatmapgl"
           }
          ],
          "histogram": [
           {
            "marker": {
             "colorbar": {
              "outlinewidth": 0,
              "ticks": ""
             }
            },
            "type": "histogram"
           }
          ],
          "histogram2d": [
           {
            "colorbar": {
             "outlinewidth": 0,
             "ticks": ""
            },
            "colorscale": [
             [
              0,
              "#0d0887"
             ],
             [
              0.1111111111111111,
              "#46039f"
             ],
             [
              0.2222222222222222,
              "#7201a8"
             ],
             [
              0.3333333333333333,
              "#9c179e"
             ],
             [
              0.4444444444444444,
              "#bd3786"
             ],
             [
              0.5555555555555556,
              "#d8576b"
             ],
             [
              0.6666666666666666,
              "#ed7953"
             ],
             [
              0.7777777777777778,
              "#fb9f3a"
             ],
             [
              0.8888888888888888,
              "#fdca26"
             ],
             [
              1,
              "#f0f921"
             ]
            ],
            "type": "histogram2d"
           }
          ],
          "histogram2dcontour": [
           {
            "colorbar": {
             "outlinewidth": 0,
             "ticks": ""
            },
            "colorscale": [
             [
              0,
              "#0d0887"
             ],
             [
              0.1111111111111111,
              "#46039f"
             ],
             [
              0.2222222222222222,
              "#7201a8"
             ],
             [
              0.3333333333333333,
              "#9c179e"
             ],
             [
              0.4444444444444444,
              "#bd3786"
             ],
             [
              0.5555555555555556,
              "#d8576b"
             ],
             [
              0.6666666666666666,
              "#ed7953"
             ],
             [
              0.7777777777777778,
              "#fb9f3a"
             ],
             [
              0.8888888888888888,
              "#fdca26"
             ],
             [
              1,
              "#f0f921"
             ]
            ],
            "type": "histogram2dcontour"
           }
          ],
          "mesh3d": [
           {
            "colorbar": {
             "outlinewidth": 0,
             "ticks": ""
            },
            "type": "mesh3d"
           }
          ],
          "parcoords": [
           {
            "line": {
             "colorbar": {
              "outlinewidth": 0,
              "ticks": ""
             }
            },
            "type": "parcoords"
           }
          ],
          "pie": [
           {
            "automargin": true,
            "type": "pie"
           }
          ],
          "scatter": [
           {
            "marker": {
             "colorbar": {
              "outlinewidth": 0,
              "ticks": ""
             }
            },
            "type": "scatter"
           }
          ],
          "scatter3d": [
           {
            "line": {
             "colorbar": {
              "outlinewidth": 0,
              "ticks": ""
             }
            },
            "marker": {
             "colorbar": {
              "outlinewidth": 0,
              "ticks": ""
             }
            },
            "type": "scatter3d"
           }
          ],
          "scattercarpet": [
           {
            "marker": {
             "colorbar": {
              "outlinewidth": 0,
              "ticks": ""
             }
            },
            "type": "scattercarpet"
           }
          ],
          "scattergeo": [
           {
            "marker": {
             "colorbar": {
              "outlinewidth": 0,
              "ticks": ""
             }
            },
            "type": "scattergeo"
           }
          ],
          "scattergl": [
           {
            "marker": {
             "colorbar": {
              "outlinewidth": 0,
              "ticks": ""
             }
            },
            "type": "scattergl"
           }
          ],
          "scattermapbox": [
           {
            "marker": {
             "colorbar": {
              "outlinewidth": 0,
              "ticks": ""
             }
            },
            "type": "scattermapbox"
           }
          ],
          "scatterpolar": [
           {
            "marker": {
             "colorbar": {
              "outlinewidth": 0,
              "ticks": ""
             }
            },
            "type": "scatterpolar"
           }
          ],
          "scatterpolargl": [
           {
            "marker": {
             "colorbar": {
              "outlinewidth": 0,
              "ticks": ""
             }
            },
            "type": "scatterpolargl"
           }
          ],
          "scatterternary": [
           {
            "marker": {
             "colorbar": {
              "outlinewidth": 0,
              "ticks": ""
             }
            },
            "type": "scatterternary"
           }
          ],
          "surface": [
           {
            "colorbar": {
             "outlinewidth": 0,
             "ticks": ""
            },
            "colorscale": [
             [
              0,
              "#0d0887"
             ],
             [
              0.1111111111111111,
              "#46039f"
             ],
             [
              0.2222222222222222,
              "#7201a8"
             ],
             [
              0.3333333333333333,
              "#9c179e"
             ],
             [
              0.4444444444444444,
              "#bd3786"
             ],
             [
              0.5555555555555556,
              "#d8576b"
             ],
             [
              0.6666666666666666,
              "#ed7953"
             ],
             [
              0.7777777777777778,
              "#fb9f3a"
             ],
             [
              0.8888888888888888,
              "#fdca26"
             ],
             [
              1,
              "#f0f921"
             ]
            ],
            "type": "surface"
           }
          ],
          "table": [
           {
            "cells": {
             "fill": {
              "color": "#EBF0F8"
             },
             "line": {
              "color": "white"
             }
            },
            "header": {
             "fill": {
              "color": "#C8D4E3"
             },
             "line": {
              "color": "white"
             }
            },
            "type": "table"
           }
          ]
         },
         "layout": {
          "annotationdefaults": {
           "arrowcolor": "#2a3f5f",
           "arrowhead": 0,
           "arrowwidth": 1
          },
          "coloraxis": {
           "colorbar": {
            "outlinewidth": 0,
            "ticks": ""
           }
          },
          "colorscale": {
           "diverging": [
            [
             0,
             "#8e0152"
            ],
            [
             0.1,
             "#c51b7d"
            ],
            [
             0.2,
             "#de77ae"
            ],
            [
             0.3,
             "#f1b6da"
            ],
            [
             0.4,
             "#fde0ef"
            ],
            [
             0.5,
             "#f7f7f7"
            ],
            [
             0.6,
             "#e6f5d0"
            ],
            [
             0.7,
             "#b8e186"
            ],
            [
             0.8,
             "#7fbc41"
            ],
            [
             0.9,
             "#4d9221"
            ],
            [
             1,
             "#276419"
            ]
           ],
           "sequential": [
            [
             0,
             "#0d0887"
            ],
            [
             0.1111111111111111,
             "#46039f"
            ],
            [
             0.2222222222222222,
             "#7201a8"
            ],
            [
             0.3333333333333333,
             "#9c179e"
            ],
            [
             0.4444444444444444,
             "#bd3786"
            ],
            [
             0.5555555555555556,
             "#d8576b"
            ],
            [
             0.6666666666666666,
             "#ed7953"
            ],
            [
             0.7777777777777778,
             "#fb9f3a"
            ],
            [
             0.8888888888888888,
             "#fdca26"
            ],
            [
             1,
             "#f0f921"
            ]
           ],
           "sequentialminus": [
            [
             0,
             "#0d0887"
            ],
            [
             0.1111111111111111,
             "#46039f"
            ],
            [
             0.2222222222222222,
             "#7201a8"
            ],
            [
             0.3333333333333333,
             "#9c179e"
            ],
            [
             0.4444444444444444,
             "#bd3786"
            ],
            [
             0.5555555555555556,
             "#d8576b"
            ],
            [
             0.6666666666666666,
             "#ed7953"
            ],
            [
             0.7777777777777778,
             "#fb9f3a"
            ],
            [
             0.8888888888888888,
             "#fdca26"
            ],
            [
             1,
             "#f0f921"
            ]
           ]
          },
          "colorway": [
           "#636efa",
           "#EF553B",
           "#00cc96",
           "#ab63fa",
           "#FFA15A",
           "#19d3f3",
           "#FF6692",
           "#B6E880",
           "#FF97FF",
           "#FECB52"
          ],
          "font": {
           "color": "#2a3f5f"
          },
          "geo": {
           "bgcolor": "white",
           "lakecolor": "white",
           "landcolor": "#E5ECF6",
           "showlakes": true,
           "showland": true,
           "subunitcolor": "white"
          },
          "hoverlabel": {
           "align": "left"
          },
          "hovermode": "closest",
          "mapbox": {
           "style": "light"
          },
          "paper_bgcolor": "white",
          "plot_bgcolor": "#E5ECF6",
          "polar": {
           "angularaxis": {
            "gridcolor": "white",
            "linecolor": "white",
            "ticks": ""
           },
           "bgcolor": "#E5ECF6",
           "radialaxis": {
            "gridcolor": "white",
            "linecolor": "white",
            "ticks": ""
           }
          },
          "scene": {
           "xaxis": {
            "backgroundcolor": "#E5ECF6",
            "gridcolor": "white",
            "gridwidth": 2,
            "linecolor": "white",
            "showbackground": true,
            "ticks": "",
            "zerolinecolor": "white"
           },
           "yaxis": {
            "backgroundcolor": "#E5ECF6",
            "gridcolor": "white",
            "gridwidth": 2,
            "linecolor": "white",
            "showbackground": true,
            "ticks": "",
            "zerolinecolor": "white"
           },
           "zaxis": {
            "backgroundcolor": "#E5ECF6",
            "gridcolor": "white",
            "gridwidth": 2,
            "linecolor": "white",
            "showbackground": true,
            "ticks": "",
            "zerolinecolor": "white"
           }
          },
          "shapedefaults": {
           "line": {
            "color": "#2a3f5f"
           }
          },
          "ternary": {
           "aaxis": {
            "gridcolor": "white",
            "linecolor": "white",
            "ticks": ""
           },
           "baxis": {
            "gridcolor": "white",
            "linecolor": "white",
            "ticks": ""
           },
           "bgcolor": "#E5ECF6",
           "caxis": {
            "gridcolor": "white",
            "linecolor": "white",
            "ticks": ""
           }
          },
          "title": {
           "x": 0.05
          },
          "xaxis": {
           "automargin": true,
           "gridcolor": "white",
           "linecolor": "white",
           "ticks": "",
           "title": {
            "standoff": 15
           },
           "zerolinecolor": "white",
           "zerolinewidth": 2
          },
          "yaxis": {
           "automargin": true,
           "gridcolor": "white",
           "linecolor": "white",
           "ticks": "",
           "title": {
            "standoff": 15
           },
           "zerolinecolor": "white",
           "zerolinewidth": 2
          }
         }
        }
       }
      },
      "text/html": [
       "<div>\n",
       "        \n",
       "        \n",
       "            <div id=\"5e1b25b8-5c35-4c29-ab51-ffd9d67b3b91\" class=\"plotly-graph-div\" style=\"height:600px; width:100%;\"></div>\n",
       "            <script type=\"text/javascript\">\n",
       "                require([\"plotly\"], function(Plotly) {\n",
       "                    window.PLOTLYENV=window.PLOTLYENV || {};\n",
       "                    \n",
       "                if (document.getElementById(\"5e1b25b8-5c35-4c29-ab51-ffd9d67b3b91\")) {\n",
       "                    Plotly.newPlot(\n",
       "                        '5e1b25b8-5c35-4c29-ab51-ffd9d67b3b91',\n",
       "                        [{\"hoverlabel\": {\"namelength\": 0}, \"hovertemplate\": \"route_num=1<br>lat=%{lat}<br>lon=%{lon}\", \"lat\": [45.7597379, 45.7594543, 45.75876832, 45.75807992, 45.75672044, 45.75490154, 45.75487488, 45.75438988, 45.75276134, 45.75101162, 45.75081634, 45.75039882, 45.75035424, 45.74903047, 45.74719221, 45.74502268, 45.74296191, 45.74143137, 45.73917602, 45.73706151, 45.73502972, 45.7345798, 45.72093785, 45.71977639, 45.7183188, 45.71173528, 45.70800263, 45.70688691, 45.70689246, 45.70654918, 45.70613218, 45.70543845, 45.70300388, 45.70229707, 45.70212037, 45.70171149, 45.70297177, 45.70331486, 45.70448637, 45.70491583, 45.70564567, 45.70455069, 45.70374964, 45.70332643, 45.7032535, 45.70356367], \"legendgroup\": \"\", \"line\": {\"color\": \"#636efa\"}, \"lon\": [4.87564968, 4.87562544, 4.87633725, 4.87662766, 4.87622178, 4.87596118, 4.87512089, 4.87341389, 4.86970291, 4.87295691, 4.87365467, 4.87390946, 4.87374888, 4.87321552, 4.87198515, 4.87098524, 4.86975812, 4.86862736, 4.86650606, 4.86510099, 4.86345003, 4.8633533, 4.87386039, 4.87489447, 4.87586047, 4.88113473, 4.88690401, 4.88736774, 4.88777587, 4.88787811, 4.88887657, 4.88902773, 4.8951566, 4.89619978, 4.89726056, 4.89835119, 4.89945834, 4.89900966, 4.90010707, 4.89980376, 4.900549, 4.9024579, 4.90158739, 4.90199092, 4.90184727, 4.901477], \"mode\": \"lines\", \"name\": \"\", \"showlegend\": false, \"subplot\": \"mapbox\", \"type\": \"scattermapbox\"}, {\"hoverlabel\": {\"namelength\": 0}, \"hovertemplate\": \"route_num=2<br>lat=%{lat}<br>lon=%{lon}\", \"lat\": [45.7230953, 45.72382033, 45.72583608, 45.72630913, 45.72623379, 45.72687459, 45.72752489, 45.72949354, 45.729689, 45.73195256, 45.73282947, 45.7335897, 45.73506583, 45.73574677, 45.73643711, 45.73659903, 45.7366749, 45.73694775, 45.73738502, 45.73776569, 45.74096835, 45.7406203, 45.74119348, 45.74133871, 45.74206439, 45.7425789, 45.74309047, 45.74309398, 45.74319773, 45.7433009, 45.74393003, 45.7440699, 45.74447857, 45.74477346, 45.7448999, 45.74511895, 45.74532954, 45.74546046, 45.74580347, 45.74698356, 45.7473684, 45.74775027, 45.74884758, 45.74929317, 45.74955984, 45.74982993, 45.7500733, 45.75078643, 45.75081999, 45.75118444, 45.7511554, 45.75133754, 45.75160773, 45.7509313, 45.75177694, 45.75218921, 45.7516919, 45.75301496, 45.75346246, 45.75401461, 45.7540859, 45.7535452, 45.75418975, 45.75475577, 45.75510126, 45.7556144, 45.7547489, 45.75595721, 45.75583923, 45.75779576, 45.75849243, 45.75943892, 45.75966824, 45.75980814, 45.76205217, 45.76275823, 45.76342942, 45.76353364, 45.76375649, 45.76382654, 45.76466509, 45.76500485, 45.76510847, 45.76516963, 45.76511078, 45.76588897, 45.76771331, 45.76801211, 45.76865203, 45.768757, 45.76877931, 45.76943536, 45.76997534, 45.77029001, 45.77051062, 45.77198674, 45.77205486, 45.77199885, 45.7722979, 45.7721971, 45.772315, 45.7723043], \"legendgroup\": \"\", \"line\": {\"color\": \"#636efa\"}, \"lon\": [4.8939493, 4.89287008, 4.8875351, 4.88691166, 4.8865893, 4.88559149, 4.88413025, 4.87904356, 4.87901033, 4.8758138, 4.87493762, 4.87369338, 4.87396333, 4.87387318, 4.87398977, 4.87387058, 4.87400069, 4.87388134, 4.87404439, 4.87393082, 4.87419431, 4.8741872, 4.8740932, 4.87383561, 4.87417754, 4.87409188, 4.87415062, 4.87426185, 4.8741574, 4.8742931, 4.87426365, 4.8744644, 4.87442477, 4.87483314, 4.87471664, 4.87493838, 4.87496728, 4.87481096, 4.87502279, 4.87495517, 4.87521885, 4.87515932, 4.87550595, 4.87540259, 4.87555386, 4.8754239, 4.8757029, 4.87599317, 4.87576891, 4.87639651, 4.8761946, 4.87614297, 4.87647067, 4.8761732, 4.87656032, 4.8764943, 4.8765191, 4.87679628, 4.87670228, 4.87727436, 4.87713526, 4.8769072, 4.87722946, 4.87708904, 4.8772923, 4.87694285, 4.877154, 4.8768852, 4.87618215, 4.87654765, 4.87649453, 4.87574669, 4.87581097, 4.87550256, 4.87396757, 4.87407823, 4.87386188, 4.87408234, 4.87399586, 4.87418135, 4.87391713, 4.87401476, 4.87384614, 4.8740217, 4.87385169, 4.87399196, 4.87377494, 4.87392461, 4.87367573, 4.8738164, 4.87364705, 4.87374894, 4.8736403, 4.87338278, 4.87368942, 4.87364442, 4.87333746, 4.87365951, 4.8737504, 4.8737274, 4.8736376, 4.8737455], \"mode\": \"lines\", \"name\": \"\", \"showlegend\": false, \"subplot\": \"mapbox\", \"type\": \"scattermapbox\"}],\n",
       "                        {\"height\": 600, \"legend\": {\"tracegroupgap\": 0}, \"mapbox\": {\"accesstoken\": \"pk.eyJ1IjoibG1hZ25hbmEiLCJhIjoiY2s2N3hmNzgwMGNnODNqcGJ1N2l2ZXZpdiJ9.-aOxDLM8KbEQnJfXegtl7A\", \"center\": {\"lat\": 45.74357312675674, \"lon\": 4.878055444121624}, \"domain\": {\"x\": [0.0, 1.0], \"y\": [0.0, 1.0]}, \"zoom\": 11}, \"margin\": {\"t\": 60}, \"template\": {\"data\": {\"bar\": [{\"error_x\": {\"color\": \"#2a3f5f\"}, \"error_y\": {\"color\": \"#2a3f5f\"}, \"marker\": {\"line\": {\"color\": \"#E5ECF6\", \"width\": 0.5}}, \"type\": \"bar\"}], \"barpolar\": [{\"marker\": {\"line\": {\"color\": \"#E5ECF6\", \"width\": 0.5}}, \"type\": \"barpolar\"}], \"carpet\": [{\"aaxis\": {\"endlinecolor\": \"#2a3f5f\", \"gridcolor\": \"white\", \"linecolor\": \"white\", \"minorgridcolor\": \"white\", \"startlinecolor\": \"#2a3f5f\"}, \"baxis\": {\"endlinecolor\": \"#2a3f5f\", \"gridcolor\": \"white\", \"linecolor\": \"white\", \"minorgridcolor\": \"white\", \"startlinecolor\": \"#2a3f5f\"}, \"type\": \"carpet\"}], \"choropleth\": [{\"colorbar\": {\"outlinewidth\": 0, \"ticks\": \"\"}, \"type\": \"choropleth\"}], \"contour\": [{\"colorbar\": {\"outlinewidth\": 0, \"ticks\": \"\"}, \"colorscale\": [[0.0, \"#0d0887\"], [0.1111111111111111, \"#46039f\"], [0.2222222222222222, \"#7201a8\"], [0.3333333333333333, \"#9c179e\"], [0.4444444444444444, \"#bd3786\"], [0.5555555555555556, \"#d8576b\"], [0.6666666666666666, \"#ed7953\"], [0.7777777777777778, \"#fb9f3a\"], [0.8888888888888888, \"#fdca26\"], [1.0, \"#f0f921\"]], \"type\": \"contour\"}], \"contourcarpet\": [{\"colorbar\": {\"outlinewidth\": 0, \"ticks\": \"\"}, \"type\": \"contourcarpet\"}], \"heatmap\": [{\"colorbar\": {\"outlinewidth\": 0, \"ticks\": \"\"}, \"colorscale\": [[0.0, \"#0d0887\"], [0.1111111111111111, \"#46039f\"], [0.2222222222222222, \"#7201a8\"], [0.3333333333333333, \"#9c179e\"], [0.4444444444444444, \"#bd3786\"], [0.5555555555555556, \"#d8576b\"], [0.6666666666666666, \"#ed7953\"], [0.7777777777777778, \"#fb9f3a\"], [0.8888888888888888, \"#fdca26\"], [1.0, \"#f0f921\"]], \"type\": \"heatmap\"}], \"heatmapgl\": [{\"colorbar\": {\"outlinewidth\": 0, \"ticks\": \"\"}, \"colorscale\": [[0.0, \"#0d0887\"], [0.1111111111111111, \"#46039f\"], [0.2222222222222222, \"#7201a8\"], [0.3333333333333333, \"#9c179e\"], [0.4444444444444444, \"#bd3786\"], [0.5555555555555556, \"#d8576b\"], [0.6666666666666666, \"#ed7953\"], [0.7777777777777778, \"#fb9f3a\"], [0.8888888888888888, \"#fdca26\"], [1.0, \"#f0f921\"]], \"type\": \"heatmapgl\"}], \"histogram\": [{\"marker\": {\"colorbar\": {\"outlinewidth\": 0, \"ticks\": \"\"}}, \"type\": \"histogram\"}], \"histogram2d\": [{\"colorbar\": {\"outlinewidth\": 0, \"ticks\": \"\"}, \"colorscale\": [[0.0, \"#0d0887\"], [0.1111111111111111, \"#46039f\"], [0.2222222222222222, \"#7201a8\"], [0.3333333333333333, \"#9c179e\"], [0.4444444444444444, \"#bd3786\"], [0.5555555555555556, \"#d8576b\"], [0.6666666666666666, \"#ed7953\"], [0.7777777777777778, \"#fb9f3a\"], [0.8888888888888888, \"#fdca26\"], [1.0, \"#f0f921\"]], \"type\": \"histogram2d\"}], \"histogram2dcontour\": [{\"colorbar\": {\"outlinewidth\": 0, \"ticks\": \"\"}, \"colorscale\": [[0.0, \"#0d0887\"], [0.1111111111111111, \"#46039f\"], [0.2222222222222222, \"#7201a8\"], [0.3333333333333333, \"#9c179e\"], [0.4444444444444444, \"#bd3786\"], [0.5555555555555556, \"#d8576b\"], [0.6666666666666666, \"#ed7953\"], [0.7777777777777778, \"#fb9f3a\"], [0.8888888888888888, \"#fdca26\"], [1.0, \"#f0f921\"]], \"type\": \"histogram2dcontour\"}], \"mesh3d\": [{\"colorbar\": {\"outlinewidth\": 0, \"ticks\": \"\"}, \"type\": \"mesh3d\"}], \"parcoords\": [{\"line\": {\"colorbar\": {\"outlinewidth\": 0, \"ticks\": \"\"}}, \"type\": \"parcoords\"}], \"pie\": [{\"automargin\": true, \"type\": \"pie\"}], \"scatter\": [{\"marker\": {\"colorbar\": {\"outlinewidth\": 0, \"ticks\": \"\"}}, \"type\": \"scatter\"}], \"scatter3d\": [{\"line\": {\"colorbar\": {\"outlinewidth\": 0, \"ticks\": \"\"}}, \"marker\": {\"colorbar\": {\"outlinewidth\": 0, \"ticks\": \"\"}}, \"type\": \"scatter3d\"}], \"scattercarpet\": [{\"marker\": {\"colorbar\": {\"outlinewidth\": 0, \"ticks\": \"\"}}, \"type\": \"scattercarpet\"}], \"scattergeo\": [{\"marker\": {\"colorbar\": {\"outlinewidth\": 0, \"ticks\": \"\"}}, \"type\": \"scattergeo\"}], \"scattergl\": [{\"marker\": {\"colorbar\": {\"outlinewidth\": 0, \"ticks\": \"\"}}, \"type\": \"scattergl\"}], \"scattermapbox\": [{\"marker\": {\"colorbar\": {\"outlinewidth\": 0, \"ticks\": \"\"}}, \"type\": \"scattermapbox\"}], \"scatterpolar\": [{\"marker\": {\"colorbar\": {\"outlinewidth\": 0, \"ticks\": \"\"}}, \"type\": \"scatterpolar\"}], \"scatterpolargl\": [{\"marker\": {\"colorbar\": {\"outlinewidth\": 0, \"ticks\": \"\"}}, \"type\": \"scatterpolargl\"}], \"scatterternary\": [{\"marker\": {\"colorbar\": {\"outlinewidth\": 0, \"ticks\": \"\"}}, \"type\": \"scatterternary\"}], \"surface\": [{\"colorbar\": {\"outlinewidth\": 0, \"ticks\": \"\"}, \"colorscale\": [[0.0, \"#0d0887\"], [0.1111111111111111, \"#46039f\"], [0.2222222222222222, \"#7201a8\"], [0.3333333333333333, \"#9c179e\"], [0.4444444444444444, \"#bd3786\"], [0.5555555555555556, \"#d8576b\"], [0.6666666666666666, \"#ed7953\"], [0.7777777777777778, \"#fb9f3a\"], [0.8888888888888888, \"#fdca26\"], [1.0, \"#f0f921\"]], \"type\": \"surface\"}], \"table\": [{\"cells\": {\"fill\": {\"color\": \"#EBF0F8\"}, \"line\": {\"color\": \"white\"}}, \"header\": {\"fill\": {\"color\": \"#C8D4E3\"}, \"line\": {\"color\": \"white\"}}, \"type\": \"table\"}]}, \"layout\": {\"annotationdefaults\": {\"arrowcolor\": \"#2a3f5f\", \"arrowhead\": 0, \"arrowwidth\": 1}, \"coloraxis\": {\"colorbar\": {\"outlinewidth\": 0, \"ticks\": \"\"}}, \"colorscale\": {\"diverging\": [[0, \"#8e0152\"], [0.1, \"#c51b7d\"], [0.2, \"#de77ae\"], [0.3, \"#f1b6da\"], [0.4, \"#fde0ef\"], [0.5, \"#f7f7f7\"], [0.6, \"#e6f5d0\"], [0.7, \"#b8e186\"], [0.8, \"#7fbc41\"], [0.9, \"#4d9221\"], [1, \"#276419\"]], \"sequential\": [[0.0, \"#0d0887\"], [0.1111111111111111, \"#46039f\"], [0.2222222222222222, \"#7201a8\"], [0.3333333333333333, \"#9c179e\"], [0.4444444444444444, \"#bd3786\"], [0.5555555555555556, \"#d8576b\"], [0.6666666666666666, \"#ed7953\"], [0.7777777777777778, \"#fb9f3a\"], [0.8888888888888888, \"#fdca26\"], [1.0, \"#f0f921\"]], \"sequentialminus\": [[0.0, \"#0d0887\"], [0.1111111111111111, \"#46039f\"], [0.2222222222222222, \"#7201a8\"], [0.3333333333333333, \"#9c179e\"], [0.4444444444444444, \"#bd3786\"], [0.5555555555555556, \"#d8576b\"], [0.6666666666666666, \"#ed7953\"], [0.7777777777777778, \"#fb9f3a\"], [0.8888888888888888, \"#fdca26\"], [1.0, \"#f0f921\"]]}, \"colorway\": [\"#636efa\", \"#EF553B\", \"#00cc96\", \"#ab63fa\", \"#FFA15A\", \"#19d3f3\", \"#FF6692\", \"#B6E880\", \"#FF97FF\", \"#FECB52\"], \"font\": {\"color\": \"#2a3f5f\"}, \"geo\": {\"bgcolor\": \"white\", \"lakecolor\": \"white\", \"landcolor\": \"#E5ECF6\", \"showlakes\": true, \"showland\": true, \"subunitcolor\": \"white\"}, \"hoverlabel\": {\"align\": \"left\"}, \"hovermode\": \"closest\", \"mapbox\": {\"style\": \"light\"}, \"paper_bgcolor\": \"white\", \"plot_bgcolor\": \"#E5ECF6\", \"polar\": {\"angularaxis\": {\"gridcolor\": \"white\", \"linecolor\": \"white\", \"ticks\": \"\"}, \"bgcolor\": \"#E5ECF6\", \"radialaxis\": {\"gridcolor\": \"white\", \"linecolor\": \"white\", \"ticks\": \"\"}}, \"scene\": {\"xaxis\": {\"backgroundcolor\": \"#E5ECF6\", \"gridcolor\": \"white\", \"gridwidth\": 2, \"linecolor\": \"white\", \"showbackground\": true, \"ticks\": \"\", \"zerolinecolor\": \"white\"}, \"yaxis\": {\"backgroundcolor\": \"#E5ECF6\", \"gridcolor\": \"white\", \"gridwidth\": 2, \"linecolor\": \"white\", \"showbackground\": true, \"ticks\": \"\", \"zerolinecolor\": \"white\"}, \"zaxis\": {\"backgroundcolor\": \"#E5ECF6\", \"gridcolor\": \"white\", \"gridwidth\": 2, \"linecolor\": \"white\", \"showbackground\": true, \"ticks\": \"\", \"zerolinecolor\": \"white\"}}, \"shapedefaults\": {\"line\": {\"color\": \"#2a3f5f\"}}, \"ternary\": {\"aaxis\": {\"gridcolor\": \"white\", \"linecolor\": \"white\", \"ticks\": \"\"}, \"baxis\": {\"gridcolor\": \"white\", \"linecolor\": \"white\", \"ticks\": \"\"}, \"bgcolor\": \"#E5ECF6\", \"caxis\": {\"gridcolor\": \"white\", \"linecolor\": \"white\", \"ticks\": \"\"}}, \"title\": {\"x\": 0.05}, \"xaxis\": {\"automargin\": true, \"gridcolor\": \"white\", \"linecolor\": \"white\", \"ticks\": \"\", \"title\": {\"standoff\": 15}, \"zerolinecolor\": \"white\", \"zerolinewidth\": 2}, \"yaxis\": {\"automargin\": true, \"gridcolor\": \"white\", \"linecolor\": \"white\", \"ticks\": \"\", \"title\": {\"standoff\": 15}, \"zerolinecolor\": \"white\", \"zerolinewidth\": 2}}}},\n",
       "                        {\"responsive\": true}\n",
       "                    ).then(function(){\n",
       "                            \n",
       "var gd = document.getElementById('5e1b25b8-5c35-4c29-ab51-ffd9d67b3b91');\n",
       "var x = new MutationObserver(function (mutations, observer) {{\n",
       "        var display = window.getComputedStyle(gd).display;\n",
       "        if (!display || display === 'none') {{\n",
       "            console.log([gd, 'removed!']);\n",
       "            Plotly.purge(gd);\n",
       "            observer.disconnect();\n",
       "        }}\n",
       "}});\n",
       "\n",
       "// Listen for the removal of the full notebook cells\n",
       "var notebookContainer = gd.closest('#notebook-container');\n",
       "if (notebookContainer) {{\n",
       "    x.observe(notebookContainer, {childList: true});\n",
       "}}\n",
       "\n",
       "// Listen for the clearing of the current output cell\n",
       "var outputEl = gd.closest('.output');\n",
       "if (outputEl) {{\n",
       "    x.observe(outputEl, {childList: true});\n",
       "}}\n",
       "\n",
       "                        })\n",
       "                };\n",
       "                });\n",
       "            </script>\n",
       "        </div>"
      ]
     },
     "metadata": {},
     "output_type": "display_data"
    }
   ],
   "source": [
    "display(\"gpx_simplified.df\", 3)"
   ]
  }
 ],
 "metadata": {
  "kernelspec": {
   "display_name": "Python 3",
   "language": "python",
   "name": "python3"
  },
  "language_info": {
   "codemirror_mode": {
    "name": "ipython",
    "version": 3
   },
   "file_extension": ".py",
   "mimetype": "text/x-python",
   "name": "python",
   "nbconvert_exporter": "python",
   "pygments_lexer": "ipython3",
   "version": "3.7.3"
  }
 },
 "nbformat": 4,
 "nbformat_minor": 2
}
