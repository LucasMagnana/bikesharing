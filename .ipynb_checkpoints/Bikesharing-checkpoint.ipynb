{
 "cells": [
  {
   "cell_type": "code",
   "execution_count": 1,
   "metadata": {},
   "outputs": [],
   "source": [
    "import pandas as pd\n",
    "import requests\n",
    "import plotly.express as px\n",
    "import pickle\n",
    "token = \"pk.eyJ1IjoibG1hZ25hbmEiLCJhIjoiY2s2N3hmNzgwMGNnODNqcGJ1N2l2ZXZpdiJ9.-aOxDLM8KbEQnJfXegtl7A\""
   ]
  },
  {
   "cell_type": "markdown",
   "metadata": {},
   "source": [
    "Appel à l'API MapBox "
   ]
  },
  {
   "cell_type": "code",
   "execution_count": 8,
   "metadata": {},
   "outputs": [],
   "source": [
    "def request_route(lat1, long1, lat2, long2):\n",
    "    coord = str(long1)+\",\"+str(lat1)+\";\"+str(long2)+\",\"+str(lat2)\n",
    "    return requests.get(\"https://api.mapbox.com/directions/v5/mapbox/cycling/\"+coord, \n",
    "                            params={\"alternatives\": \"true\", \"geometries\": \"geojson\", \"steps\": \"true\", \"access_token\": token})\n",
    "    "
   ]
  },
  {
   "cell_type": "markdown",
   "metadata": {},
   "source": [
    "Remplissage du dictionaire :"
   ]
  },
  {
   "cell_type": "code",
   "execution_count": 18,
   "metadata": {},
   "outputs": [],
   "source": [
    "def fill_dict(file):\n",
    "    file_already_used = False\n",
    "    with open(\"files_done.txt\",'rb') as infile: #check if the file has already been used\n",
    "        files_done = pickle.load(infile)\n",
    "        for f in files_done:\n",
    "            if(f == file):\n",
    "                file_already_used = True\n",
    "                break\n",
    "                \n",
    "    with open(\"trips_washington.dict\",'rb') as infile:\n",
    "        dict_trips = pickle.load(infile)\n",
    "        \n",
    "    if(not(file_already_used)):\n",
    "        #Filling without mapbox's request\n",
    "        print(\"fucj\")\n",
    "        for index, row in trips.iterrows(): #for all trips \n",
    "            break\n",
    "            key = str(row[\"Start station number\"])+','+str(row[\"End station number\"])#keys are stations' number\n",
    "            if(key in dict_trips): #store the duration in dict_trips\n",
    "                dict_trips[key]['durations'].append(row['Duration'])\n",
    "                dict_trips[key]['number_of_trip']+=1\n",
    "            else:\n",
    "                dict_trips[key] = {'durations': [row['Duration']], 'routes': [], 'number_of_trip': 1}\n",
    "\n",
    "\n",
    "    trips = pd.read_csv(\"Datas/America/Washington/\"+file)\n",
    "    stations = pd.read_csv(\"Datas/America/Washington/Capital_Bike_Share_Locations.csv\")\n",
    "            \n",
    "    #Filling without mapbox's request\n",
    "    for key in dict_trips: #for all trips in dict_trips\n",
    "        if(dict_trips[key]['routes'] == []): #if there is no route for the trip\n",
    "            save_route = True\n",
    "            tab_stations = key.split(',')\n",
    "            st1 = stations[stations['TERMINAL_NUMBER']==int(tab_stations[0])] #find the position of the stations\n",
    "            st2 = stations[stations['TERMINAL_NUMBER']==int(tab_stations[1])]\n",
    "            if(len(st1)>0 and len(st2)>0): #if the stations' position have been found\n",
    "                lon1 = st1['LONGITUDE'].values[0]\n",
    "                lat1 = st1['LATITUDE'].values[0]\n",
    "                lon2 = st2['LONGITUDE'].values[0]\n",
    "                lat2 = st2['LATITUDE'].values[0]\n",
    "                req = request_route(lat1, lon1, lat2, lon2) #mapbox request to find a route between the stations\n",
    "                response = req.json()\n",
    "                if(response['code']=='Ok'): #if a route have been found\n",
    "                    steps = response['routes'][0]['legs'][0]['steps'] #we browse all the steps of the route\n",
    "                    for step in steps:\n",
    "                        if(step['maneuver']['instruction'].find(\"Wharf\") != -1):\n",
    "                            save_route = False #if the route is not good (using a boat) we don't save it\n",
    "                            break\n",
    "                    if(save_route): #if we save the route\n",
    "                        df_temp = pd.DataFrame.from_records(response['routes'][0]['geometry']['coordinates'], \n",
    "                                                   columns=['lon', 'lat']) #create a DF from the route (nparray)\n",
    "                        dict_trips[key]['routes'].append(df_temp) #save the DF in dict_trips\n",
    "                    else: #if we don't save we store an empty DF in dict_trips\n",
    "                        dict_trips[key]['routes'].append(pd.DataFrame(columns=['lon', 'lat', 'route_num']))\n",
    "                    with open('trips_washington.dict', 'wb') as outfile: #save dict_trips\n",
    "                        pickle.dump(dict_trips, outfile)\n",
    "                \n",
    "    with open('trips_washington.dict', 'wb') as outfile: #save dict_trips\n",
    "        pickle.dump(dict_trips, outfile)\n",
    "        \n",
    "    files_done.append(file) #append the used file to the list of used files\n",
    "    with open('files_done.txt', 'wb') as outfile: #save the used files list\n",
    "        pickle.dump(files_done, outfile)\n",
    "                \n",
    "                \n",
    "        "
   ]
  },
  {
   "cell_type": "code",
   "execution_count": null,
   "metadata": {},
   "outputs": [],
   "source": [
    "with open('files_done.txt', 'wb') as outfile:\n",
    "        pickle.dump([\"2012Q1-capitalbikeshare-tripdata.csv\"], outfile)\n",
    "\n",
    "fill_dict(\"2012Q1-capitalbikeshare-tripdata.csv\")"
   ]
  },
  {
   "cell_type": "code",
   "execution_count": 2,
   "metadata": {},
   "outputs": [
    {
     "data": {
      "text/html": [
       "<div>\n",
       "<style scoped>\n",
       "    .dataframe tbody tr th:only-of-type {\n",
       "        vertical-align: middle;\n",
       "    }\n",
       "\n",
       "    .dataframe tbody tr th {\n",
       "        vertical-align: top;\n",
       "    }\n",
       "\n",
       "    .dataframe thead th {\n",
       "        text-align: right;\n",
       "    }\n",
       "</style>\n",
       "<table border=\"1\" class=\"dataframe\">\n",
       "  <thead>\n",
       "    <tr style=\"text-align: right;\">\n",
       "      <th></th>\n",
       "      <th>lon</th>\n",
       "      <th>lat</th>\n",
       "      <th>route_num</th>\n",
       "    </tr>\n",
       "  </thead>\n",
       "  <tbody>\n",
       "    <tr>\n",
       "      <th>0</th>\n",
       "      <td>-77.022153</td>\n",
       "      <td>38.912606</td>\n",
       "      <td>0</td>\n",
       "    </tr>\n",
       "    <tr>\n",
       "      <th>1</th>\n",
       "      <td>-77.022433</td>\n",
       "      <td>38.912605</td>\n",
       "      <td>0</td>\n",
       "    </tr>\n",
       "    <tr>\n",
       "      <th>2</th>\n",
       "      <td>-77.022416</td>\n",
       "      <td>38.915570</td>\n",
       "      <td>0</td>\n",
       "    </tr>\n",
       "    <tr>\n",
       "      <th>3</th>\n",
       "      <td>-77.022200</td>\n",
       "      <td>38.915571</td>\n",
       "      <td>0</td>\n",
       "    </tr>\n",
       "    <tr>\n",
       "      <th>0</th>\n",
       "      <td>-77.024589</td>\n",
       "      <td>38.936016</td>\n",
       "      <td>1</td>\n",
       "    </tr>\n",
       "    <tr>\n",
       "      <th>...</th>\n",
       "      <td>...</td>\n",
       "      <td>...</td>\n",
       "      <td>...</td>\n",
       "    </tr>\n",
       "    <tr>\n",
       "      <th>17</th>\n",
       "      <td>-77.086733</td>\n",
       "      <td>38.936925</td>\n",
       "      <td>12099</td>\n",
       "    </tr>\n",
       "    <tr>\n",
       "      <th>18</th>\n",
       "      <td>-77.087483</td>\n",
       "      <td>38.937314</td>\n",
       "      <td>12099</td>\n",
       "    </tr>\n",
       "    <tr>\n",
       "      <th>19</th>\n",
       "      <td>-77.086900</td>\n",
       "      <td>38.938012</td>\n",
       "      <td>12099</td>\n",
       "    </tr>\n",
       "    <tr>\n",
       "      <th>20</th>\n",
       "      <td>-77.087411</td>\n",
       "      <td>38.938447</td>\n",
       "      <td>12099</td>\n",
       "    </tr>\n",
       "    <tr>\n",
       "      <th>21</th>\n",
       "      <td>-77.087182</td>\n",
       "      <td>38.938726</td>\n",
       "      <td>12099</td>\n",
       "    </tr>\n",
       "  </tbody>\n",
       "</table>\n",
       "<p>192895 rows × 3 columns</p>\n",
       "</div>"
      ],
      "text/plain": [
       "          lon        lat route_num\n",
       "0  -77.022153  38.912606         0\n",
       "1  -77.022433  38.912605         0\n",
       "2  -77.022416  38.915570         0\n",
       "3  -77.022200  38.915571         0\n",
       "0  -77.024589  38.936016         1\n",
       "..        ...        ...       ...\n",
       "17 -77.086733  38.936925     12099\n",
       "18 -77.087483  38.937314     12099\n",
       "19 -77.086900  38.938012     12099\n",
       "20 -77.087411  38.938447     12099\n",
       "21 -77.087182  38.938726     12099\n",
       "\n",
       "[192895 rows x 3 columns]"
      ]
     },
     "execution_count": 2,
     "metadata": {},
     "output_type": "execute_result"
    }
   ],
   "source": [
    "dict_trips = {}\n",
    "with open('trips_washington.dict', 'rb') as infile: #load a dictionary in dict_trips\n",
    "    dict_trips = pickle.load(infile)\n",
    "    \n",
    "route_num = 0\n",
    "df = pd.DataFrame(columns=['lon', 'lat', 'route_num']) #creation of an empty dataframe\n",
    "for key in dict_trips: #for all trips in dict_trips\n",
    "    if(len(dict_trips[key]['routes'])!=0 and not(dict_trips[key]['routes'][0].empty)): #if a route is found\n",
    "        df_temp = dict_trips[key]['routes'][0] #we take the route\n",
    "        df_temp['route_num'] = route_num #we add a number to differentiate routes\n",
    "        route_num+=1\n",
    "        df = df.append(df_temp) #we add the route to the final DF\n",
    "df"
   ]
  },
  {
   "cell_type": "code",
   "execution_count": 16,
   "metadata": {},
   "outputs": [],
   "source": [
    "def display(dfdisplay, n=75, line_group=\"route_num\", color=None):\n",
    "    \"\"\"\n",
    "    Display a dataframe of gps points on a mapbox map.\n",
    "    Parameters\n",
    "    ----------\n",
    "    df or str : pandas' DataFrame with columns=['lat', 'lon', 'route_num'] or the name of a file containing one\n",
    "        Dataframe to display or the file where it is located\n",
    "    n : int, optional\n",
    "        Number of routes to display\n",
    "    line_group : str, optional\n",
    "        Dataframe's attribute used to differenciate routes\n",
    "    color : str, optional\n",
    "        Dataframe's attribute used to color routes\n",
    "    \"\"\"\n",
    "    n+=1\n",
    "    if(type(dfdisplay) == str): #if df is a file location\n",
    "        with open(dfdisplay,'rb') as infile:\n",
    "            dfdisplay = pickle.load(infile) #open the file to load the dataframe\n",
    "    dfdisplay = dfdisplay[dfdisplay[line_group]<n]\n",
    "    fig = px.line_mapbox(dfdisplay, lat=\"lat\", lon=\"lon\", line_group=line_group, color=color, zoom=11)\n",
    "    fig.show()"
   ]
  },
  {
   "cell_type": "code",
   "execution_count": 17,
   "metadata": {},
   "outputs": [
    {
     "data": {
      "application/vnd.plotly.v1+json": {
       "config": {
        "plotlyServerURL": "https://plot.ly"
       },
       "data": [
        {
         "hoverlabel": {
          "namelength": 0
         },
         "hovertemplate": "route_num=0<br>lat=%{lat}<br>lon=%{lon}",
         "lat": [
          38.912606,
          38.912605,
          38.91557,
          38.915571
         ],
         "legendgroup": "",
         "line": {
          "color": "#636efa"
         },
         "lon": [
          -77.022153,
          -77.022433,
          -77.022416,
          -77.0222
         ],
         "mode": "lines",
         "name": "",
         "showlegend": false,
         "subplot": "mapbox",
         "type": "scattermapbox"
        },
        {
         "hoverlabel": {
          "namelength": 0
         },
         "hovertemplate": "route_num=1<br>lat=%{lat}<br>lon=%{lon}",
         "lat": [
          38.936016,
          38.935106,
          38.935964,
          38.932791,
          38.931346,
          38.929586,
          38.927519,
          38.927339,
          38.926522,
          38.926088
         ],
         "legendgroup": "",
         "line": {
          "color": "#636efa"
         },
         "lon": [
          -77.024589,
          -77.025303,
          -77.028499,
          -77.028493,
          -77.032718,
          -77.032732,
          -77.032542,
          -77.034976,
          -77.036474,
          -77.036474
         ],
         "mode": "lines",
         "name": "",
         "showlegend": false,
         "subplot": "mapbox",
         "type": "scattermapbox"
        },
        {
         "hoverlabel": {
          "namelength": 0
         },
         "hovertemplate": "route_num=2<br>lat=%{lat}<br>lon=%{lon}",
         "lat": [
          38.918047,
          38.918044,
          38.920756,
          38.93022,
          38.930724
         ],
         "legendgroup": "",
         "line": {
          "color": "#636efa"
         },
         "lon": [
          -77.032108,
          -77.031952,
          -77.031841,
          -77.032719,
          -77.031457
         ],
         "mode": "lines",
         "name": "",
         "showlegend": false,
         "subplot": "mapbox",
         "type": "scattermapbox"
        },
        {
         "hoverlabel": {
          "namelength": 0
         },
         "hovertemplate": "route_num=3<br>lat=%{lat}<br>lon=%{lon}",
         "lat": [
          38.929483,
          38.926633,
          38.91557,
          38.915571
         ],
         "legendgroup": "",
         "line": {
          "color": "#636efa"
         },
         "lon": [
          -77.027697,
          -77.027037,
          -77.027036,
          -77.0222
         ],
         "mode": "lines",
         "name": "",
         "showlegend": false,
         "subplot": "mapbox",
         "type": "scattermapbox"
        },
        {
         "hoverlabel": {
          "namelength": 0
         },
         "hovertemplate": "route_num=4<br>lat=%{lat}<br>lon=%{lon}",
         "lat": [
          38.891657,
          38.891646,
          38.89146,
          38.891702,
          38.891893,
          38.892375,
          38.892913,
          38.893811,
          38.893917,
          38.894101,
          38.89451,
          38.894745,
          38.89553,
          38.896363,
          38.896611,
          38.897034,
          38.897107,
          38.897108,
          38.897319
         ],
         "legendgroup": "",
         "line": {
          "color": "#636efa"
         },
         "lon": [
          -77.084595,
          -77.084725,
          -77.084699,
          -77.081587,
          -77.081172,
          -77.080535,
          -77.079183,
          -77.074793,
          -77.074502,
          -77.074203,
          -77.073804,
          -77.073114,
          -77.073202,
          -77.072943,
          -77.072722,
          -77.072068,
          -77.071772,
          -77.071191,
          -77.071008
         ],
         "mode": "lines",
         "name": "",
         "showlegend": false,
         "subplot": "mapbox",
         "type": "scattermapbox"
        },
        {
         "hoverlabel": {
          "namelength": 0
         },
         "hovertemplate": "route_num=5<br>lat=%{lat}<br>lon=%{lon}",
         "lat": [
          38.907741,
          38.907705,
          38.908957,
          38.910572,
          38.910645,
          38.911122,
          38.911129,
          38.919206,
          38.919185,
          38.920756,
          38.93022,
          38.930926,
          38.936595,
          38.936378,
          38.941867,
          38.941791
         ],
         "legendgroup": "",
         "line": {
          "color": "#636efa"
         },
         "lon": [
          -77.071611,
          -77.055824,
          -77.055838,
          -77.054954,
          -77.051648,
          -77.050546,
          -77.042051,
          -77.034431,
          -77.031951,
          -77.031841,
          -77.032719,
          -77.030873,
          -77.030864,
          -77.030043,
          -77.025938,
          -77.0251
         ],
         "mode": "lines",
         "name": "",
         "showlegend": false,
         "subplot": "mapbox",
         "type": "scattermapbox"
        },
        {
         "hoverlabel": {
          "namelength": 0
         },
         "hovertemplate": "route_num=6<br>lat=%{lat}<br>lon=%{lon}",
         "lat": [
          38.918047,
          38.918112,
          38.918116,
          38.90966,
          38.90966,
          38.90985
         ],
         "legendgroup": "",
         "line": {
          "color": "#636efa"
         },
         "lon": [
          -77.032108,
          -77.032128,
          -77.034617,
          -77.034647,
          -77.034557,
          -77.034557
         ],
         "mode": "lines",
         "name": "",
         "showlegend": false,
         "subplot": "mapbox",
         "type": "scattermapbox"
        },
        {
         "hoverlabel": {
          "namelength": 0
         },
         "hovertemplate": "route_num=7<br>lat=%{lat}<br>lon=%{lon}",
         "lat": [
          38.897319,
          38.897108,
          38.897098,
          38.898167,
          38.898165,
          38.898979,
          38.899655,
          38.899709,
          38.899984,
          38.900272,
          38.904844,
          38.904955,
          38.904982,
          38.904651,
          38.904678,
          38.906801,
          38.906866,
          38.906797,
          38.906857,
          38.904936,
          38.903731
         ],
         "legendgroup": "",
         "line": {
          "color": "#636efa"
         },
         "lon": [
          -77.071008,
          -77.071191,
          -77.07084,
          -77.070787,
          -77.070679,
          -77.070608,
          -77.070631,
          -77.070531,
          -77.070691,
          -77.070693,
          -77.068562,
          -77.06841,
          -77.067824,
          -77.067811,
          -77.066011,
          -77.066074,
          -77.063174,
          -77.062881,
          -77.057059,
          -77.057017,
          -77.05354
         ],
         "mode": "lines",
         "name": "",
         "showlegend": false,
         "subplot": "mapbox",
         "type": "scattermapbox"
        },
        {
         "hoverlabel": {
          "namelength": 0
         },
         "hovertemplate": "route_num=8<br>lat=%{lat}<br>lon=%{lon}",
         "lat": [
          38.918047,
          38.911125,
          38.910974,
          38.89445,
          38.89331,
          38.886322,
          38.886323
         ],
         "legendgroup": "",
         "line": {
          "color": "#636efa"
         },
         "lon": [
          -77.032108,
          -77.031952,
          -77.025995,
          -77.026016,
          -77.021929,
          -77.021912,
          -77.022241
         ],
         "mode": "lines",
         "name": "",
         "showlegend": false,
         "subplot": "mapbox",
         "type": "scattermapbox"
        },
        {
         "hoverlabel": {
          "namelength": 0
         },
         "hovertemplate": "route_num=9<br>lat=%{lat}<br>lon=%{lon}",
         "lat": [
          38.947575,
          38.945494,
          38.945529,
          38.93733,
          38.937332,
          38.931753,
          38.931467,
          38.930509,
          38.92752,
          38.92328,
          38.923535,
          38.92325,
          38.922661,
          38.922328,
          38.915888,
          38.910471,
          38.909991
         ],
         "legendgroup": "",
         "line": {
          "color": "#636efa"
         },
         "lon": [
          -77.07948,
          -77.078324,
          -77.072411,
          -77.072418,
          -77.070886,
          -77.070879,
          -77.06639,
          -77.063254,
          -77.06324,
          -77.057894,
          -77.051332,
          -77.047347,
          -77.047139,
          -77.046287,
          -77.043436,
          -77.043443,
          -77.044432
         ],
         "mode": "lines",
         "name": "",
         "showlegend": false,
         "subplot": "mapbox",
         "type": "scattermapbox"
        },
        {
         "hoverlabel": {
          "namelength": 0
         },
         "hovertemplate": "route_num=10<br>lat=%{lat}<br>lon=%{lon}",
         "lat": [
          38.899051,
          38.898975,
          38.898802,
          38.898785,
          38.898774,
          38.901331,
          38.900694,
          38.900694
         ],
         "legendgroup": "",
         "line": {
          "color": "#636efa"
         },
         "lon": [
          -77.033365,
          -77.033643,
          -77.033648,
          -77.033767,
          -77.039325,
          -77.046653,
          -77.046655,
          -77.046449
         ],
         "mode": "lines",
         "name": "",
         "showlegend": false,
         "subplot": "mapbox",
         "type": "scattermapbox"
        },
        {
         "hoverlabel": {
          "namelength": 0
         },
         "hovertemplate": "route_num=11<br>lat=%{lat}<br>lon=%{lon}",
         "lat": [
          38.898321,
          38.898314,
          38.898802,
          38.898783,
          38.900333,
          38.901218,
          38.905647,
          38.905647,
          38.905803,
          38.905652,
          38.905657,
          38.910142,
          38.909991
         ],
         "legendgroup": "",
         "line": {
          "color": "#636efa"
         },
         "lon": [
          -77.027869,
          -77.033656,
          -77.033648,
          -77.035127,
          -77.035203,
          -77.034696,
          -77.034678,
          -77.040157,
          -77.040486,
          -77.041457,
          -77.044898,
          -77.044875,
          -77.044432
         ],
         "mode": "lines",
         "name": "",
         "showlegend": false,
         "subplot": "mapbox",
         "type": "scattermapbox"
        },
        {
         "hoverlabel": {
          "namelength": 0
         },
         "hovertemplate": "route_num=12<br>lat=%{lat}<br>lon=%{lon}",
         "lat": [
          38.9319,
          38.931381,
          38.931153,
          38.928733,
          38.928798,
          38.92068,
          38.908726,
          38.908604
         ],
         "legendgroup": "",
         "line": {
          "color": "#636efa"
         },
         "lon": [
          -77.038858,
          -77.038851,
          -77.038308,
          -77.037351,
          -77.03267,
          -77.031839,
          -77.031951,
          -77.032302
         ],
         "mode": "lines",
         "name": "",
         "showlegend": false,
         "subplot": "mapbox",
         "type": "scattermapbox"
        },
        {
         "hoverlabel": {
          "namelength": 0
         },
         "hovertemplate": "route_num=13<br>lat=%{lat}<br>lon=%{lon}",
         "lat": [
          38.903731,
          38.903653,
          38.903728,
          38.903738,
          38.903784,
          38.903776,
          38.901218,
          38.900333,
          38.898783,
          38.898802,
          38.898975,
          38.899051
         ],
         "legendgroup": "",
         "line": {
          "color": "#636efa"
         },
         "lon": [
          -77.05354,
          -77.053315,
          -77.053079,
          -77.048989,
          -77.048813,
          -77.034682,
          -77.034696,
          -77.035203,
          -77.035127,
          -77.033648,
          -77.033643,
          -77.033365
         ],
         "mode": "lines",
         "name": "",
         "showlegend": false,
         "subplot": "mapbox",
         "type": "scattermapbox"
        },
        {
         "hoverlabel": {
          "namelength": 0
         },
         "hovertemplate": "route_num=14<br>lat=%{lat}<br>lon=%{lon}",
         "lat": [
          38.915571,
          38.915572,
          38.90661,
          38.905653,
          38.905658
         ],
         "legendgroup": "",
         "line": {
          "color": "#636efa"
         },
         "lon": [
          -77.0222,
          -77.021922,
          -77.021916,
          -77.021933,
          -77.02227
         ],
         "mode": "lines",
         "name": "",
         "showlegend": false,
         "subplot": "mapbox",
         "type": "scattermapbox"
        },
        {
         "hoverlabel": {
          "namelength": 0
         },
         "hovertemplate": "route_num=15<br>lat=%{lat}<br>lon=%{lon}",
         "lat": [
          38.908604,
          38.908726,
          38.918044,
          38.918047
         ],
         "legendgroup": "",
         "line": {
          "color": "#636efa"
         },
         "lon": [
          -77.032302,
          -77.031951,
          -77.031952,
          -77.032108
         ],
         "mode": "lines",
         "name": "",
         "showlegend": false,
         "subplot": "mapbox",
         "type": "scattermapbox"
        },
        {
         "hoverlabel": {
          "namelength": 0
         },
         "hovertemplate": "route_num=16<br>lat=%{lat}<br>lon=%{lon}",
         "lat": [
          38.912202,
          38.912202
         ],
         "legendgroup": "",
         "line": {
          "color": "#636efa"
         },
         "lon": [
          -77.038701,
          -77.038701
         ],
         "mode": "lines",
         "name": "",
         "showlegend": false,
         "subplot": "mapbox",
         "type": "scattermapbox"
        },
        {
         "hoverlabel": {
          "namelength": 0
         },
         "hovertemplate": "route_num=17<br>lat=%{lat}<br>lon=%{lon}",
         "lat": [
          38.912202,
          38.912204,
          38.911545,
          38.911545,
          38.911648,
          38.91028,
          38.910213,
          38.910299,
          38.910131,
          38.90997,
          38.909991
         ],
         "legendgroup": "",
         "line": {
          "color": "#636efa"
         },
         "lon": [
          -77.038701,
          -77.038491,
          -77.038493,
          -77.041386,
          -77.041562,
          -77.042862,
          -77.043058,
          -77.043573,
          -77.043928,
          -77.044115,
          -77.044432
         ],
         "mode": "lines",
         "name": "",
         "showlegend": false,
         "subplot": "mapbox",
         "type": "scattermapbox"
        },
        {
         "hoverlabel": {
          "namelength": 0
         },
         "hovertemplate": "route_num=18<br>lat=%{lat}<br>lon=%{lon}",
         "lat": [
          38.899621,
          38.89959,
          38.89941,
          38.901392,
          38.900887,
          38.900876,
          38.899705,
          38.899707
         ],
         "legendgroup": "",
         "line": {
          "color": "#636efa"
         },
         "lon": [
          -77.03168,
          -77.031766,
          -77.031771,
          -77.025984,
          -77.025989,
          -77.022955,
          -77.022948,
          -77.023038
         ],
         "mode": "lines",
         "name": "",
         "showlegend": false,
         "subplot": "mapbox",
         "type": "scattermapbox"
        },
        {
         "hoverlabel": {
          "namelength": 0
         },
         "hovertemplate": "route_num=19<br>lat=%{lat}<br>lon=%{lon}",
         "lat": [
          38.880285,
          38.880285
         ],
         "legendgroup": "",
         "line": {
          "color": "#636efa"
         },
         "lon": [
          -76.986109,
          -76.986109
         ],
         "mode": "lines",
         "name": "",
         "showlegend": false,
         "subplot": "mapbox",
         "type": "scattermapbox"
        },
        {
         "hoverlabel": {
          "namelength": 0
         },
         "hovertemplate": "route_num=20<br>lat=%{lat}<br>lon=%{lon}",
         "lat": [
          38.88412,
          38.892083,
          38.89331,
          38.897255,
          38.897331,
          38.897242
         ],
         "legendgroup": "",
         "line": {
          "color": "#636efa"
         },
         "lon": [
          -77.017556,
          -77.01748,
          -77.021929,
          -77.021926,
          -77.019073,
          -77.019347
         ],
         "mode": "lines",
         "name": "",
         "showlegend": false,
         "subplot": "mapbox",
         "type": "scattermapbox"
        },
        {
         "hoverlabel": {
          "namelength": 0
         },
         "hovertemplate": "route_num=21<br>lat=%{lat}<br>lon=%{lon}",
         "lat": [
          38.905067,
          38.905655,
          38.905625,
          38.901331,
          38.900208,
          38.900208
         ],
         "legendgroup": "",
         "line": {
          "color": "#636efa"
         },
         "lon": [
          -77.041694,
          -77.041691,
          -77.046642,
          -77.046653,
          -77.043468,
          -77.0429
         ],
         "mode": "lines",
         "name": "",
         "showlegend": false,
         "subplot": "mapbox",
         "type": "scattermapbox"
        },
        {
         "hoverlabel": {
          "namelength": 0
         },
         "hovertemplate": "route_num=22<br>lat=%{lat}<br>lon=%{lon}",
         "lat": [
          38.90985,
          38.910056,
          38.910058,
          38.914091,
          38.914092,
          38.915574,
          38.91557
         ],
         "legendgroup": "",
         "line": {
          "color": "#636efa"
         },
         "lon": [
          -77.034557,
          -77.034557,
          -77.034645,
          -77.034638,
          -77.039275,
          -77.037884,
          -77.038181
         ],
         "mode": "lines",
         "name": "",
         "showlegend": false,
         "subplot": "mapbox",
         "type": "scattermapbox"
        },
        {
         "hoverlabel": {
          "namelength": 0
         },
         "hovertemplate": "route_num=23<br>lat=%{lat}<br>lon=%{lon}",
         "lat": [
          38.909991,
          38.910142,
          38.91113,
          38.911071,
          38.904172,
          38.90417,
          38.902524,
          38.902518,
          38.899409
         ],
         "legendgroup": "",
         "line": {
          "color": "#636efa"
         },
         "lon": [
          -77.044432,
          -77.044875,
          -77.044871,
          -77.026085,
          -77.02598,
          -77.021939,
          -77.021939,
          -77.015177,
          -77.015223
         ],
         "mode": "lines",
         "name": "",
         "showlegend": false,
         "subplot": "mapbox",
         "type": "scattermapbox"
        },
        {
         "hoverlabel": {
          "namelength": 0
         },
         "hovertemplate": "route_num=24<br>lat=%{lat}<br>lon=%{lon}",
         "lat": [
          38.930724,
          38.930395,
          38.930505,
          38.923635,
          38.923253,
          38.922733,
          38.920196,
          38.919848,
          38.919663,
          38.919664,
          38.920695
         ],
         "legendgroup": "",
         "line": {
          "color": "#636efa"
         },
         "lon": [
          -77.031457,
          -77.032408,
          -77.032718,
          -77.032132,
          -77.036483,
          -77.036484,
          -77.040869,
          -77.040755,
          -77.04167,
          -77.044398,
          -77.043772
         ],
         "mode": "lines",
         "name": "",
         "showlegend": false,
         "subplot": "mapbox",
         "type": "scattermapbox"
        },
        {
         "hoverlabel": {
          "namelength": 0
         },
         "hovertemplate": "route_num=25<br>lat=%{lat}<br>lon=%{lon}",
         "lat": [
          38.912202,
          38.912204,
          38.911128,
          38.911126,
          38.918355,
          38.920645,
          38.921071,
          38.924799,
          38.924765,
          38.926088
         ],
         "legendgroup": "",
         "line": {
          "color": "#636efa"
         },
         "lon": [
          -77.038701,
          -77.038491,
          -77.038494,
          -77.034642,
          -77.034619,
          -77.034815,
          -77.035194,
          -77.03539,
          -77.036479,
          -77.036474
         ],
         "mode": "lines",
         "name": "",
         "showlegend": false,
         "subplot": "mapbox",
         "type": "scattermapbox"
        },
        {
         "hoverlabel": {
          "namelength": 0
         },
         "hovertemplate": "route_num=26<br>lat=%{lat}<br>lon=%{lon}",
         "lat": [
          38.900208,
          38.900208,
          38.900129,
          38.900008,
          38.901331,
          38.900694,
          38.900694
         ],
         "legendgroup": "",
         "line": {
          "color": "#636efa"
         },
         "lon": [
          -77.0429,
          -77.042522,
          -77.042788,
          -77.042895,
          -77.046653,
          -77.046655,
          -77.046449
         ],
         "mode": "lines",
         "name": "",
         "showlegend": false,
         "subplot": "mapbox",
         "type": "scattermapbox"
        },
        {
         "hoverlabel": {
          "namelength": 0
         },
         "hovertemplate": "route_num=27<br>lat=%{lat}<br>lon=%{lon}",
         "lat": [
          38.922896,
          38.922763,
          38.922186,
          38.919052,
          38.915888,
          38.912608,
          38.912608,
          38.912117,
          38.91158,
          38.911127,
          38.91112,
          38.910645,
          38.910572,
          38.908988,
          38.908537,
          38.908456,
          38.904735,
          38.904724,
          38.903749
         ],
         "legendgroup": "",
         "line": {
          "color": "#636efa"
         },
         "lon": [
          -77.042548,
          -77.042532,
          -77.043237,
          -77.044781,
          -77.043436,
          -77.043432,
          -77.047553,
          -77.047986,
          -77.048766,
          -77.048858,
          -77.050579,
          -77.051648,
          -77.054954,
          -77.055828,
          -77.055837,
          -77.061258,
          -77.061174,
          -77.062796,
          -77.062777
         ],
         "mode": "lines",
         "name": "",
         "showlegend": false,
         "subplot": "mapbox",
         "type": "scattermapbox"
        },
        {
         "hoverlabel": {
          "namelength": 0
         },
         "hovertemplate": "route_num=28<br>lat=%{lat}<br>lon=%{lon}",
         "lat": [
          38.884183,
          38.884057,
          38.883744,
          38.883741,
          38.883809,
          38.88357,
          38.884104,
          38.884105,
          38.882841,
          38.882841
         ],
         "legendgroup": "",
         "line": {
          "color": "#636efa"
         },
         "lon": [
          -76.995273,
          -76.994968,
          -76.994971,
          -76.994545,
          -76.994353,
          -76.993761,
          -76.99376,
          -76.988318,
          -76.988317,
          -76.987907
         ],
         "mode": "lines",
         "name": "",
         "showlegend": false,
         "subplot": "mapbox",
         "type": "scattermapbox"
        },
        {
         "hoverlabel": {
          "namelength": 0
         },
         "hovertemplate": "route_num=29<br>lat=%{lat}<br>lon=%{lon}",
         "lat": [
          38.880285,
          38.879923,
          38.879277,
          38.885948,
          38.886227,
          38.887603,
          38.894785,
          38.894783
         ],
         "legendgroup": "",
         "line": {
          "color": "#636efa"
         },
         "lon": [
          -76.986109,
          -76.986506,
          -76.988316,
          -76.988319,
          -76.987272,
          -76.988315,
          -76.988311,
          -76.987633
         ],
         "mode": "lines",
         "name": "",
         "showlegend": false,
         "subplot": "mapbox",
         "type": "scattermapbox"
        },
        {
         "hoverlabel": {
          "namelength": 0
         },
         "hovertemplate": "route_num=30<br>lat=%{lat}<br>lon=%{lon}",
         "lat": [
          38.886323,
          38.886322,
          38.885589,
          38.885048,
          38.884845,
          38.884841,
          38.884386,
          38.88412
         ],
         "legendgroup": "",
         "line": {
          "color": "#636efa"
         },
         "lon": [
          -77.022241,
          -77.021912,
          -77.02191,
          -77.019916,
          -77.019913,
          -77.019202,
          -77.017556,
          -77.017556
         ],
         "mode": "lines",
         "name": "",
         "showlegend": false,
         "subplot": "mapbox",
         "type": "scattermapbox"
        },
        {
         "hoverlabel": {
          "namelength": 0
         },
         "hovertemplate": "route_num=31<br>lat=%{lat}<br>lon=%{lon}",
         "lat": [
          38.856425,
          38.856425
         ],
         "legendgroup": "",
         "line": {
          "color": "#636efa"
         },
         "lon": [
          -77.049183,
          -77.049183
         ],
         "mode": "lines",
         "name": "",
         "showlegend": false,
         "subplot": "mapbox",
         "type": "scattermapbox"
        },
        {
         "hoverlabel": {
          "namelength": 0
         },
         "hovertemplate": "route_num=32<br>lat=%{lat}<br>lon=%{lon}",
         "lat": [
          38.9172,
          38.91811,
          38.918114,
          38.917239,
          38.917004,
          38.916895,
          38.911537,
          38.907247,
          38.907244,
          38.906225,
          38.90534
         ],
         "legendgroup": "",
         "line": {
          "color": "#636efa"
         },
         "lon": [
          -77.025994,
          -77.02599,
          -77.035493,
          -77.036291,
          -77.03616,
          -77.036618,
          -77.041666,
          -77.041686,
          -77.045681,
          -77.046641,
          -77.046643
         ],
         "mode": "lines",
         "name": "",
         "showlegend": false,
         "subplot": "mapbox",
         "type": "scattermapbox"
        },
        {
         "hoverlabel": {
          "namelength": 0
         },
         "hovertemplate": "route_num=33<br>lat=%{lat}<br>lon=%{lon}",
         "lat": [
          38.90304,
          38.902521,
          38.902518,
          38.902421,
          38.900345,
          38.90025,
          38.899409
         ],
         "legendgroup": "",
         "line": {
          "color": "#636efa"
         },
         "lon": [
          -77.019059,
          -77.019057,
          -77.015177,
          -77.015233,
          -77.01523,
          -77.015175,
          -77.015223
         ],
         "mode": "lines",
         "name": "",
         "showlegend": false,
         "subplot": "mapbox",
         "type": "scattermapbox"
        },
        {
         "hoverlabel": {
          "namelength": 0
         },
         "hovertemplate": "route_num=34<br>lat=%{lat}<br>lon=%{lon}",
         "lat": [
          38.922896,
          38.922525,
          38.919663,
          38.916613,
          38.916599,
          38.912204,
          38.912202
         ],
         "legendgroup": "",
         "line": {
          "color": "#636efa"
         },
         "lon": [
          -77.042548,
          -77.042631,
          -77.04167,
          -77.041656,
          -77.038479,
          -77.038491,
          -77.038701
         ],
         "mode": "lines",
         "name": "",
         "showlegend": false,
         "subplot": "mapbox",
         "type": "scattermapbox"
        },
        {
         "hoverlabel": {
          "namelength": 0
         },
         "hovertemplate": "route_num=35<br>lat=%{lat}<br>lon=%{lon}",
         "lat": [
          38.912202,
          38.911128,
          38.911126,
          38.901218,
          38.900333,
          38.898876,
          38.898802,
          38.895533,
          38.895493,
          38.892083,
          38.876716
         ],
         "legendgroup": "",
         "line": {
          "color": "#636efa"
         },
         "lon": [
          -77.038701,
          -77.038494,
          -77.034642,
          -77.034696,
          -77.035203,
          -77.035147,
          -77.033648,
          -77.033599,
          -77.02979,
          -77.01748,
          -77.017703
         ],
         "mode": "lines",
         "name": "",
         "showlegend": false,
         "subplot": "mapbox",
         "type": "scattermapbox"
        },
        {
         "hoverlabel": {
          "namelength": 0
         },
         "hovertemplate": "route_num=36<br>lat=%{lat}<br>lon=%{lon}",
         "lat": [
          38.917815,
          38.917814,
          38.917608,
          38.917571,
          38.917565,
          38.915565,
          38.915571
         ],
         "legendgroup": "",
         "line": {
          "color": "#636efa"
         },
         "lon": [
          -77.04062,
          -77.040395,
          -77.040554,
          -77.040453,
          -77.038476,
          -77.038474,
          -77.0222
         ],
         "mode": "lines",
         "name": "",
         "showlegend": false,
         "subplot": "mapbox",
         "type": "scattermapbox"
        },
        {
         "hoverlabel": {
          "namelength": 0
         },
         "hovertemplate": "route_num=37<br>lat=%{lat}<br>lon=%{lon}",
         "lat": [
          38.918047,
          38.918112,
          38.918115,
          38.918141,
          38.918211,
          38.918044,
          38.917814,
          38.917816,
          38.919052,
          38.920678,
          38.920695
         ],
         "legendgroup": "",
         "line": {
          "color": "#636efa"
         },
         "lon": [
          -77.032108,
          -77.032128,
          -77.03923,
          -77.03951,
          -77.039607,
          -77.040191,
          -77.040395,
          -77.044255,
          -77.044781,
          -77.043895,
          -77.043772
         ],
         "mode": "lines",
         "name": "",
         "showlegend": false,
         "subplot": "mapbox",
         "type": "scattermapbox"
        },
        {
         "hoverlabel": {
          "namelength": 0
         },
         "hovertemplate": "route_num=38<br>lat=%{lat}<br>lon=%{lon}",
         "lat": [
          38.930724,
          38.931821,
          38.929483
         ],
         "legendgroup": "",
         "line": {
          "color": "#636efa"
         },
         "lon": [
          -77.031457,
          -77.02826,
          -77.027697
         ],
         "mode": "lines",
         "name": "",
         "showlegend": false,
         "subplot": "mapbox",
         "type": "scattermapbox"
        },
        {
         "hoverlabel": {
          "namelength": 0
         },
         "hovertemplate": "route_num=39<br>lat=%{lat}<br>lon=%{lon}",
         "lat": [
          38.899409,
          38.896135,
          38.896084,
          38.89614,
          38.896616,
          38.896219,
          38.89604,
          38.895798,
          38.895878,
          38.89646,
          38.896637,
          38.897336,
          38.897333,
          38.894785,
          38.894781,
          38.886698,
          38.887036,
          38.88732
         ],
         "legendgroup": "",
         "line": {
          "color": "#636efa"
         },
         "lon": [
          -77.015223,
          -77.015167,
          -77.015004,
          -77.00924,
          -77.007741,
          -77.007561,
          -77.007296,
          -77.006401,
          -77.005907,
          -77.005433,
          -77.005036,
          -77.004716,
          -76.993761,
          -76.993756,
          -76.985504,
          -76.985509,
          -76.983755,
          -76.983648
         ],
         "mode": "lines",
         "name": "",
         "showlegend": false,
         "subplot": "mapbox",
         "type": "scattermapbox"
        },
        {
         "hoverlabel": {
          "namelength": 0
         },
         "hovertemplate": "route_num=40<br>lat=%{lat}<br>lon=%{lon}",
         "lat": [
          38.900022,
          38.90132,
          38.901327,
          38.90373,
          38.903732,
          38.903938,
          38.908165,
          38.911857,
          38.912605,
          38.912605,
          38.916711,
          38.91699,
          38.917,
          38.9172
         ],
         "legendgroup": "",
         "line": {
          "color": "#636efa"
         },
         "lon": [
          -76.988308,
          -76.988312,
          -77.002036,
          -77.002043,
          -77.004371,
          -77.004363,
          -77.002884,
          -77.000904,
          -77.001139,
          -77.022945,
          -77.022945,
          -77.023955,
          -77.025995,
          -77.025994
         ],
         "mode": "lines",
         "name": "",
         "showlegend": false,
         "subplot": "mapbox",
         "type": "scattermapbox"
        },
        {
         "hoverlabel": {
          "namelength": 0
         },
         "hovertemplate": "route_num=41<br>lat=%{lat}<br>lon=%{lon}",
         "lat": [
          38.896955,
          38.897336,
          38.897331,
          38.899983
         ],
         "legendgroup": "",
         "line": {
          "color": "#636efa"
         },
         "lon": [
          -77.004907,
          -77.004716,
          -76.991527,
          -76.991525
         ],
         "mode": "lines",
         "name": "",
         "showlegend": false,
         "subplot": "mapbox",
         "type": "scattermapbox"
        },
        {
         "hoverlabel": {
          "namelength": 0
         },
         "hovertemplate": "route_num=42<br>lat=%{lat}<br>lon=%{lon}",
         "lat": [
          38.857399,
          38.857524,
          38.857336,
          38.857248,
          38.854167,
          38.854165,
          38.854383
         ],
         "legendgroup": "",
         "line": {
          "color": "#636efa"
         },
         "lon": [
          -77.051185,
          -77.051263,
          -77.052811,
          -77.053087,
          -77.053342,
          -77.05351,
          -77.053451
         ],
         "mode": "lines",
         "name": "",
         "showlegend": false,
         "subplot": "mapbox",
         "type": "scattermapbox"
        },
        {
         "hoverlabel": {
          "namelength": 0
         },
         "hovertemplate": "route_num=43<br>lat=%{lat}<br>lon=%{lon}",
         "lat": [
          38.884183,
          38.884057,
          38.887891,
          38.889223,
          38.889243,
          38.892064,
          38.897692,
          38.899982,
          38.900482
         ],
         "legendgroup": "",
         "line": {
          "color": "#636efa"
         },
         "lon": [
          -76.995273,
          -76.994968,
          -76.99496,
          -76.991623,
          -76.988316,
          -76.988231,
          -76.983653,
          -76.983606,
          -76.983076
         ],
         "mode": "lines",
         "name": "",
         "showlegend": false,
         "subplot": "mapbox",
         "type": "scattermapbox"
        },
        {
         "hoverlabel": {
          "namelength": 0
         },
         "hovertemplate": "route_num=44<br>lat=%{lat}<br>lon=%{lon}",
         "lat": [
          38.944547,
          38.944252,
          38.94425,
          38.943155,
          38.942607,
          38.942052,
          38.942054,
          38.940895,
          38.9409,
          38.940618,
          38.94076,
          38.938496,
          38.937548,
          38.936558,
          38.936167,
          38.935297,
          38.931319,
          38.928976,
          38.928647,
          38.928798,
          38.92068,
          38.90652,
          38.905587,
          38.905032,
          38.905379,
          38.904849,
          38.9059
         ],
         "legendgroup": "",
         "line": {
          "color": "#636efa"
         },
         "lon": [
          -77.063774,
          -77.063905,
          -77.0627,
          -77.062367,
          -77.0618,
          -77.061812,
          -77.058634,
          -77.058642,
          -77.056388,
          -77.055158,
          -77.052905,
          -77.049993,
          -77.047854,
          -77.046968,
          -77.046136,
          -77.04557,
          -77.045592,
          -77.043352,
          -77.035388,
          -77.03267,
          -77.031839,
          -77.031953,
          -77.032401,
          -77.032057,
          -77.031502,
          -77.029627,
          -77.0325
         ],
         "mode": "lines",
         "name": "",
         "showlegend": false,
         "subplot": "mapbox",
         "type": "scattermapbox"
        },
        {
         "hoverlabel": {
          "namelength": 0
         },
         "hovertemplate": "route_num=45<br>lat=%{lat}<br>lon=%{lon}",
         "lat": [
          38.908604,
          38.908726,
          38.907728,
          38.907721,
          38.907511,
          38.90724,
          38.907242,
          38.905653,
          38.905658
         ],
         "legendgroup": "",
         "line": {
          "color": "#636efa"
         },
         "lon": [
          -77.032302,
          -77.031951,
          -77.031951,
          -77.031407,
          -77.030861,
          -77.031019,
          -77.025987,
          -77.025988,
          -77.02227
         ],
         "mode": "lines",
         "name": "",
         "showlegend": false,
         "subplot": "mapbox",
         "type": "scattermapbox"
        },
        {
         "hoverlabel": {
          "namelength": 0
         },
         "hovertemplate": "route_num=46<br>lat=%{lat}<br>lon=%{lon}",
         "lat": [
          38.915571,
          38.915572,
          38.911123,
          38.911121,
          38.908571,
          38.908566,
          38.907896,
          38.907897,
          38.907248,
          38.907236,
          38.905641,
          38.905642
         ],
         "legendgroup": "",
         "line": {
          "color": "#636efa"
         },
         "lon": [
          -77.0222,
          -77.021922,
          -77.021916,
          -77.015181,
          -77.015182,
          -77.010755,
          -77.010757,
          -77.009191,
          -77.009194,
          -77.005887,
          -77.005885,
          -77.0056
         ],
         "mode": "lines",
         "name": "",
         "showlegend": false,
         "subplot": "mapbox",
         "type": "scattermapbox"
        },
        {
         "hoverlabel": {
          "namelength": 0
         },
         "hovertemplate": "route_num=47<br>lat=%{lat}<br>lon=%{lon}",
         "lat": [
          38.934355,
          38.93442,
          38.931695,
          38.931093,
          38.930311,
          38.92976,
          38.929821,
          38.928885,
          38.923213,
          38.923535,
          38.92325,
          38.922661,
          38.922386,
          38.922328,
          38.915888,
          38.915314
         ],
         "legendgroup": "",
         "line": {
          "color": "#636efa"
         },
         "lon": [
          -77.05803,
          -77.057845,
          -77.056261,
          -77.057914,
          -77.058602,
          -77.058387,
          -77.058178,
          -77.05766,
          -77.057718,
          -77.051332,
          -77.047347,
          -77.047139,
          -77.046681,
          -77.046287,
          -77.043436,
          -77.044525
         ],
         "mode": "lines",
         "name": "",
         "showlegend": false,
         "subplot": "mapbox",
         "type": "scattermapbox"
        },
        {
         "hoverlabel": {
          "namelength": 0
         },
         "hovertemplate": "route_num=48<br>lat=%{lat}<br>lon=%{lon}",
         "lat": [
          38.90985,
          38.910056,
          38.910058,
          38.915572,
          38.915572,
          38.918044,
          38.918047
         ],
         "legendgroup": "",
         "line": {
          "color": "#636efa"
         },
         "lon": [
          -77.034557,
          -77.034557,
          -77.034645,
          -77.034633,
          -77.031956,
          -77.031952,
          -77.032108
         ],
         "mode": "lines",
         "name": "",
         "showlegend": false,
         "subplot": "mapbox",
         "type": "scattermapbox"
        },
        {
         "hoverlabel": {
          "namelength": 0
         },
         "hovertemplate": "route_num=49<br>lat=%{lat}<br>lon=%{lon}",
         "lat": [
          38.905642,
          38.905642,
          38.901808,
          38.900927,
          38.897253,
          38.89676,
          38.896535,
          38.896208,
          38.89614,
          38.896123,
          38.896178,
          38.896129,
          38.898465,
          38.898463,
          38.899705,
          38.899707
         ],
         "legendgroup": "",
         "line": {
          "color": "#636efa"
         },
         "lon": [
          -77.0056,
          -77.005831,
          -77.005858,
          -77.0064,
          -77.007697,
          -77.008018,
          -77.007966,
          -77.008843,
          -77.00924,
          -77.011431,
          -77.013809,
          -77.021929,
          -77.021923,
          -77.022945,
          -77.022948,
          -77.023038
         ],
         "mode": "lines",
         "name": "",
         "showlegend": false,
         "subplot": "mapbox",
         "type": "scattermapbox"
        },
        {
         "hoverlabel": {
          "namelength": 0
         },
         "hovertemplate": "route_num=50<br>lat=%{lat}<br>lon=%{lon}",
         "lat": [
          38.90985,
          38.910058,
          38.901218,
          38.900333,
          38.898876,
          38.898802,
          38.892249,
          38.891402,
          38.890039,
          38.889194,
          38.888626,
          38.888675,
          38.882717,
          38.881992,
          38.880915,
          38.880553,
          38.880258,
          38.878695
         ],
         "legendgroup": "",
         "line": {
          "color": "#636efa"
         },
         "lon": [
          -77.034557,
          -77.034645,
          -77.034696,
          -77.035203,
          -77.035147,
          -77.033648,
          -77.033634,
          -77.033888,
          -77.03315,
          -77.033247,
          -77.032132,
          -77.028183,
          -77.027885,
          -77.027488,
          -77.025336,
          -77.024852,
          -77.025078,
          -77.023052
         ],
         "mode": "lines",
         "name": "",
         "showlegend": false,
         "subplot": "mapbox",
         "type": "scattermapbox"
        },
        {
         "hoverlabel": {
          "namelength": 0
         },
         "hovertemplate": "route_num=51<br>lat=%{lat}<br>lon=%{lon}",
         "lat": [
          38.929483,
          38.926708,
          38.918111,
          38.918114,
          38.917239,
          38.917004,
          38.917002,
          38.914935,
          38.912204,
          38.912202
         ],
         "legendgroup": "",
         "line": {
          "color": "#636efa"
         },
         "lon": [
          -77.027697,
          -77.02704,
          -77.027036,
          -77.035493,
          -77.036291,
          -77.03616,
          -77.036499,
          -77.038483,
          -77.038491,
          -77.038701
         ],
         "mode": "lines",
         "name": "",
         "showlegend": false,
         "subplot": "mapbox",
         "type": "scattermapbox"
        },
        {
         "hoverlabel": {
          "namelength": 0
         },
         "hovertemplate": "route_num=52<br>lat=%{lat}<br>lon=%{lon}",
         "lat": [
          38.934355,
          38.93442,
          38.930324
         ],
         "legendgroup": "",
         "line": {
          "color": "#636efa"
         },
         "lon": [
          -77.05803,
          -77.057845,
          -77.055469
         ],
         "mode": "lines",
         "name": "",
         "showlegend": false,
         "subplot": "mapbox",
         "type": "scattermapbox"
        },
        {
         "hoverlabel": {
          "namelength": 0
         },
         "hovertemplate": "route_num=53<br>lat=%{lat}<br>lon=%{lon}",
         "lat": [
          38.926088,
          38.926275,
          38.926491,
          38.926571,
          38.926649,
          38.926704
         ],
         "legendgroup": "",
         "line": {
          "color": "#636efa"
         },
         "lon": [
          -77.036474,
          -77.036475,
          -77.032737,
          -77.032436,
          -77.032444,
          -77.032315
         ],
         "mode": "lines",
         "name": "",
         "showlegend": false,
         "subplot": "mapbox",
         "type": "scattermapbox"
        },
        {
         "hoverlabel": {
          "namelength": 0
         },
         "hovertemplate": "route_num=54<br>lat=%{lat}<br>lon=%{lon}",
         "lat": [
          38.922896,
          38.922872,
          38.922888,
          38.922819,
          38.923103,
          38.923187,
          38.923261,
          38.923237,
          38.923254,
          38.923165,
          38.923178
         ],
         "legendgroup": "",
         "line": {
          "color": "#636efa"
         },
         "lon": [
          -77.042548,
          -77.042583,
          -77.042631,
          -77.042729,
          -77.04293,
          -77.043065,
          -77.043325,
          -77.045143,
          -77.047477,
          -77.047471,
          -77.04764
         ],
         "mode": "lines",
         "name": "",
         "showlegend": false,
         "subplot": "mapbox",
         "type": "scattermapbox"
        },
        {
         "hoverlabel": {
          "namelength": 0
         },
         "hovertemplate": "route_num=55<br>lat=%{lat}<br>lon=%{lon}",
         "lat": [
          38.9319,
          38.931381,
          38.931153,
          38.928733,
          38.928647,
          38.928798,
          38.926649,
          38.926704
         ],
         "legendgroup": "",
         "line": {
          "color": "#636efa"
         },
         "lon": [
          -77.038858,
          -77.038851,
          -77.038308,
          -77.037351,
          -77.035298,
          -77.03267,
          -77.032444,
          -77.032315
         ],
         "mode": "lines",
         "name": "",
         "showlegend": false,
         "subplot": "mapbox",
         "type": "scattermapbox"
        },
        {
         "hoverlabel": {
          "namelength": 0
         },
         "hovertemplate": "route_num=56<br>lat=%{lat}<br>lon=%{lon}",
         "lat": [
          38.920695,
          38.920678,
          38.919052,
          38.915888,
          38.915314
         ],
         "legendgroup": "",
         "line": {
          "color": "#636efa"
         },
         "lon": [
          -77.043772,
          -77.043895,
          -77.044781,
          -77.043436,
          -77.044525
         ],
         "mode": "lines",
         "name": "",
         "showlegend": false,
         "subplot": "mapbox",
         "type": "scattermapbox"
        },
        {
         "hoverlabel": {
          "namelength": 0
         },
         "hovertemplate": "route_num=57<br>lat=%{lat}<br>lon=%{lon}",
         "lat": [
          38.909991,
          38.910142,
          38.91113,
          38.911129,
          38.917002,
          38.91717,
          38.919206,
          38.919185,
          38.920756,
          38.926649,
          38.926704
         ],
         "legendgroup": "",
         "line": {
          "color": "#636efa"
         },
         "lon": [
          -77.044432,
          -77.044875,
          -77.044871,
          -77.042051,
          -77.036499,
          -77.036497,
          -77.034431,
          -77.031951,
          -77.031841,
          -77.032444,
          -77.032315
         ],
         "mode": "lines",
         "name": "",
         "showlegend": false,
         "subplot": "mapbox",
         "type": "scattermapbox"
        },
        {
         "hoverlabel": {
          "namelength": 0
         },
         "hovertemplate": "route_num=58<br>lat=%{lat}<br>lon=%{lon}",
         "lat": [
          38.926088,
          38.926275,
          38.926325,
          38.927148,
          38.92868,
          38.928798,
          38.9375
         ],
         "legendgroup": "",
         "line": {
          "color": "#636efa"
         },
         "lon": [
          -77.036474,
          -77.036475,
          -77.035484,
          -77.035552,
          -77.036187,
          -77.03267,
          -77.032722
         ],
         "mode": "lines",
         "name": "",
         "showlegend": false,
         "subplot": "mapbox",
         "type": "scattermapbox"
        },
        {
         "hoverlabel": {
          "namelength": 0
         },
         "hovertemplate": "route_num=59<br>lat=%{lat}<br>lon=%{lon}",
         "lat": [
          38.917815,
          38.917814,
          38.917608,
          38.917571,
          38.917565,
          38.911128,
          38.911125,
          38.908726,
          38.908604
         ],
         "legendgroup": "",
         "line": {
          "color": "#636efa"
         },
         "lon": [
          -77.04062,
          -77.040395,
          -77.040554,
          -77.040453,
          -77.038476,
          -77.038494,
          -77.031952,
          -77.031951,
          -77.032302
         ],
         "mode": "lines",
         "name": "",
         "showlegend": false,
         "subplot": "mapbox",
         "type": "scattermapbox"
        },
        {
         "hoverlabel": {
          "namelength": 0
         },
         "hovertemplate": "route_num=60<br>lat=%{lat}<br>lon=%{lon}",
         "lat": [
          38.915314,
          38.915553,
          38.915574,
          38.917818,
          38.917815
         ],
         "legendgroup": "",
         "line": {
          "color": "#636efa"
         },
         "lon": [
          -77.044525,
          -77.044072,
          -77.041658,
          -77.041654,
          -77.04062
         ],
         "mode": "lines",
         "name": "",
         "showlegend": false,
         "subplot": "mapbox",
         "type": "scattermapbox"
        },
        {
         "hoverlabel": {
          "namelength": 0
         },
         "hovertemplate": "route_num=61<br>lat=%{lat}<br>lon=%{lon}",
         "lat": [
          38.902061,
          38.902405,
          38.902415,
          38.90966,
          38.90966,
          38.90985
         ],
         "legendgroup": "",
         "line": {
          "color": "#636efa"
         },
         "lon": [
          -77.03852,
          -77.038519,
          -77.034692,
          -77.034647,
          -77.034557,
          -77.034557
         ],
         "mode": "lines",
         "name": "",
         "showlegend": false,
         "subplot": "mapbox",
         "type": "scattermapbox"
        },
        {
         "hoverlabel": {
          "namelength": 0
         },
         "hovertemplate": "route_num=62<br>lat=%{lat}<br>lon=%{lon}",
         "lat": [
          38.930324,
          38.930471,
          38.930671,
          38.930937,
          38.931736,
          38.932122,
          38.932213,
          38.932229,
          38.932186,
          38.930581,
          38.929809,
          38.929155,
          38.928697,
          38.928212,
          38.928002,
          38.92686,
          38.926186,
          38.925472,
          38.925233,
          38.924352,
          38.922763,
          38.922896
         ],
         "legendgroup": "",
         "line": {
          "color": "#636efa"
         },
         "lon": [
          -77.055469,
          -77.055548,
          -77.054961,
          -77.054663,
          -77.054342,
          -77.053748,
          -77.053424,
          -77.0522,
          -77.051896,
          -77.047807,
          -77.046097,
          -77.045381,
          -77.045167,
          -77.045158,
          -77.043371,
          -77.041214,
          -77.041533,
          -77.041604,
          -77.041099,
          -77.040143,
          -77.042532,
          -77.042548
         ],
         "mode": "lines",
         "name": "",
         "showlegend": false,
         "subplot": "mapbox",
         "type": "scattermapbox"
        },
        {
         "hoverlabel": {
          "namelength": 0
         },
         "hovertemplate": "route_num=63<br>lat=%{lat}<br>lon=%{lon}",
         "lat": [
          38.912202,
          38.912207,
          38.912609,
          38.912605,
          38.915136,
          38.915314
         ],
         "legendgroup": "",
         "line": {
          "color": "#636efa"
         },
         "lon": [
          -77.038701,
          -77.037207,
          -77.037204,
          -77.044873,
          -77.044861,
          -77.044525
         ],
         "mode": "lines",
         "name": "",
         "showlegend": false,
         "subplot": "mapbox",
         "type": "scattermapbox"
        },
        {
         "hoverlabel": {
          "namelength": 0
         },
         "hovertemplate": "route_num=64<br>lat=%{lat}<br>lon=%{lon}",
         "lat": [
          38.857399,
          38.857524,
          38.857539,
          38.857454,
          38.853642,
          38.853417,
          38.853425,
          38.8533
         ],
         "legendgroup": "",
         "line": {
          "color": "#636efa"
         },
         "lon": [
          -77.051185,
          -77.051263,
          -77.050918,
          -77.049273,
          -77.04946,
          -77.049501,
          -77.049685,
          -77.049695
         ],
         "mode": "lines",
         "name": "",
         "showlegend": false,
         "subplot": "mapbox",
         "type": "scattermapbox"
        },
        {
         "hoverlabel": {
          "namelength": 0
         },
         "hovertemplate": "route_num=65<br>lat=%{lat}<br>lon=%{lon}",
         "lat": [
          38.9172,
          38.917,
          38.917003,
          38.915576,
          38.912214,
          38.89445,
          38.892083,
          38.876716
         ],
         "legendgroup": "",
         "line": {
          "color": "#636efa"
         },
         "lon": [
          -77.025994,
          -77.025995,
          -77.025375,
          -77.026231,
          -77.025876,
          -77.026016,
          -77.01748,
          -77.017703
         ],
         "mode": "lines",
         "name": "",
         "showlegend": false,
         "subplot": "mapbox",
         "type": "scattermapbox"
        },
        {
         "hoverlabel": {
          "namelength": 0
         },
         "hovertemplate": "route_num=66<br>lat=%{lat}<br>lon=%{lon}",
         "lat": [
          38.90985,
          38.910056,
          38.910058,
          38.912534,
          38.912534,
          38.912608,
          38.91261,
          38.912204,
          38.912202
         ],
         "legendgroup": "",
         "line": {
          "color": "#636efa"
         },
         "lon": [
          -77.034557,
          -77.034557,
          -77.034645,
          -77.034645,
          -77.03469,
          -77.034689,
          -77.03849,
          -77.038491,
          -77.038701
         ],
         "mode": "lines",
         "name": "",
         "showlegend": false,
         "subplot": "mapbox",
         "type": "scattermapbox"
        },
        {
         "hoverlabel": {
          "namelength": 0
         },
         "hovertemplate": "route_num=67<br>lat=%{lat}<br>lon=%{lon}",
         "lat": [
          38.922604,
          38.922544,
          38.919939,
          38.919876,
          38.919562,
          38.913574,
          38.913679,
          38.91318,
          38.912526,
          38.912559,
          38.910551,
          38.910645,
          38.911122,
          38.91113,
          38.910142,
          38.909991
         ],
         "legendgroup": "",
         "line": {
          "color": "#636efa"
         },
         "lon": [
          -77.070396,
          -77.073195,
          -77.073013,
          -77.073176,
          -77.072994,
          -77.072734,
          -77.064381,
          -77.062709,
          -77.059298,
          -77.057221,
          -77.057135,
          -77.051648,
          -77.050546,
          -77.044871,
          -77.044875,
          -77.044432
         ],
         "mode": "lines",
         "name": "",
         "showlegend": false,
         "subplot": "mapbox",
         "type": "scattermapbox"
        },
        {
         "hoverlabel": {
          "namelength": 0
         },
         "hovertemplate": "route_num=68<br>lat=%{lat}<br>lon=%{lon}",
         "lat": [
          38.905658,
          38.905652,
          38.907242,
          38.90724,
          38.918044,
          38.918047
         ],
         "legendgroup": "",
         "line": {
          "color": "#636efa"
         },
         "lon": [
          -77.02227,
          -77.02703,
          -77.027035,
          -77.031951,
          -77.031952,
          -77.032108
         ],
         "mode": "lines",
         "name": "",
         "showlegend": false,
         "subplot": "mapbox",
         "type": "scattermapbox"
        },
        {
         "hoverlabel": {
          "namelength": 0
         },
         "hovertemplate": "route_num=69<br>lat=%{lat}<br>lon=%{lon}",
         "lat": [
          38.926704,
          38.926649,
          38.929586,
          38.947774
         ],
         "legendgroup": "",
         "line": {
          "color": "#636efa"
         },
         "lon": [
          -77.032315,
          -77.032444,
          -77.032732,
          -77.032725
         ],
         "mode": "lines",
         "name": "",
         "showlegend": false,
         "subplot": "mapbox",
         "type": "scattermapbox"
        },
        {
         "hoverlabel": {
          "namelength": 0
         },
         "hovertemplate": "route_num=70<br>lat=%{lat}<br>lon=%{lon}",
         "lat": [
          38.918047,
          38.918044,
          38.911125,
          38.911071,
          38.905653,
          38.905658
         ],
         "legendgroup": "",
         "line": {
          "color": "#636efa"
         },
         "lon": [
          -77.032108,
          -77.031952,
          -77.031952,
          -77.026085,
          -77.025988,
          -77.02227
         ],
         "mode": "lines",
         "name": "",
         "showlegend": false,
         "subplot": "mapbox",
         "type": "scattermapbox"
        },
        {
         "hoverlabel": {
          "namelength": 0
         },
         "hovertemplate": "route_num=71<br>lat=%{lat}<br>lon=%{lon}",
         "lat": [
          38.9059,
          38.906596,
          38.911126,
          38.911051,
          38.911688,
          38.911679,
          38.911125,
          38.911115,
          38.910635,
          38.911108,
          38.911114,
          38.910975
         ],
         "legendgroup": "",
         "line": {
          "color": "#636efa"
         },
         "lon": [
          -77.0325,
          -77.034676,
          -77.034642,
          -77.026298,
          -77.02415,
          -77.023963,
          -77.023968,
          -77.009823,
          -77.008697,
          -77.008433,
          -77.004934,
          -77.004968
         ],
         "mode": "lines",
         "name": "",
         "showlegend": false,
         "subplot": "mapbox",
         "type": "scattermapbox"
        },
        {
         "hoverlabel": {
          "namelength": 0
         },
         "hovertemplate": "route_num=72<br>lat=%{lat}<br>lon=%{lon}",
         "lat": [
          38.896955,
          38.897336,
          38.897333,
          38.894785,
          38.894783
         ],
         "legendgroup": "",
         "line": {
          "color": "#636efa"
         },
         "lon": [
          -77.004907,
          -77.004716,
          -76.993761,
          -76.993756,
          -76.987633
         ],
         "mode": "lines",
         "name": "",
         "showlegend": false,
         "subplot": "mapbox",
         "type": "scattermapbox"
        },
        {
         "hoverlabel": {
          "namelength": 0
         },
         "hovertemplate": "route_num=73<br>lat=%{lat}<br>lon=%{lon}",
         "lat": [
          38.9319,
          38.931381,
          38.931153,
          38.927116,
          38.926952,
          38.92715,
          38.92718,
          38.926302,
          38.926139,
          38.925192,
          38.923425,
          38.923264,
          38.923254,
          38.923165,
          38.923178
         ],
         "legendgroup": "",
         "line": {
          "color": "#636efa"
         },
         "lon": [
          -77.038858,
          -77.038851,
          -77.038308,
          -77.03676,
          -77.037555,
          -77.038287,
          -77.03915,
          -77.03932,
          -77.039441,
          -77.041051,
          -77.043677,
          -77.04367,
          -77.047477,
          -77.047471,
          -77.04764
         ],
         "mode": "lines",
         "name": "",
         "showlegend": false,
         "subplot": "mapbox",
         "type": "scattermapbox"
        },
        {
         "hoverlabel": {
          "namelength": 0
         },
         "hovertemplate": "route_num=74<br>lat=%{lat}<br>lon=%{lon}",
         "lat": [
          38.900694,
          38.900691,
          38.900832,
          38.900712,
          38.903794,
          38.903775,
          38.904944,
          38.905072,
          38.905478,
          38.906027,
          38.90724,
          38.907242,
          38.914294,
          38.914593,
          38.915581,
          38.915571
         ],
         "legendgroup": "",
         "line": {
          "color": "#636efa"
         },
         "lon": [
          -77.046449,
          -77.045317,
          -77.045242,
          -77.044904,
          -77.044901,
          -77.033055,
          -77.032334,
          -77.031977,
          -77.031572,
          -77.031686,
          -77.031019,
          -77.027035,
          -77.027035,
          -77.026685,
          -77.026089,
          -77.0222
         ],
         "mode": "lines",
         "name": "",
         "showlegend": false,
         "subplot": "mapbox",
         "type": "scattermapbox"
        },
        {
         "hoverlabel": {
          "namelength": 0
         },
         "hovertemplate": "route_num=75<br>lat=%{lat}<br>lon=%{lon}",
         "lat": [
          38.889807,
          38.889804,
          38.88603,
          38.886034,
          38.885437,
          38.885354,
          38.885354,
          38.884102,
          38.880571,
          38.880557,
          38.880431,
          38.880285
         ],
         "legendgroup": "",
         "line": {
          "color": "#636efa"
         },
         "lon": [
          -77.000349,
          -76.993757,
          -76.993759,
          -76.99024,
          -76.99024,
          -76.990076,
          -76.986547,
          -76.98552,
          -76.985507,
          -76.985858,
          -76.986069,
          -76.986109
         ],
         "mode": "lines",
         "name": "",
         "showlegend": false,
         "subplot": "mapbox",
         "type": "scattermapbox"
        }
       ],
       "layout": {
        "legend": {
         "tracegroupgap": 0
        },
        "mapbox": {
         "accesstoken": "pk.eyJ1IjoibG1hZ25hbmEiLCJhIjoiY2s2N3hmNzgwMGNnODNqcGJ1N2l2ZXZpdiJ9.-aOxDLM8KbEQnJfXegtl7A",
         "center": {
          "lat": 38.909591568275864,
          "lon": -77.03464726068965
         },
         "domain": {
          "x": [
           0,
           1
          ],
          "y": [
           0,
           1
          ]
         },
         "zoom": 11
        },
        "margin": {
         "t": 60
        },
        "template": {
         "data": {
          "bar": [
           {
            "error_x": {
             "color": "#2a3f5f"
            },
            "error_y": {
             "color": "#2a3f5f"
            },
            "marker": {
             "line": {
              "color": "#E5ECF6",
              "width": 0.5
             }
            },
            "type": "bar"
           }
          ],
          "barpolar": [
           {
            "marker": {
             "line": {
              "color": "#E5ECF6",
              "width": 0.5
             }
            },
            "type": "barpolar"
           }
          ],
          "carpet": [
           {
            "aaxis": {
             "endlinecolor": "#2a3f5f",
             "gridcolor": "white",
             "linecolor": "white",
             "minorgridcolor": "white",
             "startlinecolor": "#2a3f5f"
            },
            "baxis": {
             "endlinecolor": "#2a3f5f",
             "gridcolor": "white",
             "linecolor": "white",
             "minorgridcolor": "white",
             "startlinecolor": "#2a3f5f"
            },
            "type": "carpet"
           }
          ],
          "choropleth": [
           {
            "colorbar": {
             "outlinewidth": 0,
             "ticks": ""
            },
            "type": "choropleth"
           }
          ],
          "contour": [
           {
            "colorbar": {
             "outlinewidth": 0,
             "ticks": ""
            },
            "colorscale": [
             [
              0,
              "#0d0887"
             ],
             [
              0.1111111111111111,
              "#46039f"
             ],
             [
              0.2222222222222222,
              "#7201a8"
             ],
             [
              0.3333333333333333,
              "#9c179e"
             ],
             [
              0.4444444444444444,
              "#bd3786"
             ],
             [
              0.5555555555555556,
              "#d8576b"
             ],
             [
              0.6666666666666666,
              "#ed7953"
             ],
             [
              0.7777777777777778,
              "#fb9f3a"
             ],
             [
              0.8888888888888888,
              "#fdca26"
             ],
             [
              1,
              "#f0f921"
             ]
            ],
            "type": "contour"
           }
          ],
          "contourcarpet": [
           {
            "colorbar": {
             "outlinewidth": 0,
             "ticks": ""
            },
            "type": "contourcarpet"
           }
          ],
          "heatmap": [
           {
            "colorbar": {
             "outlinewidth": 0,
             "ticks": ""
            },
            "colorscale": [
             [
              0,
              "#0d0887"
             ],
             [
              0.1111111111111111,
              "#46039f"
             ],
             [
              0.2222222222222222,
              "#7201a8"
             ],
             [
              0.3333333333333333,
              "#9c179e"
             ],
             [
              0.4444444444444444,
              "#bd3786"
             ],
             [
              0.5555555555555556,
              "#d8576b"
             ],
             [
              0.6666666666666666,
              "#ed7953"
             ],
             [
              0.7777777777777778,
              "#fb9f3a"
             ],
             [
              0.8888888888888888,
              "#fdca26"
             ],
             [
              1,
              "#f0f921"
             ]
            ],
            "type": "heatmap"
           }
          ],
          "heatmapgl": [
           {
            "colorbar": {
             "outlinewidth": 0,
             "ticks": ""
            },
            "colorscale": [
             [
              0,
              "#0d0887"
             ],
             [
              0.1111111111111111,
              "#46039f"
             ],
             [
              0.2222222222222222,
              "#7201a8"
             ],
             [
              0.3333333333333333,
              "#9c179e"
             ],
             [
              0.4444444444444444,
              "#bd3786"
             ],
             [
              0.5555555555555556,
              "#d8576b"
             ],
             [
              0.6666666666666666,
              "#ed7953"
             ],
             [
              0.7777777777777778,
              "#fb9f3a"
             ],
             [
              0.8888888888888888,
              "#fdca26"
             ],
             [
              1,
              "#f0f921"
             ]
            ],
            "type": "heatmapgl"
           }
          ],
          "histogram": [
           {
            "marker": {
             "colorbar": {
              "outlinewidth": 0,
              "ticks": ""
             }
            },
            "type": "histogram"
           }
          ],
          "histogram2d": [
           {
            "colorbar": {
             "outlinewidth": 0,
             "ticks": ""
            },
            "colorscale": [
             [
              0,
              "#0d0887"
             ],
             [
              0.1111111111111111,
              "#46039f"
             ],
             [
              0.2222222222222222,
              "#7201a8"
             ],
             [
              0.3333333333333333,
              "#9c179e"
             ],
             [
              0.4444444444444444,
              "#bd3786"
             ],
             [
              0.5555555555555556,
              "#d8576b"
             ],
             [
              0.6666666666666666,
              "#ed7953"
             ],
             [
              0.7777777777777778,
              "#fb9f3a"
             ],
             [
              0.8888888888888888,
              "#fdca26"
             ],
             [
              1,
              "#f0f921"
             ]
            ],
            "type": "histogram2d"
           }
          ],
          "histogram2dcontour": [
           {
            "colorbar": {
             "outlinewidth": 0,
             "ticks": ""
            },
            "colorscale": [
             [
              0,
              "#0d0887"
             ],
             [
              0.1111111111111111,
              "#46039f"
             ],
             [
              0.2222222222222222,
              "#7201a8"
             ],
             [
              0.3333333333333333,
              "#9c179e"
             ],
             [
              0.4444444444444444,
              "#bd3786"
             ],
             [
              0.5555555555555556,
              "#d8576b"
             ],
             [
              0.6666666666666666,
              "#ed7953"
             ],
             [
              0.7777777777777778,
              "#fb9f3a"
             ],
             [
              0.8888888888888888,
              "#fdca26"
             ],
             [
              1,
              "#f0f921"
             ]
            ],
            "type": "histogram2dcontour"
           }
          ],
          "mesh3d": [
           {
            "colorbar": {
             "outlinewidth": 0,
             "ticks": ""
            },
            "type": "mesh3d"
           }
          ],
          "parcoords": [
           {
            "line": {
             "colorbar": {
              "outlinewidth": 0,
              "ticks": ""
             }
            },
            "type": "parcoords"
           }
          ],
          "pie": [
           {
            "automargin": true,
            "type": "pie"
           }
          ],
          "scatter": [
           {
            "marker": {
             "colorbar": {
              "outlinewidth": 0,
              "ticks": ""
             }
            },
            "type": "scatter"
           }
          ],
          "scatter3d": [
           {
            "line": {
             "colorbar": {
              "outlinewidth": 0,
              "ticks": ""
             }
            },
            "marker": {
             "colorbar": {
              "outlinewidth": 0,
              "ticks": ""
             }
            },
            "type": "scatter3d"
           }
          ],
          "scattercarpet": [
           {
            "marker": {
             "colorbar": {
              "outlinewidth": 0,
              "ticks": ""
             }
            },
            "type": "scattercarpet"
           }
          ],
          "scattergeo": [
           {
            "marker": {
             "colorbar": {
              "outlinewidth": 0,
              "ticks": ""
             }
            },
            "type": "scattergeo"
           }
          ],
          "scattergl": [
           {
            "marker": {
             "colorbar": {
              "outlinewidth": 0,
              "ticks": ""
             }
            },
            "type": "scattergl"
           }
          ],
          "scattermapbox": [
           {
            "marker": {
             "colorbar": {
              "outlinewidth": 0,
              "ticks": ""
             }
            },
            "type": "scattermapbox"
           }
          ],
          "scatterpolar": [
           {
            "marker": {
             "colorbar": {
              "outlinewidth": 0,
              "ticks": ""
             }
            },
            "type": "scatterpolar"
           }
          ],
          "scatterpolargl": [
           {
            "marker": {
             "colorbar": {
              "outlinewidth": 0,
              "ticks": ""
             }
            },
            "type": "scatterpolargl"
           }
          ],
          "scatterternary": [
           {
            "marker": {
             "colorbar": {
              "outlinewidth": 0,
              "ticks": ""
             }
            },
            "type": "scatterternary"
           }
          ],
          "surface": [
           {
            "colorbar": {
             "outlinewidth": 0,
             "ticks": ""
            },
            "colorscale": [
             [
              0,
              "#0d0887"
             ],
             [
              0.1111111111111111,
              "#46039f"
             ],
             [
              0.2222222222222222,
              "#7201a8"
             ],
             [
              0.3333333333333333,
              "#9c179e"
             ],
             [
              0.4444444444444444,
              "#bd3786"
             ],
             [
              0.5555555555555556,
              "#d8576b"
             ],
             [
              0.6666666666666666,
              "#ed7953"
             ],
             [
              0.7777777777777778,
              "#fb9f3a"
             ],
             [
              0.8888888888888888,
              "#fdca26"
             ],
             [
              1,
              "#f0f921"
             ]
            ],
            "type": "surface"
           }
          ],
          "table": [
           {
            "cells": {
             "fill": {
              "color": "#EBF0F8"
             },
             "line": {
              "color": "white"
             }
            },
            "header": {
             "fill": {
              "color": "#C8D4E3"
             },
             "line": {
              "color": "white"
             }
            },
            "type": "table"
           }
          ]
         },
         "layout": {
          "annotationdefaults": {
           "arrowcolor": "#2a3f5f",
           "arrowhead": 0,
           "arrowwidth": 1
          },
          "coloraxis": {
           "colorbar": {
            "outlinewidth": 0,
            "ticks": ""
           }
          },
          "colorscale": {
           "diverging": [
            [
             0,
             "#8e0152"
            ],
            [
             0.1,
             "#c51b7d"
            ],
            [
             0.2,
             "#de77ae"
            ],
            [
             0.3,
             "#f1b6da"
            ],
            [
             0.4,
             "#fde0ef"
            ],
            [
             0.5,
             "#f7f7f7"
            ],
            [
             0.6,
             "#e6f5d0"
            ],
            [
             0.7,
             "#b8e186"
            ],
            [
             0.8,
             "#7fbc41"
            ],
            [
             0.9,
             "#4d9221"
            ],
            [
             1,
             "#276419"
            ]
           ],
           "sequential": [
            [
             0,
             "#0d0887"
            ],
            [
             0.1111111111111111,
             "#46039f"
            ],
            [
             0.2222222222222222,
             "#7201a8"
            ],
            [
             0.3333333333333333,
             "#9c179e"
            ],
            [
             0.4444444444444444,
             "#bd3786"
            ],
            [
             0.5555555555555556,
             "#d8576b"
            ],
            [
             0.6666666666666666,
             "#ed7953"
            ],
            [
             0.7777777777777778,
             "#fb9f3a"
            ],
            [
             0.8888888888888888,
             "#fdca26"
            ],
            [
             1,
             "#f0f921"
            ]
           ],
           "sequentialminus": [
            [
             0,
             "#0d0887"
            ],
            [
             0.1111111111111111,
             "#46039f"
            ],
            [
             0.2222222222222222,
             "#7201a8"
            ],
            [
             0.3333333333333333,
             "#9c179e"
            ],
            [
             0.4444444444444444,
             "#bd3786"
            ],
            [
             0.5555555555555556,
             "#d8576b"
            ],
            [
             0.6666666666666666,
             "#ed7953"
            ],
            [
             0.7777777777777778,
             "#fb9f3a"
            ],
            [
             0.8888888888888888,
             "#fdca26"
            ],
            [
             1,
             "#f0f921"
            ]
           ]
          },
          "colorway": [
           "#636efa",
           "#EF553B",
           "#00cc96",
           "#ab63fa",
           "#FFA15A",
           "#19d3f3",
           "#FF6692",
           "#B6E880",
           "#FF97FF",
           "#FECB52"
          ],
          "font": {
           "color": "#2a3f5f"
          },
          "geo": {
           "bgcolor": "white",
           "lakecolor": "white",
           "landcolor": "#E5ECF6",
           "showlakes": true,
           "showland": true,
           "subunitcolor": "white"
          },
          "hoverlabel": {
           "align": "left"
          },
          "hovermode": "closest",
          "mapbox": {
           "style": "light"
          },
          "paper_bgcolor": "white",
          "plot_bgcolor": "#E5ECF6",
          "polar": {
           "angularaxis": {
            "gridcolor": "white",
            "linecolor": "white",
            "ticks": ""
           },
           "bgcolor": "#E5ECF6",
           "radialaxis": {
            "gridcolor": "white",
            "linecolor": "white",
            "ticks": ""
           }
          },
          "scene": {
           "xaxis": {
            "backgroundcolor": "#E5ECF6",
            "gridcolor": "white",
            "gridwidth": 2,
            "linecolor": "white",
            "showbackground": true,
            "ticks": "",
            "zerolinecolor": "white"
           },
           "yaxis": {
            "backgroundcolor": "#E5ECF6",
            "gridcolor": "white",
            "gridwidth": 2,
            "linecolor": "white",
            "showbackground": true,
            "ticks": "",
            "zerolinecolor": "white"
           },
           "zaxis": {
            "backgroundcolor": "#E5ECF6",
            "gridcolor": "white",
            "gridwidth": 2,
            "linecolor": "white",
            "showbackground": true,
            "ticks": "",
            "zerolinecolor": "white"
           }
          },
          "shapedefaults": {
           "line": {
            "color": "#2a3f5f"
           }
          },
          "ternary": {
           "aaxis": {
            "gridcolor": "white",
            "linecolor": "white",
            "ticks": ""
           },
           "baxis": {
            "gridcolor": "white",
            "linecolor": "white",
            "ticks": ""
           },
           "bgcolor": "#E5ECF6",
           "caxis": {
            "gridcolor": "white",
            "linecolor": "white",
            "ticks": ""
           }
          },
          "title": {
           "x": 0.05
          },
          "xaxis": {
           "automargin": true,
           "gridcolor": "white",
           "linecolor": "white",
           "ticks": "",
           "title": {
            "standoff": 15
           },
           "zerolinecolor": "white",
           "zerolinewidth": 2
          },
          "yaxis": {
           "automargin": true,
           "gridcolor": "white",
           "linecolor": "white",
           "ticks": "",
           "title": {
            "standoff": 15
           },
           "zerolinecolor": "white",
           "zerolinewidth": 2
          }
         }
        }
       }
      },
      "text/html": [
       "<div>\n",
       "        \n",
       "        \n",
       "            <div id=\"ef8aac83-798d-484a-a431-a27e815264a7\" class=\"plotly-graph-div\" style=\"height:525px; width:100%;\"></div>\n",
       "            <script type=\"text/javascript\">\n",
       "                require([\"plotly\"], function(Plotly) {\n",
       "                    window.PLOTLYENV=window.PLOTLYENV || {};\n",
       "                    \n",
       "                if (document.getElementById(\"ef8aac83-798d-484a-a431-a27e815264a7\")) {\n",
       "                    Plotly.newPlot(\n",
       "                        'ef8aac83-798d-484a-a431-a27e815264a7',\n",
       "                        [{\"hoverlabel\": {\"namelength\": 0}, \"hovertemplate\": \"route_num=0<br>lat=%{lat}<br>lon=%{lon}\", \"lat\": [38.912606, 38.912605, 38.91557, 38.915571], \"legendgroup\": \"\", \"line\": {\"color\": \"#636efa\"}, \"lon\": [-77.022153, -77.022433, -77.022416, -77.0222], \"mode\": \"lines\", \"name\": \"\", \"showlegend\": false, \"subplot\": \"mapbox\", \"type\": \"scattermapbox\"}, {\"hoverlabel\": {\"namelength\": 0}, \"hovertemplate\": \"route_num=1<br>lat=%{lat}<br>lon=%{lon}\", \"lat\": [38.936016, 38.935106, 38.935964, 38.932791, 38.931346, 38.929586, 38.927519, 38.927339, 38.926522, 38.926088], \"legendgroup\": \"\", \"line\": {\"color\": \"#636efa\"}, \"lon\": [-77.024589, -77.025303, -77.028499, -77.028493, -77.032718, -77.032732, -77.032542, -77.034976, -77.036474, -77.036474], \"mode\": \"lines\", \"name\": \"\", \"showlegend\": false, \"subplot\": \"mapbox\", \"type\": \"scattermapbox\"}, {\"hoverlabel\": {\"namelength\": 0}, \"hovertemplate\": \"route_num=2<br>lat=%{lat}<br>lon=%{lon}\", \"lat\": [38.918047, 38.918044, 38.920756, 38.93022, 38.930724], \"legendgroup\": \"\", \"line\": {\"color\": \"#636efa\"}, \"lon\": [-77.032108, -77.031952, -77.031841, -77.032719, -77.031457], \"mode\": \"lines\", \"name\": \"\", \"showlegend\": false, \"subplot\": \"mapbox\", \"type\": \"scattermapbox\"}, {\"hoverlabel\": {\"namelength\": 0}, \"hovertemplate\": \"route_num=3<br>lat=%{lat}<br>lon=%{lon}\", \"lat\": [38.929483, 38.926633, 38.91557, 38.915571], \"legendgroup\": \"\", \"line\": {\"color\": \"#636efa\"}, \"lon\": [-77.027697, -77.027037, -77.027036, -77.0222], \"mode\": \"lines\", \"name\": \"\", \"showlegend\": false, \"subplot\": \"mapbox\", \"type\": \"scattermapbox\"}, {\"hoverlabel\": {\"namelength\": 0}, \"hovertemplate\": \"route_num=4<br>lat=%{lat}<br>lon=%{lon}\", \"lat\": [38.891657, 38.891646, 38.89146, 38.891702, 38.891893, 38.892375, 38.892913, 38.893811, 38.893917, 38.894101, 38.89451, 38.894745, 38.89553, 38.896363, 38.896611, 38.897034, 38.897107, 38.897108, 38.897319], \"legendgroup\": \"\", \"line\": {\"color\": \"#636efa\"}, \"lon\": [-77.084595, -77.084725, -77.084699, -77.081587, -77.081172, -77.080535, -77.079183, -77.074793, -77.074502, -77.074203, -77.073804, -77.073114, -77.073202, -77.072943, -77.072722, -77.072068, -77.071772, -77.071191, -77.071008], \"mode\": \"lines\", \"name\": \"\", \"showlegend\": false, \"subplot\": \"mapbox\", \"type\": \"scattermapbox\"}, {\"hoverlabel\": {\"namelength\": 0}, \"hovertemplate\": \"route_num=5<br>lat=%{lat}<br>lon=%{lon}\", \"lat\": [38.907741, 38.907705, 38.908957, 38.910572, 38.910645, 38.911122, 38.911129, 38.919206, 38.919185, 38.920756, 38.93022, 38.930926, 38.936595, 38.936378, 38.941867, 38.941791], \"legendgroup\": \"\", \"line\": {\"color\": \"#636efa\"}, \"lon\": [-77.071611, -77.055824, -77.055838, -77.054954, -77.051648, -77.050546, -77.042051, -77.034431, -77.031951, -77.031841, -77.032719, -77.030873, -77.030864, -77.030043, -77.025938, -77.0251], \"mode\": \"lines\", \"name\": \"\", \"showlegend\": false, \"subplot\": \"mapbox\", \"type\": \"scattermapbox\"}, {\"hoverlabel\": {\"namelength\": 0}, \"hovertemplate\": \"route_num=6<br>lat=%{lat}<br>lon=%{lon}\", \"lat\": [38.918047, 38.918112, 38.918116, 38.90966, 38.90966, 38.90985], \"legendgroup\": \"\", \"line\": {\"color\": \"#636efa\"}, \"lon\": [-77.032108, -77.032128, -77.034617, -77.034647, -77.034557, -77.034557], \"mode\": \"lines\", \"name\": \"\", \"showlegend\": false, \"subplot\": \"mapbox\", \"type\": \"scattermapbox\"}, {\"hoverlabel\": {\"namelength\": 0}, \"hovertemplate\": \"route_num=7<br>lat=%{lat}<br>lon=%{lon}\", \"lat\": [38.897319, 38.897108, 38.897098, 38.898167, 38.898165, 38.898979, 38.899655, 38.899709, 38.899984, 38.900272, 38.904844, 38.904955, 38.904982, 38.904651, 38.904678, 38.906801, 38.906866, 38.906797, 38.906857, 38.904936, 38.903731], \"legendgroup\": \"\", \"line\": {\"color\": \"#636efa\"}, \"lon\": [-77.071008, -77.071191, -77.07084, -77.070787, -77.070679, -77.070608, -77.070631, -77.070531, -77.070691, -77.070693, -77.068562, -77.06841, -77.067824, -77.067811, -77.066011, -77.066074, -77.063174, -77.062881, -77.057059, -77.057017, -77.05354], \"mode\": \"lines\", \"name\": \"\", \"showlegend\": false, \"subplot\": \"mapbox\", \"type\": \"scattermapbox\"}, {\"hoverlabel\": {\"namelength\": 0}, \"hovertemplate\": \"route_num=8<br>lat=%{lat}<br>lon=%{lon}\", \"lat\": [38.918047, 38.911125, 38.910974, 38.89445, 38.89331, 38.886322, 38.886323], \"legendgroup\": \"\", \"line\": {\"color\": \"#636efa\"}, \"lon\": [-77.032108, -77.031952, -77.025995, -77.026016, -77.021929, -77.021912, -77.022241], \"mode\": \"lines\", \"name\": \"\", \"showlegend\": false, \"subplot\": \"mapbox\", \"type\": \"scattermapbox\"}, {\"hoverlabel\": {\"namelength\": 0}, \"hovertemplate\": \"route_num=9<br>lat=%{lat}<br>lon=%{lon}\", \"lat\": [38.947575, 38.945494, 38.945529, 38.93733, 38.937332, 38.931753, 38.931467, 38.930509, 38.92752, 38.92328, 38.923535, 38.92325, 38.922661, 38.922328, 38.915888, 38.910471, 38.909991], \"legendgroup\": \"\", \"line\": {\"color\": \"#636efa\"}, \"lon\": [-77.07948, -77.078324, -77.072411, -77.072418, -77.070886, -77.070879, -77.06639, -77.063254, -77.06324, -77.057894, -77.051332, -77.047347, -77.047139, -77.046287, -77.043436, -77.043443, -77.044432], \"mode\": \"lines\", \"name\": \"\", \"showlegend\": false, \"subplot\": \"mapbox\", \"type\": \"scattermapbox\"}, {\"hoverlabel\": {\"namelength\": 0}, \"hovertemplate\": \"route_num=10<br>lat=%{lat}<br>lon=%{lon}\", \"lat\": [38.899051, 38.898975, 38.898802, 38.898785, 38.898774, 38.901331, 38.900694, 38.900694], \"legendgroup\": \"\", \"line\": {\"color\": \"#636efa\"}, \"lon\": [-77.033365, -77.033643, -77.033648, -77.033767, -77.039325, -77.046653, -77.046655, -77.046449], \"mode\": \"lines\", \"name\": \"\", \"showlegend\": false, \"subplot\": \"mapbox\", \"type\": \"scattermapbox\"}, {\"hoverlabel\": {\"namelength\": 0}, \"hovertemplate\": \"route_num=11<br>lat=%{lat}<br>lon=%{lon}\", \"lat\": [38.898321, 38.898314, 38.898802, 38.898783, 38.900333, 38.901218, 38.905647, 38.905647, 38.905803, 38.905652, 38.905657, 38.910142, 38.909991], \"legendgroup\": \"\", \"line\": {\"color\": \"#636efa\"}, \"lon\": [-77.027869, -77.033656, -77.033648, -77.035127, -77.035203, -77.034696, -77.034678, -77.040157, -77.040486, -77.041457, -77.044898, -77.044875, -77.044432], \"mode\": \"lines\", \"name\": \"\", \"showlegend\": false, \"subplot\": \"mapbox\", \"type\": \"scattermapbox\"}, {\"hoverlabel\": {\"namelength\": 0}, \"hovertemplate\": \"route_num=12<br>lat=%{lat}<br>lon=%{lon}\", \"lat\": [38.9319, 38.931381, 38.931153, 38.928733, 38.928798, 38.92068, 38.908726, 38.908604], \"legendgroup\": \"\", \"line\": {\"color\": \"#636efa\"}, \"lon\": [-77.038858, -77.038851, -77.038308, -77.037351, -77.03267, -77.031839, -77.031951, -77.032302], \"mode\": \"lines\", \"name\": \"\", \"showlegend\": false, \"subplot\": \"mapbox\", \"type\": \"scattermapbox\"}, {\"hoverlabel\": {\"namelength\": 0}, \"hovertemplate\": \"route_num=13<br>lat=%{lat}<br>lon=%{lon}\", \"lat\": [38.903731, 38.903653, 38.903728, 38.903738, 38.903784, 38.903776, 38.901218, 38.900333, 38.898783, 38.898802, 38.898975, 38.899051], \"legendgroup\": \"\", \"line\": {\"color\": \"#636efa\"}, \"lon\": [-77.05354, -77.053315, -77.053079, -77.048989, -77.048813, -77.034682, -77.034696, -77.035203, -77.035127, -77.033648, -77.033643, -77.033365], \"mode\": \"lines\", \"name\": \"\", \"showlegend\": false, \"subplot\": \"mapbox\", \"type\": \"scattermapbox\"}, {\"hoverlabel\": {\"namelength\": 0}, \"hovertemplate\": \"route_num=14<br>lat=%{lat}<br>lon=%{lon}\", \"lat\": [38.915571, 38.915572, 38.90661, 38.905653, 38.905658], \"legendgroup\": \"\", \"line\": {\"color\": \"#636efa\"}, \"lon\": [-77.0222, -77.021922, -77.021916, -77.021933, -77.02227], \"mode\": \"lines\", \"name\": \"\", \"showlegend\": false, \"subplot\": \"mapbox\", \"type\": \"scattermapbox\"}, {\"hoverlabel\": {\"namelength\": 0}, \"hovertemplate\": \"route_num=15<br>lat=%{lat}<br>lon=%{lon}\", \"lat\": [38.908604, 38.908726, 38.918044, 38.918047], \"legendgroup\": \"\", \"line\": {\"color\": \"#636efa\"}, \"lon\": [-77.032302, -77.031951, -77.031952, -77.032108], \"mode\": \"lines\", \"name\": \"\", \"showlegend\": false, \"subplot\": \"mapbox\", \"type\": \"scattermapbox\"}, {\"hoverlabel\": {\"namelength\": 0}, \"hovertemplate\": \"route_num=16<br>lat=%{lat}<br>lon=%{lon}\", \"lat\": [38.912202, 38.912202], \"legendgroup\": \"\", \"line\": {\"color\": \"#636efa\"}, \"lon\": [-77.038701, -77.038701], \"mode\": \"lines\", \"name\": \"\", \"showlegend\": false, \"subplot\": \"mapbox\", \"type\": \"scattermapbox\"}, {\"hoverlabel\": {\"namelength\": 0}, \"hovertemplate\": \"route_num=17<br>lat=%{lat}<br>lon=%{lon}\", \"lat\": [38.912202, 38.912204, 38.911545, 38.911545, 38.911648, 38.91028, 38.910213, 38.910299, 38.910131, 38.90997, 38.909991], \"legendgroup\": \"\", \"line\": {\"color\": \"#636efa\"}, \"lon\": [-77.038701, -77.038491, -77.038493, -77.041386, -77.041562, -77.042862, -77.043058, -77.043573, -77.043928, -77.044115, -77.044432], \"mode\": \"lines\", \"name\": \"\", \"showlegend\": false, \"subplot\": \"mapbox\", \"type\": \"scattermapbox\"}, {\"hoverlabel\": {\"namelength\": 0}, \"hovertemplate\": \"route_num=18<br>lat=%{lat}<br>lon=%{lon}\", \"lat\": [38.899621, 38.89959, 38.89941, 38.901392, 38.900887, 38.900876, 38.899705, 38.899707], \"legendgroup\": \"\", \"line\": {\"color\": \"#636efa\"}, \"lon\": [-77.03168, -77.031766, -77.031771, -77.025984, -77.025989, -77.022955, -77.022948, -77.023038], \"mode\": \"lines\", \"name\": \"\", \"showlegend\": false, \"subplot\": \"mapbox\", \"type\": \"scattermapbox\"}, {\"hoverlabel\": {\"namelength\": 0}, \"hovertemplate\": \"route_num=19<br>lat=%{lat}<br>lon=%{lon}\", \"lat\": [38.880285, 38.880285], \"legendgroup\": \"\", \"line\": {\"color\": \"#636efa\"}, \"lon\": [-76.986109, -76.986109], \"mode\": \"lines\", \"name\": \"\", \"showlegend\": false, \"subplot\": \"mapbox\", \"type\": \"scattermapbox\"}, {\"hoverlabel\": {\"namelength\": 0}, \"hovertemplate\": \"route_num=20<br>lat=%{lat}<br>lon=%{lon}\", \"lat\": [38.88412, 38.892083, 38.89331, 38.897255, 38.897331, 38.897242], \"legendgroup\": \"\", \"line\": {\"color\": \"#636efa\"}, \"lon\": [-77.017556, -77.01748, -77.021929, -77.021926, -77.019073, -77.019347], \"mode\": \"lines\", \"name\": \"\", \"showlegend\": false, \"subplot\": \"mapbox\", \"type\": \"scattermapbox\"}, {\"hoverlabel\": {\"namelength\": 0}, \"hovertemplate\": \"route_num=21<br>lat=%{lat}<br>lon=%{lon}\", \"lat\": [38.905067, 38.905655, 38.905625, 38.901331, 38.900208, 38.900208], \"legendgroup\": \"\", \"line\": {\"color\": \"#636efa\"}, \"lon\": [-77.041694, -77.041691, -77.046642, -77.046653, -77.043468, -77.0429], \"mode\": \"lines\", \"name\": \"\", \"showlegend\": false, \"subplot\": \"mapbox\", \"type\": \"scattermapbox\"}, {\"hoverlabel\": {\"namelength\": 0}, \"hovertemplate\": \"route_num=22<br>lat=%{lat}<br>lon=%{lon}\", \"lat\": [38.90985, 38.910056, 38.910058, 38.914091, 38.914092, 38.915574, 38.91557], \"legendgroup\": \"\", \"line\": {\"color\": \"#636efa\"}, \"lon\": [-77.034557, -77.034557, -77.034645, -77.034638, -77.039275, -77.037884, -77.038181], \"mode\": \"lines\", \"name\": \"\", \"showlegend\": false, \"subplot\": \"mapbox\", \"type\": \"scattermapbox\"}, {\"hoverlabel\": {\"namelength\": 0}, \"hovertemplate\": \"route_num=23<br>lat=%{lat}<br>lon=%{lon}\", \"lat\": [38.909991, 38.910142, 38.91113, 38.911071, 38.904172, 38.90417, 38.902524, 38.902518, 38.899409], \"legendgroup\": \"\", \"line\": {\"color\": \"#636efa\"}, \"lon\": [-77.044432, -77.044875, -77.044871, -77.026085, -77.02598, -77.021939, -77.021939, -77.015177, -77.015223], \"mode\": \"lines\", \"name\": \"\", \"showlegend\": false, \"subplot\": \"mapbox\", \"type\": \"scattermapbox\"}, {\"hoverlabel\": {\"namelength\": 0}, \"hovertemplate\": \"route_num=24<br>lat=%{lat}<br>lon=%{lon}\", \"lat\": [38.930724, 38.930395, 38.930505, 38.923635, 38.923253, 38.922733, 38.920196, 38.919848, 38.919663, 38.919664, 38.920695], \"legendgroup\": \"\", \"line\": {\"color\": \"#636efa\"}, \"lon\": [-77.031457, -77.032408, -77.032718, -77.032132, -77.036483, -77.036484, -77.040869, -77.040755, -77.04167, -77.044398, -77.043772], \"mode\": \"lines\", \"name\": \"\", \"showlegend\": false, \"subplot\": \"mapbox\", \"type\": \"scattermapbox\"}, {\"hoverlabel\": {\"namelength\": 0}, \"hovertemplate\": \"route_num=25<br>lat=%{lat}<br>lon=%{lon}\", \"lat\": [38.912202, 38.912204, 38.911128, 38.911126, 38.918355, 38.920645, 38.921071, 38.924799, 38.924765, 38.926088], \"legendgroup\": \"\", \"line\": {\"color\": \"#636efa\"}, \"lon\": [-77.038701, -77.038491, -77.038494, -77.034642, -77.034619, -77.034815, -77.035194, -77.03539, -77.036479, -77.036474], \"mode\": \"lines\", \"name\": \"\", \"showlegend\": false, \"subplot\": \"mapbox\", \"type\": \"scattermapbox\"}, {\"hoverlabel\": {\"namelength\": 0}, \"hovertemplate\": \"route_num=26<br>lat=%{lat}<br>lon=%{lon}\", \"lat\": [38.900208, 38.900208, 38.900129, 38.900008, 38.901331, 38.900694, 38.900694], \"legendgroup\": \"\", \"line\": {\"color\": \"#636efa\"}, \"lon\": [-77.0429, -77.042522, -77.042788, -77.042895, -77.046653, -77.046655, -77.046449], \"mode\": \"lines\", \"name\": \"\", \"showlegend\": false, \"subplot\": \"mapbox\", \"type\": \"scattermapbox\"}, {\"hoverlabel\": {\"namelength\": 0}, \"hovertemplate\": \"route_num=27<br>lat=%{lat}<br>lon=%{lon}\", \"lat\": [38.922896, 38.922763, 38.922186, 38.919052, 38.915888, 38.912608, 38.912608, 38.912117, 38.91158, 38.911127, 38.91112, 38.910645, 38.910572, 38.908988, 38.908537, 38.908456, 38.904735, 38.904724, 38.903749], \"legendgroup\": \"\", \"line\": {\"color\": \"#636efa\"}, \"lon\": [-77.042548, -77.042532, -77.043237, -77.044781, -77.043436, -77.043432, -77.047553, -77.047986, -77.048766, -77.048858, -77.050579, -77.051648, -77.054954, -77.055828, -77.055837, -77.061258, -77.061174, -77.062796, -77.062777], \"mode\": \"lines\", \"name\": \"\", \"showlegend\": false, \"subplot\": \"mapbox\", \"type\": \"scattermapbox\"}, {\"hoverlabel\": {\"namelength\": 0}, \"hovertemplate\": \"route_num=28<br>lat=%{lat}<br>lon=%{lon}\", \"lat\": [38.884183, 38.884057, 38.883744, 38.883741, 38.883809, 38.88357, 38.884104, 38.884105, 38.882841, 38.882841], \"legendgroup\": \"\", \"line\": {\"color\": \"#636efa\"}, \"lon\": [-76.995273, -76.994968, -76.994971, -76.994545, -76.994353, -76.993761, -76.99376, -76.988318, -76.988317, -76.987907], \"mode\": \"lines\", \"name\": \"\", \"showlegend\": false, \"subplot\": \"mapbox\", \"type\": \"scattermapbox\"}, {\"hoverlabel\": {\"namelength\": 0}, \"hovertemplate\": \"route_num=29<br>lat=%{lat}<br>lon=%{lon}\", \"lat\": [38.880285, 38.879923, 38.879277, 38.885948, 38.886227, 38.887603, 38.894785, 38.894783], \"legendgroup\": \"\", \"line\": {\"color\": \"#636efa\"}, \"lon\": [-76.986109, -76.986506, -76.988316, -76.988319, -76.987272, -76.988315, -76.988311, -76.987633], \"mode\": \"lines\", \"name\": \"\", \"showlegend\": false, \"subplot\": \"mapbox\", \"type\": \"scattermapbox\"}, {\"hoverlabel\": {\"namelength\": 0}, \"hovertemplate\": \"route_num=30<br>lat=%{lat}<br>lon=%{lon}\", \"lat\": [38.886323, 38.886322, 38.885589, 38.885048, 38.884845, 38.884841, 38.884386, 38.88412], \"legendgroup\": \"\", \"line\": {\"color\": \"#636efa\"}, \"lon\": [-77.022241, -77.021912, -77.02191, -77.019916, -77.019913, -77.019202, -77.017556, -77.017556], \"mode\": \"lines\", \"name\": \"\", \"showlegend\": false, \"subplot\": \"mapbox\", \"type\": \"scattermapbox\"}, {\"hoverlabel\": {\"namelength\": 0}, \"hovertemplate\": \"route_num=31<br>lat=%{lat}<br>lon=%{lon}\", \"lat\": [38.856425, 38.856425], \"legendgroup\": \"\", \"line\": {\"color\": \"#636efa\"}, \"lon\": [-77.049183, -77.049183], \"mode\": \"lines\", \"name\": \"\", \"showlegend\": false, \"subplot\": \"mapbox\", \"type\": \"scattermapbox\"}, {\"hoverlabel\": {\"namelength\": 0}, \"hovertemplate\": \"route_num=32<br>lat=%{lat}<br>lon=%{lon}\", \"lat\": [38.9172, 38.91811, 38.918114, 38.917239, 38.917004, 38.916895, 38.911537, 38.907247, 38.907244, 38.906225, 38.90534], \"legendgroup\": \"\", \"line\": {\"color\": \"#636efa\"}, \"lon\": [-77.025994, -77.02599, -77.035493, -77.036291, -77.03616, -77.036618, -77.041666, -77.041686, -77.045681, -77.046641, -77.046643], \"mode\": \"lines\", \"name\": \"\", \"showlegend\": false, \"subplot\": \"mapbox\", \"type\": \"scattermapbox\"}, {\"hoverlabel\": {\"namelength\": 0}, \"hovertemplate\": \"route_num=33<br>lat=%{lat}<br>lon=%{lon}\", \"lat\": [38.90304, 38.902521, 38.902518, 38.902421, 38.900345, 38.90025, 38.899409], \"legendgroup\": \"\", \"line\": {\"color\": \"#636efa\"}, \"lon\": [-77.019059, -77.019057, -77.015177, -77.015233, -77.01523, -77.015175, -77.015223], \"mode\": \"lines\", \"name\": \"\", \"showlegend\": false, \"subplot\": \"mapbox\", \"type\": \"scattermapbox\"}, {\"hoverlabel\": {\"namelength\": 0}, \"hovertemplate\": \"route_num=34<br>lat=%{lat}<br>lon=%{lon}\", \"lat\": [38.922896, 38.922525, 38.919663, 38.916613, 38.916599, 38.912204, 38.912202], \"legendgroup\": \"\", \"line\": {\"color\": \"#636efa\"}, \"lon\": [-77.042548, -77.042631, -77.04167, -77.041656, -77.038479, -77.038491, -77.038701], \"mode\": \"lines\", \"name\": \"\", \"showlegend\": false, \"subplot\": \"mapbox\", \"type\": \"scattermapbox\"}, {\"hoverlabel\": {\"namelength\": 0}, \"hovertemplate\": \"route_num=35<br>lat=%{lat}<br>lon=%{lon}\", \"lat\": [38.912202, 38.911128, 38.911126, 38.901218, 38.900333, 38.898876, 38.898802, 38.895533, 38.895493, 38.892083, 38.876716], \"legendgroup\": \"\", \"line\": {\"color\": \"#636efa\"}, \"lon\": [-77.038701, -77.038494, -77.034642, -77.034696, -77.035203, -77.035147, -77.033648, -77.033599, -77.02979, -77.01748, -77.017703], \"mode\": \"lines\", \"name\": \"\", \"showlegend\": false, \"subplot\": \"mapbox\", \"type\": \"scattermapbox\"}, {\"hoverlabel\": {\"namelength\": 0}, \"hovertemplate\": \"route_num=36<br>lat=%{lat}<br>lon=%{lon}\", \"lat\": [38.917815, 38.917814, 38.917608, 38.917571, 38.917565, 38.915565, 38.915571], \"legendgroup\": \"\", \"line\": {\"color\": \"#636efa\"}, \"lon\": [-77.04062, -77.040395, -77.040554, -77.040453, -77.038476, -77.038474, -77.0222], \"mode\": \"lines\", \"name\": \"\", \"showlegend\": false, \"subplot\": \"mapbox\", \"type\": \"scattermapbox\"}, {\"hoverlabel\": {\"namelength\": 0}, \"hovertemplate\": \"route_num=37<br>lat=%{lat}<br>lon=%{lon}\", \"lat\": [38.918047, 38.918112, 38.918115, 38.918141, 38.918211, 38.918044, 38.917814, 38.917816, 38.919052, 38.920678, 38.920695], \"legendgroup\": \"\", \"line\": {\"color\": \"#636efa\"}, \"lon\": [-77.032108, -77.032128, -77.03923, -77.03951, -77.039607, -77.040191, -77.040395, -77.044255, -77.044781, -77.043895, -77.043772], \"mode\": \"lines\", \"name\": \"\", \"showlegend\": false, \"subplot\": \"mapbox\", \"type\": \"scattermapbox\"}, {\"hoverlabel\": {\"namelength\": 0}, \"hovertemplate\": \"route_num=38<br>lat=%{lat}<br>lon=%{lon}\", \"lat\": [38.930724, 38.931821, 38.929483], \"legendgroup\": \"\", \"line\": {\"color\": \"#636efa\"}, \"lon\": [-77.031457, -77.02826, -77.027697], \"mode\": \"lines\", \"name\": \"\", \"showlegend\": false, \"subplot\": \"mapbox\", \"type\": \"scattermapbox\"}, {\"hoverlabel\": {\"namelength\": 0}, \"hovertemplate\": \"route_num=39<br>lat=%{lat}<br>lon=%{lon}\", \"lat\": [38.899409, 38.896135, 38.896084, 38.89614, 38.896616, 38.896219, 38.89604, 38.895798, 38.895878, 38.89646, 38.896637, 38.897336, 38.897333, 38.894785, 38.894781, 38.886698, 38.887036, 38.88732], \"legendgroup\": \"\", \"line\": {\"color\": \"#636efa\"}, \"lon\": [-77.015223, -77.015167, -77.015004, -77.00924, -77.007741, -77.007561, -77.007296, -77.006401, -77.005907, -77.005433, -77.005036, -77.004716, -76.993761, -76.993756, -76.985504, -76.985509, -76.983755, -76.983648], \"mode\": \"lines\", \"name\": \"\", \"showlegend\": false, \"subplot\": \"mapbox\", \"type\": \"scattermapbox\"}, {\"hoverlabel\": {\"namelength\": 0}, \"hovertemplate\": \"route_num=40<br>lat=%{lat}<br>lon=%{lon}\", \"lat\": [38.900022, 38.90132, 38.901327, 38.90373, 38.903732, 38.903938, 38.908165, 38.911857, 38.912605, 38.912605, 38.916711, 38.91699, 38.917, 38.9172], \"legendgroup\": \"\", \"line\": {\"color\": \"#636efa\"}, \"lon\": [-76.988308, -76.988312, -77.002036, -77.002043, -77.004371, -77.004363, -77.002884, -77.000904, -77.001139, -77.022945, -77.022945, -77.023955, -77.025995, -77.025994], \"mode\": \"lines\", \"name\": \"\", \"showlegend\": false, \"subplot\": \"mapbox\", \"type\": \"scattermapbox\"}, {\"hoverlabel\": {\"namelength\": 0}, \"hovertemplate\": \"route_num=41<br>lat=%{lat}<br>lon=%{lon}\", \"lat\": [38.896955, 38.897336, 38.897331, 38.899983], \"legendgroup\": \"\", \"line\": {\"color\": \"#636efa\"}, \"lon\": [-77.004907, -77.004716, -76.991527, -76.991525], \"mode\": \"lines\", \"name\": \"\", \"showlegend\": false, \"subplot\": \"mapbox\", \"type\": \"scattermapbox\"}, {\"hoverlabel\": {\"namelength\": 0}, \"hovertemplate\": \"route_num=42<br>lat=%{lat}<br>lon=%{lon}\", \"lat\": [38.857399, 38.857524, 38.857336, 38.857248, 38.854167, 38.854165, 38.854383], \"legendgroup\": \"\", \"line\": {\"color\": \"#636efa\"}, \"lon\": [-77.051185, -77.051263, -77.052811, -77.053087, -77.053342, -77.05351, -77.053451], \"mode\": \"lines\", \"name\": \"\", \"showlegend\": false, \"subplot\": \"mapbox\", \"type\": \"scattermapbox\"}, {\"hoverlabel\": {\"namelength\": 0}, \"hovertemplate\": \"route_num=43<br>lat=%{lat}<br>lon=%{lon}\", \"lat\": [38.884183, 38.884057, 38.887891, 38.889223, 38.889243, 38.892064, 38.897692, 38.899982, 38.900482], \"legendgroup\": \"\", \"line\": {\"color\": \"#636efa\"}, \"lon\": [-76.995273, -76.994968, -76.99496, -76.991623, -76.988316, -76.988231, -76.983653, -76.983606, -76.983076], \"mode\": \"lines\", \"name\": \"\", \"showlegend\": false, \"subplot\": \"mapbox\", \"type\": \"scattermapbox\"}, {\"hoverlabel\": {\"namelength\": 0}, \"hovertemplate\": \"route_num=44<br>lat=%{lat}<br>lon=%{lon}\", \"lat\": [38.944547, 38.944252, 38.94425, 38.943155, 38.942607, 38.942052, 38.942054, 38.940895, 38.9409, 38.940618, 38.94076, 38.938496, 38.937548, 38.936558, 38.936167, 38.935297, 38.931319, 38.928976, 38.928647, 38.928798, 38.92068, 38.90652, 38.905587, 38.905032, 38.905379, 38.904849, 38.9059], \"legendgroup\": \"\", \"line\": {\"color\": \"#636efa\"}, \"lon\": [-77.063774, -77.063905, -77.0627, -77.062367, -77.0618, -77.061812, -77.058634, -77.058642, -77.056388, -77.055158, -77.052905, -77.049993, -77.047854, -77.046968, -77.046136, -77.04557, -77.045592, -77.043352, -77.035388, -77.03267, -77.031839, -77.031953, -77.032401, -77.032057, -77.031502, -77.029627, -77.0325], \"mode\": \"lines\", \"name\": \"\", \"showlegend\": false, \"subplot\": \"mapbox\", \"type\": \"scattermapbox\"}, {\"hoverlabel\": {\"namelength\": 0}, \"hovertemplate\": \"route_num=45<br>lat=%{lat}<br>lon=%{lon}\", \"lat\": [38.908604, 38.908726, 38.907728, 38.907721, 38.907511, 38.90724, 38.907242, 38.905653, 38.905658], \"legendgroup\": \"\", \"line\": {\"color\": \"#636efa\"}, \"lon\": [-77.032302, -77.031951, -77.031951, -77.031407, -77.030861, -77.031019, -77.025987, -77.025988, -77.02227], \"mode\": \"lines\", \"name\": \"\", \"showlegend\": false, \"subplot\": \"mapbox\", \"type\": \"scattermapbox\"}, {\"hoverlabel\": {\"namelength\": 0}, \"hovertemplate\": \"route_num=46<br>lat=%{lat}<br>lon=%{lon}\", \"lat\": [38.915571, 38.915572, 38.911123, 38.911121, 38.908571, 38.908566, 38.907896, 38.907897, 38.907248, 38.907236, 38.905641, 38.905642], \"legendgroup\": \"\", \"line\": {\"color\": \"#636efa\"}, \"lon\": [-77.0222, -77.021922, -77.021916, -77.015181, -77.015182, -77.010755, -77.010757, -77.009191, -77.009194, -77.005887, -77.005885, -77.0056], \"mode\": \"lines\", \"name\": \"\", \"showlegend\": false, \"subplot\": \"mapbox\", \"type\": \"scattermapbox\"}, {\"hoverlabel\": {\"namelength\": 0}, \"hovertemplate\": \"route_num=47<br>lat=%{lat}<br>lon=%{lon}\", \"lat\": [38.934355, 38.93442, 38.931695, 38.931093, 38.930311, 38.92976, 38.929821, 38.928885, 38.923213, 38.923535, 38.92325, 38.922661, 38.922386, 38.922328, 38.915888, 38.915314], \"legendgroup\": \"\", \"line\": {\"color\": \"#636efa\"}, \"lon\": [-77.05803, -77.057845, -77.056261, -77.057914, -77.058602, -77.058387, -77.058178, -77.05766, -77.057718, -77.051332, -77.047347, -77.047139, -77.046681, -77.046287, -77.043436, -77.044525], \"mode\": \"lines\", \"name\": \"\", \"showlegend\": false, \"subplot\": \"mapbox\", \"type\": \"scattermapbox\"}, {\"hoverlabel\": {\"namelength\": 0}, \"hovertemplate\": \"route_num=48<br>lat=%{lat}<br>lon=%{lon}\", \"lat\": [38.90985, 38.910056, 38.910058, 38.915572, 38.915572, 38.918044, 38.918047], \"legendgroup\": \"\", \"line\": {\"color\": \"#636efa\"}, \"lon\": [-77.034557, -77.034557, -77.034645, -77.034633, -77.031956, -77.031952, -77.032108], \"mode\": \"lines\", \"name\": \"\", \"showlegend\": false, \"subplot\": \"mapbox\", \"type\": \"scattermapbox\"}, {\"hoverlabel\": {\"namelength\": 0}, \"hovertemplate\": \"route_num=49<br>lat=%{lat}<br>lon=%{lon}\", \"lat\": [38.905642, 38.905642, 38.901808, 38.900927, 38.897253, 38.89676, 38.896535, 38.896208, 38.89614, 38.896123, 38.896178, 38.896129, 38.898465, 38.898463, 38.899705, 38.899707], \"legendgroup\": \"\", \"line\": {\"color\": \"#636efa\"}, \"lon\": [-77.0056, -77.005831, -77.005858, -77.0064, -77.007697, -77.008018, -77.007966, -77.008843, -77.00924, -77.011431, -77.013809, -77.021929, -77.021923, -77.022945, -77.022948, -77.023038], \"mode\": \"lines\", \"name\": \"\", \"showlegend\": false, \"subplot\": \"mapbox\", \"type\": \"scattermapbox\"}, {\"hoverlabel\": {\"namelength\": 0}, \"hovertemplate\": \"route_num=50<br>lat=%{lat}<br>lon=%{lon}\", \"lat\": [38.90985, 38.910058, 38.901218, 38.900333, 38.898876, 38.898802, 38.892249, 38.891402, 38.890039, 38.889194, 38.888626, 38.888675, 38.882717, 38.881992, 38.880915, 38.880553, 38.880258, 38.878695], \"legendgroup\": \"\", \"line\": {\"color\": \"#636efa\"}, \"lon\": [-77.034557, -77.034645, -77.034696, -77.035203, -77.035147, -77.033648, -77.033634, -77.033888, -77.03315, -77.033247, -77.032132, -77.028183, -77.027885, -77.027488, -77.025336, -77.024852, -77.025078, -77.023052], \"mode\": \"lines\", \"name\": \"\", \"showlegend\": false, \"subplot\": \"mapbox\", \"type\": \"scattermapbox\"}, {\"hoverlabel\": {\"namelength\": 0}, \"hovertemplate\": \"route_num=51<br>lat=%{lat}<br>lon=%{lon}\", \"lat\": [38.929483, 38.926708, 38.918111, 38.918114, 38.917239, 38.917004, 38.917002, 38.914935, 38.912204, 38.912202], \"legendgroup\": \"\", \"line\": {\"color\": \"#636efa\"}, \"lon\": [-77.027697, -77.02704, -77.027036, -77.035493, -77.036291, -77.03616, -77.036499, -77.038483, -77.038491, -77.038701], \"mode\": \"lines\", \"name\": \"\", \"showlegend\": false, \"subplot\": \"mapbox\", \"type\": \"scattermapbox\"}, {\"hoverlabel\": {\"namelength\": 0}, \"hovertemplate\": \"route_num=52<br>lat=%{lat}<br>lon=%{lon}\", \"lat\": [38.934355, 38.93442, 38.930324], \"legendgroup\": \"\", \"line\": {\"color\": \"#636efa\"}, \"lon\": [-77.05803, -77.057845, -77.055469], \"mode\": \"lines\", \"name\": \"\", \"showlegend\": false, \"subplot\": \"mapbox\", \"type\": \"scattermapbox\"}, {\"hoverlabel\": {\"namelength\": 0}, \"hovertemplate\": \"route_num=53<br>lat=%{lat}<br>lon=%{lon}\", \"lat\": [38.926088, 38.926275, 38.926491, 38.926571, 38.926649, 38.926704], \"legendgroup\": \"\", \"line\": {\"color\": \"#636efa\"}, \"lon\": [-77.036474, -77.036475, -77.032737, -77.032436, -77.032444, -77.032315], \"mode\": \"lines\", \"name\": \"\", \"showlegend\": false, \"subplot\": \"mapbox\", \"type\": \"scattermapbox\"}, {\"hoverlabel\": {\"namelength\": 0}, \"hovertemplate\": \"route_num=54<br>lat=%{lat}<br>lon=%{lon}\", \"lat\": [38.922896, 38.922872, 38.922888, 38.922819, 38.923103, 38.923187, 38.923261, 38.923237, 38.923254, 38.923165, 38.923178], \"legendgroup\": \"\", \"line\": {\"color\": \"#636efa\"}, \"lon\": [-77.042548, -77.042583, -77.042631, -77.042729, -77.04293, -77.043065, -77.043325, -77.045143, -77.047477, -77.047471, -77.04764], \"mode\": \"lines\", \"name\": \"\", \"showlegend\": false, \"subplot\": \"mapbox\", \"type\": \"scattermapbox\"}, {\"hoverlabel\": {\"namelength\": 0}, \"hovertemplate\": \"route_num=55<br>lat=%{lat}<br>lon=%{lon}\", \"lat\": [38.9319, 38.931381, 38.931153, 38.928733, 38.928647, 38.928798, 38.926649, 38.926704], \"legendgroup\": \"\", \"line\": {\"color\": \"#636efa\"}, \"lon\": [-77.038858, -77.038851, -77.038308, -77.037351, -77.035298, -77.03267, -77.032444, -77.032315], \"mode\": \"lines\", \"name\": \"\", \"showlegend\": false, \"subplot\": \"mapbox\", \"type\": \"scattermapbox\"}, {\"hoverlabel\": {\"namelength\": 0}, \"hovertemplate\": \"route_num=56<br>lat=%{lat}<br>lon=%{lon}\", \"lat\": [38.920695, 38.920678, 38.919052, 38.915888, 38.915314], \"legendgroup\": \"\", \"line\": {\"color\": \"#636efa\"}, \"lon\": [-77.043772, -77.043895, -77.044781, -77.043436, -77.044525], \"mode\": \"lines\", \"name\": \"\", \"showlegend\": false, \"subplot\": \"mapbox\", \"type\": \"scattermapbox\"}, {\"hoverlabel\": {\"namelength\": 0}, \"hovertemplate\": \"route_num=57<br>lat=%{lat}<br>lon=%{lon}\", \"lat\": [38.909991, 38.910142, 38.91113, 38.911129, 38.917002, 38.91717, 38.919206, 38.919185, 38.920756, 38.926649, 38.926704], \"legendgroup\": \"\", \"line\": {\"color\": \"#636efa\"}, \"lon\": [-77.044432, -77.044875, -77.044871, -77.042051, -77.036499, -77.036497, -77.034431, -77.031951, -77.031841, -77.032444, -77.032315], \"mode\": \"lines\", \"name\": \"\", \"showlegend\": false, \"subplot\": \"mapbox\", \"type\": \"scattermapbox\"}, {\"hoverlabel\": {\"namelength\": 0}, \"hovertemplate\": \"route_num=58<br>lat=%{lat}<br>lon=%{lon}\", \"lat\": [38.926088, 38.926275, 38.926325, 38.927148, 38.92868, 38.928798, 38.9375], \"legendgroup\": \"\", \"line\": {\"color\": \"#636efa\"}, \"lon\": [-77.036474, -77.036475, -77.035484, -77.035552, -77.036187, -77.03267, -77.032722], \"mode\": \"lines\", \"name\": \"\", \"showlegend\": false, \"subplot\": \"mapbox\", \"type\": \"scattermapbox\"}, {\"hoverlabel\": {\"namelength\": 0}, \"hovertemplate\": \"route_num=59<br>lat=%{lat}<br>lon=%{lon}\", \"lat\": [38.917815, 38.917814, 38.917608, 38.917571, 38.917565, 38.911128, 38.911125, 38.908726, 38.908604], \"legendgroup\": \"\", \"line\": {\"color\": \"#636efa\"}, \"lon\": [-77.04062, -77.040395, -77.040554, -77.040453, -77.038476, -77.038494, -77.031952, -77.031951, -77.032302], \"mode\": \"lines\", \"name\": \"\", \"showlegend\": false, \"subplot\": \"mapbox\", \"type\": \"scattermapbox\"}, {\"hoverlabel\": {\"namelength\": 0}, \"hovertemplate\": \"route_num=60<br>lat=%{lat}<br>lon=%{lon}\", \"lat\": [38.915314, 38.915553, 38.915574, 38.917818, 38.917815], \"legendgroup\": \"\", \"line\": {\"color\": \"#636efa\"}, \"lon\": [-77.044525, -77.044072, -77.041658, -77.041654, -77.04062], \"mode\": \"lines\", \"name\": \"\", \"showlegend\": false, \"subplot\": \"mapbox\", \"type\": \"scattermapbox\"}, {\"hoverlabel\": {\"namelength\": 0}, \"hovertemplate\": \"route_num=61<br>lat=%{lat}<br>lon=%{lon}\", \"lat\": [38.902061, 38.902405, 38.902415, 38.90966, 38.90966, 38.90985], \"legendgroup\": \"\", \"line\": {\"color\": \"#636efa\"}, \"lon\": [-77.03852, -77.038519, -77.034692, -77.034647, -77.034557, -77.034557], \"mode\": \"lines\", \"name\": \"\", \"showlegend\": false, \"subplot\": \"mapbox\", \"type\": \"scattermapbox\"}, {\"hoverlabel\": {\"namelength\": 0}, \"hovertemplate\": \"route_num=62<br>lat=%{lat}<br>lon=%{lon}\", \"lat\": [38.930324, 38.930471, 38.930671, 38.930937, 38.931736, 38.932122, 38.932213, 38.932229, 38.932186, 38.930581, 38.929809, 38.929155, 38.928697, 38.928212, 38.928002, 38.92686, 38.926186, 38.925472, 38.925233, 38.924352, 38.922763, 38.922896], \"legendgroup\": \"\", \"line\": {\"color\": \"#636efa\"}, \"lon\": [-77.055469, -77.055548, -77.054961, -77.054663, -77.054342, -77.053748, -77.053424, -77.0522, -77.051896, -77.047807, -77.046097, -77.045381, -77.045167, -77.045158, -77.043371, -77.041214, -77.041533, -77.041604, -77.041099, -77.040143, -77.042532, -77.042548], \"mode\": \"lines\", \"name\": \"\", \"showlegend\": false, \"subplot\": \"mapbox\", \"type\": \"scattermapbox\"}, {\"hoverlabel\": {\"namelength\": 0}, \"hovertemplate\": \"route_num=63<br>lat=%{lat}<br>lon=%{lon}\", \"lat\": [38.912202, 38.912207, 38.912609, 38.912605, 38.915136, 38.915314], \"legendgroup\": \"\", \"line\": {\"color\": \"#636efa\"}, \"lon\": [-77.038701, -77.037207, -77.037204, -77.044873, -77.044861, -77.044525], \"mode\": \"lines\", \"name\": \"\", \"showlegend\": false, \"subplot\": \"mapbox\", \"type\": \"scattermapbox\"}, {\"hoverlabel\": {\"namelength\": 0}, \"hovertemplate\": \"route_num=64<br>lat=%{lat}<br>lon=%{lon}\", \"lat\": [38.857399, 38.857524, 38.857539, 38.857454, 38.853642, 38.853417, 38.853425, 38.8533], \"legendgroup\": \"\", \"line\": {\"color\": \"#636efa\"}, \"lon\": [-77.051185, -77.051263, -77.050918, -77.049273, -77.04946, -77.049501, -77.049685, -77.049695], \"mode\": \"lines\", \"name\": \"\", \"showlegend\": false, \"subplot\": \"mapbox\", \"type\": \"scattermapbox\"}, {\"hoverlabel\": {\"namelength\": 0}, \"hovertemplate\": \"route_num=65<br>lat=%{lat}<br>lon=%{lon}\", \"lat\": [38.9172, 38.917, 38.917003, 38.915576, 38.912214, 38.89445, 38.892083, 38.876716], \"legendgroup\": \"\", \"line\": {\"color\": \"#636efa\"}, \"lon\": [-77.025994, -77.025995, -77.025375, -77.026231, -77.025876, -77.026016, -77.01748, -77.017703], \"mode\": \"lines\", \"name\": \"\", \"showlegend\": false, \"subplot\": \"mapbox\", \"type\": \"scattermapbox\"}, {\"hoverlabel\": {\"namelength\": 0}, \"hovertemplate\": \"route_num=66<br>lat=%{lat}<br>lon=%{lon}\", \"lat\": [38.90985, 38.910056, 38.910058, 38.912534, 38.912534, 38.912608, 38.91261, 38.912204, 38.912202], \"legendgroup\": \"\", \"line\": {\"color\": \"#636efa\"}, \"lon\": [-77.034557, -77.034557, -77.034645, -77.034645, -77.03469, -77.034689, -77.03849, -77.038491, -77.038701], \"mode\": \"lines\", \"name\": \"\", \"showlegend\": false, \"subplot\": \"mapbox\", \"type\": \"scattermapbox\"}, {\"hoverlabel\": {\"namelength\": 0}, \"hovertemplate\": \"route_num=67<br>lat=%{lat}<br>lon=%{lon}\", \"lat\": [38.922604, 38.922544, 38.919939, 38.919876, 38.919562, 38.913574, 38.913679, 38.91318, 38.912526, 38.912559, 38.910551, 38.910645, 38.911122, 38.91113, 38.910142, 38.909991], \"legendgroup\": \"\", \"line\": {\"color\": \"#636efa\"}, \"lon\": [-77.070396, -77.073195, -77.073013, -77.073176, -77.072994, -77.072734, -77.064381, -77.062709, -77.059298, -77.057221, -77.057135, -77.051648, -77.050546, -77.044871, -77.044875, -77.044432], \"mode\": \"lines\", \"name\": \"\", \"showlegend\": false, \"subplot\": \"mapbox\", \"type\": \"scattermapbox\"}, {\"hoverlabel\": {\"namelength\": 0}, \"hovertemplate\": \"route_num=68<br>lat=%{lat}<br>lon=%{lon}\", \"lat\": [38.905658, 38.905652, 38.907242, 38.90724, 38.918044, 38.918047], \"legendgroup\": \"\", \"line\": {\"color\": \"#636efa\"}, \"lon\": [-77.02227, -77.02703, -77.027035, -77.031951, -77.031952, -77.032108], \"mode\": \"lines\", \"name\": \"\", \"showlegend\": false, \"subplot\": \"mapbox\", \"type\": \"scattermapbox\"}, {\"hoverlabel\": {\"namelength\": 0}, \"hovertemplate\": \"route_num=69<br>lat=%{lat}<br>lon=%{lon}\", \"lat\": [38.926704, 38.926649, 38.929586, 38.947774], \"legendgroup\": \"\", \"line\": {\"color\": \"#636efa\"}, \"lon\": [-77.032315, -77.032444, -77.032732, -77.032725], \"mode\": \"lines\", \"name\": \"\", \"showlegend\": false, \"subplot\": \"mapbox\", \"type\": \"scattermapbox\"}, {\"hoverlabel\": {\"namelength\": 0}, \"hovertemplate\": \"route_num=70<br>lat=%{lat}<br>lon=%{lon}\", \"lat\": [38.918047, 38.918044, 38.911125, 38.911071, 38.905653, 38.905658], \"legendgroup\": \"\", \"line\": {\"color\": \"#636efa\"}, \"lon\": [-77.032108, -77.031952, -77.031952, -77.026085, -77.025988, -77.02227], \"mode\": \"lines\", \"name\": \"\", \"showlegend\": false, \"subplot\": \"mapbox\", \"type\": \"scattermapbox\"}, {\"hoverlabel\": {\"namelength\": 0}, \"hovertemplate\": \"route_num=71<br>lat=%{lat}<br>lon=%{lon}\", \"lat\": [38.9059, 38.906596, 38.911126, 38.911051, 38.911688, 38.911679, 38.911125, 38.911115, 38.910635, 38.911108, 38.911114, 38.910975], \"legendgroup\": \"\", \"line\": {\"color\": \"#636efa\"}, \"lon\": [-77.0325, -77.034676, -77.034642, -77.026298, -77.02415, -77.023963, -77.023968, -77.009823, -77.008697, -77.008433, -77.004934, -77.004968], \"mode\": \"lines\", \"name\": \"\", \"showlegend\": false, \"subplot\": \"mapbox\", \"type\": \"scattermapbox\"}, {\"hoverlabel\": {\"namelength\": 0}, \"hovertemplate\": \"route_num=72<br>lat=%{lat}<br>lon=%{lon}\", \"lat\": [38.896955, 38.897336, 38.897333, 38.894785, 38.894783], \"legendgroup\": \"\", \"line\": {\"color\": \"#636efa\"}, \"lon\": [-77.004907, -77.004716, -76.993761, -76.993756, -76.987633], \"mode\": \"lines\", \"name\": \"\", \"showlegend\": false, \"subplot\": \"mapbox\", \"type\": \"scattermapbox\"}, {\"hoverlabel\": {\"namelength\": 0}, \"hovertemplate\": \"route_num=73<br>lat=%{lat}<br>lon=%{lon}\", \"lat\": [38.9319, 38.931381, 38.931153, 38.927116, 38.926952, 38.92715, 38.92718, 38.926302, 38.926139, 38.925192, 38.923425, 38.923264, 38.923254, 38.923165, 38.923178], \"legendgroup\": \"\", \"line\": {\"color\": \"#636efa\"}, \"lon\": [-77.038858, -77.038851, -77.038308, -77.03676, -77.037555, -77.038287, -77.03915, -77.03932, -77.039441, -77.041051, -77.043677, -77.04367, -77.047477, -77.047471, -77.04764], \"mode\": \"lines\", \"name\": \"\", \"showlegend\": false, \"subplot\": \"mapbox\", \"type\": \"scattermapbox\"}, {\"hoverlabel\": {\"namelength\": 0}, \"hovertemplate\": \"route_num=74<br>lat=%{lat}<br>lon=%{lon}\", \"lat\": [38.900694, 38.900691, 38.900832, 38.900712, 38.903794, 38.903775, 38.904944, 38.905072, 38.905478, 38.906027, 38.90724, 38.907242, 38.914294, 38.914593, 38.915581, 38.915571], \"legendgroup\": \"\", \"line\": {\"color\": \"#636efa\"}, \"lon\": [-77.046449, -77.045317, -77.045242, -77.044904, -77.044901, -77.033055, -77.032334, -77.031977, -77.031572, -77.031686, -77.031019, -77.027035, -77.027035, -77.026685, -77.026089, -77.0222], \"mode\": \"lines\", \"name\": \"\", \"showlegend\": false, \"subplot\": \"mapbox\", \"type\": \"scattermapbox\"}, {\"hoverlabel\": {\"namelength\": 0}, \"hovertemplate\": \"route_num=75<br>lat=%{lat}<br>lon=%{lon}\", \"lat\": [38.889807, 38.889804, 38.88603, 38.886034, 38.885437, 38.885354, 38.885354, 38.884102, 38.880571, 38.880557, 38.880431, 38.880285], \"legendgroup\": \"\", \"line\": {\"color\": \"#636efa\"}, \"lon\": [-77.000349, -76.993757, -76.993759, -76.99024, -76.99024, -76.990076, -76.986547, -76.98552, -76.985507, -76.985858, -76.986069, -76.986109], \"mode\": \"lines\", \"name\": \"\", \"showlegend\": false, \"subplot\": \"mapbox\", \"type\": \"scattermapbox\"}],\n",
       "                        {\"legend\": {\"tracegroupgap\": 0}, \"mapbox\": {\"accesstoken\": \"pk.eyJ1IjoibG1hZ25hbmEiLCJhIjoiY2s2N3hmNzgwMGNnODNqcGJ1N2l2ZXZpdiJ9.-aOxDLM8KbEQnJfXegtl7A\", \"center\": {\"lat\": 38.909591568275864, \"lon\": -77.03464726068965}, \"domain\": {\"x\": [0.0, 1.0], \"y\": [0.0, 1.0]}, \"zoom\": 11}, \"margin\": {\"t\": 60}, \"template\": {\"data\": {\"bar\": [{\"error_x\": {\"color\": \"#2a3f5f\"}, \"error_y\": {\"color\": \"#2a3f5f\"}, \"marker\": {\"line\": {\"color\": \"#E5ECF6\", \"width\": 0.5}}, \"type\": \"bar\"}], \"barpolar\": [{\"marker\": {\"line\": {\"color\": \"#E5ECF6\", \"width\": 0.5}}, \"type\": \"barpolar\"}], \"carpet\": [{\"aaxis\": {\"endlinecolor\": \"#2a3f5f\", \"gridcolor\": \"white\", \"linecolor\": \"white\", \"minorgridcolor\": \"white\", \"startlinecolor\": \"#2a3f5f\"}, \"baxis\": {\"endlinecolor\": \"#2a3f5f\", \"gridcolor\": \"white\", \"linecolor\": \"white\", \"minorgridcolor\": \"white\", \"startlinecolor\": \"#2a3f5f\"}, \"type\": \"carpet\"}], \"choropleth\": [{\"colorbar\": {\"outlinewidth\": 0, \"ticks\": \"\"}, \"type\": \"choropleth\"}], \"contour\": [{\"colorbar\": {\"outlinewidth\": 0, \"ticks\": \"\"}, \"colorscale\": [[0.0, \"#0d0887\"], [0.1111111111111111, \"#46039f\"], [0.2222222222222222, \"#7201a8\"], [0.3333333333333333, \"#9c179e\"], [0.4444444444444444, \"#bd3786\"], [0.5555555555555556, \"#d8576b\"], [0.6666666666666666, \"#ed7953\"], [0.7777777777777778, \"#fb9f3a\"], [0.8888888888888888, \"#fdca26\"], [1.0, \"#f0f921\"]], \"type\": \"contour\"}], \"contourcarpet\": [{\"colorbar\": {\"outlinewidth\": 0, \"ticks\": \"\"}, \"type\": \"contourcarpet\"}], \"heatmap\": [{\"colorbar\": {\"outlinewidth\": 0, \"ticks\": \"\"}, \"colorscale\": [[0.0, \"#0d0887\"], [0.1111111111111111, \"#46039f\"], [0.2222222222222222, \"#7201a8\"], [0.3333333333333333, \"#9c179e\"], [0.4444444444444444, \"#bd3786\"], [0.5555555555555556, \"#d8576b\"], [0.6666666666666666, \"#ed7953\"], [0.7777777777777778, \"#fb9f3a\"], [0.8888888888888888, \"#fdca26\"], [1.0, \"#f0f921\"]], \"type\": \"heatmap\"}], \"heatmapgl\": [{\"colorbar\": {\"outlinewidth\": 0, \"ticks\": \"\"}, \"colorscale\": [[0.0, \"#0d0887\"], [0.1111111111111111, \"#46039f\"], [0.2222222222222222, \"#7201a8\"], [0.3333333333333333, \"#9c179e\"], [0.4444444444444444, \"#bd3786\"], [0.5555555555555556, \"#d8576b\"], [0.6666666666666666, \"#ed7953\"], [0.7777777777777778, \"#fb9f3a\"], [0.8888888888888888, \"#fdca26\"], [1.0, \"#f0f921\"]], \"type\": \"heatmapgl\"}], \"histogram\": [{\"marker\": {\"colorbar\": {\"outlinewidth\": 0, \"ticks\": \"\"}}, \"type\": \"histogram\"}], \"histogram2d\": [{\"colorbar\": {\"outlinewidth\": 0, \"ticks\": \"\"}, \"colorscale\": [[0.0, \"#0d0887\"], [0.1111111111111111, \"#46039f\"], [0.2222222222222222, \"#7201a8\"], [0.3333333333333333, \"#9c179e\"], [0.4444444444444444, \"#bd3786\"], [0.5555555555555556, \"#d8576b\"], [0.6666666666666666, \"#ed7953\"], [0.7777777777777778, \"#fb9f3a\"], [0.8888888888888888, \"#fdca26\"], [1.0, \"#f0f921\"]], \"type\": \"histogram2d\"}], \"histogram2dcontour\": [{\"colorbar\": {\"outlinewidth\": 0, \"ticks\": \"\"}, \"colorscale\": [[0.0, \"#0d0887\"], [0.1111111111111111, \"#46039f\"], [0.2222222222222222, \"#7201a8\"], [0.3333333333333333, \"#9c179e\"], [0.4444444444444444, \"#bd3786\"], [0.5555555555555556, \"#d8576b\"], [0.6666666666666666, \"#ed7953\"], [0.7777777777777778, \"#fb9f3a\"], [0.8888888888888888, \"#fdca26\"], [1.0, \"#f0f921\"]], \"type\": \"histogram2dcontour\"}], \"mesh3d\": [{\"colorbar\": {\"outlinewidth\": 0, \"ticks\": \"\"}, \"type\": \"mesh3d\"}], \"parcoords\": [{\"line\": {\"colorbar\": {\"outlinewidth\": 0, \"ticks\": \"\"}}, \"type\": \"parcoords\"}], \"pie\": [{\"automargin\": true, \"type\": \"pie\"}], \"scatter\": [{\"marker\": {\"colorbar\": {\"outlinewidth\": 0, \"ticks\": \"\"}}, \"type\": \"scatter\"}], \"scatter3d\": [{\"line\": {\"colorbar\": {\"outlinewidth\": 0, \"ticks\": \"\"}}, \"marker\": {\"colorbar\": {\"outlinewidth\": 0, \"ticks\": \"\"}}, \"type\": \"scatter3d\"}], \"scattercarpet\": [{\"marker\": {\"colorbar\": {\"outlinewidth\": 0, \"ticks\": \"\"}}, \"type\": \"scattercarpet\"}], \"scattergeo\": [{\"marker\": {\"colorbar\": {\"outlinewidth\": 0, \"ticks\": \"\"}}, \"type\": \"scattergeo\"}], \"scattergl\": [{\"marker\": {\"colorbar\": {\"outlinewidth\": 0, \"ticks\": \"\"}}, \"type\": \"scattergl\"}], \"scattermapbox\": [{\"marker\": {\"colorbar\": {\"outlinewidth\": 0, \"ticks\": \"\"}}, \"type\": \"scattermapbox\"}], \"scatterpolar\": [{\"marker\": {\"colorbar\": {\"outlinewidth\": 0, \"ticks\": \"\"}}, \"type\": \"scatterpolar\"}], \"scatterpolargl\": [{\"marker\": {\"colorbar\": {\"outlinewidth\": 0, \"ticks\": \"\"}}, \"type\": \"scatterpolargl\"}], \"scatterternary\": [{\"marker\": {\"colorbar\": {\"outlinewidth\": 0, \"ticks\": \"\"}}, \"type\": \"scatterternary\"}], \"surface\": [{\"colorbar\": {\"outlinewidth\": 0, \"ticks\": \"\"}, \"colorscale\": [[0.0, \"#0d0887\"], [0.1111111111111111, \"#46039f\"], [0.2222222222222222, \"#7201a8\"], [0.3333333333333333, \"#9c179e\"], [0.4444444444444444, \"#bd3786\"], [0.5555555555555556, \"#d8576b\"], [0.6666666666666666, \"#ed7953\"], [0.7777777777777778, \"#fb9f3a\"], [0.8888888888888888, \"#fdca26\"], [1.0, \"#f0f921\"]], \"type\": \"surface\"}], \"table\": [{\"cells\": {\"fill\": {\"color\": \"#EBF0F8\"}, \"line\": {\"color\": \"white\"}}, \"header\": {\"fill\": {\"color\": \"#C8D4E3\"}, \"line\": {\"color\": \"white\"}}, \"type\": \"table\"}]}, \"layout\": {\"annotationdefaults\": {\"arrowcolor\": \"#2a3f5f\", \"arrowhead\": 0, \"arrowwidth\": 1}, \"coloraxis\": {\"colorbar\": {\"outlinewidth\": 0, \"ticks\": \"\"}}, \"colorscale\": {\"diverging\": [[0, \"#8e0152\"], [0.1, \"#c51b7d\"], [0.2, \"#de77ae\"], [0.3, \"#f1b6da\"], [0.4, \"#fde0ef\"], [0.5, \"#f7f7f7\"], [0.6, \"#e6f5d0\"], [0.7, \"#b8e186\"], [0.8, \"#7fbc41\"], [0.9, \"#4d9221\"], [1, \"#276419\"]], \"sequential\": [[0.0, \"#0d0887\"], [0.1111111111111111, \"#46039f\"], [0.2222222222222222, \"#7201a8\"], [0.3333333333333333, \"#9c179e\"], [0.4444444444444444, \"#bd3786\"], [0.5555555555555556, \"#d8576b\"], [0.6666666666666666, \"#ed7953\"], [0.7777777777777778, \"#fb9f3a\"], [0.8888888888888888, \"#fdca26\"], [1.0, \"#f0f921\"]], \"sequentialminus\": [[0.0, \"#0d0887\"], [0.1111111111111111, \"#46039f\"], [0.2222222222222222, \"#7201a8\"], [0.3333333333333333, \"#9c179e\"], [0.4444444444444444, \"#bd3786\"], [0.5555555555555556, \"#d8576b\"], [0.6666666666666666, \"#ed7953\"], [0.7777777777777778, \"#fb9f3a\"], [0.8888888888888888, \"#fdca26\"], [1.0, \"#f0f921\"]]}, \"colorway\": [\"#636efa\", \"#EF553B\", \"#00cc96\", \"#ab63fa\", \"#FFA15A\", \"#19d3f3\", \"#FF6692\", \"#B6E880\", \"#FF97FF\", \"#FECB52\"], \"font\": {\"color\": \"#2a3f5f\"}, \"geo\": {\"bgcolor\": \"white\", \"lakecolor\": \"white\", \"landcolor\": \"#E5ECF6\", \"showlakes\": true, \"showland\": true, \"subunitcolor\": \"white\"}, \"hoverlabel\": {\"align\": \"left\"}, \"hovermode\": \"closest\", \"mapbox\": {\"style\": \"light\"}, \"paper_bgcolor\": \"white\", \"plot_bgcolor\": \"#E5ECF6\", \"polar\": {\"angularaxis\": {\"gridcolor\": \"white\", \"linecolor\": \"white\", \"ticks\": \"\"}, \"bgcolor\": \"#E5ECF6\", \"radialaxis\": {\"gridcolor\": \"white\", \"linecolor\": \"white\", \"ticks\": \"\"}}, \"scene\": {\"xaxis\": {\"backgroundcolor\": \"#E5ECF6\", \"gridcolor\": \"white\", \"gridwidth\": 2, \"linecolor\": \"white\", \"showbackground\": true, \"ticks\": \"\", \"zerolinecolor\": \"white\"}, \"yaxis\": {\"backgroundcolor\": \"#E5ECF6\", \"gridcolor\": \"white\", \"gridwidth\": 2, \"linecolor\": \"white\", \"showbackground\": true, \"ticks\": \"\", \"zerolinecolor\": \"white\"}, \"zaxis\": {\"backgroundcolor\": \"#E5ECF6\", \"gridcolor\": \"white\", \"gridwidth\": 2, \"linecolor\": \"white\", \"showbackground\": true, \"ticks\": \"\", \"zerolinecolor\": \"white\"}}, \"shapedefaults\": {\"line\": {\"color\": \"#2a3f5f\"}}, \"ternary\": {\"aaxis\": {\"gridcolor\": \"white\", \"linecolor\": \"white\", \"ticks\": \"\"}, \"baxis\": {\"gridcolor\": \"white\", \"linecolor\": \"white\", \"ticks\": \"\"}, \"bgcolor\": \"#E5ECF6\", \"caxis\": {\"gridcolor\": \"white\", \"linecolor\": \"white\", \"ticks\": \"\"}}, \"title\": {\"x\": 0.05}, \"xaxis\": {\"automargin\": true, \"gridcolor\": \"white\", \"linecolor\": \"white\", \"ticks\": \"\", \"title\": {\"standoff\": 15}, \"zerolinecolor\": \"white\", \"zerolinewidth\": 2}, \"yaxis\": {\"automargin\": true, \"gridcolor\": \"white\", \"linecolor\": \"white\", \"ticks\": \"\", \"title\": {\"standoff\": 15}, \"zerolinecolor\": \"white\", \"zerolinewidth\": 2}}}},\n",
       "                        {\"responsive\": true}\n",
       "                    ).then(function(){\n",
       "                            \n",
       "var gd = document.getElementById('ef8aac83-798d-484a-a431-a27e815264a7');\n",
       "var x = new MutationObserver(function (mutations, observer) {{\n",
       "        var display = window.getComputedStyle(gd).display;\n",
       "        if (!display || display === 'none') {{\n",
       "            console.log([gd, 'removed!']);\n",
       "            Plotly.purge(gd);\n",
       "            observer.disconnect();\n",
       "        }}\n",
       "}});\n",
       "\n",
       "// Listen for the removal of the full notebook cells\n",
       "var notebookContainer = gd.closest('#notebook-container');\n",
       "if (notebookContainer) {{\n",
       "    x.observe(notebookContainer, {childList: true});\n",
       "}}\n",
       "\n",
       "// Listen for the clearing of the current output cell\n",
       "var outputEl = gd.closest('.output');\n",
       "if (outputEl) {{\n",
       "    x.observe(outputEl, {childList: true});\n",
       "}}\n",
       "\n",
       "                        })\n",
       "                };\n",
       "                });\n",
       "            </script>\n",
       "        </div>"
      ]
     },
     "metadata": {},
     "output_type": "display_data"
    }
   ],
   "source": [
    "display(df)"
   ]
  }
 ],
 "metadata": {
  "kernelspec": {
   "display_name": "Python 3",
   "language": "python",
   "name": "python3"
  },
  "language_info": {
   "codemirror_mode": {
    "name": "ipython",
    "version": 3
   },
   "file_extension": ".py",
   "mimetype": "text/x-python",
   "name": "python",
   "nbconvert_exporter": "python",
   "pygments_lexer": "ipython3",
   "version": "3.6.9"
  }
 },
 "nbformat": 4,
 "nbformat_minor": 2
}
