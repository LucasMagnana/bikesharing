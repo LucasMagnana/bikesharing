{
 "cells": [
  {
   "cell_type": "code",
   "execution_count": 1,
   "metadata": {},
   "outputs": [],
   "source": [
    "import pandas as pd\n",
    "import numpy as np\n",
    "import plotly.express as px\n",
    "import xml.etree.ElementTree as ET\n",
    "import pickle\n",
    "import math\n",
    "import copy\n",
    "from rdp import *\n",
    "token = \"pk.eyJ1IjoibG1hZ25hbmEiLCJhIjoiY2s2N3hmNzgwMGNnODNqcGJ1N2l2ZXZpdiJ9.-aOxDLM8KbEQnJfXegtl7A\"\n",
    "px.set_mapbox_access_token(token)\n",
    "n_voxel = 3\n",
    "vox_divider = 2\n",
    "nb_subvox = (10/vox_divider)"
   ]
  },
  {
   "cell_type": "code",
   "execution_count": 2,
   "metadata": {
    "scrolled": true
   },
   "outputs": [],
   "source": [
    "def load_gpx():\n",
    "    with open('gpx.df','rb') as infile:\n",
    "        df = pickle.load(infile)\n",
    "    begin = int(df.iloc[-1][\"route_num\"])\n",
    "    print(begin)\n",
    "    for i in range(begin+1, begin+1109+1):\n",
    "        tree = ET.parse('Datas/GPS/GPX/data'+str(i)+'.gpx')\n",
    "        if(len(tree.getroot()) > 1):\n",
    "            root = tree.getroot()[1][0]\n",
    "            df_temp = pd.DataFrame(columns=['lat', 'lon'])\n",
    "            j=0\n",
    "            for child in root:\n",
    "                coord = child.attrib\n",
    "                coord['lat'] = float(coord['lat'])\n",
    "                coord['lon'] = float(coord['lon'])\n",
    "                df_temp = df_temp.append(pd.DataFrame(coord, index=[j]))\n",
    "                j+=1\n",
    "            df_temp[\"route_num\"] = i\n",
    "            df = df.append(df_temp)\n",
    "    with open('gpx.df', 'wb') as outfile:\n",
    "        pickle.dump(df, outfile)"
   ]
  },
  {
   "cell_type": "code",
   "execution_count": 3,
   "metadata": {
    "scrolled": false
   },
   "outputs": [],
   "source": [
    "def rd_compression(df, nb_routes=1110, eps=1e-4):\n",
    "    \"\"\"\n",
    "    Compress a dataframe with douglas-peucker's algorithm.\n",
    "\n",
    "    Parameters\n",
    "    ----------\n",
    "    df : pandas' DataFrame with columns=['lat', 'lon', 'route_num']\n",
    "        Dataframe to compress\n",
    "    eps : int in [0, 1[ , optional\n",
    "        Precision of the compression (high value = few points)\n",
    "    nb_routes : int\n",
    "        Number of routes to compress\n",
    "\n",
    "    Returns\n",
    "    -------\n",
    "    pandas' DataFrame with columns=['lat', 'lon', 'route_num']\n",
    "        the compressed DataFrame\n",
    "    \"\"\"\n",
    "    \n",
    "    df_simplified = pd.DataFrame(columns=['lat', 'lon', 'route_num'])\n",
    "    for i in range(1, nb_routes):\n",
    "        route = df[df['route_num']==i].values\n",
    "        if(len(route)>0):\n",
    "            simplified = rdp(np.delete(route, 2, 1), epsilon=eps)\n",
    "            simplified = np.insert(simplified, 2, route[0][2], axis=1) #add the route_number to the compressed route\n",
    "            df_temp = pd.DataFrame(simplified, columns=['lat', 'lon', 'route_num'])\n",
    "            df_simplified = df_simplified.append(df_temp)\n",
    "    return df_simplified"
   ]
  },
  {
   "cell_type": "code",
   "execution_count": 4,
   "metadata": {},
   "outputs": [],
   "source": [
    "def display(dfdisplay, n=75, line_group=\"route_num\", color=None):\n",
    "    \"\"\"\n",
    "    Display a dataframe of gps points on a mapbox map.\n",
    "    Parameters\n",
    "    ----------\n",
    "    df or str : pandas' DataFrame with columns=['lat', 'lon', 'route_num'] or the name of a file containing one\n",
    "        Dataframe to display or the file where it is located\n",
    "    n : int, optional\n",
    "        Number of routes to display\n",
    "    line_group : str, optional\n",
    "        Dataframe's attribute used to differenciate routes\n",
    "    color : str, optional\n",
    "        Dataframe's attribute used to color routes\n",
    "    \"\"\"\n",
    "    n+=1\n",
    "    if(type(dfdisplay) == str): #if df is a file location\n",
    "        with open(dfdisplay,'rb') as infile:\n",
    "            dfdisplay = pickle.load(infile) #open the file to load the dataframe\n",
    "    dfdisplay = dfdisplay[dfdisplay[line_group]<n]\n",
    "    fig = px.line_mapbox(dfdisplay, lat=\"lat\", lon=\"lon\", line_group=line_group, color=color, zoom=11)\n",
    "    fig.show()"
   ]
  },
  {
   "cell_type": "code",
   "execution_count": 5,
   "metadata": {},
   "outputs": [],
   "source": [
    "#display(\"gpx_simplified.df\", 1)"
   ]
  },
  {
   "cell_type": "code",
   "execution_count": 6,
   "metadata": {},
   "outputs": [],
   "source": [
    "import math\n",
    "def truncate(number, digits) -> float:\n",
    "    stepper = 10.0 ** digits\n",
    "    return math.trunc(stepper * number) / stepper"
   ]
  },
  {
   "cell_type": "code",
   "execution_count": 7,
   "metadata": {},
   "outputs": [],
   "source": [
    "def find_voxel_int(p):\n",
    "    \"\"\"\n",
    "    Find the voxel in which a point is by truncating its position. Voxel's position are transformed into \n",
    "    int to be manipulated in an easier way.\n",
    "    Parameters\n",
    "    ----------\n",
    "    p : list of two int\n",
    "        The point \n",
    "    n : int, optional\n",
    "        Number of digits to truncate\n",
    "        \n",
    "    Returns\n",
    "    -------\n",
    "    list of two int\n",
    "        Position of the voxel's low left point\n",
    "    \"\"\"\n",
    "    v_lat = math.trunc(p[0]*10**(n_voxel+1))\n",
    "    v_lon = math.trunc(p[1]*10**(n_voxel+1))\n",
    "    \n",
    "    while(v_lat%nb_subvox != 0):\n",
    "        v_lat -= 1\n",
    "    while(v_lon%nb_subvox != 0):\n",
    "        v_lon -= 1\n",
    "    \n",
    "    return [v_lat, v_lon]"
   ]
  },
  {
   "cell_type": "code",
   "execution_count": 8,
   "metadata": {},
   "outputs": [],
   "source": [
    "def line_intersection(line1, line2):\n",
    "    \"\"\"\n",
    "    Find the point of intersection between two lines\n",
    "    Parameters\n",
    "    ----------\n",
    "    line1 : list of two points (a point is a list of two int)\n",
    "        First line  \n",
    "    line2 : list of two points (a point is a list of two int)\n",
    "        Second line  \n",
    "        \n",
    "    Returns\n",
    "    -------\n",
    "    list of two int\n",
    "        Position of the intersection\n",
    "    \"\"\"\n",
    "    xdiff = (line1[0][0] - line1[1][0], line2[0][0] - line2[1][0])\n",
    "    ydiff = (line1[0][1] - line1[1][1], line2[0][1] - line2[1][1])\n",
    "\n",
    "    def det(a, b):\n",
    "        return a[0] * b[1] - a[1] * b[0]\n",
    "\n",
    "    div = det(xdiff, ydiff)\n",
    "    if div == 0:\n",
    "       raise Exception('lines do not intersect')\n",
    "\n",
    "    d = (det(*line1), det(*line2))\n",
    "    x = det(d, xdiff) / div\n",
    "    y = det(d, ydiff) / div\n",
    "    return [x, y]\n",
    "    "
   ]
  },
  {
   "cell_type": "code",
   "execution_count": 9,
   "metadata": {},
   "outputs": [],
   "source": [
    "\n",
    "def create_dict_vox(df, nb_routes):\n",
    "    \"\"\"\n",
    "    With a dataframe containing gps points separated in routes, creates a dict of voxels.  \n",
    "    Parameters\n",
    "    ----------\n",
    "     df : pandas' DataFrame with columns=['lat', 'lon', 'route_num']\n",
    "        Dataframe to use \n",
    "    nb_routes : int\n",
    "        Number of routes to use in the dataframe \n",
    "        \n",
    "    Returns\n",
    "    -------\n",
    "    dict of voxels\n",
    "        Keys of this dict are strings containing the position of voxels' low left points transformed to int\n",
    "        and separated by a ';'.\n",
    "        Values of this dict are lists containing the number of all routes that pass through the voxel.\n",
    "    \"\"\"\n",
    "    \n",
    "    dict_vox = {}\n",
    "    \n",
    "    for r in range(1, nb_routes+1):\n",
    "        \n",
    "        route = df[df[\"route_num\"]==r]\n",
    "        points = route.values.tolist()\n",
    "\n",
    "        for j in range(len(points)-1):\n",
    "            p1 = points[j] #we take two points in the dataframe that create a line\n",
    "            p2 = points[j+1]\n",
    "\n",
    "            if(p1[0]>p2[0]):\n",
    "                lat_orientation = -nb_subvox #the line is going down\n",
    "            else:\n",
    "                lat_orientation = nb_subvox #the line is going up\n",
    "\n",
    "            if(p1[1]>p2[1]):\n",
    "                lon_orientation = -nb_subvox #the line is going left \n",
    "            else:\n",
    "                lon_orientation = nb_subvox #the line is goin right\n",
    "\n",
    "            vox_int = find_voxel_int(p1) #find the start voxel\n",
    "            vox_final_int = find_voxel_int(p2) #find the final voxel\n",
    "            \n",
    "            \n",
    "            \n",
    "            #while the final voxel has not been reached\n",
    "            while(vox_int[0] != vox_final_int[0] or vox_int[1] != vox_final_int[1]):\n",
    "                vox_float = [vox_int[0]*10**(-n_voxel-1), vox_int[1]*10**(-n_voxel-1)] #transform the vox into real points\n",
    "                \n",
    "                key = str(int(vox_int[0]))+\";\"+str(int(vox_int[1])) #save the voxel\n",
    "                if key in dict_vox:\n",
    "                    if(r not in dict_vox[key]):\n",
    "                        dict_vox[key].append(r)\n",
    "                else :\n",
    "                    dict_vox[key] = [r]\n",
    "                    \n",
    "                '''find the good intersection point (if the line is going up, we search the intersection between \n",
    "                it and the up line of the voxel for example)'''\n",
    "                if(lat_orientation>0):\n",
    "                    intersection_lat = line_intersection([p1, p2], [[vox_float[0]+nb_subvox*10**(-n_voxel-1), vox_float[1]],\n",
    "                                                        [vox_float[0]+nb_subvox*10**(-n_voxel-1), vox_float[1]+nb_subvox*10**(-n_voxel-1)]])\n",
    "                else:\n",
    "                    intersection_lat = line_intersection([p1, p2], [vox_float, [vox_float[0], vox_float[1]+nb_subvox*10**(-n_voxel-1)]])\n",
    "\n",
    "                    \n",
    "                '''same for left and right'''\n",
    "                if(lon_orientation>0): \n",
    "                    intersection_lon = line_intersection([p1, p2], [[vox_float[0], vox_float[1]+nb_subvox*10**(-n_voxel-1)], \n",
    "                                                        [vox_float[0]+nb_subvox*10**(-n_voxel-1), vox_float[1]+nb_subvox*10**(-n_voxel-1)]])\n",
    "                else:\n",
    "                    intersection_lon = line_intersection([p1, p2], [vox_float, [vox_float[0]+nb_subvox*10**(-n_voxel-1), vox_float[1]]])\n",
    "\n",
    "                #calculate the distance between the first point of the line and the two intersection points\n",
    "                intersection_lon_distance = sqrt((p1[0]-intersection_lon[0])**2+(p1[1]-intersection_lon[1])**2)\n",
    "                intersection_lat_distance = sqrt((p1[0]-intersection_lat[0])**2+(p1[1]-intersection_lat[1])**2)\n",
    "\n",
    "                #find the shorter distance then go to the next voxel using the orientation of the line\n",
    "                if(intersection_lat_distance<intersection_lon_distance): \n",
    "                    vox_int[0] += lat_orientation\n",
    "                else:\n",
    "                    vox_int[1] += lon_orientation\n",
    "                    \n",
    "            key = str(int(vox_int[0]))+\";\"+str(int(vox_int[1])) #end of the while loop, save the last voxel\n",
    "            if key in dict_vox:\n",
    "                if(r not in dict_vox[key]):\n",
    "                    dict_vox[key].append(r)\n",
    "            else :\n",
    "                 dict_vox[key] = [r]\n",
    "    return dict_vox\n",
    "\n",
    "\n",
    "    \n"
   ]
  },
  {
   "cell_type": "code",
   "execution_count": 10,
   "metadata": {},
   "outputs": [],
   "source": [
    "def get_voxel_points(vox, num_vox):\n",
    "    \"\"\"\n",
    "    Take the position of the low left point of a voxel transformed into an int \n",
    "    and return this voxel's four real points.\n",
    "    Parameters\n",
    "    ----------\n",
    "    vox : list of two int\n",
    "        Position of the voxel's low left point transformed into an int\n",
    "    num_vox : int\n",
    "        Number of the voxel, used later to differentiate voxels\n",
    "        \n",
    "    Returns\n",
    "    -------\n",
    "    list \n",
    "        list of the four points (a point is a list of two int)\n",
    "    \"\"\"\n",
    "    tab_vox = []\n",
    "    vox_float = [vox[0]*10**(-n_voxel-1), vox[1]*10**(-n_voxel-1)]\n",
    "    vox_float.append(num_vox)\n",
    "    vox_float.append(1)\n",
    "    tab_vox.append(vox_float)\n",
    "    tab_vox.append([vox_float[0]+nb_subvox*10**(-n_voxel-1), vox_float[1], num_vox, 1])\n",
    "    tab_vox.append([vox_float[0]+nb_subvox*10**(-n_voxel-1), vox_float[1]+nb_subvox*10**(-n_voxel-1), num_vox, 1])\n",
    "    tab_vox.append([vox_float[0], vox_float[1]+nb_subvox*10**(-n_voxel-1), num_vox, 1])\n",
    "    return tab_vox\n"
   ]
  },
  {
   "cell_type": "code",
   "execution_count": 11,
   "metadata": {},
   "outputs": [],
   "source": [
    "def get_adjacent_voxel(vox, lat_diff, lon_diff):\n",
    "    return [vox[0]+lat_diff*nb_subvox, vox[1]+lon_diff*nb_subvox]"
   ]
  },
  {
   "cell_type": "code",
   "execution_count": 12,
   "metadata": {},
   "outputs": [],
   "source": [
    "def voxel_convolution(vox, dict_vox, dict_vox_used, num_vox, lat_diff, lon_diff):\n",
    "    \"\"\"\n",
    "    With a voxel, check if one of his neighbour exists and if it has already been used.\n",
    "    ----------\n",
    "    vox : list of two int\n",
    "        Position of the voxel's low left point transformed into an int\n",
    "    dict_vox : dict\n",
    "        Dictionary of existing voxels \n",
    "    dict_vox_used : dict\n",
    "        Dictionary of voxels that have already been used\n",
    "    num_vox : int\n",
    "        Number of the voxel, used later to differentiate voxels\n",
    "    lat_diff : int\n",
    "        Difference of latitude (the unit is voxel) between the voxel and the neighbour\n",
    "    lon_diff : int\n",
    "        Difference of longitude (the unit is voxel) between the voxel and the neighbour\n",
    "        \n",
    "    Returns\n",
    "    -------\n",
    "    list\n",
    "        If the voxel exists and has not been used : \n",
    "            A list containing the voxel's low left point transformed into an int and the list containing all routes\n",
    "            that are going through the voxel\n",
    "        Else:\n",
    "            An empty list\n",
    "    \"\"\"\n",
    "    vox_adj = get_adjacent_voxel(vox, lat_diff, lon_diff)\n",
    "    key_adj = str(int(vox_adj[0]))+\";\"+str(int(vox_adj[1]))\n",
    "    if(key_adj in dict_vox and not(key_adj in dict_vox_used)):\n",
    "        return [vox_adj, dict_vox[key_adj]]\n",
    "    return []\n",
    "        \n",
    "    "
   ]
  },
  {
   "cell_type": "code",
   "execution_count": 67,
   "metadata": {},
   "outputs": [],
   "source": [
    "def get_voxels_with_min_routes(dict_vox, min_routes):\n",
    "    \"\"\"\n",
    "    Return all voxels or groups of voxels that have at least a number of routes passing through themselves.\n",
    "    Parameters\n",
    "    ----------\n",
    "    dict_vox : dict\n",
    "        Dictionary of existing voxels \n",
    "    min_routes : int\n",
    "        Minimum number of routes passing through voxels / groups of voxels\n",
    "        \n",
    "    Returns\n",
    "    -------\n",
    "    list \n",
    "        List of voxels that have or are part of a group that have at least 'min_routes' routes \n",
    "        passing through itself. A voxel is a list of four points.\n",
    "    \"\"\"\n",
    "    num_vox = 0 #used to differentiate voxels\n",
    "    dict_vox_used = {}\n",
    "    tab_voxel_with_min_routes = [] #final list containing all voxels that matches with the conditions\n",
    "    \n",
    "    for key in dict_vox: #for all vosels\n",
    "        tab_routes = dict_vox[key]\n",
    "        len_tab_routes_vox = len(tab_routes)\n",
    "        \n",
    "        vox_str = key.split(\";\")\n",
    "        vox_int = [int(vox_str[0]), int(vox_str[1])]\n",
    "        \n",
    "        \n",
    "        #if the voxels has at least 'min_routes' routes and has not been saved we save it\n",
    "        if(key not in dict_vox_used and len_tab_routes_vox >= min_routes):\n",
    "            tab_voxel_with_min_routes += get_voxel_points(vox_int, num_vox)\n",
    "            dict_vox_used[key] = True\n",
    "            num_vox -= 1\n",
    "            \n",
    "        \n",
    "        #creation of a list containing all neighbours of the voxel\n",
    "        tab_vox_adj = []\n",
    "        tab_vox_adj.append(voxel_convolution(vox_int, dict_vox, dict_vox_used, num_vox, -1, 0))\n",
    "        tab_vox_adj.append(voxel_convolution(vox_int, dict_vox, dict_vox_used, num_vox, 1, 0))\n",
    "        tab_vox_adj.append(voxel_convolution(vox_int, dict_vox, dict_vox_used, num_vox, 0, 1))\n",
    "        tab_vox_adj.append(voxel_convolution(vox_int, dict_vox, dict_vox_used, num_vox, 0, -1))\n",
    "        \n",
    "        #for all neighbours\n",
    "        for vox_adj in tab_vox_adj:\n",
    "            if(len(vox_adj) != 0):#if it exists and has not been used \n",
    "                \n",
    "                tab_routes = dict_vox[key]\n",
    "                tab_routes = list(set(tab_routes) | set(vox_adj[1]))#union of lists\n",
    "                \n",
    "                if(len(tab_routes) >= min_routes):\n",
    "                    key_adj = str(int(vox_adj[0][0]))+\";\"+str(int(vox_adj[0][1]))\n",
    "                    if(key not in dict_vox_used):\n",
    "                        tab_voxel_with_min_routes += get_voxel_points(vox_int, num_vox)\n",
    "                        dict_vox_used[key] = True\n",
    "                        num_vox -= 1\n",
    "                    if(len(tab_routes) > len_tab_routes_vox and key_adj not in dict_vox_used):\n",
    "                        tab_voxel_with_min_routes += get_voxel_points(vox_adj[0], num_vox)\n",
    "                        dict_vox_used[key_adj] = True\n",
    "                        num_vox -= 1\n",
    "    return tab_voxel_with_min_routes\n"
   ]
  },
  {
   "cell_type": "code",
   "execution_count": 68,
   "metadata": {},
   "outputs": [
    {
     "data": {
      "application/vnd.plotly.v1+json": {
       "config": {
        "plotlyServerURL": "https://plot.ly"
       },
       "data": [
        {
         "hoverlabel": {
          "namelength": 0
         },
         "hovertemplate": "type=0<br>route_num=1<br>lat=%{lat}<br>lon=%{lon}",
         "lat": [
          45.7597379,
          45.7594543,
          45.75876832,
          45.75807992,
          45.75672044,
          45.75490154,
          45.75487488,
          45.75438988,
          45.75276134,
          45.75101162,
          45.75081634,
          45.75039882,
          45.75035424,
          45.74903047,
          45.74719221,
          45.74502268,
          45.74296191,
          45.74143137,
          45.73917602,
          45.73706151,
          45.73502972,
          45.7345798,
          45.72093785,
          45.71977639,
          45.7183188,
          45.71173528,
          45.70800263,
          45.70688691,
          45.70689246,
          45.70654918,
          45.70613218,
          45.70543845,
          45.70300388,
          45.70229707,
          45.70212037,
          45.70171149,
          45.70297177,
          45.70331486,
          45.70448637,
          45.70491583,
          45.70564567,
          45.70455069,
          45.70374964,
          45.70332643,
          45.7032535,
          45.70356367
         ],
         "legendgroup": "0",
         "line": {
          "color": "#636efa"
         },
         "lon": [
          4.87564968,
          4.87562544,
          4.87633725,
          4.87662766,
          4.87622178,
          4.87596118,
          4.87512089,
          4.87341389,
          4.86970291,
          4.87295691,
          4.87365467,
          4.87390946,
          4.87374888,
          4.87321552,
          4.87198515,
          4.87098524,
          4.86975812,
          4.86862736,
          4.86650606,
          4.86510099,
          4.86345003,
          4.8633533,
          4.87386039,
          4.87489447,
          4.87586047,
          4.88113473,
          4.88690401,
          4.88736774,
          4.88777587,
          4.88787811,
          4.88887657,
          4.88902773,
          4.8951566,
          4.89619978,
          4.89726056,
          4.89835119,
          4.89945834,
          4.89900966,
          4.90010707,
          4.89980376,
          4.900549,
          4.9024579,
          4.90158739,
          4.90199092,
          4.90184727,
          4.901477
         ],
         "mode": "lines",
         "name": "0",
         "showlegend": true,
         "subplot": "mapbox",
         "type": "scattermapbox"
        },
        {
         "hoverlabel": {
          "namelength": 0
         },
         "hovertemplate": "type=0<br>route_num=2<br>lat=%{lat}<br>lon=%{lon}",
         "lat": [
          45.7230953,
          45.72382033,
          45.72583608,
          45.72630913,
          45.72623379,
          45.72687459,
          45.72752489,
          45.72949354,
          45.729689,
          45.73195256,
          45.73282947,
          45.7335897,
          45.73506583,
          45.73574677,
          45.73643711,
          45.73659903,
          45.7366749,
          45.73694775,
          45.73738502,
          45.73776569,
          45.74096835,
          45.7406203,
          45.74119348,
          45.74133871,
          45.74206439,
          45.7425789,
          45.74309047,
          45.74309398,
          45.74319773,
          45.7433009,
          45.74393003,
          45.7440699,
          45.74447857,
          45.74477346,
          45.7448999,
          45.74511895,
          45.74532954,
          45.74546046,
          45.74580347,
          45.74698356,
          45.7473684,
          45.74775027,
          45.74884758,
          45.74929317,
          45.74955984,
          45.74982993,
          45.7500733,
          45.75078643,
          45.75081999,
          45.75118444,
          45.7511554,
          45.75133754,
          45.75160773,
          45.7509313,
          45.75177694,
          45.75218921,
          45.7516919,
          45.75301496,
          45.75346246,
          45.75401461,
          45.7540859,
          45.7535452,
          45.75418975,
          45.75475577,
          45.75510126,
          45.7556144,
          45.7547489,
          45.75595721,
          45.75583923,
          45.75779576,
          45.75849243,
          45.75943892,
          45.75966824,
          45.75980814,
          45.76205217,
          45.76275823,
          45.76342942,
          45.76353364,
          45.76375649,
          45.76382654,
          45.76466509,
          45.76500485,
          45.76510847,
          45.76516963,
          45.76511078,
          45.76588897,
          45.76771331,
          45.76801211,
          45.76865203,
          45.768757,
          45.76877931,
          45.76943536,
          45.76997534,
          45.77029001,
          45.77051062,
          45.77198674,
          45.77205486,
          45.77199885,
          45.7722979,
          45.7721971,
          45.772315,
          45.7723043
         ],
         "legendgroup": "0",
         "line": {
          "color": "#636efa"
         },
         "lon": [
          4.8939493,
          4.89287008,
          4.8875351,
          4.88691166,
          4.8865893,
          4.88559149,
          4.88413025,
          4.87904356,
          4.87901033,
          4.8758138,
          4.87493762,
          4.87369338,
          4.87396333,
          4.87387318,
          4.87398977,
          4.87387058,
          4.87400069,
          4.87388134,
          4.87404439,
          4.87393082,
          4.87419431,
          4.8741872,
          4.8740932,
          4.87383561,
          4.87417754,
          4.87409188,
          4.87415062,
          4.87426185,
          4.8741574,
          4.8742931,
          4.87426365,
          4.8744644,
          4.87442477,
          4.87483314,
          4.87471664,
          4.87493838,
          4.87496728,
          4.87481096,
          4.87502279,
          4.87495517,
          4.87521885,
          4.87515932,
          4.87550595,
          4.87540259,
          4.87555386,
          4.8754239,
          4.8757029,
          4.87599317,
          4.87576891,
          4.87639651,
          4.8761946,
          4.87614297,
          4.87647067,
          4.8761732,
          4.87656032,
          4.8764943,
          4.8765191,
          4.87679628,
          4.87670228,
          4.87727436,
          4.87713526,
          4.8769072,
          4.87722946,
          4.87708904,
          4.8772923,
          4.87694285,
          4.877154,
          4.8768852,
          4.87618215,
          4.87654765,
          4.87649453,
          4.87574669,
          4.87581097,
          4.87550256,
          4.87396757,
          4.87407823,
          4.87386188,
          4.87408234,
          4.87399586,
          4.87418135,
          4.87391713,
          4.87401476,
          4.87384614,
          4.8740217,
          4.87385169,
          4.87399196,
          4.87377494,
          4.87392461,
          4.87367573,
          4.8738164,
          4.87364705,
          4.87374894,
          4.8736403,
          4.87338278,
          4.87368942,
          4.87364442,
          4.87333746,
          4.87365951,
          4.8737504,
          4.8737274,
          4.8736376,
          4.8737455
         ],
         "mode": "lines",
         "name": "0",
         "showlegend": false,
         "subplot": "mapbox",
         "type": "scattermapbox"
        },
        {
         "hoverlabel": {
          "namelength": 0
         },
         "hovertemplate": "type=1<br>route_num=0<br>lat=%{lat}<br>lon=%{lon}",
         "lat": [
          45.7595,
          45.760000000000005,
          45.760000000000005,
          45.7595
         ],
         "legendgroup": "1",
         "line": {
          "color": "#EF553B"
         },
         "lon": [
          4.875500000000001,
          4.875500000000001,
          4.876,
          4.876
         ],
         "mode": "lines",
         "name": "1",
         "showlegend": true,
         "subplot": "mapbox",
         "type": "scattermapbox"
        },
        {
         "hoverlabel": {
          "namelength": 0
         },
         "hovertemplate": "type=1<br>route_num=-1<br>lat=%{lat}<br>lon=%{lon}",
         "lat": [
          45.759,
          45.7595,
          45.7595,
          45.759
         ],
         "legendgroup": "1",
         "line": {
          "color": "#EF553B"
         },
         "lon": [
          4.875500000000001,
          4.875500000000001,
          4.876,
          4.876
         ],
         "mode": "lines",
         "name": "1",
         "showlegend": false,
         "subplot": "mapbox",
         "type": "scattermapbox"
        },
        {
         "hoverlabel": {
          "namelength": 0
         },
         "hovertemplate": "type=1<br>route_num=-2<br>lat=%{lat}<br>lon=%{lon}",
         "lat": [
          45.759,
          45.7595,
          45.7595,
          45.759
         ],
         "legendgroup": "1",
         "line": {
          "color": "#EF553B"
         },
         "lon": [
          4.876,
          4.876,
          4.8765,
          4.8765
         ],
         "mode": "lines",
         "name": "1",
         "showlegend": false,
         "subplot": "mapbox",
         "type": "scattermapbox"
        },
        {
         "hoverlabel": {
          "namelength": 0
         },
         "hovertemplate": "type=1<br>route_num=-3<br>lat=%{lat}<br>lon=%{lon}",
         "lat": [
          45.758500000000005,
          45.75900000000001,
          45.75900000000001,
          45.758500000000005
         ],
         "legendgroup": "1",
         "line": {
          "color": "#EF553B"
         },
         "lon": [
          4.876,
          4.876,
          4.8765,
          4.8765
         ],
         "mode": "lines",
         "name": "1",
         "showlegend": false,
         "subplot": "mapbox",
         "type": "scattermapbox"
        },
        {
         "hoverlabel": {
          "namelength": 0
         },
         "hovertemplate": "type=1<br>route_num=-4<br>lat=%{lat}<br>lon=%{lon}",
         "lat": [
          45.758,
          45.758500000000005,
          45.758500000000005,
          45.758
         ],
         "legendgroup": "1",
         "line": {
          "color": "#EF553B"
         },
         "lon": [
          4.876,
          4.876,
          4.8765,
          4.8765
         ],
         "mode": "lines",
         "name": "1",
         "showlegend": false,
         "subplot": "mapbox",
         "type": "scattermapbox"
        },
        {
         "hoverlabel": {
          "namelength": 0
         },
         "hovertemplate": "type=1<br>route_num=-5<br>lat=%{lat}<br>lon=%{lon}",
         "lat": [
          45.758,
          45.758500000000005,
          45.758500000000005,
          45.758
         ],
         "legendgroup": "1",
         "line": {
          "color": "#EF553B"
         },
         "lon": [
          4.8765,
          4.8765,
          4.877,
          4.877
         ],
         "mode": "lines",
         "name": "1",
         "showlegend": false,
         "subplot": "mapbox",
         "type": "scattermapbox"
        },
        {
         "hoverlabel": {
          "namelength": 0
         },
         "hovertemplate": "type=1<br>route_num=-6<br>lat=%{lat}<br>lon=%{lon}",
         "lat": [
          45.7575,
          45.758,
          45.758,
          45.7575
         ],
         "legendgroup": "1",
         "line": {
          "color": "#EF553B"
         },
         "lon": [
          4.8765,
          4.8765,
          4.877,
          4.877
         ],
         "mode": "lines",
         "name": "1",
         "showlegend": false,
         "subplot": "mapbox",
         "type": "scattermapbox"
        },
        {
         "hoverlabel": {
          "namelength": 0
         },
         "hovertemplate": "type=1<br>route_num=-7<br>lat=%{lat}<br>lon=%{lon}",
         "lat": [
          45.7575,
          45.758,
          45.758,
          45.7575
         ],
         "legendgroup": "1",
         "line": {
          "color": "#EF553B"
         },
         "lon": [
          4.876,
          4.876,
          4.8765,
          4.8765
         ],
         "mode": "lines",
         "name": "1",
         "showlegend": false,
         "subplot": "mapbox",
         "type": "scattermapbox"
        },
        {
         "hoverlabel": {
          "namelength": 0
         },
         "hovertemplate": "type=1<br>route_num=-8<br>lat=%{lat}<br>lon=%{lon}",
         "lat": [
          45.757000000000005,
          45.75750000000001,
          45.75750000000001,
          45.757000000000005
         ],
         "legendgroup": "1",
         "line": {
          "color": "#EF553B"
         },
         "lon": [
          4.876,
          4.876,
          4.8765,
          4.8765
         ],
         "mode": "lines",
         "name": "1",
         "showlegend": false,
         "subplot": "mapbox",
         "type": "scattermapbox"
        },
        {
         "hoverlabel": {
          "namelength": 0
         },
         "hovertemplate": "type=1<br>route_num=-9<br>lat=%{lat}<br>lon=%{lon}",
         "lat": [
          45.7565,
          45.757000000000005,
          45.757000000000005,
          45.7565
         ],
         "legendgroup": "1",
         "line": {
          "color": "#EF553B"
         },
         "lon": [
          4.876,
          4.876,
          4.8765,
          4.8765
         ],
         "mode": "lines",
         "name": "1",
         "showlegend": false,
         "subplot": "mapbox",
         "type": "scattermapbox"
        },
        {
         "hoverlabel": {
          "namelength": 0
         },
         "hovertemplate": "type=1<br>route_num=-10<br>lat=%{lat}<br>lon=%{lon}",
         "lat": [
          45.756,
          45.7565,
          45.7565,
          45.756
         ],
         "legendgroup": "1",
         "line": {
          "color": "#EF553B"
         },
         "lon": [
          4.876,
          4.876,
          4.8765,
          4.8765
         ],
         "mode": "lines",
         "name": "1",
         "showlegend": false,
         "subplot": "mapbox",
         "type": "scattermapbox"
        },
        {
         "hoverlabel": {
          "namelength": 0
         },
         "hovertemplate": "type=1<br>route_num=-11<br>lat=%{lat}<br>lon=%{lon}",
         "lat": [
          45.755500000000005,
          45.75600000000001,
          45.75600000000001,
          45.755500000000005
         ],
         "legendgroup": "1",
         "line": {
          "color": "#EF553B"
         },
         "lon": [
          4.876,
          4.876,
          4.8765,
          4.8765
         ],
         "mode": "lines",
         "name": "1",
         "showlegend": false,
         "subplot": "mapbox",
         "type": "scattermapbox"
        },
        {
         "hoverlabel": {
          "namelength": 0
         },
         "hovertemplate": "type=1<br>route_num=-12<br>lat=%{lat}<br>lon=%{lon}",
         "lat": [
          45.755,
          45.755500000000005,
          45.755500000000005,
          45.755
         ],
         "legendgroup": "1",
         "line": {
          "color": "#EF553B"
         },
         "lon": [
          4.876,
          4.876,
          4.8765,
          4.8765
         ],
         "mode": "lines",
         "name": "1",
         "showlegend": false,
         "subplot": "mapbox",
         "type": "scattermapbox"
        },
        {
         "hoverlabel": {
          "namelength": 0
         },
         "hovertemplate": "type=1<br>route_num=-13<br>lat=%{lat}<br>lon=%{lon}",
         "lat": [
          45.755,
          45.755500000000005,
          45.755500000000005,
          45.755
         ],
         "legendgroup": "1",
         "line": {
          "color": "#EF553B"
         },
         "lon": [
          4.8765,
          4.8765,
          4.877,
          4.877
         ],
         "mode": "lines",
         "name": "1",
         "showlegend": false,
         "subplot": "mapbox",
         "type": "scattermapbox"
        }
       ],
       "layout": {
        "legend": {
         "title": {
          "text": "type"
         },
         "tracegroupgap": 0
        },
        "mapbox": {
         "accesstoken": "pk.eyJ1IjoibG1hZ25hbmEiLCJhIjoiY2s2N3hmNzgwMGNnODNqcGJ1N2l2ZXZpdiJ9.-aOxDLM8KbEQnJfXegtl7A",
         "center": {
          "lat": 45.74740599392148,
          "lon": 4.877569635931366
         },
         "domain": {
          "x": [
           0,
           1
          ],
          "y": [
           0,
           1
          ]
         },
         "zoom": 11
        },
        "margin": {
         "t": 60
        },
        "template": {
         "data": {
          "bar": [
           {
            "error_x": {
             "color": "#2a3f5f"
            },
            "error_y": {
             "color": "#2a3f5f"
            },
            "marker": {
             "line": {
              "color": "#E5ECF6",
              "width": 0.5
             }
            },
            "type": "bar"
           }
          ],
          "barpolar": [
           {
            "marker": {
             "line": {
              "color": "#E5ECF6",
              "width": 0.5
             }
            },
            "type": "barpolar"
           }
          ],
          "carpet": [
           {
            "aaxis": {
             "endlinecolor": "#2a3f5f",
             "gridcolor": "white",
             "linecolor": "white",
             "minorgridcolor": "white",
             "startlinecolor": "#2a3f5f"
            },
            "baxis": {
             "endlinecolor": "#2a3f5f",
             "gridcolor": "white",
             "linecolor": "white",
             "minorgridcolor": "white",
             "startlinecolor": "#2a3f5f"
            },
            "type": "carpet"
           }
          ],
          "choropleth": [
           {
            "colorbar": {
             "outlinewidth": 0,
             "ticks": ""
            },
            "type": "choropleth"
           }
          ],
          "contour": [
           {
            "colorbar": {
             "outlinewidth": 0,
             "ticks": ""
            },
            "colorscale": [
             [
              0,
              "#0d0887"
             ],
             [
              0.1111111111111111,
              "#46039f"
             ],
             [
              0.2222222222222222,
              "#7201a8"
             ],
             [
              0.3333333333333333,
              "#9c179e"
             ],
             [
              0.4444444444444444,
              "#bd3786"
             ],
             [
              0.5555555555555556,
              "#d8576b"
             ],
             [
              0.6666666666666666,
              "#ed7953"
             ],
             [
              0.7777777777777778,
              "#fb9f3a"
             ],
             [
              0.8888888888888888,
              "#fdca26"
             ],
             [
              1,
              "#f0f921"
             ]
            ],
            "type": "contour"
           }
          ],
          "contourcarpet": [
           {
            "colorbar": {
             "outlinewidth": 0,
             "ticks": ""
            },
            "type": "contourcarpet"
           }
          ],
          "heatmap": [
           {
            "colorbar": {
             "outlinewidth": 0,
             "ticks": ""
            },
            "colorscale": [
             [
              0,
              "#0d0887"
             ],
             [
              0.1111111111111111,
              "#46039f"
             ],
             [
              0.2222222222222222,
              "#7201a8"
             ],
             [
              0.3333333333333333,
              "#9c179e"
             ],
             [
              0.4444444444444444,
              "#bd3786"
             ],
             [
              0.5555555555555556,
              "#d8576b"
             ],
             [
              0.6666666666666666,
              "#ed7953"
             ],
             [
              0.7777777777777778,
              "#fb9f3a"
             ],
             [
              0.8888888888888888,
              "#fdca26"
             ],
             [
              1,
              "#f0f921"
             ]
            ],
            "type": "heatmap"
           }
          ],
          "heatmapgl": [
           {
            "colorbar": {
             "outlinewidth": 0,
             "ticks": ""
            },
            "colorscale": [
             [
              0,
              "#0d0887"
             ],
             [
              0.1111111111111111,
              "#46039f"
             ],
             [
              0.2222222222222222,
              "#7201a8"
             ],
             [
              0.3333333333333333,
              "#9c179e"
             ],
             [
              0.4444444444444444,
              "#bd3786"
             ],
             [
              0.5555555555555556,
              "#d8576b"
             ],
             [
              0.6666666666666666,
              "#ed7953"
             ],
             [
              0.7777777777777778,
              "#fb9f3a"
             ],
             [
              0.8888888888888888,
              "#fdca26"
             ],
             [
              1,
              "#f0f921"
             ]
            ],
            "type": "heatmapgl"
           }
          ],
          "histogram": [
           {
            "marker": {
             "colorbar": {
              "outlinewidth": 0,
              "ticks": ""
             }
            },
            "type": "histogram"
           }
          ],
          "histogram2d": [
           {
            "colorbar": {
             "outlinewidth": 0,
             "ticks": ""
            },
            "colorscale": [
             [
              0,
              "#0d0887"
             ],
             [
              0.1111111111111111,
              "#46039f"
             ],
             [
              0.2222222222222222,
              "#7201a8"
             ],
             [
              0.3333333333333333,
              "#9c179e"
             ],
             [
              0.4444444444444444,
              "#bd3786"
             ],
             [
              0.5555555555555556,
              "#d8576b"
             ],
             [
              0.6666666666666666,
              "#ed7953"
             ],
             [
              0.7777777777777778,
              "#fb9f3a"
             ],
             [
              0.8888888888888888,
              "#fdca26"
             ],
             [
              1,
              "#f0f921"
             ]
            ],
            "type": "histogram2d"
           }
          ],
          "histogram2dcontour": [
           {
            "colorbar": {
             "outlinewidth": 0,
             "ticks": ""
            },
            "colorscale": [
             [
              0,
              "#0d0887"
             ],
             [
              0.1111111111111111,
              "#46039f"
             ],
             [
              0.2222222222222222,
              "#7201a8"
             ],
             [
              0.3333333333333333,
              "#9c179e"
             ],
             [
              0.4444444444444444,
              "#bd3786"
             ],
             [
              0.5555555555555556,
              "#d8576b"
             ],
             [
              0.6666666666666666,
              "#ed7953"
             ],
             [
              0.7777777777777778,
              "#fb9f3a"
             ],
             [
              0.8888888888888888,
              "#fdca26"
             ],
             [
              1,
              "#f0f921"
             ]
            ],
            "type": "histogram2dcontour"
           }
          ],
          "mesh3d": [
           {
            "colorbar": {
             "outlinewidth": 0,
             "ticks": ""
            },
            "type": "mesh3d"
           }
          ],
          "parcoords": [
           {
            "line": {
             "colorbar": {
              "outlinewidth": 0,
              "ticks": ""
             }
            },
            "type": "parcoords"
           }
          ],
          "pie": [
           {
            "automargin": true,
            "type": "pie"
           }
          ],
          "scatter": [
           {
            "marker": {
             "colorbar": {
              "outlinewidth": 0,
              "ticks": ""
             }
            },
            "type": "scatter"
           }
          ],
          "scatter3d": [
           {
            "line": {
             "colorbar": {
              "outlinewidth": 0,
              "ticks": ""
             }
            },
            "marker": {
             "colorbar": {
              "outlinewidth": 0,
              "ticks": ""
             }
            },
            "type": "scatter3d"
           }
          ],
          "scattercarpet": [
           {
            "marker": {
             "colorbar": {
              "outlinewidth": 0,
              "ticks": ""
             }
            },
            "type": "scattercarpet"
           }
          ],
          "scattergeo": [
           {
            "marker": {
             "colorbar": {
              "outlinewidth": 0,
              "ticks": ""
             }
            },
            "type": "scattergeo"
           }
          ],
          "scattergl": [
           {
            "marker": {
             "colorbar": {
              "outlinewidth": 0,
              "ticks": ""
             }
            },
            "type": "scattergl"
           }
          ],
          "scattermapbox": [
           {
            "marker": {
             "colorbar": {
              "outlinewidth": 0,
              "ticks": ""
             }
            },
            "type": "scattermapbox"
           }
          ],
          "scatterpolar": [
           {
            "marker": {
             "colorbar": {
              "outlinewidth": 0,
              "ticks": ""
             }
            },
            "type": "scatterpolar"
           }
          ],
          "scatterpolargl": [
           {
            "marker": {
             "colorbar": {
              "outlinewidth": 0,
              "ticks": ""
             }
            },
            "type": "scatterpolargl"
           }
          ],
          "scatterternary": [
           {
            "marker": {
             "colorbar": {
              "outlinewidth": 0,
              "ticks": ""
             }
            },
            "type": "scatterternary"
           }
          ],
          "surface": [
           {
            "colorbar": {
             "outlinewidth": 0,
             "ticks": ""
            },
            "colorscale": [
             [
              0,
              "#0d0887"
             ],
             [
              0.1111111111111111,
              "#46039f"
             ],
             [
              0.2222222222222222,
              "#7201a8"
             ],
             [
              0.3333333333333333,
              "#9c179e"
             ],
             [
              0.4444444444444444,
              "#bd3786"
             ],
             [
              0.5555555555555556,
              "#d8576b"
             ],
             [
              0.6666666666666666,
              "#ed7953"
             ],
             [
              0.7777777777777778,
              "#fb9f3a"
             ],
             [
              0.8888888888888888,
              "#fdca26"
             ],
             [
              1,
              "#f0f921"
             ]
            ],
            "type": "surface"
           }
          ],
          "table": [
           {
            "cells": {
             "fill": {
              "color": "#EBF0F8"
             },
             "line": {
              "color": "white"
             }
            },
            "header": {
             "fill": {
              "color": "#C8D4E3"
             },
             "line": {
              "color": "white"
             }
            },
            "type": "table"
           }
          ]
         },
         "layout": {
          "annotationdefaults": {
           "arrowcolor": "#2a3f5f",
           "arrowhead": 0,
           "arrowwidth": 1
          },
          "coloraxis": {
           "colorbar": {
            "outlinewidth": 0,
            "ticks": ""
           }
          },
          "colorscale": {
           "diverging": [
            [
             0,
             "#8e0152"
            ],
            [
             0.1,
             "#c51b7d"
            ],
            [
             0.2,
             "#de77ae"
            ],
            [
             0.3,
             "#f1b6da"
            ],
            [
             0.4,
             "#fde0ef"
            ],
            [
             0.5,
             "#f7f7f7"
            ],
            [
             0.6,
             "#e6f5d0"
            ],
            [
             0.7,
             "#b8e186"
            ],
            [
             0.8,
             "#7fbc41"
            ],
            [
             0.9,
             "#4d9221"
            ],
            [
             1,
             "#276419"
            ]
           ],
           "sequential": [
            [
             0,
             "#0d0887"
            ],
            [
             0.1111111111111111,
             "#46039f"
            ],
            [
             0.2222222222222222,
             "#7201a8"
            ],
            [
             0.3333333333333333,
             "#9c179e"
            ],
            [
             0.4444444444444444,
             "#bd3786"
            ],
            [
             0.5555555555555556,
             "#d8576b"
            ],
            [
             0.6666666666666666,
             "#ed7953"
            ],
            [
             0.7777777777777778,
             "#fb9f3a"
            ],
            [
             0.8888888888888888,
             "#fdca26"
            ],
            [
             1,
             "#f0f921"
            ]
           ],
           "sequentialminus": [
            [
             0,
             "#0d0887"
            ],
            [
             0.1111111111111111,
             "#46039f"
            ],
            [
             0.2222222222222222,
             "#7201a8"
            ],
            [
             0.3333333333333333,
             "#9c179e"
            ],
            [
             0.4444444444444444,
             "#bd3786"
            ],
            [
             0.5555555555555556,
             "#d8576b"
            ],
            [
             0.6666666666666666,
             "#ed7953"
            ],
            [
             0.7777777777777778,
             "#fb9f3a"
            ],
            [
             0.8888888888888888,
             "#fdca26"
            ],
            [
             1,
             "#f0f921"
            ]
           ]
          },
          "colorway": [
           "#636efa",
           "#EF553B",
           "#00cc96",
           "#ab63fa",
           "#FFA15A",
           "#19d3f3",
           "#FF6692",
           "#B6E880",
           "#FF97FF",
           "#FECB52"
          ],
          "font": {
           "color": "#2a3f5f"
          },
          "geo": {
           "bgcolor": "white",
           "lakecolor": "white",
           "landcolor": "#E5ECF6",
           "showlakes": true,
           "showland": true,
           "subunitcolor": "white"
          },
          "hoverlabel": {
           "align": "left"
          },
          "hovermode": "closest",
          "mapbox": {
           "style": "light"
          },
          "paper_bgcolor": "white",
          "plot_bgcolor": "#E5ECF6",
          "polar": {
           "angularaxis": {
            "gridcolor": "white",
            "linecolor": "white",
            "ticks": ""
           },
           "bgcolor": "#E5ECF6",
           "radialaxis": {
            "gridcolor": "white",
            "linecolor": "white",
            "ticks": ""
           }
          },
          "scene": {
           "xaxis": {
            "backgroundcolor": "#E5ECF6",
            "gridcolor": "white",
            "gridwidth": 2,
            "linecolor": "white",
            "showbackground": true,
            "ticks": "",
            "zerolinecolor": "white"
           },
           "yaxis": {
            "backgroundcolor": "#E5ECF6",
            "gridcolor": "white",
            "gridwidth": 2,
            "linecolor": "white",
            "showbackground": true,
            "ticks": "",
            "zerolinecolor": "white"
           },
           "zaxis": {
            "backgroundcolor": "#E5ECF6",
            "gridcolor": "white",
            "gridwidth": 2,
            "linecolor": "white",
            "showbackground": true,
            "ticks": "",
            "zerolinecolor": "white"
           }
          },
          "shapedefaults": {
           "line": {
            "color": "#2a3f5f"
           }
          },
          "ternary": {
           "aaxis": {
            "gridcolor": "white",
            "linecolor": "white",
            "ticks": ""
           },
           "baxis": {
            "gridcolor": "white",
            "linecolor": "white",
            "ticks": ""
           },
           "bgcolor": "#E5ECF6",
           "caxis": {
            "gridcolor": "white",
            "linecolor": "white",
            "ticks": ""
           }
          },
          "title": {
           "x": 0.05
          },
          "xaxis": {
           "automargin": true,
           "gridcolor": "white",
           "linecolor": "white",
           "ticks": "",
           "title": {
            "standoff": 15
           },
           "zerolinecolor": "white",
           "zerolinewidth": 2
          },
          "yaxis": {
           "automargin": true,
           "gridcolor": "white",
           "linecolor": "white",
           "ticks": "",
           "title": {
            "standoff": 15
           },
           "zerolinecolor": "white",
           "zerolinewidth": 2
          }
         }
        }
       }
      },
      "text/html": [
       "<div>\n",
       "        \n",
       "        \n",
       "            <div id=\"3b1cc2a1-d4c0-4491-ba39-0dc762707715\" class=\"plotly-graph-div\" style=\"height:525px; width:100%;\"></div>\n",
       "            <script type=\"text/javascript\">\n",
       "                require([\"plotly\"], function(Plotly) {\n",
       "                    window.PLOTLYENV=window.PLOTLYENV || {};\n",
       "                    \n",
       "                if (document.getElementById(\"3b1cc2a1-d4c0-4491-ba39-0dc762707715\")) {\n",
       "                    Plotly.newPlot(\n",
       "                        '3b1cc2a1-d4c0-4491-ba39-0dc762707715',\n",
       "                        [{\"hoverlabel\": {\"namelength\": 0}, \"hovertemplate\": \"type=0<br>route_num=1<br>lat=%{lat}<br>lon=%{lon}\", \"lat\": [45.7597379, 45.7594543, 45.75876832, 45.75807992, 45.75672044, 45.75490154, 45.75487488, 45.75438988, 45.75276134, 45.75101162, 45.75081634, 45.75039882, 45.75035424, 45.74903047, 45.74719221, 45.74502268, 45.74296191, 45.74143137, 45.73917602, 45.73706151, 45.73502972, 45.7345798, 45.72093785, 45.71977639, 45.7183188, 45.71173528, 45.70800263, 45.70688691, 45.70689246, 45.70654918, 45.70613218, 45.70543845, 45.70300388, 45.70229707, 45.70212037, 45.70171149, 45.70297177, 45.70331486, 45.70448637, 45.70491583, 45.70564567, 45.70455069, 45.70374964, 45.70332643, 45.7032535, 45.70356367], \"legendgroup\": \"0\", \"line\": {\"color\": \"#636efa\"}, \"lon\": [4.87564968, 4.87562544, 4.87633725, 4.87662766, 4.87622178, 4.87596118, 4.87512089, 4.87341389, 4.86970291, 4.87295691, 4.87365467, 4.87390946, 4.87374888, 4.87321552, 4.87198515, 4.87098524, 4.86975812, 4.86862736, 4.86650606, 4.86510099, 4.86345003, 4.8633533, 4.87386039, 4.87489447, 4.87586047, 4.88113473, 4.88690401, 4.88736774, 4.88777587, 4.88787811, 4.88887657, 4.88902773, 4.8951566, 4.89619978, 4.89726056, 4.89835119, 4.89945834, 4.89900966, 4.90010707, 4.89980376, 4.900549, 4.9024579, 4.90158739, 4.90199092, 4.90184727, 4.901477], \"mode\": \"lines\", \"name\": \"0\", \"showlegend\": true, \"subplot\": \"mapbox\", \"type\": \"scattermapbox\"}, {\"hoverlabel\": {\"namelength\": 0}, \"hovertemplate\": \"type=0<br>route_num=2<br>lat=%{lat}<br>lon=%{lon}\", \"lat\": [45.7230953, 45.72382033, 45.72583608, 45.72630913, 45.72623379, 45.72687459, 45.72752489, 45.72949354, 45.729689, 45.73195256, 45.73282947, 45.7335897, 45.73506583, 45.73574677, 45.73643711, 45.73659903, 45.7366749, 45.73694775, 45.73738502, 45.73776569, 45.74096835, 45.7406203, 45.74119348, 45.74133871, 45.74206439, 45.7425789, 45.74309047, 45.74309398, 45.74319773, 45.7433009, 45.74393003, 45.7440699, 45.74447857, 45.74477346, 45.7448999, 45.74511895, 45.74532954, 45.74546046, 45.74580347, 45.74698356, 45.7473684, 45.74775027, 45.74884758, 45.74929317, 45.74955984, 45.74982993, 45.7500733, 45.75078643, 45.75081999, 45.75118444, 45.7511554, 45.75133754, 45.75160773, 45.7509313, 45.75177694, 45.75218921, 45.7516919, 45.75301496, 45.75346246, 45.75401461, 45.7540859, 45.7535452, 45.75418975, 45.75475577, 45.75510126, 45.7556144, 45.7547489, 45.75595721, 45.75583923, 45.75779576, 45.75849243, 45.75943892, 45.75966824, 45.75980814, 45.76205217, 45.76275823, 45.76342942, 45.76353364, 45.76375649, 45.76382654, 45.76466509, 45.76500485, 45.76510847, 45.76516963, 45.76511078, 45.76588897, 45.76771331, 45.76801211, 45.76865203, 45.768757, 45.76877931, 45.76943536, 45.76997534, 45.77029001, 45.77051062, 45.77198674, 45.77205486, 45.77199885, 45.7722979, 45.7721971, 45.772315, 45.7723043], \"legendgroup\": \"0\", \"line\": {\"color\": \"#636efa\"}, \"lon\": [4.8939493, 4.89287008, 4.8875351, 4.88691166, 4.8865893, 4.88559149, 4.88413025, 4.87904356, 4.87901033, 4.8758138, 4.87493762, 4.87369338, 4.87396333, 4.87387318, 4.87398977, 4.87387058, 4.87400069, 4.87388134, 4.87404439, 4.87393082, 4.87419431, 4.8741872, 4.8740932, 4.87383561, 4.87417754, 4.87409188, 4.87415062, 4.87426185, 4.8741574, 4.8742931, 4.87426365, 4.8744644, 4.87442477, 4.87483314, 4.87471664, 4.87493838, 4.87496728, 4.87481096, 4.87502279, 4.87495517, 4.87521885, 4.87515932, 4.87550595, 4.87540259, 4.87555386, 4.8754239, 4.8757029, 4.87599317, 4.87576891, 4.87639651, 4.8761946, 4.87614297, 4.87647067, 4.8761732, 4.87656032, 4.8764943, 4.8765191, 4.87679628, 4.87670228, 4.87727436, 4.87713526, 4.8769072, 4.87722946, 4.87708904, 4.8772923, 4.87694285, 4.877154, 4.8768852, 4.87618215, 4.87654765, 4.87649453, 4.87574669, 4.87581097, 4.87550256, 4.87396757, 4.87407823, 4.87386188, 4.87408234, 4.87399586, 4.87418135, 4.87391713, 4.87401476, 4.87384614, 4.8740217, 4.87385169, 4.87399196, 4.87377494, 4.87392461, 4.87367573, 4.8738164, 4.87364705, 4.87374894, 4.8736403, 4.87338278, 4.87368942, 4.87364442, 4.87333746, 4.87365951, 4.8737504, 4.8737274, 4.8736376, 4.8737455], \"mode\": \"lines\", \"name\": \"0\", \"showlegend\": false, \"subplot\": \"mapbox\", \"type\": \"scattermapbox\"}, {\"hoverlabel\": {\"namelength\": 0}, \"hovertemplate\": \"type=1<br>route_num=0<br>lat=%{lat}<br>lon=%{lon}\", \"lat\": [45.7595, 45.760000000000005, 45.760000000000005, 45.7595], \"legendgroup\": \"1\", \"line\": {\"color\": \"#EF553B\"}, \"lon\": [4.875500000000001, 4.875500000000001, 4.876, 4.876], \"mode\": \"lines\", \"name\": \"1\", \"showlegend\": true, \"subplot\": \"mapbox\", \"type\": \"scattermapbox\"}, {\"hoverlabel\": {\"namelength\": 0}, \"hovertemplate\": \"type=1<br>route_num=-1<br>lat=%{lat}<br>lon=%{lon}\", \"lat\": [45.759, 45.7595, 45.7595, 45.759], \"legendgroup\": \"1\", \"line\": {\"color\": \"#EF553B\"}, \"lon\": [4.875500000000001, 4.875500000000001, 4.876, 4.876], \"mode\": \"lines\", \"name\": \"1\", \"showlegend\": false, \"subplot\": \"mapbox\", \"type\": \"scattermapbox\"}, {\"hoverlabel\": {\"namelength\": 0}, \"hovertemplate\": \"type=1<br>route_num=-2<br>lat=%{lat}<br>lon=%{lon}\", \"lat\": [45.759, 45.7595, 45.7595, 45.759], \"legendgroup\": \"1\", \"line\": {\"color\": \"#EF553B\"}, \"lon\": [4.876, 4.876, 4.8765, 4.8765], \"mode\": \"lines\", \"name\": \"1\", \"showlegend\": false, \"subplot\": \"mapbox\", \"type\": \"scattermapbox\"}, {\"hoverlabel\": {\"namelength\": 0}, \"hovertemplate\": \"type=1<br>route_num=-3<br>lat=%{lat}<br>lon=%{lon}\", \"lat\": [45.758500000000005, 45.75900000000001, 45.75900000000001, 45.758500000000005], \"legendgroup\": \"1\", \"line\": {\"color\": \"#EF553B\"}, \"lon\": [4.876, 4.876, 4.8765, 4.8765], \"mode\": \"lines\", \"name\": \"1\", \"showlegend\": false, \"subplot\": \"mapbox\", \"type\": \"scattermapbox\"}, {\"hoverlabel\": {\"namelength\": 0}, \"hovertemplate\": \"type=1<br>route_num=-4<br>lat=%{lat}<br>lon=%{lon}\", \"lat\": [45.758, 45.758500000000005, 45.758500000000005, 45.758], \"legendgroup\": \"1\", \"line\": {\"color\": \"#EF553B\"}, \"lon\": [4.876, 4.876, 4.8765, 4.8765], \"mode\": \"lines\", \"name\": \"1\", \"showlegend\": false, \"subplot\": \"mapbox\", \"type\": \"scattermapbox\"}, {\"hoverlabel\": {\"namelength\": 0}, \"hovertemplate\": \"type=1<br>route_num=-5<br>lat=%{lat}<br>lon=%{lon}\", \"lat\": [45.758, 45.758500000000005, 45.758500000000005, 45.758], \"legendgroup\": \"1\", \"line\": {\"color\": \"#EF553B\"}, \"lon\": [4.8765, 4.8765, 4.877, 4.877], \"mode\": \"lines\", \"name\": \"1\", \"showlegend\": false, \"subplot\": \"mapbox\", \"type\": \"scattermapbox\"}, {\"hoverlabel\": {\"namelength\": 0}, \"hovertemplate\": \"type=1<br>route_num=-6<br>lat=%{lat}<br>lon=%{lon}\", \"lat\": [45.7575, 45.758, 45.758, 45.7575], \"legendgroup\": \"1\", \"line\": {\"color\": \"#EF553B\"}, \"lon\": [4.8765, 4.8765, 4.877, 4.877], \"mode\": \"lines\", \"name\": \"1\", \"showlegend\": false, \"subplot\": \"mapbox\", \"type\": \"scattermapbox\"}, {\"hoverlabel\": {\"namelength\": 0}, \"hovertemplate\": \"type=1<br>route_num=-7<br>lat=%{lat}<br>lon=%{lon}\", \"lat\": [45.7575, 45.758, 45.758, 45.7575], \"legendgroup\": \"1\", \"line\": {\"color\": \"#EF553B\"}, \"lon\": [4.876, 4.876, 4.8765, 4.8765], \"mode\": \"lines\", \"name\": \"1\", \"showlegend\": false, \"subplot\": \"mapbox\", \"type\": \"scattermapbox\"}, {\"hoverlabel\": {\"namelength\": 0}, \"hovertemplate\": \"type=1<br>route_num=-8<br>lat=%{lat}<br>lon=%{lon}\", \"lat\": [45.757000000000005, 45.75750000000001, 45.75750000000001, 45.757000000000005], \"legendgroup\": \"1\", \"line\": {\"color\": \"#EF553B\"}, \"lon\": [4.876, 4.876, 4.8765, 4.8765], \"mode\": \"lines\", \"name\": \"1\", \"showlegend\": false, \"subplot\": \"mapbox\", \"type\": \"scattermapbox\"}, {\"hoverlabel\": {\"namelength\": 0}, \"hovertemplate\": \"type=1<br>route_num=-9<br>lat=%{lat}<br>lon=%{lon}\", \"lat\": [45.7565, 45.757000000000005, 45.757000000000005, 45.7565], \"legendgroup\": \"1\", \"line\": {\"color\": \"#EF553B\"}, \"lon\": [4.876, 4.876, 4.8765, 4.8765], \"mode\": \"lines\", \"name\": \"1\", \"showlegend\": false, \"subplot\": \"mapbox\", \"type\": \"scattermapbox\"}, {\"hoverlabel\": {\"namelength\": 0}, \"hovertemplate\": \"type=1<br>route_num=-10<br>lat=%{lat}<br>lon=%{lon}\", \"lat\": [45.756, 45.7565, 45.7565, 45.756], \"legendgroup\": \"1\", \"line\": {\"color\": \"#EF553B\"}, \"lon\": [4.876, 4.876, 4.8765, 4.8765], \"mode\": \"lines\", \"name\": \"1\", \"showlegend\": false, \"subplot\": \"mapbox\", \"type\": \"scattermapbox\"}, {\"hoverlabel\": {\"namelength\": 0}, \"hovertemplate\": \"type=1<br>route_num=-11<br>lat=%{lat}<br>lon=%{lon}\", \"lat\": [45.755500000000005, 45.75600000000001, 45.75600000000001, 45.755500000000005], \"legendgroup\": \"1\", \"line\": {\"color\": \"#EF553B\"}, \"lon\": [4.876, 4.876, 4.8765, 4.8765], \"mode\": \"lines\", \"name\": \"1\", \"showlegend\": false, \"subplot\": \"mapbox\", \"type\": \"scattermapbox\"}, {\"hoverlabel\": {\"namelength\": 0}, \"hovertemplate\": \"type=1<br>route_num=-12<br>lat=%{lat}<br>lon=%{lon}\", \"lat\": [45.755, 45.755500000000005, 45.755500000000005, 45.755], \"legendgroup\": \"1\", \"line\": {\"color\": \"#EF553B\"}, \"lon\": [4.876, 4.876, 4.8765, 4.8765], \"mode\": \"lines\", \"name\": \"1\", \"showlegend\": false, \"subplot\": \"mapbox\", \"type\": \"scattermapbox\"}, {\"hoverlabel\": {\"namelength\": 0}, \"hovertemplate\": \"type=1<br>route_num=-13<br>lat=%{lat}<br>lon=%{lon}\", \"lat\": [45.755, 45.755500000000005, 45.755500000000005, 45.755], \"legendgroup\": \"1\", \"line\": {\"color\": \"#EF553B\"}, \"lon\": [4.8765, 4.8765, 4.877, 4.877], \"mode\": \"lines\", \"name\": \"1\", \"showlegend\": false, \"subplot\": \"mapbox\", \"type\": \"scattermapbox\"}],\n",
       "                        {\"legend\": {\"title\": {\"text\": \"type\"}, \"tracegroupgap\": 0}, \"mapbox\": {\"accesstoken\": \"pk.eyJ1IjoibG1hZ25hbmEiLCJhIjoiY2s2N3hmNzgwMGNnODNqcGJ1N2l2ZXZpdiJ9.-aOxDLM8KbEQnJfXegtl7A\", \"center\": {\"lat\": 45.74740599392148, \"lon\": 4.877569635931366}, \"domain\": {\"x\": [0.0, 1.0], \"y\": [0.0, 1.0]}, \"zoom\": 11}, \"margin\": {\"t\": 60}, \"template\": {\"data\": {\"bar\": [{\"error_x\": {\"color\": \"#2a3f5f\"}, \"error_y\": {\"color\": \"#2a3f5f\"}, \"marker\": {\"line\": {\"color\": \"#E5ECF6\", \"width\": 0.5}}, \"type\": \"bar\"}], \"barpolar\": [{\"marker\": {\"line\": {\"color\": \"#E5ECF6\", \"width\": 0.5}}, \"type\": \"barpolar\"}], \"carpet\": [{\"aaxis\": {\"endlinecolor\": \"#2a3f5f\", \"gridcolor\": \"white\", \"linecolor\": \"white\", \"minorgridcolor\": \"white\", \"startlinecolor\": \"#2a3f5f\"}, \"baxis\": {\"endlinecolor\": \"#2a3f5f\", \"gridcolor\": \"white\", \"linecolor\": \"white\", \"minorgridcolor\": \"white\", \"startlinecolor\": \"#2a3f5f\"}, \"type\": \"carpet\"}], \"choropleth\": [{\"colorbar\": {\"outlinewidth\": 0, \"ticks\": \"\"}, \"type\": \"choropleth\"}], \"contour\": [{\"colorbar\": {\"outlinewidth\": 0, \"ticks\": \"\"}, \"colorscale\": [[0.0, \"#0d0887\"], [0.1111111111111111, \"#46039f\"], [0.2222222222222222, \"#7201a8\"], [0.3333333333333333, \"#9c179e\"], [0.4444444444444444, \"#bd3786\"], [0.5555555555555556, \"#d8576b\"], [0.6666666666666666, \"#ed7953\"], [0.7777777777777778, \"#fb9f3a\"], [0.8888888888888888, \"#fdca26\"], [1.0, \"#f0f921\"]], \"type\": \"contour\"}], \"contourcarpet\": [{\"colorbar\": {\"outlinewidth\": 0, \"ticks\": \"\"}, \"type\": \"contourcarpet\"}], \"heatmap\": [{\"colorbar\": {\"outlinewidth\": 0, \"ticks\": \"\"}, \"colorscale\": [[0.0, \"#0d0887\"], [0.1111111111111111, \"#46039f\"], [0.2222222222222222, \"#7201a8\"], [0.3333333333333333, \"#9c179e\"], [0.4444444444444444, \"#bd3786\"], [0.5555555555555556, \"#d8576b\"], [0.6666666666666666, \"#ed7953\"], [0.7777777777777778, \"#fb9f3a\"], [0.8888888888888888, \"#fdca26\"], [1.0, \"#f0f921\"]], \"type\": \"heatmap\"}], \"heatmapgl\": [{\"colorbar\": {\"outlinewidth\": 0, \"ticks\": \"\"}, \"colorscale\": [[0.0, \"#0d0887\"], [0.1111111111111111, \"#46039f\"], [0.2222222222222222, \"#7201a8\"], [0.3333333333333333, \"#9c179e\"], [0.4444444444444444, \"#bd3786\"], [0.5555555555555556, \"#d8576b\"], [0.6666666666666666, \"#ed7953\"], [0.7777777777777778, \"#fb9f3a\"], [0.8888888888888888, \"#fdca26\"], [1.0, \"#f0f921\"]], \"type\": \"heatmapgl\"}], \"histogram\": [{\"marker\": {\"colorbar\": {\"outlinewidth\": 0, \"ticks\": \"\"}}, \"type\": \"histogram\"}], \"histogram2d\": [{\"colorbar\": {\"outlinewidth\": 0, \"ticks\": \"\"}, \"colorscale\": [[0.0, \"#0d0887\"], [0.1111111111111111, \"#46039f\"], [0.2222222222222222, \"#7201a8\"], [0.3333333333333333, \"#9c179e\"], [0.4444444444444444, \"#bd3786\"], [0.5555555555555556, \"#d8576b\"], [0.6666666666666666, \"#ed7953\"], [0.7777777777777778, \"#fb9f3a\"], [0.8888888888888888, \"#fdca26\"], [1.0, \"#f0f921\"]], \"type\": \"histogram2d\"}], \"histogram2dcontour\": [{\"colorbar\": {\"outlinewidth\": 0, \"ticks\": \"\"}, \"colorscale\": [[0.0, \"#0d0887\"], [0.1111111111111111, \"#46039f\"], [0.2222222222222222, \"#7201a8\"], [0.3333333333333333, \"#9c179e\"], [0.4444444444444444, \"#bd3786\"], [0.5555555555555556, \"#d8576b\"], [0.6666666666666666, \"#ed7953\"], [0.7777777777777778, \"#fb9f3a\"], [0.8888888888888888, \"#fdca26\"], [1.0, \"#f0f921\"]], \"type\": \"histogram2dcontour\"}], \"mesh3d\": [{\"colorbar\": {\"outlinewidth\": 0, \"ticks\": \"\"}, \"type\": \"mesh3d\"}], \"parcoords\": [{\"line\": {\"colorbar\": {\"outlinewidth\": 0, \"ticks\": \"\"}}, \"type\": \"parcoords\"}], \"pie\": [{\"automargin\": true, \"type\": \"pie\"}], \"scatter\": [{\"marker\": {\"colorbar\": {\"outlinewidth\": 0, \"ticks\": \"\"}}, \"type\": \"scatter\"}], \"scatter3d\": [{\"line\": {\"colorbar\": {\"outlinewidth\": 0, \"ticks\": \"\"}}, \"marker\": {\"colorbar\": {\"outlinewidth\": 0, \"ticks\": \"\"}}, \"type\": \"scatter3d\"}], \"scattercarpet\": [{\"marker\": {\"colorbar\": {\"outlinewidth\": 0, \"ticks\": \"\"}}, \"type\": \"scattercarpet\"}], \"scattergeo\": [{\"marker\": {\"colorbar\": {\"outlinewidth\": 0, \"ticks\": \"\"}}, \"type\": \"scattergeo\"}], \"scattergl\": [{\"marker\": {\"colorbar\": {\"outlinewidth\": 0, \"ticks\": \"\"}}, \"type\": \"scattergl\"}], \"scattermapbox\": [{\"marker\": {\"colorbar\": {\"outlinewidth\": 0, \"ticks\": \"\"}}, \"type\": \"scattermapbox\"}], \"scatterpolar\": [{\"marker\": {\"colorbar\": {\"outlinewidth\": 0, \"ticks\": \"\"}}, \"type\": \"scatterpolar\"}], \"scatterpolargl\": [{\"marker\": {\"colorbar\": {\"outlinewidth\": 0, \"ticks\": \"\"}}, \"type\": \"scatterpolargl\"}], \"scatterternary\": [{\"marker\": {\"colorbar\": {\"outlinewidth\": 0, \"ticks\": \"\"}}, \"type\": \"scatterternary\"}], \"surface\": [{\"colorbar\": {\"outlinewidth\": 0, \"ticks\": \"\"}, \"colorscale\": [[0.0, \"#0d0887\"], [0.1111111111111111, \"#46039f\"], [0.2222222222222222, \"#7201a8\"], [0.3333333333333333, \"#9c179e\"], [0.4444444444444444, \"#bd3786\"], [0.5555555555555556, \"#d8576b\"], [0.6666666666666666, \"#ed7953\"], [0.7777777777777778, \"#fb9f3a\"], [0.8888888888888888, \"#fdca26\"], [1.0, \"#f0f921\"]], \"type\": \"surface\"}], \"table\": [{\"cells\": {\"fill\": {\"color\": \"#EBF0F8\"}, \"line\": {\"color\": \"white\"}}, \"header\": {\"fill\": {\"color\": \"#C8D4E3\"}, \"line\": {\"color\": \"white\"}}, \"type\": \"table\"}]}, \"layout\": {\"annotationdefaults\": {\"arrowcolor\": \"#2a3f5f\", \"arrowhead\": 0, \"arrowwidth\": 1}, \"coloraxis\": {\"colorbar\": {\"outlinewidth\": 0, \"ticks\": \"\"}}, \"colorscale\": {\"diverging\": [[0, \"#8e0152\"], [0.1, \"#c51b7d\"], [0.2, \"#de77ae\"], [0.3, \"#f1b6da\"], [0.4, \"#fde0ef\"], [0.5, \"#f7f7f7\"], [0.6, \"#e6f5d0\"], [0.7, \"#b8e186\"], [0.8, \"#7fbc41\"], [0.9, \"#4d9221\"], [1, \"#276419\"]], \"sequential\": [[0.0, \"#0d0887\"], [0.1111111111111111, \"#46039f\"], [0.2222222222222222, \"#7201a8\"], [0.3333333333333333, \"#9c179e\"], [0.4444444444444444, \"#bd3786\"], [0.5555555555555556, \"#d8576b\"], [0.6666666666666666, \"#ed7953\"], [0.7777777777777778, \"#fb9f3a\"], [0.8888888888888888, \"#fdca26\"], [1.0, \"#f0f921\"]], \"sequentialminus\": [[0.0, \"#0d0887\"], [0.1111111111111111, \"#46039f\"], [0.2222222222222222, \"#7201a8\"], [0.3333333333333333, \"#9c179e\"], [0.4444444444444444, \"#bd3786\"], [0.5555555555555556, \"#d8576b\"], [0.6666666666666666, \"#ed7953\"], [0.7777777777777778, \"#fb9f3a\"], [0.8888888888888888, \"#fdca26\"], [1.0, \"#f0f921\"]]}, \"colorway\": [\"#636efa\", \"#EF553B\", \"#00cc96\", \"#ab63fa\", \"#FFA15A\", \"#19d3f3\", \"#FF6692\", \"#B6E880\", \"#FF97FF\", \"#FECB52\"], \"font\": {\"color\": \"#2a3f5f\"}, \"geo\": {\"bgcolor\": \"white\", \"lakecolor\": \"white\", \"landcolor\": \"#E5ECF6\", \"showlakes\": true, \"showland\": true, \"subunitcolor\": \"white\"}, \"hoverlabel\": {\"align\": \"left\"}, \"hovermode\": \"closest\", \"mapbox\": {\"style\": \"light\"}, \"paper_bgcolor\": \"white\", \"plot_bgcolor\": \"#E5ECF6\", \"polar\": {\"angularaxis\": {\"gridcolor\": \"white\", \"linecolor\": \"white\", \"ticks\": \"\"}, \"bgcolor\": \"#E5ECF6\", \"radialaxis\": {\"gridcolor\": \"white\", \"linecolor\": \"white\", \"ticks\": \"\"}}, \"scene\": {\"xaxis\": {\"backgroundcolor\": \"#E5ECF6\", \"gridcolor\": \"white\", \"gridwidth\": 2, \"linecolor\": \"white\", \"showbackground\": true, \"ticks\": \"\", \"zerolinecolor\": \"white\"}, \"yaxis\": {\"backgroundcolor\": \"#E5ECF6\", \"gridcolor\": \"white\", \"gridwidth\": 2, \"linecolor\": \"white\", \"showbackground\": true, \"ticks\": \"\", \"zerolinecolor\": \"white\"}, \"zaxis\": {\"backgroundcolor\": \"#E5ECF6\", \"gridcolor\": \"white\", \"gridwidth\": 2, \"linecolor\": \"white\", \"showbackground\": true, \"ticks\": \"\", \"zerolinecolor\": \"white\"}}, \"shapedefaults\": {\"line\": {\"color\": \"#2a3f5f\"}}, \"ternary\": {\"aaxis\": {\"gridcolor\": \"white\", \"linecolor\": \"white\", \"ticks\": \"\"}, \"baxis\": {\"gridcolor\": \"white\", \"linecolor\": \"white\", \"ticks\": \"\"}, \"bgcolor\": \"#E5ECF6\", \"caxis\": {\"gridcolor\": \"white\", \"linecolor\": \"white\", \"ticks\": \"\"}}, \"title\": {\"x\": 0.05}, \"xaxis\": {\"automargin\": true, \"gridcolor\": \"white\", \"linecolor\": \"white\", \"ticks\": \"\", \"title\": {\"standoff\": 15}, \"zerolinecolor\": \"white\", \"zerolinewidth\": 2}, \"yaxis\": {\"automargin\": true, \"gridcolor\": \"white\", \"linecolor\": \"white\", \"ticks\": \"\", \"title\": {\"standoff\": 15}, \"zerolinecolor\": \"white\", \"zerolinewidth\": 2}}}},\n",
       "                        {\"responsive\": true}\n",
       "                    ).then(function(){\n",
       "                            \n",
       "var gd = document.getElementById('3b1cc2a1-d4c0-4491-ba39-0dc762707715');\n",
       "var x = new MutationObserver(function (mutations, observer) {{\n",
       "        var display = window.getComputedStyle(gd).display;\n",
       "        if (!display || display === 'none') {{\n",
       "            console.log([gd, 'removed!']);\n",
       "            Plotly.purge(gd);\n",
       "            observer.disconnect();\n",
       "        }}\n",
       "}});\n",
       "\n",
       "// Listen for the removal of the full notebook cells\n",
       "var notebookContainer = gd.closest('#notebook-container');\n",
       "if (notebookContainer) {{\n",
       "    x.observe(notebookContainer, {childList: true});\n",
       "}}\n",
       "\n",
       "// Listen for the clearing of the current output cell\n",
       "var outputEl = gd.closest('.output');\n",
       "if (outputEl) {{\n",
       "    x.observe(outputEl, {childList: true});\n",
       "}}\n",
       "\n",
       "                        })\n",
       "                };\n",
       "                });\n",
       "            </script>\n",
       "        </div>"
      ]
     },
     "metadata": {},
     "output_type": "display_data"
    }
   ],
   "source": [
    "with open(\"gpx_simplified.df\",'rb') as infile:\n",
    "        df_simplified = pickle.load(infile)\n",
    "        \n",
    "        \n",
    "        \n",
    "nb_routes = 2\n",
    "min_routes = 2\n",
    "\n",
    "df_simplified[\"type\"] = 0\n",
    "df_display = df_simplified[df_simplified[\"route_num\"]<=nb_routes]\n",
    "\n",
    "dict_voxels = create_dict_vox(df_display, nb_routes)\n",
    "tab_vox = get_voxels_with_min_routes(dict_voxels, min_routes)\n",
    "\n",
    "        \n",
    "df = pd.DataFrame(tab_vox, columns=[\"lat\", \"lon\", \"route_num\", \"type\"])\n",
    "df_display = df_display.append(df)\n",
    "display(df_display, color=\"type\")        \n",
    "        "
   ]
  },
  {
   "cell_type": "code",
   "execution_count": 62,
   "metadata": {},
   "outputs": [
    {
     "name": "stdout",
     "output_type": "stream",
     "text": [
      "256 173 12\n"
     ]
    }
   ],
   "source": [
    "df_cluster = df_simplified[df_simplified[\"route_num\"]<=nb_routes]\n",
    "tab_voxels = []\n",
    "for key in dict_voxels:\n",
    "    for i in range(nb_routes):\n",
    "        if(i+1 in dict_voxels[key]):\n",
    "            if(len(tab_voxels)<=i):\n",
    "                tab_voxels.append([key])\n",
    "            else:\n",
    "                tab_voxels[i].append(key)\n",
    "        \n",
    "print(len(tab_voxels[0]), len(tab_voxels[1]), len(list(set(tab_voxels[0]) & set(tab_voxels[1]))))"
   ]
  },
  {
   "cell_type": "code",
   "execution_count": null,
   "metadata": {},
   "outputs": [],
   "source": []
  }
 ],
 "metadata": {
  "kernelspec": {
   "display_name": "Python 3",
   "language": "python",
   "name": "python3"
  },
  "language_info": {
   "codemirror_mode": {
    "name": "ipython",
    "version": 3
   },
   "file_extension": ".py",
   "mimetype": "text/x-python",
   "name": "python",
   "nbconvert_exporter": "python",
   "pygments_lexer": "ipython3",
   "version": "3.6.9"
  }
 },
 "nbformat": 4,
 "nbformat_minor": 2
}
