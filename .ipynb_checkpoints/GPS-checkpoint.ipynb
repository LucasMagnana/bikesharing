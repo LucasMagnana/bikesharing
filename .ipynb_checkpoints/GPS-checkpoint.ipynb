{
 "cells": [
  {
   "cell_type": "code",
   "execution_count": 1,
   "metadata": {},
   "outputs": [],
   "source": [
    "import pandas as pd\n",
    "import numpy as np\n",
    "import plotly.express as px\n",
    "import xml.etree.ElementTree as ET\n",
    "import pickle\n",
    "import math\n",
    "import copy\n",
    "from rdp import *\n",
    "token = \"pk.eyJ1IjoibG1hZ25hbmEiLCJhIjoiY2s2N3hmNzgwMGNnODNqcGJ1N2l2ZXZpdiJ9.-aOxDLM8KbEQnJfXegtl7A\"\n",
    "px.set_mapbox_access_token(token)\n",
    "n_voxel = 3\n",
    "vox_divider = 2\n",
    "nb_subvox = (10/vox_divider)"
   ]
  },
  {
   "cell_type": "code",
   "execution_count": 2,
   "metadata": {
    "scrolled": true
   },
   "outputs": [],
   "source": [
    "def load_gpx():\n",
    "    with open('gpx.df','rb') as infile:\n",
    "        df = pickle.load(infile)\n",
    "    begin = int(df.iloc[-1][\"route_num\"])\n",
    "    print(begin)\n",
    "    for i in range(begin+1, begin+1109+1):\n",
    "        tree = ET.parse('Datas/GPS/GPX/data'+str(i)+'.gpx')\n",
    "        if(len(tree.getroot()) > 1):\n",
    "            root = tree.getroot()[1][0]\n",
    "            df_temp = pd.DataFrame(columns=['lat', 'lon'])\n",
    "            j=0\n",
    "            for child in root:\n",
    "                coord = child.attrib\n",
    "                coord['lat'] = float(coord['lat'])\n",
    "                coord['lon'] = float(coord['lon'])\n",
    "                df_temp = df_temp.append(pd.DataFrame(coord, index=[j]))\n",
    "                j+=1\n",
    "            df_temp[\"route_num\"] = i\n",
    "            df = df.append(df_temp)\n",
    "    with open('gpx.df', 'wb') as outfile:\n",
    "        pickle.dump(df, outfile)"
   ]
  },
  {
   "cell_type": "code",
   "execution_count": 3,
   "metadata": {
    "scrolled": false
   },
   "outputs": [],
   "source": [
    "def rd_compression(df, nb_routes=1110, eps=1e-4):\n",
    "    \"\"\"\n",
    "    Compress a dataframe with douglas-peucker's algorithm.\n",
    "\n",
    "    Parameters\n",
    "    ----------\n",
    "    df : pandas' DataFrame with columns=['lat', 'lon', 'route_num']\n",
    "        Dataframe to compress\n",
    "    eps : int in [0, 1[ , optional\n",
    "        Precision of the compression (high value = few points)\n",
    "    nb_routes : int\n",
    "        Number of routes to compress\n",
    "\n",
    "    Returns\n",
    "    -------\n",
    "    pandas' DataFrame with columns=['lat', 'lon', 'route_num']\n",
    "        the compressed DataFrame\n",
    "    \"\"\"\n",
    "    \n",
    "    df_simplified = pd.DataFrame(columns=['lat', 'lon', 'route_num'])\n",
    "    for i in range(1, nb_routes):\n",
    "        route = df[df['route_num']==i].values\n",
    "        if(len(route)>0):\n",
    "            simplified = rdp(np.delete(route, 2, 1), epsilon=eps)\n",
    "            simplified = np.insert(simplified, 2, route[0][2], axis=1) #add the route_number to the compressed route\n",
    "            df_temp = pd.DataFrame(simplified, columns=['lat', 'lon', 'route_num'])\n",
    "            df_simplified = df_simplified.append(df_temp)\n",
    "    return df_simplified"
   ]
  },
  {
   "cell_type": "code",
   "execution_count": 4,
   "metadata": {},
   "outputs": [],
   "source": [
    "def display(dfdisplay, n=75, line_group=\"route_num\", color=None):\n",
    "    \"\"\"\n",
    "    Display a dataframe of gps points on a mapbox map.\n",
    "    Parameters\n",
    "    ----------\n",
    "    df or str : pandas' DataFrame with columns=['lat', 'lon', 'route_num'] or the name of a file containing one\n",
    "        Dataframe to display or the file where it is located\n",
    "    n : int, optional\n",
    "        Number of routes to display\n",
    "    line_group : str, optional\n",
    "        Dataframe's attribute used to differenciate routes\n",
    "    color : str, optional\n",
    "        Dataframe's attribute used to color routes\n",
    "    \"\"\"\n",
    "    n+=1\n",
    "    if(type(dfdisplay) == str): #if df is a file location\n",
    "        with open(dfdisplay,'rb') as infile:\n",
    "            dfdisplay = pickle.load(infile) #open the file to load the dataframe\n",
    "    dfdisplay = dfdisplay[dfdisplay[line_group]<n]\n",
    "    fig = px.line_mapbox(dfdisplay, lat=\"lat\", lon=\"lon\", line_group=line_group, color=color, zoom=11)\n",
    "    fig.show()"
   ]
  },
  {
   "cell_type": "code",
   "execution_count": 5,
   "metadata": {},
   "outputs": [],
   "source": [
    "#display(\"gpx_simplified.df\", 1)"
   ]
  },
  {
   "cell_type": "code",
   "execution_count": 6,
   "metadata": {},
   "outputs": [],
   "source": [
    "import math\n",
    "def truncate(number, digits) -> float:\n",
    "    stepper = 10.0 ** digits\n",
    "    return math.trunc(stepper * number) / stepper"
   ]
  },
  {
   "cell_type": "code",
   "execution_count": 7,
   "metadata": {},
   "outputs": [],
   "source": [
    "def find_voxel_int(p):\n",
    "    \"\"\"\n",
    "    Find the voxel in which a point is by truncating its position. Voxel's position are transformed into \n",
    "    int to be manipulated in an easier way.\n",
    "    Parameters\n",
    "    ----------\n",
    "    p : list of two int\n",
    "        The point \n",
    "    n : int, optional\n",
    "        Number of digits to truncate\n",
    "        \n",
    "    Returns\n",
    "    -------\n",
    "    list of two int\n",
    "        Position of the voxel's low left point\n",
    "    \"\"\"\n",
    "    v_lat = math.trunc(p[0]*10**(n_voxel+1))\n",
    "    v_lon = math.trunc(p[1]*10**(n_voxel+1))\n",
    "    \n",
    "    while(v_lat%nb_subvox != 0):\n",
    "        v_lat -= 1\n",
    "    while(v_lon%nb_subvox != 0):\n",
    "        v_lon -= 1\n",
    "    \n",
    "    return [v_lat, v_lon]"
   ]
  },
  {
   "cell_type": "code",
   "execution_count": 8,
   "metadata": {},
   "outputs": [],
   "source": [
    "def line_intersection(line1, line2):\n",
    "    \"\"\"\n",
    "    Find the point of intersection between two lines\n",
    "    Parameters\n",
    "    ----------\n",
    "    line1 : list of two points (a point is a list of two int)\n",
    "        First line  \n",
    "    line2 : list of two points (a point is a list of two int)\n",
    "        Second line  \n",
    "        \n",
    "    Returns\n",
    "    -------\n",
    "    list of two int\n",
    "        Position of the intersection\n",
    "    \"\"\"\n",
    "    xdiff = (line1[0][0] - line1[1][0], line2[0][0] - line2[1][0])\n",
    "    ydiff = (line1[0][1] - line1[1][1], line2[0][1] - line2[1][1])\n",
    "\n",
    "    def det(a, b):\n",
    "        return a[0] * b[1] - a[1] * b[0]\n",
    "\n",
    "    div = det(xdiff, ydiff)\n",
    "    if div == 0:\n",
    "       raise Exception('lines do not intersect')\n",
    "\n",
    "    d = (det(*line1), det(*line2))\n",
    "    x = det(d, xdiff) / div\n",
    "    y = det(d, ydiff) / div\n",
    "    return [x, y]\n",
    "    "
   ]
  },
  {
   "cell_type": "code",
   "execution_count": 9,
   "metadata": {},
   "outputs": [],
   "source": [
    "\n",
    "def create_dict_vox(df, nb_routes):\n",
    "    \"\"\"\n",
    "    With a dataframe containing gps points separated in routes, creates a dict of voxels.  \n",
    "    Parameters\n",
    "    ----------\n",
    "     df : pandas' DataFrame with columns=['lat', 'lon', 'route_num']\n",
    "        Dataframe to use \n",
    "    nb_routes : int\n",
    "        Number of routes to use in the dataframe \n",
    "        \n",
    "    Returns\n",
    "    -------\n",
    "    dict of voxels\n",
    "        Keys of this dict are strings containing the position of voxels' low left points transformed to int\n",
    "        and separated by a ';'.\n",
    "        Values of this dict are lists containing the number of all routes that pass through the voxel.\n",
    "    \"\"\"\n",
    "    \n",
    "    dict_vox = {}\n",
    "    #d = n+1\n",
    "    for route in range(1, nb_routes+1):\n",
    "        \n",
    "        points = df_simplified[df_simplified[\"route_num\"]==route].values.tolist()\n",
    "        l=[]\n",
    "\n",
    "        for j in range(len(points)-1):\n",
    "            p1 = points[j] #we take two points in the dataframe that create a line\n",
    "            p2 = points[j+1]\n",
    "\n",
    "            if(p1[0]>p2[0]):\n",
    "                lat_orientation = -nb_subvox #the line is going down\n",
    "            else:\n",
    "                lat_orientation = nb_subvox #the line is going up\n",
    "\n",
    "            if(p1[1]>p2[1]):\n",
    "                lon_orientation = -nb_subvox #the line is going left \n",
    "            else:\n",
    "                lon_orientation = nb_subvox #the line is goin right\n",
    "\n",
    "            vox_int = find_voxel_int(p1) #find the start voxel\n",
    "            vox_final_int = find_voxel_int(p2) #find the final voxel\n",
    "            \n",
    "            \n",
    "            \n",
    "            #while the final voxel has not been reached\n",
    "            while(vox_int[0] != vox_final_int[0] or vox_int[1] != vox_final_int[1]):\n",
    "                vox_float = [vox_int[0]*10**(-n_voxel-1), vox_int[1]*10**(-n_voxel-1)] #transform the vox into real points\n",
    "                \n",
    "                key = str(int(vox_int[0]))+\";\"+str(int(vox_int[1])) #save the voxel\n",
    "                if key in dict_vox:\n",
    "                    if(route not in dict_vox[key]):\n",
    "                        dict_vox[key].append(route)\n",
    "                else :\n",
    "                    dict_vox[key] = [route]\n",
    "                    \n",
    "                '''find the good intersection point (if the line is going up, we search the intersection between \n",
    "                it and the up line of the voxel for example)'''\n",
    "                if(lat_orientation>0):\n",
    "                    intersection_lat = line_intersection([p1, p2], [[vox_float[0]+nb_subvox*10**(-n_voxel-1), vox_float[1]],\n",
    "                                                        [vox_float[0]+nb_subvox*10**(-n_voxel-1), vox_float[1]+nb_subvox*10**(-n_voxel-1)]])\n",
    "                else:\n",
    "                    intersection_lat = line_intersection([p1, p2], [vox_float, [vox_float[0], vox_float[1]+nb_subvox*10**(-n_voxel-1)]])\n",
    "\n",
    "                    \n",
    "                '''same for left and right'''\n",
    "                if(lon_orientation>0): \n",
    "                    intersection_lon = line_intersection([p1, p2], [[vox_float[0], vox_float[1]+nb_subvox*10**(-n_voxel-1)], \n",
    "                                                        [vox_float[0]+nb_subvox*10**(-n_voxel-1), vox_float[1]+nb_subvox*10**(-n_voxel-1)]])\n",
    "                else:\n",
    "                    intersection_lon = line_intersection([p1, p2], [vox_float, [vox_float[0]+nb_subvox*10**(-n_voxel-1), vox_float[1]]])\n",
    "\n",
    "                #calculate the distance between the first point of the line and the two intersection points\n",
    "                intersection_lon_distance = sqrt((p1[0]-intersection_lon[0])**2+(p1[1]-intersection_lon[1])**2)\n",
    "                intersection_lat_distance = sqrt((p1[0]-intersection_lat[0])**2+(p1[1]-intersection_lat[1])**2)\n",
    "\n",
    "                #find the shorter distance then go to the next voxel using the orientation of the line\n",
    "                if(intersection_lat_distance<intersection_lon_distance): \n",
    "                    vox_int[0] += lat_orientation\n",
    "                else:\n",
    "                    vox_int[1] += lon_orientation\n",
    "                    \n",
    "            key = str(int(vox_int[0]))+\";\"+str(int(vox_int[1])) #end of the while loop, save the last voxel\n",
    "            if key in dict_vox:\n",
    "                if(route not in dict_vox[key]):\n",
    "                    dict_vox[key].append(route)\n",
    "            else :\n",
    "                 dict_vox[key] = [route]\n",
    "    return dict_vox\n",
    "\n",
    "\n",
    "    \n"
   ]
  },
  {
   "cell_type": "code",
   "execution_count": 28,
   "metadata": {},
   "outputs": [],
   "source": [
    "def get_voxel_points(vox, num_vox):\n",
    "    tab_vox = []\n",
    "    vox_float = [vox[0]*10**(-n_voxel-1), vox[1]*10**(-n_voxel-1)]\n",
    "    vox_float.append(num_vox)\n",
    "    vox_float.append(1)\n",
    "    tab_vox.append(vox_float)\n",
    "    tab_vox.append([vox_float[0]+nb_subvox*10**(-n_voxel-1), vox_float[1], num_vox, 1])\n",
    "    tab_vox.append([vox_float[0]+nb_subvox*10**(-n_voxel-1), vox_float[1]+nb_subvox*10**(-n_voxel-1), num_vox, 1])\n",
    "    tab_vox.append([vox_float[0], vox_float[1]+nb_subvox*10**(-n_voxel-1), num_vox, 1])\n",
    "    return tab_vox\n"
   ]
  },
  {
   "cell_type": "code",
   "execution_count": 20,
   "metadata": {},
   "outputs": [],
   "source": [
    "def get_adjacent_voxel(vox, lat_diff, lon_diff):\n",
    "    return [vox[0]+lat_diff*nb_subvox, vox[1]+lon_diff*nb_subvox]"
   ]
  },
  {
   "cell_type": "code",
   "execution_count": 18,
   "metadata": {},
   "outputs": [],
   "source": [
    "def check_voxel(vox, dict_vox):\n",
    "    key = str(int(vox[0]))+\";\"+str(int(vox[1]))\n",
    "    return ()"
   ]
  },
  {
   "cell_type": "code",
   "execution_count": 57,
   "metadata": {},
   "outputs": [],
   "source": [
    "def voxel_convolution(vox, dict_vox, dict_vox_used, num_vox, lat_diff, lon_diff):\n",
    "    vox_adj = get_adjacent_voxel(vox, lat_diff, lon_diff)\n",
    "    key_adj = str(int(vox_adj[0]))+\";\"+str(int(vox_adj[1]))\n",
    "    if(key_adj in dict_vox and not(key_adj in dict_vox_used)):\n",
    "        return [vox_adj, dict_vox[key_adj]]\n",
    "    return []\n",
    "        \n",
    "    "
   ]
  },
  {
   "cell_type": "code",
   "execution_count": 75,
   "metadata": {},
   "outputs": [],
   "source": [
    "def get_voxels_with_min_routes(dict_vox, min_routes):\n",
    "    num_vox = 0\n",
    "    dict_vox_used = {}\n",
    "    tab_voxel_with_min_routes = []\n",
    "    \n",
    "    for key in dict_vox:\n",
    "        tab_routes = dict_vox[key]\n",
    "        len_tab_routes_vox = len(tab_routes)\n",
    "        \n",
    "        vox_str = key.split(\";\")\n",
    "        vox_int = [int(vox_str[0]), int(vox_str[1])]\n",
    "        \n",
    "        \n",
    "        if(key not in dict_vox_used and len_tab_routes_vox >= min_routes):\n",
    "            tab_voxel_with_min_routes += get_voxel_points(vox_int, num_vox)\n",
    "            dict_vox_used[key] = True\n",
    "            num_vox -= 1\n",
    "            \n",
    "        \n",
    "        tab_vox_adj = []\n",
    "        tab_vox_adj.append(voxel_convolution(vox_int, dict_vox, dict_vox_used, num_vox, -1, 0))\n",
    "        tab_vox_adj.append(voxel_convolution(vox_int, dict_vox, dict_vox_used, num_vox, 1, 0))\n",
    "        tab_vox_adj.append(voxel_convolution(vox_int, dict_vox, dict_vox_used, num_vox, 0, 1))\n",
    "        tab_vox_adj.append(voxel_convolution(vox_int, dict_vox, dict_vox_used, num_vox, 0, -1))\n",
    "        \n",
    "        for vox_adj in tab_vox_adj:\n",
    "            if(len(vox_adj) != 0):\n",
    "                \n",
    "                tab_routes = dict_vox[key]\n",
    "                tab_routes = list(set(tab_routes) | set(vox_adj[1]))\n",
    "                \n",
    "                if(len(tab_routes) >= min_routes):\n",
    "                    key_adj = str(int(vox_adj[0][0]))+\";\"+str(int(vox_adj[0][1]))\n",
    "                    if(key not in dict_vox_used):\n",
    "                        tab_voxel_with_min_routes += get_voxel_points(vox_int, num_vox)\n",
    "                        dict_vox_used[key] = True\n",
    "                        num_vox -= 1\n",
    "                    if(len(tab_routes) > len_tab_routes_vox and key_adj not in dict_vox_used):\n",
    "                        tab_voxel_with_min_routes += get_voxel_points(vox_adj[0], num_vox)\n",
    "                        dict_vox_used[key_adj] = True\n",
    "                        num_vox -= 1\n",
    "    return tab_voxel_with_min_routes\n"
   ]
  },
  {
   "cell_type": "code",
   "execution_count": 79,
   "metadata": {},
   "outputs": [
    {
     "data": {
      "application/vnd.plotly.v1+json": {
       "config": {
        "plotlyServerURL": "https://plot.ly"
       },
       "data": [
        {
         "hoverlabel": {
          "namelength": 0
         },
         "hovertemplate": "type=0<br>route_num=1<br>lat=%{lat}<br>lon=%{lon}",
         "lat": [
          45.7597379,
          45.7594543,
          45.75876832,
          45.75807992,
          45.75672044,
          45.75490154,
          45.75487488,
          45.75438988,
          45.75276134,
          45.75101162,
          45.75081634,
          45.75039882,
          45.75035424,
          45.74903047,
          45.74719221,
          45.74502268,
          45.74296191,
          45.74143137,
          45.73917602,
          45.73706151,
          45.73502972,
          45.7345798,
          45.72093785,
          45.71977639,
          45.7183188,
          45.71173528,
          45.70800263,
          45.70688691,
          45.70689246,
          45.70654918,
          45.70613218,
          45.70543845,
          45.70300388,
          45.70229707,
          45.70212037,
          45.70171149,
          45.70297177,
          45.70331486,
          45.70448637,
          45.70491583,
          45.70564567,
          45.70455069,
          45.70374964,
          45.70332643,
          45.7032535,
          45.70356367
         ],
         "legendgroup": "0",
         "line": {
          "color": "#636efa"
         },
         "lon": [
          4.87564968,
          4.87562544,
          4.87633725,
          4.87662766,
          4.87622178,
          4.87596118,
          4.87512089,
          4.87341389,
          4.86970291,
          4.87295691,
          4.87365467,
          4.87390946,
          4.87374888,
          4.87321552,
          4.87198515,
          4.87098524,
          4.86975812,
          4.86862736,
          4.86650606,
          4.86510099,
          4.86345003,
          4.8633533,
          4.87386039,
          4.87489447,
          4.87586047,
          4.88113473,
          4.88690401,
          4.88736774,
          4.88777587,
          4.88787811,
          4.88887657,
          4.88902773,
          4.8951566,
          4.89619978,
          4.89726056,
          4.89835119,
          4.89945834,
          4.89900966,
          4.90010707,
          4.89980376,
          4.900549,
          4.9024579,
          4.90158739,
          4.90199092,
          4.90184727,
          4.901477
         ],
         "mode": "lines",
         "name": "0",
         "showlegend": true,
         "subplot": "mapbox",
         "type": "scattermapbox"
        },
        {
         "hoverlabel": {
          "namelength": 0
         },
         "hovertemplate": "type=0<br>route_num=2<br>lat=%{lat}<br>lon=%{lon}",
         "lat": [
          45.7230953,
          45.72382033,
          45.72583608,
          45.72630913,
          45.72623379,
          45.72687459,
          45.72752489,
          45.72949354,
          45.729689,
          45.73195256,
          45.73282947,
          45.7335897,
          45.73506583,
          45.73574677,
          45.73643711,
          45.73659903,
          45.7366749,
          45.73694775,
          45.73738502,
          45.73776569,
          45.74096835,
          45.7406203,
          45.74119348,
          45.74133871,
          45.74206439,
          45.7425789,
          45.74309047,
          45.74309398,
          45.74319773,
          45.7433009,
          45.74393003,
          45.7440699,
          45.74447857,
          45.74477346,
          45.7448999,
          45.74511895,
          45.74532954,
          45.74546046,
          45.74580347,
          45.74698356,
          45.7473684,
          45.74775027,
          45.74884758,
          45.74929317,
          45.74955984,
          45.74982993,
          45.7500733,
          45.75078643,
          45.75081999,
          45.75118444,
          45.7511554,
          45.75133754,
          45.75160773,
          45.7509313,
          45.75177694,
          45.75218921,
          45.7516919,
          45.75301496,
          45.75346246,
          45.75401461,
          45.7540859,
          45.7535452,
          45.75418975,
          45.75475577,
          45.75510126,
          45.7556144,
          45.7547489,
          45.75595721,
          45.75583923,
          45.75779576,
          45.75849243,
          45.75943892,
          45.75966824,
          45.75980814,
          45.76205217,
          45.76275823,
          45.76342942,
          45.76353364,
          45.76375649,
          45.76382654,
          45.76466509,
          45.76500485,
          45.76510847,
          45.76516963,
          45.76511078,
          45.76588897,
          45.76771331,
          45.76801211,
          45.76865203,
          45.768757,
          45.76877931,
          45.76943536,
          45.76997534,
          45.77029001,
          45.77051062,
          45.77198674,
          45.77205486,
          45.77199885,
          45.7722979,
          45.7721971,
          45.772315,
          45.7723043
         ],
         "legendgroup": "0",
         "line": {
          "color": "#636efa"
         },
         "lon": [
          4.8939493,
          4.89287008,
          4.8875351,
          4.88691166,
          4.8865893,
          4.88559149,
          4.88413025,
          4.87904356,
          4.87901033,
          4.8758138,
          4.87493762,
          4.87369338,
          4.87396333,
          4.87387318,
          4.87398977,
          4.87387058,
          4.87400069,
          4.87388134,
          4.87404439,
          4.87393082,
          4.87419431,
          4.8741872,
          4.8740932,
          4.87383561,
          4.87417754,
          4.87409188,
          4.87415062,
          4.87426185,
          4.8741574,
          4.8742931,
          4.87426365,
          4.8744644,
          4.87442477,
          4.87483314,
          4.87471664,
          4.87493838,
          4.87496728,
          4.87481096,
          4.87502279,
          4.87495517,
          4.87521885,
          4.87515932,
          4.87550595,
          4.87540259,
          4.87555386,
          4.8754239,
          4.8757029,
          4.87599317,
          4.87576891,
          4.87639651,
          4.8761946,
          4.87614297,
          4.87647067,
          4.8761732,
          4.87656032,
          4.8764943,
          4.8765191,
          4.87679628,
          4.87670228,
          4.87727436,
          4.87713526,
          4.8769072,
          4.87722946,
          4.87708904,
          4.8772923,
          4.87694285,
          4.877154,
          4.8768852,
          4.87618215,
          4.87654765,
          4.87649453,
          4.87574669,
          4.87581097,
          4.87550256,
          4.87396757,
          4.87407823,
          4.87386188,
          4.87408234,
          4.87399586,
          4.87418135,
          4.87391713,
          4.87401476,
          4.87384614,
          4.8740217,
          4.87385169,
          4.87399196,
          4.87377494,
          4.87392461,
          4.87367573,
          4.8738164,
          4.87364705,
          4.87374894,
          4.8736403,
          4.87338278,
          4.87368942,
          4.87364442,
          4.87333746,
          4.87365951,
          4.8737504,
          4.8737274,
          4.8736376,
          4.8737455
         ],
         "mode": "lines",
         "name": "0",
         "showlegend": false,
         "subplot": "mapbox",
         "type": "scattermapbox"
        },
        {
         "hoverlabel": {
          "namelength": 0
         },
         "hovertemplate": "type=0<br>route_num=3<br>lat=%{lat}<br>lon=%{lon}",
         "lat": [
          45.7445746,
          45.73920054,
          45.73700523,
          45.73514314,
          45.73406648,
          45.73329728,
          45.73293398,
          45.73101872,
          45.73081336,
          45.73046522,
          45.730735,
          45.72991307,
          45.728951,
          45.72766083,
          45.72625247,
          45.7248766,
          45.7249371,
          45.72478675,
          45.72406521,
          45.72304526,
          45.72250846,
          45.72213253,
          45.72176256,
          45.7210574,
          45.7218969,
          45.72095293,
          45.71888864,
          45.71766848,
          45.71701331,
          45.71638037,
          45.7114127,
          45.70750958,
          45.7067751,
          45.70730874,
          45.70714061,
          45.70631697,
          45.7064312,
          45.70624937,
          45.70453395,
          45.70369306,
          45.704207,
          45.70358757,
          45.70338291,
          45.7037776,
          45.70328372,
          45.70355075,
          45.7034948
         ],
         "legendgroup": "0",
         "line": {
          "color": "#636efa"
         },
         "lon": [
          4.8857103,
          4.88509311,
          4.88416514,
          4.88247747,
          4.8808851,
          4.87938661,
          4.87949835,
          4.87759348,
          4.87755764,
          4.87810686,
          4.8780423,
          4.87871063,
          4.88028587,
          4.88368902,
          4.88667034,
          4.89051598,
          4.8896429,
          4.89074411,
          4.89264206,
          4.89468059,
          4.89495249,
          4.89475968,
          4.89429237,
          4.89391188,
          4.8940955,
          4.89385817,
          4.89280105,
          4.89282686,
          4.89312604,
          4.89376793,
          4.90192582,
          4.89844268,
          4.8984826,
          4.89829486,
          4.89816872,
          4.89950059,
          4.8995818,
          4.89967156,
          4.9024888,
          4.90159316,
          4.9019106,
          4.90163017,
          4.90199195,
          4.9016871,
          4.90191169,
          4.90164138,
          4.9014428
         ],
         "mode": "lines",
         "name": "0",
         "showlegend": false,
         "subplot": "mapbox",
         "type": "scattermapbox"
        },
        {
         "hoverlabel": {
          "namelength": 0
         },
         "hovertemplate": "type=0<br>route_num=4<br>lat=%{lat}<br>lon=%{lon}",
         "lat": [
          45.7050478,
          45.70584458,
          45.70655488,
          45.70671115,
          45.70830372,
          45.71174956,
          45.71511486,
          45.71533269,
          45.71523176,
          45.7177204,
          45.71832546,
          45.71921697,
          45.71941347,
          45.71982294,
          45.72098041,
          45.72464772,
          45.72672386,
          45.72691181,
          45.72865159,
          45.72932122,
          45.7289403,
          45.7302325,
          45.73111519,
          45.73179257,
          45.7308518,
          45.73319042,
          45.73348937,
          45.73427408,
          45.73476759,
          45.73610477,
          45.73640139,
          45.735724,
          45.73705584,
          45.73754651,
          45.73788087,
          45.73789767,
          45.73861964,
          45.73928161,
          45.7387678,
          45.73930847,
          45.73934404,
          45.74003351,
          45.74207973,
          45.74308115,
          45.7435328,
          45.74393341,
          45.7439092,
          45.74402784,
          45.74506837,
          45.74533549,
          45.7457843,
          45.74562185,
          45.74588154,
          45.7457843,
          45.74591659,
          45.74568987,
          45.74559965,
          45.74585775,
          45.74566484,
          45.74568404,
          45.7458815,
          45.74582661,
          45.7460157,
          45.74603272,
          45.74628944,
          45.74670083,
          45.74767946,
          45.74922126,
          45.75155062,
          45.75217729,
          45.75258877,
          45.75556675,
          45.75819614,
          45.75927592,
          45.7592616,
          45.75948901,
          45.75970637,
          45.7593507,
          45.75982347,
          45.76299968,
          45.76364017,
          45.76414467,
          45.76478398,
          45.76580311,
          45.76675315,
          45.76852346,
          45.76881176,
          45.76902331,
          45.76973345,
          45.77062167,
          45.77072341,
          45.77138008,
          45.77259408,
          45.77337065,
          45.7732412,
          45.77245602,
          45.77263461,
          45.77284277,
          45.77466759,
          45.77491538,
          45.77481954,
          45.77530627,
          45.77312816,
          45.77296988,
          45.77264819
         ],
         "legendgroup": "0",
         "line": {
          "color": "#636efa"
         },
         "lon": [
          4.8911655,
          4.88908049,
          4.88831771,
          4.88788954,
          4.88709401,
          4.88144969,
          4.8789182,
          4.87871224,
          4.87829914,
          4.87646973,
          4.87586207,
          4.87544996,
          4.87510728,
          4.87494101,
          4.87378697,
          4.87097218,
          4.86364169,
          4.86243545,
          4.86093199,
          4.86060724,
          4.8610329,
          4.85998455,
          4.8597362,
          4.85918463,
          4.8597667,
          4.85832299,
          4.8583357,
          4.85754422,
          4.85736906,
          4.85596116,
          4.85546699,
          4.8562796,
          4.85469482,
          4.85356045,
          4.85328361,
          4.85339195,
          4.85217349,
          4.85194446,
          4.8520175,
          4.8519404,
          4.85007742,
          4.8489019,
          4.84793719,
          4.84698009,
          4.84712119,
          4.8457492,
          4.8463259,
          4.84557542,
          4.84247403,
          4.84108716,
          4.8403024,
          4.84035481,
          4.83977529,
          4.8403024,
          4.8396842,
          4.83921768,
          4.83819248,
          4.83657711,
          4.83621679,
          4.83577466,
          4.8351557,
          4.83385629,
          4.8338318,
          4.83299655,
          4.83225222,
          4.83235383,
          4.83297783,
          4.83416267,
          4.83618702,
          4.83697029,
          4.83673228,
          4.83896891,
          4.84027251,
          4.84060892,
          4.840283,
          4.84064428,
          4.84066628,
          4.8402574,
          4.84066907,
          4.8409316,
          4.84085802,
          4.84109713,
          4.84112349,
          4.84090542,
          4.84099216,
          4.84071996,
          4.84046489,
          4.84062193,
          4.84069211,
          4.84052368,
          4.8406606,
          4.84071568,
          4.84060931,
          4.84127998,
          4.8420483,
          4.84075414,
          4.83869308,
          4.83848977,
          4.81344924,
          4.81189736,
          4.81021528,
          4.80532627,
          4.80547639,
          4.80518715,
          4.80506854
         ],
         "mode": "lines",
         "name": "0",
         "showlegend": false,
         "subplot": "mapbox",
         "type": "scattermapbox"
        },
        {
         "hoverlabel": {
          "namelength": 0
         },
         "hovertemplate": "type=0<br>route_num=5<br>lat=%{lat}<br>lon=%{lon}",
         "lat": [
          45.70338405,
          45.70378305,
          45.70463165,
          45.70566698,
          45.70699421,
          45.7072392,
          45.70906518,
          45.71037336,
          45.71084104,
          45.7112157,
          45.71574078,
          45.71658261,
          45.7156486,
          45.71673581,
          45.71721708,
          45.7156486,
          45.71733044,
          45.71800952,
          45.7189091,
          45.7191932,
          45.71906606,
          45.72180165,
          45.7219812,
          45.72194031,
          45.72244305,
          45.7219812,
          45.72262143,
          45.72296997,
          45.72429807,
          45.72628253,
          45.72737416,
          45.72902062,
          45.73333287,
          45.73600564,
          45.7350833,
          45.73612026,
          45.73860625,
          45.7379802,
          45.7388185,
          45.74169629,
          45.74203231,
          45.74236609,
          45.74316707,
          45.74453861,
          45.74559432,
          45.74986897,
          45.75191079,
          45.75351265,
          45.7539264,
          45.75474974,
          45.75502945,
          45.75595965,
          45.7558567,
          45.75772146,
          45.7567084,
          45.75832694,
          45.75916317,
          45.7596542,
          45.76065453,
          45.76230794,
          45.76274605,
          45.76297592,
          45.7635006,
          45.76378957,
          45.76428998,
          45.76526491,
          45.76715138,
          45.76997562,
          45.77049605,
          45.77175632,
          45.77185722,
          45.77201323
         ],
         "legendgroup": "0",
         "line": {
          "color": "#636efa"
         },
         "lon": [
          4.9018909,
          4.90160731,
          4.90253407,
          4.90053498,
          4.89855978,
          4.89843965,
          4.90022046,
          4.9012394,
          4.90192531,
          4.90217194,
          4.89465365,
          4.89358414,
          4.8928369,
          4.89341363,
          4.89306418,
          4.8928369,
          4.89299282,
          4.89279196,
          4.89286698,
          4.892399,
          4.89295417,
          4.89438053,
          4.8940616,
          4.89448899,
          4.89496615,
          4.8940616,
          4.89492365,
          4.89463509,
          4.89195731,
          4.88661687,
          4.88435149,
          4.88010785,
          4.87388166,
          4.87402197,
          4.8738022,
          4.87401746,
          4.87407922,
          4.8738456,
          4.87407392,
          4.87425328,
          4.87399174,
          4.87417155,
          4.87419818,
          4.87454707,
          4.87494225,
          4.8756958,
          4.87665074,
          4.87695578,
          4.87718773,
          4.87715432,
          4.87734885,
          4.87691563,
          4.87616261,
          4.87658216,
          4.8762255,
          4.87664993,
          4.8760105,
          4.87589664,
          4.87487291,
          4.87387785,
          4.87408426,
          4.87396388,
          4.87403864,
          4.8742409,
          4.87402406,
          4.87406639,
          4.87381779,
          4.87378291,
          4.87362494,
          4.87363972,
          4.87375771,
          4.87346496
         ],
         "mode": "lines",
         "name": "0",
         "showlegend": false,
         "subplot": "mapbox",
         "type": "scattermapbox"
        },
        {
         "hoverlabel": {
          "namelength": 0
         },
         "hovertemplate": "type=0<br>route_num=6<br>lat=%{lat}<br>lon=%{lon}",
         "lat": [
          45.7706319,
          45.76970102,
          45.76657174,
          45.76525804,
          45.76408561,
          45.76359778,
          45.76326121,
          45.76333195,
          45.76271054,
          45.76235605,
          45.76239722,
          45.76110276,
          45.7611251,
          45.76095675,
          45.75926996,
          45.75819179,
          45.758347,
          45.7581237,
          45.75724853,
          45.75591311,
          45.75502929,
          45.75393116,
          45.748535,
          45.74793065,
          45.74805951,
          45.74669946,
          45.74541334,
          45.7453261,
          45.74314109,
          45.73858635,
          45.73729525,
          45.73623252,
          45.73455023,
          45.7348501,
          45.7333127,
          45.73290292,
          45.7309231,
          45.73021901,
          45.7307235,
          45.73011114,
          45.72991105,
          45.7307235,
          45.72985239,
          45.72953238,
          45.7296867,
          45.72898083,
          45.72858492,
          45.7286084,
          45.72811335,
          45.727232,
          45.72628492,
          45.72458224,
          45.72301906,
          45.7225956,
          45.72171757,
          45.71918826,
          45.71855584,
          45.71782389,
          45.71671802,
          45.71569015,
          45.71140984,
          45.71127486,
          45.71065274,
          45.70867096,
          45.70715515,
          45.70452627,
          45.7034818,
          45.70368785,
          45.70332474,
          45.7036997,
          45.70325759,
          45.70651512,
          45.70726716,
          45.70741233,
          45.7080438,
          45.7067748,
          45.70167097,
          45.70102723,
          45.69820375,
          45.69782489,
          45.69679043,
          45.69739167,
          45.69740978,
          45.69722513,
          45.69692532,
          45.69642197,
          45.69640858
         ],
         "legendgroup": "0",
         "line": {
          "color": "#636efa"
         },
         "lon": [
          4.87373096,
          4.87365583,
          4.87406836,
          4.87399338,
          4.87421397,
          4.87447957,
          4.87593926,
          4.87631195,
          4.87777122,
          4.87927393,
          4.87970057,
          4.88410908,
          4.88467127,
          4.88488467,
          4.88498833,
          4.88521214,
          4.8852964,
          4.88512516,
          4.88518946,
          4.88533257,
          4.88559867,
          4.88564527,
          4.88369634,
          4.88416323,
          4.88494632,
          4.88487812,
          4.88505982,
          4.88577664,
          4.88554178,
          4.88472072,
          4.88418046,
          4.88344607,
          4.88150324,
          4.882167,
          4.8792426,
          4.87932571,
          4.87738922,
          4.8781888,
          4.8780867,
          4.87833969,
          4.87868006,
          4.8780867,
          4.87879809,
          4.87933042,
          4.8792683,
          4.88017878,
          4.88130639,
          4.8817042,
          4.88254178,
          4.88490346,
          4.88660111,
          4.89133427,
          4.89466828,
          4.89496963,
          4.89419637,
          4.8928476,
          4.89264682,
          4.89270553,
          4.89333852,
          4.89468635,
          4.90191697,
          4.90162183,
          4.90125982,
          4.89936482,
          4.89819737,
          4.9024812,
          4.9014352,
          4.90161303,
          4.90214622,
          4.9019638,
          4.90252537,
          4.90648316,
          4.90749235,
          4.9079315,
          4.9082065,
          4.9094647,
          4.91813755,
          4.91881686,
          4.92350515,
          4.92677854,
          4.94191807,
          4.94231605,
          4.94369511,
          4.94428857,
          4.94459031,
          4.94476111,
          4.94441304
         ],
         "mode": "lines",
         "name": "0",
         "showlegend": false,
         "subplot": "mapbox",
         "type": "scattermapbox"
        },
        {
         "hoverlabel": {
          "namelength": 0
         },
         "hovertemplate": "type=0<br>route_num=7<br>lat=%{lat}<br>lon=%{lon}",
         "lat": [
          45.6967855,
          45.69687379,
          45.6963851,
          45.6964151,
          45.69730613,
          45.69750003,
          45.69738827,
          45.69694877,
          45.69689,
          45.69807537,
          45.70762097,
          45.70731727,
          45.70740998,
          45.70451185,
          45.70409135,
          45.70322634,
          45.7036082,
          45.7034503
         ],
         "legendgroup": "0",
         "line": {
          "color": "#636efa"
         },
         "lon": [
          4.9442898,
          4.94444183,
          4.94441006,
          4.94487546,
          4.94447042,
          4.94368596,
          4.94213853,
          4.9418843,
          4.94160373,
          4.92373035,
          4.90820142,
          4.90785319,
          4.90743564,
          4.90395451,
          4.90326247,
          4.90239854,
          4.90151037,
          4.9014494
         ],
         "mode": "lines",
         "name": "0",
         "showlegend": false,
         "subplot": "mapbox",
         "type": "scattermapbox"
        },
        {
         "hoverlabel": {
          "namelength": 0
         },
         "hovertemplate": "type=0<br>route_num=8<br>lat=%{lat}<br>lon=%{lon}",
         "lat": [
          45.7039401,
          45.70455622,
          45.70474744,
          45.70631273,
          45.70720904,
          45.7103552,
          45.71092281,
          45.71125629,
          45.71569744,
          45.71673312,
          45.71766456,
          45.71905749,
          45.72149768,
          45.72248549,
          45.72305752,
          45.72446868,
          45.72626246,
          45.72740883,
          45.72906673,
          45.7285206,
          45.72943169,
          45.73349198,
          45.73499784,
          45.73580214,
          45.73638213,
          45.7354234,
          45.73656775,
          45.73700647,
          45.73739811,
          45.7374161,
          45.7388325,
          45.73944728,
          45.73981621,
          45.74117173,
          45.74194122,
          45.74263827,
          45.74301249,
          45.74376454,
          45.74427933,
          45.74446596,
          45.74458603,
          45.7441426,
          45.74476006,
          45.74511324,
          45.74607274,
          45.74645072,
          45.74702712,
          45.74721516,
          45.74804828,
          45.74893299,
          45.7492781,
          45.74964076,
          45.7499855,
          45.74995456,
          45.75023987,
          45.75138184,
          45.7509003,
          45.75313502,
          45.75328057,
          45.75372993,
          45.75406977,
          45.75413583,
          45.75420859,
          45.75466306,
          45.7543312,
          45.75594824,
          45.75578018,
          45.75588787,
          45.75804789,
          45.75934238,
          45.7592978,
          45.75935497,
          45.75950473,
          45.76161795,
          45.76235336,
          45.7624675,
          45.76294594,
          45.76353006,
          45.76375438,
          45.76403219,
          45.76440598,
          45.76813947,
          45.76959014,
          45.76982689,
          45.77035721,
          45.77139352,
          45.77192933,
          45.77195573,
          45.77196716,
          45.77229301,
          45.7722271,
          45.7723048
         ],
         "legendgroup": "0",
         "line": {
          "color": "#636efa"
         },
         "lon": [
          4.9018396,
          4.90252842,
          4.90247447,
          4.89961438,
          4.89839047,
          4.90116674,
          4.90195618,
          4.90211316,
          4.89479657,
          4.89346268,
          4.89280347,
          4.89291787,
          4.89415648,
          4.89493831,
          4.89461543,
          4.891617,
          4.88663671,
          4.88437675,
          4.88002784,
          4.8812256,
          4.87925455,
          4.87371329,
          4.8740265,
          4.87368714,
          4.87384286,
          4.8738581,
          4.87387779,
          4.87368275,
          4.87409505,
          4.8739326,
          4.87408597,
          4.87399797,
          4.8741394,
          4.87397882,
          4.8741668,
          4.87402701,
          4.87424601,
          4.87423924,
          4.87452506,
          4.87422057,
          4.87440163,
          4.8745453,
          4.87448925,
          4.87474682,
          4.87492533,
          4.87480654,
          4.87495596,
          4.87517279,
          4.87521546,
          4.87561667,
          4.8754956,
          4.87564476,
          4.8754049,
          4.87561009,
          4.87581493,
          4.87620753,
          4.8761584,
          4.87685326,
          4.87674638,
          4.8769302,
          4.87687965,
          4.87707386,
          4.87690358,
          4.87693053,
          4.8771095,
          4.87679077,
          4.87634964,
          4.8761871,
          4.8765329,
          4.87566042,
          4.87593,
          4.87568158,
          4.87578531,
          4.87422301,
          4.87386319,
          4.87409981,
          4.87378179,
          4.87387483,
          4.87425293,
          4.87396647,
          4.87390964,
          4.87378679,
          4.87346923,
          4.87359824,
          4.87344776,
          4.87350657,
          4.87367688,
          4.8733202,
          4.87375699,
          4.87379693,
          4.8735864,
          4.8737708
         ],
         "mode": "lines",
         "name": "0",
         "showlegend": false,
         "subplot": "mapbox",
         "type": "scattermapbox"
        },
        {
         "hoverlabel": {
          "namelength": 0
         },
         "hovertemplate": "type=0<br>route_num=9<br>lat=%{lat}<br>lon=%{lon}",
         "lat": [
          45.77199039,
          45.77194305,
          45.77077377,
          45.77042163,
          45.76993279,
          45.76832829,
          45.7636637,
          45.76350623,
          45.76016175,
          45.75994964,
          45.76084413,
          45.75833516,
          45.75656617,
          45.75497751,
          45.75363949,
          45.74863098,
          45.74792912,
          45.74810153,
          45.74542034,
          45.74534721,
          45.73946704,
          45.7373896,
          45.73634303,
          45.73473584,
          45.73332018,
          45.73294374,
          45.73119275,
          45.73084302,
          45.72891367,
          45.72746234,
          45.7262625,
          45.72630282,
          45.72603113,
          45.72522877,
          45.7248627,
          45.7251531,
          45.72510224,
          45.72299418,
          45.72249343,
          45.72229345,
          45.7226972,
          45.72218539,
          45.72164347,
          45.71911212,
          45.71842728,
          45.71765408,
          45.71673848,
          45.71568351,
          45.71139367,
          45.70711452,
          45.70493797,
          45.7055465,
          45.7048684,
          45.70456509,
          45.70371184,
          45.70340113,
          45.70325695,
          45.70343472,
          45.70359816,
          45.70362969,
          45.7034652
         ],
         "legendgroup": "0",
         "line": {
          "color": "#636efa"
         },
         "lon": [
          4.87361581,
          4.87350702,
          4.87379882,
          4.87360861,
          4.87360653,
          4.8738432,
          4.87408692,
          4.87530015,
          4.88742148,
          4.88863624,
          4.8846817,
          4.88517347,
          4.88521911,
          4.88555733,
          4.88552728,
          4.88364176,
          4.88415895,
          4.88480068,
          4.88494889,
          4.88571934,
          4.88485399,
          4.8841036,
          4.88341463,
          4.88169596,
          4.87916451,
          4.87934022,
          4.87752257,
          4.87734604,
          4.88029114,
          4.88402588,
          4.88651899,
          4.8870854,
          4.88732819,
          4.88950656,
          4.8896331,
          4.88970932,
          4.889846,
          4.89462061,
          4.8949512,
          4.89483414,
          4.8944655,
          4.89478088,
          4.89420518,
          4.89288657,
          4.89272138,
          4.89281739,
          4.89334853,
          4.89472093,
          4.90189819,
          4.89818223,
          4.90182766,
          4.9014691,
          4.90194829,
          4.90244781,
          4.90159834,
          4.90198928,
          4.90193134,
          4.90165198,
          4.90166932,
          4.90150645,
          4.9014362
         ],
         "mode": "lines",
         "name": "0",
         "showlegend": false,
         "subplot": "mapbox",
         "type": "scattermapbox"
        },
        {
         "hoverlabel": {
          "namelength": 0
         },
         "hovertemplate": "type=0<br>route_num=10<br>lat=%{lat}<br>lon=%{lon}",
         "lat": [
          45.70339085,
          45.7031279,
          45.70140256,
          45.70126612,
          45.70222806,
          45.70235755,
          45.7032924,
          45.70333735,
          45.70540749,
          45.70622883,
          45.70682587,
          45.70826123,
          45.71146275,
          45.71420557,
          45.71410416,
          45.71967233,
          45.72451016,
          45.72464438,
          45.7242031,
          45.72468048,
          45.72522127,
          45.7252323,
          45.72540668,
          45.72619262,
          45.72690045,
          45.7276088,
          45.7289641,
          45.73332689,
          45.7354635,
          45.73839575,
          45.73870196,
          45.73927881,
          45.73926121,
          45.73978066,
          45.74035996,
          45.74174467,
          45.74294995,
          45.74342675,
          45.74438552,
          45.7443872,
          45.7455401,
          45.7457682,
          45.7458693,
          45.74554814,
          45.74558254,
          45.74580416,
          45.74626567,
          45.74640107,
          45.7463327,
          45.74647562,
          45.74661769,
          45.7483794,
          45.75202797,
          45.75265703,
          45.75553631,
          45.75762866,
          45.75978699,
          45.76453228,
          45.76779957,
          45.77212036,
          45.77283419,
          45.7725837,
          45.77294676,
          45.77329313,
          45.77324793,
          45.77250412,
          45.77242392,
          45.77299269,
          45.77488249,
          45.77503216,
          45.77531774,
          45.77311237,
          45.7729063,
          45.77274842,
          45.77258678
         ],
         "legendgroup": "0",
         "line": {
          "color": "#636efa"
         },
         "lon": [
          4.90195951,
          4.9022799,
          4.90007035,
          4.89961944,
          4.8971045,
          4.8962265,
          4.89484927,
          4.89435261,
          4.88919274,
          4.88897408,
          4.88763902,
          4.88706469,
          4.88177717,
          4.87961088,
          4.87914193,
          4.87497708,
          4.87102395,
          4.87054557,
          4.8710576,
          4.87041719,
          4.8684984,
          4.8690006,
          4.86772377,
          4.86531837,
          4.86243457,
          4.86202628,
          4.8608691,
          4.858423,
          4.8565785,
          4.85242455,
          4.85206526,
          4.85189632,
          4.85024174,
          4.84912201,
          4.84868673,
          4.84804669,
          4.84706434,
          4.84712451,
          4.84433626,
          4.8447834,
          4.84043926,
          4.83981722,
          4.8400873,
          4.83807281,
          4.83627488,
          4.8340793,
          4.83225413,
          4.83224731,
          4.832998,
          4.83227421,
          4.83233084,
          4.83355137,
          4.83676538,
          4.83676286,
          4.83901098,
          4.84002765,
          4.84057045,
          4.84100746,
          4.8406415,
          4.84065077,
          4.84091002,
          4.8412923,
          4.84096678,
          4.8411797,
          4.84128288,
          4.84109659,
          4.84082271,
          4.83637249,
          4.81134842,
          4.80654868,
          4.80541985,
          4.80555015,
          4.80527226,
          4.8053243,
          4.80516041
         ],
         "mode": "lines",
         "name": "0",
         "showlegend": false,
         "subplot": "mapbox",
         "type": "scattermapbox"
        },
        {
         "hoverlabel": {
          "namelength": 0
         },
         "hovertemplate": "type=0<br>route_num=11<br>lat=%{lat}<br>lon=%{lon}",
         "lat": [
          45.7036301,
          45.70334677,
          45.70343709,
          45.70376119,
          45.70396244,
          45.70459762,
          45.70573018,
          45.70578934,
          45.7053736,
          45.70586618,
          45.70722242,
          45.71119773,
          45.7142021,
          45.71566592,
          45.71641585,
          45.71732007,
          45.71779565,
          45.7188316,
          45.72146804,
          45.72209138,
          45.72256304,
          45.72309845,
          45.72366612,
          45.72628289,
          45.72747385,
          45.72810512,
          45.7275721,
          45.72840508,
          45.72937577,
          45.73265296,
          45.7319305,
          45.73346256,
          45.7434247,
          45.7479304,
          45.74970945,
          45.7499649,
          45.74968448,
          45.7520788,
          45.75512671,
          45.7559653,
          45.75614875,
          45.75832707,
          45.75949146,
          45.75977629,
          45.76129305,
          45.76233319,
          45.76351577,
          45.76390004,
          45.76573796,
          45.76888217,
          45.77029356,
          45.7697776,
          45.77055784,
          45.7703339,
          45.7706652,
          45.77090917,
          45.77203925,
          45.77211934,
          45.7719051,
          45.77211054
         ],
         "legendgroup": "0",
         "line": {
          "color": "#636efa"
         },
         "lon": [
          4.9019533,
          4.90207405,
          4.90176096,
          4.90151329,
          4.90155031,
          4.90248682,
          4.9006235,
          4.90047701,
          4.9007926,
          4.90035363,
          4.89839266,
          4.90216552,
          4.897445,
          4.89477651,
          4.89383116,
          4.89306131,
          4.89285132,
          4.89287362,
          4.8941497,
          4.89475259,
          4.89494676,
          4.8945914,
          4.89355383,
          4.88675877,
          4.88441483,
          4.88271507,
          4.8837499,
          4.88208606,
          4.8795895,
          4.87513717,
          4.8758873,
          4.87394039,
          4.87428893,
          4.87534014,
          4.875627,
          4.8754366,
          4.87562233,
          4.8766782,
          4.87740237,
          4.87681769,
          4.87625681,
          4.87669071,
          4.87587526,
          4.87594061,
          4.87457378,
          4.8739267,
          4.87392393,
          4.87423463,
          4.87398324,
          4.87394907,
          4.87373788,
          4.873717,
          4.87377335,
          4.8736958,
          4.87374435,
          4.87359976,
          4.87368732,
          4.87337573,
          4.8736854,
          4.87352297
         ],
         "mode": "lines",
         "name": "0",
         "showlegend": false,
         "subplot": "mapbox",
         "type": "scattermapbox"
        },
        {
         "hoverlabel": {
          "namelength": 0
         },
         "hovertemplate": "type=0<br>route_num=12<br>lat=%{lat}<br>lon=%{lon}",
         "lat": [
          45.7307624,
          45.7306705,
          45.72991073,
          45.7289085,
          45.72731195,
          45.72618547,
          45.72390918,
          45.72303341,
          45.72263159,
          45.72212464,
          45.72165267,
          45.71886066,
          45.71773886,
          45.71672854,
          45.71509742,
          45.70792104,
          45.70759238,
          45.70729523,
          45.70411813,
          45.70345796,
          45.70323683,
          45.70337497,
          45.7035539,
          45.70325659,
          45.70338771
         ],
         "legendgroup": "0",
         "line": {
          "color": "#636efa"
         },
         "lon": [
          4.877652,
          4.8780955,
          4.87871872,
          4.88033195,
          4.88445482,
          4.88673539,
          4.89287243,
          4.89456392,
          4.89495682,
          4.89476615,
          4.89426042,
          4.89285494,
          4.89285107,
          4.89340911,
          4.8957137,
          4.90774259,
          4.90743057,
          4.90740404,
          4.90334162,
          4.90269553,
          4.90234986,
          4.90196035,
          4.9019019,
          4.90191247,
          4.90165553
         ],
         "mode": "lines",
         "name": "0",
         "showlegend": false,
         "subplot": "mapbox",
         "type": "scattermapbox"
        },
        {
         "hoverlabel": {
          "namelength": 0
         },
         "hovertemplate": "type=0<br>route_num=13<br>lat=%{lat}<br>lon=%{lon}",
         "lat": [
          45.7037039,
          45.70364745,
          45.7037214,
          45.70378488,
          45.70462134,
          45.70621036,
          45.70680218,
          45.70738481,
          45.70908146,
          45.71047723,
          45.71091182,
          45.71122135,
          45.71152553,
          45.71579677,
          45.71607804,
          45.71675367,
          45.71756959,
          45.71817933,
          45.71894442,
          45.72116655,
          45.72256657,
          45.72302422,
          45.72345775,
          45.7226305,
          45.72352093,
          45.72381487,
          45.72628568,
          45.72845906,
          45.72903137,
          45.73027813,
          45.7296132,
          45.73333335,
          45.73364154,
          45.73464956,
          45.73632729,
          45.736331,
          45.73755866,
          45.74078889,
          45.74161077,
          45.74196718,
          45.74328637,
          45.74600541,
          45.74995858,
          45.75271291,
          45.75481124,
          45.75489643,
          45.7547105,
          45.75514969,
          45.75596655,
          45.75589454,
          45.75813859,
          45.76010305,
          45.7595822,
          45.76026964,
          45.76184028,
          45.7624747,
          45.76333713,
          45.7632965,
          45.76348989,
          45.7637988,
          45.76394559,
          45.76454725,
          45.7644649,
          45.7656957,
          45.7673782,
          45.76952943,
          45.77165716,
          45.771608,
          45.77203717,
          45.7720236
         ],
         "legendgroup": "0",
         "line": {
          "color": "#636efa"
         },
         "lon": [
          4.9019344,
          4.90153788,
          4.9019181,
          4.9016868,
          4.90256014,
          4.89962088,
          4.8988249,
          4.89855372,
          4.9002234,
          4.90133596,
          4.90200399,
          4.90149989,
          4.9018045,
          4.89459607,
          4.89443257,
          4.89344372,
          4.89288763,
          4.89274776,
          4.89288898,
          4.89397391,
          4.89497817,
          4.89461207,
          4.89368304,
          4.8944398,
          4.89352766,
          4.89294988,
          4.88663878,
          4.88184543,
          4.88017891,
          4.87827481,
          4.8790609,
          4.87396816,
          4.87377812,
          4.8739984,
          4.87394659,
          4.87406568,
          4.87387357,
          4.87424451,
          4.87401072,
          4.87413158,
          4.87410756,
          4.87495021,
          4.87565235,
          4.87683819,
          4.87708206,
          4.8773009,
          4.8771318,
          4.87734485,
          4.87687864,
          4.87614783,
          4.87665019,
          4.87539676,
          4.875921,
          4.87519502,
          4.87411784,
          4.87388963,
          4.87381262,
          4.8740041,
          4.87383817,
          4.87415297,
          4.87402275,
          4.87402622,
          4.8741228,
          4.87393771,
          4.8740461,
          4.87358936,
          4.87353019,
          4.8736392,
          4.87334506,
          4.87349343
         ],
         "mode": "lines",
         "name": "0",
         "showlegend": false,
         "subplot": "mapbox",
         "type": "scattermapbox"
        },
        {
         "hoverlabel": {
          "namelength": 0
         },
         "hovertemplate": "type=0<br>route_num=14<br>lat=%{lat}<br>lon=%{lon}",
         "lat": [
          45.76769308,
          45.76719881,
          45.76674337,
          45.76606733,
          45.7636778,
          45.7634182,
          45.76165095,
          45.7617225,
          45.76131046,
          45.76095721,
          45.7605036,
          45.75938564,
          45.75405028,
          45.7535889,
          45.7547041,
          45.75265875,
          45.74861502,
          45.74831789,
          45.74907,
          45.74823032,
          45.74798142,
          45.74806987,
          45.7476755,
          45.7480043,
          45.74755364,
          45.74545756,
          45.74531353,
          45.74144238,
          45.7382642,
          45.7368119,
          45.7353043,
          45.73411033,
          45.73329851,
          45.73294353,
          45.73088939,
          45.73005803,
          45.7293958,
          45.7298063,
          45.72897899,
          45.72814942,
          45.72817565,
          45.72622671,
          45.72630322,
          45.72599577,
          45.72388986,
          45.7229589,
          45.72252297,
          45.72199582,
          45.7225456,
          45.72190385,
          45.71910473,
          45.71824685,
          45.71749951,
          45.71659141,
          45.71571707,
          45.7113975,
          45.70714947,
          45.7068256,
          45.70691367,
          45.70672528,
          45.70637223,
          45.7068256,
          45.70452522,
          45.70363575
         ],
         "legendgroup": "0",
         "line": {
          "color": "#636efa"
         },
         "lon": [
          4.87400228,
          4.87391258,
          4.87408786,
          4.87393622,
          4.87409272,
          4.87569365,
          4.88200801,
          4.88247239,
          4.883347,
          4.88473185,
          4.88497502,
          4.88497895,
          4.88568425,
          4.88555681,
          4.8856718,
          4.88528426,
          4.88375837,
          4.88390893,
          4.8838806,
          4.88396643,
          4.88414818,
          4.88487024,
          4.88482367,
          4.88435,
          4.88484398,
          4.8850388,
          4.88575115,
          4.88531444,
          4.8846147,
          4.88387018,
          4.88255827,
          4.88084555,
          4.87920844,
          4.87936422,
          4.87736628,
          4.87840368,
          4.87950377,
          4.87906,
          4.88020719,
          4.88210018,
          4.88250139,
          4.88667411,
          4.88713775,
          4.88745581,
          4.89294932,
          4.89465038,
          4.89492705,
          4.89449951,
          4.8943565,
          4.89438373,
          4.89282535,
          4.89271026,
          4.89289022,
          4.89347246,
          4.89466245,
          4.90190899,
          4.89818072,
          4.8984664,
          4.89854956,
          4.89889959,
          4.89949,
          4.8984664,
          4.90246928,
          4.90164463
         ],
         "mode": "lines",
         "name": "0",
         "showlegend": false,
         "subplot": "mapbox",
         "type": "scattermapbox"
        },
        {
         "hoverlabel": {
          "namelength": 0
         },
         "hovertemplate": "type=0<br>route_num=15<br>lat=%{lat}<br>lon=%{lon}",
         "lat": [
          45.7036312,
          45.70353605,
          45.70347021,
          45.70332086,
          45.70315271,
          45.70143886,
          45.70129841,
          45.70227429,
          45.70244517,
          45.70336726,
          45.70339142,
          45.70547207,
          45.70623341,
          45.70684714,
          45.70763619,
          45.70821997,
          45.71179571,
          45.71919239,
          45.72271644,
          45.72412036,
          45.723546,
          45.72420927,
          45.72453397,
          45.7241643,
          45.72475592,
          45.72668404,
          45.72690636,
          45.7273969,
          45.72760245,
          45.72777668,
          45.72910409,
          45.72920818,
          45.7289222,
          45.72926357,
          45.72940108,
          45.73003325,
          45.73051432,
          45.73107213,
          45.7308176,
          45.73112056,
          45.73264754,
          45.73569965,
          45.73879621,
          45.739323,
          45.73941166,
          45.74027948,
          45.74201053,
          45.7430771,
          45.7434463,
          45.74366966,
          45.7433157,
          45.74370172,
          45.74515331,
          45.74517753,
          45.74598099,
          45.74576377,
          45.74563637,
          45.74596507,
          45.74630328,
          45.74690021,
          45.74997387,
          45.7515602,
          45.75206186,
          45.75261627,
          45.75607935,
          45.75844397,
          45.76029726,
          45.76465262,
          45.76934801,
          45.7723205,
          45.77303617,
          45.77331617,
          45.77260547,
          45.77241953,
          45.77287397,
          45.77497566,
          45.77490513,
          45.77538379,
          45.77313511,
          45.77300062,
          45.77262681,
          45.77235953
         ],
         "legendgroup": "0",
         "line": {
          "color": "#636efa"
         },
         "lon": [
          4.9018736,
          4.90235123,
          4.90222472,
          4.90233396,
          4.90222758,
          4.90009044,
          4.89963144,
          4.89727445,
          4.89623988,
          4.89490005,
          4.89443705,
          4.88919894,
          4.88903188,
          4.88763605,
          4.88746636,
          4.88713484,
          4.88147176,
          4.87563352,
          4.87314863,
          4.87193124,
          4.8717423,
          4.87185116,
          4.87127865,
          4.8713263,
          4.87047868,
          4.86372586,
          4.86247355,
          4.86205502,
          4.86213036,
          4.86182956,
          4.86088389,
          4.86074981,
          4.8608437,
          4.86073623,
          4.86046712,
          4.86016368,
          4.85971132,
          4.85957926,
          4.8598308,
          4.8594929,
          4.85890745,
          4.85658764,
          4.85214409,
          4.8519238,
          4.8500785,
          4.84879875,
          4.84803252,
          4.8470395,
          4.84713628,
          4.84695074,
          4.8473392,
          4.84684628,
          4.84233656,
          4.84178371,
          4.83984519,
          4.83939888,
          4.83659684,
          4.83378039,
          4.8323103,
          4.83247936,
          4.8347571,
          4.83615276,
          4.83680242,
          4.83673153,
          4.8392702,
          4.84034937,
          4.84071326,
          4.84101029,
          4.84060895,
          4.84070084,
          4.84097065,
          4.84129795,
          4.84116446,
          4.84089927,
          4.83769463,
          4.81101152,
          4.80980058,
          4.80531654,
          4.80547276,
          4.80518945,
          4.8051796,
          4.80489851
         ],
         "mode": "lines",
         "name": "0",
         "showlegend": false,
         "subplot": "mapbox",
         "type": "scattermapbox"
        },
        {
         "hoverlabel": {
          "namelength": 0
         },
         "hovertemplate": "type=0<br>route_num=16<br>lat=%{lat}<br>lon=%{lon}",
         "lat": [
          45.703596,
          45.70329908,
          45.70277467,
          45.7013434,
          45.7012589,
          45.70187195,
          45.70303643,
          45.70242188,
          45.70254835,
          45.70329653,
          45.70361584
         ],
         "legendgroup": "0",
         "line": {
          "color": "#636efa"
         },
         "lon": [
          4.9019326,
          4.90216882,
          4.90179017,
          4.90001699,
          4.89972874,
          4.89837425,
          4.8994141,
          4.90096146,
          4.90136321,
          4.9022933,
          4.90150773
         ],
         "mode": "lines",
         "name": "0",
         "showlegend": false,
         "subplot": "mapbox",
         "type": "scattermapbox"
        },
        {
         "hoverlabel": {
          "namelength": 0
         },
         "hovertemplate": "type=0<br>route_num=17<br>lat=%{lat}<br>lon=%{lon}",
         "lat": [
          45.7036821,
          45.70317349,
          45.70130229,
          45.70125185,
          45.70229693,
          45.70238967,
          45.7033041,
          45.7033652,
          45.70541339,
          45.70628154,
          45.70680412,
          45.7074624,
          45.70834633,
          45.71184959,
          45.71418744,
          45.71582957,
          45.72113765,
          45.72439613,
          45.72662786,
          45.72697078,
          45.72753186,
          45.72751784,
          45.727659,
          45.7288778,
          45.72935711,
          45.73061793,
          45.73090927,
          45.73110673,
          45.73137716,
          45.73340923,
          45.73363824,
          45.7354393,
          45.73856733,
          45.73927436,
          45.739308,
          45.73988184,
          45.74206976,
          45.7429274,
          45.74346036,
          45.74451838,
          45.744863,
          45.74514833,
          45.74513441,
          45.74584657,
          45.74556191,
          45.74556279,
          45.74591711,
          45.74629795,
          45.7482029,
          45.75215239,
          45.75262215,
          45.7558533,
          45.758556,
          45.76004695,
          45.76273416,
          45.76413412,
          45.76696658,
          45.7695831,
          45.77245376,
          45.77334932,
          45.77242988,
          45.77296547,
          45.7729687,
          45.772569,
          45.77463448,
          45.77479443,
          45.77500053,
          45.77532216,
          45.77308573,
          45.77297008,
          45.77262612,
          45.77267344,
          45.77263141,
          45.77264171
         ],
         "legendgroup": "0",
         "line": {
          "color": "#636efa"
         },
         "lon": [
          4.9016776,
          4.9022712,
          4.90001367,
          4.89959439,
          4.8971325,
          4.89630571,
          4.89498275,
          4.89446286,
          4.88936111,
          4.88897633,
          4.88781777,
          4.8876459,
          4.88712128,
          4.88149805,
          4.87982997,
          4.87829973,
          4.87437136,
          4.87174899,
          4.86417409,
          4.8624242,
          4.86208801,
          4.86174799,
          4.86161931,
          4.8609162,
          4.86040804,
          4.85968905,
          4.85973988,
          4.85947459,
          4.85946709,
          4.85831997,
          4.85799099,
          4.85659959,
          4.85225937,
          4.85186976,
          4.85019588,
          4.84905832,
          4.84791368,
          4.84704285,
          4.84719062,
          4.84449115,
          4.84282923,
          4.84216978,
          4.8417651,
          4.83976616,
          4.83805382,
          4.83586165,
          4.83354332,
          4.83222402,
          4.83330559,
          4.83672265,
          4.8366791,
          4.83908656,
          4.84037351,
          4.8406955,
          4.84086441,
          4.84111444,
          4.84095561,
          4.84059527,
          4.84068923,
          4.84130071,
          4.84108639,
          4.83711148,
          4.83657149,
          4.8373702,
          4.8137512,
          4.81366986,
          4.80709682,
          4.80535126,
          4.80551776,
          4.8052061,
          4.80511446,
          4.80498729,
          4.80528385,
          4.80509988
         ],
         "mode": "lines",
         "name": "0",
         "showlegend": false,
         "subplot": "mapbox",
         "type": "scattermapbox"
        },
        {
         "hoverlabel": {
          "namelength": 0
         },
         "hovertemplate": "type=0<br>route_num=18<br>lat=%{lat}<br>lon=%{lon}",
         "lat": [
          45.7766215,
          45.77649715,
          45.77654575,
          45.77712755,
          45.7779598,
          45.77860489,
          45.78066913,
          45.78157849,
          45.78195207,
          45.78270408,
          45.78255969,
          45.78157954,
          45.77918603,
          45.77908166,
          45.77808343,
          45.7778711,
          45.77768817,
          45.77676257,
          45.77300169,
          45.77224616,
          45.76980103,
          45.769718,
          45.76962563,
          45.7692336,
          45.769718,
          45.76911047,
          45.76570159,
          45.76492422,
          45.7653684,
          45.7648438,
          45.76459957,
          45.76314306,
          45.75987287,
          45.75735426,
          45.75555344,
          45.75265265,
          45.75193566,
          45.74955845,
          45.74668968,
          45.74658305,
          45.7464815,
          45.74648077,
          45.74627735,
          45.74589066,
          45.74557572,
          45.74558514,
          45.7457081,
          45.74556989,
          45.74579632,
          45.7449925,
          45.74450528,
          45.74354326,
          45.74335848,
          45.74300477,
          45.74184448,
          45.73992588,
          45.73933558,
          45.73931675,
          45.73870549,
          45.73712088,
          45.73538007,
          45.73331323,
          45.73121576,
          45.73040823,
          45.730812,
          45.72984267,
          45.72955065,
          45.7301024,
          45.72934758,
          45.72679279,
          45.72674194,
          45.72458015,
          45.7251901,
          45.72454583,
          45.72438822,
          45.72101369,
          45.71772701,
          45.71422299,
          45.71405168,
          45.71163941,
          45.70814011,
          45.70743701,
          45.70694006,
          45.70692328,
          45.70659758,
          45.70614392,
          45.70542817,
          45.70303735,
          45.70231519,
          45.70218661,
          45.70119523,
          45.70313603,
          45.70333793,
          45.70345525,
          45.7033872,
          45.70362277,
          45.7034676
         ],
         "legendgroup": "0",
         "line": {
          "color": "#636efa"
         },
         "lon": [
          4.8317635,
          4.83191416,
          4.83234463,
          4.83219943,
          4.83231563,
          4.83213277,
          4.83238273,
          4.83266681,
          4.83552338,
          4.83711774,
          4.83802181,
          4.83913322,
          4.84106004,
          4.84099634,
          4.84385556,
          4.84430465,
          4.8443424,
          4.84385012,
          4.84100874,
          4.84070585,
          4.84061518,
          4.8409538,
          4.84060127,
          4.84061578,
          4.8409538,
          4.84065289,
          4.84103551,
          4.84098266,
          4.8416329,
          4.84098193,
          4.84088619,
          4.84095448,
          4.84067712,
          4.83993811,
          4.83891879,
          4.83674783,
          4.83667707,
          4.83444022,
          4.83236192,
          4.83231847,
          4.8328173,
          4.83230507,
          4.83228823,
          4.83365993,
          4.83594209,
          4.8375666,
          4.8376668,
          4.83810977,
          4.84011829,
          4.84246323,
          4.84456203,
          4.84702092,
          4.84718623,
          4.84708113,
          4.84802411,
          4.84903373,
          4.85017158,
          4.85180206,
          4.85209848,
          4.85449391,
          4.85673219,
          4.85839932,
          4.85958411,
          4.85988081,
          4.8598502,
          4.86020501,
          4.86039453,
          4.8603016,
          4.86052435,
          4.86245304,
          4.86304644,
          4.87059258,
          4.8698948,
          4.87071856,
          4.87125565,
          4.87377279,
          4.87651698,
          4.8790809,
          4.87937198,
          4.88126042,
          4.88678598,
          4.88724917,
          4.88737366,
          4.88778048,
          4.88791955,
          4.88895371,
          4.88912313,
          4.89513368,
          4.89629504,
          4.89725235,
          4.89993985,
          4.90232775,
          4.90219125,
          4.90156917,
          4.9018847,
          4.90151016,
          4.9014543
         ],
         "mode": "lines",
         "name": "0",
         "showlegend": false,
         "subplot": "mapbox",
         "type": "scattermapbox"
        },
        {
         "hoverlabel": {
          "namelength": 0
         },
         "hovertemplate": "type=0<br>route_num=19<br>lat=%{lat}<br>lon=%{lon}",
         "lat": [
          45.7036734,
          45.70334378,
          45.70299144,
          45.70133816,
          45.70126564,
          45.70220047,
          45.70235697,
          45.70328432,
          45.70332358,
          45.7054206,
          45.70626774,
          45.70680864,
          45.7082367,
          45.71167394,
          45.72430341,
          45.72602297,
          45.7257278,
          45.72688184,
          45.7275409,
          45.7269722,
          45.73066931,
          45.7302088,
          45.73069546,
          45.73094443,
          45.7311226,
          45.73145484,
          45.73380295,
          45.73550674,
          45.73871375,
          45.7383714,
          45.73927649,
          45.73933007,
          45.73982947,
          45.74044832,
          45.74198991,
          45.742957,
          45.74346403,
          45.74431552,
          45.7442148,
          45.74578535,
          45.7455744,
          45.74558892,
          45.74580769,
          45.7460327,
          45.7459502,
          45.74629173,
          45.74829947,
          45.75064108,
          45.7491348,
          45.75199447,
          45.75252752,
          45.75571886,
          45.75848538,
          45.76009401,
          45.76423918,
          45.76933648,
          45.77211214,
          45.77259413,
          45.7733431,
          45.7728785,
          45.77326364,
          45.77242357,
          45.77260101,
          45.77279336,
          45.77297562,
          45.77298476,
          45.772541,
          45.77467436,
          45.77496691,
          45.77529121,
          45.77336774,
          45.77308389,
          45.77288481,
          45.77277897,
          45.77264642,
          45.7725885
         ],
         "legendgroup": "0",
         "line": {
          "color": "#636efa"
         },
         "lon": [
          4.9018233,
          4.90221899,
          4.90216422,
          4.90003884,
          4.89965564,
          4.89717647,
          4.8963047,
          4.8949009,
          4.89446082,
          4.88921909,
          4.88896361,
          4.887752,
          4.88710146,
          4.88153054,
          4.87166148,
          4.86588168,
          4.8675635,
          4.86245584,
          4.86189096,
          4.8622245,
          4.85985377,
          4.8600123,
          4.85964512,
          4.8597004,
          4.85946889,
          4.85943908,
          4.85808093,
          4.85660007,
          4.85212003,
          4.852572,
          4.85181166,
          4.85016415,
          4.84910013,
          4.8486217,
          4.84789002,
          4.84704181,
          4.84702241,
          4.84452511,
          4.845331,
          4.83989301,
          4.83806216,
          4.83610274,
          4.83403371,
          4.83305969,
          4.8340162,
          4.83224052,
          4.83347466,
          4.83550806,
          4.8339696,
          4.83670285,
          4.83666578,
          4.8390693,
          4.84038345,
          4.84075053,
          4.84103518,
          4.84060452,
          4.84070325,
          4.84082622,
          4.84132993,
          4.8419744,
          4.84139475,
          4.84096553,
          4.83869384,
          4.83843032,
          4.83664892,
          4.8362666,
          4.8375155,
          4.81390831,
          4.80790747,
          4.80531277,
          4.80551225,
          4.80547852,
          4.80512928,
          4.80522488,
          4.80501539,
          4.8051197
         ],
         "mode": "lines",
         "name": "0",
         "showlegend": false,
         "subplot": "mapbox",
         "type": "scattermapbox"
        },
        {
         "hoverlabel": {
          "namelength": 0
         },
         "hovertemplate": "type=0<br>route_num=20<br>lat=%{lat}<br>lon=%{lon}",
         "lat": [
          45.77270971,
          45.77287897,
          45.7731949,
          45.77361925,
          45.77398758,
          45.77439113,
          45.77462267,
          45.77500081,
          45.77508999,
          45.77481104,
          45.7744837,
          45.77445858,
          45.77474709,
          45.77476027,
          45.77466941,
          45.77286332,
          45.77247749,
          45.77246348,
          45.77306818,
          45.7724022,
          45.77336552,
          45.7727578,
          45.77139729,
          45.7674082,
          45.76534323,
          45.76495784,
          45.76400746,
          45.76248139,
          45.76205102,
          45.76027547,
          45.75980513,
          45.75937917,
          45.75613846,
          45.7527148,
          45.75199735,
          45.74999113,
          45.7487459,
          45.7491863,
          45.74852601,
          45.74661357,
          45.74627408,
          45.7466811,
          45.74627887,
          45.74618897,
          45.74577428,
          45.74564773,
          45.74558965,
          45.7457174,
          45.74557886,
          45.74574404,
          45.74568506,
          45.7458706,
          45.7457103,
          45.74582182,
          45.7458706,
          45.7458618,
          45.7453483,
          45.74517257,
          45.7452981,
          45.74517071,
          45.74432144,
          45.7435358,
          45.74305877,
          45.74192909,
          45.74065578,
          45.73989218,
          45.73946219,
          45.7393028,
          45.7392559,
          45.7395837,
          45.73855561,
          45.7355335,
          45.73390216,
          45.73141815,
          45.72943512,
          45.72900089,
          45.730042,
          45.72885572,
          45.72689813,
          45.72601613,
          45.7280464,
          45.72596069,
          45.72534215,
          45.7257061,
          45.72518587,
          45.724409,
          45.72096588,
          45.7219047,
          45.72087211,
          45.71157132,
          45.70873441,
          45.7101275,
          45.70843191,
          45.70805784,
          45.70695237,
          45.70693729,
          45.70659738,
          45.7061762,
          45.70545022,
          45.70442811,
          45.7049327,
          45.70431157,
          45.70312444,
          45.70228334,
          45.70215887,
          45.70115552,
          45.7031075,
          45.70323287,
          45.70342057
         ],
         "legendgroup": "0",
         "line": {
          "color": "#636efa"
         },
         "lon": [
          4.80513757,
          4.80546527,
          4.80554978,
          4.80694727,
          4.80677884,
          4.80709419,
          4.80678454,
          4.807268,
          4.80774539,
          4.80872772,
          4.81155229,
          4.81237345,
          4.81238869,
          4.81204775,
          4.81450441,
          4.83760168,
          4.84019021,
          4.84102304,
          4.8412155,
          4.841332,
          4.84132239,
          4.84094365,
          4.8406631,
          4.84079295,
          4.84117554,
          4.84098388,
          4.840892,
          4.84103937,
          4.84084919,
          4.84077892,
          4.84055501,
          4.84073449,
          4.83939949,
          4.83683433,
          4.83674826,
          4.83486702,
          4.83391648,
          4.8349392,
          4.83372041,
          4.83238945,
          4.83230067,
          4.8330228,
          4.8323063,
          4.83250483,
          4.83409506,
          4.83549295,
          4.83714571,
          4.8375146,
          4.8375728,
          4.83843895,
          4.83901806,
          4.8388916,
          4.83921392,
          4.83960997,
          4.8388916,
          4.84002572,
          4.84158594,
          4.84173186,
          4.8417607,
          4.84171698,
          4.8451167,
          4.84709003,
          4.84709064,
          4.84805907,
          4.84858986,
          4.84909838,
          4.84978974,
          4.8505453,
          4.85185307,
          4.851723,
          4.85227239,
          4.8566327,
          4.85795465,
          4.8594692,
          4.8604482,
          4.86073378,
          4.8604135,
          4.86084356,
          4.86235646,
          4.86552545,
          4.8632653,
          4.86570869,
          4.86787197,
          4.8679953,
          4.86826251,
          4.87123274,
          4.87384026,
          4.8735403,
          4.87397592,
          4.8812935,
          4.88590611,
          4.8845324,
          4.88629072,
          4.88689395,
          4.88733904,
          4.88782969,
          4.88793741,
          4.88890435,
          4.88910578,
          4.89154801,
          4.8910168,
          4.89182154,
          4.89475146,
          4.89632359,
          4.89728988,
          4.89993452,
          4.90227549,
          4.90232126,
          4.90195002
         ],
         "mode": "lines",
         "name": "0",
         "showlegend": false,
         "subplot": "mapbox",
         "type": "scattermapbox"
        },
        {
         "hoverlabel": {
          "namelength": 0
         },
         "hovertemplate": "type=0<br>route_num=21<br>lat=%{lat}<br>lon=%{lon}",
         "lat": [
          45.7036467,
          45.70366704,
          45.70381891,
          45.70451195,
          45.70465315,
          45.70701924,
          45.70721064,
          45.7112169,
          45.71573457,
          45.71693134,
          45.71756822,
          45.71829871,
          45.7188643,
          45.72136212,
          45.72244986,
          45.72300765,
          45.72455248,
          45.72608718,
          45.72630328,
          45.72621697,
          45.72731173,
          45.7271036,
          45.72902519,
          45.72952873,
          45.73342675,
          45.7362947,
          45.7371118,
          45.73740454,
          45.74252729,
          45.742106,
          45.74342893,
          45.7442619,
          45.74451472,
          45.7451406,
          45.7455918,
          45.74840413,
          45.74907209,
          45.74902966,
          45.74977699,
          45.7502874,
          45.75109648,
          45.75109665,
          45.75167141,
          45.75226604,
          45.7527181,
          45.75293628,
          45.75401381,
          45.75468985,
          45.75593377,
          45.75870413,
          45.75906001,
          45.75986489,
          45.76004833,
          45.76019035,
          45.76041685,
          45.7605886,
          45.76063343,
          45.76115959,
          45.76260247,
          45.7627973,
          45.76299889,
          45.76401029,
          45.76545446,
          45.76555282,
          45.76633048,
          45.76654768,
          45.76710219,
          45.76732163,
          45.76738967,
          45.76791314,
          45.76788389,
          45.76730289,
          45.7671207,
          45.76681083,
          45.76704149,
          45.76744078,
          45.76761187,
          45.76756993,
          45.76733258,
          45.76687062,
          45.76675716
         ],
         "legendgroup": "0",
         "line": {
          "color": "#636efa"
         },
         "lon": [
          4.9017074,
          4.90156464,
          4.90162927,
          4.90255732,
          4.90253624,
          4.89848377,
          4.89839184,
          4.9021981,
          4.89465425,
          4.89328191,
          4.89293694,
          4.89280786,
          4.89290658,
          4.89411035,
          4.89494427,
          4.89461993,
          4.89137402,
          4.88717872,
          4.88706359,
          4.88665378,
          4.88445902,
          4.885247,
          4.88020181,
          4.87924198,
          4.87390544,
          4.87404676,
          4.87380682,
          4.87411682,
          4.87415004,
          4.8742208,
          4.87427159,
          4.8745771,
          4.87422689,
          4.87214139,
          4.87128339,
          4.86274192,
          4.86139434,
          4.86113292,
          4.85929311,
          4.85713763,
          4.85563924,
          4.85522248,
          4.85374639,
          4.85371426,
          4.85349209,
          4.85358521,
          4.85299866,
          4.8532451,
          4.85285754,
          4.85243479,
          4.85256757,
          4.85237398,
          4.85246624,
          4.85232677,
          4.8524968,
          4.8519395,
          4.85219361,
          4.85198214,
          4.85187194,
          4.8522248,
          4.85170736,
          4.85121318,
          4.85133912,
          4.8508821,
          4.85086943,
          4.85060836,
          4.85050925,
          4.85066753,
          4.85096052,
          4.85645972,
          4.85553344,
          4.85592374,
          4.85572915,
          4.85335977,
          4.8530371,
          4.85305743,
          4.85264884,
          4.85299692,
          4.85328348,
          4.85318076,
          4.85254037
         ],
         "mode": "lines",
         "name": "0",
         "showlegend": false,
         "subplot": "mapbox",
         "type": "scattermapbox"
        },
        {
         "hoverlabel": {
          "namelength": 0
         },
         "hovertemplate": "type=0<br>route_num=22<br>lat=%{lat}<br>lon=%{lon}",
         "lat": [
          45.76674909,
          45.76641058,
          45.76547505,
          45.76535887,
          45.76510436,
          45.76213694,
          45.76197841,
          45.76056323,
          45.7606386,
          45.76015401,
          45.75908607,
          45.75757403,
          45.75597642,
          45.75534513,
          45.75477903,
          45.75383372,
          45.75338634,
          45.75283202,
          45.75250831,
          45.75246817,
          45.75191778,
          45.75113274,
          45.75121213,
          45.7507431,
          45.75077462,
          45.74946291,
          45.74896854,
          45.7492046,
          45.74873356,
          45.7484376,
          45.74794673,
          45.74723101,
          45.74547131,
          45.74378883,
          45.74220799,
          45.73922497,
          45.73706265,
          45.73600481,
          45.73472866,
          45.72496855,
          45.72099211,
          45.72077309,
          45.71942899,
          45.71783315,
          45.71635461,
          45.71157042,
          45.70807474,
          45.70687935,
          45.70690237,
          45.70657371,
          45.70610544,
          45.70546559,
          45.70534504,
          45.70469609,
          45.70305891,
          45.70225634,
          45.70205522,
          45.7011726,
          45.70115162,
          45.70144035,
          45.70315893,
          45.70337087,
          45.70328753,
          45.70363301,
          45.7034986
         ],
         "legendgroup": "0",
         "line": {
          "color": "#636efa"
         },
         "lon": [
          4.8523579,
          4.84957643,
          4.84975572,
          4.84826316,
          4.84795807,
          4.84890784,
          4.84875967,
          4.84891114,
          4.849024,
          4.84898773,
          4.84930129,
          4.84942898,
          4.84992093,
          4.84982272,
          4.85020446,
          4.85004864,
          4.85031487,
          4.85034749,
          4.8511751,
          4.85180118,
          4.85275605,
          4.85488541,
          4.85524815,
          4.85618157,
          4.85673989,
          4.8595858,
          4.86130626,
          4.8609279,
          4.86191035,
          4.86304789,
          4.86389719,
          4.86650513,
          4.87119629,
          4.87042414,
          4.8694624,
          4.86658738,
          4.86518475,
          4.86418382,
          4.86337353,
          4.87073612,
          4.87383091,
          4.8741529,
          4.8749922,
          4.87643043,
          4.87739971,
          4.88126844,
          4.88677862,
          4.8873572,
          4.88778898,
          4.88788503,
          4.88894011,
          4.88898805,
          4.88913411,
          4.89111573,
          4.89506572,
          4.89627635,
          4.89748843,
          4.89990764,
          4.90007681,
          4.90023719,
          4.90228495,
          4.90215969,
          4.90182888,
          4.90152283,
          4.9014309
         ],
         "mode": "lines",
         "name": "0",
         "showlegend": false,
         "subplot": "mapbox",
         "type": "scattermapbox"
        },
        {
         "hoverlabel": {
          "namelength": 0
         },
         "hovertemplate": "type=0<br>route_num=23<br>lat=%{lat}<br>lon=%{lon}",
         "lat": [
          45.70353546,
          45.70317878,
          45.70134109,
          45.70121899,
          45.70220383,
          45.70235041,
          45.70325373,
          45.70330842,
          45.70544021,
          45.706146,
          45.7067333,
          45.70824703,
          45.71182745,
          45.72419515,
          45.72479028,
          45.72684066,
          45.72688953,
          45.72736476,
          45.72760059,
          45.72775507,
          45.72912016,
          45.73107531,
          45.73102568,
          45.73168592,
          45.73146342,
          45.73159946,
          45.73376331,
          45.73563997,
          45.73876573,
          45.73925382,
          45.73933237,
          45.73991686,
          45.74197822,
          45.74301557,
          45.74344426,
          45.74519806,
          45.7451846,
          45.74578375,
          45.74562708,
          45.74555937,
          45.74582703,
          45.7462597,
          45.74658871,
          45.74802317,
          45.74989637,
          45.75214426,
          45.75263957,
          45.75561685,
          45.7583442,
          45.75954405,
          45.76157593,
          45.76321898,
          45.76359592,
          45.76406998,
          45.76976601,
          45.77240521,
          45.77332491,
          45.77243415,
          45.77260828,
          45.77277682,
          45.77301904,
          45.7724653,
          45.77487259,
          45.77479663,
          45.77497682,
          45.77532715,
          45.7731161,
          45.77298479,
          45.77276992,
          45.77268853,
          45.77281412,
          45.77306615
         ],
         "legendgroup": "0",
         "line": {
          "color": "#636efa"
         },
         "lon": [
          4.90213013,
          4.90227877,
          4.90005925,
          4.89969102,
          4.8970342,
          4.89625962,
          4.89489092,
          4.89436051,
          4.88913884,
          4.88899345,
          4.8878125,
          4.88710522,
          4.88134801,
          4.87180737,
          4.87030569,
          4.86301711,
          4.86243276,
          4.86205712,
          4.86204161,
          4.86174812,
          4.86071524,
          4.85944217,
          4.85982746,
          4.86009894,
          4.85961618,
          4.85940091,
          4.85802606,
          4.85642542,
          4.85208982,
          4.85182869,
          4.850109,
          4.84898327,
          4.84790493,
          4.84703431,
          4.84705574,
          4.84225508,
          4.84172769,
          4.83992716,
          4.83907173,
          4.83624146,
          4.83387102,
          4.83223559,
          4.83230559,
          4.83324672,
          4.83472209,
          4.83685116,
          4.83671131,
          4.83899341,
          4.84028494,
          4.8405962,
          4.8406689,
          4.84095769,
          4.84083812,
          4.84103473,
          4.84057392,
          4.84070249,
          4.84132517,
          4.84104422,
          4.83864303,
          4.8384763,
          4.83655399,
          4.8374167,
          4.81180653,
          4.81069516,
          4.80781734,
          4.80533695,
          4.80537562,
          4.80504114,
          4.80517784,
          4.80500272,
          4.80551129,
          4.80536402
         ],
         "mode": "lines",
         "name": "0",
         "showlegend": false,
         "subplot": "mapbox",
         "type": "scattermapbox"
        },
        {
         "hoverlabel": {
          "namelength": 0
         },
         "hovertemplate": "type=0<br>route_num=24<br>lat=%{lat}<br>lon=%{lon}",
         "lat": [
          45.7726105,
          45.77309998,
          45.77286713,
          45.77285807,
          45.77319948,
          45.77376626,
          45.77400314,
          45.77431794,
          45.77449561,
          45.775009,
          45.77500443,
          45.77465852,
          45.77492836,
          45.77283085,
          45.77260923,
          45.77245551,
          45.77252993,
          45.77334128,
          45.77292247,
          45.77207909,
          45.77062383,
          45.7711481,
          45.77049423,
          45.76902908,
          45.76737887,
          45.76551656,
          45.76271817,
          45.76051764,
          45.75997596,
          45.7581647,
          45.75558756,
          45.75256855,
          45.75188032,
          45.75155653,
          45.74946047,
          45.74749003,
          45.74662626,
          45.74626348,
          45.74581779,
          45.74555982,
          45.74561844,
          45.74580453,
          45.74344902,
          45.74299226,
          45.74161774,
          45.73997674,
          45.73932038,
          45.73924181,
          45.73865016,
          45.735606,
          45.73361521,
          45.73145258,
          45.73171475,
          45.73171595,
          45.7331854,
          45.73383684,
          45.7341092,
          45.73270998,
          45.73262745,
          45.73115262,
          45.72092231,
          45.72071324,
          45.71600677,
          45.71126441,
          45.70805398,
          45.7068679,
          45.70686487,
          45.70661368,
          45.70619553,
          45.70537844,
          45.70297504,
          45.70229063,
          45.70216522,
          45.70114399,
          45.70144082,
          45.70306027,
          45.70331782,
          45.70342432,
          45.70325695,
          45.70349189,
          45.70326061,
          45.70362794,
          45.70364634,
          45.7034696
         ],
         "legendgroup": "0",
         "line": {
          "color": "#636efa"
         },
         "lon": [
          4.8051323,
          4.80533253,
          4.80527331,
          4.80538296,
          4.80554295,
          4.80688803,
          4.80673737,
          4.80690097,
          4.80679777,
          4.80724822,
          4.80852586,
          4.8109415,
          4.81115356,
          4.83838335,
          4.83873393,
          4.84083539,
          4.84106305,
          4.84139507,
          4.84095284,
          4.84066471,
          4.84065411,
          4.8411311,
          4.84064028,
          4.84079167,
          4.84074315,
          4.84105086,
          4.84099913,
          4.84070645,
          4.8407655,
          4.84024445,
          4.83891453,
          4.83669898,
          4.83670214,
          4.8361859,
          4.83435395,
          4.83287605,
          4.83231761,
          4.83226145,
          4.83379656,
          4.83653837,
          4.8391111,
          4.83980701,
          4.84705804,
          4.84709285,
          4.84813312,
          4.84894248,
          4.85006695,
          4.85185562,
          4.85207839,
          4.8564286,
          4.85815034,
          4.85959163,
          4.8600434,
          4.86037051,
          4.86214581,
          4.86270681,
          4.86362837,
          4.86464906,
          4.86486517,
          4.86609747,
          4.87381296,
          4.87412787,
          4.87768543,
          4.8816097,
          4.8868099,
          4.88734039,
          4.88776929,
          4.8878454,
          4.88880399,
          4.88908374,
          4.89513141,
          4.89624188,
          4.89718557,
          4.90003168,
          4.90021053,
          4.90228671,
          4.90224385,
          4.90197134,
          4.90185755,
          4.90155271,
          4.90186656,
          4.90168772,
          4.90151519,
          4.901454
         ],
         "mode": "lines",
         "name": "0",
         "showlegend": false,
         "subplot": "mapbox",
         "type": "scattermapbox"
        },
        {
         "hoverlabel": {
          "namelength": 0
         },
         "hovertemplate": "type=0<br>route_num=25<br>lat=%{lat}<br>lon=%{lon}",
         "lat": [
          45.70382895,
          45.70466235,
          45.70682975,
          45.70718969,
          45.71040954,
          45.71090113,
          45.7113068,
          45.7156765,
          45.71671882,
          45.7176022,
          45.71814035,
          45.71889223,
          45.72143522,
          45.72244129,
          45.72264416,
          45.72305987,
          45.72431774,
          45.72622231,
          45.72737272,
          45.72886432,
          45.72945474,
          45.73336305,
          45.73495763,
          45.73711651,
          45.73976723,
          45.74136316,
          45.74445316,
          45.74501396,
          45.7450513,
          45.74523042,
          45.7498302,
          45.75263575,
          45.75410929,
          45.75507935,
          45.75592591,
          45.75588869,
          45.75607605,
          45.75763011,
          45.75827122,
          45.75855913,
          45.75857988,
          45.75927064,
          45.75950211,
          45.75982474,
          45.76187172,
          45.76344511,
          45.76380601,
          45.7641468,
          45.76735801,
          45.76820547,
          45.77187128,
          45.77197178
         ],
         "legendgroup": "0",
         "line": {
          "color": "#636efa"
         },
         "lon": [
          4.90172581,
          4.90250152,
          4.89881294,
          4.89847804,
          4.90121855,
          4.90193585,
          4.90208338,
          4.89473361,
          4.8934511,
          4.89290401,
          4.89278951,
          4.89288181,
          4.89411747,
          4.89490556,
          4.89488332,
          4.89444117,
          4.89184883,
          4.88673643,
          4.88447006,
          4.88044196,
          4.87923159,
          4.87391822,
          4.87399382,
          4.8738528,
          4.87413004,
          4.87403535,
          4.87432505,
          4.87459451,
          4.8747748,
          4.87468267,
          4.8756531,
          4.87679123,
          4.87694993,
          4.877232,
          4.87680342,
          4.87617892,
          4.87633089,
          4.87654687,
          4.87654384,
          4.87633341,
          4.87650734,
          4.87695131,
          4.87605105,
          4.87560131,
          4.87399496,
          4.87386976,
          4.87421977,
          4.87403322,
          4.87386604,
          4.87365332,
          4.87367976,
          4.87345995
         ],
         "mode": "lines",
         "name": "0",
         "showlegend": false,
         "subplot": "mapbox",
         "type": "scattermapbox"
        },
        {
         "hoverlabel": {
          "namelength": 0
         },
         "hovertemplate": "type=1<br>route_num=0<br>lat=%{lat}<br>lon=%{lon}",
         "lat": [
          45.725,
          45.725500000000004,
          45.725500000000004,
          45.725
         ],
         "legendgroup": "1",
         "line": {
          "color": "#EF553B"
         },
         "lon": [
          4.87,
          4.87,
          4.8705,
          4.8705
         ],
         "mode": "lines",
         "name": "1",
         "showlegend": true,
         "subplot": "mapbox",
         "type": "scattermapbox"
        },
        {
         "hoverlabel": {
          "namelength": 0
         },
         "hovertemplate": "type=1<br>route_num=-1<br>lat=%{lat}<br>lon=%{lon}",
         "lat": [
          45.7245,
          45.725,
          45.725,
          45.7245
         ],
         "legendgroup": "1",
         "line": {
          "color": "#EF553B"
         },
         "lon": [
          4.87,
          4.87,
          4.8705,
          4.8705
         ],
         "mode": "lines",
         "name": "1",
         "showlegend": false,
         "subplot": "mapbox",
         "type": "scattermapbox"
        },
        {
         "hoverlabel": {
          "namelength": 0
         },
         "hovertemplate": "type=1<br>route_num=-2<br>lat=%{lat}<br>lon=%{lon}",
         "lat": [
          45.725,
          45.725500000000004,
          45.725500000000004,
          45.725
         ],
         "legendgroup": "1",
         "line": {
          "color": "#EF553B"
         },
         "lon": [
          4.8705,
          4.8705,
          4.8709999999999996,
          4.8709999999999996
         ],
         "mode": "lines",
         "name": "1",
         "showlegend": false,
         "subplot": "mapbox",
         "type": "scattermapbox"
        },
        {
         "hoverlabel": {
          "namelength": 0
         },
         "hovertemplate": "type=1<br>route_num=-3<br>lat=%{lat}<br>lon=%{lon}",
         "lat": [
          45.7245,
          45.725,
          45.725,
          45.7245
         ],
         "legendgroup": "1",
         "line": {
          "color": "#EF553B"
         },
         "lon": [
          4.8705,
          4.8705,
          4.8709999999999996,
          4.8709999999999996
         ],
         "mode": "lines",
         "name": "1",
         "showlegend": false,
         "subplot": "mapbox",
         "type": "scattermapbox"
        },
        {
         "hoverlabel": {
          "namelength": 0
         },
         "hovertemplate": "type=1<br>route_num=-4<br>lat=%{lat}<br>lon=%{lon}",
         "lat": [
          45.7245,
          45.725,
          45.725,
          45.7245
         ],
         "legendgroup": "1",
         "line": {
          "color": "#EF553B"
         },
         "lon": [
          4.871,
          4.871,
          4.8715,
          4.8715
         ],
         "mode": "lines",
         "name": "1",
         "showlegend": false,
         "subplot": "mapbox",
         "type": "scattermapbox"
        },
        {
         "hoverlabel": {
          "namelength": 0
         },
         "hovertemplate": "type=1<br>route_num=-5<br>lat=%{lat}<br>lon=%{lon}",
         "lat": [
          45.724000000000004,
          45.724500000000006,
          45.724500000000006,
          45.724000000000004
         ],
         "legendgroup": "1",
         "line": {
          "color": "#EF553B"
         },
         "lon": [
          4.871,
          4.871,
          4.8715,
          4.8715
         ],
         "mode": "lines",
         "name": "1",
         "showlegend": false,
         "subplot": "mapbox",
         "type": "scattermapbox"
        },
        {
         "hoverlabel": {
          "namelength": 0
         },
         "hovertemplate": "type=1<br>route_num=-6<br>lat=%{lat}<br>lon=%{lon}",
         "lat": [
          45.724000000000004,
          45.724500000000006,
          45.724500000000006,
          45.724000000000004
         ],
         "legendgroup": "1",
         "line": {
          "color": "#EF553B"
         },
         "lon": [
          4.8715,
          4.8715,
          4.872,
          4.872
         ],
         "mode": "lines",
         "name": "1",
         "showlegend": false,
         "subplot": "mapbox",
         "type": "scattermapbox"
        },
        {
         "hoverlabel": {
          "namelength": 0
         },
         "hovertemplate": "type=1<br>route_num=-7<br>lat=%{lat}<br>lon=%{lon}",
         "lat": [
          45.7235,
          45.724000000000004,
          45.724000000000004,
          45.7235
         ],
         "legendgroup": "1",
         "line": {
          "color": "#EF553B"
         },
         "lon": [
          4.8715,
          4.8715,
          4.872,
          4.872
         ],
         "mode": "lines",
         "name": "1",
         "showlegend": false,
         "subplot": "mapbox",
         "type": "scattermapbox"
        },
        {
         "hoverlabel": {
          "namelength": 0
         },
         "hovertemplate": "type=1<br>route_num=-8<br>lat=%{lat}<br>lon=%{lon}",
         "lat": [
          45.7235,
          45.724000000000004,
          45.724000000000004,
          45.7235
         ],
         "legendgroup": "1",
         "line": {
          "color": "#EF553B"
         },
         "lon": [
          4.872,
          4.872,
          4.8725,
          4.8725
         ],
         "mode": "lines",
         "name": "1",
         "showlegend": false,
         "subplot": "mapbox",
         "type": "scattermapbox"
        },
        {
         "hoverlabel": {
          "namelength": 0
         },
         "hovertemplate": "type=1<br>route_num=-9<br>lat=%{lat}<br>lon=%{lon}",
         "lat": [
          45.723,
          45.7235,
          45.7235,
          45.723
         ],
         "legendgroup": "1",
         "line": {
          "color": "#EF553B"
         },
         "lon": [
          4.8715,
          4.8715,
          4.872,
          4.872
         ],
         "mode": "lines",
         "name": "1",
         "showlegend": false,
         "subplot": "mapbox",
         "type": "scattermapbox"
        },
        {
         "hoverlabel": {
          "namelength": 0
         },
         "hovertemplate": "type=1<br>route_num=-10<br>lat=%{lat}<br>lon=%{lon}",
         "lat": [
          45.723,
          45.7235,
          45.7235,
          45.723
         ],
         "legendgroup": "1",
         "line": {
          "color": "#EF553B"
         },
         "lon": [
          4.872,
          4.872,
          4.8725,
          4.8725
         ],
         "mode": "lines",
         "name": "1",
         "showlegend": false,
         "subplot": "mapbox",
         "type": "scattermapbox"
        },
        {
         "hoverlabel": {
          "namelength": 0
         },
         "hovertemplate": "type=1<br>route_num=-11<br>lat=%{lat}<br>lon=%{lon}",
         "lat": [
          45.722500000000004,
          45.723000000000006,
          45.723000000000006,
          45.722500000000004
         ],
         "legendgroup": "1",
         "line": {
          "color": "#EF553B"
         },
         "lon": [
          4.872,
          4.872,
          4.8725,
          4.8725
         ],
         "mode": "lines",
         "name": "1",
         "showlegend": false,
         "subplot": "mapbox",
         "type": "scattermapbox"
        },
        {
         "hoverlabel": {
          "namelength": 0
         },
         "hovertemplate": "type=1<br>route_num=-12<br>lat=%{lat}<br>lon=%{lon}",
         "lat": [
          45.722500000000004,
          45.723000000000006,
          45.723000000000006,
          45.722500000000004
         ],
         "legendgroup": "1",
         "line": {
          "color": "#EF553B"
         },
         "lon": [
          4.8725000000000005,
          4.8725000000000005,
          4.873,
          4.873
         ],
         "mode": "lines",
         "name": "1",
         "showlegend": false,
         "subplot": "mapbox",
         "type": "scattermapbox"
        },
        {
         "hoverlabel": {
          "namelength": 0
         },
         "hovertemplate": "type=1<br>route_num=-13<br>lat=%{lat}<br>lon=%{lon}",
         "lat": [
          45.722,
          45.722500000000004,
          45.722500000000004,
          45.722
         ],
         "legendgroup": "1",
         "line": {
          "color": "#EF553B"
         },
         "lon": [
          4.8725000000000005,
          4.8725000000000005,
          4.873,
          4.873
         ],
         "mode": "lines",
         "name": "1",
         "showlegend": false,
         "subplot": "mapbox",
         "type": "scattermapbox"
        },
        {
         "hoverlabel": {
          "namelength": 0
         },
         "hovertemplate": "type=1<br>route_num=-14<br>lat=%{lat}<br>lon=%{lon}",
         "lat": [
          45.722,
          45.722500000000004,
          45.722500000000004,
          45.722
         ],
         "legendgroup": "1",
         "line": {
          "color": "#EF553B"
         },
         "lon": [
          4.873,
          4.873,
          4.8735,
          4.8735
         ],
         "mode": "lines",
         "name": "1",
         "showlegend": false,
         "subplot": "mapbox",
         "type": "scattermapbox"
        },
        {
         "hoverlabel": {
          "namelength": 0
         },
         "hovertemplate": "type=1<br>route_num=-15<br>lat=%{lat}<br>lon=%{lon}",
         "lat": [
          45.7215,
          45.722,
          45.722,
          45.7215
         ],
         "legendgroup": "1",
         "line": {
          "color": "#EF553B"
         },
         "lon": [
          4.873,
          4.873,
          4.8735,
          4.8735
         ],
         "mode": "lines",
         "name": "1",
         "showlegend": false,
         "subplot": "mapbox",
         "type": "scattermapbox"
        },
        {
         "hoverlabel": {
          "namelength": 0
         },
         "hovertemplate": "type=1<br>route_num=-16<br>lat=%{lat}<br>lon=%{lon}",
         "lat": [
          45.7215,
          45.722,
          45.722,
          45.7215
         ],
         "legendgroup": "1",
         "line": {
          "color": "#EF553B"
         },
         "lon": [
          4.8735,
          4.8735,
          4.874,
          4.874
         ],
         "mode": "lines",
         "name": "1",
         "showlegend": false,
         "subplot": "mapbox",
         "type": "scattermapbox"
        },
        {
         "hoverlabel": {
          "namelength": 0
         },
         "hovertemplate": "type=1<br>route_num=-17<br>lat=%{lat}<br>lon=%{lon}",
         "lat": [
          45.721000000000004,
          45.721500000000006,
          45.721500000000006,
          45.721000000000004
         ],
         "legendgroup": "1",
         "line": {
          "color": "#EF553B"
         },
         "lon": [
          4.8735,
          4.8735,
          4.874,
          4.874
         ],
         "mode": "lines",
         "name": "1",
         "showlegend": false,
         "subplot": "mapbox",
         "type": "scattermapbox"
        },
        {
         "hoverlabel": {
          "namelength": 0
         },
         "hovertemplate": "type=1<br>route_num=-18<br>lat=%{lat}<br>lon=%{lon}",
         "lat": [
          45.721000000000004,
          45.721500000000006,
          45.721500000000006,
          45.721000000000004
         ],
         "legendgroup": "1",
         "line": {
          "color": "#EF553B"
         },
         "lon": [
          4.8740000000000006,
          4.8740000000000006,
          4.8745,
          4.8745
         ],
         "mode": "lines",
         "name": "1",
         "showlegend": false,
         "subplot": "mapbox",
         "type": "scattermapbox"
        },
        {
         "hoverlabel": {
          "namelength": 0
         },
         "hovertemplate": "type=1<br>route_num=-19<br>lat=%{lat}<br>lon=%{lon}",
         "lat": [
          45.7205,
          45.721000000000004,
          45.721000000000004,
          45.7205
         ],
         "legendgroup": "1",
         "line": {
          "color": "#EF553B"
         },
         "lon": [
          4.8735,
          4.8735,
          4.874,
          4.874
         ],
         "mode": "lines",
         "name": "1",
         "showlegend": false,
         "subplot": "mapbox",
         "type": "scattermapbox"
        },
        {
         "hoverlabel": {
          "namelength": 0
         },
         "hovertemplate": "type=1<br>route_num=-20<br>lat=%{lat}<br>lon=%{lon}",
         "lat": [
          45.7205,
          45.721000000000004,
          45.721000000000004,
          45.7205
         ],
         "legendgroup": "1",
         "line": {
          "color": "#EF553B"
         },
         "lon": [
          4.8740000000000006,
          4.8740000000000006,
          4.8745,
          4.8745
         ],
         "mode": "lines",
         "name": "1",
         "showlegend": false,
         "subplot": "mapbox",
         "type": "scattermapbox"
        },
        {
         "hoverlabel": {
          "namelength": 0
         },
         "hovertemplate": "type=1<br>route_num=-21<br>lat=%{lat}<br>lon=%{lon}",
         "lat": [
          45.72,
          45.7205,
          45.7205,
          45.72
         ],
         "legendgroup": "1",
         "line": {
          "color": "#EF553B"
         },
         "lon": [
          4.8740000000000006,
          4.8740000000000006,
          4.8745,
          4.8745
         ],
         "mode": "lines",
         "name": "1",
         "showlegend": false,
         "subplot": "mapbox",
         "type": "scattermapbox"
        },
        {
         "hoverlabel": {
          "namelength": 0
         },
         "hovertemplate": "type=1<br>route_num=-22<br>lat=%{lat}<br>lon=%{lon}",
         "lat": [
          45.72,
          45.7205,
          45.7205,
          45.72
         ],
         "legendgroup": "1",
         "line": {
          "color": "#EF553B"
         },
         "lon": [
          4.8745,
          4.8745,
          4.875,
          4.875
         ],
         "mode": "lines",
         "name": "1",
         "showlegend": false,
         "subplot": "mapbox",
         "type": "scattermapbox"
        },
        {
         "hoverlabel": {
          "namelength": 0
         },
         "hovertemplate": "type=1<br>route_num=-23<br>lat=%{lat}<br>lon=%{lon}",
         "lat": [
          45.719500000000004,
          45.720000000000006,
          45.720000000000006,
          45.719500000000004
         ],
         "legendgroup": "1",
         "line": {
          "color": "#EF553B"
         },
         "lon": [
          4.8745,
          4.8745,
          4.875,
          4.875
         ],
         "mode": "lines",
         "name": "1",
         "showlegend": false,
         "subplot": "mapbox",
         "type": "scattermapbox"
        },
        {
         "hoverlabel": {
          "namelength": 0
         },
         "hovertemplate": "type=1<br>route_num=-24<br>lat=%{lat}<br>lon=%{lon}",
         "lat": [
          45.719500000000004,
          45.720000000000006,
          45.720000000000006,
          45.719500000000004
         ],
         "legendgroup": "1",
         "line": {
          "color": "#EF553B"
         },
         "lon": [
          4.875,
          4.875,
          4.8755,
          4.8755
         ],
         "mode": "lines",
         "name": "1",
         "showlegend": false,
         "subplot": "mapbox",
         "type": "scattermapbox"
        },
        {
         "hoverlabel": {
          "namelength": 0
         },
         "hovertemplate": "type=1<br>route_num=-25<br>lat=%{lat}<br>lon=%{lon}",
         "lat": [
          45.719,
          45.719500000000004,
          45.719500000000004,
          45.719
         ],
         "legendgroup": "1",
         "line": {
          "color": "#EF553B"
         },
         "lon": [
          4.875,
          4.875,
          4.8755,
          4.8755
         ],
         "mode": "lines",
         "name": "1",
         "showlegend": false,
         "subplot": "mapbox",
         "type": "scattermapbox"
        },
        {
         "hoverlabel": {
          "namelength": 0
         },
         "hovertemplate": "type=1<br>route_num=-26<br>lat=%{lat}<br>lon=%{lon}",
         "lat": [
          45.719,
          45.719500000000004,
          45.719500000000004,
          45.719
         ],
         "legendgroup": "1",
         "line": {
          "color": "#EF553B"
         },
         "lon": [
          4.875500000000001,
          4.875500000000001,
          4.876,
          4.876
         ],
         "mode": "lines",
         "name": "1",
         "showlegend": false,
         "subplot": "mapbox",
         "type": "scattermapbox"
        },
        {
         "hoverlabel": {
          "namelength": 0
         },
         "hovertemplate": "type=1<br>route_num=-27<br>lat=%{lat}<br>lon=%{lon}",
         "lat": [
          45.7185,
          45.719,
          45.719,
          45.7185
         ],
         "legendgroup": "1",
         "line": {
          "color": "#EF553B"
         },
         "lon": [
          4.875,
          4.875,
          4.8755,
          4.8755
         ],
         "mode": "lines",
         "name": "1",
         "showlegend": false,
         "subplot": "mapbox",
         "type": "scattermapbox"
        },
        {
         "hoverlabel": {
          "namelength": 0
         },
         "hovertemplate": "type=1<br>route_num=-28<br>lat=%{lat}<br>lon=%{lon}",
         "lat": [
          45.7185,
          45.719,
          45.719,
          45.7185
         ],
         "legendgroup": "1",
         "line": {
          "color": "#EF553B"
         },
         "lon": [
          4.875500000000001,
          4.875500000000001,
          4.876,
          4.876
         ],
         "mode": "lines",
         "name": "1",
         "showlegend": false,
         "subplot": "mapbox",
         "type": "scattermapbox"
        },
        {
         "hoverlabel": {
          "namelength": 0
         },
         "hovertemplate": "type=1<br>route_num=-29<br>lat=%{lat}<br>lon=%{lon}",
         "lat": [
          45.718,
          45.718500000000006,
          45.718500000000006,
          45.718
         ],
         "legendgroup": "1",
         "line": {
          "color": "#EF553B"
         },
         "lon": [
          4.875500000000001,
          4.875500000000001,
          4.876,
          4.876
         ],
         "mode": "lines",
         "name": "1",
         "showlegend": false,
         "subplot": "mapbox",
         "type": "scattermapbox"
        },
        {
         "hoverlabel": {
          "namelength": 0
         },
         "hovertemplate": "type=1<br>route_num=-30<br>lat=%{lat}<br>lon=%{lon}",
         "lat": [
          45.718,
          45.718500000000006,
          45.718500000000006,
          45.718
         ],
         "legendgroup": "1",
         "line": {
          "color": "#EF553B"
         },
         "lon": [
          4.876,
          4.876,
          4.8765,
          4.8765
         ],
         "mode": "lines",
         "name": "1",
         "showlegend": false,
         "subplot": "mapbox",
         "type": "scattermapbox"
        },
        {
         "hoverlabel": {
          "namelength": 0
         },
         "hovertemplate": "type=1<br>route_num=-31<br>lat=%{lat}<br>lon=%{lon}",
         "lat": [
          45.7175,
          45.718,
          45.718,
          45.7175
         ],
         "legendgroup": "1",
         "line": {
          "color": "#EF553B"
         },
         "lon": [
          4.876,
          4.876,
          4.8765,
          4.8765
         ],
         "mode": "lines",
         "name": "1",
         "showlegend": false,
         "subplot": "mapbox",
         "type": "scattermapbox"
        },
        {
         "hoverlabel": {
          "namelength": 0
         },
         "hovertemplate": "type=1<br>route_num=-32<br>lat=%{lat}<br>lon=%{lon}",
         "lat": [
          45.7175,
          45.718,
          45.718,
          45.7175
         ],
         "legendgroup": "1",
         "line": {
          "color": "#EF553B"
         },
         "lon": [
          4.8765,
          4.8765,
          4.877,
          4.877
         ],
         "mode": "lines",
         "name": "1",
         "showlegend": false,
         "subplot": "mapbox",
         "type": "scattermapbox"
        },
        {
         "hoverlabel": {
          "namelength": 0
         },
         "hovertemplate": "type=1<br>route_num=-33<br>lat=%{lat}<br>lon=%{lon}",
         "lat": [
          45.717,
          45.7175,
          45.7175,
          45.717
         ],
         "legendgroup": "1",
         "line": {
          "color": "#EF553B"
         },
         "lon": [
          4.8765,
          4.8765,
          4.877,
          4.877
         ],
         "mode": "lines",
         "name": "1",
         "showlegend": false,
         "subplot": "mapbox",
         "type": "scattermapbox"
        },
        {
         "hoverlabel": {
          "namelength": 0
         },
         "hovertemplate": "type=1<br>route_num=-34<br>lat=%{lat}<br>lon=%{lon}",
         "lat": [
          45.717,
          45.7175,
          45.7175,
          45.717
         ],
         "legendgroup": "1",
         "line": {
          "color": "#EF553B"
         },
         "lon": [
          4.877000000000001,
          4.877000000000001,
          4.8775,
          4.8775
         ],
         "mode": "lines",
         "name": "1",
         "showlegend": false,
         "subplot": "mapbox",
         "type": "scattermapbox"
        },
        {
         "hoverlabel": {
          "namelength": 0
         },
         "hovertemplate": "type=1<br>route_num=-35<br>lat=%{lat}<br>lon=%{lon}",
         "lat": [
          45.7165,
          45.717000000000006,
          45.717000000000006,
          45.7165
         ],
         "legendgroup": "1",
         "line": {
          "color": "#EF553B"
         },
         "lon": [
          4.8765,
          4.8765,
          4.877,
          4.877
         ],
         "mode": "lines",
         "name": "1",
         "showlegend": false,
         "subplot": "mapbox",
         "type": "scattermapbox"
        },
        {
         "hoverlabel": {
          "namelength": 0
         },
         "hovertemplate": "type=1<br>route_num=-36<br>lat=%{lat}<br>lon=%{lon}",
         "lat": [
          45.7165,
          45.717000000000006,
          45.717000000000006,
          45.7165
         ],
         "legendgroup": "1",
         "line": {
          "color": "#EF553B"
         },
         "lon": [
          4.877000000000001,
          4.877000000000001,
          4.8775,
          4.8775
         ],
         "mode": "lines",
         "name": "1",
         "showlegend": false,
         "subplot": "mapbox",
         "type": "scattermapbox"
        },
        {
         "hoverlabel": {
          "namelength": 0
         },
         "hovertemplate": "type=1<br>route_num=-37<br>lat=%{lat}<br>lon=%{lon}",
         "lat": [
          45.716,
          45.7165,
          45.7165,
          45.716
         ],
         "legendgroup": "1",
         "line": {
          "color": "#EF553B"
         },
         "lon": [
          4.877000000000001,
          4.877000000000001,
          4.8775,
          4.8775
         ],
         "mode": "lines",
         "name": "1",
         "showlegend": false,
         "subplot": "mapbox",
         "type": "scattermapbox"
        },
        {
         "hoverlabel": {
          "namelength": 0
         },
         "hovertemplate": "type=1<br>route_num=-38<br>lat=%{lat}<br>lon=%{lon}",
         "lat": [
          45.716,
          45.7165,
          45.7165,
          45.716
         ],
         "legendgroup": "1",
         "line": {
          "color": "#EF553B"
         },
         "lon": [
          4.8775,
          4.8775,
          4.878,
          4.878
         ],
         "mode": "lines",
         "name": "1",
         "showlegend": false,
         "subplot": "mapbox",
         "type": "scattermapbox"
        },
        {
         "hoverlabel": {
          "namelength": 0
         },
         "hovertemplate": "type=1<br>route_num=-39<br>lat=%{lat}<br>lon=%{lon}",
         "lat": [
          45.7155,
          45.716,
          45.716,
          45.7155
         ],
         "legendgroup": "1",
         "line": {
          "color": "#EF553B"
         },
         "lon": [
          4.8775,
          4.8775,
          4.878,
          4.878
         ],
         "mode": "lines",
         "name": "1",
         "showlegend": false,
         "subplot": "mapbox",
         "type": "scattermapbox"
        },
        {
         "hoverlabel": {
          "namelength": 0
         },
         "hovertemplate": "type=1<br>route_num=-40<br>lat=%{lat}<br>lon=%{lon}",
         "lat": [
          45.7155,
          45.716,
          45.716,
          45.7155
         ],
         "legendgroup": "1",
         "line": {
          "color": "#EF553B"
         },
         "lon": [
          4.878,
          4.878,
          4.8785,
          4.8785
         ],
         "mode": "lines",
         "name": "1",
         "showlegend": false,
         "subplot": "mapbox",
         "type": "scattermapbox"
        },
        {
         "hoverlabel": {
          "namelength": 0
         },
         "hovertemplate": "type=1<br>route_num=-41<br>lat=%{lat}<br>lon=%{lon}",
         "lat": [
          45.715,
          45.715500000000006,
          45.715500000000006,
          45.715
         ],
         "legendgroup": "1",
         "line": {
          "color": "#EF553B"
         },
         "lon": [
          4.878,
          4.878,
          4.8785,
          4.8785
         ],
         "mode": "lines",
         "name": "1",
         "showlegend": false,
         "subplot": "mapbox",
         "type": "scattermapbox"
        },
        {
         "hoverlabel": {
          "namelength": 0
         },
         "hovertemplate": "type=1<br>route_num=-42<br>lat=%{lat}<br>lon=%{lon}",
         "lat": [
          45.715,
          45.715500000000006,
          45.715500000000006,
          45.715
         ],
         "legendgroup": "1",
         "line": {
          "color": "#EF553B"
         },
         "lon": [
          4.8785,
          4.8785,
          4.879,
          4.879
         ],
         "mode": "lines",
         "name": "1",
         "showlegend": false,
         "subplot": "mapbox",
         "type": "scattermapbox"
        },
        {
         "hoverlabel": {
          "namelength": 0
         },
         "hovertemplate": "type=1<br>route_num=-43<br>lat=%{lat}<br>lon=%{lon}",
         "lat": [
          45.7145,
          45.715,
          45.715,
          45.7145
         ],
         "legendgroup": "1",
         "line": {
          "color": "#EF553B"
         },
         "lon": [
          4.8785,
          4.8785,
          4.879,
          4.879
         ],
         "mode": "lines",
         "name": "1",
         "showlegend": false,
         "subplot": "mapbox",
         "type": "scattermapbox"
        },
        {
         "hoverlabel": {
          "namelength": 0
         },
         "hovertemplate": "type=1<br>route_num=-44<br>lat=%{lat}<br>lon=%{lon}",
         "lat": [
          45.7145,
          45.715,
          45.715,
          45.7145
         ],
         "legendgroup": "1",
         "line": {
          "color": "#EF553B"
         },
         "lon": [
          4.8790000000000004,
          4.8790000000000004,
          4.8795,
          4.8795
         ],
         "mode": "lines",
         "name": "1",
         "showlegend": false,
         "subplot": "mapbox",
         "type": "scattermapbox"
        },
        {
         "hoverlabel": {
          "namelength": 0
         },
         "hovertemplate": "type=1<br>route_num=-45<br>lat=%{lat}<br>lon=%{lon}",
         "lat": [
          45.714000000000006,
          45.71450000000001,
          45.71450000000001,
          45.714000000000006
         ],
         "legendgroup": "1",
         "line": {
          "color": "#EF553B"
         },
         "lon": [
          4.8785,
          4.8785,
          4.879,
          4.879
         ],
         "mode": "lines",
         "name": "1",
         "showlegend": false,
         "subplot": "mapbox",
         "type": "scattermapbox"
        },
        {
         "hoverlabel": {
          "namelength": 0
         },
         "hovertemplate": "type=1<br>route_num=-46<br>lat=%{lat}<br>lon=%{lon}",
         "lat": [
          45.714000000000006,
          45.71450000000001,
          45.71450000000001,
          45.714000000000006
         ],
         "legendgroup": "1",
         "line": {
          "color": "#EF553B"
         },
         "lon": [
          4.8790000000000004,
          4.8790000000000004,
          4.8795,
          4.8795
         ],
         "mode": "lines",
         "name": "1",
         "showlegend": false,
         "subplot": "mapbox",
         "type": "scattermapbox"
        },
        {
         "hoverlabel": {
          "namelength": 0
         },
         "hovertemplate": "type=1<br>route_num=-47<br>lat=%{lat}<br>lon=%{lon}",
         "lat": [
          45.714000000000006,
          45.71450000000001,
          45.71450000000001,
          45.714000000000006
         ],
         "legendgroup": "1",
         "line": {
          "color": "#EF553B"
         },
         "lon": [
          4.8795,
          4.8795,
          4.88,
          4.88
         ],
         "mode": "lines",
         "name": "1",
         "showlegend": false,
         "subplot": "mapbox",
         "type": "scattermapbox"
        },
        {
         "hoverlabel": {
          "namelength": 0
         },
         "hovertemplate": "type=1<br>route_num=-48<br>lat=%{lat}<br>lon=%{lon}",
         "lat": [
          45.7135,
          45.714000000000006,
          45.714000000000006,
          45.7135
         ],
         "legendgroup": "1",
         "line": {
          "color": "#EF553B"
         },
         "lon": [
          4.8790000000000004,
          4.8790000000000004,
          4.8795,
          4.8795
         ],
         "mode": "lines",
         "name": "1",
         "showlegend": false,
         "subplot": "mapbox",
         "type": "scattermapbox"
        },
        {
         "hoverlabel": {
          "namelength": 0
         },
         "hovertemplate": "type=1<br>route_num=-49<br>lat=%{lat}<br>lon=%{lon}",
         "lat": [
          45.7135,
          45.714000000000006,
          45.714000000000006,
          45.7135
         ],
         "legendgroup": "1",
         "line": {
          "color": "#EF553B"
         },
         "lon": [
          4.8795,
          4.8795,
          4.88,
          4.88
         ],
         "mode": "lines",
         "name": "1",
         "showlegend": false,
         "subplot": "mapbox",
         "type": "scattermapbox"
        },
        {
         "hoverlabel": {
          "namelength": 0
         },
         "hovertemplate": "type=1<br>route_num=-50<br>lat=%{lat}<br>lon=%{lon}",
         "lat": [
          45.713,
          45.7135,
          45.7135,
          45.713
         ],
         "legendgroup": "1",
         "line": {
          "color": "#EF553B"
         },
         "lon": [
          4.8795,
          4.8795,
          4.88,
          4.88
         ],
         "mode": "lines",
         "name": "1",
         "showlegend": false,
         "subplot": "mapbox",
         "type": "scattermapbox"
        },
        {
         "hoverlabel": {
          "namelength": 0
         },
         "hovertemplate": "type=1<br>route_num=-51<br>lat=%{lat}<br>lon=%{lon}",
         "lat": [
          45.713,
          45.7135,
          45.7135,
          45.713
         ],
         "legendgroup": "1",
         "line": {
          "color": "#EF553B"
         },
         "lon": [
          4.88,
          4.88,
          4.8805,
          4.8805
         ],
         "mode": "lines",
         "name": "1",
         "showlegend": false,
         "subplot": "mapbox",
         "type": "scattermapbox"
        },
        {
         "hoverlabel": {
          "namelength": 0
         },
         "hovertemplate": "type=1<br>route_num=-52<br>lat=%{lat}<br>lon=%{lon}",
         "lat": [
          45.712500000000006,
          45.71300000000001,
          45.71300000000001,
          45.712500000000006
         ],
         "legendgroup": "1",
         "line": {
          "color": "#EF553B"
         },
         "lon": [
          4.88,
          4.88,
          4.8805,
          4.8805
         ],
         "mode": "lines",
         "name": "1",
         "showlegend": false,
         "subplot": "mapbox",
         "type": "scattermapbox"
        },
        {
         "hoverlabel": {
          "namelength": 0
         },
         "hovertemplate": "type=1<br>route_num=-53<br>lat=%{lat}<br>lon=%{lon}",
         "lat": [
          45.712500000000006,
          45.71300000000001,
          45.71300000000001,
          45.712500000000006
         ],
         "legendgroup": "1",
         "line": {
          "color": "#EF553B"
         },
         "lon": [
          4.8805000000000005,
          4.8805000000000005,
          4.881,
          4.881
         ],
         "mode": "lines",
         "name": "1",
         "showlegend": false,
         "subplot": "mapbox",
         "type": "scattermapbox"
        },
        {
         "hoverlabel": {
          "namelength": 0
         },
         "hovertemplate": "type=1<br>route_num=-54<br>lat=%{lat}<br>lon=%{lon}",
         "lat": [
          45.712,
          45.712500000000006,
          45.712500000000006,
          45.712
         ],
         "legendgroup": "1",
         "line": {
          "color": "#EF553B"
         },
         "lon": [
          4.8805000000000005,
          4.8805000000000005,
          4.881,
          4.881
         ],
         "mode": "lines",
         "name": "1",
         "showlegend": false,
         "subplot": "mapbox",
         "type": "scattermapbox"
        },
        {
         "hoverlabel": {
          "namelength": 0
         },
         "hovertemplate": "type=1<br>route_num=-55<br>lat=%{lat}<br>lon=%{lon}",
         "lat": [
          45.712,
          45.712500000000006,
          45.712500000000006,
          45.712
         ],
         "legendgroup": "1",
         "line": {
          "color": "#EF553B"
         },
         "lon": [
          4.881,
          4.881,
          4.8815,
          4.8815
         ],
         "mode": "lines",
         "name": "1",
         "showlegend": false,
         "subplot": "mapbox",
         "type": "scattermapbox"
        },
        {
         "hoverlabel": {
          "namelength": 0
         },
         "hovertemplate": "type=1<br>route_num=-56<br>lat=%{lat}<br>lon=%{lon}",
         "lat": [
          45.7115,
          45.712,
          45.712,
          45.7115
         ],
         "legendgroup": "1",
         "line": {
          "color": "#EF553B"
         },
         "lon": [
          4.8805000000000005,
          4.8805000000000005,
          4.881,
          4.881
         ],
         "mode": "lines",
         "name": "1",
         "showlegend": false,
         "subplot": "mapbox",
         "type": "scattermapbox"
        },
        {
         "hoverlabel": {
          "namelength": 0
         },
         "hovertemplate": "type=1<br>route_num=-57<br>lat=%{lat}<br>lon=%{lon}",
         "lat": [
          45.7115,
          45.712,
          45.712,
          45.7115
         ],
         "legendgroup": "1",
         "line": {
          "color": "#EF553B"
         },
         "lon": [
          4.881,
          4.881,
          4.8815,
          4.8815
         ],
         "mode": "lines",
         "name": "1",
         "showlegend": false,
         "subplot": "mapbox",
         "type": "scattermapbox"
        },
        {
         "hoverlabel": {
          "namelength": 0
         },
         "hovertemplate": "type=1<br>route_num=-58<br>lat=%{lat}<br>lon=%{lon}",
         "lat": [
          45.711000000000006,
          45.71150000000001,
          45.71150000000001,
          45.711000000000006
         ],
         "legendgroup": "1",
         "line": {
          "color": "#EF553B"
         },
         "lon": [
          4.881,
          4.881,
          4.8815,
          4.8815
         ],
         "mode": "lines",
         "name": "1",
         "showlegend": false,
         "subplot": "mapbox",
         "type": "scattermapbox"
        },
        {
         "hoverlabel": {
          "namelength": 0
         },
         "hovertemplate": "type=1<br>route_num=-59<br>lat=%{lat}<br>lon=%{lon}",
         "lat": [
          45.711000000000006,
          45.71150000000001,
          45.71150000000001,
          45.711000000000006
         ],
         "legendgroup": "1",
         "line": {
          "color": "#EF553B"
         },
         "lon": [
          4.8815,
          4.8815,
          4.882,
          4.882
         ],
         "mode": "lines",
         "name": "1",
         "showlegend": false,
         "subplot": "mapbox",
         "type": "scattermapbox"
        },
        {
         "hoverlabel": {
          "namelength": 0
         },
         "hovertemplate": "type=1<br>route_num=-60<br>lat=%{lat}<br>lon=%{lon}",
         "lat": [
          45.7115,
          45.712,
          45.712,
          45.7115
         ],
         "legendgroup": "1",
         "line": {
          "color": "#EF553B"
         },
         "lon": [
          4.8815,
          4.8815,
          4.882,
          4.882
         ],
         "mode": "lines",
         "name": "1",
         "showlegend": false,
         "subplot": "mapbox",
         "type": "scattermapbox"
        },
        {
         "hoverlabel": {
          "namelength": 0
         },
         "hovertemplate": "type=1<br>route_num=-61<br>lat=%{lat}<br>lon=%{lon}",
         "lat": [
          45.711000000000006,
          45.71150000000001,
          45.71150000000001,
          45.711000000000006
         ],
         "legendgroup": "1",
         "line": {
          "color": "#EF553B"
         },
         "lon": [
          4.882000000000001,
          4.882000000000001,
          4.8825,
          4.8825
         ],
         "mode": "lines",
         "name": "1",
         "showlegend": false,
         "subplot": "mapbox",
         "type": "scattermapbox"
        },
        {
         "hoverlabel": {
          "namelength": 0
         },
         "hovertemplate": "type=1<br>route_num=-62<br>lat=%{lat}<br>lon=%{lon}",
         "lat": [
          45.7105,
          45.711000000000006,
          45.711000000000006,
          45.7105
         ],
         "legendgroup": "1",
         "line": {
          "color": "#EF553B"
         },
         "lon": [
          4.882000000000001,
          4.882000000000001,
          4.8825,
          4.8825
         ],
         "mode": "lines",
         "name": "1",
         "showlegend": false,
         "subplot": "mapbox",
         "type": "scattermapbox"
        },
        {
         "hoverlabel": {
          "namelength": 0
         },
         "hovertemplate": "type=1<br>route_num=-63<br>lat=%{lat}<br>lon=%{lon}",
         "lat": [
          45.7105,
          45.711000000000006,
          45.711000000000006,
          45.7105
         ],
         "legendgroup": "1",
         "line": {
          "color": "#EF553B"
         },
         "lon": [
          4.8825,
          4.8825,
          4.883,
          4.883
         ],
         "mode": "lines",
         "name": "1",
         "showlegend": false,
         "subplot": "mapbox",
         "type": "scattermapbox"
        },
        {
         "hoverlabel": {
          "namelength": 0
         },
         "hovertemplate": "type=1<br>route_num=-64<br>lat=%{lat}<br>lon=%{lon}",
         "lat": [
          45.7105,
          45.711000000000006,
          45.711000000000006,
          45.7105
         ],
         "legendgroup": "1",
         "line": {
          "color": "#EF553B"
         },
         "lon": [
          4.883,
          4.883,
          4.8835,
          4.8835
         ],
         "mode": "lines",
         "name": "1",
         "showlegend": false,
         "subplot": "mapbox",
         "type": "scattermapbox"
        },
        {
         "hoverlabel": {
          "namelength": 0
         },
         "hovertemplate": "type=1<br>route_num=-65<br>lat=%{lat}<br>lon=%{lon}",
         "lat": [
          45.71,
          45.7105,
          45.7105,
          45.71
         ],
         "legendgroup": "1",
         "line": {
          "color": "#EF553B"
         },
         "lon": [
          4.883,
          4.883,
          4.8835,
          4.8835
         ],
         "mode": "lines",
         "name": "1",
         "showlegend": false,
         "subplot": "mapbox",
         "type": "scattermapbox"
        },
        {
         "hoverlabel": {
          "namelength": 0
         },
         "hovertemplate": "type=1<br>route_num=-66<br>lat=%{lat}<br>lon=%{lon}",
         "lat": [
          45.71,
          45.7105,
          45.7105,
          45.71
         ],
         "legendgroup": "1",
         "line": {
          "color": "#EF553B"
         },
         "lon": [
          4.883500000000001,
          4.883500000000001,
          4.884,
          4.884
         ],
         "mode": "lines",
         "name": "1",
         "showlegend": false,
         "subplot": "mapbox",
         "type": "scattermapbox"
        },
        {
         "hoverlabel": {
          "namelength": 0
         },
         "hovertemplate": "type=1<br>route_num=-67<br>lat=%{lat}<br>lon=%{lon}",
         "lat": [
          45.709500000000006,
          45.71000000000001,
          45.71000000000001,
          45.709500000000006
         ],
         "legendgroup": "1",
         "line": {
          "color": "#EF553B"
         },
         "lon": [
          4.883500000000001,
          4.883500000000001,
          4.884,
          4.884
         ],
         "mode": "lines",
         "name": "1",
         "showlegend": false,
         "subplot": "mapbox",
         "type": "scattermapbox"
        },
        {
         "hoverlabel": {
          "namelength": 0
         },
         "hovertemplate": "type=1<br>route_num=-68<br>lat=%{lat}<br>lon=%{lon}",
         "lat": [
          45.709500000000006,
          45.71000000000001,
          45.71000000000001,
          45.709500000000006
         ],
         "legendgroup": "1",
         "line": {
          "color": "#EF553B"
         },
         "lon": [
          4.884,
          4.884,
          4.8845,
          4.8845
         ],
         "mode": "lines",
         "name": "1",
         "showlegend": false,
         "subplot": "mapbox",
         "type": "scattermapbox"
        },
        {
         "hoverlabel": {
          "namelength": 0
         },
         "hovertemplate": "type=1<br>route_num=-69<br>lat=%{lat}<br>lon=%{lon}",
         "lat": [
          45.709500000000006,
          45.71000000000001,
          45.71000000000001,
          45.709500000000006
         ],
         "legendgroup": "1",
         "line": {
          "color": "#EF553B"
         },
         "lon": [
          4.8845,
          4.8845,
          4.885,
          4.885
         ],
         "mode": "lines",
         "name": "1",
         "showlegend": false,
         "subplot": "mapbox",
         "type": "scattermapbox"
        },
        {
         "hoverlabel": {
          "namelength": 0
         },
         "hovertemplate": "type=1<br>route_num=-70<br>lat=%{lat}<br>lon=%{lon}",
         "lat": [
          45.709,
          45.709500000000006,
          45.709500000000006,
          45.709
         ],
         "legendgroup": "1",
         "line": {
          "color": "#EF553B"
         },
         "lon": [
          4.8845,
          4.8845,
          4.885,
          4.885
         ],
         "mode": "lines",
         "name": "1",
         "showlegend": false,
         "subplot": "mapbox",
         "type": "scattermapbox"
        },
        {
         "hoverlabel": {
          "namelength": 0
         },
         "hovertemplate": "type=1<br>route_num=-71<br>lat=%{lat}<br>lon=%{lon}",
         "lat": [
          45.709,
          45.709500000000006,
          45.709500000000006,
          45.709
         ],
         "legendgroup": "1",
         "line": {
          "color": "#EF553B"
         },
         "lon": [
          4.885000000000001,
          4.885000000000001,
          4.8855,
          4.8855
         ],
         "mode": "lines",
         "name": "1",
         "showlegend": false,
         "subplot": "mapbox",
         "type": "scattermapbox"
        },
        {
         "hoverlabel": {
          "namelength": 0
         },
         "hovertemplate": "type=1<br>route_num=-72<br>lat=%{lat}<br>lon=%{lon}",
         "lat": [
          45.7085,
          45.709,
          45.709,
          45.7085
         ],
         "legendgroup": "1",
         "line": {
          "color": "#EF553B"
         },
         "lon": [
          4.885000000000001,
          4.885000000000001,
          4.8855,
          4.8855
         ],
         "mode": "lines",
         "name": "1",
         "showlegend": false,
         "subplot": "mapbox",
         "type": "scattermapbox"
        },
        {
         "hoverlabel": {
          "namelength": 0
         },
         "hovertemplate": "type=1<br>route_num=-73<br>lat=%{lat}<br>lon=%{lon}",
         "lat": [
          45.7085,
          45.709,
          45.709,
          45.7085
         ],
         "legendgroup": "1",
         "line": {
          "color": "#EF553B"
         },
         "lon": [
          4.8855,
          4.8855,
          4.886,
          4.886
         ],
         "mode": "lines",
         "name": "1",
         "showlegend": false,
         "subplot": "mapbox",
         "type": "scattermapbox"
        },
        {
         "hoverlabel": {
          "namelength": 0
         },
         "hovertemplate": "type=1<br>route_num=-74<br>lat=%{lat}<br>lon=%{lon}",
         "lat": [
          45.709,
          45.709500000000006,
          45.709500000000006,
          45.709
         ],
         "legendgroup": "1",
         "line": {
          "color": "#EF553B"
         },
         "lon": [
          4.8855,
          4.8855,
          4.886,
          4.886
         ],
         "mode": "lines",
         "name": "1",
         "showlegend": false,
         "subplot": "mapbox",
         "type": "scattermapbox"
        },
        {
         "hoverlabel": {
          "namelength": 0
         },
         "hovertemplate": "type=1<br>route_num=-75<br>lat=%{lat}<br>lon=%{lon}",
         "lat": [
          45.7085,
          45.709,
          45.709,
          45.7085
         ],
         "legendgroup": "1",
         "line": {
          "color": "#EF553B"
         },
         "lon": [
          4.886,
          4.886,
          4.8865,
          4.8865
         ],
         "mode": "lines",
         "name": "1",
         "showlegend": false,
         "subplot": "mapbox",
         "type": "scattermapbox"
        },
        {
         "hoverlabel": {
          "namelength": 0
         },
         "hovertemplate": "type=1<br>route_num=-76<br>lat=%{lat}<br>lon=%{lon}",
         "lat": [
          45.708000000000006,
          45.70850000000001,
          45.70850000000001,
          45.708000000000006
         ],
         "legendgroup": "1",
         "line": {
          "color": "#EF553B"
         },
         "lon": [
          4.886,
          4.886,
          4.8865,
          4.8865
         ],
         "mode": "lines",
         "name": "1",
         "showlegend": false,
         "subplot": "mapbox",
         "type": "scattermapbox"
        },
        {
         "hoverlabel": {
          "namelength": 0
         },
         "hovertemplate": "type=1<br>route_num=-77<br>lat=%{lat}<br>lon=%{lon}",
         "lat": [
          45.708000000000006,
          45.70850000000001,
          45.70850000000001,
          45.708000000000006
         ],
         "legendgroup": "1",
         "line": {
          "color": "#EF553B"
         },
         "lon": [
          4.8865,
          4.8865,
          4.887,
          4.887
         ],
         "mode": "lines",
         "name": "1",
         "showlegend": false,
         "subplot": "mapbox",
         "type": "scattermapbox"
        },
        {
         "hoverlabel": {
          "namelength": 0
         },
         "hovertemplate": "type=1<br>route_num=-78<br>lat=%{lat}<br>lon=%{lon}",
         "lat": [
          45.7075,
          45.708000000000006,
          45.708000000000006,
          45.7075
         ],
         "legendgroup": "1",
         "line": {
          "color": "#EF553B"
         },
         "lon": [
          4.8865,
          4.8865,
          4.887,
          4.887
         ],
         "mode": "lines",
         "name": "1",
         "showlegend": false,
         "subplot": "mapbox",
         "type": "scattermapbox"
        },
        {
         "hoverlabel": {
          "namelength": 0
         },
         "hovertemplate": "type=1<br>route_num=-79<br>lat=%{lat}<br>lon=%{lon}",
         "lat": [
          45.7075,
          45.708000000000006,
          45.708000000000006,
          45.7075
         ],
         "legendgroup": "1",
         "line": {
          "color": "#EF553B"
         },
         "lon": [
          4.8870000000000005,
          4.8870000000000005,
          4.8875,
          4.8875
         ],
         "mode": "lines",
         "name": "1",
         "showlegend": false,
         "subplot": "mapbox",
         "type": "scattermapbox"
        },
        {
         "hoverlabel": {
          "namelength": 0
         },
         "hovertemplate": "type=1<br>route_num=-80<br>lat=%{lat}<br>lon=%{lon}",
         "lat": [
          45.707,
          45.7075,
          45.7075,
          45.707
         ],
         "legendgroup": "1",
         "line": {
          "color": "#EF553B"
         },
         "lon": [
          4.8870000000000005,
          4.8870000000000005,
          4.8875,
          4.8875
         ],
         "mode": "lines",
         "name": "1",
         "showlegend": false,
         "subplot": "mapbox",
         "type": "scattermapbox"
        },
        {
         "hoverlabel": {
          "namelength": 0
         },
         "hovertemplate": "type=1<br>route_num=-81<br>lat=%{lat}<br>lon=%{lon}",
         "lat": [
          45.707,
          45.7075,
          45.7075,
          45.707
         ],
         "legendgroup": "1",
         "line": {
          "color": "#EF553B"
         },
         "lon": [
          4.8875,
          4.8875,
          4.888,
          4.888
         ],
         "mode": "lines",
         "name": "1",
         "showlegend": false,
         "subplot": "mapbox",
         "type": "scattermapbox"
        },
        {
         "hoverlabel": {
          "namelength": 0
         },
         "hovertemplate": "type=1<br>route_num=-82<br>lat=%{lat}<br>lon=%{lon}",
         "lat": [
          45.706500000000005,
          45.70700000000001,
          45.70700000000001,
          45.706500000000005
         ],
         "legendgroup": "1",
         "line": {
          "color": "#EF553B"
         },
         "lon": [
          4.8870000000000005,
          4.8870000000000005,
          4.8875,
          4.8875
         ],
         "mode": "lines",
         "name": "1",
         "showlegend": false,
         "subplot": "mapbox",
         "type": "scattermapbox"
        },
        {
         "hoverlabel": {
          "namelength": 0
         },
         "hovertemplate": "type=1<br>route_num=-83<br>lat=%{lat}<br>lon=%{lon}",
         "lat": [
          45.706500000000005,
          45.70700000000001,
          45.70700000000001,
          45.706500000000005
         ],
         "legendgroup": "1",
         "line": {
          "color": "#EF553B"
         },
         "lon": [
          4.8875,
          4.8875,
          4.888,
          4.888
         ],
         "mode": "lines",
         "name": "1",
         "showlegend": false,
         "subplot": "mapbox",
         "type": "scattermapbox"
        },
        {
         "hoverlabel": {
          "namelength": 0
         },
         "hovertemplate": "type=1<br>route_num=-84<br>lat=%{lat}<br>lon=%{lon}",
         "lat": [
          45.706,
          45.706500000000005,
          45.706500000000005,
          45.706
         ],
         "legendgroup": "1",
         "line": {
          "color": "#EF553B"
         },
         "lon": [
          4.8875,
          4.8875,
          4.888,
          4.888
         ],
         "mode": "lines",
         "name": "1",
         "showlegend": false,
         "subplot": "mapbox",
         "type": "scattermapbox"
        },
        {
         "hoverlabel": {
          "namelength": 0
         },
         "hovertemplate": "type=1<br>route_num=-85<br>lat=%{lat}<br>lon=%{lon}",
         "lat": [
          45.706,
          45.706500000000005,
          45.706500000000005,
          45.706
         ],
         "legendgroup": "1",
         "line": {
          "color": "#EF553B"
         },
         "lon": [
          4.888,
          4.888,
          4.8885,
          4.8885
         ],
         "mode": "lines",
         "name": "1",
         "showlegend": false,
         "subplot": "mapbox",
         "type": "scattermapbox"
        },
        {
         "hoverlabel": {
          "namelength": 0
         },
         "hovertemplate": "type=1<br>route_num=-86<br>lat=%{lat}<br>lon=%{lon}",
         "lat": [
          45.706,
          45.706500000000005,
          45.706500000000005,
          45.706
         ],
         "legendgroup": "1",
         "line": {
          "color": "#EF553B"
         },
         "lon": [
          4.8885000000000005,
          4.8885000000000005,
          4.889,
          4.889
         ],
         "mode": "lines",
         "name": "1",
         "showlegend": false,
         "subplot": "mapbox",
         "type": "scattermapbox"
        },
        {
         "hoverlabel": {
          "namelength": 0
         },
         "hovertemplate": "type=1<br>route_num=-87<br>lat=%{lat}<br>lon=%{lon}",
         "lat": [
          45.7055,
          45.706,
          45.706,
          45.7055
         ],
         "legendgroup": "1",
         "line": {
          "color": "#EF553B"
         },
         "lon": [
          4.8885000000000005,
          4.8885000000000005,
          4.889,
          4.889
         ],
         "mode": "lines",
         "name": "1",
         "showlegend": false,
         "subplot": "mapbox",
         "type": "scattermapbox"
        },
        {
         "hoverlabel": {
          "namelength": 0
         },
         "hovertemplate": "type=1<br>route_num=-88<br>lat=%{lat}<br>lon=%{lon}",
         "lat": [
          45.7055,
          45.706,
          45.706,
          45.7055
         ],
         "legendgroup": "1",
         "line": {
          "color": "#EF553B"
         },
         "lon": [
          4.889,
          4.889,
          4.8895,
          4.8895
         ],
         "mode": "lines",
         "name": "1",
         "showlegend": false,
         "subplot": "mapbox",
         "type": "scattermapbox"
        },
        {
         "hoverlabel": {
          "namelength": 0
         },
         "hovertemplate": "type=1<br>route_num=-89<br>lat=%{lat}<br>lon=%{lon}",
         "lat": [
          45.705000000000005,
          45.70550000000001,
          45.70550000000001,
          45.705000000000005
         ],
         "legendgroup": "1",
         "line": {
          "color": "#EF553B"
         },
         "lon": [
          4.889,
          4.889,
          4.8895,
          4.8895
         ],
         "mode": "lines",
         "name": "1",
         "showlegend": false,
         "subplot": "mapbox",
         "type": "scattermapbox"
        },
        {
         "hoverlabel": {
          "namelength": 0
         },
         "hovertemplate": "type=1<br>route_num=-90<br>lat=%{lat}<br>lon=%{lon}",
         "lat": [
          45.705000000000005,
          45.70550000000001,
          45.70550000000001,
          45.705000000000005
         ],
         "legendgroup": "1",
         "line": {
          "color": "#EF553B"
         },
         "lon": [
          4.8895,
          4.8895,
          4.89,
          4.89
         ],
         "mode": "lines",
         "name": "1",
         "showlegend": false,
         "subplot": "mapbox",
         "type": "scattermapbox"
        },
        {
         "hoverlabel": {
          "namelength": 0
         },
         "hovertemplate": "type=1<br>route_num=-91<br>lat=%{lat}<br>lon=%{lon}",
         "lat": [
          45.705000000000005,
          45.70550000000001,
          45.70550000000001,
          45.705000000000005
         ],
         "legendgroup": "1",
         "line": {
          "color": "#EF553B"
         },
         "lon": [
          4.890000000000001,
          4.890000000000001,
          4.8905,
          4.8905
         ],
         "mode": "lines",
         "name": "1",
         "showlegend": false,
         "subplot": "mapbox",
         "type": "scattermapbox"
        },
        {
         "hoverlabel": {
          "namelength": 0
         },
         "hovertemplate": "type=1<br>route_num=-92<br>lat=%{lat}<br>lon=%{lon}",
         "lat": [
          45.7045,
          45.705000000000005,
          45.705000000000005,
          45.7045
         ],
         "legendgroup": "1",
         "line": {
          "color": "#EF553B"
         },
         "lon": [
          4.890000000000001,
          4.890000000000001,
          4.8905,
          4.8905
         ],
         "mode": "lines",
         "name": "1",
         "showlegend": false,
         "subplot": "mapbox",
         "type": "scattermapbox"
        },
        {
         "hoverlabel": {
          "namelength": 0
         },
         "hovertemplate": "type=1<br>route_num=-93<br>lat=%{lat}<br>lon=%{lon}",
         "lat": [
          45.7045,
          45.705000000000005,
          45.705000000000005,
          45.7045
         ],
         "legendgroup": "1",
         "line": {
          "color": "#EF553B"
         },
         "lon": [
          4.8905,
          4.8905,
          4.891,
          4.891
         ],
         "mode": "lines",
         "name": "1",
         "showlegend": false,
         "subplot": "mapbox",
         "type": "scattermapbox"
        },
        {
         "hoverlabel": {
          "namelength": 0
         },
         "hovertemplate": "type=1<br>route_num=-94<br>lat=%{lat}<br>lon=%{lon}",
         "lat": [
          45.705000000000005,
          45.70550000000001,
          45.70550000000001,
          45.705000000000005
         ],
         "legendgroup": "1",
         "line": {
          "color": "#EF553B"
         },
         "lon": [
          4.8905,
          4.8905,
          4.891,
          4.891
         ],
         "mode": "lines",
         "name": "1",
         "showlegend": false,
         "subplot": "mapbox",
         "type": "scattermapbox"
        },
        {
         "hoverlabel": {
          "namelength": 0
         },
         "hovertemplate": "type=1<br>route_num=-95<br>lat=%{lat}<br>lon=%{lon}",
         "lat": [
          45.7045,
          45.705000000000005,
          45.705000000000005,
          45.7045
         ],
         "legendgroup": "1",
         "line": {
          "color": "#EF553B"
         },
         "lon": [
          4.891,
          4.891,
          4.8915,
          4.8915
         ],
         "mode": "lines",
         "name": "1",
         "showlegend": false,
         "subplot": "mapbox",
         "type": "scattermapbox"
        },
        {
         "hoverlabel": {
          "namelength": 0
         },
         "hovertemplate": "type=1<br>route_num=-96<br>lat=%{lat}<br>lon=%{lon}",
         "lat": [
          45.705000000000005,
          45.70550000000001,
          45.70550000000001,
          45.705000000000005
         ],
         "legendgroup": "1",
         "line": {
          "color": "#EF553B"
         },
         "lon": [
          4.891,
          4.891,
          4.8915,
          4.8915
         ],
         "mode": "lines",
         "name": "1",
         "showlegend": false,
         "subplot": "mapbox",
         "type": "scattermapbox"
        },
        {
         "hoverlabel": {
          "namelength": 0
         },
         "hovertemplate": "type=1<br>route_num=-97<br>lat=%{lat}<br>lon=%{lon}",
         "lat": [
          45.704,
          45.7045,
          45.7045,
          45.704
         ],
         "legendgroup": "1",
         "line": {
          "color": "#EF553B"
         },
         "lon": [
          4.891,
          4.891,
          4.8915,
          4.8915
         ],
         "mode": "lines",
         "name": "1",
         "showlegend": false,
         "subplot": "mapbox",
         "type": "scattermapbox"
        },
        {
         "hoverlabel": {
          "namelength": 0
         },
         "hovertemplate": "type=1<br>route_num=-98<br>lat=%{lat}<br>lon=%{lon}",
         "lat": [
          45.704,
          45.7045,
          45.7045,
          45.704
         ],
         "legendgroup": "1",
         "line": {
          "color": "#EF553B"
         },
         "lon": [
          4.891500000000001,
          4.891500000000001,
          4.892,
          4.892
         ],
         "mode": "lines",
         "name": "1",
         "showlegend": false,
         "subplot": "mapbox",
         "type": "scattermapbox"
        },
        {
         "hoverlabel": {
          "namelength": 0
         },
         "hovertemplate": "type=1<br>route_num=-99<br>lat=%{lat}<br>lon=%{lon}",
         "lat": [
          45.704,
          45.7045,
          45.7045,
          45.704
         ],
         "legendgroup": "1",
         "line": {
          "color": "#EF553B"
         },
         "lon": [
          4.892,
          4.892,
          4.8925,
          4.8925
         ],
         "mode": "lines",
         "name": "1",
         "showlegend": false,
         "subplot": "mapbox",
         "type": "scattermapbox"
        },
        {
         "hoverlabel": {
          "namelength": 0
         },
         "hovertemplate": "type=1<br>route_num=-100<br>lat=%{lat}<br>lon=%{lon}",
         "lat": [
          45.704,
          45.7045,
          45.7045,
          45.704
         ],
         "legendgroup": "1",
         "line": {
          "color": "#EF553B"
         },
         "lon": [
          4.8925,
          4.8925,
          4.893,
          4.893
         ],
         "mode": "lines",
         "name": "1",
         "showlegend": false,
         "subplot": "mapbox",
         "type": "scattermapbox"
        },
        {
         "hoverlabel": {
          "namelength": 0
         },
         "hovertemplate": "type=1<br>route_num=-101<br>lat=%{lat}<br>lon=%{lon}",
         "lat": [
          45.703500000000005,
          45.70400000000001,
          45.70400000000001,
          45.703500000000005
         ],
         "legendgroup": "1",
         "line": {
          "color": "#EF553B"
         },
         "lon": [
          4.8925,
          4.8925,
          4.893,
          4.893
         ],
         "mode": "lines",
         "name": "1",
         "showlegend": false,
         "subplot": "mapbox",
         "type": "scattermapbox"
        },
        {
         "hoverlabel": {
          "namelength": 0
         },
         "hovertemplate": "type=1<br>route_num=-102<br>lat=%{lat}<br>lon=%{lon}",
         "lat": [
          45.703500000000005,
          45.70400000000001,
          45.70400000000001,
          45.703500000000005
         ],
         "legendgroup": "1",
         "line": {
          "color": "#EF553B"
         },
         "lon": [
          4.893,
          4.893,
          4.8934999999999995,
          4.8934999999999995
         ],
         "mode": "lines",
         "name": "1",
         "showlegend": false,
         "subplot": "mapbox",
         "type": "scattermapbox"
        },
        {
         "hoverlabel": {
          "namelength": 0
         },
         "hovertemplate": "type=1<br>route_num=-103<br>lat=%{lat}<br>lon=%{lon}",
         "lat": [
          45.703500000000005,
          45.70400000000001,
          45.70400000000001,
          45.703500000000005
         ],
         "legendgroup": "1",
         "line": {
          "color": "#EF553B"
         },
         "lon": [
          4.8935,
          4.8935,
          4.894,
          4.894
         ],
         "mode": "lines",
         "name": "1",
         "showlegend": false,
         "subplot": "mapbox",
         "type": "scattermapbox"
        },
        {
         "hoverlabel": {
          "namelength": 0
         },
         "hovertemplate": "type=1<br>route_num=-104<br>lat=%{lat}<br>lon=%{lon}",
         "lat": [
          45.703,
          45.703500000000005,
          45.703500000000005,
          45.703
         ],
         "legendgroup": "1",
         "line": {
          "color": "#EF553B"
         },
         "lon": [
          4.8935,
          4.8935,
          4.894,
          4.894
         ],
         "mode": "lines",
         "name": "1",
         "showlegend": false,
         "subplot": "mapbox",
         "type": "scattermapbox"
        },
        {
         "hoverlabel": {
          "namelength": 0
         },
         "hovertemplate": "type=1<br>route_num=-105<br>lat=%{lat}<br>lon=%{lon}",
         "lat": [
          45.703,
          45.703500000000005,
          45.703500000000005,
          45.703
         ],
         "legendgroup": "1",
         "line": {
          "color": "#EF553B"
         },
         "lon": [
          4.894,
          4.894,
          4.8945,
          4.8945
         ],
         "mode": "lines",
         "name": "1",
         "showlegend": false,
         "subplot": "mapbox",
         "type": "scattermapbox"
        },
        {
         "hoverlabel": {
          "namelength": 0
         },
         "hovertemplate": "type=1<br>route_num=-106<br>lat=%{lat}<br>lon=%{lon}",
         "lat": [
          45.703,
          45.703500000000005,
          45.703500000000005,
          45.703
         ],
         "legendgroup": "1",
         "line": {
          "color": "#EF553B"
         },
         "lon": [
          4.8945,
          4.8945,
          4.895,
          4.895
         ],
         "mode": "lines",
         "name": "1",
         "showlegend": false,
         "subplot": "mapbox",
         "type": "scattermapbox"
        },
        {
         "hoverlabel": {
          "namelength": 0
         },
         "hovertemplate": "type=1<br>route_num=-107<br>lat=%{lat}<br>lon=%{lon}",
         "lat": [
          45.703,
          45.703500000000005,
          45.703500000000005,
          45.703
         ],
         "legendgroup": "1",
         "line": {
          "color": "#EF553B"
         },
         "lon": [
          4.8950000000000005,
          4.8950000000000005,
          4.8955,
          4.8955
         ],
         "mode": "lines",
         "name": "1",
         "showlegend": false,
         "subplot": "mapbox",
         "type": "scattermapbox"
        },
        {
         "hoverlabel": {
          "namelength": 0
         },
         "hovertemplate": "type=1<br>route_num=-108<br>lat=%{lat}<br>lon=%{lon}",
         "lat": [
          45.7025,
          45.703,
          45.703,
          45.7025
         ],
         "legendgroup": "1",
         "line": {
          "color": "#EF553B"
         },
         "lon": [
          4.8950000000000005,
          4.8950000000000005,
          4.8955,
          4.8955
         ],
         "mode": "lines",
         "name": "1",
         "showlegend": false,
         "subplot": "mapbox",
         "type": "scattermapbox"
        },
        {
         "hoverlabel": {
          "namelength": 0
         },
         "hovertemplate": "type=1<br>route_num=-109<br>lat=%{lat}<br>lon=%{lon}",
         "lat": [
          45.7025,
          45.703,
          45.703,
          45.7025
         ],
         "legendgroup": "1",
         "line": {
          "color": "#EF553B"
         },
         "lon": [
          4.8955,
          4.8955,
          4.896,
          4.896
         ],
         "mode": "lines",
         "name": "1",
         "showlegend": false,
         "subplot": "mapbox",
         "type": "scattermapbox"
        },
        {
         "hoverlabel": {
          "namelength": 0
         },
         "hovertemplate": "type=1<br>route_num=-110<br>lat=%{lat}<br>lon=%{lon}",
         "lat": [
          45.702000000000005,
          45.70250000000001,
          45.70250000000001,
          45.702000000000005
         ],
         "legendgroup": "1",
         "line": {
          "color": "#EF553B"
         },
         "lon": [
          4.8955,
          4.8955,
          4.896,
          4.896
         ],
         "mode": "lines",
         "name": "1",
         "showlegend": false,
         "subplot": "mapbox",
         "type": "scattermapbox"
        },
        {
         "hoverlabel": {
          "namelength": 0
         },
         "hovertemplate": "type=1<br>route_num=-111<br>lat=%{lat}<br>lon=%{lon}",
         "lat": [
          45.702000000000005,
          45.70250000000001,
          45.70250000000001,
          45.702000000000005
         ],
         "legendgroup": "1",
         "line": {
          "color": "#EF553B"
         },
         "lon": [
          4.896,
          4.896,
          4.8965,
          4.8965
         ],
         "mode": "lines",
         "name": "1",
         "showlegend": false,
         "subplot": "mapbox",
         "type": "scattermapbox"
        },
        {
         "hoverlabel": {
          "namelength": 0
         },
         "hovertemplate": "type=1<br>route_num=-112<br>lat=%{lat}<br>lon=%{lon}",
         "lat": [
          45.702000000000005,
          45.70250000000001,
          45.70250000000001,
          45.702000000000005
         ],
         "legendgroup": "1",
         "line": {
          "color": "#EF553B"
         },
         "lon": [
          4.8965000000000005,
          4.8965000000000005,
          4.897,
          4.897
         ],
         "mode": "lines",
         "name": "1",
         "showlegend": false,
         "subplot": "mapbox",
         "type": "scattermapbox"
        },
        {
         "hoverlabel": {
          "namelength": 0
         },
         "hovertemplate": "type=1<br>route_num=-113<br>lat=%{lat}<br>lon=%{lon}",
         "lat": [
          45.702000000000005,
          45.70250000000001,
          45.70250000000001,
          45.702000000000005
         ],
         "legendgroup": "1",
         "line": {
          "color": "#EF553B"
         },
         "lon": [
          4.897,
          4.897,
          4.8975,
          4.8975
         ],
         "mode": "lines",
         "name": "1",
         "showlegend": false,
         "subplot": "mapbox",
         "type": "scattermapbox"
        },
        {
         "hoverlabel": {
          "namelength": 0
         },
         "hovertemplate": "type=1<br>route_num=-114<br>lat=%{lat}<br>lon=%{lon}",
         "lat": [
          45.702000000000005,
          45.70250000000001,
          45.70250000000001,
          45.702000000000005
         ],
         "legendgroup": "1",
         "line": {
          "color": "#EF553B"
         },
         "lon": [
          4.8975,
          4.8975,
          4.898,
          4.898
         ],
         "mode": "lines",
         "name": "1",
         "showlegend": false,
         "subplot": "mapbox",
         "type": "scattermapbox"
        },
        {
         "hoverlabel": {
          "namelength": 0
         },
         "hovertemplate": "type=1<br>route_num=-115<br>lat=%{lat}<br>lon=%{lon}",
         "lat": [
          45.702000000000005,
          45.70250000000001,
          45.70250000000001,
          45.702000000000005
         ],
         "legendgroup": "1",
         "line": {
          "color": "#EF553B"
         },
         "lon": [
          4.898000000000001,
          4.898000000000001,
          4.8985,
          4.8985
         ],
         "mode": "lines",
         "name": "1",
         "showlegend": false,
         "subplot": "mapbox",
         "type": "scattermapbox"
        },
        {
         "hoverlabel": {
          "namelength": 0
         },
         "hovertemplate": "type=1<br>route_num=-116<br>lat=%{lat}<br>lon=%{lon}",
         "lat": [
          45.7015,
          45.702000000000005,
          45.702000000000005,
          45.7015
         ],
         "legendgroup": "1",
         "line": {
          "color": "#EF553B"
         },
         "lon": [
          4.8975,
          4.8975,
          4.898,
          4.898
         ],
         "mode": "lines",
         "name": "1",
         "showlegend": false,
         "subplot": "mapbox",
         "type": "scattermapbox"
        },
        {
         "hoverlabel": {
          "namelength": 0
         },
         "hovertemplate": "type=1<br>route_num=-117<br>lat=%{lat}<br>lon=%{lon}",
         "lat": [
          45.7015,
          45.702000000000005,
          45.702000000000005,
          45.7015
         ],
         "legendgroup": "1",
         "line": {
          "color": "#EF553B"
         },
         "lon": [
          4.898000000000001,
          4.898000000000001,
          4.8985,
          4.8985
         ],
         "mode": "lines",
         "name": "1",
         "showlegend": false,
         "subplot": "mapbox",
         "type": "scattermapbox"
        },
        {
         "hoverlabel": {
          "namelength": 0
         },
         "hovertemplate": "type=1<br>route_num=-118<br>lat=%{lat}<br>lon=%{lon}",
         "lat": [
          45.7015,
          45.702000000000005,
          45.702000000000005,
          45.7015
         ],
         "legendgroup": "1",
         "line": {
          "color": "#EF553B"
         },
         "lon": [
          4.8985,
          4.8985,
          4.899,
          4.899
         ],
         "mode": "lines",
         "name": "1",
         "showlegend": false,
         "subplot": "mapbox",
         "type": "scattermapbox"
        },
        {
         "hoverlabel": {
          "namelength": 0
         },
         "hovertemplate": "type=1<br>route_num=-119<br>lat=%{lat}<br>lon=%{lon}",
         "lat": [
          45.702000000000005,
          45.70250000000001,
          45.70250000000001,
          45.702000000000005
         ],
         "legendgroup": "1",
         "line": {
          "color": "#EF553B"
         },
         "lon": [
          4.899,
          4.899,
          4.8995,
          4.8995
         ],
         "mode": "lines",
         "name": "1",
         "showlegend": false,
         "subplot": "mapbox",
         "type": "scattermapbox"
        },
        {
         "hoverlabel": {
          "namelength": 0
         },
         "hovertemplate": "type=1<br>route_num=-120<br>lat=%{lat}<br>lon=%{lon}",
         "lat": [
          45.7015,
          45.702000000000005,
          45.702000000000005,
          45.7015
         ],
         "legendgroup": "1",
         "line": {
          "color": "#EF553B"
         },
         "lon": [
          4.899,
          4.899,
          4.8995,
          4.8995
         ],
         "mode": "lines",
         "name": "1",
         "showlegend": false,
         "subplot": "mapbox",
         "type": "scattermapbox"
        },
        {
         "hoverlabel": {
          "namelength": 0
         },
         "hovertemplate": "type=1<br>route_num=-121<br>lat=%{lat}<br>lon=%{lon}",
         "lat": [
          45.705000000000005,
          45.70550000000001,
          45.70550000000001,
          45.705000000000005
         ],
         "legendgroup": "1",
         "line": {
          "color": "#EF553B"
         },
         "lon": [
          4.9,
          4.9,
          4.9005,
          4.9005
         ],
         "mode": "lines",
         "name": "1",
         "showlegend": false,
         "subplot": "mapbox",
         "type": "scattermapbox"
        },
        {
         "hoverlabel": {
          "namelength": 0
         },
         "hovertemplate": "type=1<br>route_num=-122<br>lat=%{lat}<br>lon=%{lon}",
         "lat": [
          45.7055,
          45.706,
          45.706,
          45.7055
         ],
         "legendgroup": "1",
         "line": {
          "color": "#EF553B"
         },
         "lon": [
          4.9,
          4.9,
          4.9005,
          4.9005
         ],
         "mode": "lines",
         "name": "1",
         "showlegend": false,
         "subplot": "mapbox",
         "type": "scattermapbox"
        },
        {
         "hoverlabel": {
          "namelength": 0
         },
         "hovertemplate": "type=1<br>route_num=-123<br>lat=%{lat}<br>lon=%{lon}",
         "lat": [
          45.7055,
          45.706,
          45.706,
          45.7055
         ],
         "legendgroup": "1",
         "line": {
          "color": "#EF553B"
         },
         "lon": [
          4.9005,
          4.9005,
          4.901,
          4.901
         ],
         "mode": "lines",
         "name": "1",
         "showlegend": false,
         "subplot": "mapbox",
         "type": "scattermapbox"
        },
        {
         "hoverlabel": {
          "namelength": 0
         },
         "hovertemplate": "type=1<br>route_num=-124<br>lat=%{lat}<br>lon=%{lon}",
         "lat": [
          45.705000000000005,
          45.70550000000001,
          45.70550000000001,
          45.705000000000005
         ],
         "legendgroup": "1",
         "line": {
          "color": "#EF553B"
         },
         "lon": [
          4.9005,
          4.9005,
          4.901,
          4.901
         ],
         "mode": "lines",
         "name": "1",
         "showlegend": false,
         "subplot": "mapbox",
         "type": "scattermapbox"
        },
        {
         "hoverlabel": {
          "namelength": 0
         },
         "hovertemplate": "type=1<br>route_num=-125<br>lat=%{lat}<br>lon=%{lon}",
         "lat": [
          45.705000000000005,
          45.70550000000001,
          45.70550000000001,
          45.705000000000005
         ],
         "legendgroup": "1",
         "line": {
          "color": "#EF553B"
         },
         "lon": [
          4.901,
          4.901,
          4.9014999999999995,
          4.9014999999999995
         ],
         "mode": "lines",
         "name": "1",
         "showlegend": false,
         "subplot": "mapbox",
         "type": "scattermapbox"
        },
        {
         "hoverlabel": {
          "namelength": 0
         },
         "hovertemplate": "type=1<br>route_num=-126<br>lat=%{lat}<br>lon=%{lon}",
         "lat": [
          45.705000000000005,
          45.70550000000001,
          45.70550000000001,
          45.705000000000005
         ],
         "legendgroup": "1",
         "line": {
          "color": "#EF553B"
         },
         "lon": [
          4.9015,
          4.9015,
          4.902,
          4.902
         ],
         "mode": "lines",
         "name": "1",
         "showlegend": false,
         "subplot": "mapbox",
         "type": "scattermapbox"
        },
        {
         "hoverlabel": {
          "namelength": 0
         },
         "hovertemplate": "type=1<br>route_num=-127<br>lat=%{lat}<br>lon=%{lon}",
         "lat": [
          45.7045,
          45.705000000000005,
          45.705000000000005,
          45.7045
         ],
         "legendgroup": "1",
         "line": {
          "color": "#EF553B"
         },
         "lon": [
          4.9015,
          4.9015,
          4.902,
          4.902
         ],
         "mode": "lines",
         "name": "1",
         "showlegend": false,
         "subplot": "mapbox",
         "type": "scattermapbox"
        },
        {
         "hoverlabel": {
          "namelength": 0
         },
         "hovertemplate": "type=1<br>route_num=-128<br>lat=%{lat}<br>lon=%{lon}",
         "lat": [
          45.704,
          45.7045,
          45.7045,
          45.704
         ],
         "legendgroup": "1",
         "line": {
          "color": "#EF553B"
         },
         "lon": [
          4.9015,
          4.9015,
          4.902,
          4.902
         ],
         "mode": "lines",
         "name": "1",
         "showlegend": false,
         "subplot": "mapbox",
         "type": "scattermapbox"
        },
        {
         "hoverlabel": {
          "namelength": 0
         },
         "hovertemplate": "type=1<br>route_num=-129<br>lat=%{lat}<br>lon=%{lon}",
         "lat": [
          45.7045,
          45.705000000000005,
          45.705000000000005,
          45.7045
         ],
         "legendgroup": "1",
         "line": {
          "color": "#EF553B"
         },
         "lon": [
          4.902,
          4.902,
          4.9025,
          4.9025
         ],
         "mode": "lines",
         "name": "1",
         "showlegend": false,
         "subplot": "mapbox",
         "type": "scattermapbox"
        },
        {
         "hoverlabel": {
          "namelength": 0
         },
         "hovertemplate": "type=1<br>route_num=-130<br>lat=%{lat}<br>lon=%{lon}",
         "lat": [
          45.704,
          45.7045,
          45.7045,
          45.704
         ],
         "legendgroup": "1",
         "line": {
          "color": "#EF553B"
         },
         "lon": [
          4.902,
          4.902,
          4.9025,
          4.9025
         ],
         "mode": "lines",
         "name": "1",
         "showlegend": false,
         "subplot": "mapbox",
         "type": "scattermapbox"
        },
        {
         "hoverlabel": {
          "namelength": 0
         },
         "hovertemplate": "type=1<br>route_num=-131<br>lat=%{lat}<br>lon=%{lon}",
         "lat": [
          45.703500000000005,
          45.70400000000001,
          45.70400000000001,
          45.703500000000005
         ],
         "legendgroup": "1",
         "line": {
          "color": "#EF553B"
         },
         "lon": [
          4.902,
          4.902,
          4.9025,
          4.9025
         ],
         "mode": "lines",
         "name": "1",
         "showlegend": false,
         "subplot": "mapbox",
         "type": "scattermapbox"
        },
        {
         "hoverlabel": {
          "namelength": 0
         },
         "hovertemplate": "type=1<br>route_num=-132<br>lat=%{lat}<br>lon=%{lon}",
         "lat": [
          45.703500000000005,
          45.70400000000001,
          45.70400000000001,
          45.703500000000005
         ],
         "legendgroup": "1",
         "line": {
          "color": "#EF553B"
         },
         "lon": [
          4.9015,
          4.9015,
          4.902,
          4.902
         ],
         "mode": "lines",
         "name": "1",
         "showlegend": false,
         "subplot": "mapbox",
         "type": "scattermapbox"
        },
        {
         "hoverlabel": {
          "namelength": 0
         },
         "hovertemplate": "type=1<br>route_num=-133<br>lat=%{lat}<br>lon=%{lon}",
         "lat": [
          45.703,
          45.703500000000005,
          45.703500000000005,
          45.703
         ],
         "legendgroup": "1",
         "line": {
          "color": "#EF553B"
         },
         "lon": [
          4.9015,
          4.9015,
          4.902,
          4.902
         ],
         "mode": "lines",
         "name": "1",
         "showlegend": false,
         "subplot": "mapbox",
         "type": "scattermapbox"
        },
        {
         "hoverlabel": {
          "namelength": 0
         },
         "hovertemplate": "type=1<br>route_num=-134<br>lat=%{lat}<br>lon=%{lon}",
         "lat": [
          45.7025,
          45.703,
          45.703,
          45.7025
         ],
         "legendgroup": "1",
         "line": {
          "color": "#EF553B"
         },
         "lon": [
          4.9015,
          4.9015,
          4.902,
          4.902
         ],
         "mode": "lines",
         "name": "1",
         "showlegend": false,
         "subplot": "mapbox",
         "type": "scattermapbox"
        },
        {
         "hoverlabel": {
          "namelength": 0
         },
         "hovertemplate": "type=1<br>route_num=-135<br>lat=%{lat}<br>lon=%{lon}",
         "lat": [
          45.703,
          45.703500000000005,
          45.703500000000005,
          45.703
         ],
         "legendgroup": "1",
         "line": {
          "color": "#EF553B"
         },
         "lon": [
          4.902,
          4.902,
          4.9025,
          4.9025
         ],
         "mode": "lines",
         "name": "1",
         "showlegend": false,
         "subplot": "mapbox",
         "type": "scattermapbox"
        },
        {
         "hoverlabel": {
          "namelength": 0
         },
         "hovertemplate": "type=1<br>route_num=-136<br>lat=%{lat}<br>lon=%{lon}",
         "lat": [
          45.723,
          45.7235,
          45.7235,
          45.723
         ],
         "legendgroup": "1",
         "line": {
          "color": "#EF553B"
         },
         "lon": [
          4.8935,
          4.8935,
          4.894,
          4.894
         ],
         "mode": "lines",
         "name": "1",
         "showlegend": false,
         "subplot": "mapbox",
         "type": "scattermapbox"
        },
        {
         "hoverlabel": {
          "namelength": 0
         },
         "hovertemplate": "type=1<br>route_num=-137<br>lat=%{lat}<br>lon=%{lon}",
         "lat": [
          45.723,
          45.7235,
          45.7235,
          45.723
         ],
         "legendgroup": "1",
         "line": {
          "color": "#EF553B"
         },
         "lon": [
          4.893,
          4.893,
          4.8934999999999995,
          4.8934999999999995
         ],
         "mode": "lines",
         "name": "1",
         "showlegend": false,
         "subplot": "mapbox",
         "type": "scattermapbox"
        },
        {
         "hoverlabel": {
          "namelength": 0
         },
         "hovertemplate": "type=1<br>route_num=-138<br>lat=%{lat}<br>lon=%{lon}",
         "lat": [
          45.7235,
          45.724000000000004,
          45.724000000000004,
          45.7235
         ],
         "legendgroup": "1",
         "line": {
          "color": "#EF553B"
         },
         "lon": [
          4.893,
          4.893,
          4.8934999999999995,
          4.8934999999999995
         ],
         "mode": "lines",
         "name": "1",
         "showlegend": false,
         "subplot": "mapbox",
         "type": "scattermapbox"
        },
        {
         "hoverlabel": {
          "namelength": 0
         },
         "hovertemplate": "type=1<br>route_num=-139<br>lat=%{lat}<br>lon=%{lon}",
         "lat": [
          45.7235,
          45.724000000000004,
          45.724000000000004,
          45.7235
         ],
         "legendgroup": "1",
         "line": {
          "color": "#EF553B"
         },
         "lon": [
          4.8925,
          4.8925,
          4.893,
          4.893
         ],
         "mode": "lines",
         "name": "1",
         "showlegend": false,
         "subplot": "mapbox",
         "type": "scattermapbox"
        },
        {
         "hoverlabel": {
          "namelength": 0
         },
         "hovertemplate": "type=1<br>route_num=-140<br>lat=%{lat}<br>lon=%{lon}",
         "lat": [
          45.7235,
          45.724000000000004,
          45.724000000000004,
          45.7235
         ],
         "legendgroup": "1",
         "line": {
          "color": "#EF553B"
         },
         "lon": [
          4.892,
          4.892,
          4.8925,
          4.8925
         ],
         "mode": "lines",
         "name": "1",
         "showlegend": false,
         "subplot": "mapbox",
         "type": "scattermapbox"
        },
        {
         "hoverlabel": {
          "namelength": 0
         },
         "hovertemplate": "type=1<br>route_num=-141<br>lat=%{lat}<br>lon=%{lon}",
         "lat": [
          45.724000000000004,
          45.724500000000006,
          45.724500000000006,
          45.724000000000004
         ],
         "legendgroup": "1",
         "line": {
          "color": "#EF553B"
         },
         "lon": [
          4.892,
          4.892,
          4.8925,
          4.8925
         ],
         "mode": "lines",
         "name": "1",
         "showlegend": false,
         "subplot": "mapbox",
         "type": "scattermapbox"
        },
        {
         "hoverlabel": {
          "namelength": 0
         },
         "hovertemplate": "type=1<br>route_num=-142<br>lat=%{lat}<br>lon=%{lon}",
         "lat": [
          45.724000000000004,
          45.724500000000006,
          45.724500000000006,
          45.724000000000004
         ],
         "legendgroup": "1",
         "line": {
          "color": "#EF553B"
         },
         "lon": [
          4.891500000000001,
          4.891500000000001,
          4.892,
          4.892
         ],
         "mode": "lines",
         "name": "1",
         "showlegend": false,
         "subplot": "mapbox",
         "type": "scattermapbox"
        },
        {
         "hoverlabel": {
          "namelength": 0
         },
         "hovertemplate": "type=1<br>route_num=-143<br>lat=%{lat}<br>lon=%{lon}",
         "lat": [
          45.724000000000004,
          45.724500000000006,
          45.724500000000006,
          45.724000000000004
         ],
         "legendgroup": "1",
         "line": {
          "color": "#EF553B"
         },
         "lon": [
          4.891,
          4.891,
          4.8915,
          4.8915
         ],
         "mode": "lines",
         "name": "1",
         "showlegend": false,
         "subplot": "mapbox",
         "type": "scattermapbox"
        },
        {
         "hoverlabel": {
          "namelength": 0
         },
         "hovertemplate": "type=1<br>route_num=-144<br>lat=%{lat}<br>lon=%{lon}",
         "lat": [
          45.7245,
          45.725,
          45.725,
          45.7245
         ],
         "legendgroup": "1",
         "line": {
          "color": "#EF553B"
         },
         "lon": [
          4.891,
          4.891,
          4.8915,
          4.8915
         ],
         "mode": "lines",
         "name": "1",
         "showlegend": false,
         "subplot": "mapbox",
         "type": "scattermapbox"
        },
        {
         "hoverlabel": {
          "namelength": 0
         },
         "hovertemplate": "type=1<br>route_num=-145<br>lat=%{lat}<br>lon=%{lon}",
         "lat": [
          45.7245,
          45.725,
          45.725,
          45.7245
         ],
         "legendgroup": "1",
         "line": {
          "color": "#EF553B"
         },
         "lon": [
          4.8905,
          4.8905,
          4.891,
          4.891
         ],
         "mode": "lines",
         "name": "1",
         "showlegend": false,
         "subplot": "mapbox",
         "type": "scattermapbox"
        },
        {
         "hoverlabel": {
          "namelength": 0
         },
         "hovertemplate": "type=1<br>route_num=-146<br>lat=%{lat}<br>lon=%{lon}",
         "lat": [
          45.7245,
          45.725,
          45.725,
          45.7245
         ],
         "legendgroup": "1",
         "line": {
          "color": "#EF553B"
         },
         "lon": [
          4.890000000000001,
          4.890000000000001,
          4.8905,
          4.8905
         ],
         "mode": "lines",
         "name": "1",
         "showlegend": false,
         "subplot": "mapbox",
         "type": "scattermapbox"
        },
        {
         "hoverlabel": {
          "namelength": 0
         },
         "hovertemplate": "type=1<br>route_num=-147<br>lat=%{lat}<br>lon=%{lon}",
         "lat": [
          45.7245,
          45.725,
          45.725,
          45.7245
         ],
         "legendgroup": "1",
         "line": {
          "color": "#EF553B"
         },
         "lon": [
          4.8895,
          4.8895,
          4.89,
          4.89
         ],
         "mode": "lines",
         "name": "1",
         "showlegend": false,
         "subplot": "mapbox",
         "type": "scattermapbox"
        },
        {
         "hoverlabel": {
          "namelength": 0
         },
         "hovertemplate": "type=1<br>route_num=-148<br>lat=%{lat}<br>lon=%{lon}",
         "lat": [
          45.725,
          45.725500000000004,
          45.725500000000004,
          45.725
         ],
         "legendgroup": "1",
         "line": {
          "color": "#EF553B"
         },
         "lon": [
          4.8895,
          4.8895,
          4.89,
          4.89
         ],
         "mode": "lines",
         "name": "1",
         "showlegend": false,
         "subplot": "mapbox",
         "type": "scattermapbox"
        },
        {
         "hoverlabel": {
          "namelength": 0
         },
         "hovertemplate": "type=1<br>route_num=-149<br>lat=%{lat}<br>lon=%{lon}",
         "lat": [
          45.725,
          45.725500000000004,
          45.725500000000004,
          45.725
         ],
         "legendgroup": "1",
         "line": {
          "color": "#EF553B"
         },
         "lon": [
          4.889,
          4.889,
          4.8895,
          4.8895
         ],
         "mode": "lines",
         "name": "1",
         "showlegend": false,
         "subplot": "mapbox",
         "type": "scattermapbox"
        },
        {
         "hoverlabel": {
          "namelength": 0
         },
         "hovertemplate": "type=1<br>route_num=-150<br>lat=%{lat}<br>lon=%{lon}",
         "lat": [
          45.725,
          45.725500000000004,
          45.725500000000004,
          45.725
         ],
         "legendgroup": "1",
         "line": {
          "color": "#EF553B"
         },
         "lon": [
          4.8885000000000005,
          4.8885000000000005,
          4.889,
          4.889
         ],
         "mode": "lines",
         "name": "1",
         "showlegend": false,
         "subplot": "mapbox",
         "type": "scattermapbox"
        },
        {
         "hoverlabel": {
          "namelength": 0
         },
         "hovertemplate": "type=1<br>route_num=-151<br>lat=%{lat}<br>lon=%{lon}",
         "lat": [
          45.725,
          45.725500000000004,
          45.725500000000004,
          45.725
         ],
         "legendgroup": "1",
         "line": {
          "color": "#EF553B"
         },
         "lon": [
          4.888,
          4.888,
          4.8885,
          4.8885
         ],
         "mode": "lines",
         "name": "1",
         "showlegend": false,
         "subplot": "mapbox",
         "type": "scattermapbox"
        },
        {
         "hoverlabel": {
          "namelength": 0
         },
         "hovertemplate": "type=1<br>route_num=-152<br>lat=%{lat}<br>lon=%{lon}",
         "lat": [
          45.725500000000004,
          45.726000000000006,
          45.726000000000006,
          45.725500000000004
         ],
         "legendgroup": "1",
         "line": {
          "color": "#EF553B"
         },
         "lon": [
          4.888,
          4.888,
          4.8885,
          4.8885
         ],
         "mode": "lines",
         "name": "1",
         "showlegend": false,
         "subplot": "mapbox",
         "type": "scattermapbox"
        },
        {
         "hoverlabel": {
          "namelength": 0
         },
         "hovertemplate": "type=1<br>route_num=-153<br>lat=%{lat}<br>lon=%{lon}",
         "lat": [
          45.725500000000004,
          45.726000000000006,
          45.726000000000006,
          45.725500000000004
         ],
         "legendgroup": "1",
         "line": {
          "color": "#EF553B"
         },
         "lon": [
          4.8875,
          4.8875,
          4.888,
          4.888
         ],
         "mode": "lines",
         "name": "1",
         "showlegend": false,
         "subplot": "mapbox",
         "type": "scattermapbox"
        },
        {
         "hoverlabel": {
          "namelength": 0
         },
         "hovertemplate": "type=1<br>route_num=-154<br>lat=%{lat}<br>lon=%{lon}",
         "lat": [
          45.725500000000004,
          45.726000000000006,
          45.726000000000006,
          45.725500000000004
         ],
         "legendgroup": "1",
         "line": {
          "color": "#EF553B"
         },
         "lon": [
          4.8870000000000005,
          4.8870000000000005,
          4.8875,
          4.8875
         ],
         "mode": "lines",
         "name": "1",
         "showlegend": false,
         "subplot": "mapbox",
         "type": "scattermapbox"
        },
        {
         "hoverlabel": {
          "namelength": 0
         },
         "hovertemplate": "type=1<br>route_num=-155<br>lat=%{lat}<br>lon=%{lon}",
         "lat": [
          45.726,
          45.7265,
          45.7265,
          45.726
         ],
         "legendgroup": "1",
         "line": {
          "color": "#EF553B"
         },
         "lon": [
          4.8870000000000005,
          4.8870000000000005,
          4.8875,
          4.8875
         ],
         "mode": "lines",
         "name": "1",
         "showlegend": false,
         "subplot": "mapbox",
         "type": "scattermapbox"
        },
        {
         "hoverlabel": {
          "namelength": 0
         },
         "hovertemplate": "type=1<br>route_num=-156<br>lat=%{lat}<br>lon=%{lon}",
         "lat": [
          45.726,
          45.7265,
          45.7265,
          45.726
         ],
         "legendgroup": "1",
         "line": {
          "color": "#EF553B"
         },
         "lon": [
          4.8865,
          4.8865,
          4.887,
          4.887
         ],
         "mode": "lines",
         "name": "1",
         "showlegend": false,
         "subplot": "mapbox",
         "type": "scattermapbox"
        },
        {
         "hoverlabel": {
          "namelength": 0
         },
         "hovertemplate": "type=1<br>route_num=-157<br>lat=%{lat}<br>lon=%{lon}",
         "lat": [
          45.726,
          45.7265,
          45.7265,
          45.726
         ],
         "legendgroup": "1",
         "line": {
          "color": "#EF553B"
         },
         "lon": [
          4.886,
          4.886,
          4.8865,
          4.8865
         ],
         "mode": "lines",
         "name": "1",
         "showlegend": false,
         "subplot": "mapbox",
         "type": "scattermapbox"
        },
        {
         "hoverlabel": {
          "namelength": 0
         },
         "hovertemplate": "type=1<br>route_num=-158<br>lat=%{lat}<br>lon=%{lon}",
         "lat": [
          45.7265,
          45.727000000000004,
          45.727000000000004,
          45.7265
         ],
         "legendgroup": "1",
         "line": {
          "color": "#EF553B"
         },
         "lon": [
          4.886,
          4.886,
          4.8865,
          4.8865
         ],
         "mode": "lines",
         "name": "1",
         "showlegend": false,
         "subplot": "mapbox",
         "type": "scattermapbox"
        },
        {
         "hoverlabel": {
          "namelength": 0
         },
         "hovertemplate": "type=1<br>route_num=-159<br>lat=%{lat}<br>lon=%{lon}",
         "lat": [
          45.7265,
          45.727000000000004,
          45.727000000000004,
          45.7265
         ],
         "legendgroup": "1",
         "line": {
          "color": "#EF553B"
         },
         "lon": [
          4.8855,
          4.8855,
          4.886,
          4.886
         ],
         "mode": "lines",
         "name": "1",
         "showlegend": false,
         "subplot": "mapbox",
         "type": "scattermapbox"
        },
        {
         "hoverlabel": {
          "namelength": 0
         },
         "hovertemplate": "type=1<br>route_num=-160<br>lat=%{lat}<br>lon=%{lon}",
         "lat": [
          45.7265,
          45.727000000000004,
          45.727000000000004,
          45.7265
         ],
         "legendgroup": "1",
         "line": {
          "color": "#EF553B"
         },
         "lon": [
          4.885000000000001,
          4.885000000000001,
          4.8855,
          4.8855
         ],
         "mode": "lines",
         "name": "1",
         "showlegend": false,
         "subplot": "mapbox",
         "type": "scattermapbox"
        },
        {
         "hoverlabel": {
          "namelength": 0
         },
         "hovertemplate": "type=1<br>route_num=-161<br>lat=%{lat}<br>lon=%{lon}",
         "lat": [
          45.727000000000004,
          45.727500000000006,
          45.727500000000006,
          45.727000000000004
         ],
         "legendgroup": "1",
         "line": {
          "color": "#EF553B"
         },
         "lon": [
          4.885000000000001,
          4.885000000000001,
          4.8855,
          4.8855
         ],
         "mode": "lines",
         "name": "1",
         "showlegend": false,
         "subplot": "mapbox",
         "type": "scattermapbox"
        },
        {
         "hoverlabel": {
          "namelength": 0
         },
         "hovertemplate": "type=1<br>route_num=-162<br>lat=%{lat}<br>lon=%{lon}",
         "lat": [
          45.727000000000004,
          45.727500000000006,
          45.727500000000006,
          45.727000000000004
         ],
         "legendgroup": "1",
         "line": {
          "color": "#EF553B"
         },
         "lon": [
          4.8845,
          4.8845,
          4.885,
          4.885
         ],
         "mode": "lines",
         "name": "1",
         "showlegend": false,
         "subplot": "mapbox",
         "type": "scattermapbox"
        },
        {
         "hoverlabel": {
          "namelength": 0
         },
         "hovertemplate": "type=1<br>route_num=-163<br>lat=%{lat}<br>lon=%{lon}",
         "lat": [
          45.727000000000004,
          45.727500000000006,
          45.727500000000006,
          45.727000000000004
         ],
         "legendgroup": "1",
         "line": {
          "color": "#EF553B"
         },
         "lon": [
          4.884,
          4.884,
          4.8845,
          4.8845
         ],
         "mode": "lines",
         "name": "1",
         "showlegend": false,
         "subplot": "mapbox",
         "type": "scattermapbox"
        },
        {
         "hoverlabel": {
          "namelength": 0
         },
         "hovertemplate": "type=1<br>route_num=-164<br>lat=%{lat}<br>lon=%{lon}",
         "lat": [
          45.7275,
          45.728,
          45.728,
          45.7275
         ],
         "legendgroup": "1",
         "line": {
          "color": "#EF553B"
         },
         "lon": [
          4.884,
          4.884,
          4.8845,
          4.8845
         ],
         "mode": "lines",
         "name": "1",
         "showlegend": false,
         "subplot": "mapbox",
         "type": "scattermapbox"
        },
        {
         "hoverlabel": {
          "namelength": 0
         },
         "hovertemplate": "type=1<br>route_num=-165<br>lat=%{lat}<br>lon=%{lon}",
         "lat": [
          45.7275,
          45.728,
          45.728,
          45.7275
         ],
         "legendgroup": "1",
         "line": {
          "color": "#EF553B"
         },
         "lon": [
          4.883500000000001,
          4.883500000000001,
          4.884,
          4.884
         ],
         "mode": "lines",
         "name": "1",
         "showlegend": false,
         "subplot": "mapbox",
         "type": "scattermapbox"
        },
        {
         "hoverlabel": {
          "namelength": 0
         },
         "hovertemplate": "type=1<br>route_num=-166<br>lat=%{lat}<br>lon=%{lon}",
         "lat": [
          45.7275,
          45.728,
          45.728,
          45.7275
         ],
         "legendgroup": "1",
         "line": {
          "color": "#EF553B"
         },
         "lon": [
          4.883,
          4.883,
          4.8835,
          4.8835
         ],
         "mode": "lines",
         "name": "1",
         "showlegend": false,
         "subplot": "mapbox",
         "type": "scattermapbox"
        },
        {
         "hoverlabel": {
          "namelength": 0
         },
         "hovertemplate": "type=1<br>route_num=-167<br>lat=%{lat}<br>lon=%{lon}",
         "lat": [
          45.7275,
          45.728,
          45.728,
          45.7275
         ],
         "legendgroup": "1",
         "line": {
          "color": "#EF553B"
         },
         "lon": [
          4.8825,
          4.8825,
          4.883,
          4.883
         ],
         "mode": "lines",
         "name": "1",
         "showlegend": false,
         "subplot": "mapbox",
         "type": "scattermapbox"
        },
        {
         "hoverlabel": {
          "namelength": 0
         },
         "hovertemplate": "type=1<br>route_num=-168<br>lat=%{lat}<br>lon=%{lon}",
         "lat": [
          45.728,
          45.728500000000004,
          45.728500000000004,
          45.728
         ],
         "legendgroup": "1",
         "line": {
          "color": "#EF553B"
         },
         "lon": [
          4.8825,
          4.8825,
          4.883,
          4.883
         ],
         "mode": "lines",
         "name": "1",
         "showlegend": false,
         "subplot": "mapbox",
         "type": "scattermapbox"
        },
        {
         "hoverlabel": {
          "namelength": 0
         },
         "hovertemplate": "type=1<br>route_num=-169<br>lat=%{lat}<br>lon=%{lon}",
         "lat": [
          45.728,
          45.728500000000004,
          45.728500000000004,
          45.728
         ],
         "legendgroup": "1",
         "line": {
          "color": "#EF553B"
         },
         "lon": [
          4.882000000000001,
          4.882000000000001,
          4.8825,
          4.8825
         ],
         "mode": "lines",
         "name": "1",
         "showlegend": false,
         "subplot": "mapbox",
         "type": "scattermapbox"
        },
        {
         "hoverlabel": {
          "namelength": 0
         },
         "hovertemplate": "type=1<br>route_num=-170<br>lat=%{lat}<br>lon=%{lon}",
         "lat": [
          45.728,
          45.728500000000004,
          45.728500000000004,
          45.728
         ],
         "legendgroup": "1",
         "line": {
          "color": "#EF553B"
         },
         "lon": [
          4.8815,
          4.8815,
          4.882,
          4.882
         ],
         "mode": "lines",
         "name": "1",
         "showlegend": false,
         "subplot": "mapbox",
         "type": "scattermapbox"
        },
        {
         "hoverlabel": {
          "namelength": 0
         },
         "hovertemplate": "type=1<br>route_num=-171<br>lat=%{lat}<br>lon=%{lon}",
         "lat": [
          45.728500000000004,
          45.729000000000006,
          45.729000000000006,
          45.728500000000004
         ],
         "legendgroup": "1",
         "line": {
          "color": "#EF553B"
         },
         "lon": [
          4.8815,
          4.8815,
          4.882,
          4.882
         ],
         "mode": "lines",
         "name": "1",
         "showlegend": false,
         "subplot": "mapbox",
         "type": "scattermapbox"
        },
        {
         "hoverlabel": {
          "namelength": 0
         },
         "hovertemplate": "type=1<br>route_num=-172<br>lat=%{lat}<br>lon=%{lon}",
         "lat": [
          45.728500000000004,
          45.729000000000006,
          45.729000000000006,
          45.728500000000004
         ],
         "legendgroup": "1",
         "line": {
          "color": "#EF553B"
         },
         "lon": [
          4.881,
          4.881,
          4.8815,
          4.8815
         ],
         "mode": "lines",
         "name": "1",
         "showlegend": false,
         "subplot": "mapbox",
         "type": "scattermapbox"
        },
        {
         "hoverlabel": {
          "namelength": 0
         },
         "hovertemplate": "type=1<br>route_num=-173<br>lat=%{lat}<br>lon=%{lon}",
         "lat": [
          45.728500000000004,
          45.729000000000006,
          45.729000000000006,
          45.728500000000004
         ],
         "legendgroup": "1",
         "line": {
          "color": "#EF553B"
         },
         "lon": [
          4.8805000000000005,
          4.8805000000000005,
          4.881,
          4.881
         ],
         "mode": "lines",
         "name": "1",
         "showlegend": false,
         "subplot": "mapbox",
         "type": "scattermapbox"
        },
        {
         "hoverlabel": {
          "namelength": 0
         },
         "hovertemplate": "type=1<br>route_num=-174<br>lat=%{lat}<br>lon=%{lon}",
         "lat": [
          45.728500000000004,
          45.729000000000006,
          45.729000000000006,
          45.728500000000004
         ],
         "legendgroup": "1",
         "line": {
          "color": "#EF553B"
         },
         "lon": [
          4.88,
          4.88,
          4.8805,
          4.8805
         ],
         "mode": "lines",
         "name": "1",
         "showlegend": false,
         "subplot": "mapbox",
         "type": "scattermapbox"
        },
        {
         "hoverlabel": {
          "namelength": 0
         },
         "hovertemplate": "type=1<br>route_num=-175<br>lat=%{lat}<br>lon=%{lon}",
         "lat": [
          45.729,
          45.7295,
          45.7295,
          45.729
         ],
         "legendgroup": "1",
         "line": {
          "color": "#EF553B"
         },
         "lon": [
          4.88,
          4.88,
          4.8805,
          4.8805
         ],
         "mode": "lines",
         "name": "1",
         "showlegend": false,
         "subplot": "mapbox",
         "type": "scattermapbox"
        },
        {
         "hoverlabel": {
          "namelength": 0
         },
         "hovertemplate": "type=1<br>route_num=-176<br>lat=%{lat}<br>lon=%{lon}",
         "lat": [
          45.729,
          45.7295,
          45.7295,
          45.729
         ],
         "legendgroup": "1",
         "line": {
          "color": "#EF553B"
         },
         "lon": [
          4.8795,
          4.8795,
          4.88,
          4.88
         ],
         "mode": "lines",
         "name": "1",
         "showlegend": false,
         "subplot": "mapbox",
         "type": "scattermapbox"
        },
        {
         "hoverlabel": {
          "namelength": 0
         },
         "hovertemplate": "type=1<br>route_num=-177<br>lat=%{lat}<br>lon=%{lon}",
         "lat": [
          45.729,
          45.7295,
          45.7295,
          45.729
         ],
         "legendgroup": "1",
         "line": {
          "color": "#EF553B"
         },
         "lon": [
          4.8790000000000004,
          4.8790000000000004,
          4.8795,
          4.8795
         ],
         "mode": "lines",
         "name": "1",
         "showlegend": false,
         "subplot": "mapbox",
         "type": "scattermapbox"
        },
        {
         "hoverlabel": {
          "namelength": 0
         },
         "hovertemplate": "type=1<br>route_num=-178<br>lat=%{lat}<br>lon=%{lon}",
         "lat": [
          45.7295,
          45.730000000000004,
          45.730000000000004,
          45.7295
         ],
         "legendgroup": "1",
         "line": {
          "color": "#EF553B"
         },
         "lon": [
          4.8790000000000004,
          4.8790000000000004,
          4.8795,
          4.8795
         ],
         "mode": "lines",
         "name": "1",
         "showlegend": false,
         "subplot": "mapbox",
         "type": "scattermapbox"
        },
        {
         "hoverlabel": {
          "namelength": 0
         },
         "hovertemplate": "type=1<br>route_num=-179<br>lat=%{lat}<br>lon=%{lon}",
         "lat": [
          45.7295,
          45.730000000000004,
          45.730000000000004,
          45.7295
         ],
         "legendgroup": "1",
         "line": {
          "color": "#EF553B"
         },
         "lon": [
          4.8785,
          4.8785,
          4.879,
          4.879
         ],
         "mode": "lines",
         "name": "1",
         "showlegend": false,
         "subplot": "mapbox",
         "type": "scattermapbox"
        },
        {
         "hoverlabel": {
          "namelength": 0
         },
         "hovertemplate": "type=1<br>route_num=-180<br>lat=%{lat}<br>lon=%{lon}",
         "lat": [
          45.730000000000004,
          45.730500000000006,
          45.730500000000006,
          45.730000000000004
         ],
         "legendgroup": "1",
         "line": {
          "color": "#EF553B"
         },
         "lon": [
          4.8785,
          4.8785,
          4.879,
          4.879
         ],
         "mode": "lines",
         "name": "1",
         "showlegend": false,
         "subplot": "mapbox",
         "type": "scattermapbox"
        },
        {
         "hoverlabel": {
          "namelength": 0
         },
         "hovertemplate": "type=1<br>route_num=-181<br>lat=%{lat}<br>lon=%{lon}",
         "lat": [
          45.730000000000004,
          45.730500000000006,
          45.730500000000006,
          45.730000000000004
         ],
         "legendgroup": "1",
         "line": {
          "color": "#EF553B"
         },
         "lon": [
          4.878,
          4.878,
          4.8785,
          4.8785
         ],
         "mode": "lines",
         "name": "1",
         "showlegend": false,
         "subplot": "mapbox",
         "type": "scattermapbox"
        },
        {
         "hoverlabel": {
          "namelength": 0
         },
         "hovertemplate": "type=1<br>route_num=-182<br>lat=%{lat}<br>lon=%{lon}",
         "lat": [
          45.730000000000004,
          45.730500000000006,
          45.730500000000006,
          45.730000000000004
         ],
         "legendgroup": "1",
         "line": {
          "color": "#EF553B"
         },
         "lon": [
          4.8775,
          4.8775,
          4.878,
          4.878
         ],
         "mode": "lines",
         "name": "1",
         "showlegend": false,
         "subplot": "mapbox",
         "type": "scattermapbox"
        },
        {
         "hoverlabel": {
          "namelength": 0
         },
         "hovertemplate": "type=1<br>route_num=-183<br>lat=%{lat}<br>lon=%{lon}",
         "lat": [
          45.7305,
          45.731,
          45.731,
          45.7305
         ],
         "legendgroup": "1",
         "line": {
          "color": "#EF553B"
         },
         "lon": [
          4.8775,
          4.8775,
          4.878,
          4.878
         ],
         "mode": "lines",
         "name": "1",
         "showlegend": false,
         "subplot": "mapbox",
         "type": "scattermapbox"
        },
        {
         "hoverlabel": {
          "namelength": 0
         },
         "hovertemplate": "type=1<br>route_num=-184<br>lat=%{lat}<br>lon=%{lon}",
         "lat": [
          45.7305,
          45.731,
          45.731,
          45.7305
         ],
         "legendgroup": "1",
         "line": {
          "color": "#EF553B"
         },
         "lon": [
          4.877000000000001,
          4.877000000000001,
          4.8775,
          4.8775
         ],
         "mode": "lines",
         "name": "1",
         "showlegend": false,
         "subplot": "mapbox",
         "type": "scattermapbox"
        },
        {
         "hoverlabel": {
          "namelength": 0
         },
         "hovertemplate": "type=1<br>route_num=-185<br>lat=%{lat}<br>lon=%{lon}",
         "lat": [
          45.731,
          45.731500000000004,
          45.731500000000004,
          45.731
         ],
         "legendgroup": "1",
         "line": {
          "color": "#EF553B"
         },
         "lon": [
          4.877000000000001,
          4.877000000000001,
          4.8775,
          4.8775
         ],
         "mode": "lines",
         "name": "1",
         "showlegend": false,
         "subplot": "mapbox",
         "type": "scattermapbox"
        },
        {
         "hoverlabel": {
          "namelength": 0
         },
         "hovertemplate": "type=1<br>route_num=-186<br>lat=%{lat}<br>lon=%{lon}",
         "lat": [
          45.731,
          45.731500000000004,
          45.731500000000004,
          45.731
         ],
         "legendgroup": "1",
         "line": {
          "color": "#EF553B"
         },
         "lon": [
          4.8775,
          4.8775,
          4.878,
          4.878
         ],
         "mode": "lines",
         "name": "1",
         "showlegend": false,
         "subplot": "mapbox",
         "type": "scattermapbox"
        },
        {
         "hoverlabel": {
          "namelength": 0
         },
         "hovertemplate": "type=1<br>route_num=-187<br>lat=%{lat}<br>lon=%{lon}",
         "lat": [
          45.725500000000004,
          45.726000000000006,
          45.726000000000006,
          45.725500000000004
         ],
         "legendgroup": "1",
         "line": {
          "color": "#EF553B"
         },
         "lon": [
          4.8885000000000005,
          4.8885000000000005,
          4.889,
          4.889
         ],
         "mode": "lines",
         "name": "1",
         "showlegend": false,
         "subplot": "mapbox",
         "type": "scattermapbox"
        },
        {
         "hoverlabel": {
          "namelength": 0
         },
         "hovertemplate": "type=1<br>route_num=-188<br>lat=%{lat}<br>lon=%{lon}",
         "lat": [
          45.7235,
          45.724000000000004,
          45.724000000000004,
          45.7235
         ],
         "legendgroup": "1",
         "line": {
          "color": "#EF553B"
         },
         "lon": [
          4.8935,
          4.8935,
          4.894,
          4.894
         ],
         "mode": "lines",
         "name": "1",
         "showlegend": false,
         "subplot": "mapbox",
         "type": "scattermapbox"
        },
        {
         "hoverlabel": {
          "namelength": 0
         },
         "hovertemplate": "type=1<br>route_num=-189<br>lat=%{lat}<br>lon=%{lon}",
         "lat": [
          45.723,
          45.7235,
          45.7235,
          45.723
         ],
         "legendgroup": "1",
         "line": {
          "color": "#EF553B"
         },
         "lon": [
          4.894,
          4.894,
          4.8945,
          4.8945
         ],
         "mode": "lines",
         "name": "1",
         "showlegend": false,
         "subplot": "mapbox",
         "type": "scattermapbox"
        },
        {
         "hoverlabel": {
          "namelength": 0
         },
         "hovertemplate": "type=1<br>route_num=-190<br>lat=%{lat}<br>lon=%{lon}",
         "lat": [
          45.723,
          45.7235,
          45.7235,
          45.723
         ],
         "legendgroup": "1",
         "line": {
          "color": "#EF553B"
         },
         "lon": [
          4.8945,
          4.8945,
          4.895,
          4.895
         ],
         "mode": "lines",
         "name": "1",
         "showlegend": false,
         "subplot": "mapbox",
         "type": "scattermapbox"
        },
        {
         "hoverlabel": {
          "namelength": 0
         },
         "hovertemplate": "type=1<br>route_num=-191<br>lat=%{lat}<br>lon=%{lon}",
         "lat": [
          45.722500000000004,
          45.723000000000006,
          45.723000000000006,
          45.722500000000004
         ],
         "legendgroup": "1",
         "line": {
          "color": "#EF553B"
         },
         "lon": [
          4.8945,
          4.8945,
          4.895,
          4.895
         ],
         "mode": "lines",
         "name": "1",
         "showlegend": false,
         "subplot": "mapbox",
         "type": "scattermapbox"
        },
        {
         "hoverlabel": {
          "namelength": 0
         },
         "hovertemplate": "type=1<br>route_num=-192<br>lat=%{lat}<br>lon=%{lon}",
         "lat": [
          45.722,
          45.722500000000004,
          45.722500000000004,
          45.722
         ],
         "legendgroup": "1",
         "line": {
          "color": "#EF553B"
         },
         "lon": [
          4.8945,
          4.8945,
          4.895,
          4.895
         ],
         "mode": "lines",
         "name": "1",
         "showlegend": false,
         "subplot": "mapbox",
         "type": "scattermapbox"
        },
        {
         "hoverlabel": {
          "namelength": 0
         },
         "hovertemplate": "type=1<br>route_num=-193<br>lat=%{lat}<br>lon=%{lon}",
         "lat": [
          45.7215,
          45.722,
          45.722,
          45.7215
         ],
         "legendgroup": "1",
         "line": {
          "color": "#EF553B"
         },
         "lon": [
          4.8945,
          4.8945,
          4.895,
          4.895
         ],
         "mode": "lines",
         "name": "1",
         "showlegend": false,
         "subplot": "mapbox",
         "type": "scattermapbox"
        },
        {
         "hoverlabel": {
          "namelength": 0
         },
         "hovertemplate": "type=1<br>route_num=-194<br>lat=%{lat}<br>lon=%{lon}",
         "lat": [
          45.7215,
          45.722,
          45.722,
          45.7215
         ],
         "legendgroup": "1",
         "line": {
          "color": "#EF553B"
         },
         "lon": [
          4.894,
          4.894,
          4.8945,
          4.8945
         ],
         "mode": "lines",
         "name": "1",
         "showlegend": false,
         "subplot": "mapbox",
         "type": "scattermapbox"
        },
        {
         "hoverlabel": {
          "namelength": 0
         },
         "hovertemplate": "type=1<br>route_num=-195<br>lat=%{lat}<br>lon=%{lon}",
         "lat": [
          45.721000000000004,
          45.721500000000006,
          45.721500000000006,
          45.721000000000004
         ],
         "legendgroup": "1",
         "line": {
          "color": "#EF553B"
         },
         "lon": [
          4.894,
          4.894,
          4.8945,
          4.8945
         ],
         "mode": "lines",
         "name": "1",
         "showlegend": false,
         "subplot": "mapbox",
         "type": "scattermapbox"
        },
        {
         "hoverlabel": {
          "namelength": 0
         },
         "hovertemplate": "type=1<br>route_num=-196<br>lat=%{lat}<br>lon=%{lon}",
         "lat": [
          45.721000000000004,
          45.721500000000006,
          45.721500000000006,
          45.721000000000004
         ],
         "legendgroup": "1",
         "line": {
          "color": "#EF553B"
         },
         "lon": [
          4.8935,
          4.8935,
          4.894,
          4.894
         ],
         "mode": "lines",
         "name": "1",
         "showlegend": false,
         "subplot": "mapbox",
         "type": "scattermapbox"
        },
        {
         "hoverlabel": {
          "namelength": 0
         },
         "hovertemplate": "type=1<br>route_num=-197<br>lat=%{lat}<br>lon=%{lon}",
         "lat": [
          45.7205,
          45.721000000000004,
          45.721000000000004,
          45.7205
         ],
         "legendgroup": "1",
         "line": {
          "color": "#EF553B"
         },
         "lon": [
          4.8935,
          4.8935,
          4.894,
          4.894
         ],
         "mode": "lines",
         "name": "1",
         "showlegend": false,
         "subplot": "mapbox",
         "type": "scattermapbox"
        },
        {
         "hoverlabel": {
          "namelength": 0
         },
         "hovertemplate": "type=1<br>route_num=-198<br>lat=%{lat}<br>lon=%{lon}",
         "lat": [
          45.72,
          45.7205,
          45.7205,
          45.72
         ],
         "legendgroup": "1",
         "line": {
          "color": "#EF553B"
         },
         "lon": [
          4.8935,
          4.8935,
          4.894,
          4.894
         ],
         "mode": "lines",
         "name": "1",
         "showlegend": false,
         "subplot": "mapbox",
         "type": "scattermapbox"
        },
        {
         "hoverlabel": {
          "namelength": 0
         },
         "hovertemplate": "type=1<br>route_num=-199<br>lat=%{lat}<br>lon=%{lon}",
         "lat": [
          45.72,
          45.7205,
          45.7205,
          45.72
         ],
         "legendgroup": "1",
         "line": {
          "color": "#EF553B"
         },
         "lon": [
          4.893,
          4.893,
          4.8934999999999995,
          4.8934999999999995
         ],
         "mode": "lines",
         "name": "1",
         "showlegend": false,
         "subplot": "mapbox",
         "type": "scattermapbox"
        },
        {
         "hoverlabel": {
          "namelength": 0
         },
         "hovertemplate": "type=1<br>route_num=-200<br>lat=%{lat}<br>lon=%{lon}",
         "lat": [
          45.719500000000004,
          45.720000000000006,
          45.720000000000006,
          45.719500000000004
         ],
         "legendgroup": "1",
         "line": {
          "color": "#EF553B"
         },
         "lon": [
          4.893,
          4.893,
          4.8934999999999995,
          4.8934999999999995
         ],
         "mode": "lines",
         "name": "1",
         "showlegend": false,
         "subplot": "mapbox",
         "type": "scattermapbox"
        },
        {
         "hoverlabel": {
          "namelength": 0
         },
         "hovertemplate": "type=1<br>route_num=-201<br>lat=%{lat}<br>lon=%{lon}",
         "lat": [
          45.719,
          45.719500000000004,
          45.719500000000004,
          45.719
         ],
         "legendgroup": "1",
         "line": {
          "color": "#EF553B"
         },
         "lon": [
          4.893,
          4.893,
          4.8934999999999995,
          4.8934999999999995
         ],
         "mode": "lines",
         "name": "1",
         "showlegend": false,
         "subplot": "mapbox",
         "type": "scattermapbox"
        },
        {
         "hoverlabel": {
          "namelength": 0
         },
         "hovertemplate": "type=1<br>route_num=-202<br>lat=%{lat}<br>lon=%{lon}",
         "lat": [
          45.719,
          45.719500000000004,
          45.719500000000004,
          45.719
         ],
         "legendgroup": "1",
         "line": {
          "color": "#EF553B"
         },
         "lon": [
          4.8925,
          4.8925,
          4.893,
          4.893
         ],
         "mode": "lines",
         "name": "1",
         "showlegend": false,
         "subplot": "mapbox",
         "type": "scattermapbox"
        },
        {
         "hoverlabel": {
          "namelength": 0
         },
         "hovertemplate": "type=1<br>route_num=-203<br>lat=%{lat}<br>lon=%{lon}",
         "lat": [
          45.7185,
          45.719,
          45.719,
          45.7185
         ],
         "legendgroup": "1",
         "line": {
          "color": "#EF553B"
         },
         "lon": [
          4.8925,
          4.8925,
          4.893,
          4.893
         ],
         "mode": "lines",
         "name": "1",
         "showlegend": false,
         "subplot": "mapbox",
         "type": "scattermapbox"
        },
        {
         "hoverlabel": {
          "namelength": 0
         },
         "hovertemplate": "type=1<br>route_num=-204<br>lat=%{lat}<br>lon=%{lon}",
         "lat": [
          45.718,
          45.718500000000006,
          45.718500000000006,
          45.718
         ],
         "legendgroup": "1",
         "line": {
          "color": "#EF553B"
         },
         "lon": [
          4.8925,
          4.8925,
          4.893,
          4.893
         ],
         "mode": "lines",
         "name": "1",
         "showlegend": false,
         "subplot": "mapbox",
         "type": "scattermapbox"
        },
        {
         "hoverlabel": {
          "namelength": 0
         },
         "hovertemplate": "type=1<br>route_num=-205<br>lat=%{lat}<br>lon=%{lon}",
         "lat": [
          45.7175,
          45.718,
          45.718,
          45.7175
         ],
         "legendgroup": "1",
         "line": {
          "color": "#EF553B"
         },
         "lon": [
          4.8925,
          4.8925,
          4.893,
          4.893
         ],
         "mode": "lines",
         "name": "1",
         "showlegend": false,
         "subplot": "mapbox",
         "type": "scattermapbox"
        },
        {
         "hoverlabel": {
          "namelength": 0
         },
         "hovertemplate": "type=1<br>route_num=-206<br>lat=%{lat}<br>lon=%{lon}",
         "lat": [
          45.717,
          45.7175,
          45.7175,
          45.717
         ],
         "legendgroup": "1",
         "line": {
          "color": "#EF553B"
         },
         "lon": [
          4.8925,
          4.8925,
          4.893,
          4.893
         ],
         "mode": "lines",
         "name": "1",
         "showlegend": false,
         "subplot": "mapbox",
         "type": "scattermapbox"
        },
        {
         "hoverlabel": {
          "namelength": 0
         },
         "hovertemplate": "type=1<br>route_num=-207<br>lat=%{lat}<br>lon=%{lon}",
         "lat": [
          45.717,
          45.7175,
          45.7175,
          45.717
         ],
         "legendgroup": "1",
         "line": {
          "color": "#EF553B"
         },
         "lon": [
          4.893,
          4.893,
          4.8934999999999995,
          4.8934999999999995
         ],
         "mode": "lines",
         "name": "1",
         "showlegend": false,
         "subplot": "mapbox",
         "type": "scattermapbox"
        },
        {
         "hoverlabel": {
          "namelength": 0
         },
         "hovertemplate": "type=1<br>route_num=-208<br>lat=%{lat}<br>lon=%{lon}",
         "lat": [
          45.7165,
          45.717000000000006,
          45.717000000000006,
          45.7165
         ],
         "legendgroup": "1",
         "line": {
          "color": "#EF553B"
         },
         "lon": [
          4.893,
          4.893,
          4.8934999999999995,
          4.8934999999999995
         ],
         "mode": "lines",
         "name": "1",
         "showlegend": false,
         "subplot": "mapbox",
         "type": "scattermapbox"
        },
        {
         "hoverlabel": {
          "namelength": 0
         },
         "hovertemplate": "type=1<br>route_num=-209<br>lat=%{lat}<br>lon=%{lon}",
         "lat": [
          45.7165,
          45.717000000000006,
          45.717000000000006,
          45.7165
         ],
         "legendgroup": "1",
         "line": {
          "color": "#EF553B"
         },
         "lon": [
          4.8935,
          4.8935,
          4.894,
          4.894
         ],
         "mode": "lines",
         "name": "1",
         "showlegend": false,
         "subplot": "mapbox",
         "type": "scattermapbox"
        },
        {
         "hoverlabel": {
          "namelength": 0
         },
         "hovertemplate": "type=1<br>route_num=-210<br>lat=%{lat}<br>lon=%{lon}",
         "lat": [
          45.716,
          45.7165,
          45.7165,
          45.716
         ],
         "legendgroup": "1",
         "line": {
          "color": "#EF553B"
         },
         "lon": [
          4.8935,
          4.8935,
          4.894,
          4.894
         ],
         "mode": "lines",
         "name": "1",
         "showlegend": false,
         "subplot": "mapbox",
         "type": "scattermapbox"
        },
        {
         "hoverlabel": {
          "namelength": 0
         },
         "hovertemplate": "type=1<br>route_num=-211<br>lat=%{lat}<br>lon=%{lon}",
         "lat": [
          45.716,
          45.7165,
          45.7165,
          45.716
         ],
         "legendgroup": "1",
         "line": {
          "color": "#EF553B"
         },
         "lon": [
          4.894,
          4.894,
          4.8945,
          4.8945
         ],
         "mode": "lines",
         "name": "1",
         "showlegend": false,
         "subplot": "mapbox",
         "type": "scattermapbox"
        },
        {
         "hoverlabel": {
          "namelength": 0
         },
         "hovertemplate": "type=1<br>route_num=-212<br>lat=%{lat}<br>lon=%{lon}",
         "lat": [
          45.7155,
          45.716,
          45.716,
          45.7155
         ],
         "legendgroup": "1",
         "line": {
          "color": "#EF553B"
         },
         "lon": [
          4.894,
          4.894,
          4.8945,
          4.8945
         ],
         "mode": "lines",
         "name": "1",
         "showlegend": false,
         "subplot": "mapbox",
         "type": "scattermapbox"
        },
        {
         "hoverlabel": {
          "namelength": 0
         },
         "hovertemplate": "type=1<br>route_num=-213<br>lat=%{lat}<br>lon=%{lon}",
         "lat": [
          45.7155,
          45.716,
          45.716,
          45.7155
         ],
         "legendgroup": "1",
         "line": {
          "color": "#EF553B"
         },
         "lon": [
          4.8945,
          4.8945,
          4.895,
          4.895
         ],
         "mode": "lines",
         "name": "1",
         "showlegend": false,
         "subplot": "mapbox",
         "type": "scattermapbox"
        },
        {
         "hoverlabel": {
          "namelength": 0
         },
         "hovertemplate": "type=1<br>route_num=-214<br>lat=%{lat}<br>lon=%{lon}",
         "lat": [
          45.7155,
          45.716,
          45.716,
          45.7155
         ],
         "legendgroup": "1",
         "line": {
          "color": "#EF553B"
         },
         "lon": [
          4.8950000000000005,
          4.8950000000000005,
          4.8955,
          4.8955
         ],
         "mode": "lines",
         "name": "1",
         "showlegend": false,
         "subplot": "mapbox",
         "type": "scattermapbox"
        },
        {
         "hoverlabel": {
          "namelength": 0
         },
         "hovertemplate": "type=1<br>route_num=-215<br>lat=%{lat}<br>lon=%{lon}",
         "lat": [
          45.715,
          45.715500000000006,
          45.715500000000006,
          45.715
         ],
         "legendgroup": "1",
         "line": {
          "color": "#EF553B"
         },
         "lon": [
          4.8950000000000005,
          4.8950000000000005,
          4.8955,
          4.8955
         ],
         "mode": "lines",
         "name": "1",
         "showlegend": false,
         "subplot": "mapbox",
         "type": "scattermapbox"
        },
        {
         "hoverlabel": {
          "namelength": 0
         },
         "hovertemplate": "type=1<br>route_num=-216<br>lat=%{lat}<br>lon=%{lon}",
         "lat": [
          45.715,
          45.715500000000006,
          45.715500000000006,
          45.715
         ],
         "legendgroup": "1",
         "line": {
          "color": "#EF553B"
         },
         "lon": [
          4.8955,
          4.8955,
          4.896,
          4.896
         ],
         "mode": "lines",
         "name": "1",
         "showlegend": false,
         "subplot": "mapbox",
         "type": "scattermapbox"
        },
        {
         "hoverlabel": {
          "namelength": 0
         },
         "hovertemplate": "type=1<br>route_num=-217<br>lat=%{lat}<br>lon=%{lon}",
         "lat": [
          45.715,
          45.715500000000006,
          45.715500000000006,
          45.715
         ],
         "legendgroup": "1",
         "line": {
          "color": "#EF553B"
         },
         "lon": [
          4.896,
          4.896,
          4.8965,
          4.8965
         ],
         "mode": "lines",
         "name": "1",
         "showlegend": false,
         "subplot": "mapbox",
         "type": "scattermapbox"
        },
        {
         "hoverlabel": {
          "namelength": 0
         },
         "hovertemplate": "type=1<br>route_num=-218<br>lat=%{lat}<br>lon=%{lon}",
         "lat": [
          45.7145,
          45.715,
          45.715,
          45.7145
         ],
         "legendgroup": "1",
         "line": {
          "color": "#EF553B"
         },
         "lon": [
          4.896,
          4.896,
          4.8965,
          4.8965
         ],
         "mode": "lines",
         "name": "1",
         "showlegend": false,
         "subplot": "mapbox",
         "type": "scattermapbox"
        },
        {
         "hoverlabel": {
          "namelength": 0
         },
         "hovertemplate": "type=1<br>route_num=-219<br>lat=%{lat}<br>lon=%{lon}",
         "lat": [
          45.7145,
          45.715,
          45.715,
          45.7145
         ],
         "legendgroup": "1",
         "line": {
          "color": "#EF553B"
         },
         "lon": [
          4.8965000000000005,
          4.8965000000000005,
          4.897,
          4.897
         ],
         "mode": "lines",
         "name": "1",
         "showlegend": false,
         "subplot": "mapbox",
         "type": "scattermapbox"
        },
        {
         "hoverlabel": {
          "namelength": 0
         },
         "hovertemplate": "type=1<br>route_num=-220<br>lat=%{lat}<br>lon=%{lon}",
         "lat": [
          45.714000000000006,
          45.71450000000001,
          45.71450000000001,
          45.714000000000006
         ],
         "legendgroup": "1",
         "line": {
          "color": "#EF553B"
         },
         "lon": [
          4.8965000000000005,
          4.8965000000000005,
          4.897,
          4.897
         ],
         "mode": "lines",
         "name": "1",
         "showlegend": false,
         "subplot": "mapbox",
         "type": "scattermapbox"
        },
        {
         "hoverlabel": {
          "namelength": 0
         },
         "hovertemplate": "type=1<br>route_num=-221<br>lat=%{lat}<br>lon=%{lon}",
         "lat": [
          45.714000000000006,
          45.71450000000001,
          45.71450000000001,
          45.714000000000006
         ],
         "legendgroup": "1",
         "line": {
          "color": "#EF553B"
         },
         "lon": [
          4.897,
          4.897,
          4.8975,
          4.8975
         ],
         "mode": "lines",
         "name": "1",
         "showlegend": false,
         "subplot": "mapbox",
         "type": "scattermapbox"
        },
        {
         "hoverlabel": {
          "namelength": 0
         },
         "hovertemplate": "type=1<br>route_num=-222<br>lat=%{lat}<br>lon=%{lon}",
         "lat": [
          45.714000000000006,
          45.71450000000001,
          45.71450000000001,
          45.714000000000006
         ],
         "legendgroup": "1",
         "line": {
          "color": "#EF553B"
         },
         "lon": [
          4.8975,
          4.8975,
          4.898,
          4.898
         ],
         "mode": "lines",
         "name": "1",
         "showlegend": false,
         "subplot": "mapbox",
         "type": "scattermapbox"
        },
        {
         "hoverlabel": {
          "namelength": 0
         },
         "hovertemplate": "type=1<br>route_num=-223<br>lat=%{lat}<br>lon=%{lon}",
         "lat": [
          45.7135,
          45.714000000000006,
          45.714000000000006,
          45.7135
         ],
         "legendgroup": "1",
         "line": {
          "color": "#EF553B"
         },
         "lon": [
          4.8975,
          4.8975,
          4.898,
          4.898
         ],
         "mode": "lines",
         "name": "1",
         "showlegend": false,
         "subplot": "mapbox",
         "type": "scattermapbox"
        },
        {
         "hoverlabel": {
          "namelength": 0
         },
         "hovertemplate": "type=1<br>route_num=-224<br>lat=%{lat}<br>lon=%{lon}",
         "lat": [
          45.7135,
          45.714000000000006,
          45.714000000000006,
          45.7135
         ],
         "legendgroup": "1",
         "line": {
          "color": "#EF553B"
         },
         "lon": [
          4.898000000000001,
          4.898000000000001,
          4.8985,
          4.8985
         ],
         "mode": "lines",
         "name": "1",
         "showlegend": false,
         "subplot": "mapbox",
         "type": "scattermapbox"
        },
        {
         "hoverlabel": {
          "namelength": 0
         },
         "hovertemplate": "type=1<br>route_num=-225<br>lat=%{lat}<br>lon=%{lon}",
         "lat": [
          45.713,
          45.7135,
          45.7135,
          45.713
         ],
         "legendgroup": "1",
         "line": {
          "color": "#EF553B"
         },
         "lon": [
          4.898000000000001,
          4.898000000000001,
          4.8985,
          4.8985
         ],
         "mode": "lines",
         "name": "1",
         "showlegend": false,
         "subplot": "mapbox",
         "type": "scattermapbox"
        },
        {
         "hoverlabel": {
          "namelength": 0
         },
         "hovertemplate": "type=1<br>route_num=-226<br>lat=%{lat}<br>lon=%{lon}",
         "lat": [
          45.713,
          45.7135,
          45.7135,
          45.713
         ],
         "legendgroup": "1",
         "line": {
          "color": "#EF553B"
         },
         "lon": [
          4.8985,
          4.8985,
          4.899,
          4.899
         ],
         "mode": "lines",
         "name": "1",
         "showlegend": false,
         "subplot": "mapbox",
         "type": "scattermapbox"
        },
        {
         "hoverlabel": {
          "namelength": 0
         },
         "hovertemplate": "type=1<br>route_num=-227<br>lat=%{lat}<br>lon=%{lon}",
         "lat": [
          45.713,
          45.7135,
          45.7135,
          45.713
         ],
         "legendgroup": "1",
         "line": {
          "color": "#EF553B"
         },
         "lon": [
          4.899,
          4.899,
          4.8995,
          4.8995
         ],
         "mode": "lines",
         "name": "1",
         "showlegend": false,
         "subplot": "mapbox",
         "type": "scattermapbox"
        },
        {
         "hoverlabel": {
          "namelength": 0
         },
         "hovertemplate": "type=1<br>route_num=-228<br>lat=%{lat}<br>lon=%{lon}",
         "lat": [
          45.712500000000006,
          45.71300000000001,
          45.71300000000001,
          45.712500000000006
         ],
         "legendgroup": "1",
         "line": {
          "color": "#EF553B"
         },
         "lon": [
          4.899,
          4.899,
          4.8995,
          4.8995
         ],
         "mode": "lines",
         "name": "1",
         "showlegend": false,
         "subplot": "mapbox",
         "type": "scattermapbox"
        },
        {
         "hoverlabel": {
          "namelength": 0
         },
         "hovertemplate": "type=1<br>route_num=-229<br>lat=%{lat}<br>lon=%{lon}",
         "lat": [
          45.712500000000006,
          45.71300000000001,
          45.71300000000001,
          45.712500000000006
         ],
         "legendgroup": "1",
         "line": {
          "color": "#EF553B"
         },
         "lon": [
          4.899500000000001,
          4.899500000000001,
          4.9,
          4.9
         ],
         "mode": "lines",
         "name": "1",
         "showlegend": false,
         "subplot": "mapbox",
         "type": "scattermapbox"
        },
        {
         "hoverlabel": {
          "namelength": 0
         },
         "hovertemplate": "type=1<br>route_num=-230<br>lat=%{lat}<br>lon=%{lon}",
         "lat": [
          45.712500000000006,
          45.71300000000001,
          45.71300000000001,
          45.712500000000006
         ],
         "legendgroup": "1",
         "line": {
          "color": "#EF553B"
         },
         "lon": [
          4.9,
          4.9,
          4.9005,
          4.9005
         ],
         "mode": "lines",
         "name": "1",
         "showlegend": false,
         "subplot": "mapbox",
         "type": "scattermapbox"
        },
        {
         "hoverlabel": {
          "namelength": 0
         },
         "hovertemplate": "type=1<br>route_num=-231<br>lat=%{lat}<br>lon=%{lon}",
         "lat": [
          45.712,
          45.712500000000006,
          45.712500000000006,
          45.712
         ],
         "legendgroup": "1",
         "line": {
          "color": "#EF553B"
         },
         "lon": [
          4.9,
          4.9,
          4.9005,
          4.9005
         ],
         "mode": "lines",
         "name": "1",
         "showlegend": false,
         "subplot": "mapbox",
         "type": "scattermapbox"
        },
        {
         "hoverlabel": {
          "namelength": 0
         },
         "hovertemplate": "type=1<br>route_num=-232<br>lat=%{lat}<br>lon=%{lon}",
         "lat": [
          45.712,
          45.712500000000006,
          45.712500000000006,
          45.712
         ],
         "legendgroup": "1",
         "line": {
          "color": "#EF553B"
         },
         "lon": [
          4.9005,
          4.9005,
          4.901,
          4.901
         ],
         "mode": "lines",
         "name": "1",
         "showlegend": false,
         "subplot": "mapbox",
         "type": "scattermapbox"
        },
        {
         "hoverlabel": {
          "namelength": 0
         },
         "hovertemplate": "type=1<br>route_num=-233<br>lat=%{lat}<br>lon=%{lon}",
         "lat": [
          45.7115,
          45.712,
          45.712,
          45.7115
         ],
         "legendgroup": "1",
         "line": {
          "color": "#EF553B"
         },
         "lon": [
          4.9005,
          4.9005,
          4.901,
          4.901
         ],
         "mode": "lines",
         "name": "1",
         "showlegend": false,
         "subplot": "mapbox",
         "type": "scattermapbox"
        },
        {
         "hoverlabel": {
          "namelength": 0
         },
         "hovertemplate": "type=1<br>route_num=-234<br>lat=%{lat}<br>lon=%{lon}",
         "lat": [
          45.7115,
          45.712,
          45.712,
          45.7115
         ],
         "legendgroup": "1",
         "line": {
          "color": "#EF553B"
         },
         "lon": [
          4.901,
          4.901,
          4.9014999999999995,
          4.9014999999999995
         ],
         "mode": "lines",
         "name": "1",
         "showlegend": false,
         "subplot": "mapbox",
         "type": "scattermapbox"
        },
        {
         "hoverlabel": {
          "namelength": 0
         },
         "hovertemplate": "type=1<br>route_num=-235<br>lat=%{lat}<br>lon=%{lon}",
         "lat": [
          45.7115,
          45.712,
          45.712,
          45.7115
         ],
         "legendgroup": "1",
         "line": {
          "color": "#EF553B"
         },
         "lon": [
          4.9015,
          4.9015,
          4.902,
          4.902
         ],
         "mode": "lines",
         "name": "1",
         "showlegend": false,
         "subplot": "mapbox",
         "type": "scattermapbox"
        },
        {
         "hoverlabel": {
          "namelength": 0
         },
         "hovertemplate": "type=1<br>route_num=-236<br>lat=%{lat}<br>lon=%{lon}",
         "lat": [
          45.711000000000006,
          45.71150000000001,
          45.71150000000001,
          45.711000000000006
         ],
         "legendgroup": "1",
         "line": {
          "color": "#EF553B"
         },
         "lon": [
          4.9015,
          4.9015,
          4.902,
          4.902
         ],
         "mode": "lines",
         "name": "1",
         "showlegend": false,
         "subplot": "mapbox",
         "type": "scattermapbox"
        },
        {
         "hoverlabel": {
          "namelength": 0
         },
         "hovertemplate": "type=1<br>route_num=-237<br>lat=%{lat}<br>lon=%{lon}",
         "lat": [
          45.7105,
          45.711000000000006,
          45.711000000000006,
          45.7105
         ],
         "legendgroup": "1",
         "line": {
          "color": "#EF553B"
         },
         "lon": [
          4.9015,
          4.9015,
          4.902,
          4.902
         ],
         "mode": "lines",
         "name": "1",
         "showlegend": false,
         "subplot": "mapbox",
         "type": "scattermapbox"
        },
        {
         "hoverlabel": {
          "namelength": 0
         },
         "hovertemplate": "type=1<br>route_num=-238<br>lat=%{lat}<br>lon=%{lon}",
         "lat": [
          45.7105,
          45.711000000000006,
          45.711000000000006,
          45.7105
         ],
         "legendgroup": "1",
         "line": {
          "color": "#EF553B"
         },
         "lon": [
          4.901,
          4.901,
          4.9014999999999995,
          4.9014999999999995
         ],
         "mode": "lines",
         "name": "1",
         "showlegend": false,
         "subplot": "mapbox",
         "type": "scattermapbox"
        },
        {
         "hoverlabel": {
          "namelength": 0
         },
         "hovertemplate": "type=1<br>route_num=-239<br>lat=%{lat}<br>lon=%{lon}",
         "lat": [
          45.71,
          45.7105,
          45.7105,
          45.71
         ],
         "legendgroup": "1",
         "line": {
          "color": "#EF553B"
         },
         "lon": [
          4.901,
          4.901,
          4.9014999999999995,
          4.9014999999999995
         ],
         "mode": "lines",
         "name": "1",
         "showlegend": false,
         "subplot": "mapbox",
         "type": "scattermapbox"
        },
        {
         "hoverlabel": {
          "namelength": 0
         },
         "hovertemplate": "type=1<br>route_num=-240<br>lat=%{lat}<br>lon=%{lon}",
         "lat": [
          45.71,
          45.7105,
          45.7105,
          45.71
         ],
         "legendgroup": "1",
         "line": {
          "color": "#EF553B"
         },
         "lon": [
          4.9005,
          4.9005,
          4.901,
          4.901
         ],
         "mode": "lines",
         "name": "1",
         "showlegend": false,
         "subplot": "mapbox",
         "type": "scattermapbox"
        },
        {
         "hoverlabel": {
          "namelength": 0
         },
         "hovertemplate": "type=1<br>route_num=-241<br>lat=%{lat}<br>lon=%{lon}",
         "lat": [
          45.709500000000006,
          45.71000000000001,
          45.71000000000001,
          45.709500000000006
         ],
         "legendgroup": "1",
         "line": {
          "color": "#EF553B"
         },
         "lon": [
          4.9005,
          4.9005,
          4.901,
          4.901
         ],
         "mode": "lines",
         "name": "1",
         "showlegend": false,
         "subplot": "mapbox",
         "type": "scattermapbox"
        },
        {
         "hoverlabel": {
          "namelength": 0
         },
         "hovertemplate": "type=1<br>route_num=-242<br>lat=%{lat}<br>lon=%{lon}",
         "lat": [
          45.709500000000006,
          45.71000000000001,
          45.71000000000001,
          45.709500000000006
         ],
         "legendgroup": "1",
         "line": {
          "color": "#EF553B"
         },
         "lon": [
          4.9,
          4.9,
          4.9005,
          4.9005
         ],
         "mode": "lines",
         "name": "1",
         "showlegend": false,
         "subplot": "mapbox",
         "type": "scattermapbox"
        },
        {
         "hoverlabel": {
          "namelength": 0
         },
         "hovertemplate": "type=1<br>route_num=-243<br>lat=%{lat}<br>lon=%{lon}",
         "lat": [
          45.709,
          45.709500000000006,
          45.709500000000006,
          45.709
         ],
         "legendgroup": "1",
         "line": {
          "color": "#EF553B"
         },
         "lon": [
          4.9,
          4.9,
          4.9005,
          4.9005
         ],
         "mode": "lines",
         "name": "1",
         "showlegend": false,
         "subplot": "mapbox",
         "type": "scattermapbox"
        },
        {
         "hoverlabel": {
          "namelength": 0
         },
         "hovertemplate": "type=1<br>route_num=-244<br>lat=%{lat}<br>lon=%{lon}",
         "lat": [
          45.709,
          45.709500000000006,
          45.709500000000006,
          45.709
         ],
         "legendgroup": "1",
         "line": {
          "color": "#EF553B"
         },
         "lon": [
          4.899500000000001,
          4.899500000000001,
          4.9,
          4.9
         ],
         "mode": "lines",
         "name": "1",
         "showlegend": false,
         "subplot": "mapbox",
         "type": "scattermapbox"
        },
        {
         "hoverlabel": {
          "namelength": 0
         },
         "hovertemplate": "type=1<br>route_num=-245<br>lat=%{lat}<br>lon=%{lon}",
         "lat": [
          45.7085,
          45.709,
          45.709,
          45.7085
         ],
         "legendgroup": "1",
         "line": {
          "color": "#EF553B"
         },
         "lon": [
          4.899500000000001,
          4.899500000000001,
          4.9,
          4.9
         ],
         "mode": "lines",
         "name": "1",
         "showlegend": false,
         "subplot": "mapbox",
         "type": "scattermapbox"
        },
        {
         "hoverlabel": {
          "namelength": 0
         },
         "hovertemplate": "type=1<br>route_num=-246<br>lat=%{lat}<br>lon=%{lon}",
         "lat": [
          45.7085,
          45.709,
          45.709,
          45.7085
         ],
         "legendgroup": "1",
         "line": {
          "color": "#EF553B"
         },
         "lon": [
          4.899,
          4.899,
          4.8995,
          4.8995
         ],
         "mode": "lines",
         "name": "1",
         "showlegend": false,
         "subplot": "mapbox",
         "type": "scattermapbox"
        },
        {
         "hoverlabel": {
          "namelength": 0
         },
         "hovertemplate": "type=1<br>route_num=-247<br>lat=%{lat}<br>lon=%{lon}",
         "lat": [
          45.708000000000006,
          45.70850000000001,
          45.70850000000001,
          45.708000000000006
         ],
         "legendgroup": "1",
         "line": {
          "color": "#EF553B"
         },
         "lon": [
          4.899,
          4.899,
          4.8995,
          4.8995
         ],
         "mode": "lines",
         "name": "1",
         "showlegend": false,
         "subplot": "mapbox",
         "type": "scattermapbox"
        },
        {
         "hoverlabel": {
          "namelength": 0
         },
         "hovertemplate": "type=1<br>route_num=-248<br>lat=%{lat}<br>lon=%{lon}",
         "lat": [
          45.708000000000006,
          45.70850000000001,
          45.70850000000001,
          45.708000000000006
         ],
         "legendgroup": "1",
         "line": {
          "color": "#EF553B"
         },
         "lon": [
          4.8985,
          4.8985,
          4.899,
          4.899
         ],
         "mode": "lines",
         "name": "1",
         "showlegend": false,
         "subplot": "mapbox",
         "type": "scattermapbox"
        },
        {
         "hoverlabel": {
          "namelength": 0
         },
         "hovertemplate": "type=1<br>route_num=-249<br>lat=%{lat}<br>lon=%{lon}",
         "lat": [
          45.7075,
          45.708000000000006,
          45.708000000000006,
          45.7075
         ],
         "legendgroup": "1",
         "line": {
          "color": "#EF553B"
         },
         "lon": [
          4.8985,
          4.8985,
          4.899,
          4.899
         ],
         "mode": "lines",
         "name": "1",
         "showlegend": false,
         "subplot": "mapbox",
         "type": "scattermapbox"
        },
        {
         "hoverlabel": {
          "namelength": 0
         },
         "hovertemplate": "type=1<br>route_num=-250<br>lat=%{lat}<br>lon=%{lon}",
         "lat": [
          45.707,
          45.7075,
          45.7075,
          45.707
         ],
         "legendgroup": "1",
         "line": {
          "color": "#EF553B"
         },
         "lon": [
          4.898000000000001,
          4.898000000000001,
          4.8985,
          4.8985
         ],
         "mode": "lines",
         "name": "1",
         "showlegend": false,
         "subplot": "mapbox",
         "type": "scattermapbox"
        },
        {
         "hoverlabel": {
          "namelength": 0
         },
         "hovertemplate": "type=1<br>route_num=-251<br>lat=%{lat}<br>lon=%{lon}",
         "lat": [
          45.707,
          45.7075,
          45.7075,
          45.707
         ],
         "legendgroup": "1",
         "line": {
          "color": "#EF553B"
         },
         "lon": [
          4.8985,
          4.8985,
          4.899,
          4.899
         ],
         "mode": "lines",
         "name": "1",
         "showlegend": false,
         "subplot": "mapbox",
         "type": "scattermapbox"
        },
        {
         "hoverlabel": {
          "namelength": 0
         },
         "hovertemplate": "type=1<br>route_num=-252<br>lat=%{lat}<br>lon=%{lon}",
         "lat": [
          45.706500000000005,
          45.70700000000001,
          45.70700000000001,
          45.706500000000005
         ],
         "legendgroup": "1",
         "line": {
          "color": "#EF553B"
         },
         "lon": [
          4.898000000000001,
          4.898000000000001,
          4.8985,
          4.8985
         ],
         "mode": "lines",
         "name": "1",
         "showlegend": false,
         "subplot": "mapbox",
         "type": "scattermapbox"
        },
        {
         "hoverlabel": {
          "namelength": 0
         },
         "hovertemplate": "type=1<br>route_num=-253<br>lat=%{lat}<br>lon=%{lon}",
         "lat": [
          45.706500000000005,
          45.70700000000001,
          45.70700000000001,
          45.706500000000005
         ],
         "legendgroup": "1",
         "line": {
          "color": "#EF553B"
         },
         "lon": [
          4.8985,
          4.8985,
          4.899,
          4.899
         ],
         "mode": "lines",
         "name": "1",
         "showlegend": false,
         "subplot": "mapbox",
         "type": "scattermapbox"
        },
        {
         "hoverlabel": {
          "namelength": 0
         },
         "hovertemplate": "type=1<br>route_num=-254<br>lat=%{lat}<br>lon=%{lon}",
         "lat": [
          45.706500000000005,
          45.70700000000001,
          45.70700000000001,
          45.706500000000005
         ],
         "legendgroup": "1",
         "line": {
          "color": "#EF553B"
         },
         "lon": [
          4.899,
          4.899,
          4.8995,
          4.8995
         ],
         "mode": "lines",
         "name": "1",
         "showlegend": false,
         "subplot": "mapbox",
         "type": "scattermapbox"
        },
        {
         "hoverlabel": {
          "namelength": 0
         },
         "hovertemplate": "type=1<br>route_num=-255<br>lat=%{lat}<br>lon=%{lon}",
         "lat": [
          45.706,
          45.706500000000005,
          45.706500000000005,
          45.706
         ],
         "legendgroup": "1",
         "line": {
          "color": "#EF553B"
         },
         "lon": [
          4.899,
          4.899,
          4.8995,
          4.8995
         ],
         "mode": "lines",
         "name": "1",
         "showlegend": false,
         "subplot": "mapbox",
         "type": "scattermapbox"
        },
        {
         "hoverlabel": {
          "namelength": 0
         },
         "hovertemplate": "type=1<br>route_num=-256<br>lat=%{lat}<br>lon=%{lon}",
         "lat": [
          45.706,
          45.706500000000005,
          45.706500000000005,
          45.706
         ],
         "legendgroup": "1",
         "line": {
          "color": "#EF553B"
         },
         "lon": [
          4.899500000000001,
          4.899500000000001,
          4.9,
          4.9
         ],
         "mode": "lines",
         "name": "1",
         "showlegend": false,
         "subplot": "mapbox",
         "type": "scattermapbox"
        },
        {
         "hoverlabel": {
          "namelength": 0
         },
         "hovertemplate": "type=1<br>route_num=-257<br>lat=%{lat}<br>lon=%{lon}",
         "lat": [
          45.703,
          45.703500000000005,
          45.703500000000005,
          45.703
         ],
         "legendgroup": "1",
         "line": {
          "color": "#EF553B"
         },
         "lon": [
          4.901,
          4.901,
          4.9014999999999995,
          4.9014999999999995
         ],
         "mode": "lines",
         "name": "1",
         "showlegend": false,
         "subplot": "mapbox",
         "type": "scattermapbox"
        },
        {
         "hoverlabel": {
          "namelength": 0
         },
         "hovertemplate": "type=1<br>route_num=-258<br>lat=%{lat}<br>lon=%{lon}",
         "lat": [
          45.7025,
          45.703,
          45.703,
          45.7025
         ],
         "legendgroup": "1",
         "line": {
          "color": "#EF553B"
         },
         "lon": [
          4.901,
          4.901,
          4.9014999999999995,
          4.9014999999999995
         ],
         "mode": "lines",
         "name": "1",
         "showlegend": false,
         "subplot": "mapbox",
         "type": "scattermapbox"
        },
        {
         "hoverlabel": {
          "namelength": 0
         },
         "hovertemplate": "type=1<br>route_num=-259<br>lat=%{lat}<br>lon=%{lon}",
         "lat": [
          45.706500000000005,
          45.70700000000001,
          45.70700000000001,
          45.706500000000005
         ],
         "legendgroup": "1",
         "line": {
          "color": "#EF553B"
         },
         "lon": [
          4.888,
          4.888,
          4.8885,
          4.8885
         ],
         "mode": "lines",
         "name": "1",
         "showlegend": false,
         "subplot": "mapbox",
         "type": "scattermapbox"
        },
        {
         "hoverlabel": {
          "namelength": 0
         },
         "hovertemplate": "type=1<br>route_num=-260<br>lat=%{lat}<br>lon=%{lon}",
         "lat": [
          45.7145,
          45.715,
          45.715,
          45.7145
         ],
         "legendgroup": "1",
         "line": {
          "color": "#EF553B"
         },
         "lon": [
          4.8955,
          4.8955,
          4.896,
          4.896
         ],
         "mode": "lines",
         "name": "1",
         "showlegend": false,
         "subplot": "mapbox",
         "type": "scattermapbox"
        },
        {
         "hoverlabel": {
          "namelength": 0
         },
         "hovertemplate": "type=1<br>route_num=-261<br>lat=%{lat}<br>lon=%{lon}",
         "lat": [
          45.702000000000005,
          45.70250000000001,
          45.70250000000001,
          45.702000000000005
         ],
         "legendgroup": "1",
         "line": {
          "color": "#EF553B"
         },
         "lon": [
          4.901,
          4.901,
          4.9014999999999995,
          4.9014999999999995
         ],
         "mode": "lines",
         "name": "1",
         "showlegend": false,
         "subplot": "mapbox",
         "type": "scattermapbox"
        },
        {
         "hoverlabel": {
          "namelength": 0
         },
         "hovertemplate": "type=1<br>route_num=-262<br>lat=%{lat}<br>lon=%{lon}",
         "lat": [
          45.702000000000005,
          45.70250000000001,
          45.70250000000001,
          45.702000000000005
         ],
         "legendgroup": "1",
         "line": {
          "color": "#EF553B"
         },
         "lon": [
          4.9005,
          4.9005,
          4.901,
          4.901
         ],
         "mode": "lines",
         "name": "1",
         "showlegend": false,
         "subplot": "mapbox",
         "type": "scattermapbox"
        },
        {
         "hoverlabel": {
          "namelength": 0
         },
         "hovertemplate": "type=1<br>route_num=-263<br>lat=%{lat}<br>lon=%{lon}",
         "lat": [
          45.7015,
          45.702000000000005,
          45.702000000000005,
          45.7015
         ],
         "legendgroup": "1",
         "line": {
          "color": "#EF553B"
         },
         "lon": [
          4.9005,
          4.9005,
          4.901,
          4.901
         ],
         "mode": "lines",
         "name": "1",
         "showlegend": false,
         "subplot": "mapbox",
         "type": "scattermapbox"
        },
        {
         "hoverlabel": {
          "namelength": 0
         },
         "hovertemplate": "type=1<br>route_num=-264<br>lat=%{lat}<br>lon=%{lon}",
         "lat": [
          45.7015,
          45.702000000000005,
          45.702000000000005,
          45.7015
         ],
         "legendgroup": "1",
         "line": {
          "color": "#EF553B"
         },
         "lon": [
          4.9,
          4.9,
          4.9005,
          4.9005
         ],
         "mode": "lines",
         "name": "1",
         "showlegend": false,
         "subplot": "mapbox",
         "type": "scattermapbox"
        },
        {
         "hoverlabel": {
          "namelength": 0
         },
         "hovertemplate": "type=1<br>route_num=-265<br>lat=%{lat}<br>lon=%{lon}",
         "lat": [
          45.701,
          45.7015,
          45.7015,
          45.701
         ],
         "legendgroup": "1",
         "line": {
          "color": "#EF553B"
         },
         "lon": [
          4.9,
          4.9,
          4.9005,
          4.9005
         ],
         "mode": "lines",
         "name": "1",
         "showlegend": false,
         "subplot": "mapbox",
         "type": "scattermapbox"
        },
        {
         "hoverlabel": {
          "namelength": 0
         },
         "hovertemplate": "type=1<br>route_num=-266<br>lat=%{lat}<br>lon=%{lon}",
         "lat": [
          45.701,
          45.7015,
          45.7015,
          45.701
         ],
         "legendgroup": "1",
         "line": {
          "color": "#EF553B"
         },
         "lon": [
          4.899500000000001,
          4.899500000000001,
          4.9,
          4.9
         ],
         "mode": "lines",
         "name": "1",
         "showlegend": false,
         "subplot": "mapbox",
         "type": "scattermapbox"
        },
        {
         "hoverlabel": {
          "namelength": 0
         },
         "hovertemplate": "type=1<br>route_num=-267<br>lat=%{lat}<br>lon=%{lon}",
         "lat": [
          45.701,
          45.7015,
          45.7015,
          45.701
         ],
         "legendgroup": "1",
         "line": {
          "color": "#EF553B"
         },
         "lon": [
          4.899,
          4.899,
          4.8995,
          4.8995
         ],
         "mode": "lines",
         "name": "1",
         "showlegend": false,
         "subplot": "mapbox",
         "type": "scattermapbox"
        }
       ],
       "layout": {
        "legend": {
         "title": {
          "text": "type"
         },
         "tracegroupgap": 0
        },
        "mapbox": {
         "accesstoken": "pk.eyJ1IjoibG1hZ25hbmEiLCJhIjoiY2s2N3hmNzgwMGNnODNqcGJ1N2l2ZXZpdiJ9.-aOxDLM8KbEQnJfXegtl7A",
         "center": {
          "lat": 45.72961154786716,
          "lon": 4.876667708167179
         },
         "domain": {
          "x": [
           0,
           1
          ],
          "y": [
           0,
           1
          ]
         },
         "zoom": 11
        },
        "margin": {
         "t": 60
        },
        "template": {
         "data": {
          "bar": [
           {
            "error_x": {
             "color": "#2a3f5f"
            },
            "error_y": {
             "color": "#2a3f5f"
            },
            "marker": {
             "line": {
              "color": "#E5ECF6",
              "width": 0.5
             }
            },
            "type": "bar"
           }
          ],
          "barpolar": [
           {
            "marker": {
             "line": {
              "color": "#E5ECF6",
              "width": 0.5
             }
            },
            "type": "barpolar"
           }
          ],
          "carpet": [
           {
            "aaxis": {
             "endlinecolor": "#2a3f5f",
             "gridcolor": "white",
             "linecolor": "white",
             "minorgridcolor": "white",
             "startlinecolor": "#2a3f5f"
            },
            "baxis": {
             "endlinecolor": "#2a3f5f",
             "gridcolor": "white",
             "linecolor": "white",
             "minorgridcolor": "white",
             "startlinecolor": "#2a3f5f"
            },
            "type": "carpet"
           }
          ],
          "choropleth": [
           {
            "colorbar": {
             "outlinewidth": 0,
             "ticks": ""
            },
            "type": "choropleth"
           }
          ],
          "contour": [
           {
            "colorbar": {
             "outlinewidth": 0,
             "ticks": ""
            },
            "colorscale": [
             [
              0,
              "#0d0887"
             ],
             [
              0.1111111111111111,
              "#46039f"
             ],
             [
              0.2222222222222222,
              "#7201a8"
             ],
             [
              0.3333333333333333,
              "#9c179e"
             ],
             [
              0.4444444444444444,
              "#bd3786"
             ],
             [
              0.5555555555555556,
              "#d8576b"
             ],
             [
              0.6666666666666666,
              "#ed7953"
             ],
             [
              0.7777777777777778,
              "#fb9f3a"
             ],
             [
              0.8888888888888888,
              "#fdca26"
             ],
             [
              1,
              "#f0f921"
             ]
            ],
            "type": "contour"
           }
          ],
          "contourcarpet": [
           {
            "colorbar": {
             "outlinewidth": 0,
             "ticks": ""
            },
            "type": "contourcarpet"
           }
          ],
          "heatmap": [
           {
            "colorbar": {
             "outlinewidth": 0,
             "ticks": ""
            },
            "colorscale": [
             [
              0,
              "#0d0887"
             ],
             [
              0.1111111111111111,
              "#46039f"
             ],
             [
              0.2222222222222222,
              "#7201a8"
             ],
             [
              0.3333333333333333,
              "#9c179e"
             ],
             [
              0.4444444444444444,
              "#bd3786"
             ],
             [
              0.5555555555555556,
              "#d8576b"
             ],
             [
              0.6666666666666666,
              "#ed7953"
             ],
             [
              0.7777777777777778,
              "#fb9f3a"
             ],
             [
              0.8888888888888888,
              "#fdca26"
             ],
             [
              1,
              "#f0f921"
             ]
            ],
            "type": "heatmap"
           }
          ],
          "heatmapgl": [
           {
            "colorbar": {
             "outlinewidth": 0,
             "ticks": ""
            },
            "colorscale": [
             [
              0,
              "#0d0887"
             ],
             [
              0.1111111111111111,
              "#46039f"
             ],
             [
              0.2222222222222222,
              "#7201a8"
             ],
             [
              0.3333333333333333,
              "#9c179e"
             ],
             [
              0.4444444444444444,
              "#bd3786"
             ],
             [
              0.5555555555555556,
              "#d8576b"
             ],
             [
              0.6666666666666666,
              "#ed7953"
             ],
             [
              0.7777777777777778,
              "#fb9f3a"
             ],
             [
              0.8888888888888888,
              "#fdca26"
             ],
             [
              1,
              "#f0f921"
             ]
            ],
            "type": "heatmapgl"
           }
          ],
          "histogram": [
           {
            "marker": {
             "colorbar": {
              "outlinewidth": 0,
              "ticks": ""
             }
            },
            "type": "histogram"
           }
          ],
          "histogram2d": [
           {
            "colorbar": {
             "outlinewidth": 0,
             "ticks": ""
            },
            "colorscale": [
             [
              0,
              "#0d0887"
             ],
             [
              0.1111111111111111,
              "#46039f"
             ],
             [
              0.2222222222222222,
              "#7201a8"
             ],
             [
              0.3333333333333333,
              "#9c179e"
             ],
             [
              0.4444444444444444,
              "#bd3786"
             ],
             [
              0.5555555555555556,
              "#d8576b"
             ],
             [
              0.6666666666666666,
              "#ed7953"
             ],
             [
              0.7777777777777778,
              "#fb9f3a"
             ],
             [
              0.8888888888888888,
              "#fdca26"
             ],
             [
              1,
              "#f0f921"
             ]
            ],
            "type": "histogram2d"
           }
          ],
          "histogram2dcontour": [
           {
            "colorbar": {
             "outlinewidth": 0,
             "ticks": ""
            },
            "colorscale": [
             [
              0,
              "#0d0887"
             ],
             [
              0.1111111111111111,
              "#46039f"
             ],
             [
              0.2222222222222222,
              "#7201a8"
             ],
             [
              0.3333333333333333,
              "#9c179e"
             ],
             [
              0.4444444444444444,
              "#bd3786"
             ],
             [
              0.5555555555555556,
              "#d8576b"
             ],
             [
              0.6666666666666666,
              "#ed7953"
             ],
             [
              0.7777777777777778,
              "#fb9f3a"
             ],
             [
              0.8888888888888888,
              "#fdca26"
             ],
             [
              1,
              "#f0f921"
             ]
            ],
            "type": "histogram2dcontour"
           }
          ],
          "mesh3d": [
           {
            "colorbar": {
             "outlinewidth": 0,
             "ticks": ""
            },
            "type": "mesh3d"
           }
          ],
          "parcoords": [
           {
            "line": {
             "colorbar": {
              "outlinewidth": 0,
              "ticks": ""
             }
            },
            "type": "parcoords"
           }
          ],
          "pie": [
           {
            "automargin": true,
            "type": "pie"
           }
          ],
          "scatter": [
           {
            "marker": {
             "colorbar": {
              "outlinewidth": 0,
              "ticks": ""
             }
            },
            "type": "scatter"
           }
          ],
          "scatter3d": [
           {
            "line": {
             "colorbar": {
              "outlinewidth": 0,
              "ticks": ""
             }
            },
            "marker": {
             "colorbar": {
              "outlinewidth": 0,
              "ticks": ""
             }
            },
            "type": "scatter3d"
           }
          ],
          "scattercarpet": [
           {
            "marker": {
             "colorbar": {
              "outlinewidth": 0,
              "ticks": ""
             }
            },
            "type": "scattercarpet"
           }
          ],
          "scattergeo": [
           {
            "marker": {
             "colorbar": {
              "outlinewidth": 0,
              "ticks": ""
             }
            },
            "type": "scattergeo"
           }
          ],
          "scattergl": [
           {
            "marker": {
             "colorbar": {
              "outlinewidth": 0,
              "ticks": ""
             }
            },
            "type": "scattergl"
           }
          ],
          "scattermapbox": [
           {
            "marker": {
             "colorbar": {
              "outlinewidth": 0,
              "ticks": ""
             }
            },
            "type": "scattermapbox"
           }
          ],
          "scatterpolar": [
           {
            "marker": {
             "colorbar": {
              "outlinewidth": 0,
              "ticks": ""
             }
            },
            "type": "scatterpolar"
           }
          ],
          "scatterpolargl": [
           {
            "marker": {
             "colorbar": {
              "outlinewidth": 0,
              "ticks": ""
             }
            },
            "type": "scatterpolargl"
           }
          ],
          "scatterternary": [
           {
            "marker": {
             "colorbar": {
              "outlinewidth": 0,
              "ticks": ""
             }
            },
            "type": "scatterternary"
           }
          ],
          "surface": [
           {
            "colorbar": {
             "outlinewidth": 0,
             "ticks": ""
            },
            "colorscale": [
             [
              0,
              "#0d0887"
             ],
             [
              0.1111111111111111,
              "#46039f"
             ],
             [
              0.2222222222222222,
              "#7201a8"
             ],
             [
              0.3333333333333333,
              "#9c179e"
             ],
             [
              0.4444444444444444,
              "#bd3786"
             ],
             [
              0.5555555555555556,
              "#d8576b"
             ],
             [
              0.6666666666666666,
              "#ed7953"
             ],
             [
              0.7777777777777778,
              "#fb9f3a"
             ],
             [
              0.8888888888888888,
              "#fdca26"
             ],
             [
              1,
              "#f0f921"
             ]
            ],
            "type": "surface"
           }
          ],
          "table": [
           {
            "cells": {
             "fill": {
              "color": "#EBF0F8"
             },
             "line": {
              "color": "white"
             }
            },
            "header": {
             "fill": {
              "color": "#C8D4E3"
             },
             "line": {
              "color": "white"
             }
            },
            "type": "table"
           }
          ]
         },
         "layout": {
          "annotationdefaults": {
           "arrowcolor": "#2a3f5f",
           "arrowhead": 0,
           "arrowwidth": 1
          },
          "coloraxis": {
           "colorbar": {
            "outlinewidth": 0,
            "ticks": ""
           }
          },
          "colorscale": {
           "diverging": [
            [
             0,
             "#8e0152"
            ],
            [
             0.1,
             "#c51b7d"
            ],
            [
             0.2,
             "#de77ae"
            ],
            [
             0.3,
             "#f1b6da"
            ],
            [
             0.4,
             "#fde0ef"
            ],
            [
             0.5,
             "#f7f7f7"
            ],
            [
             0.6,
             "#e6f5d0"
            ],
            [
             0.7,
             "#b8e186"
            ],
            [
             0.8,
             "#7fbc41"
            ],
            [
             0.9,
             "#4d9221"
            ],
            [
             1,
             "#276419"
            ]
           ],
           "sequential": [
            [
             0,
             "#0d0887"
            ],
            [
             0.1111111111111111,
             "#46039f"
            ],
            [
             0.2222222222222222,
             "#7201a8"
            ],
            [
             0.3333333333333333,
             "#9c179e"
            ],
            [
             0.4444444444444444,
             "#bd3786"
            ],
            [
             0.5555555555555556,
             "#d8576b"
            ],
            [
             0.6666666666666666,
             "#ed7953"
            ],
            [
             0.7777777777777778,
             "#fb9f3a"
            ],
            [
             0.8888888888888888,
             "#fdca26"
            ],
            [
             1,
             "#f0f921"
            ]
           ],
           "sequentialminus": [
            [
             0,
             "#0d0887"
            ],
            [
             0.1111111111111111,
             "#46039f"
            ],
            [
             0.2222222222222222,
             "#7201a8"
            ],
            [
             0.3333333333333333,
             "#9c179e"
            ],
            [
             0.4444444444444444,
             "#bd3786"
            ],
            [
             0.5555555555555556,
             "#d8576b"
            ],
            [
             0.6666666666666666,
             "#ed7953"
            ],
            [
             0.7777777777777778,
             "#fb9f3a"
            ],
            [
             0.8888888888888888,
             "#fdca26"
            ],
            [
             1,
             "#f0f921"
            ]
           ]
          },
          "colorway": [
           "#636efa",
           "#EF553B",
           "#00cc96",
           "#ab63fa",
           "#FFA15A",
           "#19d3f3",
           "#FF6692",
           "#B6E880",
           "#FF97FF",
           "#FECB52"
          ],
          "font": {
           "color": "#2a3f5f"
          },
          "geo": {
           "bgcolor": "white",
           "lakecolor": "white",
           "landcolor": "#E5ECF6",
           "showlakes": true,
           "showland": true,
           "subunitcolor": "white"
          },
          "hoverlabel": {
           "align": "left"
          },
          "hovermode": "closest",
          "mapbox": {
           "style": "light"
          },
          "paper_bgcolor": "white",
          "plot_bgcolor": "#E5ECF6",
          "polar": {
           "angularaxis": {
            "gridcolor": "white",
            "linecolor": "white",
            "ticks": ""
           },
           "bgcolor": "#E5ECF6",
           "radialaxis": {
            "gridcolor": "white",
            "linecolor": "white",
            "ticks": ""
           }
          },
          "scene": {
           "xaxis": {
            "backgroundcolor": "#E5ECF6",
            "gridcolor": "white",
            "gridwidth": 2,
            "linecolor": "white",
            "showbackground": true,
            "ticks": "",
            "zerolinecolor": "white"
           },
           "yaxis": {
            "backgroundcolor": "#E5ECF6",
            "gridcolor": "white",
            "gridwidth": 2,
            "linecolor": "white",
            "showbackground": true,
            "ticks": "",
            "zerolinecolor": "white"
           },
           "zaxis": {
            "backgroundcolor": "#E5ECF6",
            "gridcolor": "white",
            "gridwidth": 2,
            "linecolor": "white",
            "showbackground": true,
            "ticks": "",
            "zerolinecolor": "white"
           }
          },
          "shapedefaults": {
           "line": {
            "color": "#2a3f5f"
           }
          },
          "ternary": {
           "aaxis": {
            "gridcolor": "white",
            "linecolor": "white",
            "ticks": ""
           },
           "baxis": {
            "gridcolor": "white",
            "linecolor": "white",
            "ticks": ""
           },
           "bgcolor": "#E5ECF6",
           "caxis": {
            "gridcolor": "white",
            "linecolor": "white",
            "ticks": ""
           }
          },
          "title": {
           "x": 0.05
          },
          "xaxis": {
           "automargin": true,
           "gridcolor": "white",
           "linecolor": "white",
           "ticks": "",
           "title": {
            "standoff": 15
           },
           "zerolinecolor": "white",
           "zerolinewidth": 2
          },
          "yaxis": {
           "automargin": true,
           "gridcolor": "white",
           "linecolor": "white",
           "ticks": "",
           "title": {
            "standoff": 15
           },
           "zerolinecolor": "white",
           "zerolinewidth": 2
          }
         }
        }
       }
      },
      "text/html": [
       "<div>\n",
       "        \n",
       "        \n",
       "            <div id=\"fcb4aaf9-4aa6-4b17-a3cd-6bb7e55abb64\" class=\"plotly-graph-div\" style=\"height:525px; width:100%;\"></div>\n",
       "            <script type=\"text/javascript\">\n",
       "                require([\"plotly\"], function(Plotly) {\n",
       "                    window.PLOTLYENV=window.PLOTLYENV || {};\n",
       "                    \n",
       "                if (document.getElementById(\"fcb4aaf9-4aa6-4b17-a3cd-6bb7e55abb64\")) {\n",
       "                    Plotly.newPlot(\n",
       "                        'fcb4aaf9-4aa6-4b17-a3cd-6bb7e55abb64',\n",
       "                        [{\"hoverlabel\": {\"namelength\": 0}, \"hovertemplate\": \"type=0<br>route_num=1<br>lat=%{lat}<br>lon=%{lon}\", \"lat\": [45.7597379, 45.7594543, 45.75876832, 45.75807992, 45.75672044, 45.75490154, 45.75487488, 45.75438988, 45.75276134, 45.75101162, 45.75081634, 45.75039882, 45.75035424, 45.74903047, 45.74719221, 45.74502268, 45.74296191, 45.74143137, 45.73917602, 45.73706151, 45.73502972, 45.7345798, 45.72093785, 45.71977639, 45.7183188, 45.71173528, 45.70800263, 45.70688691, 45.70689246, 45.70654918, 45.70613218, 45.70543845, 45.70300388, 45.70229707, 45.70212037, 45.70171149, 45.70297177, 45.70331486, 45.70448637, 45.70491583, 45.70564567, 45.70455069, 45.70374964, 45.70332643, 45.7032535, 45.70356367], \"legendgroup\": \"0\", \"line\": {\"color\": \"#636efa\"}, \"lon\": [4.87564968, 4.87562544, 4.87633725, 4.87662766, 4.87622178, 4.87596118, 4.87512089, 4.87341389, 4.86970291, 4.87295691, 4.87365467, 4.87390946, 4.87374888, 4.87321552, 4.87198515, 4.87098524, 4.86975812, 4.86862736, 4.86650606, 4.86510099, 4.86345003, 4.8633533, 4.87386039, 4.87489447, 4.87586047, 4.88113473, 4.88690401, 4.88736774, 4.88777587, 4.88787811, 4.88887657, 4.88902773, 4.8951566, 4.89619978, 4.89726056, 4.89835119, 4.89945834, 4.89900966, 4.90010707, 4.89980376, 4.900549, 4.9024579, 4.90158739, 4.90199092, 4.90184727, 4.901477], \"mode\": \"lines\", \"name\": \"0\", \"showlegend\": true, \"subplot\": \"mapbox\", \"type\": \"scattermapbox\"}, {\"hoverlabel\": {\"namelength\": 0}, \"hovertemplate\": \"type=0<br>route_num=2<br>lat=%{lat}<br>lon=%{lon}\", \"lat\": [45.7230953, 45.72382033, 45.72583608, 45.72630913, 45.72623379, 45.72687459, 45.72752489, 45.72949354, 45.729689, 45.73195256, 45.73282947, 45.7335897, 45.73506583, 45.73574677, 45.73643711, 45.73659903, 45.7366749, 45.73694775, 45.73738502, 45.73776569, 45.74096835, 45.7406203, 45.74119348, 45.74133871, 45.74206439, 45.7425789, 45.74309047, 45.74309398, 45.74319773, 45.7433009, 45.74393003, 45.7440699, 45.74447857, 45.74477346, 45.7448999, 45.74511895, 45.74532954, 45.74546046, 45.74580347, 45.74698356, 45.7473684, 45.74775027, 45.74884758, 45.74929317, 45.74955984, 45.74982993, 45.7500733, 45.75078643, 45.75081999, 45.75118444, 45.7511554, 45.75133754, 45.75160773, 45.7509313, 45.75177694, 45.75218921, 45.7516919, 45.75301496, 45.75346246, 45.75401461, 45.7540859, 45.7535452, 45.75418975, 45.75475577, 45.75510126, 45.7556144, 45.7547489, 45.75595721, 45.75583923, 45.75779576, 45.75849243, 45.75943892, 45.75966824, 45.75980814, 45.76205217, 45.76275823, 45.76342942, 45.76353364, 45.76375649, 45.76382654, 45.76466509, 45.76500485, 45.76510847, 45.76516963, 45.76511078, 45.76588897, 45.76771331, 45.76801211, 45.76865203, 45.768757, 45.76877931, 45.76943536, 45.76997534, 45.77029001, 45.77051062, 45.77198674, 45.77205486, 45.77199885, 45.7722979, 45.7721971, 45.772315, 45.7723043], \"legendgroup\": \"0\", \"line\": {\"color\": \"#636efa\"}, \"lon\": [4.8939493, 4.89287008, 4.8875351, 4.88691166, 4.8865893, 4.88559149, 4.88413025, 4.87904356, 4.87901033, 4.8758138, 4.87493762, 4.87369338, 4.87396333, 4.87387318, 4.87398977, 4.87387058, 4.87400069, 4.87388134, 4.87404439, 4.87393082, 4.87419431, 4.8741872, 4.8740932, 4.87383561, 4.87417754, 4.87409188, 4.87415062, 4.87426185, 4.8741574, 4.8742931, 4.87426365, 4.8744644, 4.87442477, 4.87483314, 4.87471664, 4.87493838, 4.87496728, 4.87481096, 4.87502279, 4.87495517, 4.87521885, 4.87515932, 4.87550595, 4.87540259, 4.87555386, 4.8754239, 4.8757029, 4.87599317, 4.87576891, 4.87639651, 4.8761946, 4.87614297, 4.87647067, 4.8761732, 4.87656032, 4.8764943, 4.8765191, 4.87679628, 4.87670228, 4.87727436, 4.87713526, 4.8769072, 4.87722946, 4.87708904, 4.8772923, 4.87694285, 4.877154, 4.8768852, 4.87618215, 4.87654765, 4.87649453, 4.87574669, 4.87581097, 4.87550256, 4.87396757, 4.87407823, 4.87386188, 4.87408234, 4.87399586, 4.87418135, 4.87391713, 4.87401476, 4.87384614, 4.8740217, 4.87385169, 4.87399196, 4.87377494, 4.87392461, 4.87367573, 4.8738164, 4.87364705, 4.87374894, 4.8736403, 4.87338278, 4.87368942, 4.87364442, 4.87333746, 4.87365951, 4.8737504, 4.8737274, 4.8736376, 4.8737455], \"mode\": \"lines\", \"name\": \"0\", \"showlegend\": false, \"subplot\": \"mapbox\", \"type\": \"scattermapbox\"}, {\"hoverlabel\": {\"namelength\": 0}, \"hovertemplate\": \"type=0<br>route_num=3<br>lat=%{lat}<br>lon=%{lon}\", \"lat\": [45.7445746, 45.73920054, 45.73700523, 45.73514314, 45.73406648, 45.73329728, 45.73293398, 45.73101872, 45.73081336, 45.73046522, 45.730735, 45.72991307, 45.728951, 45.72766083, 45.72625247, 45.7248766, 45.7249371, 45.72478675, 45.72406521, 45.72304526, 45.72250846, 45.72213253, 45.72176256, 45.7210574, 45.7218969, 45.72095293, 45.71888864, 45.71766848, 45.71701331, 45.71638037, 45.7114127, 45.70750958, 45.7067751, 45.70730874, 45.70714061, 45.70631697, 45.7064312, 45.70624937, 45.70453395, 45.70369306, 45.704207, 45.70358757, 45.70338291, 45.7037776, 45.70328372, 45.70355075, 45.7034948], \"legendgroup\": \"0\", \"line\": {\"color\": \"#636efa\"}, \"lon\": [4.8857103, 4.88509311, 4.88416514, 4.88247747, 4.8808851, 4.87938661, 4.87949835, 4.87759348, 4.87755764, 4.87810686, 4.8780423, 4.87871063, 4.88028587, 4.88368902, 4.88667034, 4.89051598, 4.8896429, 4.89074411, 4.89264206, 4.89468059, 4.89495249, 4.89475968, 4.89429237, 4.89391188, 4.8940955, 4.89385817, 4.89280105, 4.89282686, 4.89312604, 4.89376793, 4.90192582, 4.89844268, 4.8984826, 4.89829486, 4.89816872, 4.89950059, 4.8995818, 4.89967156, 4.9024888, 4.90159316, 4.9019106, 4.90163017, 4.90199195, 4.9016871, 4.90191169, 4.90164138, 4.9014428], \"mode\": \"lines\", \"name\": \"0\", \"showlegend\": false, \"subplot\": \"mapbox\", \"type\": \"scattermapbox\"}, {\"hoverlabel\": {\"namelength\": 0}, \"hovertemplate\": \"type=0<br>route_num=4<br>lat=%{lat}<br>lon=%{lon}\", \"lat\": [45.7050478, 45.70584458, 45.70655488, 45.70671115, 45.70830372, 45.71174956, 45.71511486, 45.71533269, 45.71523176, 45.7177204, 45.71832546, 45.71921697, 45.71941347, 45.71982294, 45.72098041, 45.72464772, 45.72672386, 45.72691181, 45.72865159, 45.72932122, 45.7289403, 45.7302325, 45.73111519, 45.73179257, 45.7308518, 45.73319042, 45.73348937, 45.73427408, 45.73476759, 45.73610477, 45.73640139, 45.735724, 45.73705584, 45.73754651, 45.73788087, 45.73789767, 45.73861964, 45.73928161, 45.7387678, 45.73930847, 45.73934404, 45.74003351, 45.74207973, 45.74308115, 45.7435328, 45.74393341, 45.7439092, 45.74402784, 45.74506837, 45.74533549, 45.7457843, 45.74562185, 45.74588154, 45.7457843, 45.74591659, 45.74568987, 45.74559965, 45.74585775, 45.74566484, 45.74568404, 45.7458815, 45.74582661, 45.7460157, 45.74603272, 45.74628944, 45.74670083, 45.74767946, 45.74922126, 45.75155062, 45.75217729, 45.75258877, 45.75556675, 45.75819614, 45.75927592, 45.7592616, 45.75948901, 45.75970637, 45.7593507, 45.75982347, 45.76299968, 45.76364017, 45.76414467, 45.76478398, 45.76580311, 45.76675315, 45.76852346, 45.76881176, 45.76902331, 45.76973345, 45.77062167, 45.77072341, 45.77138008, 45.77259408, 45.77337065, 45.7732412, 45.77245602, 45.77263461, 45.77284277, 45.77466759, 45.77491538, 45.77481954, 45.77530627, 45.77312816, 45.77296988, 45.77264819], \"legendgroup\": \"0\", \"line\": {\"color\": \"#636efa\"}, \"lon\": [4.8911655, 4.88908049, 4.88831771, 4.88788954, 4.88709401, 4.88144969, 4.8789182, 4.87871224, 4.87829914, 4.87646973, 4.87586207, 4.87544996, 4.87510728, 4.87494101, 4.87378697, 4.87097218, 4.86364169, 4.86243545, 4.86093199, 4.86060724, 4.8610329, 4.85998455, 4.8597362, 4.85918463, 4.8597667, 4.85832299, 4.8583357, 4.85754422, 4.85736906, 4.85596116, 4.85546699, 4.8562796, 4.85469482, 4.85356045, 4.85328361, 4.85339195, 4.85217349, 4.85194446, 4.8520175, 4.8519404, 4.85007742, 4.8489019, 4.84793719, 4.84698009, 4.84712119, 4.8457492, 4.8463259, 4.84557542, 4.84247403, 4.84108716, 4.8403024, 4.84035481, 4.83977529, 4.8403024, 4.8396842, 4.83921768, 4.83819248, 4.83657711, 4.83621679, 4.83577466, 4.8351557, 4.83385629, 4.8338318, 4.83299655, 4.83225222, 4.83235383, 4.83297783, 4.83416267, 4.83618702, 4.83697029, 4.83673228, 4.83896891, 4.84027251, 4.84060892, 4.840283, 4.84064428, 4.84066628, 4.8402574, 4.84066907, 4.8409316, 4.84085802, 4.84109713, 4.84112349, 4.84090542, 4.84099216, 4.84071996, 4.84046489, 4.84062193, 4.84069211, 4.84052368, 4.8406606, 4.84071568, 4.84060931, 4.84127998, 4.8420483, 4.84075414, 4.83869308, 4.83848977, 4.81344924, 4.81189736, 4.81021528, 4.80532627, 4.80547639, 4.80518715, 4.80506854], \"mode\": \"lines\", \"name\": \"0\", \"showlegend\": false, \"subplot\": \"mapbox\", \"type\": \"scattermapbox\"}, {\"hoverlabel\": {\"namelength\": 0}, \"hovertemplate\": \"type=0<br>route_num=5<br>lat=%{lat}<br>lon=%{lon}\", \"lat\": [45.70338405, 45.70378305, 45.70463165, 45.70566698, 45.70699421, 45.7072392, 45.70906518, 45.71037336, 45.71084104, 45.7112157, 45.71574078, 45.71658261, 45.7156486, 45.71673581, 45.71721708, 45.7156486, 45.71733044, 45.71800952, 45.7189091, 45.7191932, 45.71906606, 45.72180165, 45.7219812, 45.72194031, 45.72244305, 45.7219812, 45.72262143, 45.72296997, 45.72429807, 45.72628253, 45.72737416, 45.72902062, 45.73333287, 45.73600564, 45.7350833, 45.73612026, 45.73860625, 45.7379802, 45.7388185, 45.74169629, 45.74203231, 45.74236609, 45.74316707, 45.74453861, 45.74559432, 45.74986897, 45.75191079, 45.75351265, 45.7539264, 45.75474974, 45.75502945, 45.75595965, 45.7558567, 45.75772146, 45.7567084, 45.75832694, 45.75916317, 45.7596542, 45.76065453, 45.76230794, 45.76274605, 45.76297592, 45.7635006, 45.76378957, 45.76428998, 45.76526491, 45.76715138, 45.76997562, 45.77049605, 45.77175632, 45.77185722, 45.77201323], \"legendgroup\": \"0\", \"line\": {\"color\": \"#636efa\"}, \"lon\": [4.9018909, 4.90160731, 4.90253407, 4.90053498, 4.89855978, 4.89843965, 4.90022046, 4.9012394, 4.90192531, 4.90217194, 4.89465365, 4.89358414, 4.8928369, 4.89341363, 4.89306418, 4.8928369, 4.89299282, 4.89279196, 4.89286698, 4.892399, 4.89295417, 4.89438053, 4.8940616, 4.89448899, 4.89496615, 4.8940616, 4.89492365, 4.89463509, 4.89195731, 4.88661687, 4.88435149, 4.88010785, 4.87388166, 4.87402197, 4.8738022, 4.87401746, 4.87407922, 4.8738456, 4.87407392, 4.87425328, 4.87399174, 4.87417155, 4.87419818, 4.87454707, 4.87494225, 4.8756958, 4.87665074, 4.87695578, 4.87718773, 4.87715432, 4.87734885, 4.87691563, 4.87616261, 4.87658216, 4.8762255, 4.87664993, 4.8760105, 4.87589664, 4.87487291, 4.87387785, 4.87408426, 4.87396388, 4.87403864, 4.8742409, 4.87402406, 4.87406639, 4.87381779, 4.87378291, 4.87362494, 4.87363972, 4.87375771, 4.87346496], \"mode\": \"lines\", \"name\": \"0\", \"showlegend\": false, \"subplot\": \"mapbox\", \"type\": \"scattermapbox\"}, {\"hoverlabel\": {\"namelength\": 0}, \"hovertemplate\": \"type=0<br>route_num=6<br>lat=%{lat}<br>lon=%{lon}\", \"lat\": [45.7706319, 45.76970102, 45.76657174, 45.76525804, 45.76408561, 45.76359778, 45.76326121, 45.76333195, 45.76271054, 45.76235605, 45.76239722, 45.76110276, 45.7611251, 45.76095675, 45.75926996, 45.75819179, 45.758347, 45.7581237, 45.75724853, 45.75591311, 45.75502929, 45.75393116, 45.748535, 45.74793065, 45.74805951, 45.74669946, 45.74541334, 45.7453261, 45.74314109, 45.73858635, 45.73729525, 45.73623252, 45.73455023, 45.7348501, 45.7333127, 45.73290292, 45.7309231, 45.73021901, 45.7307235, 45.73011114, 45.72991105, 45.7307235, 45.72985239, 45.72953238, 45.7296867, 45.72898083, 45.72858492, 45.7286084, 45.72811335, 45.727232, 45.72628492, 45.72458224, 45.72301906, 45.7225956, 45.72171757, 45.71918826, 45.71855584, 45.71782389, 45.71671802, 45.71569015, 45.71140984, 45.71127486, 45.71065274, 45.70867096, 45.70715515, 45.70452627, 45.7034818, 45.70368785, 45.70332474, 45.7036997, 45.70325759, 45.70651512, 45.70726716, 45.70741233, 45.7080438, 45.7067748, 45.70167097, 45.70102723, 45.69820375, 45.69782489, 45.69679043, 45.69739167, 45.69740978, 45.69722513, 45.69692532, 45.69642197, 45.69640858], \"legendgroup\": \"0\", \"line\": {\"color\": \"#636efa\"}, \"lon\": [4.87373096, 4.87365583, 4.87406836, 4.87399338, 4.87421397, 4.87447957, 4.87593926, 4.87631195, 4.87777122, 4.87927393, 4.87970057, 4.88410908, 4.88467127, 4.88488467, 4.88498833, 4.88521214, 4.8852964, 4.88512516, 4.88518946, 4.88533257, 4.88559867, 4.88564527, 4.88369634, 4.88416323, 4.88494632, 4.88487812, 4.88505982, 4.88577664, 4.88554178, 4.88472072, 4.88418046, 4.88344607, 4.88150324, 4.882167, 4.8792426, 4.87932571, 4.87738922, 4.8781888, 4.8780867, 4.87833969, 4.87868006, 4.8780867, 4.87879809, 4.87933042, 4.8792683, 4.88017878, 4.88130639, 4.8817042, 4.88254178, 4.88490346, 4.88660111, 4.89133427, 4.89466828, 4.89496963, 4.89419637, 4.8928476, 4.89264682, 4.89270553, 4.89333852, 4.89468635, 4.90191697, 4.90162183, 4.90125982, 4.89936482, 4.89819737, 4.9024812, 4.9014352, 4.90161303, 4.90214622, 4.9019638, 4.90252537, 4.90648316, 4.90749235, 4.9079315, 4.9082065, 4.9094647, 4.91813755, 4.91881686, 4.92350515, 4.92677854, 4.94191807, 4.94231605, 4.94369511, 4.94428857, 4.94459031, 4.94476111, 4.94441304], \"mode\": \"lines\", \"name\": \"0\", \"showlegend\": false, \"subplot\": \"mapbox\", \"type\": \"scattermapbox\"}, {\"hoverlabel\": {\"namelength\": 0}, \"hovertemplate\": \"type=0<br>route_num=7<br>lat=%{lat}<br>lon=%{lon}\", \"lat\": [45.6967855, 45.69687379, 45.6963851, 45.6964151, 45.69730613, 45.69750003, 45.69738827, 45.69694877, 45.69689, 45.69807537, 45.70762097, 45.70731727, 45.70740998, 45.70451185, 45.70409135, 45.70322634, 45.7036082, 45.7034503], \"legendgroup\": \"0\", \"line\": {\"color\": \"#636efa\"}, \"lon\": [4.9442898, 4.94444183, 4.94441006, 4.94487546, 4.94447042, 4.94368596, 4.94213853, 4.9418843, 4.94160373, 4.92373035, 4.90820142, 4.90785319, 4.90743564, 4.90395451, 4.90326247, 4.90239854, 4.90151037, 4.9014494], \"mode\": \"lines\", \"name\": \"0\", \"showlegend\": false, \"subplot\": \"mapbox\", \"type\": \"scattermapbox\"}, {\"hoverlabel\": {\"namelength\": 0}, \"hovertemplate\": \"type=0<br>route_num=8<br>lat=%{lat}<br>lon=%{lon}\", \"lat\": [45.7039401, 45.70455622, 45.70474744, 45.70631273, 45.70720904, 45.7103552, 45.71092281, 45.71125629, 45.71569744, 45.71673312, 45.71766456, 45.71905749, 45.72149768, 45.72248549, 45.72305752, 45.72446868, 45.72626246, 45.72740883, 45.72906673, 45.7285206, 45.72943169, 45.73349198, 45.73499784, 45.73580214, 45.73638213, 45.7354234, 45.73656775, 45.73700647, 45.73739811, 45.7374161, 45.7388325, 45.73944728, 45.73981621, 45.74117173, 45.74194122, 45.74263827, 45.74301249, 45.74376454, 45.74427933, 45.74446596, 45.74458603, 45.7441426, 45.74476006, 45.74511324, 45.74607274, 45.74645072, 45.74702712, 45.74721516, 45.74804828, 45.74893299, 45.7492781, 45.74964076, 45.7499855, 45.74995456, 45.75023987, 45.75138184, 45.7509003, 45.75313502, 45.75328057, 45.75372993, 45.75406977, 45.75413583, 45.75420859, 45.75466306, 45.7543312, 45.75594824, 45.75578018, 45.75588787, 45.75804789, 45.75934238, 45.7592978, 45.75935497, 45.75950473, 45.76161795, 45.76235336, 45.7624675, 45.76294594, 45.76353006, 45.76375438, 45.76403219, 45.76440598, 45.76813947, 45.76959014, 45.76982689, 45.77035721, 45.77139352, 45.77192933, 45.77195573, 45.77196716, 45.77229301, 45.7722271, 45.7723048], \"legendgroup\": \"0\", \"line\": {\"color\": \"#636efa\"}, \"lon\": [4.9018396, 4.90252842, 4.90247447, 4.89961438, 4.89839047, 4.90116674, 4.90195618, 4.90211316, 4.89479657, 4.89346268, 4.89280347, 4.89291787, 4.89415648, 4.89493831, 4.89461543, 4.891617, 4.88663671, 4.88437675, 4.88002784, 4.8812256, 4.87925455, 4.87371329, 4.8740265, 4.87368714, 4.87384286, 4.8738581, 4.87387779, 4.87368275, 4.87409505, 4.8739326, 4.87408597, 4.87399797, 4.8741394, 4.87397882, 4.8741668, 4.87402701, 4.87424601, 4.87423924, 4.87452506, 4.87422057, 4.87440163, 4.8745453, 4.87448925, 4.87474682, 4.87492533, 4.87480654, 4.87495596, 4.87517279, 4.87521546, 4.87561667, 4.8754956, 4.87564476, 4.8754049, 4.87561009, 4.87581493, 4.87620753, 4.8761584, 4.87685326, 4.87674638, 4.8769302, 4.87687965, 4.87707386, 4.87690358, 4.87693053, 4.8771095, 4.87679077, 4.87634964, 4.8761871, 4.8765329, 4.87566042, 4.87593, 4.87568158, 4.87578531, 4.87422301, 4.87386319, 4.87409981, 4.87378179, 4.87387483, 4.87425293, 4.87396647, 4.87390964, 4.87378679, 4.87346923, 4.87359824, 4.87344776, 4.87350657, 4.87367688, 4.8733202, 4.87375699, 4.87379693, 4.8735864, 4.8737708], \"mode\": \"lines\", \"name\": \"0\", \"showlegend\": false, \"subplot\": \"mapbox\", \"type\": \"scattermapbox\"}, {\"hoverlabel\": {\"namelength\": 0}, \"hovertemplate\": \"type=0<br>route_num=9<br>lat=%{lat}<br>lon=%{lon}\", \"lat\": [45.77199039, 45.77194305, 45.77077377, 45.77042163, 45.76993279, 45.76832829, 45.7636637, 45.76350623, 45.76016175, 45.75994964, 45.76084413, 45.75833516, 45.75656617, 45.75497751, 45.75363949, 45.74863098, 45.74792912, 45.74810153, 45.74542034, 45.74534721, 45.73946704, 45.7373896, 45.73634303, 45.73473584, 45.73332018, 45.73294374, 45.73119275, 45.73084302, 45.72891367, 45.72746234, 45.7262625, 45.72630282, 45.72603113, 45.72522877, 45.7248627, 45.7251531, 45.72510224, 45.72299418, 45.72249343, 45.72229345, 45.7226972, 45.72218539, 45.72164347, 45.71911212, 45.71842728, 45.71765408, 45.71673848, 45.71568351, 45.71139367, 45.70711452, 45.70493797, 45.7055465, 45.7048684, 45.70456509, 45.70371184, 45.70340113, 45.70325695, 45.70343472, 45.70359816, 45.70362969, 45.7034652], \"legendgroup\": \"0\", \"line\": {\"color\": \"#636efa\"}, \"lon\": [4.87361581, 4.87350702, 4.87379882, 4.87360861, 4.87360653, 4.8738432, 4.87408692, 4.87530015, 4.88742148, 4.88863624, 4.8846817, 4.88517347, 4.88521911, 4.88555733, 4.88552728, 4.88364176, 4.88415895, 4.88480068, 4.88494889, 4.88571934, 4.88485399, 4.8841036, 4.88341463, 4.88169596, 4.87916451, 4.87934022, 4.87752257, 4.87734604, 4.88029114, 4.88402588, 4.88651899, 4.8870854, 4.88732819, 4.88950656, 4.8896331, 4.88970932, 4.889846, 4.89462061, 4.8949512, 4.89483414, 4.8944655, 4.89478088, 4.89420518, 4.89288657, 4.89272138, 4.89281739, 4.89334853, 4.89472093, 4.90189819, 4.89818223, 4.90182766, 4.9014691, 4.90194829, 4.90244781, 4.90159834, 4.90198928, 4.90193134, 4.90165198, 4.90166932, 4.90150645, 4.9014362], \"mode\": \"lines\", \"name\": \"0\", \"showlegend\": false, \"subplot\": \"mapbox\", \"type\": \"scattermapbox\"}, {\"hoverlabel\": {\"namelength\": 0}, \"hovertemplate\": \"type=0<br>route_num=10<br>lat=%{lat}<br>lon=%{lon}\", \"lat\": [45.70339085, 45.7031279, 45.70140256, 45.70126612, 45.70222806, 45.70235755, 45.7032924, 45.70333735, 45.70540749, 45.70622883, 45.70682587, 45.70826123, 45.71146275, 45.71420557, 45.71410416, 45.71967233, 45.72451016, 45.72464438, 45.7242031, 45.72468048, 45.72522127, 45.7252323, 45.72540668, 45.72619262, 45.72690045, 45.7276088, 45.7289641, 45.73332689, 45.7354635, 45.73839575, 45.73870196, 45.73927881, 45.73926121, 45.73978066, 45.74035996, 45.74174467, 45.74294995, 45.74342675, 45.74438552, 45.7443872, 45.7455401, 45.7457682, 45.7458693, 45.74554814, 45.74558254, 45.74580416, 45.74626567, 45.74640107, 45.7463327, 45.74647562, 45.74661769, 45.7483794, 45.75202797, 45.75265703, 45.75553631, 45.75762866, 45.75978699, 45.76453228, 45.76779957, 45.77212036, 45.77283419, 45.7725837, 45.77294676, 45.77329313, 45.77324793, 45.77250412, 45.77242392, 45.77299269, 45.77488249, 45.77503216, 45.77531774, 45.77311237, 45.7729063, 45.77274842, 45.77258678], \"legendgroup\": \"0\", \"line\": {\"color\": \"#636efa\"}, \"lon\": [4.90195951, 4.9022799, 4.90007035, 4.89961944, 4.8971045, 4.8962265, 4.89484927, 4.89435261, 4.88919274, 4.88897408, 4.88763902, 4.88706469, 4.88177717, 4.87961088, 4.87914193, 4.87497708, 4.87102395, 4.87054557, 4.8710576, 4.87041719, 4.8684984, 4.8690006, 4.86772377, 4.86531837, 4.86243457, 4.86202628, 4.8608691, 4.858423, 4.8565785, 4.85242455, 4.85206526, 4.85189632, 4.85024174, 4.84912201, 4.84868673, 4.84804669, 4.84706434, 4.84712451, 4.84433626, 4.8447834, 4.84043926, 4.83981722, 4.8400873, 4.83807281, 4.83627488, 4.8340793, 4.83225413, 4.83224731, 4.832998, 4.83227421, 4.83233084, 4.83355137, 4.83676538, 4.83676286, 4.83901098, 4.84002765, 4.84057045, 4.84100746, 4.8406415, 4.84065077, 4.84091002, 4.8412923, 4.84096678, 4.8411797, 4.84128288, 4.84109659, 4.84082271, 4.83637249, 4.81134842, 4.80654868, 4.80541985, 4.80555015, 4.80527226, 4.8053243, 4.80516041], \"mode\": \"lines\", \"name\": \"0\", \"showlegend\": false, \"subplot\": \"mapbox\", \"type\": \"scattermapbox\"}, {\"hoverlabel\": {\"namelength\": 0}, \"hovertemplate\": \"type=0<br>route_num=11<br>lat=%{lat}<br>lon=%{lon}\", \"lat\": [45.7036301, 45.70334677, 45.70343709, 45.70376119, 45.70396244, 45.70459762, 45.70573018, 45.70578934, 45.7053736, 45.70586618, 45.70722242, 45.71119773, 45.7142021, 45.71566592, 45.71641585, 45.71732007, 45.71779565, 45.7188316, 45.72146804, 45.72209138, 45.72256304, 45.72309845, 45.72366612, 45.72628289, 45.72747385, 45.72810512, 45.7275721, 45.72840508, 45.72937577, 45.73265296, 45.7319305, 45.73346256, 45.7434247, 45.7479304, 45.74970945, 45.7499649, 45.74968448, 45.7520788, 45.75512671, 45.7559653, 45.75614875, 45.75832707, 45.75949146, 45.75977629, 45.76129305, 45.76233319, 45.76351577, 45.76390004, 45.76573796, 45.76888217, 45.77029356, 45.7697776, 45.77055784, 45.7703339, 45.7706652, 45.77090917, 45.77203925, 45.77211934, 45.7719051, 45.77211054], \"legendgroup\": \"0\", \"line\": {\"color\": \"#636efa\"}, \"lon\": [4.9019533, 4.90207405, 4.90176096, 4.90151329, 4.90155031, 4.90248682, 4.9006235, 4.90047701, 4.9007926, 4.90035363, 4.89839266, 4.90216552, 4.897445, 4.89477651, 4.89383116, 4.89306131, 4.89285132, 4.89287362, 4.8941497, 4.89475259, 4.89494676, 4.8945914, 4.89355383, 4.88675877, 4.88441483, 4.88271507, 4.8837499, 4.88208606, 4.8795895, 4.87513717, 4.8758873, 4.87394039, 4.87428893, 4.87534014, 4.875627, 4.8754366, 4.87562233, 4.8766782, 4.87740237, 4.87681769, 4.87625681, 4.87669071, 4.87587526, 4.87594061, 4.87457378, 4.8739267, 4.87392393, 4.87423463, 4.87398324, 4.87394907, 4.87373788, 4.873717, 4.87377335, 4.8736958, 4.87374435, 4.87359976, 4.87368732, 4.87337573, 4.8736854, 4.87352297], \"mode\": \"lines\", \"name\": \"0\", \"showlegend\": false, \"subplot\": \"mapbox\", \"type\": \"scattermapbox\"}, {\"hoverlabel\": {\"namelength\": 0}, \"hovertemplate\": \"type=0<br>route_num=12<br>lat=%{lat}<br>lon=%{lon}\", \"lat\": [45.7307624, 45.7306705, 45.72991073, 45.7289085, 45.72731195, 45.72618547, 45.72390918, 45.72303341, 45.72263159, 45.72212464, 45.72165267, 45.71886066, 45.71773886, 45.71672854, 45.71509742, 45.70792104, 45.70759238, 45.70729523, 45.70411813, 45.70345796, 45.70323683, 45.70337497, 45.7035539, 45.70325659, 45.70338771], \"legendgroup\": \"0\", \"line\": {\"color\": \"#636efa\"}, \"lon\": [4.877652, 4.8780955, 4.87871872, 4.88033195, 4.88445482, 4.88673539, 4.89287243, 4.89456392, 4.89495682, 4.89476615, 4.89426042, 4.89285494, 4.89285107, 4.89340911, 4.8957137, 4.90774259, 4.90743057, 4.90740404, 4.90334162, 4.90269553, 4.90234986, 4.90196035, 4.9019019, 4.90191247, 4.90165553], \"mode\": \"lines\", \"name\": \"0\", \"showlegend\": false, \"subplot\": \"mapbox\", \"type\": \"scattermapbox\"}, {\"hoverlabel\": {\"namelength\": 0}, \"hovertemplate\": \"type=0<br>route_num=13<br>lat=%{lat}<br>lon=%{lon}\", \"lat\": [45.7037039, 45.70364745, 45.7037214, 45.70378488, 45.70462134, 45.70621036, 45.70680218, 45.70738481, 45.70908146, 45.71047723, 45.71091182, 45.71122135, 45.71152553, 45.71579677, 45.71607804, 45.71675367, 45.71756959, 45.71817933, 45.71894442, 45.72116655, 45.72256657, 45.72302422, 45.72345775, 45.7226305, 45.72352093, 45.72381487, 45.72628568, 45.72845906, 45.72903137, 45.73027813, 45.7296132, 45.73333335, 45.73364154, 45.73464956, 45.73632729, 45.736331, 45.73755866, 45.74078889, 45.74161077, 45.74196718, 45.74328637, 45.74600541, 45.74995858, 45.75271291, 45.75481124, 45.75489643, 45.7547105, 45.75514969, 45.75596655, 45.75589454, 45.75813859, 45.76010305, 45.7595822, 45.76026964, 45.76184028, 45.7624747, 45.76333713, 45.7632965, 45.76348989, 45.7637988, 45.76394559, 45.76454725, 45.7644649, 45.7656957, 45.7673782, 45.76952943, 45.77165716, 45.771608, 45.77203717, 45.7720236], \"legendgroup\": \"0\", \"line\": {\"color\": \"#636efa\"}, \"lon\": [4.9019344, 4.90153788, 4.9019181, 4.9016868, 4.90256014, 4.89962088, 4.8988249, 4.89855372, 4.9002234, 4.90133596, 4.90200399, 4.90149989, 4.9018045, 4.89459607, 4.89443257, 4.89344372, 4.89288763, 4.89274776, 4.89288898, 4.89397391, 4.89497817, 4.89461207, 4.89368304, 4.8944398, 4.89352766, 4.89294988, 4.88663878, 4.88184543, 4.88017891, 4.87827481, 4.8790609, 4.87396816, 4.87377812, 4.8739984, 4.87394659, 4.87406568, 4.87387357, 4.87424451, 4.87401072, 4.87413158, 4.87410756, 4.87495021, 4.87565235, 4.87683819, 4.87708206, 4.8773009, 4.8771318, 4.87734485, 4.87687864, 4.87614783, 4.87665019, 4.87539676, 4.875921, 4.87519502, 4.87411784, 4.87388963, 4.87381262, 4.8740041, 4.87383817, 4.87415297, 4.87402275, 4.87402622, 4.8741228, 4.87393771, 4.8740461, 4.87358936, 4.87353019, 4.8736392, 4.87334506, 4.87349343], \"mode\": \"lines\", \"name\": \"0\", \"showlegend\": false, \"subplot\": \"mapbox\", \"type\": \"scattermapbox\"}, {\"hoverlabel\": {\"namelength\": 0}, \"hovertemplate\": \"type=0<br>route_num=14<br>lat=%{lat}<br>lon=%{lon}\", \"lat\": [45.76769308, 45.76719881, 45.76674337, 45.76606733, 45.7636778, 45.7634182, 45.76165095, 45.7617225, 45.76131046, 45.76095721, 45.7605036, 45.75938564, 45.75405028, 45.7535889, 45.7547041, 45.75265875, 45.74861502, 45.74831789, 45.74907, 45.74823032, 45.74798142, 45.74806987, 45.7476755, 45.7480043, 45.74755364, 45.74545756, 45.74531353, 45.74144238, 45.7382642, 45.7368119, 45.7353043, 45.73411033, 45.73329851, 45.73294353, 45.73088939, 45.73005803, 45.7293958, 45.7298063, 45.72897899, 45.72814942, 45.72817565, 45.72622671, 45.72630322, 45.72599577, 45.72388986, 45.7229589, 45.72252297, 45.72199582, 45.7225456, 45.72190385, 45.71910473, 45.71824685, 45.71749951, 45.71659141, 45.71571707, 45.7113975, 45.70714947, 45.7068256, 45.70691367, 45.70672528, 45.70637223, 45.7068256, 45.70452522, 45.70363575], \"legendgroup\": \"0\", \"line\": {\"color\": \"#636efa\"}, \"lon\": [4.87400228, 4.87391258, 4.87408786, 4.87393622, 4.87409272, 4.87569365, 4.88200801, 4.88247239, 4.883347, 4.88473185, 4.88497502, 4.88497895, 4.88568425, 4.88555681, 4.8856718, 4.88528426, 4.88375837, 4.88390893, 4.8838806, 4.88396643, 4.88414818, 4.88487024, 4.88482367, 4.88435, 4.88484398, 4.8850388, 4.88575115, 4.88531444, 4.8846147, 4.88387018, 4.88255827, 4.88084555, 4.87920844, 4.87936422, 4.87736628, 4.87840368, 4.87950377, 4.87906, 4.88020719, 4.88210018, 4.88250139, 4.88667411, 4.88713775, 4.88745581, 4.89294932, 4.89465038, 4.89492705, 4.89449951, 4.8943565, 4.89438373, 4.89282535, 4.89271026, 4.89289022, 4.89347246, 4.89466245, 4.90190899, 4.89818072, 4.8984664, 4.89854956, 4.89889959, 4.89949, 4.8984664, 4.90246928, 4.90164463], \"mode\": \"lines\", \"name\": \"0\", \"showlegend\": false, \"subplot\": \"mapbox\", \"type\": \"scattermapbox\"}, {\"hoverlabel\": {\"namelength\": 0}, \"hovertemplate\": \"type=0<br>route_num=15<br>lat=%{lat}<br>lon=%{lon}\", \"lat\": [45.7036312, 45.70353605, 45.70347021, 45.70332086, 45.70315271, 45.70143886, 45.70129841, 45.70227429, 45.70244517, 45.70336726, 45.70339142, 45.70547207, 45.70623341, 45.70684714, 45.70763619, 45.70821997, 45.71179571, 45.71919239, 45.72271644, 45.72412036, 45.723546, 45.72420927, 45.72453397, 45.7241643, 45.72475592, 45.72668404, 45.72690636, 45.7273969, 45.72760245, 45.72777668, 45.72910409, 45.72920818, 45.7289222, 45.72926357, 45.72940108, 45.73003325, 45.73051432, 45.73107213, 45.7308176, 45.73112056, 45.73264754, 45.73569965, 45.73879621, 45.739323, 45.73941166, 45.74027948, 45.74201053, 45.7430771, 45.7434463, 45.74366966, 45.7433157, 45.74370172, 45.74515331, 45.74517753, 45.74598099, 45.74576377, 45.74563637, 45.74596507, 45.74630328, 45.74690021, 45.74997387, 45.7515602, 45.75206186, 45.75261627, 45.75607935, 45.75844397, 45.76029726, 45.76465262, 45.76934801, 45.7723205, 45.77303617, 45.77331617, 45.77260547, 45.77241953, 45.77287397, 45.77497566, 45.77490513, 45.77538379, 45.77313511, 45.77300062, 45.77262681, 45.77235953], \"legendgroup\": \"0\", \"line\": {\"color\": \"#636efa\"}, \"lon\": [4.9018736, 4.90235123, 4.90222472, 4.90233396, 4.90222758, 4.90009044, 4.89963144, 4.89727445, 4.89623988, 4.89490005, 4.89443705, 4.88919894, 4.88903188, 4.88763605, 4.88746636, 4.88713484, 4.88147176, 4.87563352, 4.87314863, 4.87193124, 4.8717423, 4.87185116, 4.87127865, 4.8713263, 4.87047868, 4.86372586, 4.86247355, 4.86205502, 4.86213036, 4.86182956, 4.86088389, 4.86074981, 4.8608437, 4.86073623, 4.86046712, 4.86016368, 4.85971132, 4.85957926, 4.8598308, 4.8594929, 4.85890745, 4.85658764, 4.85214409, 4.8519238, 4.8500785, 4.84879875, 4.84803252, 4.8470395, 4.84713628, 4.84695074, 4.8473392, 4.84684628, 4.84233656, 4.84178371, 4.83984519, 4.83939888, 4.83659684, 4.83378039, 4.8323103, 4.83247936, 4.8347571, 4.83615276, 4.83680242, 4.83673153, 4.8392702, 4.84034937, 4.84071326, 4.84101029, 4.84060895, 4.84070084, 4.84097065, 4.84129795, 4.84116446, 4.84089927, 4.83769463, 4.81101152, 4.80980058, 4.80531654, 4.80547276, 4.80518945, 4.8051796, 4.80489851], \"mode\": \"lines\", \"name\": \"0\", \"showlegend\": false, \"subplot\": \"mapbox\", \"type\": \"scattermapbox\"}, {\"hoverlabel\": {\"namelength\": 0}, \"hovertemplate\": \"type=0<br>route_num=16<br>lat=%{lat}<br>lon=%{lon}\", \"lat\": [45.703596, 45.70329908, 45.70277467, 45.7013434, 45.7012589, 45.70187195, 45.70303643, 45.70242188, 45.70254835, 45.70329653, 45.70361584], \"legendgroup\": \"0\", \"line\": {\"color\": \"#636efa\"}, \"lon\": [4.9019326, 4.90216882, 4.90179017, 4.90001699, 4.89972874, 4.89837425, 4.8994141, 4.90096146, 4.90136321, 4.9022933, 4.90150773], \"mode\": \"lines\", \"name\": \"0\", \"showlegend\": false, \"subplot\": \"mapbox\", \"type\": \"scattermapbox\"}, {\"hoverlabel\": {\"namelength\": 0}, \"hovertemplate\": \"type=0<br>route_num=17<br>lat=%{lat}<br>lon=%{lon}\", \"lat\": [45.7036821, 45.70317349, 45.70130229, 45.70125185, 45.70229693, 45.70238967, 45.7033041, 45.7033652, 45.70541339, 45.70628154, 45.70680412, 45.7074624, 45.70834633, 45.71184959, 45.71418744, 45.71582957, 45.72113765, 45.72439613, 45.72662786, 45.72697078, 45.72753186, 45.72751784, 45.727659, 45.7288778, 45.72935711, 45.73061793, 45.73090927, 45.73110673, 45.73137716, 45.73340923, 45.73363824, 45.7354393, 45.73856733, 45.73927436, 45.739308, 45.73988184, 45.74206976, 45.7429274, 45.74346036, 45.74451838, 45.744863, 45.74514833, 45.74513441, 45.74584657, 45.74556191, 45.74556279, 45.74591711, 45.74629795, 45.7482029, 45.75215239, 45.75262215, 45.7558533, 45.758556, 45.76004695, 45.76273416, 45.76413412, 45.76696658, 45.7695831, 45.77245376, 45.77334932, 45.77242988, 45.77296547, 45.7729687, 45.772569, 45.77463448, 45.77479443, 45.77500053, 45.77532216, 45.77308573, 45.77297008, 45.77262612, 45.77267344, 45.77263141, 45.77264171], \"legendgroup\": \"0\", \"line\": {\"color\": \"#636efa\"}, \"lon\": [4.9016776, 4.9022712, 4.90001367, 4.89959439, 4.8971325, 4.89630571, 4.89498275, 4.89446286, 4.88936111, 4.88897633, 4.88781777, 4.8876459, 4.88712128, 4.88149805, 4.87982997, 4.87829973, 4.87437136, 4.87174899, 4.86417409, 4.8624242, 4.86208801, 4.86174799, 4.86161931, 4.8609162, 4.86040804, 4.85968905, 4.85973988, 4.85947459, 4.85946709, 4.85831997, 4.85799099, 4.85659959, 4.85225937, 4.85186976, 4.85019588, 4.84905832, 4.84791368, 4.84704285, 4.84719062, 4.84449115, 4.84282923, 4.84216978, 4.8417651, 4.83976616, 4.83805382, 4.83586165, 4.83354332, 4.83222402, 4.83330559, 4.83672265, 4.8366791, 4.83908656, 4.84037351, 4.8406955, 4.84086441, 4.84111444, 4.84095561, 4.84059527, 4.84068923, 4.84130071, 4.84108639, 4.83711148, 4.83657149, 4.8373702, 4.8137512, 4.81366986, 4.80709682, 4.80535126, 4.80551776, 4.8052061, 4.80511446, 4.80498729, 4.80528385, 4.80509988], \"mode\": \"lines\", \"name\": \"0\", \"showlegend\": false, \"subplot\": \"mapbox\", \"type\": \"scattermapbox\"}, {\"hoverlabel\": {\"namelength\": 0}, \"hovertemplate\": \"type=0<br>route_num=18<br>lat=%{lat}<br>lon=%{lon}\", \"lat\": [45.7766215, 45.77649715, 45.77654575, 45.77712755, 45.7779598, 45.77860489, 45.78066913, 45.78157849, 45.78195207, 45.78270408, 45.78255969, 45.78157954, 45.77918603, 45.77908166, 45.77808343, 45.7778711, 45.77768817, 45.77676257, 45.77300169, 45.77224616, 45.76980103, 45.769718, 45.76962563, 45.7692336, 45.769718, 45.76911047, 45.76570159, 45.76492422, 45.7653684, 45.7648438, 45.76459957, 45.76314306, 45.75987287, 45.75735426, 45.75555344, 45.75265265, 45.75193566, 45.74955845, 45.74668968, 45.74658305, 45.7464815, 45.74648077, 45.74627735, 45.74589066, 45.74557572, 45.74558514, 45.7457081, 45.74556989, 45.74579632, 45.7449925, 45.74450528, 45.74354326, 45.74335848, 45.74300477, 45.74184448, 45.73992588, 45.73933558, 45.73931675, 45.73870549, 45.73712088, 45.73538007, 45.73331323, 45.73121576, 45.73040823, 45.730812, 45.72984267, 45.72955065, 45.7301024, 45.72934758, 45.72679279, 45.72674194, 45.72458015, 45.7251901, 45.72454583, 45.72438822, 45.72101369, 45.71772701, 45.71422299, 45.71405168, 45.71163941, 45.70814011, 45.70743701, 45.70694006, 45.70692328, 45.70659758, 45.70614392, 45.70542817, 45.70303735, 45.70231519, 45.70218661, 45.70119523, 45.70313603, 45.70333793, 45.70345525, 45.7033872, 45.70362277, 45.7034676], \"legendgroup\": \"0\", \"line\": {\"color\": \"#636efa\"}, \"lon\": [4.8317635, 4.83191416, 4.83234463, 4.83219943, 4.83231563, 4.83213277, 4.83238273, 4.83266681, 4.83552338, 4.83711774, 4.83802181, 4.83913322, 4.84106004, 4.84099634, 4.84385556, 4.84430465, 4.8443424, 4.84385012, 4.84100874, 4.84070585, 4.84061518, 4.8409538, 4.84060127, 4.84061578, 4.8409538, 4.84065289, 4.84103551, 4.84098266, 4.8416329, 4.84098193, 4.84088619, 4.84095448, 4.84067712, 4.83993811, 4.83891879, 4.83674783, 4.83667707, 4.83444022, 4.83236192, 4.83231847, 4.8328173, 4.83230507, 4.83228823, 4.83365993, 4.83594209, 4.8375666, 4.8376668, 4.83810977, 4.84011829, 4.84246323, 4.84456203, 4.84702092, 4.84718623, 4.84708113, 4.84802411, 4.84903373, 4.85017158, 4.85180206, 4.85209848, 4.85449391, 4.85673219, 4.85839932, 4.85958411, 4.85988081, 4.8598502, 4.86020501, 4.86039453, 4.8603016, 4.86052435, 4.86245304, 4.86304644, 4.87059258, 4.8698948, 4.87071856, 4.87125565, 4.87377279, 4.87651698, 4.8790809, 4.87937198, 4.88126042, 4.88678598, 4.88724917, 4.88737366, 4.88778048, 4.88791955, 4.88895371, 4.88912313, 4.89513368, 4.89629504, 4.89725235, 4.89993985, 4.90232775, 4.90219125, 4.90156917, 4.9018847, 4.90151016, 4.9014543], \"mode\": \"lines\", \"name\": \"0\", \"showlegend\": false, \"subplot\": \"mapbox\", \"type\": \"scattermapbox\"}, {\"hoverlabel\": {\"namelength\": 0}, \"hovertemplate\": \"type=0<br>route_num=19<br>lat=%{lat}<br>lon=%{lon}\", \"lat\": [45.7036734, 45.70334378, 45.70299144, 45.70133816, 45.70126564, 45.70220047, 45.70235697, 45.70328432, 45.70332358, 45.7054206, 45.70626774, 45.70680864, 45.7082367, 45.71167394, 45.72430341, 45.72602297, 45.7257278, 45.72688184, 45.7275409, 45.7269722, 45.73066931, 45.7302088, 45.73069546, 45.73094443, 45.7311226, 45.73145484, 45.73380295, 45.73550674, 45.73871375, 45.7383714, 45.73927649, 45.73933007, 45.73982947, 45.74044832, 45.74198991, 45.742957, 45.74346403, 45.74431552, 45.7442148, 45.74578535, 45.7455744, 45.74558892, 45.74580769, 45.7460327, 45.7459502, 45.74629173, 45.74829947, 45.75064108, 45.7491348, 45.75199447, 45.75252752, 45.75571886, 45.75848538, 45.76009401, 45.76423918, 45.76933648, 45.77211214, 45.77259413, 45.7733431, 45.7728785, 45.77326364, 45.77242357, 45.77260101, 45.77279336, 45.77297562, 45.77298476, 45.772541, 45.77467436, 45.77496691, 45.77529121, 45.77336774, 45.77308389, 45.77288481, 45.77277897, 45.77264642, 45.7725885], \"legendgroup\": \"0\", \"line\": {\"color\": \"#636efa\"}, \"lon\": [4.9018233, 4.90221899, 4.90216422, 4.90003884, 4.89965564, 4.89717647, 4.8963047, 4.8949009, 4.89446082, 4.88921909, 4.88896361, 4.887752, 4.88710146, 4.88153054, 4.87166148, 4.86588168, 4.8675635, 4.86245584, 4.86189096, 4.8622245, 4.85985377, 4.8600123, 4.85964512, 4.8597004, 4.85946889, 4.85943908, 4.85808093, 4.85660007, 4.85212003, 4.852572, 4.85181166, 4.85016415, 4.84910013, 4.8486217, 4.84789002, 4.84704181, 4.84702241, 4.84452511, 4.845331, 4.83989301, 4.83806216, 4.83610274, 4.83403371, 4.83305969, 4.8340162, 4.83224052, 4.83347466, 4.83550806, 4.8339696, 4.83670285, 4.83666578, 4.8390693, 4.84038345, 4.84075053, 4.84103518, 4.84060452, 4.84070325, 4.84082622, 4.84132993, 4.8419744, 4.84139475, 4.84096553, 4.83869384, 4.83843032, 4.83664892, 4.8362666, 4.8375155, 4.81390831, 4.80790747, 4.80531277, 4.80551225, 4.80547852, 4.80512928, 4.80522488, 4.80501539, 4.8051197], \"mode\": \"lines\", \"name\": \"0\", \"showlegend\": false, \"subplot\": \"mapbox\", \"type\": \"scattermapbox\"}, {\"hoverlabel\": {\"namelength\": 0}, \"hovertemplate\": \"type=0<br>route_num=20<br>lat=%{lat}<br>lon=%{lon}\", \"lat\": [45.77270971, 45.77287897, 45.7731949, 45.77361925, 45.77398758, 45.77439113, 45.77462267, 45.77500081, 45.77508999, 45.77481104, 45.7744837, 45.77445858, 45.77474709, 45.77476027, 45.77466941, 45.77286332, 45.77247749, 45.77246348, 45.77306818, 45.7724022, 45.77336552, 45.7727578, 45.77139729, 45.7674082, 45.76534323, 45.76495784, 45.76400746, 45.76248139, 45.76205102, 45.76027547, 45.75980513, 45.75937917, 45.75613846, 45.7527148, 45.75199735, 45.74999113, 45.7487459, 45.7491863, 45.74852601, 45.74661357, 45.74627408, 45.7466811, 45.74627887, 45.74618897, 45.74577428, 45.74564773, 45.74558965, 45.7457174, 45.74557886, 45.74574404, 45.74568506, 45.7458706, 45.7457103, 45.74582182, 45.7458706, 45.7458618, 45.7453483, 45.74517257, 45.7452981, 45.74517071, 45.74432144, 45.7435358, 45.74305877, 45.74192909, 45.74065578, 45.73989218, 45.73946219, 45.7393028, 45.7392559, 45.7395837, 45.73855561, 45.7355335, 45.73390216, 45.73141815, 45.72943512, 45.72900089, 45.730042, 45.72885572, 45.72689813, 45.72601613, 45.7280464, 45.72596069, 45.72534215, 45.7257061, 45.72518587, 45.724409, 45.72096588, 45.7219047, 45.72087211, 45.71157132, 45.70873441, 45.7101275, 45.70843191, 45.70805784, 45.70695237, 45.70693729, 45.70659738, 45.7061762, 45.70545022, 45.70442811, 45.7049327, 45.70431157, 45.70312444, 45.70228334, 45.70215887, 45.70115552, 45.7031075, 45.70323287, 45.70342057], \"legendgroup\": \"0\", \"line\": {\"color\": \"#636efa\"}, \"lon\": [4.80513757, 4.80546527, 4.80554978, 4.80694727, 4.80677884, 4.80709419, 4.80678454, 4.807268, 4.80774539, 4.80872772, 4.81155229, 4.81237345, 4.81238869, 4.81204775, 4.81450441, 4.83760168, 4.84019021, 4.84102304, 4.8412155, 4.841332, 4.84132239, 4.84094365, 4.8406631, 4.84079295, 4.84117554, 4.84098388, 4.840892, 4.84103937, 4.84084919, 4.84077892, 4.84055501, 4.84073449, 4.83939949, 4.83683433, 4.83674826, 4.83486702, 4.83391648, 4.8349392, 4.83372041, 4.83238945, 4.83230067, 4.8330228, 4.8323063, 4.83250483, 4.83409506, 4.83549295, 4.83714571, 4.8375146, 4.8375728, 4.83843895, 4.83901806, 4.8388916, 4.83921392, 4.83960997, 4.8388916, 4.84002572, 4.84158594, 4.84173186, 4.8417607, 4.84171698, 4.8451167, 4.84709003, 4.84709064, 4.84805907, 4.84858986, 4.84909838, 4.84978974, 4.8505453, 4.85185307, 4.851723, 4.85227239, 4.8566327, 4.85795465, 4.8594692, 4.8604482, 4.86073378, 4.8604135, 4.86084356, 4.86235646, 4.86552545, 4.8632653, 4.86570869, 4.86787197, 4.8679953, 4.86826251, 4.87123274, 4.87384026, 4.8735403, 4.87397592, 4.8812935, 4.88590611, 4.8845324, 4.88629072, 4.88689395, 4.88733904, 4.88782969, 4.88793741, 4.88890435, 4.88910578, 4.89154801, 4.8910168, 4.89182154, 4.89475146, 4.89632359, 4.89728988, 4.89993452, 4.90227549, 4.90232126, 4.90195002], \"mode\": \"lines\", \"name\": \"0\", \"showlegend\": false, \"subplot\": \"mapbox\", \"type\": \"scattermapbox\"}, {\"hoverlabel\": {\"namelength\": 0}, \"hovertemplate\": \"type=0<br>route_num=21<br>lat=%{lat}<br>lon=%{lon}\", \"lat\": [45.7036467, 45.70366704, 45.70381891, 45.70451195, 45.70465315, 45.70701924, 45.70721064, 45.7112169, 45.71573457, 45.71693134, 45.71756822, 45.71829871, 45.7188643, 45.72136212, 45.72244986, 45.72300765, 45.72455248, 45.72608718, 45.72630328, 45.72621697, 45.72731173, 45.7271036, 45.72902519, 45.72952873, 45.73342675, 45.7362947, 45.7371118, 45.73740454, 45.74252729, 45.742106, 45.74342893, 45.7442619, 45.74451472, 45.7451406, 45.7455918, 45.74840413, 45.74907209, 45.74902966, 45.74977699, 45.7502874, 45.75109648, 45.75109665, 45.75167141, 45.75226604, 45.7527181, 45.75293628, 45.75401381, 45.75468985, 45.75593377, 45.75870413, 45.75906001, 45.75986489, 45.76004833, 45.76019035, 45.76041685, 45.7605886, 45.76063343, 45.76115959, 45.76260247, 45.7627973, 45.76299889, 45.76401029, 45.76545446, 45.76555282, 45.76633048, 45.76654768, 45.76710219, 45.76732163, 45.76738967, 45.76791314, 45.76788389, 45.76730289, 45.7671207, 45.76681083, 45.76704149, 45.76744078, 45.76761187, 45.76756993, 45.76733258, 45.76687062, 45.76675716], \"legendgroup\": \"0\", \"line\": {\"color\": \"#636efa\"}, \"lon\": [4.9017074, 4.90156464, 4.90162927, 4.90255732, 4.90253624, 4.89848377, 4.89839184, 4.9021981, 4.89465425, 4.89328191, 4.89293694, 4.89280786, 4.89290658, 4.89411035, 4.89494427, 4.89461993, 4.89137402, 4.88717872, 4.88706359, 4.88665378, 4.88445902, 4.885247, 4.88020181, 4.87924198, 4.87390544, 4.87404676, 4.87380682, 4.87411682, 4.87415004, 4.8742208, 4.87427159, 4.8745771, 4.87422689, 4.87214139, 4.87128339, 4.86274192, 4.86139434, 4.86113292, 4.85929311, 4.85713763, 4.85563924, 4.85522248, 4.85374639, 4.85371426, 4.85349209, 4.85358521, 4.85299866, 4.8532451, 4.85285754, 4.85243479, 4.85256757, 4.85237398, 4.85246624, 4.85232677, 4.8524968, 4.8519395, 4.85219361, 4.85198214, 4.85187194, 4.8522248, 4.85170736, 4.85121318, 4.85133912, 4.8508821, 4.85086943, 4.85060836, 4.85050925, 4.85066753, 4.85096052, 4.85645972, 4.85553344, 4.85592374, 4.85572915, 4.85335977, 4.8530371, 4.85305743, 4.85264884, 4.85299692, 4.85328348, 4.85318076, 4.85254037], \"mode\": \"lines\", \"name\": \"0\", \"showlegend\": false, \"subplot\": \"mapbox\", \"type\": \"scattermapbox\"}, {\"hoverlabel\": {\"namelength\": 0}, \"hovertemplate\": \"type=0<br>route_num=22<br>lat=%{lat}<br>lon=%{lon}\", \"lat\": [45.76674909, 45.76641058, 45.76547505, 45.76535887, 45.76510436, 45.76213694, 45.76197841, 45.76056323, 45.7606386, 45.76015401, 45.75908607, 45.75757403, 45.75597642, 45.75534513, 45.75477903, 45.75383372, 45.75338634, 45.75283202, 45.75250831, 45.75246817, 45.75191778, 45.75113274, 45.75121213, 45.7507431, 45.75077462, 45.74946291, 45.74896854, 45.7492046, 45.74873356, 45.7484376, 45.74794673, 45.74723101, 45.74547131, 45.74378883, 45.74220799, 45.73922497, 45.73706265, 45.73600481, 45.73472866, 45.72496855, 45.72099211, 45.72077309, 45.71942899, 45.71783315, 45.71635461, 45.71157042, 45.70807474, 45.70687935, 45.70690237, 45.70657371, 45.70610544, 45.70546559, 45.70534504, 45.70469609, 45.70305891, 45.70225634, 45.70205522, 45.7011726, 45.70115162, 45.70144035, 45.70315893, 45.70337087, 45.70328753, 45.70363301, 45.7034986], \"legendgroup\": \"0\", \"line\": {\"color\": \"#636efa\"}, \"lon\": [4.8523579, 4.84957643, 4.84975572, 4.84826316, 4.84795807, 4.84890784, 4.84875967, 4.84891114, 4.849024, 4.84898773, 4.84930129, 4.84942898, 4.84992093, 4.84982272, 4.85020446, 4.85004864, 4.85031487, 4.85034749, 4.8511751, 4.85180118, 4.85275605, 4.85488541, 4.85524815, 4.85618157, 4.85673989, 4.8595858, 4.86130626, 4.8609279, 4.86191035, 4.86304789, 4.86389719, 4.86650513, 4.87119629, 4.87042414, 4.8694624, 4.86658738, 4.86518475, 4.86418382, 4.86337353, 4.87073612, 4.87383091, 4.8741529, 4.8749922, 4.87643043, 4.87739971, 4.88126844, 4.88677862, 4.8873572, 4.88778898, 4.88788503, 4.88894011, 4.88898805, 4.88913411, 4.89111573, 4.89506572, 4.89627635, 4.89748843, 4.89990764, 4.90007681, 4.90023719, 4.90228495, 4.90215969, 4.90182888, 4.90152283, 4.9014309], \"mode\": \"lines\", \"name\": \"0\", \"showlegend\": false, \"subplot\": \"mapbox\", \"type\": \"scattermapbox\"}, {\"hoverlabel\": {\"namelength\": 0}, \"hovertemplate\": \"type=0<br>route_num=23<br>lat=%{lat}<br>lon=%{lon}\", \"lat\": [45.70353546, 45.70317878, 45.70134109, 45.70121899, 45.70220383, 45.70235041, 45.70325373, 45.70330842, 45.70544021, 45.706146, 45.7067333, 45.70824703, 45.71182745, 45.72419515, 45.72479028, 45.72684066, 45.72688953, 45.72736476, 45.72760059, 45.72775507, 45.72912016, 45.73107531, 45.73102568, 45.73168592, 45.73146342, 45.73159946, 45.73376331, 45.73563997, 45.73876573, 45.73925382, 45.73933237, 45.73991686, 45.74197822, 45.74301557, 45.74344426, 45.74519806, 45.7451846, 45.74578375, 45.74562708, 45.74555937, 45.74582703, 45.7462597, 45.74658871, 45.74802317, 45.74989637, 45.75214426, 45.75263957, 45.75561685, 45.7583442, 45.75954405, 45.76157593, 45.76321898, 45.76359592, 45.76406998, 45.76976601, 45.77240521, 45.77332491, 45.77243415, 45.77260828, 45.77277682, 45.77301904, 45.7724653, 45.77487259, 45.77479663, 45.77497682, 45.77532715, 45.7731161, 45.77298479, 45.77276992, 45.77268853, 45.77281412, 45.77306615], \"legendgroup\": \"0\", \"line\": {\"color\": \"#636efa\"}, \"lon\": [4.90213013, 4.90227877, 4.90005925, 4.89969102, 4.8970342, 4.89625962, 4.89489092, 4.89436051, 4.88913884, 4.88899345, 4.8878125, 4.88710522, 4.88134801, 4.87180737, 4.87030569, 4.86301711, 4.86243276, 4.86205712, 4.86204161, 4.86174812, 4.86071524, 4.85944217, 4.85982746, 4.86009894, 4.85961618, 4.85940091, 4.85802606, 4.85642542, 4.85208982, 4.85182869, 4.850109, 4.84898327, 4.84790493, 4.84703431, 4.84705574, 4.84225508, 4.84172769, 4.83992716, 4.83907173, 4.83624146, 4.83387102, 4.83223559, 4.83230559, 4.83324672, 4.83472209, 4.83685116, 4.83671131, 4.83899341, 4.84028494, 4.8405962, 4.8406689, 4.84095769, 4.84083812, 4.84103473, 4.84057392, 4.84070249, 4.84132517, 4.84104422, 4.83864303, 4.8384763, 4.83655399, 4.8374167, 4.81180653, 4.81069516, 4.80781734, 4.80533695, 4.80537562, 4.80504114, 4.80517784, 4.80500272, 4.80551129, 4.80536402], \"mode\": \"lines\", \"name\": \"0\", \"showlegend\": false, \"subplot\": \"mapbox\", \"type\": \"scattermapbox\"}, {\"hoverlabel\": {\"namelength\": 0}, \"hovertemplate\": \"type=0<br>route_num=24<br>lat=%{lat}<br>lon=%{lon}\", \"lat\": [45.7726105, 45.77309998, 45.77286713, 45.77285807, 45.77319948, 45.77376626, 45.77400314, 45.77431794, 45.77449561, 45.775009, 45.77500443, 45.77465852, 45.77492836, 45.77283085, 45.77260923, 45.77245551, 45.77252993, 45.77334128, 45.77292247, 45.77207909, 45.77062383, 45.7711481, 45.77049423, 45.76902908, 45.76737887, 45.76551656, 45.76271817, 45.76051764, 45.75997596, 45.7581647, 45.75558756, 45.75256855, 45.75188032, 45.75155653, 45.74946047, 45.74749003, 45.74662626, 45.74626348, 45.74581779, 45.74555982, 45.74561844, 45.74580453, 45.74344902, 45.74299226, 45.74161774, 45.73997674, 45.73932038, 45.73924181, 45.73865016, 45.735606, 45.73361521, 45.73145258, 45.73171475, 45.73171595, 45.7331854, 45.73383684, 45.7341092, 45.73270998, 45.73262745, 45.73115262, 45.72092231, 45.72071324, 45.71600677, 45.71126441, 45.70805398, 45.7068679, 45.70686487, 45.70661368, 45.70619553, 45.70537844, 45.70297504, 45.70229063, 45.70216522, 45.70114399, 45.70144082, 45.70306027, 45.70331782, 45.70342432, 45.70325695, 45.70349189, 45.70326061, 45.70362794, 45.70364634, 45.7034696], \"legendgroup\": \"0\", \"line\": {\"color\": \"#636efa\"}, \"lon\": [4.8051323, 4.80533253, 4.80527331, 4.80538296, 4.80554295, 4.80688803, 4.80673737, 4.80690097, 4.80679777, 4.80724822, 4.80852586, 4.8109415, 4.81115356, 4.83838335, 4.83873393, 4.84083539, 4.84106305, 4.84139507, 4.84095284, 4.84066471, 4.84065411, 4.8411311, 4.84064028, 4.84079167, 4.84074315, 4.84105086, 4.84099913, 4.84070645, 4.8407655, 4.84024445, 4.83891453, 4.83669898, 4.83670214, 4.8361859, 4.83435395, 4.83287605, 4.83231761, 4.83226145, 4.83379656, 4.83653837, 4.8391111, 4.83980701, 4.84705804, 4.84709285, 4.84813312, 4.84894248, 4.85006695, 4.85185562, 4.85207839, 4.8564286, 4.85815034, 4.85959163, 4.8600434, 4.86037051, 4.86214581, 4.86270681, 4.86362837, 4.86464906, 4.86486517, 4.86609747, 4.87381296, 4.87412787, 4.87768543, 4.8816097, 4.8868099, 4.88734039, 4.88776929, 4.8878454, 4.88880399, 4.88908374, 4.89513141, 4.89624188, 4.89718557, 4.90003168, 4.90021053, 4.90228671, 4.90224385, 4.90197134, 4.90185755, 4.90155271, 4.90186656, 4.90168772, 4.90151519, 4.901454], \"mode\": \"lines\", \"name\": \"0\", \"showlegend\": false, \"subplot\": \"mapbox\", \"type\": \"scattermapbox\"}, {\"hoverlabel\": {\"namelength\": 0}, \"hovertemplate\": \"type=0<br>route_num=25<br>lat=%{lat}<br>lon=%{lon}\", \"lat\": [45.70382895, 45.70466235, 45.70682975, 45.70718969, 45.71040954, 45.71090113, 45.7113068, 45.7156765, 45.71671882, 45.7176022, 45.71814035, 45.71889223, 45.72143522, 45.72244129, 45.72264416, 45.72305987, 45.72431774, 45.72622231, 45.72737272, 45.72886432, 45.72945474, 45.73336305, 45.73495763, 45.73711651, 45.73976723, 45.74136316, 45.74445316, 45.74501396, 45.7450513, 45.74523042, 45.7498302, 45.75263575, 45.75410929, 45.75507935, 45.75592591, 45.75588869, 45.75607605, 45.75763011, 45.75827122, 45.75855913, 45.75857988, 45.75927064, 45.75950211, 45.75982474, 45.76187172, 45.76344511, 45.76380601, 45.7641468, 45.76735801, 45.76820547, 45.77187128, 45.77197178], \"legendgroup\": \"0\", \"line\": {\"color\": \"#636efa\"}, \"lon\": [4.90172581, 4.90250152, 4.89881294, 4.89847804, 4.90121855, 4.90193585, 4.90208338, 4.89473361, 4.8934511, 4.89290401, 4.89278951, 4.89288181, 4.89411747, 4.89490556, 4.89488332, 4.89444117, 4.89184883, 4.88673643, 4.88447006, 4.88044196, 4.87923159, 4.87391822, 4.87399382, 4.8738528, 4.87413004, 4.87403535, 4.87432505, 4.87459451, 4.8747748, 4.87468267, 4.8756531, 4.87679123, 4.87694993, 4.877232, 4.87680342, 4.87617892, 4.87633089, 4.87654687, 4.87654384, 4.87633341, 4.87650734, 4.87695131, 4.87605105, 4.87560131, 4.87399496, 4.87386976, 4.87421977, 4.87403322, 4.87386604, 4.87365332, 4.87367976, 4.87345995], \"mode\": \"lines\", \"name\": \"0\", \"showlegend\": false, \"subplot\": \"mapbox\", \"type\": \"scattermapbox\"}, {\"hoverlabel\": {\"namelength\": 0}, \"hovertemplate\": \"type=1<br>route_num=0<br>lat=%{lat}<br>lon=%{lon}\", \"lat\": [45.725, 45.725500000000004, 45.725500000000004, 45.725], \"legendgroup\": \"1\", \"line\": {\"color\": \"#EF553B\"}, \"lon\": [4.87, 4.87, 4.8705, 4.8705], \"mode\": \"lines\", \"name\": \"1\", \"showlegend\": true, \"subplot\": \"mapbox\", \"type\": \"scattermapbox\"}, {\"hoverlabel\": {\"namelength\": 0}, \"hovertemplate\": \"type=1<br>route_num=-1<br>lat=%{lat}<br>lon=%{lon}\", \"lat\": [45.7245, 45.725, 45.725, 45.7245], \"legendgroup\": \"1\", \"line\": {\"color\": \"#EF553B\"}, \"lon\": [4.87, 4.87, 4.8705, 4.8705], \"mode\": \"lines\", \"name\": \"1\", \"showlegend\": false, \"subplot\": \"mapbox\", \"type\": \"scattermapbox\"}, {\"hoverlabel\": {\"namelength\": 0}, \"hovertemplate\": \"type=1<br>route_num=-2<br>lat=%{lat}<br>lon=%{lon}\", \"lat\": [45.725, 45.725500000000004, 45.725500000000004, 45.725], \"legendgroup\": \"1\", \"line\": {\"color\": \"#EF553B\"}, \"lon\": [4.8705, 4.8705, 4.8709999999999996, 4.8709999999999996], \"mode\": \"lines\", \"name\": \"1\", \"showlegend\": false, \"subplot\": \"mapbox\", \"type\": \"scattermapbox\"}, {\"hoverlabel\": {\"namelength\": 0}, \"hovertemplate\": \"type=1<br>route_num=-3<br>lat=%{lat}<br>lon=%{lon}\", \"lat\": [45.7245, 45.725, 45.725, 45.7245], \"legendgroup\": \"1\", \"line\": {\"color\": \"#EF553B\"}, \"lon\": [4.8705, 4.8705, 4.8709999999999996, 4.8709999999999996], \"mode\": \"lines\", \"name\": \"1\", \"showlegend\": false, \"subplot\": \"mapbox\", \"type\": \"scattermapbox\"}, {\"hoverlabel\": {\"namelength\": 0}, \"hovertemplate\": \"type=1<br>route_num=-4<br>lat=%{lat}<br>lon=%{lon}\", \"lat\": [45.7245, 45.725, 45.725, 45.7245], \"legendgroup\": \"1\", \"line\": {\"color\": \"#EF553B\"}, \"lon\": [4.871, 4.871, 4.8715, 4.8715], \"mode\": \"lines\", \"name\": \"1\", \"showlegend\": false, \"subplot\": \"mapbox\", \"type\": \"scattermapbox\"}, {\"hoverlabel\": {\"namelength\": 0}, \"hovertemplate\": \"type=1<br>route_num=-5<br>lat=%{lat}<br>lon=%{lon}\", \"lat\": [45.724000000000004, 45.724500000000006, 45.724500000000006, 45.724000000000004], \"legendgroup\": \"1\", \"line\": {\"color\": \"#EF553B\"}, \"lon\": [4.871, 4.871, 4.8715, 4.8715], \"mode\": \"lines\", \"name\": \"1\", \"showlegend\": false, \"subplot\": \"mapbox\", \"type\": \"scattermapbox\"}, {\"hoverlabel\": {\"namelength\": 0}, \"hovertemplate\": \"type=1<br>route_num=-6<br>lat=%{lat}<br>lon=%{lon}\", \"lat\": [45.724000000000004, 45.724500000000006, 45.724500000000006, 45.724000000000004], \"legendgroup\": \"1\", \"line\": {\"color\": \"#EF553B\"}, \"lon\": [4.8715, 4.8715, 4.872, 4.872], \"mode\": \"lines\", \"name\": \"1\", \"showlegend\": false, \"subplot\": \"mapbox\", \"type\": \"scattermapbox\"}, {\"hoverlabel\": {\"namelength\": 0}, \"hovertemplate\": \"type=1<br>route_num=-7<br>lat=%{lat}<br>lon=%{lon}\", \"lat\": [45.7235, 45.724000000000004, 45.724000000000004, 45.7235], \"legendgroup\": \"1\", \"line\": {\"color\": \"#EF553B\"}, \"lon\": [4.8715, 4.8715, 4.872, 4.872], \"mode\": \"lines\", \"name\": \"1\", \"showlegend\": false, \"subplot\": \"mapbox\", \"type\": \"scattermapbox\"}, {\"hoverlabel\": {\"namelength\": 0}, \"hovertemplate\": \"type=1<br>route_num=-8<br>lat=%{lat}<br>lon=%{lon}\", \"lat\": [45.7235, 45.724000000000004, 45.724000000000004, 45.7235], \"legendgroup\": \"1\", \"line\": {\"color\": \"#EF553B\"}, \"lon\": [4.872, 4.872, 4.8725, 4.8725], \"mode\": \"lines\", \"name\": \"1\", \"showlegend\": false, \"subplot\": \"mapbox\", \"type\": \"scattermapbox\"}, {\"hoverlabel\": {\"namelength\": 0}, \"hovertemplate\": \"type=1<br>route_num=-9<br>lat=%{lat}<br>lon=%{lon}\", \"lat\": [45.723, 45.7235, 45.7235, 45.723], \"legendgroup\": \"1\", \"line\": {\"color\": \"#EF553B\"}, \"lon\": [4.8715, 4.8715, 4.872, 4.872], \"mode\": \"lines\", \"name\": \"1\", \"showlegend\": false, \"subplot\": \"mapbox\", \"type\": \"scattermapbox\"}, {\"hoverlabel\": {\"namelength\": 0}, \"hovertemplate\": \"type=1<br>route_num=-10<br>lat=%{lat}<br>lon=%{lon}\", \"lat\": [45.723, 45.7235, 45.7235, 45.723], \"legendgroup\": \"1\", \"line\": {\"color\": \"#EF553B\"}, \"lon\": [4.872, 4.872, 4.8725, 4.8725], \"mode\": \"lines\", \"name\": \"1\", \"showlegend\": false, \"subplot\": \"mapbox\", \"type\": \"scattermapbox\"}, {\"hoverlabel\": {\"namelength\": 0}, \"hovertemplate\": \"type=1<br>route_num=-11<br>lat=%{lat}<br>lon=%{lon}\", \"lat\": [45.722500000000004, 45.723000000000006, 45.723000000000006, 45.722500000000004], \"legendgroup\": \"1\", \"line\": {\"color\": \"#EF553B\"}, \"lon\": [4.872, 4.872, 4.8725, 4.8725], \"mode\": \"lines\", \"name\": \"1\", \"showlegend\": false, \"subplot\": \"mapbox\", \"type\": \"scattermapbox\"}, {\"hoverlabel\": {\"namelength\": 0}, \"hovertemplate\": \"type=1<br>route_num=-12<br>lat=%{lat}<br>lon=%{lon}\", \"lat\": [45.722500000000004, 45.723000000000006, 45.723000000000006, 45.722500000000004], \"legendgroup\": \"1\", \"line\": {\"color\": \"#EF553B\"}, \"lon\": [4.8725000000000005, 4.8725000000000005, 4.873, 4.873], \"mode\": \"lines\", \"name\": \"1\", \"showlegend\": false, \"subplot\": \"mapbox\", \"type\": \"scattermapbox\"}, {\"hoverlabel\": {\"namelength\": 0}, \"hovertemplate\": \"type=1<br>route_num=-13<br>lat=%{lat}<br>lon=%{lon}\", \"lat\": [45.722, 45.722500000000004, 45.722500000000004, 45.722], \"legendgroup\": \"1\", \"line\": {\"color\": \"#EF553B\"}, \"lon\": [4.8725000000000005, 4.8725000000000005, 4.873, 4.873], \"mode\": \"lines\", \"name\": \"1\", \"showlegend\": false, \"subplot\": \"mapbox\", \"type\": \"scattermapbox\"}, {\"hoverlabel\": {\"namelength\": 0}, \"hovertemplate\": \"type=1<br>route_num=-14<br>lat=%{lat}<br>lon=%{lon}\", \"lat\": [45.722, 45.722500000000004, 45.722500000000004, 45.722], \"legendgroup\": \"1\", \"line\": {\"color\": \"#EF553B\"}, \"lon\": [4.873, 4.873, 4.8735, 4.8735], \"mode\": \"lines\", \"name\": \"1\", \"showlegend\": false, \"subplot\": \"mapbox\", \"type\": \"scattermapbox\"}, {\"hoverlabel\": {\"namelength\": 0}, \"hovertemplate\": \"type=1<br>route_num=-15<br>lat=%{lat}<br>lon=%{lon}\", \"lat\": [45.7215, 45.722, 45.722, 45.7215], \"legendgroup\": \"1\", \"line\": {\"color\": \"#EF553B\"}, \"lon\": [4.873, 4.873, 4.8735, 4.8735], \"mode\": \"lines\", \"name\": \"1\", \"showlegend\": false, \"subplot\": \"mapbox\", \"type\": \"scattermapbox\"}, {\"hoverlabel\": {\"namelength\": 0}, \"hovertemplate\": \"type=1<br>route_num=-16<br>lat=%{lat}<br>lon=%{lon}\", \"lat\": [45.7215, 45.722, 45.722, 45.7215], \"legendgroup\": \"1\", \"line\": {\"color\": \"#EF553B\"}, \"lon\": [4.8735, 4.8735, 4.874, 4.874], \"mode\": \"lines\", \"name\": \"1\", \"showlegend\": false, \"subplot\": \"mapbox\", \"type\": \"scattermapbox\"}, {\"hoverlabel\": {\"namelength\": 0}, \"hovertemplate\": \"type=1<br>route_num=-17<br>lat=%{lat}<br>lon=%{lon}\", \"lat\": [45.721000000000004, 45.721500000000006, 45.721500000000006, 45.721000000000004], \"legendgroup\": \"1\", \"line\": {\"color\": \"#EF553B\"}, \"lon\": [4.8735, 4.8735, 4.874, 4.874], \"mode\": \"lines\", \"name\": \"1\", \"showlegend\": false, \"subplot\": \"mapbox\", \"type\": \"scattermapbox\"}, {\"hoverlabel\": {\"namelength\": 0}, \"hovertemplate\": \"type=1<br>route_num=-18<br>lat=%{lat}<br>lon=%{lon}\", \"lat\": [45.721000000000004, 45.721500000000006, 45.721500000000006, 45.721000000000004], \"legendgroup\": \"1\", \"line\": {\"color\": \"#EF553B\"}, \"lon\": [4.8740000000000006, 4.8740000000000006, 4.8745, 4.8745], \"mode\": \"lines\", \"name\": \"1\", \"showlegend\": false, \"subplot\": \"mapbox\", \"type\": \"scattermapbox\"}, {\"hoverlabel\": {\"namelength\": 0}, \"hovertemplate\": \"type=1<br>route_num=-19<br>lat=%{lat}<br>lon=%{lon}\", \"lat\": [45.7205, 45.721000000000004, 45.721000000000004, 45.7205], \"legendgroup\": \"1\", \"line\": {\"color\": \"#EF553B\"}, \"lon\": [4.8735, 4.8735, 4.874, 4.874], \"mode\": \"lines\", \"name\": \"1\", \"showlegend\": false, \"subplot\": \"mapbox\", \"type\": \"scattermapbox\"}, {\"hoverlabel\": {\"namelength\": 0}, \"hovertemplate\": \"type=1<br>route_num=-20<br>lat=%{lat}<br>lon=%{lon}\", \"lat\": [45.7205, 45.721000000000004, 45.721000000000004, 45.7205], \"legendgroup\": \"1\", \"line\": {\"color\": \"#EF553B\"}, \"lon\": [4.8740000000000006, 4.8740000000000006, 4.8745, 4.8745], \"mode\": \"lines\", \"name\": \"1\", \"showlegend\": false, \"subplot\": \"mapbox\", \"type\": \"scattermapbox\"}, {\"hoverlabel\": {\"namelength\": 0}, \"hovertemplate\": \"type=1<br>route_num=-21<br>lat=%{lat}<br>lon=%{lon}\", \"lat\": [45.72, 45.7205, 45.7205, 45.72], \"legendgroup\": \"1\", \"line\": {\"color\": \"#EF553B\"}, \"lon\": [4.8740000000000006, 4.8740000000000006, 4.8745, 4.8745], \"mode\": \"lines\", \"name\": \"1\", \"showlegend\": false, \"subplot\": \"mapbox\", \"type\": \"scattermapbox\"}, {\"hoverlabel\": {\"namelength\": 0}, \"hovertemplate\": \"type=1<br>route_num=-22<br>lat=%{lat}<br>lon=%{lon}\", \"lat\": [45.72, 45.7205, 45.7205, 45.72], \"legendgroup\": \"1\", \"line\": {\"color\": \"#EF553B\"}, \"lon\": [4.8745, 4.8745, 4.875, 4.875], \"mode\": \"lines\", \"name\": \"1\", \"showlegend\": false, \"subplot\": \"mapbox\", \"type\": \"scattermapbox\"}, {\"hoverlabel\": {\"namelength\": 0}, \"hovertemplate\": \"type=1<br>route_num=-23<br>lat=%{lat}<br>lon=%{lon}\", \"lat\": [45.719500000000004, 45.720000000000006, 45.720000000000006, 45.719500000000004], \"legendgroup\": \"1\", \"line\": {\"color\": \"#EF553B\"}, \"lon\": [4.8745, 4.8745, 4.875, 4.875], \"mode\": \"lines\", \"name\": \"1\", \"showlegend\": false, \"subplot\": \"mapbox\", \"type\": \"scattermapbox\"}, {\"hoverlabel\": {\"namelength\": 0}, \"hovertemplate\": \"type=1<br>route_num=-24<br>lat=%{lat}<br>lon=%{lon}\", \"lat\": [45.719500000000004, 45.720000000000006, 45.720000000000006, 45.719500000000004], \"legendgroup\": \"1\", \"line\": {\"color\": \"#EF553B\"}, \"lon\": [4.875, 4.875, 4.8755, 4.8755], \"mode\": \"lines\", \"name\": \"1\", \"showlegend\": false, \"subplot\": \"mapbox\", \"type\": \"scattermapbox\"}, {\"hoverlabel\": {\"namelength\": 0}, \"hovertemplate\": \"type=1<br>route_num=-25<br>lat=%{lat}<br>lon=%{lon}\", \"lat\": [45.719, 45.719500000000004, 45.719500000000004, 45.719], \"legendgroup\": \"1\", \"line\": {\"color\": \"#EF553B\"}, \"lon\": [4.875, 4.875, 4.8755, 4.8755], \"mode\": \"lines\", \"name\": \"1\", \"showlegend\": false, \"subplot\": \"mapbox\", \"type\": \"scattermapbox\"}, {\"hoverlabel\": {\"namelength\": 0}, \"hovertemplate\": \"type=1<br>route_num=-26<br>lat=%{lat}<br>lon=%{lon}\", \"lat\": [45.719, 45.719500000000004, 45.719500000000004, 45.719], \"legendgroup\": \"1\", \"line\": {\"color\": \"#EF553B\"}, \"lon\": [4.875500000000001, 4.875500000000001, 4.876, 4.876], \"mode\": \"lines\", \"name\": \"1\", \"showlegend\": false, \"subplot\": \"mapbox\", \"type\": \"scattermapbox\"}, {\"hoverlabel\": {\"namelength\": 0}, \"hovertemplate\": \"type=1<br>route_num=-27<br>lat=%{lat}<br>lon=%{lon}\", \"lat\": [45.7185, 45.719, 45.719, 45.7185], \"legendgroup\": \"1\", \"line\": {\"color\": \"#EF553B\"}, \"lon\": [4.875, 4.875, 4.8755, 4.8755], \"mode\": \"lines\", \"name\": \"1\", \"showlegend\": false, \"subplot\": \"mapbox\", \"type\": \"scattermapbox\"}, {\"hoverlabel\": {\"namelength\": 0}, \"hovertemplate\": \"type=1<br>route_num=-28<br>lat=%{lat}<br>lon=%{lon}\", \"lat\": [45.7185, 45.719, 45.719, 45.7185], \"legendgroup\": \"1\", \"line\": {\"color\": \"#EF553B\"}, \"lon\": [4.875500000000001, 4.875500000000001, 4.876, 4.876], \"mode\": \"lines\", \"name\": \"1\", \"showlegend\": false, \"subplot\": \"mapbox\", \"type\": \"scattermapbox\"}, {\"hoverlabel\": {\"namelength\": 0}, \"hovertemplate\": \"type=1<br>route_num=-29<br>lat=%{lat}<br>lon=%{lon}\", \"lat\": [45.718, 45.718500000000006, 45.718500000000006, 45.718], \"legendgroup\": \"1\", \"line\": {\"color\": \"#EF553B\"}, \"lon\": [4.875500000000001, 4.875500000000001, 4.876, 4.876], \"mode\": \"lines\", \"name\": \"1\", \"showlegend\": false, \"subplot\": \"mapbox\", \"type\": \"scattermapbox\"}, {\"hoverlabel\": {\"namelength\": 0}, \"hovertemplate\": \"type=1<br>route_num=-30<br>lat=%{lat}<br>lon=%{lon}\", \"lat\": [45.718, 45.718500000000006, 45.718500000000006, 45.718], \"legendgroup\": \"1\", \"line\": {\"color\": \"#EF553B\"}, \"lon\": [4.876, 4.876, 4.8765, 4.8765], \"mode\": \"lines\", \"name\": \"1\", \"showlegend\": false, \"subplot\": \"mapbox\", \"type\": \"scattermapbox\"}, {\"hoverlabel\": {\"namelength\": 0}, \"hovertemplate\": \"type=1<br>route_num=-31<br>lat=%{lat}<br>lon=%{lon}\", \"lat\": [45.7175, 45.718, 45.718, 45.7175], \"legendgroup\": \"1\", \"line\": {\"color\": \"#EF553B\"}, \"lon\": [4.876, 4.876, 4.8765, 4.8765], \"mode\": \"lines\", \"name\": \"1\", \"showlegend\": false, \"subplot\": \"mapbox\", \"type\": \"scattermapbox\"}, {\"hoverlabel\": {\"namelength\": 0}, \"hovertemplate\": \"type=1<br>route_num=-32<br>lat=%{lat}<br>lon=%{lon}\", \"lat\": [45.7175, 45.718, 45.718, 45.7175], \"legendgroup\": \"1\", \"line\": {\"color\": \"#EF553B\"}, \"lon\": [4.8765, 4.8765, 4.877, 4.877], \"mode\": \"lines\", \"name\": \"1\", \"showlegend\": false, \"subplot\": \"mapbox\", \"type\": \"scattermapbox\"}, {\"hoverlabel\": {\"namelength\": 0}, \"hovertemplate\": \"type=1<br>route_num=-33<br>lat=%{lat}<br>lon=%{lon}\", \"lat\": [45.717, 45.7175, 45.7175, 45.717], \"legendgroup\": \"1\", \"line\": {\"color\": \"#EF553B\"}, \"lon\": [4.8765, 4.8765, 4.877, 4.877], \"mode\": \"lines\", \"name\": \"1\", \"showlegend\": false, \"subplot\": \"mapbox\", \"type\": \"scattermapbox\"}, {\"hoverlabel\": {\"namelength\": 0}, \"hovertemplate\": \"type=1<br>route_num=-34<br>lat=%{lat}<br>lon=%{lon}\", \"lat\": [45.717, 45.7175, 45.7175, 45.717], \"legendgroup\": \"1\", \"line\": {\"color\": \"#EF553B\"}, \"lon\": [4.877000000000001, 4.877000000000001, 4.8775, 4.8775], \"mode\": \"lines\", \"name\": \"1\", \"showlegend\": false, \"subplot\": \"mapbox\", \"type\": \"scattermapbox\"}, {\"hoverlabel\": {\"namelength\": 0}, \"hovertemplate\": \"type=1<br>route_num=-35<br>lat=%{lat}<br>lon=%{lon}\", \"lat\": [45.7165, 45.717000000000006, 45.717000000000006, 45.7165], \"legendgroup\": \"1\", \"line\": {\"color\": \"#EF553B\"}, \"lon\": [4.8765, 4.8765, 4.877, 4.877], \"mode\": \"lines\", \"name\": \"1\", \"showlegend\": false, \"subplot\": \"mapbox\", \"type\": \"scattermapbox\"}, {\"hoverlabel\": {\"namelength\": 0}, \"hovertemplate\": \"type=1<br>route_num=-36<br>lat=%{lat}<br>lon=%{lon}\", \"lat\": [45.7165, 45.717000000000006, 45.717000000000006, 45.7165], \"legendgroup\": \"1\", \"line\": {\"color\": \"#EF553B\"}, \"lon\": [4.877000000000001, 4.877000000000001, 4.8775, 4.8775], \"mode\": \"lines\", \"name\": \"1\", \"showlegend\": false, \"subplot\": \"mapbox\", \"type\": \"scattermapbox\"}, {\"hoverlabel\": {\"namelength\": 0}, \"hovertemplate\": \"type=1<br>route_num=-37<br>lat=%{lat}<br>lon=%{lon}\", \"lat\": [45.716, 45.7165, 45.7165, 45.716], \"legendgroup\": \"1\", \"line\": {\"color\": \"#EF553B\"}, \"lon\": [4.877000000000001, 4.877000000000001, 4.8775, 4.8775], \"mode\": \"lines\", \"name\": \"1\", \"showlegend\": false, \"subplot\": \"mapbox\", \"type\": \"scattermapbox\"}, {\"hoverlabel\": {\"namelength\": 0}, \"hovertemplate\": \"type=1<br>route_num=-38<br>lat=%{lat}<br>lon=%{lon}\", \"lat\": [45.716, 45.7165, 45.7165, 45.716], \"legendgroup\": \"1\", \"line\": {\"color\": \"#EF553B\"}, \"lon\": [4.8775, 4.8775, 4.878, 4.878], \"mode\": \"lines\", \"name\": \"1\", \"showlegend\": false, \"subplot\": \"mapbox\", \"type\": \"scattermapbox\"}, {\"hoverlabel\": {\"namelength\": 0}, \"hovertemplate\": \"type=1<br>route_num=-39<br>lat=%{lat}<br>lon=%{lon}\", \"lat\": [45.7155, 45.716, 45.716, 45.7155], \"legendgroup\": \"1\", \"line\": {\"color\": \"#EF553B\"}, \"lon\": [4.8775, 4.8775, 4.878, 4.878], \"mode\": \"lines\", \"name\": \"1\", \"showlegend\": false, \"subplot\": \"mapbox\", \"type\": \"scattermapbox\"}, {\"hoverlabel\": {\"namelength\": 0}, \"hovertemplate\": \"type=1<br>route_num=-40<br>lat=%{lat}<br>lon=%{lon}\", \"lat\": [45.7155, 45.716, 45.716, 45.7155], \"legendgroup\": \"1\", \"line\": {\"color\": \"#EF553B\"}, \"lon\": [4.878, 4.878, 4.8785, 4.8785], \"mode\": \"lines\", \"name\": \"1\", \"showlegend\": false, \"subplot\": \"mapbox\", \"type\": \"scattermapbox\"}, {\"hoverlabel\": {\"namelength\": 0}, \"hovertemplate\": \"type=1<br>route_num=-41<br>lat=%{lat}<br>lon=%{lon}\", \"lat\": [45.715, 45.715500000000006, 45.715500000000006, 45.715], \"legendgroup\": \"1\", \"line\": {\"color\": \"#EF553B\"}, \"lon\": [4.878, 4.878, 4.8785, 4.8785], \"mode\": \"lines\", \"name\": \"1\", \"showlegend\": false, \"subplot\": \"mapbox\", \"type\": \"scattermapbox\"}, {\"hoverlabel\": {\"namelength\": 0}, \"hovertemplate\": \"type=1<br>route_num=-42<br>lat=%{lat}<br>lon=%{lon}\", \"lat\": [45.715, 45.715500000000006, 45.715500000000006, 45.715], \"legendgroup\": \"1\", \"line\": {\"color\": \"#EF553B\"}, \"lon\": [4.8785, 4.8785, 4.879, 4.879], \"mode\": \"lines\", \"name\": \"1\", \"showlegend\": false, \"subplot\": \"mapbox\", \"type\": \"scattermapbox\"}, {\"hoverlabel\": {\"namelength\": 0}, \"hovertemplate\": \"type=1<br>route_num=-43<br>lat=%{lat}<br>lon=%{lon}\", \"lat\": [45.7145, 45.715, 45.715, 45.7145], \"legendgroup\": \"1\", \"line\": {\"color\": \"#EF553B\"}, \"lon\": [4.8785, 4.8785, 4.879, 4.879], \"mode\": \"lines\", \"name\": \"1\", \"showlegend\": false, \"subplot\": \"mapbox\", \"type\": \"scattermapbox\"}, {\"hoverlabel\": {\"namelength\": 0}, \"hovertemplate\": \"type=1<br>route_num=-44<br>lat=%{lat}<br>lon=%{lon}\", \"lat\": [45.7145, 45.715, 45.715, 45.7145], \"legendgroup\": \"1\", \"line\": {\"color\": \"#EF553B\"}, \"lon\": [4.8790000000000004, 4.8790000000000004, 4.8795, 4.8795], \"mode\": \"lines\", \"name\": \"1\", \"showlegend\": false, \"subplot\": \"mapbox\", \"type\": \"scattermapbox\"}, {\"hoverlabel\": {\"namelength\": 0}, \"hovertemplate\": \"type=1<br>route_num=-45<br>lat=%{lat}<br>lon=%{lon}\", \"lat\": [45.714000000000006, 45.71450000000001, 45.71450000000001, 45.714000000000006], \"legendgroup\": \"1\", \"line\": {\"color\": \"#EF553B\"}, \"lon\": [4.8785, 4.8785, 4.879, 4.879], \"mode\": \"lines\", \"name\": \"1\", \"showlegend\": false, \"subplot\": \"mapbox\", \"type\": \"scattermapbox\"}, {\"hoverlabel\": {\"namelength\": 0}, \"hovertemplate\": \"type=1<br>route_num=-46<br>lat=%{lat}<br>lon=%{lon}\", \"lat\": [45.714000000000006, 45.71450000000001, 45.71450000000001, 45.714000000000006], \"legendgroup\": \"1\", \"line\": {\"color\": \"#EF553B\"}, \"lon\": [4.8790000000000004, 4.8790000000000004, 4.8795, 4.8795], \"mode\": \"lines\", \"name\": \"1\", \"showlegend\": false, \"subplot\": \"mapbox\", \"type\": \"scattermapbox\"}, {\"hoverlabel\": {\"namelength\": 0}, \"hovertemplate\": \"type=1<br>route_num=-47<br>lat=%{lat}<br>lon=%{lon}\", \"lat\": [45.714000000000006, 45.71450000000001, 45.71450000000001, 45.714000000000006], \"legendgroup\": \"1\", \"line\": {\"color\": \"#EF553B\"}, \"lon\": [4.8795, 4.8795, 4.88, 4.88], \"mode\": \"lines\", \"name\": \"1\", \"showlegend\": false, \"subplot\": \"mapbox\", \"type\": \"scattermapbox\"}, {\"hoverlabel\": {\"namelength\": 0}, \"hovertemplate\": \"type=1<br>route_num=-48<br>lat=%{lat}<br>lon=%{lon}\", \"lat\": [45.7135, 45.714000000000006, 45.714000000000006, 45.7135], \"legendgroup\": \"1\", \"line\": {\"color\": \"#EF553B\"}, \"lon\": [4.8790000000000004, 4.8790000000000004, 4.8795, 4.8795], \"mode\": \"lines\", \"name\": \"1\", \"showlegend\": false, \"subplot\": \"mapbox\", \"type\": \"scattermapbox\"}, {\"hoverlabel\": {\"namelength\": 0}, \"hovertemplate\": \"type=1<br>route_num=-49<br>lat=%{lat}<br>lon=%{lon}\", \"lat\": [45.7135, 45.714000000000006, 45.714000000000006, 45.7135], \"legendgroup\": \"1\", \"line\": {\"color\": \"#EF553B\"}, \"lon\": [4.8795, 4.8795, 4.88, 4.88], \"mode\": \"lines\", \"name\": \"1\", \"showlegend\": false, \"subplot\": \"mapbox\", \"type\": \"scattermapbox\"}, {\"hoverlabel\": {\"namelength\": 0}, \"hovertemplate\": \"type=1<br>route_num=-50<br>lat=%{lat}<br>lon=%{lon}\", \"lat\": [45.713, 45.7135, 45.7135, 45.713], \"legendgroup\": \"1\", \"line\": {\"color\": \"#EF553B\"}, \"lon\": [4.8795, 4.8795, 4.88, 4.88], \"mode\": \"lines\", \"name\": \"1\", \"showlegend\": false, \"subplot\": \"mapbox\", \"type\": \"scattermapbox\"}, {\"hoverlabel\": {\"namelength\": 0}, \"hovertemplate\": \"type=1<br>route_num=-51<br>lat=%{lat}<br>lon=%{lon}\", \"lat\": [45.713, 45.7135, 45.7135, 45.713], \"legendgroup\": \"1\", \"line\": {\"color\": \"#EF553B\"}, \"lon\": [4.88, 4.88, 4.8805, 4.8805], \"mode\": \"lines\", \"name\": \"1\", \"showlegend\": false, \"subplot\": \"mapbox\", \"type\": \"scattermapbox\"}, {\"hoverlabel\": {\"namelength\": 0}, \"hovertemplate\": \"type=1<br>route_num=-52<br>lat=%{lat}<br>lon=%{lon}\", \"lat\": [45.712500000000006, 45.71300000000001, 45.71300000000001, 45.712500000000006], \"legendgroup\": \"1\", \"line\": {\"color\": \"#EF553B\"}, \"lon\": [4.88, 4.88, 4.8805, 4.8805], \"mode\": \"lines\", \"name\": \"1\", \"showlegend\": false, \"subplot\": \"mapbox\", \"type\": \"scattermapbox\"}, {\"hoverlabel\": {\"namelength\": 0}, \"hovertemplate\": \"type=1<br>route_num=-53<br>lat=%{lat}<br>lon=%{lon}\", \"lat\": [45.712500000000006, 45.71300000000001, 45.71300000000001, 45.712500000000006], \"legendgroup\": \"1\", \"line\": {\"color\": \"#EF553B\"}, \"lon\": [4.8805000000000005, 4.8805000000000005, 4.881, 4.881], \"mode\": \"lines\", \"name\": \"1\", \"showlegend\": false, \"subplot\": \"mapbox\", \"type\": \"scattermapbox\"}, {\"hoverlabel\": {\"namelength\": 0}, \"hovertemplate\": \"type=1<br>route_num=-54<br>lat=%{lat}<br>lon=%{lon}\", \"lat\": [45.712, 45.712500000000006, 45.712500000000006, 45.712], \"legendgroup\": \"1\", \"line\": {\"color\": \"#EF553B\"}, \"lon\": [4.8805000000000005, 4.8805000000000005, 4.881, 4.881], \"mode\": \"lines\", \"name\": \"1\", \"showlegend\": false, \"subplot\": \"mapbox\", \"type\": \"scattermapbox\"}, {\"hoverlabel\": {\"namelength\": 0}, \"hovertemplate\": \"type=1<br>route_num=-55<br>lat=%{lat}<br>lon=%{lon}\", \"lat\": [45.712, 45.712500000000006, 45.712500000000006, 45.712], \"legendgroup\": \"1\", \"line\": {\"color\": \"#EF553B\"}, \"lon\": [4.881, 4.881, 4.8815, 4.8815], \"mode\": \"lines\", \"name\": \"1\", \"showlegend\": false, \"subplot\": \"mapbox\", \"type\": \"scattermapbox\"}, {\"hoverlabel\": {\"namelength\": 0}, \"hovertemplate\": \"type=1<br>route_num=-56<br>lat=%{lat}<br>lon=%{lon}\", \"lat\": [45.7115, 45.712, 45.712, 45.7115], \"legendgroup\": \"1\", \"line\": {\"color\": \"#EF553B\"}, \"lon\": [4.8805000000000005, 4.8805000000000005, 4.881, 4.881], \"mode\": \"lines\", \"name\": \"1\", \"showlegend\": false, \"subplot\": \"mapbox\", \"type\": \"scattermapbox\"}, {\"hoverlabel\": {\"namelength\": 0}, \"hovertemplate\": \"type=1<br>route_num=-57<br>lat=%{lat}<br>lon=%{lon}\", \"lat\": [45.7115, 45.712, 45.712, 45.7115], \"legendgroup\": \"1\", \"line\": {\"color\": \"#EF553B\"}, \"lon\": [4.881, 4.881, 4.8815, 4.8815], \"mode\": \"lines\", \"name\": \"1\", \"showlegend\": false, \"subplot\": \"mapbox\", \"type\": \"scattermapbox\"}, {\"hoverlabel\": {\"namelength\": 0}, \"hovertemplate\": \"type=1<br>route_num=-58<br>lat=%{lat}<br>lon=%{lon}\", \"lat\": [45.711000000000006, 45.71150000000001, 45.71150000000001, 45.711000000000006], \"legendgroup\": \"1\", \"line\": {\"color\": \"#EF553B\"}, \"lon\": [4.881, 4.881, 4.8815, 4.8815], \"mode\": \"lines\", \"name\": \"1\", \"showlegend\": false, \"subplot\": \"mapbox\", \"type\": \"scattermapbox\"}, {\"hoverlabel\": {\"namelength\": 0}, \"hovertemplate\": \"type=1<br>route_num=-59<br>lat=%{lat}<br>lon=%{lon}\", \"lat\": [45.711000000000006, 45.71150000000001, 45.71150000000001, 45.711000000000006], \"legendgroup\": \"1\", \"line\": {\"color\": \"#EF553B\"}, \"lon\": [4.8815, 4.8815, 4.882, 4.882], \"mode\": \"lines\", \"name\": \"1\", \"showlegend\": false, \"subplot\": \"mapbox\", \"type\": \"scattermapbox\"}, {\"hoverlabel\": {\"namelength\": 0}, \"hovertemplate\": \"type=1<br>route_num=-60<br>lat=%{lat}<br>lon=%{lon}\", \"lat\": [45.7115, 45.712, 45.712, 45.7115], \"legendgroup\": \"1\", \"line\": {\"color\": \"#EF553B\"}, \"lon\": [4.8815, 4.8815, 4.882, 4.882], \"mode\": \"lines\", \"name\": \"1\", \"showlegend\": false, \"subplot\": \"mapbox\", \"type\": \"scattermapbox\"}, {\"hoverlabel\": {\"namelength\": 0}, \"hovertemplate\": \"type=1<br>route_num=-61<br>lat=%{lat}<br>lon=%{lon}\", \"lat\": [45.711000000000006, 45.71150000000001, 45.71150000000001, 45.711000000000006], \"legendgroup\": \"1\", \"line\": {\"color\": \"#EF553B\"}, \"lon\": [4.882000000000001, 4.882000000000001, 4.8825, 4.8825], \"mode\": \"lines\", \"name\": \"1\", \"showlegend\": false, \"subplot\": \"mapbox\", \"type\": \"scattermapbox\"}, {\"hoverlabel\": {\"namelength\": 0}, \"hovertemplate\": \"type=1<br>route_num=-62<br>lat=%{lat}<br>lon=%{lon}\", \"lat\": [45.7105, 45.711000000000006, 45.711000000000006, 45.7105], \"legendgroup\": \"1\", \"line\": {\"color\": \"#EF553B\"}, \"lon\": [4.882000000000001, 4.882000000000001, 4.8825, 4.8825], \"mode\": \"lines\", \"name\": \"1\", \"showlegend\": false, \"subplot\": \"mapbox\", \"type\": \"scattermapbox\"}, {\"hoverlabel\": {\"namelength\": 0}, \"hovertemplate\": \"type=1<br>route_num=-63<br>lat=%{lat}<br>lon=%{lon}\", \"lat\": [45.7105, 45.711000000000006, 45.711000000000006, 45.7105], \"legendgroup\": \"1\", \"line\": {\"color\": \"#EF553B\"}, \"lon\": [4.8825, 4.8825, 4.883, 4.883], \"mode\": \"lines\", \"name\": \"1\", \"showlegend\": false, \"subplot\": \"mapbox\", \"type\": \"scattermapbox\"}, {\"hoverlabel\": {\"namelength\": 0}, \"hovertemplate\": \"type=1<br>route_num=-64<br>lat=%{lat}<br>lon=%{lon}\", \"lat\": [45.7105, 45.711000000000006, 45.711000000000006, 45.7105], \"legendgroup\": \"1\", \"line\": {\"color\": \"#EF553B\"}, \"lon\": [4.883, 4.883, 4.8835, 4.8835], \"mode\": \"lines\", \"name\": \"1\", \"showlegend\": false, \"subplot\": \"mapbox\", \"type\": \"scattermapbox\"}, {\"hoverlabel\": {\"namelength\": 0}, \"hovertemplate\": \"type=1<br>route_num=-65<br>lat=%{lat}<br>lon=%{lon}\", \"lat\": [45.71, 45.7105, 45.7105, 45.71], \"legendgroup\": \"1\", \"line\": {\"color\": \"#EF553B\"}, \"lon\": [4.883, 4.883, 4.8835, 4.8835], \"mode\": \"lines\", \"name\": \"1\", \"showlegend\": false, \"subplot\": \"mapbox\", \"type\": \"scattermapbox\"}, {\"hoverlabel\": {\"namelength\": 0}, \"hovertemplate\": \"type=1<br>route_num=-66<br>lat=%{lat}<br>lon=%{lon}\", \"lat\": [45.71, 45.7105, 45.7105, 45.71], \"legendgroup\": \"1\", \"line\": {\"color\": \"#EF553B\"}, \"lon\": [4.883500000000001, 4.883500000000001, 4.884, 4.884], \"mode\": \"lines\", \"name\": \"1\", \"showlegend\": false, \"subplot\": \"mapbox\", \"type\": \"scattermapbox\"}, {\"hoverlabel\": {\"namelength\": 0}, \"hovertemplate\": \"type=1<br>route_num=-67<br>lat=%{lat}<br>lon=%{lon}\", \"lat\": [45.709500000000006, 45.71000000000001, 45.71000000000001, 45.709500000000006], \"legendgroup\": \"1\", \"line\": {\"color\": \"#EF553B\"}, \"lon\": [4.883500000000001, 4.883500000000001, 4.884, 4.884], \"mode\": \"lines\", \"name\": \"1\", \"showlegend\": false, \"subplot\": \"mapbox\", \"type\": \"scattermapbox\"}, {\"hoverlabel\": {\"namelength\": 0}, \"hovertemplate\": \"type=1<br>route_num=-68<br>lat=%{lat}<br>lon=%{lon}\", \"lat\": [45.709500000000006, 45.71000000000001, 45.71000000000001, 45.709500000000006], \"legendgroup\": \"1\", \"line\": {\"color\": \"#EF553B\"}, \"lon\": [4.884, 4.884, 4.8845, 4.8845], \"mode\": \"lines\", \"name\": \"1\", \"showlegend\": false, \"subplot\": \"mapbox\", \"type\": \"scattermapbox\"}, {\"hoverlabel\": {\"namelength\": 0}, \"hovertemplate\": \"type=1<br>route_num=-69<br>lat=%{lat}<br>lon=%{lon}\", \"lat\": [45.709500000000006, 45.71000000000001, 45.71000000000001, 45.709500000000006], \"legendgroup\": \"1\", \"line\": {\"color\": \"#EF553B\"}, \"lon\": [4.8845, 4.8845, 4.885, 4.885], \"mode\": \"lines\", \"name\": \"1\", \"showlegend\": false, \"subplot\": \"mapbox\", \"type\": \"scattermapbox\"}, {\"hoverlabel\": {\"namelength\": 0}, \"hovertemplate\": \"type=1<br>route_num=-70<br>lat=%{lat}<br>lon=%{lon}\", \"lat\": [45.709, 45.709500000000006, 45.709500000000006, 45.709], \"legendgroup\": \"1\", \"line\": {\"color\": \"#EF553B\"}, \"lon\": [4.8845, 4.8845, 4.885, 4.885], \"mode\": \"lines\", \"name\": \"1\", \"showlegend\": false, \"subplot\": \"mapbox\", \"type\": \"scattermapbox\"}, {\"hoverlabel\": {\"namelength\": 0}, \"hovertemplate\": \"type=1<br>route_num=-71<br>lat=%{lat}<br>lon=%{lon}\", \"lat\": [45.709, 45.709500000000006, 45.709500000000006, 45.709], \"legendgroup\": \"1\", \"line\": {\"color\": \"#EF553B\"}, \"lon\": [4.885000000000001, 4.885000000000001, 4.8855, 4.8855], \"mode\": \"lines\", \"name\": \"1\", \"showlegend\": false, \"subplot\": \"mapbox\", \"type\": \"scattermapbox\"}, {\"hoverlabel\": {\"namelength\": 0}, \"hovertemplate\": \"type=1<br>route_num=-72<br>lat=%{lat}<br>lon=%{lon}\", \"lat\": [45.7085, 45.709, 45.709, 45.7085], \"legendgroup\": \"1\", \"line\": {\"color\": \"#EF553B\"}, \"lon\": [4.885000000000001, 4.885000000000001, 4.8855, 4.8855], \"mode\": \"lines\", \"name\": \"1\", \"showlegend\": false, \"subplot\": \"mapbox\", \"type\": \"scattermapbox\"}, {\"hoverlabel\": {\"namelength\": 0}, \"hovertemplate\": \"type=1<br>route_num=-73<br>lat=%{lat}<br>lon=%{lon}\", \"lat\": [45.7085, 45.709, 45.709, 45.7085], \"legendgroup\": \"1\", \"line\": {\"color\": \"#EF553B\"}, \"lon\": [4.8855, 4.8855, 4.886, 4.886], \"mode\": \"lines\", \"name\": \"1\", \"showlegend\": false, \"subplot\": \"mapbox\", \"type\": \"scattermapbox\"}, {\"hoverlabel\": {\"namelength\": 0}, \"hovertemplate\": \"type=1<br>route_num=-74<br>lat=%{lat}<br>lon=%{lon}\", \"lat\": [45.709, 45.709500000000006, 45.709500000000006, 45.709], \"legendgroup\": \"1\", \"line\": {\"color\": \"#EF553B\"}, \"lon\": [4.8855, 4.8855, 4.886, 4.886], \"mode\": \"lines\", \"name\": \"1\", \"showlegend\": false, \"subplot\": \"mapbox\", \"type\": \"scattermapbox\"}, {\"hoverlabel\": {\"namelength\": 0}, \"hovertemplate\": \"type=1<br>route_num=-75<br>lat=%{lat}<br>lon=%{lon}\", \"lat\": [45.7085, 45.709, 45.709, 45.7085], \"legendgroup\": \"1\", \"line\": {\"color\": \"#EF553B\"}, \"lon\": [4.886, 4.886, 4.8865, 4.8865], \"mode\": \"lines\", \"name\": \"1\", \"showlegend\": false, \"subplot\": \"mapbox\", \"type\": \"scattermapbox\"}, {\"hoverlabel\": {\"namelength\": 0}, \"hovertemplate\": \"type=1<br>route_num=-76<br>lat=%{lat}<br>lon=%{lon}\", \"lat\": [45.708000000000006, 45.70850000000001, 45.70850000000001, 45.708000000000006], \"legendgroup\": \"1\", \"line\": {\"color\": \"#EF553B\"}, \"lon\": [4.886, 4.886, 4.8865, 4.8865], \"mode\": \"lines\", \"name\": \"1\", \"showlegend\": false, \"subplot\": \"mapbox\", \"type\": \"scattermapbox\"}, {\"hoverlabel\": {\"namelength\": 0}, \"hovertemplate\": \"type=1<br>route_num=-77<br>lat=%{lat}<br>lon=%{lon}\", \"lat\": [45.708000000000006, 45.70850000000001, 45.70850000000001, 45.708000000000006], \"legendgroup\": \"1\", \"line\": {\"color\": \"#EF553B\"}, \"lon\": [4.8865, 4.8865, 4.887, 4.887], \"mode\": \"lines\", \"name\": \"1\", \"showlegend\": false, \"subplot\": \"mapbox\", \"type\": \"scattermapbox\"}, {\"hoverlabel\": {\"namelength\": 0}, \"hovertemplate\": \"type=1<br>route_num=-78<br>lat=%{lat}<br>lon=%{lon}\", \"lat\": [45.7075, 45.708000000000006, 45.708000000000006, 45.7075], \"legendgroup\": \"1\", \"line\": {\"color\": \"#EF553B\"}, \"lon\": [4.8865, 4.8865, 4.887, 4.887], \"mode\": \"lines\", \"name\": \"1\", \"showlegend\": false, \"subplot\": \"mapbox\", \"type\": \"scattermapbox\"}, {\"hoverlabel\": {\"namelength\": 0}, \"hovertemplate\": \"type=1<br>route_num=-79<br>lat=%{lat}<br>lon=%{lon}\", \"lat\": [45.7075, 45.708000000000006, 45.708000000000006, 45.7075], \"legendgroup\": \"1\", \"line\": {\"color\": \"#EF553B\"}, \"lon\": [4.8870000000000005, 4.8870000000000005, 4.8875, 4.8875], \"mode\": \"lines\", \"name\": \"1\", \"showlegend\": false, \"subplot\": \"mapbox\", \"type\": \"scattermapbox\"}, {\"hoverlabel\": {\"namelength\": 0}, \"hovertemplate\": \"type=1<br>route_num=-80<br>lat=%{lat}<br>lon=%{lon}\", \"lat\": [45.707, 45.7075, 45.7075, 45.707], \"legendgroup\": \"1\", \"line\": {\"color\": \"#EF553B\"}, \"lon\": [4.8870000000000005, 4.8870000000000005, 4.8875, 4.8875], \"mode\": \"lines\", \"name\": \"1\", \"showlegend\": false, \"subplot\": \"mapbox\", \"type\": \"scattermapbox\"}, {\"hoverlabel\": {\"namelength\": 0}, \"hovertemplate\": \"type=1<br>route_num=-81<br>lat=%{lat}<br>lon=%{lon}\", \"lat\": [45.707, 45.7075, 45.7075, 45.707], \"legendgroup\": \"1\", \"line\": {\"color\": \"#EF553B\"}, \"lon\": [4.8875, 4.8875, 4.888, 4.888], \"mode\": \"lines\", \"name\": \"1\", \"showlegend\": false, \"subplot\": \"mapbox\", \"type\": \"scattermapbox\"}, {\"hoverlabel\": {\"namelength\": 0}, \"hovertemplate\": \"type=1<br>route_num=-82<br>lat=%{lat}<br>lon=%{lon}\", \"lat\": [45.706500000000005, 45.70700000000001, 45.70700000000001, 45.706500000000005], \"legendgroup\": \"1\", \"line\": {\"color\": \"#EF553B\"}, \"lon\": [4.8870000000000005, 4.8870000000000005, 4.8875, 4.8875], \"mode\": \"lines\", \"name\": \"1\", \"showlegend\": false, \"subplot\": \"mapbox\", \"type\": \"scattermapbox\"}, {\"hoverlabel\": {\"namelength\": 0}, \"hovertemplate\": \"type=1<br>route_num=-83<br>lat=%{lat}<br>lon=%{lon}\", \"lat\": [45.706500000000005, 45.70700000000001, 45.70700000000001, 45.706500000000005], \"legendgroup\": \"1\", \"line\": {\"color\": \"#EF553B\"}, \"lon\": [4.8875, 4.8875, 4.888, 4.888], \"mode\": \"lines\", \"name\": \"1\", \"showlegend\": false, \"subplot\": \"mapbox\", \"type\": \"scattermapbox\"}, {\"hoverlabel\": {\"namelength\": 0}, \"hovertemplate\": \"type=1<br>route_num=-84<br>lat=%{lat}<br>lon=%{lon}\", \"lat\": [45.706, 45.706500000000005, 45.706500000000005, 45.706], \"legendgroup\": \"1\", \"line\": {\"color\": \"#EF553B\"}, \"lon\": [4.8875, 4.8875, 4.888, 4.888], \"mode\": \"lines\", \"name\": \"1\", \"showlegend\": false, \"subplot\": \"mapbox\", \"type\": \"scattermapbox\"}, {\"hoverlabel\": {\"namelength\": 0}, \"hovertemplate\": \"type=1<br>route_num=-85<br>lat=%{lat}<br>lon=%{lon}\", \"lat\": [45.706, 45.706500000000005, 45.706500000000005, 45.706], \"legendgroup\": \"1\", \"line\": {\"color\": \"#EF553B\"}, \"lon\": [4.888, 4.888, 4.8885, 4.8885], \"mode\": \"lines\", \"name\": \"1\", \"showlegend\": false, \"subplot\": \"mapbox\", \"type\": \"scattermapbox\"}, {\"hoverlabel\": {\"namelength\": 0}, \"hovertemplate\": \"type=1<br>route_num=-86<br>lat=%{lat}<br>lon=%{lon}\", \"lat\": [45.706, 45.706500000000005, 45.706500000000005, 45.706], \"legendgroup\": \"1\", \"line\": {\"color\": \"#EF553B\"}, \"lon\": [4.8885000000000005, 4.8885000000000005, 4.889, 4.889], \"mode\": \"lines\", \"name\": \"1\", \"showlegend\": false, \"subplot\": \"mapbox\", \"type\": \"scattermapbox\"}, {\"hoverlabel\": {\"namelength\": 0}, \"hovertemplate\": \"type=1<br>route_num=-87<br>lat=%{lat}<br>lon=%{lon}\", \"lat\": [45.7055, 45.706, 45.706, 45.7055], \"legendgroup\": \"1\", \"line\": {\"color\": \"#EF553B\"}, \"lon\": [4.8885000000000005, 4.8885000000000005, 4.889, 4.889], \"mode\": \"lines\", \"name\": \"1\", \"showlegend\": false, \"subplot\": \"mapbox\", \"type\": \"scattermapbox\"}, {\"hoverlabel\": {\"namelength\": 0}, \"hovertemplate\": \"type=1<br>route_num=-88<br>lat=%{lat}<br>lon=%{lon}\", \"lat\": [45.7055, 45.706, 45.706, 45.7055], \"legendgroup\": \"1\", \"line\": {\"color\": \"#EF553B\"}, \"lon\": [4.889, 4.889, 4.8895, 4.8895], \"mode\": \"lines\", \"name\": \"1\", \"showlegend\": false, \"subplot\": \"mapbox\", \"type\": \"scattermapbox\"}, {\"hoverlabel\": {\"namelength\": 0}, \"hovertemplate\": \"type=1<br>route_num=-89<br>lat=%{lat}<br>lon=%{lon}\", \"lat\": [45.705000000000005, 45.70550000000001, 45.70550000000001, 45.705000000000005], \"legendgroup\": \"1\", \"line\": {\"color\": \"#EF553B\"}, \"lon\": [4.889, 4.889, 4.8895, 4.8895], \"mode\": \"lines\", \"name\": \"1\", \"showlegend\": false, \"subplot\": \"mapbox\", \"type\": \"scattermapbox\"}, {\"hoverlabel\": {\"namelength\": 0}, \"hovertemplate\": \"type=1<br>route_num=-90<br>lat=%{lat}<br>lon=%{lon}\", \"lat\": [45.705000000000005, 45.70550000000001, 45.70550000000001, 45.705000000000005], \"legendgroup\": \"1\", \"line\": {\"color\": \"#EF553B\"}, \"lon\": [4.8895, 4.8895, 4.89, 4.89], \"mode\": \"lines\", \"name\": \"1\", \"showlegend\": false, \"subplot\": \"mapbox\", \"type\": \"scattermapbox\"}, {\"hoverlabel\": {\"namelength\": 0}, \"hovertemplate\": \"type=1<br>route_num=-91<br>lat=%{lat}<br>lon=%{lon}\", \"lat\": [45.705000000000005, 45.70550000000001, 45.70550000000001, 45.705000000000005], \"legendgroup\": \"1\", \"line\": {\"color\": \"#EF553B\"}, \"lon\": [4.890000000000001, 4.890000000000001, 4.8905, 4.8905], \"mode\": \"lines\", \"name\": \"1\", \"showlegend\": false, \"subplot\": \"mapbox\", \"type\": \"scattermapbox\"}, {\"hoverlabel\": {\"namelength\": 0}, \"hovertemplate\": \"type=1<br>route_num=-92<br>lat=%{lat}<br>lon=%{lon}\", \"lat\": [45.7045, 45.705000000000005, 45.705000000000005, 45.7045], \"legendgroup\": \"1\", \"line\": {\"color\": \"#EF553B\"}, \"lon\": [4.890000000000001, 4.890000000000001, 4.8905, 4.8905], \"mode\": \"lines\", \"name\": \"1\", \"showlegend\": false, \"subplot\": \"mapbox\", \"type\": \"scattermapbox\"}, {\"hoverlabel\": {\"namelength\": 0}, \"hovertemplate\": \"type=1<br>route_num=-93<br>lat=%{lat}<br>lon=%{lon}\", \"lat\": [45.7045, 45.705000000000005, 45.705000000000005, 45.7045], \"legendgroup\": \"1\", \"line\": {\"color\": \"#EF553B\"}, \"lon\": [4.8905, 4.8905, 4.891, 4.891], \"mode\": \"lines\", \"name\": \"1\", \"showlegend\": false, \"subplot\": \"mapbox\", \"type\": \"scattermapbox\"}, {\"hoverlabel\": {\"namelength\": 0}, \"hovertemplate\": \"type=1<br>route_num=-94<br>lat=%{lat}<br>lon=%{lon}\", \"lat\": [45.705000000000005, 45.70550000000001, 45.70550000000001, 45.705000000000005], \"legendgroup\": \"1\", \"line\": {\"color\": \"#EF553B\"}, \"lon\": [4.8905, 4.8905, 4.891, 4.891], \"mode\": \"lines\", \"name\": \"1\", \"showlegend\": false, \"subplot\": \"mapbox\", \"type\": \"scattermapbox\"}, {\"hoverlabel\": {\"namelength\": 0}, \"hovertemplate\": \"type=1<br>route_num=-95<br>lat=%{lat}<br>lon=%{lon}\", \"lat\": [45.7045, 45.705000000000005, 45.705000000000005, 45.7045], \"legendgroup\": \"1\", \"line\": {\"color\": \"#EF553B\"}, \"lon\": [4.891, 4.891, 4.8915, 4.8915], \"mode\": \"lines\", \"name\": \"1\", \"showlegend\": false, \"subplot\": \"mapbox\", \"type\": \"scattermapbox\"}, {\"hoverlabel\": {\"namelength\": 0}, \"hovertemplate\": \"type=1<br>route_num=-96<br>lat=%{lat}<br>lon=%{lon}\", \"lat\": [45.705000000000005, 45.70550000000001, 45.70550000000001, 45.705000000000005], \"legendgroup\": \"1\", \"line\": {\"color\": \"#EF553B\"}, \"lon\": [4.891, 4.891, 4.8915, 4.8915], \"mode\": \"lines\", \"name\": \"1\", \"showlegend\": false, \"subplot\": \"mapbox\", \"type\": \"scattermapbox\"}, {\"hoverlabel\": {\"namelength\": 0}, \"hovertemplate\": \"type=1<br>route_num=-97<br>lat=%{lat}<br>lon=%{lon}\", \"lat\": [45.704, 45.7045, 45.7045, 45.704], \"legendgroup\": \"1\", \"line\": {\"color\": \"#EF553B\"}, \"lon\": [4.891, 4.891, 4.8915, 4.8915], \"mode\": \"lines\", \"name\": \"1\", \"showlegend\": false, \"subplot\": \"mapbox\", \"type\": \"scattermapbox\"}, {\"hoverlabel\": {\"namelength\": 0}, \"hovertemplate\": \"type=1<br>route_num=-98<br>lat=%{lat}<br>lon=%{lon}\", \"lat\": [45.704, 45.7045, 45.7045, 45.704], \"legendgroup\": \"1\", \"line\": {\"color\": \"#EF553B\"}, \"lon\": [4.891500000000001, 4.891500000000001, 4.892, 4.892], \"mode\": \"lines\", \"name\": \"1\", \"showlegend\": false, \"subplot\": \"mapbox\", \"type\": \"scattermapbox\"}, {\"hoverlabel\": {\"namelength\": 0}, \"hovertemplate\": \"type=1<br>route_num=-99<br>lat=%{lat}<br>lon=%{lon}\", \"lat\": [45.704, 45.7045, 45.7045, 45.704], \"legendgroup\": \"1\", \"line\": {\"color\": \"#EF553B\"}, \"lon\": [4.892, 4.892, 4.8925, 4.8925], \"mode\": \"lines\", \"name\": \"1\", \"showlegend\": false, \"subplot\": \"mapbox\", \"type\": \"scattermapbox\"}, {\"hoverlabel\": {\"namelength\": 0}, \"hovertemplate\": \"type=1<br>route_num=-100<br>lat=%{lat}<br>lon=%{lon}\", \"lat\": [45.704, 45.7045, 45.7045, 45.704], \"legendgroup\": \"1\", \"line\": {\"color\": \"#EF553B\"}, \"lon\": [4.8925, 4.8925, 4.893, 4.893], \"mode\": \"lines\", \"name\": \"1\", \"showlegend\": false, \"subplot\": \"mapbox\", \"type\": \"scattermapbox\"}, {\"hoverlabel\": {\"namelength\": 0}, \"hovertemplate\": \"type=1<br>route_num=-101<br>lat=%{lat}<br>lon=%{lon}\", \"lat\": [45.703500000000005, 45.70400000000001, 45.70400000000001, 45.703500000000005], \"legendgroup\": \"1\", \"line\": {\"color\": \"#EF553B\"}, \"lon\": [4.8925, 4.8925, 4.893, 4.893], \"mode\": \"lines\", \"name\": \"1\", \"showlegend\": false, \"subplot\": \"mapbox\", \"type\": \"scattermapbox\"}, {\"hoverlabel\": {\"namelength\": 0}, \"hovertemplate\": \"type=1<br>route_num=-102<br>lat=%{lat}<br>lon=%{lon}\", \"lat\": [45.703500000000005, 45.70400000000001, 45.70400000000001, 45.703500000000005], \"legendgroup\": \"1\", \"line\": {\"color\": \"#EF553B\"}, \"lon\": [4.893, 4.893, 4.8934999999999995, 4.8934999999999995], \"mode\": \"lines\", \"name\": \"1\", \"showlegend\": false, \"subplot\": \"mapbox\", \"type\": \"scattermapbox\"}, {\"hoverlabel\": {\"namelength\": 0}, \"hovertemplate\": \"type=1<br>route_num=-103<br>lat=%{lat}<br>lon=%{lon}\", \"lat\": [45.703500000000005, 45.70400000000001, 45.70400000000001, 45.703500000000005], \"legendgroup\": \"1\", \"line\": {\"color\": \"#EF553B\"}, \"lon\": [4.8935, 4.8935, 4.894, 4.894], \"mode\": \"lines\", \"name\": \"1\", \"showlegend\": false, \"subplot\": \"mapbox\", \"type\": \"scattermapbox\"}, {\"hoverlabel\": {\"namelength\": 0}, \"hovertemplate\": \"type=1<br>route_num=-104<br>lat=%{lat}<br>lon=%{lon}\", \"lat\": [45.703, 45.703500000000005, 45.703500000000005, 45.703], \"legendgroup\": \"1\", \"line\": {\"color\": \"#EF553B\"}, \"lon\": [4.8935, 4.8935, 4.894, 4.894], \"mode\": \"lines\", \"name\": \"1\", \"showlegend\": false, \"subplot\": \"mapbox\", \"type\": \"scattermapbox\"}, {\"hoverlabel\": {\"namelength\": 0}, \"hovertemplate\": \"type=1<br>route_num=-105<br>lat=%{lat}<br>lon=%{lon}\", \"lat\": [45.703, 45.703500000000005, 45.703500000000005, 45.703], \"legendgroup\": \"1\", \"line\": {\"color\": \"#EF553B\"}, \"lon\": [4.894, 4.894, 4.8945, 4.8945], \"mode\": \"lines\", \"name\": \"1\", \"showlegend\": false, \"subplot\": \"mapbox\", \"type\": \"scattermapbox\"}, {\"hoverlabel\": {\"namelength\": 0}, \"hovertemplate\": \"type=1<br>route_num=-106<br>lat=%{lat}<br>lon=%{lon}\", \"lat\": [45.703, 45.703500000000005, 45.703500000000005, 45.703], \"legendgroup\": \"1\", \"line\": {\"color\": \"#EF553B\"}, \"lon\": [4.8945, 4.8945, 4.895, 4.895], \"mode\": \"lines\", \"name\": \"1\", \"showlegend\": false, \"subplot\": \"mapbox\", \"type\": \"scattermapbox\"}, {\"hoverlabel\": {\"namelength\": 0}, \"hovertemplate\": \"type=1<br>route_num=-107<br>lat=%{lat}<br>lon=%{lon}\", \"lat\": [45.703, 45.703500000000005, 45.703500000000005, 45.703], \"legendgroup\": \"1\", \"line\": {\"color\": \"#EF553B\"}, \"lon\": [4.8950000000000005, 4.8950000000000005, 4.8955, 4.8955], \"mode\": \"lines\", \"name\": \"1\", \"showlegend\": false, \"subplot\": \"mapbox\", \"type\": \"scattermapbox\"}, {\"hoverlabel\": {\"namelength\": 0}, \"hovertemplate\": \"type=1<br>route_num=-108<br>lat=%{lat}<br>lon=%{lon}\", \"lat\": [45.7025, 45.703, 45.703, 45.7025], \"legendgroup\": \"1\", \"line\": {\"color\": \"#EF553B\"}, \"lon\": [4.8950000000000005, 4.8950000000000005, 4.8955, 4.8955], \"mode\": \"lines\", \"name\": \"1\", \"showlegend\": false, \"subplot\": \"mapbox\", \"type\": \"scattermapbox\"}, {\"hoverlabel\": {\"namelength\": 0}, \"hovertemplate\": \"type=1<br>route_num=-109<br>lat=%{lat}<br>lon=%{lon}\", \"lat\": [45.7025, 45.703, 45.703, 45.7025], \"legendgroup\": \"1\", \"line\": {\"color\": \"#EF553B\"}, \"lon\": [4.8955, 4.8955, 4.896, 4.896], \"mode\": \"lines\", \"name\": \"1\", \"showlegend\": false, \"subplot\": \"mapbox\", \"type\": \"scattermapbox\"}, {\"hoverlabel\": {\"namelength\": 0}, \"hovertemplate\": \"type=1<br>route_num=-110<br>lat=%{lat}<br>lon=%{lon}\", \"lat\": [45.702000000000005, 45.70250000000001, 45.70250000000001, 45.702000000000005], \"legendgroup\": \"1\", \"line\": {\"color\": \"#EF553B\"}, \"lon\": [4.8955, 4.8955, 4.896, 4.896], \"mode\": \"lines\", \"name\": \"1\", \"showlegend\": false, \"subplot\": \"mapbox\", \"type\": \"scattermapbox\"}, {\"hoverlabel\": {\"namelength\": 0}, \"hovertemplate\": \"type=1<br>route_num=-111<br>lat=%{lat}<br>lon=%{lon}\", \"lat\": [45.702000000000005, 45.70250000000001, 45.70250000000001, 45.702000000000005], \"legendgroup\": \"1\", \"line\": {\"color\": \"#EF553B\"}, \"lon\": [4.896, 4.896, 4.8965, 4.8965], \"mode\": \"lines\", \"name\": \"1\", \"showlegend\": false, \"subplot\": \"mapbox\", \"type\": \"scattermapbox\"}, {\"hoverlabel\": {\"namelength\": 0}, \"hovertemplate\": \"type=1<br>route_num=-112<br>lat=%{lat}<br>lon=%{lon}\", \"lat\": [45.702000000000005, 45.70250000000001, 45.70250000000001, 45.702000000000005], \"legendgroup\": \"1\", \"line\": {\"color\": \"#EF553B\"}, \"lon\": [4.8965000000000005, 4.8965000000000005, 4.897, 4.897], \"mode\": \"lines\", \"name\": \"1\", \"showlegend\": false, \"subplot\": \"mapbox\", \"type\": \"scattermapbox\"}, {\"hoverlabel\": {\"namelength\": 0}, \"hovertemplate\": \"type=1<br>route_num=-113<br>lat=%{lat}<br>lon=%{lon}\", \"lat\": [45.702000000000005, 45.70250000000001, 45.70250000000001, 45.702000000000005], \"legendgroup\": \"1\", \"line\": {\"color\": \"#EF553B\"}, \"lon\": [4.897, 4.897, 4.8975, 4.8975], \"mode\": \"lines\", \"name\": \"1\", \"showlegend\": false, \"subplot\": \"mapbox\", \"type\": \"scattermapbox\"}, {\"hoverlabel\": {\"namelength\": 0}, \"hovertemplate\": \"type=1<br>route_num=-114<br>lat=%{lat}<br>lon=%{lon}\", \"lat\": [45.702000000000005, 45.70250000000001, 45.70250000000001, 45.702000000000005], \"legendgroup\": \"1\", \"line\": {\"color\": \"#EF553B\"}, \"lon\": [4.8975, 4.8975, 4.898, 4.898], \"mode\": \"lines\", \"name\": \"1\", \"showlegend\": false, \"subplot\": \"mapbox\", \"type\": \"scattermapbox\"}, {\"hoverlabel\": {\"namelength\": 0}, \"hovertemplate\": \"type=1<br>route_num=-115<br>lat=%{lat}<br>lon=%{lon}\", \"lat\": [45.702000000000005, 45.70250000000001, 45.70250000000001, 45.702000000000005], \"legendgroup\": \"1\", \"line\": {\"color\": \"#EF553B\"}, \"lon\": [4.898000000000001, 4.898000000000001, 4.8985, 4.8985], \"mode\": \"lines\", \"name\": \"1\", \"showlegend\": false, \"subplot\": \"mapbox\", \"type\": \"scattermapbox\"}, {\"hoverlabel\": {\"namelength\": 0}, \"hovertemplate\": \"type=1<br>route_num=-116<br>lat=%{lat}<br>lon=%{lon}\", \"lat\": [45.7015, 45.702000000000005, 45.702000000000005, 45.7015], \"legendgroup\": \"1\", \"line\": {\"color\": \"#EF553B\"}, \"lon\": [4.8975, 4.8975, 4.898, 4.898], \"mode\": \"lines\", \"name\": \"1\", \"showlegend\": false, \"subplot\": \"mapbox\", \"type\": \"scattermapbox\"}, {\"hoverlabel\": {\"namelength\": 0}, \"hovertemplate\": \"type=1<br>route_num=-117<br>lat=%{lat}<br>lon=%{lon}\", \"lat\": [45.7015, 45.702000000000005, 45.702000000000005, 45.7015], \"legendgroup\": \"1\", \"line\": {\"color\": \"#EF553B\"}, \"lon\": [4.898000000000001, 4.898000000000001, 4.8985, 4.8985], \"mode\": \"lines\", \"name\": \"1\", \"showlegend\": false, \"subplot\": \"mapbox\", \"type\": \"scattermapbox\"}, {\"hoverlabel\": {\"namelength\": 0}, \"hovertemplate\": \"type=1<br>route_num=-118<br>lat=%{lat}<br>lon=%{lon}\", \"lat\": [45.7015, 45.702000000000005, 45.702000000000005, 45.7015], \"legendgroup\": \"1\", \"line\": {\"color\": \"#EF553B\"}, \"lon\": [4.8985, 4.8985, 4.899, 4.899], \"mode\": \"lines\", \"name\": \"1\", \"showlegend\": false, \"subplot\": \"mapbox\", \"type\": \"scattermapbox\"}, {\"hoverlabel\": {\"namelength\": 0}, \"hovertemplate\": \"type=1<br>route_num=-119<br>lat=%{lat}<br>lon=%{lon}\", \"lat\": [45.702000000000005, 45.70250000000001, 45.70250000000001, 45.702000000000005], \"legendgroup\": \"1\", \"line\": {\"color\": \"#EF553B\"}, \"lon\": [4.899, 4.899, 4.8995, 4.8995], \"mode\": \"lines\", \"name\": \"1\", \"showlegend\": false, \"subplot\": \"mapbox\", \"type\": \"scattermapbox\"}, {\"hoverlabel\": {\"namelength\": 0}, \"hovertemplate\": \"type=1<br>route_num=-120<br>lat=%{lat}<br>lon=%{lon}\", \"lat\": [45.7015, 45.702000000000005, 45.702000000000005, 45.7015], \"legendgroup\": \"1\", \"line\": {\"color\": \"#EF553B\"}, \"lon\": [4.899, 4.899, 4.8995, 4.8995], \"mode\": \"lines\", \"name\": \"1\", \"showlegend\": false, \"subplot\": \"mapbox\", \"type\": \"scattermapbox\"}, {\"hoverlabel\": {\"namelength\": 0}, \"hovertemplate\": \"type=1<br>route_num=-121<br>lat=%{lat}<br>lon=%{lon}\", \"lat\": [45.705000000000005, 45.70550000000001, 45.70550000000001, 45.705000000000005], \"legendgroup\": \"1\", \"line\": {\"color\": \"#EF553B\"}, \"lon\": [4.9, 4.9, 4.9005, 4.9005], \"mode\": \"lines\", \"name\": \"1\", \"showlegend\": false, \"subplot\": \"mapbox\", \"type\": \"scattermapbox\"}, {\"hoverlabel\": {\"namelength\": 0}, \"hovertemplate\": \"type=1<br>route_num=-122<br>lat=%{lat}<br>lon=%{lon}\", \"lat\": [45.7055, 45.706, 45.706, 45.7055], \"legendgroup\": \"1\", \"line\": {\"color\": \"#EF553B\"}, \"lon\": [4.9, 4.9, 4.9005, 4.9005], \"mode\": \"lines\", \"name\": \"1\", \"showlegend\": false, \"subplot\": \"mapbox\", \"type\": \"scattermapbox\"}, {\"hoverlabel\": {\"namelength\": 0}, \"hovertemplate\": \"type=1<br>route_num=-123<br>lat=%{lat}<br>lon=%{lon}\", \"lat\": [45.7055, 45.706, 45.706, 45.7055], \"legendgroup\": \"1\", \"line\": {\"color\": \"#EF553B\"}, \"lon\": [4.9005, 4.9005, 4.901, 4.901], \"mode\": \"lines\", \"name\": \"1\", \"showlegend\": false, \"subplot\": \"mapbox\", \"type\": \"scattermapbox\"}, {\"hoverlabel\": {\"namelength\": 0}, \"hovertemplate\": \"type=1<br>route_num=-124<br>lat=%{lat}<br>lon=%{lon}\", \"lat\": [45.705000000000005, 45.70550000000001, 45.70550000000001, 45.705000000000005], \"legendgroup\": \"1\", \"line\": {\"color\": \"#EF553B\"}, \"lon\": [4.9005, 4.9005, 4.901, 4.901], \"mode\": \"lines\", \"name\": \"1\", \"showlegend\": false, \"subplot\": \"mapbox\", \"type\": \"scattermapbox\"}, {\"hoverlabel\": {\"namelength\": 0}, \"hovertemplate\": \"type=1<br>route_num=-125<br>lat=%{lat}<br>lon=%{lon}\", \"lat\": [45.705000000000005, 45.70550000000001, 45.70550000000001, 45.705000000000005], \"legendgroup\": \"1\", \"line\": {\"color\": \"#EF553B\"}, \"lon\": [4.901, 4.901, 4.9014999999999995, 4.9014999999999995], \"mode\": \"lines\", \"name\": \"1\", \"showlegend\": false, \"subplot\": \"mapbox\", \"type\": \"scattermapbox\"}, {\"hoverlabel\": {\"namelength\": 0}, \"hovertemplate\": \"type=1<br>route_num=-126<br>lat=%{lat}<br>lon=%{lon}\", \"lat\": [45.705000000000005, 45.70550000000001, 45.70550000000001, 45.705000000000005], \"legendgroup\": \"1\", \"line\": {\"color\": \"#EF553B\"}, \"lon\": [4.9015, 4.9015, 4.902, 4.902], \"mode\": \"lines\", \"name\": \"1\", \"showlegend\": false, \"subplot\": \"mapbox\", \"type\": \"scattermapbox\"}, {\"hoverlabel\": {\"namelength\": 0}, \"hovertemplate\": \"type=1<br>route_num=-127<br>lat=%{lat}<br>lon=%{lon}\", \"lat\": [45.7045, 45.705000000000005, 45.705000000000005, 45.7045], \"legendgroup\": \"1\", \"line\": {\"color\": \"#EF553B\"}, \"lon\": [4.9015, 4.9015, 4.902, 4.902], \"mode\": \"lines\", \"name\": \"1\", \"showlegend\": false, \"subplot\": \"mapbox\", \"type\": \"scattermapbox\"}, {\"hoverlabel\": {\"namelength\": 0}, \"hovertemplate\": \"type=1<br>route_num=-128<br>lat=%{lat}<br>lon=%{lon}\", \"lat\": [45.704, 45.7045, 45.7045, 45.704], \"legendgroup\": \"1\", \"line\": {\"color\": \"#EF553B\"}, \"lon\": [4.9015, 4.9015, 4.902, 4.902], \"mode\": \"lines\", \"name\": \"1\", \"showlegend\": false, \"subplot\": \"mapbox\", \"type\": \"scattermapbox\"}, {\"hoverlabel\": {\"namelength\": 0}, \"hovertemplate\": \"type=1<br>route_num=-129<br>lat=%{lat}<br>lon=%{lon}\", \"lat\": [45.7045, 45.705000000000005, 45.705000000000005, 45.7045], \"legendgroup\": \"1\", \"line\": {\"color\": \"#EF553B\"}, \"lon\": [4.902, 4.902, 4.9025, 4.9025], \"mode\": \"lines\", \"name\": \"1\", \"showlegend\": false, \"subplot\": \"mapbox\", \"type\": \"scattermapbox\"}, {\"hoverlabel\": {\"namelength\": 0}, \"hovertemplate\": \"type=1<br>route_num=-130<br>lat=%{lat}<br>lon=%{lon}\", \"lat\": [45.704, 45.7045, 45.7045, 45.704], \"legendgroup\": \"1\", \"line\": {\"color\": \"#EF553B\"}, \"lon\": [4.902, 4.902, 4.9025, 4.9025], \"mode\": \"lines\", \"name\": \"1\", \"showlegend\": false, \"subplot\": \"mapbox\", \"type\": \"scattermapbox\"}, {\"hoverlabel\": {\"namelength\": 0}, \"hovertemplate\": \"type=1<br>route_num=-131<br>lat=%{lat}<br>lon=%{lon}\", \"lat\": [45.703500000000005, 45.70400000000001, 45.70400000000001, 45.703500000000005], \"legendgroup\": \"1\", \"line\": {\"color\": \"#EF553B\"}, \"lon\": [4.902, 4.902, 4.9025, 4.9025], \"mode\": \"lines\", \"name\": \"1\", \"showlegend\": false, \"subplot\": \"mapbox\", \"type\": \"scattermapbox\"}, {\"hoverlabel\": {\"namelength\": 0}, \"hovertemplate\": \"type=1<br>route_num=-132<br>lat=%{lat}<br>lon=%{lon}\", \"lat\": [45.703500000000005, 45.70400000000001, 45.70400000000001, 45.703500000000005], \"legendgroup\": \"1\", \"line\": {\"color\": \"#EF553B\"}, \"lon\": [4.9015, 4.9015, 4.902, 4.902], \"mode\": \"lines\", \"name\": \"1\", \"showlegend\": false, \"subplot\": \"mapbox\", \"type\": \"scattermapbox\"}, {\"hoverlabel\": {\"namelength\": 0}, \"hovertemplate\": \"type=1<br>route_num=-133<br>lat=%{lat}<br>lon=%{lon}\", \"lat\": [45.703, 45.703500000000005, 45.703500000000005, 45.703], \"legendgroup\": \"1\", \"line\": {\"color\": \"#EF553B\"}, \"lon\": [4.9015, 4.9015, 4.902, 4.902], \"mode\": \"lines\", \"name\": \"1\", \"showlegend\": false, \"subplot\": \"mapbox\", \"type\": \"scattermapbox\"}, {\"hoverlabel\": {\"namelength\": 0}, \"hovertemplate\": \"type=1<br>route_num=-134<br>lat=%{lat}<br>lon=%{lon}\", \"lat\": [45.7025, 45.703, 45.703, 45.7025], \"legendgroup\": \"1\", \"line\": {\"color\": \"#EF553B\"}, \"lon\": [4.9015, 4.9015, 4.902, 4.902], \"mode\": \"lines\", \"name\": \"1\", \"showlegend\": false, \"subplot\": \"mapbox\", \"type\": \"scattermapbox\"}, {\"hoverlabel\": {\"namelength\": 0}, \"hovertemplate\": \"type=1<br>route_num=-135<br>lat=%{lat}<br>lon=%{lon}\", \"lat\": [45.703, 45.703500000000005, 45.703500000000005, 45.703], \"legendgroup\": \"1\", \"line\": {\"color\": \"#EF553B\"}, \"lon\": [4.902, 4.902, 4.9025, 4.9025], \"mode\": \"lines\", \"name\": \"1\", \"showlegend\": false, \"subplot\": \"mapbox\", \"type\": \"scattermapbox\"}, {\"hoverlabel\": {\"namelength\": 0}, \"hovertemplate\": \"type=1<br>route_num=-136<br>lat=%{lat}<br>lon=%{lon}\", \"lat\": [45.723, 45.7235, 45.7235, 45.723], \"legendgroup\": \"1\", \"line\": {\"color\": \"#EF553B\"}, \"lon\": [4.8935, 4.8935, 4.894, 4.894], \"mode\": \"lines\", \"name\": \"1\", \"showlegend\": false, \"subplot\": \"mapbox\", \"type\": \"scattermapbox\"}, {\"hoverlabel\": {\"namelength\": 0}, \"hovertemplate\": \"type=1<br>route_num=-137<br>lat=%{lat}<br>lon=%{lon}\", \"lat\": [45.723, 45.7235, 45.7235, 45.723], \"legendgroup\": \"1\", \"line\": {\"color\": \"#EF553B\"}, \"lon\": [4.893, 4.893, 4.8934999999999995, 4.8934999999999995], \"mode\": \"lines\", \"name\": \"1\", \"showlegend\": false, \"subplot\": \"mapbox\", \"type\": \"scattermapbox\"}, {\"hoverlabel\": {\"namelength\": 0}, \"hovertemplate\": \"type=1<br>route_num=-138<br>lat=%{lat}<br>lon=%{lon}\", \"lat\": [45.7235, 45.724000000000004, 45.724000000000004, 45.7235], \"legendgroup\": \"1\", \"line\": {\"color\": \"#EF553B\"}, \"lon\": [4.893, 4.893, 4.8934999999999995, 4.8934999999999995], \"mode\": \"lines\", \"name\": \"1\", \"showlegend\": false, \"subplot\": \"mapbox\", \"type\": \"scattermapbox\"}, {\"hoverlabel\": {\"namelength\": 0}, \"hovertemplate\": \"type=1<br>route_num=-139<br>lat=%{lat}<br>lon=%{lon}\", \"lat\": [45.7235, 45.724000000000004, 45.724000000000004, 45.7235], \"legendgroup\": \"1\", \"line\": {\"color\": \"#EF553B\"}, \"lon\": [4.8925, 4.8925, 4.893, 4.893], \"mode\": \"lines\", \"name\": \"1\", \"showlegend\": false, \"subplot\": \"mapbox\", \"type\": \"scattermapbox\"}, {\"hoverlabel\": {\"namelength\": 0}, \"hovertemplate\": \"type=1<br>route_num=-140<br>lat=%{lat}<br>lon=%{lon}\", \"lat\": [45.7235, 45.724000000000004, 45.724000000000004, 45.7235], \"legendgroup\": \"1\", \"line\": {\"color\": \"#EF553B\"}, \"lon\": [4.892, 4.892, 4.8925, 4.8925], \"mode\": \"lines\", \"name\": \"1\", \"showlegend\": false, \"subplot\": \"mapbox\", \"type\": \"scattermapbox\"}, {\"hoverlabel\": {\"namelength\": 0}, \"hovertemplate\": \"type=1<br>route_num=-141<br>lat=%{lat}<br>lon=%{lon}\", \"lat\": [45.724000000000004, 45.724500000000006, 45.724500000000006, 45.724000000000004], \"legendgroup\": \"1\", \"line\": {\"color\": \"#EF553B\"}, \"lon\": [4.892, 4.892, 4.8925, 4.8925], \"mode\": \"lines\", \"name\": \"1\", \"showlegend\": false, \"subplot\": \"mapbox\", \"type\": \"scattermapbox\"}, {\"hoverlabel\": {\"namelength\": 0}, \"hovertemplate\": \"type=1<br>route_num=-142<br>lat=%{lat}<br>lon=%{lon}\", \"lat\": [45.724000000000004, 45.724500000000006, 45.724500000000006, 45.724000000000004], \"legendgroup\": \"1\", \"line\": {\"color\": \"#EF553B\"}, \"lon\": [4.891500000000001, 4.891500000000001, 4.892, 4.892], \"mode\": \"lines\", \"name\": \"1\", \"showlegend\": false, \"subplot\": \"mapbox\", \"type\": \"scattermapbox\"}, {\"hoverlabel\": {\"namelength\": 0}, \"hovertemplate\": \"type=1<br>route_num=-143<br>lat=%{lat}<br>lon=%{lon}\", \"lat\": [45.724000000000004, 45.724500000000006, 45.724500000000006, 45.724000000000004], \"legendgroup\": \"1\", \"line\": {\"color\": \"#EF553B\"}, \"lon\": [4.891, 4.891, 4.8915, 4.8915], \"mode\": \"lines\", \"name\": \"1\", \"showlegend\": false, \"subplot\": \"mapbox\", \"type\": \"scattermapbox\"}, {\"hoverlabel\": {\"namelength\": 0}, \"hovertemplate\": \"type=1<br>route_num=-144<br>lat=%{lat}<br>lon=%{lon}\", \"lat\": [45.7245, 45.725, 45.725, 45.7245], \"legendgroup\": \"1\", \"line\": {\"color\": \"#EF553B\"}, \"lon\": [4.891, 4.891, 4.8915, 4.8915], \"mode\": \"lines\", \"name\": \"1\", \"showlegend\": false, \"subplot\": \"mapbox\", \"type\": \"scattermapbox\"}, {\"hoverlabel\": {\"namelength\": 0}, \"hovertemplate\": \"type=1<br>route_num=-145<br>lat=%{lat}<br>lon=%{lon}\", \"lat\": [45.7245, 45.725, 45.725, 45.7245], \"legendgroup\": \"1\", \"line\": {\"color\": \"#EF553B\"}, \"lon\": [4.8905, 4.8905, 4.891, 4.891], \"mode\": \"lines\", \"name\": \"1\", \"showlegend\": false, \"subplot\": \"mapbox\", \"type\": \"scattermapbox\"}, {\"hoverlabel\": {\"namelength\": 0}, \"hovertemplate\": \"type=1<br>route_num=-146<br>lat=%{lat}<br>lon=%{lon}\", \"lat\": [45.7245, 45.725, 45.725, 45.7245], \"legendgroup\": \"1\", \"line\": {\"color\": \"#EF553B\"}, \"lon\": [4.890000000000001, 4.890000000000001, 4.8905, 4.8905], \"mode\": \"lines\", \"name\": \"1\", \"showlegend\": false, \"subplot\": \"mapbox\", \"type\": \"scattermapbox\"}, {\"hoverlabel\": {\"namelength\": 0}, \"hovertemplate\": \"type=1<br>route_num=-147<br>lat=%{lat}<br>lon=%{lon}\", \"lat\": [45.7245, 45.725, 45.725, 45.7245], \"legendgroup\": \"1\", \"line\": {\"color\": \"#EF553B\"}, \"lon\": [4.8895, 4.8895, 4.89, 4.89], \"mode\": \"lines\", \"name\": \"1\", \"showlegend\": false, \"subplot\": \"mapbox\", \"type\": \"scattermapbox\"}, {\"hoverlabel\": {\"namelength\": 0}, \"hovertemplate\": \"type=1<br>route_num=-148<br>lat=%{lat}<br>lon=%{lon}\", \"lat\": [45.725, 45.725500000000004, 45.725500000000004, 45.725], \"legendgroup\": \"1\", \"line\": {\"color\": \"#EF553B\"}, \"lon\": [4.8895, 4.8895, 4.89, 4.89], \"mode\": \"lines\", \"name\": \"1\", \"showlegend\": false, \"subplot\": \"mapbox\", \"type\": \"scattermapbox\"}, {\"hoverlabel\": {\"namelength\": 0}, \"hovertemplate\": \"type=1<br>route_num=-149<br>lat=%{lat}<br>lon=%{lon}\", \"lat\": [45.725, 45.725500000000004, 45.725500000000004, 45.725], \"legendgroup\": \"1\", \"line\": {\"color\": \"#EF553B\"}, \"lon\": [4.889, 4.889, 4.8895, 4.8895], \"mode\": \"lines\", \"name\": \"1\", \"showlegend\": false, \"subplot\": \"mapbox\", \"type\": \"scattermapbox\"}, {\"hoverlabel\": {\"namelength\": 0}, \"hovertemplate\": \"type=1<br>route_num=-150<br>lat=%{lat}<br>lon=%{lon}\", \"lat\": [45.725, 45.725500000000004, 45.725500000000004, 45.725], \"legendgroup\": \"1\", \"line\": {\"color\": \"#EF553B\"}, \"lon\": [4.8885000000000005, 4.8885000000000005, 4.889, 4.889], \"mode\": \"lines\", \"name\": \"1\", \"showlegend\": false, \"subplot\": \"mapbox\", \"type\": \"scattermapbox\"}, {\"hoverlabel\": {\"namelength\": 0}, \"hovertemplate\": \"type=1<br>route_num=-151<br>lat=%{lat}<br>lon=%{lon}\", \"lat\": [45.725, 45.725500000000004, 45.725500000000004, 45.725], \"legendgroup\": \"1\", \"line\": {\"color\": \"#EF553B\"}, \"lon\": [4.888, 4.888, 4.8885, 4.8885], \"mode\": \"lines\", \"name\": \"1\", \"showlegend\": false, \"subplot\": \"mapbox\", \"type\": \"scattermapbox\"}, {\"hoverlabel\": {\"namelength\": 0}, \"hovertemplate\": \"type=1<br>route_num=-152<br>lat=%{lat}<br>lon=%{lon}\", \"lat\": [45.725500000000004, 45.726000000000006, 45.726000000000006, 45.725500000000004], \"legendgroup\": \"1\", \"line\": {\"color\": \"#EF553B\"}, \"lon\": [4.888, 4.888, 4.8885, 4.8885], \"mode\": \"lines\", \"name\": \"1\", \"showlegend\": false, \"subplot\": \"mapbox\", \"type\": \"scattermapbox\"}, {\"hoverlabel\": {\"namelength\": 0}, \"hovertemplate\": \"type=1<br>route_num=-153<br>lat=%{lat}<br>lon=%{lon}\", \"lat\": [45.725500000000004, 45.726000000000006, 45.726000000000006, 45.725500000000004], \"legendgroup\": \"1\", \"line\": {\"color\": \"#EF553B\"}, \"lon\": [4.8875, 4.8875, 4.888, 4.888], \"mode\": \"lines\", \"name\": \"1\", \"showlegend\": false, \"subplot\": \"mapbox\", \"type\": \"scattermapbox\"}, {\"hoverlabel\": {\"namelength\": 0}, \"hovertemplate\": \"type=1<br>route_num=-154<br>lat=%{lat}<br>lon=%{lon}\", \"lat\": [45.725500000000004, 45.726000000000006, 45.726000000000006, 45.725500000000004], \"legendgroup\": \"1\", \"line\": {\"color\": \"#EF553B\"}, \"lon\": [4.8870000000000005, 4.8870000000000005, 4.8875, 4.8875], \"mode\": \"lines\", \"name\": \"1\", \"showlegend\": false, \"subplot\": \"mapbox\", \"type\": \"scattermapbox\"}, {\"hoverlabel\": {\"namelength\": 0}, \"hovertemplate\": \"type=1<br>route_num=-155<br>lat=%{lat}<br>lon=%{lon}\", \"lat\": [45.726, 45.7265, 45.7265, 45.726], \"legendgroup\": \"1\", \"line\": {\"color\": \"#EF553B\"}, \"lon\": [4.8870000000000005, 4.8870000000000005, 4.8875, 4.8875], \"mode\": \"lines\", \"name\": \"1\", \"showlegend\": false, \"subplot\": \"mapbox\", \"type\": \"scattermapbox\"}, {\"hoverlabel\": {\"namelength\": 0}, \"hovertemplate\": \"type=1<br>route_num=-156<br>lat=%{lat}<br>lon=%{lon}\", \"lat\": [45.726, 45.7265, 45.7265, 45.726], \"legendgroup\": \"1\", \"line\": {\"color\": \"#EF553B\"}, \"lon\": [4.8865, 4.8865, 4.887, 4.887], \"mode\": \"lines\", \"name\": \"1\", \"showlegend\": false, \"subplot\": \"mapbox\", \"type\": \"scattermapbox\"}, {\"hoverlabel\": {\"namelength\": 0}, \"hovertemplate\": \"type=1<br>route_num=-157<br>lat=%{lat}<br>lon=%{lon}\", \"lat\": [45.726, 45.7265, 45.7265, 45.726], \"legendgroup\": \"1\", \"line\": {\"color\": \"#EF553B\"}, \"lon\": [4.886, 4.886, 4.8865, 4.8865], \"mode\": \"lines\", \"name\": \"1\", \"showlegend\": false, \"subplot\": \"mapbox\", \"type\": \"scattermapbox\"}, {\"hoverlabel\": {\"namelength\": 0}, \"hovertemplate\": \"type=1<br>route_num=-158<br>lat=%{lat}<br>lon=%{lon}\", \"lat\": [45.7265, 45.727000000000004, 45.727000000000004, 45.7265], \"legendgroup\": \"1\", \"line\": {\"color\": \"#EF553B\"}, \"lon\": [4.886, 4.886, 4.8865, 4.8865], \"mode\": \"lines\", \"name\": \"1\", \"showlegend\": false, \"subplot\": \"mapbox\", \"type\": \"scattermapbox\"}, {\"hoverlabel\": {\"namelength\": 0}, \"hovertemplate\": \"type=1<br>route_num=-159<br>lat=%{lat}<br>lon=%{lon}\", \"lat\": [45.7265, 45.727000000000004, 45.727000000000004, 45.7265], \"legendgroup\": \"1\", \"line\": {\"color\": \"#EF553B\"}, \"lon\": [4.8855, 4.8855, 4.886, 4.886], \"mode\": \"lines\", \"name\": \"1\", \"showlegend\": false, \"subplot\": \"mapbox\", \"type\": \"scattermapbox\"}, {\"hoverlabel\": {\"namelength\": 0}, \"hovertemplate\": \"type=1<br>route_num=-160<br>lat=%{lat}<br>lon=%{lon}\", \"lat\": [45.7265, 45.727000000000004, 45.727000000000004, 45.7265], \"legendgroup\": \"1\", \"line\": {\"color\": \"#EF553B\"}, \"lon\": [4.885000000000001, 4.885000000000001, 4.8855, 4.8855], \"mode\": \"lines\", \"name\": \"1\", \"showlegend\": false, \"subplot\": \"mapbox\", \"type\": \"scattermapbox\"}, {\"hoverlabel\": {\"namelength\": 0}, \"hovertemplate\": \"type=1<br>route_num=-161<br>lat=%{lat}<br>lon=%{lon}\", \"lat\": [45.727000000000004, 45.727500000000006, 45.727500000000006, 45.727000000000004], \"legendgroup\": \"1\", \"line\": {\"color\": \"#EF553B\"}, \"lon\": [4.885000000000001, 4.885000000000001, 4.8855, 4.8855], \"mode\": \"lines\", \"name\": \"1\", \"showlegend\": false, \"subplot\": \"mapbox\", \"type\": \"scattermapbox\"}, {\"hoverlabel\": {\"namelength\": 0}, \"hovertemplate\": \"type=1<br>route_num=-162<br>lat=%{lat}<br>lon=%{lon}\", \"lat\": [45.727000000000004, 45.727500000000006, 45.727500000000006, 45.727000000000004], \"legendgroup\": \"1\", \"line\": {\"color\": \"#EF553B\"}, \"lon\": [4.8845, 4.8845, 4.885, 4.885], \"mode\": \"lines\", \"name\": \"1\", \"showlegend\": false, \"subplot\": \"mapbox\", \"type\": \"scattermapbox\"}, {\"hoverlabel\": {\"namelength\": 0}, \"hovertemplate\": \"type=1<br>route_num=-163<br>lat=%{lat}<br>lon=%{lon}\", \"lat\": [45.727000000000004, 45.727500000000006, 45.727500000000006, 45.727000000000004], \"legendgroup\": \"1\", \"line\": {\"color\": \"#EF553B\"}, \"lon\": [4.884, 4.884, 4.8845, 4.8845], \"mode\": \"lines\", \"name\": \"1\", \"showlegend\": false, \"subplot\": \"mapbox\", \"type\": \"scattermapbox\"}, {\"hoverlabel\": {\"namelength\": 0}, \"hovertemplate\": \"type=1<br>route_num=-164<br>lat=%{lat}<br>lon=%{lon}\", \"lat\": [45.7275, 45.728, 45.728, 45.7275], \"legendgroup\": \"1\", \"line\": {\"color\": \"#EF553B\"}, \"lon\": [4.884, 4.884, 4.8845, 4.8845], \"mode\": \"lines\", \"name\": \"1\", \"showlegend\": false, \"subplot\": \"mapbox\", \"type\": \"scattermapbox\"}, {\"hoverlabel\": {\"namelength\": 0}, \"hovertemplate\": \"type=1<br>route_num=-165<br>lat=%{lat}<br>lon=%{lon}\", \"lat\": [45.7275, 45.728, 45.728, 45.7275], \"legendgroup\": \"1\", \"line\": {\"color\": \"#EF553B\"}, \"lon\": [4.883500000000001, 4.883500000000001, 4.884, 4.884], \"mode\": \"lines\", \"name\": \"1\", \"showlegend\": false, \"subplot\": \"mapbox\", \"type\": \"scattermapbox\"}, {\"hoverlabel\": {\"namelength\": 0}, \"hovertemplate\": \"type=1<br>route_num=-166<br>lat=%{lat}<br>lon=%{lon}\", \"lat\": [45.7275, 45.728, 45.728, 45.7275], \"legendgroup\": \"1\", \"line\": {\"color\": \"#EF553B\"}, \"lon\": [4.883, 4.883, 4.8835, 4.8835], \"mode\": \"lines\", \"name\": \"1\", \"showlegend\": false, \"subplot\": \"mapbox\", \"type\": \"scattermapbox\"}, {\"hoverlabel\": {\"namelength\": 0}, \"hovertemplate\": \"type=1<br>route_num=-167<br>lat=%{lat}<br>lon=%{lon}\", \"lat\": [45.7275, 45.728, 45.728, 45.7275], \"legendgroup\": \"1\", \"line\": {\"color\": \"#EF553B\"}, \"lon\": [4.8825, 4.8825, 4.883, 4.883], \"mode\": \"lines\", \"name\": \"1\", \"showlegend\": false, \"subplot\": \"mapbox\", \"type\": \"scattermapbox\"}, {\"hoverlabel\": {\"namelength\": 0}, \"hovertemplate\": \"type=1<br>route_num=-168<br>lat=%{lat}<br>lon=%{lon}\", \"lat\": [45.728, 45.728500000000004, 45.728500000000004, 45.728], \"legendgroup\": \"1\", \"line\": {\"color\": \"#EF553B\"}, \"lon\": [4.8825, 4.8825, 4.883, 4.883], \"mode\": \"lines\", \"name\": \"1\", \"showlegend\": false, \"subplot\": \"mapbox\", \"type\": \"scattermapbox\"}, {\"hoverlabel\": {\"namelength\": 0}, \"hovertemplate\": \"type=1<br>route_num=-169<br>lat=%{lat}<br>lon=%{lon}\", \"lat\": [45.728, 45.728500000000004, 45.728500000000004, 45.728], \"legendgroup\": \"1\", \"line\": {\"color\": \"#EF553B\"}, \"lon\": [4.882000000000001, 4.882000000000001, 4.8825, 4.8825], \"mode\": \"lines\", \"name\": \"1\", \"showlegend\": false, \"subplot\": \"mapbox\", \"type\": \"scattermapbox\"}, {\"hoverlabel\": {\"namelength\": 0}, \"hovertemplate\": \"type=1<br>route_num=-170<br>lat=%{lat}<br>lon=%{lon}\", \"lat\": [45.728, 45.728500000000004, 45.728500000000004, 45.728], \"legendgroup\": \"1\", \"line\": {\"color\": \"#EF553B\"}, \"lon\": [4.8815, 4.8815, 4.882, 4.882], \"mode\": \"lines\", \"name\": \"1\", \"showlegend\": false, \"subplot\": \"mapbox\", \"type\": \"scattermapbox\"}, {\"hoverlabel\": {\"namelength\": 0}, \"hovertemplate\": \"type=1<br>route_num=-171<br>lat=%{lat}<br>lon=%{lon}\", \"lat\": [45.728500000000004, 45.729000000000006, 45.729000000000006, 45.728500000000004], \"legendgroup\": \"1\", \"line\": {\"color\": \"#EF553B\"}, \"lon\": [4.8815, 4.8815, 4.882, 4.882], \"mode\": \"lines\", \"name\": \"1\", \"showlegend\": false, \"subplot\": \"mapbox\", \"type\": \"scattermapbox\"}, {\"hoverlabel\": {\"namelength\": 0}, \"hovertemplate\": \"type=1<br>route_num=-172<br>lat=%{lat}<br>lon=%{lon}\", \"lat\": [45.728500000000004, 45.729000000000006, 45.729000000000006, 45.728500000000004], \"legendgroup\": \"1\", \"line\": {\"color\": \"#EF553B\"}, \"lon\": [4.881, 4.881, 4.8815, 4.8815], \"mode\": \"lines\", \"name\": \"1\", \"showlegend\": false, \"subplot\": \"mapbox\", \"type\": \"scattermapbox\"}, {\"hoverlabel\": {\"namelength\": 0}, \"hovertemplate\": \"type=1<br>route_num=-173<br>lat=%{lat}<br>lon=%{lon}\", \"lat\": [45.728500000000004, 45.729000000000006, 45.729000000000006, 45.728500000000004], \"legendgroup\": \"1\", \"line\": {\"color\": \"#EF553B\"}, \"lon\": [4.8805000000000005, 4.8805000000000005, 4.881, 4.881], \"mode\": \"lines\", \"name\": \"1\", \"showlegend\": false, \"subplot\": \"mapbox\", \"type\": \"scattermapbox\"}, {\"hoverlabel\": {\"namelength\": 0}, \"hovertemplate\": \"type=1<br>route_num=-174<br>lat=%{lat}<br>lon=%{lon}\", \"lat\": [45.728500000000004, 45.729000000000006, 45.729000000000006, 45.728500000000004], \"legendgroup\": \"1\", \"line\": {\"color\": \"#EF553B\"}, \"lon\": [4.88, 4.88, 4.8805, 4.8805], \"mode\": \"lines\", \"name\": \"1\", \"showlegend\": false, \"subplot\": \"mapbox\", \"type\": \"scattermapbox\"}, {\"hoverlabel\": {\"namelength\": 0}, \"hovertemplate\": \"type=1<br>route_num=-175<br>lat=%{lat}<br>lon=%{lon}\", \"lat\": [45.729, 45.7295, 45.7295, 45.729], \"legendgroup\": \"1\", \"line\": {\"color\": \"#EF553B\"}, \"lon\": [4.88, 4.88, 4.8805, 4.8805], \"mode\": \"lines\", \"name\": \"1\", \"showlegend\": false, \"subplot\": \"mapbox\", \"type\": \"scattermapbox\"}, {\"hoverlabel\": {\"namelength\": 0}, \"hovertemplate\": \"type=1<br>route_num=-176<br>lat=%{lat}<br>lon=%{lon}\", \"lat\": [45.729, 45.7295, 45.7295, 45.729], \"legendgroup\": \"1\", \"line\": {\"color\": \"#EF553B\"}, \"lon\": [4.8795, 4.8795, 4.88, 4.88], \"mode\": \"lines\", \"name\": \"1\", \"showlegend\": false, \"subplot\": \"mapbox\", \"type\": \"scattermapbox\"}, {\"hoverlabel\": {\"namelength\": 0}, \"hovertemplate\": \"type=1<br>route_num=-177<br>lat=%{lat}<br>lon=%{lon}\", \"lat\": [45.729, 45.7295, 45.7295, 45.729], \"legendgroup\": \"1\", \"line\": {\"color\": \"#EF553B\"}, \"lon\": [4.8790000000000004, 4.8790000000000004, 4.8795, 4.8795], \"mode\": \"lines\", \"name\": \"1\", \"showlegend\": false, \"subplot\": \"mapbox\", \"type\": \"scattermapbox\"}, {\"hoverlabel\": {\"namelength\": 0}, \"hovertemplate\": \"type=1<br>route_num=-178<br>lat=%{lat}<br>lon=%{lon}\", \"lat\": [45.7295, 45.730000000000004, 45.730000000000004, 45.7295], \"legendgroup\": \"1\", \"line\": {\"color\": \"#EF553B\"}, \"lon\": [4.8790000000000004, 4.8790000000000004, 4.8795, 4.8795], \"mode\": \"lines\", \"name\": \"1\", \"showlegend\": false, \"subplot\": \"mapbox\", \"type\": \"scattermapbox\"}, {\"hoverlabel\": {\"namelength\": 0}, \"hovertemplate\": \"type=1<br>route_num=-179<br>lat=%{lat}<br>lon=%{lon}\", \"lat\": [45.7295, 45.730000000000004, 45.730000000000004, 45.7295], \"legendgroup\": \"1\", \"line\": {\"color\": \"#EF553B\"}, \"lon\": [4.8785, 4.8785, 4.879, 4.879], \"mode\": \"lines\", \"name\": \"1\", \"showlegend\": false, \"subplot\": \"mapbox\", \"type\": \"scattermapbox\"}, {\"hoverlabel\": {\"namelength\": 0}, \"hovertemplate\": \"type=1<br>route_num=-180<br>lat=%{lat}<br>lon=%{lon}\", \"lat\": [45.730000000000004, 45.730500000000006, 45.730500000000006, 45.730000000000004], \"legendgroup\": \"1\", \"line\": {\"color\": \"#EF553B\"}, \"lon\": [4.8785, 4.8785, 4.879, 4.879], \"mode\": \"lines\", \"name\": \"1\", \"showlegend\": false, \"subplot\": \"mapbox\", \"type\": \"scattermapbox\"}, {\"hoverlabel\": {\"namelength\": 0}, \"hovertemplate\": \"type=1<br>route_num=-181<br>lat=%{lat}<br>lon=%{lon}\", \"lat\": [45.730000000000004, 45.730500000000006, 45.730500000000006, 45.730000000000004], \"legendgroup\": \"1\", \"line\": {\"color\": \"#EF553B\"}, \"lon\": [4.878, 4.878, 4.8785, 4.8785], \"mode\": \"lines\", \"name\": \"1\", \"showlegend\": false, \"subplot\": \"mapbox\", \"type\": \"scattermapbox\"}, {\"hoverlabel\": {\"namelength\": 0}, \"hovertemplate\": \"type=1<br>route_num=-182<br>lat=%{lat}<br>lon=%{lon}\", \"lat\": [45.730000000000004, 45.730500000000006, 45.730500000000006, 45.730000000000004], \"legendgroup\": \"1\", \"line\": {\"color\": \"#EF553B\"}, \"lon\": [4.8775, 4.8775, 4.878, 4.878], \"mode\": \"lines\", \"name\": \"1\", \"showlegend\": false, \"subplot\": \"mapbox\", \"type\": \"scattermapbox\"}, {\"hoverlabel\": {\"namelength\": 0}, \"hovertemplate\": \"type=1<br>route_num=-183<br>lat=%{lat}<br>lon=%{lon}\", \"lat\": [45.7305, 45.731, 45.731, 45.7305], \"legendgroup\": \"1\", \"line\": {\"color\": \"#EF553B\"}, \"lon\": [4.8775, 4.8775, 4.878, 4.878], \"mode\": \"lines\", \"name\": \"1\", \"showlegend\": false, \"subplot\": \"mapbox\", \"type\": \"scattermapbox\"}, {\"hoverlabel\": {\"namelength\": 0}, \"hovertemplate\": \"type=1<br>route_num=-184<br>lat=%{lat}<br>lon=%{lon}\", \"lat\": [45.7305, 45.731, 45.731, 45.7305], \"legendgroup\": \"1\", \"line\": {\"color\": \"#EF553B\"}, \"lon\": [4.877000000000001, 4.877000000000001, 4.8775, 4.8775], \"mode\": \"lines\", \"name\": \"1\", \"showlegend\": false, \"subplot\": \"mapbox\", \"type\": \"scattermapbox\"}, {\"hoverlabel\": {\"namelength\": 0}, \"hovertemplate\": \"type=1<br>route_num=-185<br>lat=%{lat}<br>lon=%{lon}\", \"lat\": [45.731, 45.731500000000004, 45.731500000000004, 45.731], \"legendgroup\": \"1\", \"line\": {\"color\": \"#EF553B\"}, \"lon\": [4.877000000000001, 4.877000000000001, 4.8775, 4.8775], \"mode\": \"lines\", \"name\": \"1\", \"showlegend\": false, \"subplot\": \"mapbox\", \"type\": \"scattermapbox\"}, {\"hoverlabel\": {\"namelength\": 0}, \"hovertemplate\": \"type=1<br>route_num=-186<br>lat=%{lat}<br>lon=%{lon}\", \"lat\": [45.731, 45.731500000000004, 45.731500000000004, 45.731], \"legendgroup\": \"1\", \"line\": {\"color\": \"#EF553B\"}, \"lon\": [4.8775, 4.8775, 4.878, 4.878], \"mode\": \"lines\", \"name\": \"1\", \"showlegend\": false, \"subplot\": \"mapbox\", \"type\": \"scattermapbox\"}, {\"hoverlabel\": {\"namelength\": 0}, \"hovertemplate\": \"type=1<br>route_num=-187<br>lat=%{lat}<br>lon=%{lon}\", \"lat\": [45.725500000000004, 45.726000000000006, 45.726000000000006, 45.725500000000004], \"legendgroup\": \"1\", \"line\": {\"color\": \"#EF553B\"}, \"lon\": [4.8885000000000005, 4.8885000000000005, 4.889, 4.889], \"mode\": \"lines\", \"name\": \"1\", \"showlegend\": false, \"subplot\": \"mapbox\", \"type\": \"scattermapbox\"}, {\"hoverlabel\": {\"namelength\": 0}, \"hovertemplate\": \"type=1<br>route_num=-188<br>lat=%{lat}<br>lon=%{lon}\", \"lat\": [45.7235, 45.724000000000004, 45.724000000000004, 45.7235], \"legendgroup\": \"1\", \"line\": {\"color\": \"#EF553B\"}, \"lon\": [4.8935, 4.8935, 4.894, 4.894], \"mode\": \"lines\", \"name\": \"1\", \"showlegend\": false, \"subplot\": \"mapbox\", \"type\": \"scattermapbox\"}, {\"hoverlabel\": {\"namelength\": 0}, \"hovertemplate\": \"type=1<br>route_num=-189<br>lat=%{lat}<br>lon=%{lon}\", \"lat\": [45.723, 45.7235, 45.7235, 45.723], \"legendgroup\": \"1\", \"line\": {\"color\": \"#EF553B\"}, \"lon\": [4.894, 4.894, 4.8945, 4.8945], \"mode\": \"lines\", \"name\": \"1\", \"showlegend\": false, \"subplot\": \"mapbox\", \"type\": \"scattermapbox\"}, {\"hoverlabel\": {\"namelength\": 0}, \"hovertemplate\": \"type=1<br>route_num=-190<br>lat=%{lat}<br>lon=%{lon}\", \"lat\": [45.723, 45.7235, 45.7235, 45.723], \"legendgroup\": \"1\", \"line\": {\"color\": \"#EF553B\"}, \"lon\": [4.8945, 4.8945, 4.895, 4.895], \"mode\": \"lines\", \"name\": \"1\", \"showlegend\": false, \"subplot\": \"mapbox\", \"type\": \"scattermapbox\"}, {\"hoverlabel\": {\"namelength\": 0}, \"hovertemplate\": \"type=1<br>route_num=-191<br>lat=%{lat}<br>lon=%{lon}\", \"lat\": [45.722500000000004, 45.723000000000006, 45.723000000000006, 45.722500000000004], \"legendgroup\": \"1\", \"line\": {\"color\": \"#EF553B\"}, \"lon\": [4.8945, 4.8945, 4.895, 4.895], \"mode\": \"lines\", \"name\": \"1\", \"showlegend\": false, \"subplot\": \"mapbox\", \"type\": \"scattermapbox\"}, {\"hoverlabel\": {\"namelength\": 0}, \"hovertemplate\": \"type=1<br>route_num=-192<br>lat=%{lat}<br>lon=%{lon}\", \"lat\": [45.722, 45.722500000000004, 45.722500000000004, 45.722], \"legendgroup\": \"1\", \"line\": {\"color\": \"#EF553B\"}, \"lon\": [4.8945, 4.8945, 4.895, 4.895], \"mode\": \"lines\", \"name\": \"1\", \"showlegend\": false, \"subplot\": \"mapbox\", \"type\": \"scattermapbox\"}, {\"hoverlabel\": {\"namelength\": 0}, \"hovertemplate\": \"type=1<br>route_num=-193<br>lat=%{lat}<br>lon=%{lon}\", \"lat\": [45.7215, 45.722, 45.722, 45.7215], \"legendgroup\": \"1\", \"line\": {\"color\": \"#EF553B\"}, \"lon\": [4.8945, 4.8945, 4.895, 4.895], \"mode\": \"lines\", \"name\": \"1\", \"showlegend\": false, \"subplot\": \"mapbox\", \"type\": \"scattermapbox\"}, {\"hoverlabel\": {\"namelength\": 0}, \"hovertemplate\": \"type=1<br>route_num=-194<br>lat=%{lat}<br>lon=%{lon}\", \"lat\": [45.7215, 45.722, 45.722, 45.7215], \"legendgroup\": \"1\", \"line\": {\"color\": \"#EF553B\"}, \"lon\": [4.894, 4.894, 4.8945, 4.8945], \"mode\": \"lines\", \"name\": \"1\", \"showlegend\": false, \"subplot\": \"mapbox\", \"type\": \"scattermapbox\"}, {\"hoverlabel\": {\"namelength\": 0}, \"hovertemplate\": \"type=1<br>route_num=-195<br>lat=%{lat}<br>lon=%{lon}\", \"lat\": [45.721000000000004, 45.721500000000006, 45.721500000000006, 45.721000000000004], \"legendgroup\": \"1\", \"line\": {\"color\": \"#EF553B\"}, \"lon\": [4.894, 4.894, 4.8945, 4.8945], \"mode\": \"lines\", \"name\": \"1\", \"showlegend\": false, \"subplot\": \"mapbox\", \"type\": \"scattermapbox\"}, {\"hoverlabel\": {\"namelength\": 0}, \"hovertemplate\": \"type=1<br>route_num=-196<br>lat=%{lat}<br>lon=%{lon}\", \"lat\": [45.721000000000004, 45.721500000000006, 45.721500000000006, 45.721000000000004], \"legendgroup\": \"1\", \"line\": {\"color\": \"#EF553B\"}, \"lon\": [4.8935, 4.8935, 4.894, 4.894], \"mode\": \"lines\", \"name\": \"1\", \"showlegend\": false, \"subplot\": \"mapbox\", \"type\": \"scattermapbox\"}, {\"hoverlabel\": {\"namelength\": 0}, \"hovertemplate\": \"type=1<br>route_num=-197<br>lat=%{lat}<br>lon=%{lon}\", \"lat\": [45.7205, 45.721000000000004, 45.721000000000004, 45.7205], \"legendgroup\": \"1\", \"line\": {\"color\": \"#EF553B\"}, \"lon\": [4.8935, 4.8935, 4.894, 4.894], \"mode\": \"lines\", \"name\": \"1\", \"showlegend\": false, \"subplot\": \"mapbox\", \"type\": \"scattermapbox\"}, {\"hoverlabel\": {\"namelength\": 0}, \"hovertemplate\": \"type=1<br>route_num=-198<br>lat=%{lat}<br>lon=%{lon}\", \"lat\": [45.72, 45.7205, 45.7205, 45.72], \"legendgroup\": \"1\", \"line\": {\"color\": \"#EF553B\"}, \"lon\": [4.8935, 4.8935, 4.894, 4.894], \"mode\": \"lines\", \"name\": \"1\", \"showlegend\": false, \"subplot\": \"mapbox\", \"type\": \"scattermapbox\"}, {\"hoverlabel\": {\"namelength\": 0}, \"hovertemplate\": \"type=1<br>route_num=-199<br>lat=%{lat}<br>lon=%{lon}\", \"lat\": [45.72, 45.7205, 45.7205, 45.72], \"legendgroup\": \"1\", \"line\": {\"color\": \"#EF553B\"}, \"lon\": [4.893, 4.893, 4.8934999999999995, 4.8934999999999995], \"mode\": \"lines\", \"name\": \"1\", \"showlegend\": false, \"subplot\": \"mapbox\", \"type\": \"scattermapbox\"}, {\"hoverlabel\": {\"namelength\": 0}, \"hovertemplate\": \"type=1<br>route_num=-200<br>lat=%{lat}<br>lon=%{lon}\", \"lat\": [45.719500000000004, 45.720000000000006, 45.720000000000006, 45.719500000000004], \"legendgroup\": \"1\", \"line\": {\"color\": \"#EF553B\"}, \"lon\": [4.893, 4.893, 4.8934999999999995, 4.8934999999999995], \"mode\": \"lines\", \"name\": \"1\", \"showlegend\": false, \"subplot\": \"mapbox\", \"type\": \"scattermapbox\"}, {\"hoverlabel\": {\"namelength\": 0}, \"hovertemplate\": \"type=1<br>route_num=-201<br>lat=%{lat}<br>lon=%{lon}\", \"lat\": [45.719, 45.719500000000004, 45.719500000000004, 45.719], \"legendgroup\": \"1\", \"line\": {\"color\": \"#EF553B\"}, \"lon\": [4.893, 4.893, 4.8934999999999995, 4.8934999999999995], \"mode\": \"lines\", \"name\": \"1\", \"showlegend\": false, \"subplot\": \"mapbox\", \"type\": \"scattermapbox\"}, {\"hoverlabel\": {\"namelength\": 0}, \"hovertemplate\": \"type=1<br>route_num=-202<br>lat=%{lat}<br>lon=%{lon}\", \"lat\": [45.719, 45.719500000000004, 45.719500000000004, 45.719], \"legendgroup\": \"1\", \"line\": {\"color\": \"#EF553B\"}, \"lon\": [4.8925, 4.8925, 4.893, 4.893], \"mode\": \"lines\", \"name\": \"1\", \"showlegend\": false, \"subplot\": \"mapbox\", \"type\": \"scattermapbox\"}, {\"hoverlabel\": {\"namelength\": 0}, \"hovertemplate\": \"type=1<br>route_num=-203<br>lat=%{lat}<br>lon=%{lon}\", \"lat\": [45.7185, 45.719, 45.719, 45.7185], \"legendgroup\": \"1\", \"line\": {\"color\": \"#EF553B\"}, \"lon\": [4.8925, 4.8925, 4.893, 4.893], \"mode\": \"lines\", \"name\": \"1\", \"showlegend\": false, \"subplot\": \"mapbox\", \"type\": \"scattermapbox\"}, {\"hoverlabel\": {\"namelength\": 0}, \"hovertemplate\": \"type=1<br>route_num=-204<br>lat=%{lat}<br>lon=%{lon}\", \"lat\": [45.718, 45.718500000000006, 45.718500000000006, 45.718], \"legendgroup\": \"1\", \"line\": {\"color\": \"#EF553B\"}, \"lon\": [4.8925, 4.8925, 4.893, 4.893], \"mode\": \"lines\", \"name\": \"1\", \"showlegend\": false, \"subplot\": \"mapbox\", \"type\": \"scattermapbox\"}, {\"hoverlabel\": {\"namelength\": 0}, \"hovertemplate\": \"type=1<br>route_num=-205<br>lat=%{lat}<br>lon=%{lon}\", \"lat\": [45.7175, 45.718, 45.718, 45.7175], \"legendgroup\": \"1\", \"line\": {\"color\": \"#EF553B\"}, \"lon\": [4.8925, 4.8925, 4.893, 4.893], \"mode\": \"lines\", \"name\": \"1\", \"showlegend\": false, \"subplot\": \"mapbox\", \"type\": \"scattermapbox\"}, {\"hoverlabel\": {\"namelength\": 0}, \"hovertemplate\": \"type=1<br>route_num=-206<br>lat=%{lat}<br>lon=%{lon}\", \"lat\": [45.717, 45.7175, 45.7175, 45.717], \"legendgroup\": \"1\", \"line\": {\"color\": \"#EF553B\"}, \"lon\": [4.8925, 4.8925, 4.893, 4.893], \"mode\": \"lines\", \"name\": \"1\", \"showlegend\": false, \"subplot\": \"mapbox\", \"type\": \"scattermapbox\"}, {\"hoverlabel\": {\"namelength\": 0}, \"hovertemplate\": \"type=1<br>route_num=-207<br>lat=%{lat}<br>lon=%{lon}\", \"lat\": [45.717, 45.7175, 45.7175, 45.717], \"legendgroup\": \"1\", \"line\": {\"color\": \"#EF553B\"}, \"lon\": [4.893, 4.893, 4.8934999999999995, 4.8934999999999995], \"mode\": \"lines\", \"name\": \"1\", \"showlegend\": false, \"subplot\": \"mapbox\", \"type\": \"scattermapbox\"}, {\"hoverlabel\": {\"namelength\": 0}, \"hovertemplate\": \"type=1<br>route_num=-208<br>lat=%{lat}<br>lon=%{lon}\", \"lat\": [45.7165, 45.717000000000006, 45.717000000000006, 45.7165], \"legendgroup\": \"1\", \"line\": {\"color\": \"#EF553B\"}, \"lon\": [4.893, 4.893, 4.8934999999999995, 4.8934999999999995], \"mode\": \"lines\", \"name\": \"1\", \"showlegend\": false, \"subplot\": \"mapbox\", \"type\": \"scattermapbox\"}, {\"hoverlabel\": {\"namelength\": 0}, \"hovertemplate\": \"type=1<br>route_num=-209<br>lat=%{lat}<br>lon=%{lon}\", \"lat\": [45.7165, 45.717000000000006, 45.717000000000006, 45.7165], \"legendgroup\": \"1\", \"line\": {\"color\": \"#EF553B\"}, \"lon\": [4.8935, 4.8935, 4.894, 4.894], \"mode\": \"lines\", \"name\": \"1\", \"showlegend\": false, \"subplot\": \"mapbox\", \"type\": \"scattermapbox\"}, {\"hoverlabel\": {\"namelength\": 0}, \"hovertemplate\": \"type=1<br>route_num=-210<br>lat=%{lat}<br>lon=%{lon}\", \"lat\": [45.716, 45.7165, 45.7165, 45.716], \"legendgroup\": \"1\", \"line\": {\"color\": \"#EF553B\"}, \"lon\": [4.8935, 4.8935, 4.894, 4.894], \"mode\": \"lines\", \"name\": \"1\", \"showlegend\": false, \"subplot\": \"mapbox\", \"type\": \"scattermapbox\"}, {\"hoverlabel\": {\"namelength\": 0}, \"hovertemplate\": \"type=1<br>route_num=-211<br>lat=%{lat}<br>lon=%{lon}\", \"lat\": [45.716, 45.7165, 45.7165, 45.716], \"legendgroup\": \"1\", \"line\": {\"color\": \"#EF553B\"}, \"lon\": [4.894, 4.894, 4.8945, 4.8945], \"mode\": \"lines\", \"name\": \"1\", \"showlegend\": false, \"subplot\": \"mapbox\", \"type\": \"scattermapbox\"}, {\"hoverlabel\": {\"namelength\": 0}, \"hovertemplate\": \"type=1<br>route_num=-212<br>lat=%{lat}<br>lon=%{lon}\", \"lat\": [45.7155, 45.716, 45.716, 45.7155], \"legendgroup\": \"1\", \"line\": {\"color\": \"#EF553B\"}, \"lon\": [4.894, 4.894, 4.8945, 4.8945], \"mode\": \"lines\", \"name\": \"1\", \"showlegend\": false, \"subplot\": \"mapbox\", \"type\": \"scattermapbox\"}, {\"hoverlabel\": {\"namelength\": 0}, \"hovertemplate\": \"type=1<br>route_num=-213<br>lat=%{lat}<br>lon=%{lon}\", \"lat\": [45.7155, 45.716, 45.716, 45.7155], \"legendgroup\": \"1\", \"line\": {\"color\": \"#EF553B\"}, \"lon\": [4.8945, 4.8945, 4.895, 4.895], \"mode\": \"lines\", \"name\": \"1\", \"showlegend\": false, \"subplot\": \"mapbox\", \"type\": \"scattermapbox\"}, {\"hoverlabel\": {\"namelength\": 0}, \"hovertemplate\": \"type=1<br>route_num=-214<br>lat=%{lat}<br>lon=%{lon}\", \"lat\": [45.7155, 45.716, 45.716, 45.7155], \"legendgroup\": \"1\", \"line\": {\"color\": \"#EF553B\"}, \"lon\": [4.8950000000000005, 4.8950000000000005, 4.8955, 4.8955], \"mode\": \"lines\", \"name\": \"1\", \"showlegend\": false, \"subplot\": \"mapbox\", \"type\": \"scattermapbox\"}, {\"hoverlabel\": {\"namelength\": 0}, \"hovertemplate\": \"type=1<br>route_num=-215<br>lat=%{lat}<br>lon=%{lon}\", \"lat\": [45.715, 45.715500000000006, 45.715500000000006, 45.715], \"legendgroup\": \"1\", \"line\": {\"color\": \"#EF553B\"}, \"lon\": [4.8950000000000005, 4.8950000000000005, 4.8955, 4.8955], \"mode\": \"lines\", \"name\": \"1\", \"showlegend\": false, \"subplot\": \"mapbox\", \"type\": \"scattermapbox\"}, {\"hoverlabel\": {\"namelength\": 0}, \"hovertemplate\": \"type=1<br>route_num=-216<br>lat=%{lat}<br>lon=%{lon}\", \"lat\": [45.715, 45.715500000000006, 45.715500000000006, 45.715], \"legendgroup\": \"1\", \"line\": {\"color\": \"#EF553B\"}, \"lon\": [4.8955, 4.8955, 4.896, 4.896], \"mode\": \"lines\", \"name\": \"1\", \"showlegend\": false, \"subplot\": \"mapbox\", \"type\": \"scattermapbox\"}, {\"hoverlabel\": {\"namelength\": 0}, \"hovertemplate\": \"type=1<br>route_num=-217<br>lat=%{lat}<br>lon=%{lon}\", \"lat\": [45.715, 45.715500000000006, 45.715500000000006, 45.715], \"legendgroup\": \"1\", \"line\": {\"color\": \"#EF553B\"}, \"lon\": [4.896, 4.896, 4.8965, 4.8965], \"mode\": \"lines\", \"name\": \"1\", \"showlegend\": false, \"subplot\": \"mapbox\", \"type\": \"scattermapbox\"}, {\"hoverlabel\": {\"namelength\": 0}, \"hovertemplate\": \"type=1<br>route_num=-218<br>lat=%{lat}<br>lon=%{lon}\", \"lat\": [45.7145, 45.715, 45.715, 45.7145], \"legendgroup\": \"1\", \"line\": {\"color\": \"#EF553B\"}, \"lon\": [4.896, 4.896, 4.8965, 4.8965], \"mode\": \"lines\", \"name\": \"1\", \"showlegend\": false, \"subplot\": \"mapbox\", \"type\": \"scattermapbox\"}, {\"hoverlabel\": {\"namelength\": 0}, \"hovertemplate\": \"type=1<br>route_num=-219<br>lat=%{lat}<br>lon=%{lon}\", \"lat\": [45.7145, 45.715, 45.715, 45.7145], \"legendgroup\": \"1\", \"line\": {\"color\": \"#EF553B\"}, \"lon\": [4.8965000000000005, 4.8965000000000005, 4.897, 4.897], \"mode\": \"lines\", \"name\": \"1\", \"showlegend\": false, \"subplot\": \"mapbox\", \"type\": \"scattermapbox\"}, {\"hoverlabel\": {\"namelength\": 0}, \"hovertemplate\": \"type=1<br>route_num=-220<br>lat=%{lat}<br>lon=%{lon}\", \"lat\": [45.714000000000006, 45.71450000000001, 45.71450000000001, 45.714000000000006], \"legendgroup\": \"1\", \"line\": {\"color\": \"#EF553B\"}, \"lon\": [4.8965000000000005, 4.8965000000000005, 4.897, 4.897], \"mode\": \"lines\", \"name\": \"1\", \"showlegend\": false, \"subplot\": \"mapbox\", \"type\": \"scattermapbox\"}, {\"hoverlabel\": {\"namelength\": 0}, \"hovertemplate\": \"type=1<br>route_num=-221<br>lat=%{lat}<br>lon=%{lon}\", \"lat\": [45.714000000000006, 45.71450000000001, 45.71450000000001, 45.714000000000006], \"legendgroup\": \"1\", \"line\": {\"color\": \"#EF553B\"}, \"lon\": [4.897, 4.897, 4.8975, 4.8975], \"mode\": \"lines\", \"name\": \"1\", \"showlegend\": false, \"subplot\": \"mapbox\", \"type\": \"scattermapbox\"}, {\"hoverlabel\": {\"namelength\": 0}, \"hovertemplate\": \"type=1<br>route_num=-222<br>lat=%{lat}<br>lon=%{lon}\", \"lat\": [45.714000000000006, 45.71450000000001, 45.71450000000001, 45.714000000000006], \"legendgroup\": \"1\", \"line\": {\"color\": \"#EF553B\"}, \"lon\": [4.8975, 4.8975, 4.898, 4.898], \"mode\": \"lines\", \"name\": \"1\", \"showlegend\": false, \"subplot\": \"mapbox\", \"type\": \"scattermapbox\"}, {\"hoverlabel\": {\"namelength\": 0}, \"hovertemplate\": \"type=1<br>route_num=-223<br>lat=%{lat}<br>lon=%{lon}\", \"lat\": [45.7135, 45.714000000000006, 45.714000000000006, 45.7135], \"legendgroup\": \"1\", \"line\": {\"color\": \"#EF553B\"}, \"lon\": [4.8975, 4.8975, 4.898, 4.898], \"mode\": \"lines\", \"name\": \"1\", \"showlegend\": false, \"subplot\": \"mapbox\", \"type\": \"scattermapbox\"}, {\"hoverlabel\": {\"namelength\": 0}, \"hovertemplate\": \"type=1<br>route_num=-224<br>lat=%{lat}<br>lon=%{lon}\", \"lat\": [45.7135, 45.714000000000006, 45.714000000000006, 45.7135], \"legendgroup\": \"1\", \"line\": {\"color\": \"#EF553B\"}, \"lon\": [4.898000000000001, 4.898000000000001, 4.8985, 4.8985], \"mode\": \"lines\", \"name\": \"1\", \"showlegend\": false, \"subplot\": \"mapbox\", \"type\": \"scattermapbox\"}, {\"hoverlabel\": {\"namelength\": 0}, \"hovertemplate\": \"type=1<br>route_num=-225<br>lat=%{lat}<br>lon=%{lon}\", \"lat\": [45.713, 45.7135, 45.7135, 45.713], \"legendgroup\": \"1\", \"line\": {\"color\": \"#EF553B\"}, \"lon\": [4.898000000000001, 4.898000000000001, 4.8985, 4.8985], \"mode\": \"lines\", \"name\": \"1\", \"showlegend\": false, \"subplot\": \"mapbox\", \"type\": \"scattermapbox\"}, {\"hoverlabel\": {\"namelength\": 0}, \"hovertemplate\": \"type=1<br>route_num=-226<br>lat=%{lat}<br>lon=%{lon}\", \"lat\": [45.713, 45.7135, 45.7135, 45.713], \"legendgroup\": \"1\", \"line\": {\"color\": \"#EF553B\"}, \"lon\": [4.8985, 4.8985, 4.899, 4.899], \"mode\": \"lines\", \"name\": \"1\", \"showlegend\": false, \"subplot\": \"mapbox\", \"type\": \"scattermapbox\"}, {\"hoverlabel\": {\"namelength\": 0}, \"hovertemplate\": \"type=1<br>route_num=-227<br>lat=%{lat}<br>lon=%{lon}\", \"lat\": [45.713, 45.7135, 45.7135, 45.713], \"legendgroup\": \"1\", \"line\": {\"color\": \"#EF553B\"}, \"lon\": [4.899, 4.899, 4.8995, 4.8995], \"mode\": \"lines\", \"name\": \"1\", \"showlegend\": false, \"subplot\": \"mapbox\", \"type\": \"scattermapbox\"}, {\"hoverlabel\": {\"namelength\": 0}, \"hovertemplate\": \"type=1<br>route_num=-228<br>lat=%{lat}<br>lon=%{lon}\", \"lat\": [45.712500000000006, 45.71300000000001, 45.71300000000001, 45.712500000000006], \"legendgroup\": \"1\", \"line\": {\"color\": \"#EF553B\"}, \"lon\": [4.899, 4.899, 4.8995, 4.8995], \"mode\": \"lines\", \"name\": \"1\", \"showlegend\": false, \"subplot\": \"mapbox\", \"type\": \"scattermapbox\"}, {\"hoverlabel\": {\"namelength\": 0}, \"hovertemplate\": \"type=1<br>route_num=-229<br>lat=%{lat}<br>lon=%{lon}\", \"lat\": [45.712500000000006, 45.71300000000001, 45.71300000000001, 45.712500000000006], \"legendgroup\": \"1\", \"line\": {\"color\": \"#EF553B\"}, \"lon\": [4.899500000000001, 4.899500000000001, 4.9, 4.9], \"mode\": \"lines\", \"name\": \"1\", \"showlegend\": false, \"subplot\": \"mapbox\", \"type\": \"scattermapbox\"}, {\"hoverlabel\": {\"namelength\": 0}, \"hovertemplate\": \"type=1<br>route_num=-230<br>lat=%{lat}<br>lon=%{lon}\", \"lat\": [45.712500000000006, 45.71300000000001, 45.71300000000001, 45.712500000000006], \"legendgroup\": \"1\", \"line\": {\"color\": \"#EF553B\"}, \"lon\": [4.9, 4.9, 4.9005, 4.9005], \"mode\": \"lines\", \"name\": \"1\", \"showlegend\": false, \"subplot\": \"mapbox\", \"type\": \"scattermapbox\"}, {\"hoverlabel\": {\"namelength\": 0}, \"hovertemplate\": \"type=1<br>route_num=-231<br>lat=%{lat}<br>lon=%{lon}\", \"lat\": [45.712, 45.712500000000006, 45.712500000000006, 45.712], \"legendgroup\": \"1\", \"line\": {\"color\": \"#EF553B\"}, \"lon\": [4.9, 4.9, 4.9005, 4.9005], \"mode\": \"lines\", \"name\": \"1\", \"showlegend\": false, \"subplot\": \"mapbox\", \"type\": \"scattermapbox\"}, {\"hoverlabel\": {\"namelength\": 0}, \"hovertemplate\": \"type=1<br>route_num=-232<br>lat=%{lat}<br>lon=%{lon}\", \"lat\": [45.712, 45.712500000000006, 45.712500000000006, 45.712], \"legendgroup\": \"1\", \"line\": {\"color\": \"#EF553B\"}, \"lon\": [4.9005, 4.9005, 4.901, 4.901], \"mode\": \"lines\", \"name\": \"1\", \"showlegend\": false, \"subplot\": \"mapbox\", \"type\": \"scattermapbox\"}, {\"hoverlabel\": {\"namelength\": 0}, \"hovertemplate\": \"type=1<br>route_num=-233<br>lat=%{lat}<br>lon=%{lon}\", \"lat\": [45.7115, 45.712, 45.712, 45.7115], \"legendgroup\": \"1\", \"line\": {\"color\": \"#EF553B\"}, \"lon\": [4.9005, 4.9005, 4.901, 4.901], \"mode\": \"lines\", \"name\": \"1\", \"showlegend\": false, \"subplot\": \"mapbox\", \"type\": \"scattermapbox\"}, {\"hoverlabel\": {\"namelength\": 0}, \"hovertemplate\": \"type=1<br>route_num=-234<br>lat=%{lat}<br>lon=%{lon}\", \"lat\": [45.7115, 45.712, 45.712, 45.7115], \"legendgroup\": \"1\", \"line\": {\"color\": \"#EF553B\"}, \"lon\": [4.901, 4.901, 4.9014999999999995, 4.9014999999999995], \"mode\": \"lines\", \"name\": \"1\", \"showlegend\": false, \"subplot\": \"mapbox\", \"type\": \"scattermapbox\"}, {\"hoverlabel\": {\"namelength\": 0}, \"hovertemplate\": \"type=1<br>route_num=-235<br>lat=%{lat}<br>lon=%{lon}\", \"lat\": [45.7115, 45.712, 45.712, 45.7115], \"legendgroup\": \"1\", \"line\": {\"color\": \"#EF553B\"}, \"lon\": [4.9015, 4.9015, 4.902, 4.902], \"mode\": \"lines\", \"name\": \"1\", \"showlegend\": false, \"subplot\": \"mapbox\", \"type\": \"scattermapbox\"}, {\"hoverlabel\": {\"namelength\": 0}, \"hovertemplate\": \"type=1<br>route_num=-236<br>lat=%{lat}<br>lon=%{lon}\", \"lat\": [45.711000000000006, 45.71150000000001, 45.71150000000001, 45.711000000000006], \"legendgroup\": \"1\", \"line\": {\"color\": \"#EF553B\"}, \"lon\": [4.9015, 4.9015, 4.902, 4.902], \"mode\": \"lines\", \"name\": \"1\", \"showlegend\": false, \"subplot\": \"mapbox\", \"type\": \"scattermapbox\"}, {\"hoverlabel\": {\"namelength\": 0}, \"hovertemplate\": \"type=1<br>route_num=-237<br>lat=%{lat}<br>lon=%{lon}\", \"lat\": [45.7105, 45.711000000000006, 45.711000000000006, 45.7105], \"legendgroup\": \"1\", \"line\": {\"color\": \"#EF553B\"}, \"lon\": [4.9015, 4.9015, 4.902, 4.902], \"mode\": \"lines\", \"name\": \"1\", \"showlegend\": false, \"subplot\": \"mapbox\", \"type\": \"scattermapbox\"}, {\"hoverlabel\": {\"namelength\": 0}, \"hovertemplate\": \"type=1<br>route_num=-238<br>lat=%{lat}<br>lon=%{lon}\", \"lat\": [45.7105, 45.711000000000006, 45.711000000000006, 45.7105], \"legendgroup\": \"1\", \"line\": {\"color\": \"#EF553B\"}, \"lon\": [4.901, 4.901, 4.9014999999999995, 4.9014999999999995], \"mode\": \"lines\", \"name\": \"1\", \"showlegend\": false, \"subplot\": \"mapbox\", \"type\": \"scattermapbox\"}, {\"hoverlabel\": {\"namelength\": 0}, \"hovertemplate\": \"type=1<br>route_num=-239<br>lat=%{lat}<br>lon=%{lon}\", \"lat\": [45.71, 45.7105, 45.7105, 45.71], \"legendgroup\": \"1\", \"line\": {\"color\": \"#EF553B\"}, \"lon\": [4.901, 4.901, 4.9014999999999995, 4.9014999999999995], \"mode\": \"lines\", \"name\": \"1\", \"showlegend\": false, \"subplot\": \"mapbox\", \"type\": \"scattermapbox\"}, {\"hoverlabel\": {\"namelength\": 0}, \"hovertemplate\": \"type=1<br>route_num=-240<br>lat=%{lat}<br>lon=%{lon}\", \"lat\": [45.71, 45.7105, 45.7105, 45.71], \"legendgroup\": \"1\", \"line\": {\"color\": \"#EF553B\"}, \"lon\": [4.9005, 4.9005, 4.901, 4.901], \"mode\": \"lines\", \"name\": \"1\", \"showlegend\": false, \"subplot\": \"mapbox\", \"type\": \"scattermapbox\"}, {\"hoverlabel\": {\"namelength\": 0}, \"hovertemplate\": \"type=1<br>route_num=-241<br>lat=%{lat}<br>lon=%{lon}\", \"lat\": [45.709500000000006, 45.71000000000001, 45.71000000000001, 45.709500000000006], \"legendgroup\": \"1\", \"line\": {\"color\": \"#EF553B\"}, \"lon\": [4.9005, 4.9005, 4.901, 4.901], \"mode\": \"lines\", \"name\": \"1\", \"showlegend\": false, \"subplot\": \"mapbox\", \"type\": \"scattermapbox\"}, {\"hoverlabel\": {\"namelength\": 0}, \"hovertemplate\": \"type=1<br>route_num=-242<br>lat=%{lat}<br>lon=%{lon}\", \"lat\": [45.709500000000006, 45.71000000000001, 45.71000000000001, 45.709500000000006], \"legendgroup\": \"1\", \"line\": {\"color\": \"#EF553B\"}, \"lon\": [4.9, 4.9, 4.9005, 4.9005], \"mode\": \"lines\", \"name\": \"1\", \"showlegend\": false, \"subplot\": \"mapbox\", \"type\": \"scattermapbox\"}, {\"hoverlabel\": {\"namelength\": 0}, \"hovertemplate\": \"type=1<br>route_num=-243<br>lat=%{lat}<br>lon=%{lon}\", \"lat\": [45.709, 45.709500000000006, 45.709500000000006, 45.709], \"legendgroup\": \"1\", \"line\": {\"color\": \"#EF553B\"}, \"lon\": [4.9, 4.9, 4.9005, 4.9005], \"mode\": \"lines\", \"name\": \"1\", \"showlegend\": false, \"subplot\": \"mapbox\", \"type\": \"scattermapbox\"}, {\"hoverlabel\": {\"namelength\": 0}, \"hovertemplate\": \"type=1<br>route_num=-244<br>lat=%{lat}<br>lon=%{lon}\", \"lat\": [45.709, 45.709500000000006, 45.709500000000006, 45.709], \"legendgroup\": \"1\", \"line\": {\"color\": \"#EF553B\"}, \"lon\": [4.899500000000001, 4.899500000000001, 4.9, 4.9], \"mode\": \"lines\", \"name\": \"1\", \"showlegend\": false, \"subplot\": \"mapbox\", \"type\": \"scattermapbox\"}, {\"hoverlabel\": {\"namelength\": 0}, \"hovertemplate\": \"type=1<br>route_num=-245<br>lat=%{lat}<br>lon=%{lon}\", \"lat\": [45.7085, 45.709, 45.709, 45.7085], \"legendgroup\": \"1\", \"line\": {\"color\": \"#EF553B\"}, \"lon\": [4.899500000000001, 4.899500000000001, 4.9, 4.9], \"mode\": \"lines\", \"name\": \"1\", \"showlegend\": false, \"subplot\": \"mapbox\", \"type\": \"scattermapbox\"}, {\"hoverlabel\": {\"namelength\": 0}, \"hovertemplate\": \"type=1<br>route_num=-246<br>lat=%{lat}<br>lon=%{lon}\", \"lat\": [45.7085, 45.709, 45.709, 45.7085], \"legendgroup\": \"1\", \"line\": {\"color\": \"#EF553B\"}, \"lon\": [4.899, 4.899, 4.8995, 4.8995], \"mode\": \"lines\", \"name\": \"1\", \"showlegend\": false, \"subplot\": \"mapbox\", \"type\": \"scattermapbox\"}, {\"hoverlabel\": {\"namelength\": 0}, \"hovertemplate\": \"type=1<br>route_num=-247<br>lat=%{lat}<br>lon=%{lon}\", \"lat\": [45.708000000000006, 45.70850000000001, 45.70850000000001, 45.708000000000006], \"legendgroup\": \"1\", \"line\": {\"color\": \"#EF553B\"}, \"lon\": [4.899, 4.899, 4.8995, 4.8995], \"mode\": \"lines\", \"name\": \"1\", \"showlegend\": false, \"subplot\": \"mapbox\", \"type\": \"scattermapbox\"}, {\"hoverlabel\": {\"namelength\": 0}, \"hovertemplate\": \"type=1<br>route_num=-248<br>lat=%{lat}<br>lon=%{lon}\", \"lat\": [45.708000000000006, 45.70850000000001, 45.70850000000001, 45.708000000000006], \"legendgroup\": \"1\", \"line\": {\"color\": \"#EF553B\"}, \"lon\": [4.8985, 4.8985, 4.899, 4.899], \"mode\": \"lines\", \"name\": \"1\", \"showlegend\": false, \"subplot\": \"mapbox\", \"type\": \"scattermapbox\"}, {\"hoverlabel\": {\"namelength\": 0}, \"hovertemplate\": \"type=1<br>route_num=-249<br>lat=%{lat}<br>lon=%{lon}\", \"lat\": [45.7075, 45.708000000000006, 45.708000000000006, 45.7075], \"legendgroup\": \"1\", \"line\": {\"color\": \"#EF553B\"}, \"lon\": [4.8985, 4.8985, 4.899, 4.899], \"mode\": \"lines\", \"name\": \"1\", \"showlegend\": false, \"subplot\": \"mapbox\", \"type\": \"scattermapbox\"}, {\"hoverlabel\": {\"namelength\": 0}, \"hovertemplate\": \"type=1<br>route_num=-250<br>lat=%{lat}<br>lon=%{lon}\", \"lat\": [45.707, 45.7075, 45.7075, 45.707], \"legendgroup\": \"1\", \"line\": {\"color\": \"#EF553B\"}, \"lon\": [4.898000000000001, 4.898000000000001, 4.8985, 4.8985], \"mode\": \"lines\", \"name\": \"1\", \"showlegend\": false, \"subplot\": \"mapbox\", \"type\": \"scattermapbox\"}, {\"hoverlabel\": {\"namelength\": 0}, \"hovertemplate\": \"type=1<br>route_num=-251<br>lat=%{lat}<br>lon=%{lon}\", \"lat\": [45.707, 45.7075, 45.7075, 45.707], \"legendgroup\": \"1\", \"line\": {\"color\": \"#EF553B\"}, \"lon\": [4.8985, 4.8985, 4.899, 4.899], \"mode\": \"lines\", \"name\": \"1\", \"showlegend\": false, \"subplot\": \"mapbox\", \"type\": \"scattermapbox\"}, {\"hoverlabel\": {\"namelength\": 0}, \"hovertemplate\": \"type=1<br>route_num=-252<br>lat=%{lat}<br>lon=%{lon}\", \"lat\": [45.706500000000005, 45.70700000000001, 45.70700000000001, 45.706500000000005], \"legendgroup\": \"1\", \"line\": {\"color\": \"#EF553B\"}, \"lon\": [4.898000000000001, 4.898000000000001, 4.8985, 4.8985], \"mode\": \"lines\", \"name\": \"1\", \"showlegend\": false, \"subplot\": \"mapbox\", \"type\": \"scattermapbox\"}, {\"hoverlabel\": {\"namelength\": 0}, \"hovertemplate\": \"type=1<br>route_num=-253<br>lat=%{lat}<br>lon=%{lon}\", \"lat\": [45.706500000000005, 45.70700000000001, 45.70700000000001, 45.706500000000005], \"legendgroup\": \"1\", \"line\": {\"color\": \"#EF553B\"}, \"lon\": [4.8985, 4.8985, 4.899, 4.899], \"mode\": \"lines\", \"name\": \"1\", \"showlegend\": false, \"subplot\": \"mapbox\", \"type\": \"scattermapbox\"}, {\"hoverlabel\": {\"namelength\": 0}, \"hovertemplate\": \"type=1<br>route_num=-254<br>lat=%{lat}<br>lon=%{lon}\", \"lat\": [45.706500000000005, 45.70700000000001, 45.70700000000001, 45.706500000000005], \"legendgroup\": \"1\", \"line\": {\"color\": \"#EF553B\"}, \"lon\": [4.899, 4.899, 4.8995, 4.8995], \"mode\": \"lines\", \"name\": \"1\", \"showlegend\": false, \"subplot\": \"mapbox\", \"type\": \"scattermapbox\"}, {\"hoverlabel\": {\"namelength\": 0}, \"hovertemplate\": \"type=1<br>route_num=-255<br>lat=%{lat}<br>lon=%{lon}\", \"lat\": [45.706, 45.706500000000005, 45.706500000000005, 45.706], \"legendgroup\": \"1\", \"line\": {\"color\": \"#EF553B\"}, \"lon\": [4.899, 4.899, 4.8995, 4.8995], \"mode\": \"lines\", \"name\": \"1\", \"showlegend\": false, \"subplot\": \"mapbox\", \"type\": \"scattermapbox\"}, {\"hoverlabel\": {\"namelength\": 0}, \"hovertemplate\": \"type=1<br>route_num=-256<br>lat=%{lat}<br>lon=%{lon}\", \"lat\": [45.706, 45.706500000000005, 45.706500000000005, 45.706], \"legendgroup\": \"1\", \"line\": {\"color\": \"#EF553B\"}, \"lon\": [4.899500000000001, 4.899500000000001, 4.9, 4.9], \"mode\": \"lines\", \"name\": \"1\", \"showlegend\": false, \"subplot\": \"mapbox\", \"type\": \"scattermapbox\"}, {\"hoverlabel\": {\"namelength\": 0}, \"hovertemplate\": \"type=1<br>route_num=-257<br>lat=%{lat}<br>lon=%{lon}\", \"lat\": [45.703, 45.703500000000005, 45.703500000000005, 45.703], \"legendgroup\": \"1\", \"line\": {\"color\": \"#EF553B\"}, \"lon\": [4.901, 4.901, 4.9014999999999995, 4.9014999999999995], \"mode\": \"lines\", \"name\": \"1\", \"showlegend\": false, \"subplot\": \"mapbox\", \"type\": \"scattermapbox\"}, {\"hoverlabel\": {\"namelength\": 0}, \"hovertemplate\": \"type=1<br>route_num=-258<br>lat=%{lat}<br>lon=%{lon}\", \"lat\": [45.7025, 45.703, 45.703, 45.7025], \"legendgroup\": \"1\", \"line\": {\"color\": \"#EF553B\"}, \"lon\": [4.901, 4.901, 4.9014999999999995, 4.9014999999999995], \"mode\": \"lines\", \"name\": \"1\", \"showlegend\": false, \"subplot\": \"mapbox\", \"type\": \"scattermapbox\"}, {\"hoverlabel\": {\"namelength\": 0}, \"hovertemplate\": \"type=1<br>route_num=-259<br>lat=%{lat}<br>lon=%{lon}\", \"lat\": [45.706500000000005, 45.70700000000001, 45.70700000000001, 45.706500000000005], \"legendgroup\": \"1\", \"line\": {\"color\": \"#EF553B\"}, \"lon\": [4.888, 4.888, 4.8885, 4.8885], \"mode\": \"lines\", \"name\": \"1\", \"showlegend\": false, \"subplot\": \"mapbox\", \"type\": \"scattermapbox\"}, {\"hoverlabel\": {\"namelength\": 0}, \"hovertemplate\": \"type=1<br>route_num=-260<br>lat=%{lat}<br>lon=%{lon}\", \"lat\": [45.7145, 45.715, 45.715, 45.7145], \"legendgroup\": \"1\", \"line\": {\"color\": \"#EF553B\"}, \"lon\": [4.8955, 4.8955, 4.896, 4.896], \"mode\": \"lines\", \"name\": \"1\", \"showlegend\": false, \"subplot\": \"mapbox\", \"type\": \"scattermapbox\"}, {\"hoverlabel\": {\"namelength\": 0}, \"hovertemplate\": \"type=1<br>route_num=-261<br>lat=%{lat}<br>lon=%{lon}\", \"lat\": [45.702000000000005, 45.70250000000001, 45.70250000000001, 45.702000000000005], \"legendgroup\": \"1\", \"line\": {\"color\": \"#EF553B\"}, \"lon\": [4.901, 4.901, 4.9014999999999995, 4.9014999999999995], \"mode\": \"lines\", \"name\": \"1\", \"showlegend\": false, \"subplot\": \"mapbox\", \"type\": \"scattermapbox\"}, {\"hoverlabel\": {\"namelength\": 0}, \"hovertemplate\": \"type=1<br>route_num=-262<br>lat=%{lat}<br>lon=%{lon}\", \"lat\": [45.702000000000005, 45.70250000000001, 45.70250000000001, 45.702000000000005], \"legendgroup\": \"1\", \"line\": {\"color\": \"#EF553B\"}, \"lon\": [4.9005, 4.9005, 4.901, 4.901], \"mode\": \"lines\", \"name\": \"1\", \"showlegend\": false, \"subplot\": \"mapbox\", \"type\": \"scattermapbox\"}, {\"hoverlabel\": {\"namelength\": 0}, \"hovertemplate\": \"type=1<br>route_num=-263<br>lat=%{lat}<br>lon=%{lon}\", \"lat\": [45.7015, 45.702000000000005, 45.702000000000005, 45.7015], \"legendgroup\": \"1\", \"line\": {\"color\": \"#EF553B\"}, \"lon\": [4.9005, 4.9005, 4.901, 4.901], \"mode\": \"lines\", \"name\": \"1\", \"showlegend\": false, \"subplot\": \"mapbox\", \"type\": \"scattermapbox\"}, {\"hoverlabel\": {\"namelength\": 0}, \"hovertemplate\": \"type=1<br>route_num=-264<br>lat=%{lat}<br>lon=%{lon}\", \"lat\": [45.7015, 45.702000000000005, 45.702000000000005, 45.7015], \"legendgroup\": \"1\", \"line\": {\"color\": \"#EF553B\"}, \"lon\": [4.9, 4.9, 4.9005, 4.9005], \"mode\": \"lines\", \"name\": \"1\", \"showlegend\": false, \"subplot\": \"mapbox\", \"type\": \"scattermapbox\"}, {\"hoverlabel\": {\"namelength\": 0}, \"hovertemplate\": \"type=1<br>route_num=-265<br>lat=%{lat}<br>lon=%{lon}\", \"lat\": [45.701, 45.7015, 45.7015, 45.701], \"legendgroup\": \"1\", \"line\": {\"color\": \"#EF553B\"}, \"lon\": [4.9, 4.9, 4.9005, 4.9005], \"mode\": \"lines\", \"name\": \"1\", \"showlegend\": false, \"subplot\": \"mapbox\", \"type\": \"scattermapbox\"}, {\"hoverlabel\": {\"namelength\": 0}, \"hovertemplate\": \"type=1<br>route_num=-266<br>lat=%{lat}<br>lon=%{lon}\", \"lat\": [45.701, 45.7015, 45.7015, 45.701], \"legendgroup\": \"1\", \"line\": {\"color\": \"#EF553B\"}, \"lon\": [4.899500000000001, 4.899500000000001, 4.9, 4.9], \"mode\": \"lines\", \"name\": \"1\", \"showlegend\": false, \"subplot\": \"mapbox\", \"type\": \"scattermapbox\"}, {\"hoverlabel\": {\"namelength\": 0}, \"hovertemplate\": \"type=1<br>route_num=-267<br>lat=%{lat}<br>lon=%{lon}\", \"lat\": [45.701, 45.7015, 45.7015, 45.701], \"legendgroup\": \"1\", \"line\": {\"color\": \"#EF553B\"}, \"lon\": [4.899, 4.899, 4.8995, 4.8995], \"mode\": \"lines\", \"name\": \"1\", \"showlegend\": false, \"subplot\": \"mapbox\", \"type\": \"scattermapbox\"}],\n",
       "                        {\"legend\": {\"title\": {\"text\": \"type\"}, \"tracegroupgap\": 0}, \"mapbox\": {\"accesstoken\": \"pk.eyJ1IjoibG1hZ25hbmEiLCJhIjoiY2s2N3hmNzgwMGNnODNqcGJ1N2l2ZXZpdiJ9.-aOxDLM8KbEQnJfXegtl7A\", \"center\": {\"lat\": 45.72961154786716, \"lon\": 4.876667708167179}, \"domain\": {\"x\": [0.0, 1.0], \"y\": [0.0, 1.0]}, \"zoom\": 11}, \"margin\": {\"t\": 60}, \"template\": {\"data\": {\"bar\": [{\"error_x\": {\"color\": \"#2a3f5f\"}, \"error_y\": {\"color\": \"#2a3f5f\"}, \"marker\": {\"line\": {\"color\": \"#E5ECF6\", \"width\": 0.5}}, \"type\": \"bar\"}], \"barpolar\": [{\"marker\": {\"line\": {\"color\": \"#E5ECF6\", \"width\": 0.5}}, \"type\": \"barpolar\"}], \"carpet\": [{\"aaxis\": {\"endlinecolor\": \"#2a3f5f\", \"gridcolor\": \"white\", \"linecolor\": \"white\", \"minorgridcolor\": \"white\", \"startlinecolor\": \"#2a3f5f\"}, \"baxis\": {\"endlinecolor\": \"#2a3f5f\", \"gridcolor\": \"white\", \"linecolor\": \"white\", \"minorgridcolor\": \"white\", \"startlinecolor\": \"#2a3f5f\"}, \"type\": \"carpet\"}], \"choropleth\": [{\"colorbar\": {\"outlinewidth\": 0, \"ticks\": \"\"}, \"type\": \"choropleth\"}], \"contour\": [{\"colorbar\": {\"outlinewidth\": 0, \"ticks\": \"\"}, \"colorscale\": [[0.0, \"#0d0887\"], [0.1111111111111111, \"#46039f\"], [0.2222222222222222, \"#7201a8\"], [0.3333333333333333, \"#9c179e\"], [0.4444444444444444, \"#bd3786\"], [0.5555555555555556, \"#d8576b\"], [0.6666666666666666, \"#ed7953\"], [0.7777777777777778, \"#fb9f3a\"], [0.8888888888888888, \"#fdca26\"], [1.0, \"#f0f921\"]], \"type\": \"contour\"}], \"contourcarpet\": [{\"colorbar\": {\"outlinewidth\": 0, \"ticks\": \"\"}, \"type\": \"contourcarpet\"}], \"heatmap\": [{\"colorbar\": {\"outlinewidth\": 0, \"ticks\": \"\"}, \"colorscale\": [[0.0, \"#0d0887\"], [0.1111111111111111, \"#46039f\"], [0.2222222222222222, \"#7201a8\"], [0.3333333333333333, \"#9c179e\"], [0.4444444444444444, \"#bd3786\"], [0.5555555555555556, \"#d8576b\"], [0.6666666666666666, \"#ed7953\"], [0.7777777777777778, \"#fb9f3a\"], [0.8888888888888888, \"#fdca26\"], [1.0, \"#f0f921\"]], \"type\": \"heatmap\"}], \"heatmapgl\": [{\"colorbar\": {\"outlinewidth\": 0, \"ticks\": \"\"}, \"colorscale\": [[0.0, \"#0d0887\"], [0.1111111111111111, \"#46039f\"], [0.2222222222222222, \"#7201a8\"], [0.3333333333333333, \"#9c179e\"], [0.4444444444444444, \"#bd3786\"], [0.5555555555555556, \"#d8576b\"], [0.6666666666666666, \"#ed7953\"], [0.7777777777777778, \"#fb9f3a\"], [0.8888888888888888, \"#fdca26\"], [1.0, \"#f0f921\"]], \"type\": \"heatmapgl\"}], \"histogram\": [{\"marker\": {\"colorbar\": {\"outlinewidth\": 0, \"ticks\": \"\"}}, \"type\": \"histogram\"}], \"histogram2d\": [{\"colorbar\": {\"outlinewidth\": 0, \"ticks\": \"\"}, \"colorscale\": [[0.0, \"#0d0887\"], [0.1111111111111111, \"#46039f\"], [0.2222222222222222, \"#7201a8\"], [0.3333333333333333, \"#9c179e\"], [0.4444444444444444, \"#bd3786\"], [0.5555555555555556, \"#d8576b\"], [0.6666666666666666, \"#ed7953\"], [0.7777777777777778, \"#fb9f3a\"], [0.8888888888888888, \"#fdca26\"], [1.0, \"#f0f921\"]], \"type\": \"histogram2d\"}], \"histogram2dcontour\": [{\"colorbar\": {\"outlinewidth\": 0, \"ticks\": \"\"}, \"colorscale\": [[0.0, \"#0d0887\"], [0.1111111111111111, \"#46039f\"], [0.2222222222222222, \"#7201a8\"], [0.3333333333333333, \"#9c179e\"], [0.4444444444444444, \"#bd3786\"], [0.5555555555555556, \"#d8576b\"], [0.6666666666666666, \"#ed7953\"], [0.7777777777777778, \"#fb9f3a\"], [0.8888888888888888, \"#fdca26\"], [1.0, \"#f0f921\"]], \"type\": \"histogram2dcontour\"}], \"mesh3d\": [{\"colorbar\": {\"outlinewidth\": 0, \"ticks\": \"\"}, \"type\": \"mesh3d\"}], \"parcoords\": [{\"line\": {\"colorbar\": {\"outlinewidth\": 0, \"ticks\": \"\"}}, \"type\": \"parcoords\"}], \"pie\": [{\"automargin\": true, \"type\": \"pie\"}], \"scatter\": [{\"marker\": {\"colorbar\": {\"outlinewidth\": 0, \"ticks\": \"\"}}, \"type\": \"scatter\"}], \"scatter3d\": [{\"line\": {\"colorbar\": {\"outlinewidth\": 0, \"ticks\": \"\"}}, \"marker\": {\"colorbar\": {\"outlinewidth\": 0, \"ticks\": \"\"}}, \"type\": \"scatter3d\"}], \"scattercarpet\": [{\"marker\": {\"colorbar\": {\"outlinewidth\": 0, \"ticks\": \"\"}}, \"type\": \"scattercarpet\"}], \"scattergeo\": [{\"marker\": {\"colorbar\": {\"outlinewidth\": 0, \"ticks\": \"\"}}, \"type\": \"scattergeo\"}], \"scattergl\": [{\"marker\": {\"colorbar\": {\"outlinewidth\": 0, \"ticks\": \"\"}}, \"type\": \"scattergl\"}], \"scattermapbox\": [{\"marker\": {\"colorbar\": {\"outlinewidth\": 0, \"ticks\": \"\"}}, \"type\": \"scattermapbox\"}], \"scatterpolar\": [{\"marker\": {\"colorbar\": {\"outlinewidth\": 0, \"ticks\": \"\"}}, \"type\": \"scatterpolar\"}], \"scatterpolargl\": [{\"marker\": {\"colorbar\": {\"outlinewidth\": 0, \"ticks\": \"\"}}, \"type\": \"scatterpolargl\"}], \"scatterternary\": [{\"marker\": {\"colorbar\": {\"outlinewidth\": 0, \"ticks\": \"\"}}, \"type\": \"scatterternary\"}], \"surface\": [{\"colorbar\": {\"outlinewidth\": 0, \"ticks\": \"\"}, \"colorscale\": [[0.0, \"#0d0887\"], [0.1111111111111111, \"#46039f\"], [0.2222222222222222, \"#7201a8\"], [0.3333333333333333, \"#9c179e\"], [0.4444444444444444, \"#bd3786\"], [0.5555555555555556, \"#d8576b\"], [0.6666666666666666, \"#ed7953\"], [0.7777777777777778, \"#fb9f3a\"], [0.8888888888888888, \"#fdca26\"], [1.0, \"#f0f921\"]], \"type\": \"surface\"}], \"table\": [{\"cells\": {\"fill\": {\"color\": \"#EBF0F8\"}, \"line\": {\"color\": \"white\"}}, \"header\": {\"fill\": {\"color\": \"#C8D4E3\"}, \"line\": {\"color\": \"white\"}}, \"type\": \"table\"}]}, \"layout\": {\"annotationdefaults\": {\"arrowcolor\": \"#2a3f5f\", \"arrowhead\": 0, \"arrowwidth\": 1}, \"coloraxis\": {\"colorbar\": {\"outlinewidth\": 0, \"ticks\": \"\"}}, \"colorscale\": {\"diverging\": [[0, \"#8e0152\"], [0.1, \"#c51b7d\"], [0.2, \"#de77ae\"], [0.3, \"#f1b6da\"], [0.4, \"#fde0ef\"], [0.5, \"#f7f7f7\"], [0.6, \"#e6f5d0\"], [0.7, \"#b8e186\"], [0.8, \"#7fbc41\"], [0.9, \"#4d9221\"], [1, \"#276419\"]], \"sequential\": [[0.0, \"#0d0887\"], [0.1111111111111111, \"#46039f\"], [0.2222222222222222, \"#7201a8\"], [0.3333333333333333, \"#9c179e\"], [0.4444444444444444, \"#bd3786\"], [0.5555555555555556, \"#d8576b\"], [0.6666666666666666, \"#ed7953\"], [0.7777777777777778, \"#fb9f3a\"], [0.8888888888888888, \"#fdca26\"], [1.0, \"#f0f921\"]], \"sequentialminus\": [[0.0, \"#0d0887\"], [0.1111111111111111, \"#46039f\"], [0.2222222222222222, \"#7201a8\"], [0.3333333333333333, \"#9c179e\"], [0.4444444444444444, \"#bd3786\"], [0.5555555555555556, \"#d8576b\"], [0.6666666666666666, \"#ed7953\"], [0.7777777777777778, \"#fb9f3a\"], [0.8888888888888888, \"#fdca26\"], [1.0, \"#f0f921\"]]}, \"colorway\": [\"#636efa\", \"#EF553B\", \"#00cc96\", \"#ab63fa\", \"#FFA15A\", \"#19d3f3\", \"#FF6692\", \"#B6E880\", \"#FF97FF\", \"#FECB52\"], \"font\": {\"color\": \"#2a3f5f\"}, \"geo\": {\"bgcolor\": \"white\", \"lakecolor\": \"white\", \"landcolor\": \"#E5ECF6\", \"showlakes\": true, \"showland\": true, \"subunitcolor\": \"white\"}, \"hoverlabel\": {\"align\": \"left\"}, \"hovermode\": \"closest\", \"mapbox\": {\"style\": \"light\"}, \"paper_bgcolor\": \"white\", \"plot_bgcolor\": \"#E5ECF6\", \"polar\": {\"angularaxis\": {\"gridcolor\": \"white\", \"linecolor\": \"white\", \"ticks\": \"\"}, \"bgcolor\": \"#E5ECF6\", \"radialaxis\": {\"gridcolor\": \"white\", \"linecolor\": \"white\", \"ticks\": \"\"}}, \"scene\": {\"xaxis\": {\"backgroundcolor\": \"#E5ECF6\", \"gridcolor\": \"white\", \"gridwidth\": 2, \"linecolor\": \"white\", \"showbackground\": true, \"ticks\": \"\", \"zerolinecolor\": \"white\"}, \"yaxis\": {\"backgroundcolor\": \"#E5ECF6\", \"gridcolor\": \"white\", \"gridwidth\": 2, \"linecolor\": \"white\", \"showbackground\": true, \"ticks\": \"\", \"zerolinecolor\": \"white\"}, \"zaxis\": {\"backgroundcolor\": \"#E5ECF6\", \"gridcolor\": \"white\", \"gridwidth\": 2, \"linecolor\": \"white\", \"showbackground\": true, \"ticks\": \"\", \"zerolinecolor\": \"white\"}}, \"shapedefaults\": {\"line\": {\"color\": \"#2a3f5f\"}}, \"ternary\": {\"aaxis\": {\"gridcolor\": \"white\", \"linecolor\": \"white\", \"ticks\": \"\"}, \"baxis\": {\"gridcolor\": \"white\", \"linecolor\": \"white\", \"ticks\": \"\"}, \"bgcolor\": \"#E5ECF6\", \"caxis\": {\"gridcolor\": \"white\", \"linecolor\": \"white\", \"ticks\": \"\"}}, \"title\": {\"x\": 0.05}, \"xaxis\": {\"automargin\": true, \"gridcolor\": \"white\", \"linecolor\": \"white\", \"ticks\": \"\", \"title\": {\"standoff\": 15}, \"zerolinecolor\": \"white\", \"zerolinewidth\": 2}, \"yaxis\": {\"automargin\": true, \"gridcolor\": \"white\", \"linecolor\": \"white\", \"ticks\": \"\", \"title\": {\"standoff\": 15}, \"zerolinecolor\": \"white\", \"zerolinewidth\": 2}}}},\n",
       "                        {\"responsive\": true}\n",
       "                    ).then(function(){\n",
       "                            \n",
       "var gd = document.getElementById('fcb4aaf9-4aa6-4b17-a3cd-6bb7e55abb64');\n",
       "var x = new MutationObserver(function (mutations, observer) {{\n",
       "        var display = window.getComputedStyle(gd).display;\n",
       "        if (!display || display === 'none') {{\n",
       "            console.log([gd, 'removed!']);\n",
       "            Plotly.purge(gd);\n",
       "            observer.disconnect();\n",
       "        }}\n",
       "}});\n",
       "\n",
       "// Listen for the removal of the full notebook cells\n",
       "var notebookContainer = gd.closest('#notebook-container');\n",
       "if (notebookContainer) {{\n",
       "    x.observe(notebookContainer, {childList: true});\n",
       "}}\n",
       "\n",
       "// Listen for the clearing of the current output cell\n",
       "var outputEl = gd.closest('.output');\n",
       "if (outputEl) {{\n",
       "    x.observe(outputEl, {childList: true});\n",
       "}}\n",
       "\n",
       "                        })\n",
       "                };\n",
       "                });\n",
       "            </script>\n",
       "        </div>"
      ]
     },
     "metadata": {},
     "output_type": "display_data"
    }
   ],
   "source": [
    "with open(\"gpx_simplified.df\",'rb') as infile:\n",
    "        df_simplified = pickle.load(infile)\n",
    "        \n",
    "        \n",
    "        \n",
    "nb_routes = 25\n",
    "routes_min_quadrillage = 10\n",
    "\n",
    "df_simplified = df_simplified[df_simplified[\"route_num\"]<=nb_routes]\n",
    "\n",
    "d = create_dict_vox(df_simplified, nb_routes)\n",
    "tab_vox = get_voxels_with_min_routes(d, routes_min_quadrillage)\n",
    "\n",
    "        \n",
    "df_simplified[\"type\"] = 0\n",
    "df = pd.DataFrame(tab_vox, columns=[\"lat\", \"lon\", \"route_num\", \"type\"])\n",
    "df_simplified = df_simplified.append(df)\n",
    "display(df_simplified, color=\"type\")        \n",
    "        "
   ]
  },
  {
   "cell_type": "code",
   "execution_count": null,
   "metadata": {},
   "outputs": [],
   "source": []
  }
 ],
 "metadata": {
  "kernelspec": {
   "display_name": "Python 3",
   "language": "python",
   "name": "python3"
  },
  "language_info": {
   "codemirror_mode": {
    "name": "ipython",
    "version": 3
   },
   "file_extension": ".py",
   "mimetype": "text/x-python",
   "name": "python",
   "nbconvert_exporter": "python",
   "pygments_lexer": "ipython3",
   "version": "3.6.9"
  }
 },
 "nbformat": 4,
 "nbformat_minor": 2
}
