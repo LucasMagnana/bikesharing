{
 "cells": [
  {
   "cell_type": "code",
   "execution_count": 1,
   "metadata": {},
   "outputs": [],
   "source": [
    "import pandas as pd\n",
    "import numpy as np\n",
    "import plotly.express as px\n",
    "import xml.etree.ElementTree as ET\n",
    "import pickle\n",
    "import math\n",
    "import copy\n",
    "from rdp import *\n",
    "token = \"pk.eyJ1IjoibG1hZ25hbmEiLCJhIjoiY2s2N3hmNzgwMGNnODNqcGJ1N2l2ZXZpdiJ9.-aOxDLM8KbEQnJfXegtl7A\"\n",
    "px.set_mapbox_access_token(token)\n",
    "n_voxel = 3\n",
    "vox_divider = 2\n",
    "nb_subvox = (10/vox_divider)"
   ]
  },
  {
   "cell_type": "code",
   "execution_count": 2,
   "metadata": {
    "scrolled": true
   },
   "outputs": [],
   "source": [
    "def load_gpx():\n",
    "    with open('gpx.df','rb') as infile:\n",
    "        df = pickle.load(infile)\n",
    "    begin = int(df.iloc[-1][\"route_num\"])\n",
    "    print(begin)\n",
    "    for i in range(begin+1, begin+1109+1):\n",
    "        tree = ET.parse('Datas/GPS/GPX/data'+str(i)+'.gpx')\n",
    "        if(len(tree.getroot()) > 1):\n",
    "            root = tree.getroot()[1][0]\n",
    "            df_temp = pd.DataFrame(columns=['lat', 'lon'])\n",
    "            j=0\n",
    "            for child in root:\n",
    "                coord = child.attrib\n",
    "                coord['lat'] = float(coord['lat'])\n",
    "                coord['lon'] = float(coord['lon'])\n",
    "                df_temp = df_temp.append(pd.DataFrame(coord, index=[j]))\n",
    "                j+=1\n",
    "            df_temp[\"route_num\"] = i\n",
    "            df = df.append(df_temp)\n",
    "    with open('gpx.df', 'wb') as outfile:\n",
    "        pickle.dump(df, outfile)"
   ]
  },
  {
   "cell_type": "code",
   "execution_count": 3,
   "metadata": {
    "scrolled": false
   },
   "outputs": [],
   "source": [
    "def rd_compression(df, nb_routes=1110, eps=1e-4):\n",
    "    \"\"\"\n",
    "    Compress a dataframe with douglas-peucker's algorithm.\n",
    "\n",
    "    Parameters\n",
    "    ----------\n",
    "    df : pandas' DataFrame with columns=['lat', 'lon', 'route_num']\n",
    "        Dataframe to compress\n",
    "    eps : int in [0, 1[ , optional\n",
    "        Precision of the compression (high value = few points)\n",
    "    nb_routes : int\n",
    "        Number of routes to compress\n",
    "\n",
    "    Returns\n",
    "    -------\n",
    "    pandas' DataFrame with columns=['lat', 'lon', 'route_num']\n",
    "        the compressed DataFrame\n",
    "    \"\"\"\n",
    "    \n",
    "    df_simplified = pd.DataFrame(columns=['lat', 'lon', 'route_num'])\n",
    "    for i in range(1, nb_routes):\n",
    "        route = df[df['route_num']==i].values\n",
    "        if(len(route)>0):\n",
    "            simplified = rdp(np.delete(route, 2, 1), epsilon=eps)\n",
    "            simplified = np.insert(simplified, 2, route[0][2], axis=1) #add the route_number to the compressed route\n",
    "            df_temp = pd.DataFrame(simplified, columns=['lat', 'lon', 'route_num'])\n",
    "            df_simplified = df_simplified.append(df_temp)\n",
    "    return df_simplified"
   ]
  },
  {
   "cell_type": "code",
   "execution_count": 4,
   "metadata": {},
   "outputs": [],
   "source": [
    "def display(dfdisplay, n=75, line_group=\"route_num\", color=None):\n",
    "    \"\"\"\n",
    "    Display a dataframe of gps points on a mapbox map.\n",
    "    Parameters\n",
    "    ----------\n",
    "    df or str : pandas' DataFrame with columns=['lat', 'lon', 'route_num'] or the name of a file containing one\n",
    "        Dataframe to display or the file where it is located\n",
    "    n : int, optional\n",
    "        Number of routes to display\n",
    "    line_group : str, optional\n",
    "        Dataframe's attribute used to differenciate routes\n",
    "    color : str, optional\n",
    "        Dataframe's attribute used to color routes\n",
    "    \"\"\"\n",
    "    n+=1\n",
    "    if(type(dfdisplay) == str): #if df is a file location\n",
    "        with open(dfdisplay,'rb') as infile:\n",
    "            dfdisplay = pickle.load(infile) #open the file to load the dataframe\n",
    "    dfdisplay = dfdisplay[dfdisplay[line_group]<n]\n",
    "    fig = px.line_mapbox(dfdisplay, lat=\"lat\", lon=\"lon\", line_group=line_group, color=color, zoom=11)\n",
    "    fig.show()"
   ]
  },
  {
   "cell_type": "code",
   "execution_count": 5,
   "metadata": {},
   "outputs": [],
   "source": [
    "#display(\"gpx_simplified.df\", 1)"
   ]
  },
  {
   "cell_type": "code",
   "execution_count": 6,
   "metadata": {},
   "outputs": [],
   "source": [
    "import math\n",
    "def truncate(number, digits) -> float:\n",
    "    stepper = 10.0 ** digits\n",
    "    return math.trunc(stepper * number) / stepper"
   ]
  },
  {
   "cell_type": "code",
   "execution_count": 7,
   "metadata": {},
   "outputs": [],
   "source": [
    "def find_voxel_int(p):\n",
    "    \"\"\"\n",
    "    Find the voxel in which a point is by truncating its position. Voxel's position are transformed into \n",
    "    int to be manipulated in an easier way.\n",
    "    Parameters\n",
    "    ----------\n",
    "    p : list of two int\n",
    "        The point \n",
    "    n : int, optional\n",
    "        Number of digits to truncate\n",
    "        \n",
    "    Returns\n",
    "    -------\n",
    "    list of two int\n",
    "        Position of the voxel's low left point\n",
    "    \"\"\"\n",
    "    v_lat = math.trunc(p[0]*10**(n_voxel+1))\n",
    "    v_lon = math.trunc(p[1]*10**(n_voxel+1))\n",
    "    \n",
    "    while(v_lat%nb_subvox != 0):\n",
    "        v_lat -= 1\n",
    "    while(v_lon%nb_subvox != 0):\n",
    "        v_lon -= 1\n",
    "    \n",
    "    return [v_lat, v_lon]"
   ]
  },
  {
   "cell_type": "code",
   "execution_count": 8,
   "metadata": {},
   "outputs": [],
   "source": [
    "def line_intersection(line1, line2):\n",
    "    \"\"\"\n",
    "    Find the point of intersection between two lines\n",
    "    Parameters\n",
    "    ----------\n",
    "    line1 : list of two points (a point is a list of two int)\n",
    "        First line  \n",
    "    line2 : list of two points (a point is a list of two int)\n",
    "        Second line  \n",
    "        \n",
    "    Returns\n",
    "    -------\n",
    "    list of two int\n",
    "        Position of the intersection\n",
    "    \"\"\"\n",
    "    xdiff = (line1[0][0] - line1[1][0], line2[0][0] - line2[1][0])\n",
    "    ydiff = (line1[0][1] - line1[1][1], line2[0][1] - line2[1][1])\n",
    "\n",
    "    def det(a, b):\n",
    "        return a[0] * b[1] - a[1] * b[0]\n",
    "\n",
    "    div = det(xdiff, ydiff)\n",
    "    if div == 0:\n",
    "       raise Exception('lines do not intersect')\n",
    "\n",
    "    d = (det(*line1), det(*line2))\n",
    "    x = det(d, xdiff) / div\n",
    "    y = det(d, ydiff) / div\n",
    "    return [x, y]\n",
    "    "
   ]
  },
  {
   "cell_type": "code",
   "execution_count": 9,
   "metadata": {},
   "outputs": [],
   "source": [
    "\n",
    "def create_dict_vox(df, nb_routes):\n",
    "    \"\"\"\n",
    "    With a dataframe containing gps points separated in routes, creates a dict of voxels.  \n",
    "    Parameters\n",
    "    ----------\n",
    "     df : pandas' DataFrame with columns=['lat', 'lon', 'route_num']\n",
    "        Dataframe to use \n",
    "    nb_routes : int\n",
    "        Number of routes to use in the dataframe \n",
    "        \n",
    "    Returns\n",
    "    -------\n",
    "    dict of voxels\n",
    "        Keys of this dict are strings containing the position of voxels' low left points transformed to int\n",
    "        and separated by a ';'.\n",
    "        Values of this dict are lists containing the number of all routes that pass through the voxel.\n",
    "    \"\"\"\n",
    "    \n",
    "    dict_vox = {}\n",
    "    \n",
    "    for r in range(1, nb_routes+1):\n",
    "        \n",
    "        route = df[df[\"route_num\"]==r]\n",
    "        points = route.values.tolist()\n",
    "\n",
    "        for j in range(len(points)-1):\n",
    "            p1 = points[j] #we take two points in the dataframe that create a line\n",
    "            p2 = points[j+1]\n",
    "\n",
    "            if(p1[0]>p2[0]):\n",
    "                lat_orientation = -nb_subvox #the line is going down\n",
    "            else:\n",
    "                lat_orientation = nb_subvox #the line is going up\n",
    "\n",
    "            if(p1[1]>p2[1]):\n",
    "                lon_orientation = -nb_subvox #the line is going left \n",
    "            else:\n",
    "                lon_orientation = nb_subvox #the line is goin right\n",
    "\n",
    "            vox_int = find_voxel_int(p1) #find the start voxel\n",
    "            vox_final_int = find_voxel_int(p2) #find the final voxel\n",
    "            \n",
    "            \n",
    "            \n",
    "            #while the final voxel has not been reached\n",
    "            while(vox_int[0] != vox_final_int[0] or vox_int[1] != vox_final_int[1]):\n",
    "                vox_float = [vox_int[0]*10**(-n_voxel-1), vox_int[1]*10**(-n_voxel-1)] #transform the vox into real points\n",
    "                \n",
    "                key = str(int(vox_int[0]))+\";\"+str(int(vox_int[1])) #save the voxel\n",
    "                if key in dict_vox:\n",
    "                    if(r not in dict_vox[key]):\n",
    "                        dict_vox[key].append(r)\n",
    "                else :\n",
    "                    dict_vox[key] = [r]\n",
    "                    \n",
    "                '''find the good intersection point (if the line is going up, we search the intersection between \n",
    "                it and the up line of the voxel for example)'''\n",
    "                if(lat_orientation>0):\n",
    "                    intersection_lat = line_intersection([p1, p2], [[vox_float[0]+nb_subvox*10**(-n_voxel-1), vox_float[1]],\n",
    "                                                        [vox_float[0]+nb_subvox*10**(-n_voxel-1), vox_float[1]+nb_subvox*10**(-n_voxel-1)]])\n",
    "                else:\n",
    "                    intersection_lat = line_intersection([p1, p2], [vox_float, [vox_float[0], vox_float[1]+nb_subvox*10**(-n_voxel-1)]])\n",
    "\n",
    "                    \n",
    "                '''same for left and right'''\n",
    "                if(lon_orientation>0): \n",
    "                    intersection_lon = line_intersection([p1, p2], [[vox_float[0], vox_float[1]+nb_subvox*10**(-n_voxel-1)], \n",
    "                                                        [vox_float[0]+nb_subvox*10**(-n_voxel-1), vox_float[1]+nb_subvox*10**(-n_voxel-1)]])\n",
    "                else:\n",
    "                    intersection_lon = line_intersection([p1, p2], [vox_float, [vox_float[0]+nb_subvox*10**(-n_voxel-1), vox_float[1]]])\n",
    "\n",
    "                #calculate the distance between the first point of the line and the two intersection points\n",
    "                intersection_lon_distance = sqrt((p1[0]-intersection_lon[0])**2+(p1[1]-intersection_lon[1])**2)\n",
    "                intersection_lat_distance = sqrt((p1[0]-intersection_lat[0])**2+(p1[1]-intersection_lat[1])**2)\n",
    "\n",
    "                #find the shorter distance then go to the next voxel using the orientation of the line\n",
    "                if(intersection_lat_distance<intersection_lon_distance): \n",
    "                    vox_int[0] += lat_orientation\n",
    "                else:\n",
    "                    vox_int[1] += lon_orientation\n",
    "                    \n",
    "            key = str(int(vox_int[0]))+\";\"+str(int(vox_int[1])) #end of the while loop, save the last voxel\n",
    "            if key in dict_vox:\n",
    "                if(r not in dict_vox[key]):\n",
    "                    dict_vox[key].append(r)\n",
    "            else :\n",
    "                 dict_vox[key] = [r]\n",
    "    return dict_vox\n",
    "\n",
    "\n",
    "    \n"
   ]
  },
  {
   "cell_type": "code",
   "execution_count": 10,
   "metadata": {},
   "outputs": [],
   "source": [
    "def get_voxel_points(vox, num_vox):\n",
    "    \"\"\"\n",
    "    Take the position of the low left point of a voxel transformed into an int \n",
    "    and return this voxel's four real points.\n",
    "    Parameters\n",
    "    ----------\n",
    "    vox : list of two int\n",
    "        Position of the voxel's low left point transformed into an int\n",
    "    num_vox : int\n",
    "        Number of the voxel, used later to differentiate voxels\n",
    "        \n",
    "    Returns\n",
    "    -------\n",
    "    list \n",
    "        list of the four points (a point is a list of two int)\n",
    "    \"\"\"\n",
    "    tab_vox = []\n",
    "    vox_float = [vox[0]*10**(-n_voxel-1), vox[1]*10**(-n_voxel-1)]\n",
    "    vox_float.append(num_vox)\n",
    "    vox_float.append(1)\n",
    "    tab_vox.append(vox_float)\n",
    "    tab_vox.append([vox_float[0]+nb_subvox*10**(-n_voxel-1), vox_float[1], num_vox, 1])\n",
    "    tab_vox.append([vox_float[0]+nb_subvox*10**(-n_voxel-1), vox_float[1]+nb_subvox*10**(-n_voxel-1), num_vox, 1])\n",
    "    tab_vox.append([vox_float[0], vox_float[1]+nb_subvox*10**(-n_voxel-1), num_vox, 1])\n",
    "    return tab_vox\n"
   ]
  },
  {
   "cell_type": "code",
   "execution_count": 11,
   "metadata": {},
   "outputs": [],
   "source": [
    "def get_adjacent_voxel(vox, lat_diff, lon_diff):\n",
    "    return [vox[0]+lat_diff*nb_subvox, vox[1]+lon_diff*nb_subvox]"
   ]
  },
  {
   "cell_type": "code",
   "execution_count": 12,
   "metadata": {},
   "outputs": [],
   "source": [
    "def voxel_convolution(vox, dict_vox, dict_vox_used, num_vox, lat_diff, lon_diff):\n",
    "    \"\"\"\n",
    "    With a voxel, check if one of his neighbour exists and if it has already been used.\n",
    "    ----------\n",
    "    vox : list of two int\n",
    "        Position of the voxel's low left point transformed into an int\n",
    "    dict_vox : dict\n",
    "        Dictionary of existing voxels \n",
    "    dict_vox_used : dict\n",
    "        Dictionary of voxels that have already been used\n",
    "    num_vox : int\n",
    "        Number of the voxel, used later to differentiate voxels\n",
    "    lat_diff : int\n",
    "        Difference of latitude (the unit is voxel) between the voxel and the neighbour\n",
    "    lon_diff : int\n",
    "        Difference of longitude (the unit is voxel) between the voxel and the neighbour\n",
    "        \n",
    "    Returns\n",
    "    -------\n",
    "    list\n",
    "        If the voxel exists and has not been used : \n",
    "            A list containing the voxel's low left point transformed into an int and the list containing all routes\n",
    "            that are going through the voxel\n",
    "        Else:\n",
    "            An empty list\n",
    "    \"\"\"\n",
    "    vox_adj = get_adjacent_voxel(vox, lat_diff, lon_diff)\n",
    "    key_adj = str(int(vox_adj[0]))+\";\"+str(int(vox_adj[1]))\n",
    "    if(key_adj in dict_vox and not(key_adj in dict_vox_used)):\n",
    "        return [vox_adj, dict_vox[key_adj], key_adj]\n",
    "    return []\n",
    "        \n",
    "    "
   ]
  },
  {
   "cell_type": "code",
   "execution_count": 13,
   "metadata": {},
   "outputs": [],
   "source": [
    "def get_voxels_with_min_routes(dict_vox, min_routes):\n",
    "    \"\"\"\n",
    "    Return all voxels or groups of voxels that have at least a number of routes passing through themselves.\n",
    "    Parameters\n",
    "    ----------\n",
    "    dict_vox : dict\n",
    "        Dictionary of existing voxels \n",
    "    min_routes : int\n",
    "        Minimum number of routes passing through voxels / groups of voxels\n",
    "        \n",
    "    Returns\n",
    "    -------\n",
    "    list \n",
    "        List of voxels that have or are part of a group that have at least 'min_routes' routes \n",
    "        passing through itself. A voxel is a list of four points.\n",
    "    \"\"\"\n",
    "    num_vox = 0 #used to differentiate voxels\n",
    "    dict_vox_used = {}\n",
    "    tab_voxel_with_min_routes = [] #final list containing all voxels that matches with the conditions\n",
    "    \n",
    "    for key in dict_vox: #for all vosels\n",
    "        tab_routes = dict_vox[key]\n",
    "        \n",
    "        vox_str = key.split(\";\")\n",
    "        vox_int = [int(vox_str[0]), int(vox_str[1])]\n",
    "        \n",
    "        \n",
    "        #if the voxels has at least 'min_routes' routes and has not been saved we save it\n",
    "        if(key not in dict_vox_used and len(tab_routes) >= min_routes):\n",
    "            tab_voxel_with_min_routes += get_voxel_points(vox_int, num_vox)\n",
    "            dict_vox_used[key] = True\n",
    "            num_vox -= 1\n",
    "            \n",
    "        \n",
    "        #creation of a list containing all neighbours of the voxel\n",
    "        tab_vox_adj = []\n",
    "        tab_vox_adj.append(voxel_convolution(vox_int, dict_vox, dict_vox_used, num_vox, -1, 0))\n",
    "        tab_vox_adj.append(voxel_convolution(vox_int, dict_vox, dict_vox_used, num_vox, 1, 0))\n",
    "        tab_vox_adj.append(voxel_convolution(vox_int, dict_vox, dict_vox_used, num_vox, 0, 1))\n",
    "        tab_vox_adj.append(voxel_convolution(vox_int, dict_vox, dict_vox_used, num_vox, 0, -1))\n",
    "        \n",
    "        #for all neighbours\n",
    "        for vox_adj in tab_vox_adj:\n",
    "            if(len(vox_adj) != 0):#if it exists and has not been used \n",
    "                \n",
    "                union_tab_routes = list(set(tab_routes) | set(vox_adj[1]))#union of lists\n",
    "                \n",
    "                if(len(union_tab_routes) >= min_routes):\n",
    "                    key_adj = str(int(vox_adj[0][0]))+\";\"+str(int(vox_adj[0][1]))\n",
    "                    if(len(union_tab_routes) > len(tab_routes) and key_adj not in dict_vox_used):\n",
    "                        tab_voxel_with_min_routes += get_voxel_points(vox_adj[0], num_vox)\n",
    "                        dict_vox_used[key_adj] = True\n",
    "                        num_vox -= 1\n",
    "    return tab_voxel_with_min_routes\n"
   ]
  },
  {
   "cell_type": "code",
   "execution_count": 17,
   "metadata": {},
   "outputs": [
    {
     "data": {
      "application/vnd.plotly.v1+json": {
       "config": {
        "plotlyServerURL": "https://plot.ly"
       },
       "data": [
        {
         "hoverlabel": {
          "namelength": 0
         },
         "hovertemplate": "type=0<br>route_num=1<br>lat=%{lat}<br>lon=%{lon}",
         "lat": [
          45.7597379,
          45.7594543,
          45.75876832,
          45.75807992,
          45.75672044,
          45.75490154,
          45.75487488,
          45.75438988,
          45.75276134,
          45.75101162,
          45.75081634,
          45.75039882,
          45.75035424,
          45.74903047,
          45.74719221,
          45.74502268,
          45.74296191,
          45.74143137,
          45.73917602,
          45.73706151,
          45.73502972,
          45.7345798,
          45.72093785,
          45.71977639,
          45.7183188,
          45.71173528,
          45.70800263,
          45.70688691,
          45.70689246,
          45.70654918,
          45.70613218,
          45.70543845,
          45.70300388,
          45.70229707,
          45.70212037,
          45.70171149,
          45.70297177,
          45.70331486,
          45.70448637,
          45.70491583,
          45.70564567,
          45.70455069,
          45.70374964,
          45.70332643,
          45.7032535,
          45.70356367
         ],
         "legendgroup": "0",
         "line": {
          "color": "#636efa"
         },
         "lon": [
          4.87564968,
          4.87562544,
          4.87633725,
          4.87662766,
          4.87622178,
          4.87596118,
          4.87512089,
          4.87341389,
          4.86970291,
          4.87295691,
          4.87365467,
          4.87390946,
          4.87374888,
          4.87321552,
          4.87198515,
          4.87098524,
          4.86975812,
          4.86862736,
          4.86650606,
          4.86510099,
          4.86345003,
          4.8633533,
          4.87386039,
          4.87489447,
          4.87586047,
          4.88113473,
          4.88690401,
          4.88736774,
          4.88777587,
          4.88787811,
          4.88887657,
          4.88902773,
          4.8951566,
          4.89619978,
          4.89726056,
          4.89835119,
          4.89945834,
          4.89900966,
          4.90010707,
          4.89980376,
          4.900549,
          4.9024579,
          4.90158739,
          4.90199092,
          4.90184727,
          4.901477
         ],
         "mode": "lines",
         "name": "0",
         "showlegend": true,
         "subplot": "mapbox",
         "type": "scattermapbox"
        }
       ],
       "layout": {
        "legend": {
         "title": {
          "text": "type"
         },
         "tracegroupgap": 0
        },
        "mapbox": {
         "accesstoken": "pk.eyJ1IjoibG1hZ25hbmEiLCJhIjoiY2s2N3hmNzgwMGNnODNqcGJ1N2l2ZXZpdiJ9.-aOxDLM8KbEQnJfXegtl7A",
         "center": {
          "lat": 45.727029056521744,
          "lon": 4.882842367391305
         },
         "domain": {
          "x": [
           0,
           1
          ],
          "y": [
           0,
           1
          ]
         },
         "zoom": 11
        },
        "margin": {
         "t": 60
        },
        "template": {
         "data": {
          "bar": [
           {
            "error_x": {
             "color": "#2a3f5f"
            },
            "error_y": {
             "color": "#2a3f5f"
            },
            "marker": {
             "line": {
              "color": "#E5ECF6",
              "width": 0.5
             }
            },
            "type": "bar"
           }
          ],
          "barpolar": [
           {
            "marker": {
             "line": {
              "color": "#E5ECF6",
              "width": 0.5
             }
            },
            "type": "barpolar"
           }
          ],
          "carpet": [
           {
            "aaxis": {
             "endlinecolor": "#2a3f5f",
             "gridcolor": "white",
             "linecolor": "white",
             "minorgridcolor": "white",
             "startlinecolor": "#2a3f5f"
            },
            "baxis": {
             "endlinecolor": "#2a3f5f",
             "gridcolor": "white",
             "linecolor": "white",
             "minorgridcolor": "white",
             "startlinecolor": "#2a3f5f"
            },
            "type": "carpet"
           }
          ],
          "choropleth": [
           {
            "colorbar": {
             "outlinewidth": 0,
             "ticks": ""
            },
            "type": "choropleth"
           }
          ],
          "contour": [
           {
            "colorbar": {
             "outlinewidth": 0,
             "ticks": ""
            },
            "colorscale": [
             [
              0,
              "#0d0887"
             ],
             [
              0.1111111111111111,
              "#46039f"
             ],
             [
              0.2222222222222222,
              "#7201a8"
             ],
             [
              0.3333333333333333,
              "#9c179e"
             ],
             [
              0.4444444444444444,
              "#bd3786"
             ],
             [
              0.5555555555555556,
              "#d8576b"
             ],
             [
              0.6666666666666666,
              "#ed7953"
             ],
             [
              0.7777777777777778,
              "#fb9f3a"
             ],
             [
              0.8888888888888888,
              "#fdca26"
             ],
             [
              1,
              "#f0f921"
             ]
            ],
            "type": "contour"
           }
          ],
          "contourcarpet": [
           {
            "colorbar": {
             "outlinewidth": 0,
             "ticks": ""
            },
            "type": "contourcarpet"
           }
          ],
          "heatmap": [
           {
            "colorbar": {
             "outlinewidth": 0,
             "ticks": ""
            },
            "colorscale": [
             [
              0,
              "#0d0887"
             ],
             [
              0.1111111111111111,
              "#46039f"
             ],
             [
              0.2222222222222222,
              "#7201a8"
             ],
             [
              0.3333333333333333,
              "#9c179e"
             ],
             [
              0.4444444444444444,
              "#bd3786"
             ],
             [
              0.5555555555555556,
              "#d8576b"
             ],
             [
              0.6666666666666666,
              "#ed7953"
             ],
             [
              0.7777777777777778,
              "#fb9f3a"
             ],
             [
              0.8888888888888888,
              "#fdca26"
             ],
             [
              1,
              "#f0f921"
             ]
            ],
            "type": "heatmap"
           }
          ],
          "heatmapgl": [
           {
            "colorbar": {
             "outlinewidth": 0,
             "ticks": ""
            },
            "colorscale": [
             [
              0,
              "#0d0887"
             ],
             [
              0.1111111111111111,
              "#46039f"
             ],
             [
              0.2222222222222222,
              "#7201a8"
             ],
             [
              0.3333333333333333,
              "#9c179e"
             ],
             [
              0.4444444444444444,
              "#bd3786"
             ],
             [
              0.5555555555555556,
              "#d8576b"
             ],
             [
              0.6666666666666666,
              "#ed7953"
             ],
             [
              0.7777777777777778,
              "#fb9f3a"
             ],
             [
              0.8888888888888888,
              "#fdca26"
             ],
             [
              1,
              "#f0f921"
             ]
            ],
            "type": "heatmapgl"
           }
          ],
          "histogram": [
           {
            "marker": {
             "colorbar": {
              "outlinewidth": 0,
              "ticks": ""
             }
            },
            "type": "histogram"
           }
          ],
          "histogram2d": [
           {
            "colorbar": {
             "outlinewidth": 0,
             "ticks": ""
            },
            "colorscale": [
             [
              0,
              "#0d0887"
             ],
             [
              0.1111111111111111,
              "#46039f"
             ],
             [
              0.2222222222222222,
              "#7201a8"
             ],
             [
              0.3333333333333333,
              "#9c179e"
             ],
             [
              0.4444444444444444,
              "#bd3786"
             ],
             [
              0.5555555555555556,
              "#d8576b"
             ],
             [
              0.6666666666666666,
              "#ed7953"
             ],
             [
              0.7777777777777778,
              "#fb9f3a"
             ],
             [
              0.8888888888888888,
              "#fdca26"
             ],
             [
              1,
              "#f0f921"
             ]
            ],
            "type": "histogram2d"
           }
          ],
          "histogram2dcontour": [
           {
            "colorbar": {
             "outlinewidth": 0,
             "ticks": ""
            },
            "colorscale": [
             [
              0,
              "#0d0887"
             ],
             [
              0.1111111111111111,
              "#46039f"
             ],
             [
              0.2222222222222222,
              "#7201a8"
             ],
             [
              0.3333333333333333,
              "#9c179e"
             ],
             [
              0.4444444444444444,
              "#bd3786"
             ],
             [
              0.5555555555555556,
              "#d8576b"
             ],
             [
              0.6666666666666666,
              "#ed7953"
             ],
             [
              0.7777777777777778,
              "#fb9f3a"
             ],
             [
              0.8888888888888888,
              "#fdca26"
             ],
             [
              1,
              "#f0f921"
             ]
            ],
            "type": "histogram2dcontour"
           }
          ],
          "mesh3d": [
           {
            "colorbar": {
             "outlinewidth": 0,
             "ticks": ""
            },
            "type": "mesh3d"
           }
          ],
          "parcoords": [
           {
            "line": {
             "colorbar": {
              "outlinewidth": 0,
              "ticks": ""
             }
            },
            "type": "parcoords"
           }
          ],
          "pie": [
           {
            "automargin": true,
            "type": "pie"
           }
          ],
          "scatter": [
           {
            "marker": {
             "colorbar": {
              "outlinewidth": 0,
              "ticks": ""
             }
            },
            "type": "scatter"
           }
          ],
          "scatter3d": [
           {
            "line": {
             "colorbar": {
              "outlinewidth": 0,
              "ticks": ""
             }
            },
            "marker": {
             "colorbar": {
              "outlinewidth": 0,
              "ticks": ""
             }
            },
            "type": "scatter3d"
           }
          ],
          "scattercarpet": [
           {
            "marker": {
             "colorbar": {
              "outlinewidth": 0,
              "ticks": ""
             }
            },
            "type": "scattercarpet"
           }
          ],
          "scattergeo": [
           {
            "marker": {
             "colorbar": {
              "outlinewidth": 0,
              "ticks": ""
             }
            },
            "type": "scattergeo"
           }
          ],
          "scattergl": [
           {
            "marker": {
             "colorbar": {
              "outlinewidth": 0,
              "ticks": ""
             }
            },
            "type": "scattergl"
           }
          ],
          "scattermapbox": [
           {
            "marker": {
             "colorbar": {
              "outlinewidth": 0,
              "ticks": ""
             }
            },
            "type": "scattermapbox"
           }
          ],
          "scatterpolar": [
           {
            "marker": {
             "colorbar": {
              "outlinewidth": 0,
              "ticks": ""
             }
            },
            "type": "scatterpolar"
           }
          ],
          "scatterpolargl": [
           {
            "marker": {
             "colorbar": {
              "outlinewidth": 0,
              "ticks": ""
             }
            },
            "type": "scatterpolargl"
           }
          ],
          "scatterternary": [
           {
            "marker": {
             "colorbar": {
              "outlinewidth": 0,
              "ticks": ""
             }
            },
            "type": "scatterternary"
           }
          ],
          "surface": [
           {
            "colorbar": {
             "outlinewidth": 0,
             "ticks": ""
            },
            "colorscale": [
             [
              0,
              "#0d0887"
             ],
             [
              0.1111111111111111,
              "#46039f"
             ],
             [
              0.2222222222222222,
              "#7201a8"
             ],
             [
              0.3333333333333333,
              "#9c179e"
             ],
             [
              0.4444444444444444,
              "#bd3786"
             ],
             [
              0.5555555555555556,
              "#d8576b"
             ],
             [
              0.6666666666666666,
              "#ed7953"
             ],
             [
              0.7777777777777778,
              "#fb9f3a"
             ],
             [
              0.8888888888888888,
              "#fdca26"
             ],
             [
              1,
              "#f0f921"
             ]
            ],
            "type": "surface"
           }
          ],
          "table": [
           {
            "cells": {
             "fill": {
              "color": "#EBF0F8"
             },
             "line": {
              "color": "white"
             }
            },
            "header": {
             "fill": {
              "color": "#C8D4E3"
             },
             "line": {
              "color": "white"
             }
            },
            "type": "table"
           }
          ]
         },
         "layout": {
          "annotationdefaults": {
           "arrowcolor": "#2a3f5f",
           "arrowhead": 0,
           "arrowwidth": 1
          },
          "coloraxis": {
           "colorbar": {
            "outlinewidth": 0,
            "ticks": ""
           }
          },
          "colorscale": {
           "diverging": [
            [
             0,
             "#8e0152"
            ],
            [
             0.1,
             "#c51b7d"
            ],
            [
             0.2,
             "#de77ae"
            ],
            [
             0.3,
             "#f1b6da"
            ],
            [
             0.4,
             "#fde0ef"
            ],
            [
             0.5,
             "#f7f7f7"
            ],
            [
             0.6,
             "#e6f5d0"
            ],
            [
             0.7,
             "#b8e186"
            ],
            [
             0.8,
             "#7fbc41"
            ],
            [
             0.9,
             "#4d9221"
            ],
            [
             1,
             "#276419"
            ]
           ],
           "sequential": [
            [
             0,
             "#0d0887"
            ],
            [
             0.1111111111111111,
             "#46039f"
            ],
            [
             0.2222222222222222,
             "#7201a8"
            ],
            [
             0.3333333333333333,
             "#9c179e"
            ],
            [
             0.4444444444444444,
             "#bd3786"
            ],
            [
             0.5555555555555556,
             "#d8576b"
            ],
            [
             0.6666666666666666,
             "#ed7953"
            ],
            [
             0.7777777777777778,
             "#fb9f3a"
            ],
            [
             0.8888888888888888,
             "#fdca26"
            ],
            [
             1,
             "#f0f921"
            ]
           ],
           "sequentialminus": [
            [
             0,
             "#0d0887"
            ],
            [
             0.1111111111111111,
             "#46039f"
            ],
            [
             0.2222222222222222,
             "#7201a8"
            ],
            [
             0.3333333333333333,
             "#9c179e"
            ],
            [
             0.4444444444444444,
             "#bd3786"
            ],
            [
             0.5555555555555556,
             "#d8576b"
            ],
            [
             0.6666666666666666,
             "#ed7953"
            ],
            [
             0.7777777777777778,
             "#fb9f3a"
            ],
            [
             0.8888888888888888,
             "#fdca26"
            ],
            [
             1,
             "#f0f921"
            ]
           ]
          },
          "colorway": [
           "#636efa",
           "#EF553B",
           "#00cc96",
           "#ab63fa",
           "#FFA15A",
           "#19d3f3",
           "#FF6692",
           "#B6E880",
           "#FF97FF",
           "#FECB52"
          ],
          "font": {
           "color": "#2a3f5f"
          },
          "geo": {
           "bgcolor": "white",
           "lakecolor": "white",
           "landcolor": "#E5ECF6",
           "showlakes": true,
           "showland": true,
           "subunitcolor": "white"
          },
          "hoverlabel": {
           "align": "left"
          },
          "hovermode": "closest",
          "mapbox": {
           "style": "light"
          },
          "paper_bgcolor": "white",
          "plot_bgcolor": "#E5ECF6",
          "polar": {
           "angularaxis": {
            "gridcolor": "white",
            "linecolor": "white",
            "ticks": ""
           },
           "bgcolor": "#E5ECF6",
           "radialaxis": {
            "gridcolor": "white",
            "linecolor": "white",
            "ticks": ""
           }
          },
          "scene": {
           "xaxis": {
            "backgroundcolor": "#E5ECF6",
            "gridcolor": "white",
            "gridwidth": 2,
            "linecolor": "white",
            "showbackground": true,
            "ticks": "",
            "zerolinecolor": "white"
           },
           "yaxis": {
            "backgroundcolor": "#E5ECF6",
            "gridcolor": "white",
            "gridwidth": 2,
            "linecolor": "white",
            "showbackground": true,
            "ticks": "",
            "zerolinecolor": "white"
           },
           "zaxis": {
            "backgroundcolor": "#E5ECF6",
            "gridcolor": "white",
            "gridwidth": 2,
            "linecolor": "white",
            "showbackground": true,
            "ticks": "",
            "zerolinecolor": "white"
           }
          },
          "shapedefaults": {
           "line": {
            "color": "#2a3f5f"
           }
          },
          "ternary": {
           "aaxis": {
            "gridcolor": "white",
            "linecolor": "white",
            "ticks": ""
           },
           "baxis": {
            "gridcolor": "white",
            "linecolor": "white",
            "ticks": ""
           },
           "bgcolor": "#E5ECF6",
           "caxis": {
            "gridcolor": "white",
            "linecolor": "white",
            "ticks": ""
           }
          },
          "title": {
           "x": 0.05
          },
          "xaxis": {
           "automargin": true,
           "gridcolor": "white",
           "linecolor": "white",
           "ticks": "",
           "title": {
            "standoff": 15
           },
           "zerolinecolor": "white",
           "zerolinewidth": 2
          },
          "yaxis": {
           "automargin": true,
           "gridcolor": "white",
           "linecolor": "white",
           "ticks": "",
           "title": {
            "standoff": 15
           },
           "zerolinecolor": "white",
           "zerolinewidth": 2
          }
         }
        }
       }
      },
      "text/html": [
       "<div>\n",
       "        \n",
       "        \n",
       "            <div id=\"ea2f5b5e-5a97-4426-92e7-f927d1818bad\" class=\"plotly-graph-div\" style=\"height:525px; width:100%;\"></div>\n",
       "            <script type=\"text/javascript\">\n",
       "                require([\"plotly\"], function(Plotly) {\n",
       "                    window.PLOTLYENV=window.PLOTLYENV || {};\n",
       "                    \n",
       "                if (document.getElementById(\"ea2f5b5e-5a97-4426-92e7-f927d1818bad\")) {\n",
       "                    Plotly.newPlot(\n",
       "                        'ea2f5b5e-5a97-4426-92e7-f927d1818bad',\n",
       "                        [{\"hoverlabel\": {\"namelength\": 0}, \"hovertemplate\": \"type=0<br>route_num=1<br>lat=%{lat}<br>lon=%{lon}\", \"lat\": [45.7597379, 45.7594543, 45.75876832, 45.75807992, 45.75672044, 45.75490154, 45.75487488, 45.75438988, 45.75276134, 45.75101162, 45.75081634, 45.75039882, 45.75035424, 45.74903047, 45.74719221, 45.74502268, 45.74296191, 45.74143137, 45.73917602, 45.73706151, 45.73502972, 45.7345798, 45.72093785, 45.71977639, 45.7183188, 45.71173528, 45.70800263, 45.70688691, 45.70689246, 45.70654918, 45.70613218, 45.70543845, 45.70300388, 45.70229707, 45.70212037, 45.70171149, 45.70297177, 45.70331486, 45.70448637, 45.70491583, 45.70564567, 45.70455069, 45.70374964, 45.70332643, 45.7032535, 45.70356367], \"legendgroup\": \"0\", \"line\": {\"color\": \"#636efa\"}, \"lon\": [4.87564968, 4.87562544, 4.87633725, 4.87662766, 4.87622178, 4.87596118, 4.87512089, 4.87341389, 4.86970291, 4.87295691, 4.87365467, 4.87390946, 4.87374888, 4.87321552, 4.87198515, 4.87098524, 4.86975812, 4.86862736, 4.86650606, 4.86510099, 4.86345003, 4.8633533, 4.87386039, 4.87489447, 4.87586047, 4.88113473, 4.88690401, 4.88736774, 4.88777587, 4.88787811, 4.88887657, 4.88902773, 4.8951566, 4.89619978, 4.89726056, 4.89835119, 4.89945834, 4.89900966, 4.90010707, 4.89980376, 4.900549, 4.9024579, 4.90158739, 4.90199092, 4.90184727, 4.901477], \"mode\": \"lines\", \"name\": \"0\", \"showlegend\": true, \"subplot\": \"mapbox\", \"type\": \"scattermapbox\"}],\n",
       "                        {\"legend\": {\"title\": {\"text\": \"type\"}, \"tracegroupgap\": 0}, \"mapbox\": {\"accesstoken\": \"pk.eyJ1IjoibG1hZ25hbmEiLCJhIjoiY2s2N3hmNzgwMGNnODNqcGJ1N2l2ZXZpdiJ9.-aOxDLM8KbEQnJfXegtl7A\", \"center\": {\"lat\": 45.727029056521744, \"lon\": 4.882842367391305}, \"domain\": {\"x\": [0.0, 1.0], \"y\": [0.0, 1.0]}, \"zoom\": 11}, \"margin\": {\"t\": 60}, \"template\": {\"data\": {\"bar\": [{\"error_x\": {\"color\": \"#2a3f5f\"}, \"error_y\": {\"color\": \"#2a3f5f\"}, \"marker\": {\"line\": {\"color\": \"#E5ECF6\", \"width\": 0.5}}, \"type\": \"bar\"}], \"barpolar\": [{\"marker\": {\"line\": {\"color\": \"#E5ECF6\", \"width\": 0.5}}, \"type\": \"barpolar\"}], \"carpet\": [{\"aaxis\": {\"endlinecolor\": \"#2a3f5f\", \"gridcolor\": \"white\", \"linecolor\": \"white\", \"minorgridcolor\": \"white\", \"startlinecolor\": \"#2a3f5f\"}, \"baxis\": {\"endlinecolor\": \"#2a3f5f\", \"gridcolor\": \"white\", \"linecolor\": \"white\", \"minorgridcolor\": \"white\", \"startlinecolor\": \"#2a3f5f\"}, \"type\": \"carpet\"}], \"choropleth\": [{\"colorbar\": {\"outlinewidth\": 0, \"ticks\": \"\"}, \"type\": \"choropleth\"}], \"contour\": [{\"colorbar\": {\"outlinewidth\": 0, \"ticks\": \"\"}, \"colorscale\": [[0.0, \"#0d0887\"], [0.1111111111111111, \"#46039f\"], [0.2222222222222222, \"#7201a8\"], [0.3333333333333333, \"#9c179e\"], [0.4444444444444444, \"#bd3786\"], [0.5555555555555556, \"#d8576b\"], [0.6666666666666666, \"#ed7953\"], [0.7777777777777778, \"#fb9f3a\"], [0.8888888888888888, \"#fdca26\"], [1.0, \"#f0f921\"]], \"type\": \"contour\"}], \"contourcarpet\": [{\"colorbar\": {\"outlinewidth\": 0, \"ticks\": \"\"}, \"type\": \"contourcarpet\"}], \"heatmap\": [{\"colorbar\": {\"outlinewidth\": 0, \"ticks\": \"\"}, \"colorscale\": [[0.0, \"#0d0887\"], [0.1111111111111111, \"#46039f\"], [0.2222222222222222, \"#7201a8\"], [0.3333333333333333, \"#9c179e\"], [0.4444444444444444, \"#bd3786\"], [0.5555555555555556, \"#d8576b\"], [0.6666666666666666, \"#ed7953\"], [0.7777777777777778, \"#fb9f3a\"], [0.8888888888888888, \"#fdca26\"], [1.0, \"#f0f921\"]], \"type\": \"heatmap\"}], \"heatmapgl\": [{\"colorbar\": {\"outlinewidth\": 0, \"ticks\": \"\"}, \"colorscale\": [[0.0, \"#0d0887\"], [0.1111111111111111, \"#46039f\"], [0.2222222222222222, \"#7201a8\"], [0.3333333333333333, \"#9c179e\"], [0.4444444444444444, \"#bd3786\"], [0.5555555555555556, \"#d8576b\"], [0.6666666666666666, \"#ed7953\"], [0.7777777777777778, \"#fb9f3a\"], [0.8888888888888888, \"#fdca26\"], [1.0, \"#f0f921\"]], \"type\": \"heatmapgl\"}], \"histogram\": [{\"marker\": {\"colorbar\": {\"outlinewidth\": 0, \"ticks\": \"\"}}, \"type\": \"histogram\"}], \"histogram2d\": [{\"colorbar\": {\"outlinewidth\": 0, \"ticks\": \"\"}, \"colorscale\": [[0.0, \"#0d0887\"], [0.1111111111111111, \"#46039f\"], [0.2222222222222222, \"#7201a8\"], [0.3333333333333333, \"#9c179e\"], [0.4444444444444444, \"#bd3786\"], [0.5555555555555556, \"#d8576b\"], [0.6666666666666666, \"#ed7953\"], [0.7777777777777778, \"#fb9f3a\"], [0.8888888888888888, \"#fdca26\"], [1.0, \"#f0f921\"]], \"type\": \"histogram2d\"}], \"histogram2dcontour\": [{\"colorbar\": {\"outlinewidth\": 0, \"ticks\": \"\"}, \"colorscale\": [[0.0, \"#0d0887\"], [0.1111111111111111, \"#46039f\"], [0.2222222222222222, \"#7201a8\"], [0.3333333333333333, \"#9c179e\"], [0.4444444444444444, \"#bd3786\"], [0.5555555555555556, \"#d8576b\"], [0.6666666666666666, \"#ed7953\"], [0.7777777777777778, \"#fb9f3a\"], [0.8888888888888888, \"#fdca26\"], [1.0, \"#f0f921\"]], \"type\": \"histogram2dcontour\"}], \"mesh3d\": [{\"colorbar\": {\"outlinewidth\": 0, \"ticks\": \"\"}, \"type\": \"mesh3d\"}], \"parcoords\": [{\"line\": {\"colorbar\": {\"outlinewidth\": 0, \"ticks\": \"\"}}, \"type\": \"parcoords\"}], \"pie\": [{\"automargin\": true, \"type\": \"pie\"}], \"scatter\": [{\"marker\": {\"colorbar\": {\"outlinewidth\": 0, \"ticks\": \"\"}}, \"type\": \"scatter\"}], \"scatter3d\": [{\"line\": {\"colorbar\": {\"outlinewidth\": 0, \"ticks\": \"\"}}, \"marker\": {\"colorbar\": {\"outlinewidth\": 0, \"ticks\": \"\"}}, \"type\": \"scatter3d\"}], \"scattercarpet\": [{\"marker\": {\"colorbar\": {\"outlinewidth\": 0, \"ticks\": \"\"}}, \"type\": \"scattercarpet\"}], \"scattergeo\": [{\"marker\": {\"colorbar\": {\"outlinewidth\": 0, \"ticks\": \"\"}}, \"type\": \"scattergeo\"}], \"scattergl\": [{\"marker\": {\"colorbar\": {\"outlinewidth\": 0, \"ticks\": \"\"}}, \"type\": \"scattergl\"}], \"scattermapbox\": [{\"marker\": {\"colorbar\": {\"outlinewidth\": 0, \"ticks\": \"\"}}, \"type\": \"scattermapbox\"}], \"scatterpolar\": [{\"marker\": {\"colorbar\": {\"outlinewidth\": 0, \"ticks\": \"\"}}, \"type\": \"scatterpolar\"}], \"scatterpolargl\": [{\"marker\": {\"colorbar\": {\"outlinewidth\": 0, \"ticks\": \"\"}}, \"type\": \"scatterpolargl\"}], \"scatterternary\": [{\"marker\": {\"colorbar\": {\"outlinewidth\": 0, \"ticks\": \"\"}}, \"type\": \"scatterternary\"}], \"surface\": [{\"colorbar\": {\"outlinewidth\": 0, \"ticks\": \"\"}, \"colorscale\": [[0.0, \"#0d0887\"], [0.1111111111111111, \"#46039f\"], [0.2222222222222222, \"#7201a8\"], [0.3333333333333333, \"#9c179e\"], [0.4444444444444444, \"#bd3786\"], [0.5555555555555556, \"#d8576b\"], [0.6666666666666666, \"#ed7953\"], [0.7777777777777778, \"#fb9f3a\"], [0.8888888888888888, \"#fdca26\"], [1.0, \"#f0f921\"]], \"type\": \"surface\"}], \"table\": [{\"cells\": {\"fill\": {\"color\": \"#EBF0F8\"}, \"line\": {\"color\": \"white\"}}, \"header\": {\"fill\": {\"color\": \"#C8D4E3\"}, \"line\": {\"color\": \"white\"}}, \"type\": \"table\"}]}, \"layout\": {\"annotationdefaults\": {\"arrowcolor\": \"#2a3f5f\", \"arrowhead\": 0, \"arrowwidth\": 1}, \"coloraxis\": {\"colorbar\": {\"outlinewidth\": 0, \"ticks\": \"\"}}, \"colorscale\": {\"diverging\": [[0, \"#8e0152\"], [0.1, \"#c51b7d\"], [0.2, \"#de77ae\"], [0.3, \"#f1b6da\"], [0.4, \"#fde0ef\"], [0.5, \"#f7f7f7\"], [0.6, \"#e6f5d0\"], [0.7, \"#b8e186\"], [0.8, \"#7fbc41\"], [0.9, \"#4d9221\"], [1, \"#276419\"]], \"sequential\": [[0.0, \"#0d0887\"], [0.1111111111111111, \"#46039f\"], [0.2222222222222222, \"#7201a8\"], [0.3333333333333333, \"#9c179e\"], [0.4444444444444444, \"#bd3786\"], [0.5555555555555556, \"#d8576b\"], [0.6666666666666666, \"#ed7953\"], [0.7777777777777778, \"#fb9f3a\"], [0.8888888888888888, \"#fdca26\"], [1.0, \"#f0f921\"]], \"sequentialminus\": [[0.0, \"#0d0887\"], [0.1111111111111111, \"#46039f\"], [0.2222222222222222, \"#7201a8\"], [0.3333333333333333, \"#9c179e\"], [0.4444444444444444, \"#bd3786\"], [0.5555555555555556, \"#d8576b\"], [0.6666666666666666, \"#ed7953\"], [0.7777777777777778, \"#fb9f3a\"], [0.8888888888888888, \"#fdca26\"], [1.0, \"#f0f921\"]]}, \"colorway\": [\"#636efa\", \"#EF553B\", \"#00cc96\", \"#ab63fa\", \"#FFA15A\", \"#19d3f3\", \"#FF6692\", \"#B6E880\", \"#FF97FF\", \"#FECB52\"], \"font\": {\"color\": \"#2a3f5f\"}, \"geo\": {\"bgcolor\": \"white\", \"lakecolor\": \"white\", \"landcolor\": \"#E5ECF6\", \"showlakes\": true, \"showland\": true, \"subunitcolor\": \"white\"}, \"hoverlabel\": {\"align\": \"left\"}, \"hovermode\": \"closest\", \"mapbox\": {\"style\": \"light\"}, \"paper_bgcolor\": \"white\", \"plot_bgcolor\": \"#E5ECF6\", \"polar\": {\"angularaxis\": {\"gridcolor\": \"white\", \"linecolor\": \"white\", \"ticks\": \"\"}, \"bgcolor\": \"#E5ECF6\", \"radialaxis\": {\"gridcolor\": \"white\", \"linecolor\": \"white\", \"ticks\": \"\"}}, \"scene\": {\"xaxis\": {\"backgroundcolor\": \"#E5ECF6\", \"gridcolor\": \"white\", \"gridwidth\": 2, \"linecolor\": \"white\", \"showbackground\": true, \"ticks\": \"\", \"zerolinecolor\": \"white\"}, \"yaxis\": {\"backgroundcolor\": \"#E5ECF6\", \"gridcolor\": \"white\", \"gridwidth\": 2, \"linecolor\": \"white\", \"showbackground\": true, \"ticks\": \"\", \"zerolinecolor\": \"white\"}, \"zaxis\": {\"backgroundcolor\": \"#E5ECF6\", \"gridcolor\": \"white\", \"gridwidth\": 2, \"linecolor\": \"white\", \"showbackground\": true, \"ticks\": \"\", \"zerolinecolor\": \"white\"}}, \"shapedefaults\": {\"line\": {\"color\": \"#2a3f5f\"}}, \"ternary\": {\"aaxis\": {\"gridcolor\": \"white\", \"linecolor\": \"white\", \"ticks\": \"\"}, \"baxis\": {\"gridcolor\": \"white\", \"linecolor\": \"white\", \"ticks\": \"\"}, \"bgcolor\": \"#E5ECF6\", \"caxis\": {\"gridcolor\": \"white\", \"linecolor\": \"white\", \"ticks\": \"\"}}, \"title\": {\"x\": 0.05}, \"xaxis\": {\"automargin\": true, \"gridcolor\": \"white\", \"linecolor\": \"white\", \"ticks\": \"\", \"title\": {\"standoff\": 15}, \"zerolinecolor\": \"white\", \"zerolinewidth\": 2}, \"yaxis\": {\"automargin\": true, \"gridcolor\": \"white\", \"linecolor\": \"white\", \"ticks\": \"\", \"title\": {\"standoff\": 15}, \"zerolinecolor\": \"white\", \"zerolinewidth\": 2}}}},\n",
       "                        {\"responsive\": true}\n",
       "                    ).then(function(){\n",
       "                            \n",
       "var gd = document.getElementById('ea2f5b5e-5a97-4426-92e7-f927d1818bad');\n",
       "var x = new MutationObserver(function (mutations, observer) {{\n",
       "        var display = window.getComputedStyle(gd).display;\n",
       "        if (!display || display === 'none') {{\n",
       "            console.log([gd, 'removed!']);\n",
       "            Plotly.purge(gd);\n",
       "            observer.disconnect();\n",
       "        }}\n",
       "}});\n",
       "\n",
       "// Listen for the removal of the full notebook cells\n",
       "var notebookContainer = gd.closest('#notebook-container');\n",
       "if (notebookContainer) {{\n",
       "    x.observe(notebookContainer, {childList: true});\n",
       "}}\n",
       "\n",
       "// Listen for the clearing of the current output cell\n",
       "var outputEl = gd.closest('.output');\n",
       "if (outputEl) {{\n",
       "    x.observe(outputEl, {childList: true});\n",
       "}}\n",
       "\n",
       "                        })\n",
       "                };\n",
       "                });\n",
       "            </script>\n",
       "        </div>"
      ]
     },
     "metadata": {},
     "output_type": "display_data"
    }
   ],
   "source": [
    "with open(\"gpx_simplified.df\",'rb') as infile:\n",
    "        df_simplified = pickle.load(infile)\n",
    "               \n",
    "nb_routes = 1\n",
    "min_routes = 2\n",
    "\n",
    "df_simplified[\"type\"] = 0\n",
    "df_display = df_simplified[(df_simplified[\"route_num\"]<=nb_routes)]\n",
    "\n",
    "dict_voxels = create_dict_vox(df_display, nb_routes)\n",
    "tab_vox = get_voxels_with_min_routes(dict_voxels, min_routes)\n",
    "\n",
    "        \n",
    "df = pd.DataFrame(tab_vox, columns=[\"lat\", \"lon\", \"route_num\", \"type\"])\n",
    "df_display = df_display.append(df)\n",
    "display(df_display, color=\"type\")    \n"
   ]
  },
  {
   "cell_type": "code",
   "execution_count": 15,
   "metadata": {},
   "outputs": [],
   "source": [
    "def get_similitude(dict_voxels, num_route1, num_route2):\n",
    "    t = []\n",
    "    t.append([])\n",
    "    t.append([])\n",
    "    for key in dict_voxels:\n",
    "        tab_routes = dict_voxels[key]\n",
    "        if(num_route1 in dict_voxels[key]):\n",
    "            t[0].append(key)\n",
    "        if(num_route2 in dict_voxels[key]):\n",
    "            t[1].append(key)\n",
    "\n",
    "        vox_str = key.split(\";\")\n",
    "        vox_int = [int(vox_str[0]), int(vox_str[1])]\n",
    "        tab_vox_adj = []\n",
    "        tab_vox_adj.append(voxel_convolution(vox_int, dict_voxels, {}, 0, -1, 0))\n",
    "        tab_vox_adj.append(voxel_convolution(vox_int, dict_voxels, {}, 0, 1, 0))\n",
    "        tab_vox_adj.append(voxel_convolution(vox_int, dict_voxels, {}, 0, 0, 1))\n",
    "        tab_vox_adj.append(voxel_convolution(vox_int, dict_voxels, {}, 0, 0, -1))\n",
    "        for vox in tab_vox_adj:\n",
    "            if(len(vox)>0):\n",
    "                union_tab_routes = list(set(tab_routes) | set(vox[1]))#union of lists\n",
    "                key_adj = vox[2]\n",
    "                if(len(union_tab_routes) > len(tab_routes) and len(union_tab_routes) > len(vox[1])):\n",
    "                    if(num_route1 in dict_voxels[key_adj]):\n",
    "                        t[0].append(key)\n",
    "                        break\n",
    "                    if(num_route2 in dict_voxels[key_adj]):\n",
    "                        t[1].append(key)\n",
    "                        break\n",
    "    common_parts = len(list(set(t[0]) & set(t[1])))\n",
    "    #print(common_parts, len(t[0]), len(t[1]))\n",
    "    return [common_parts/len(t[0]), common_parts/len(t[1])]"
   ]
  },
  {
   "cell_type": "code",
   "execution_count": 16,
   "metadata": {},
   "outputs": [
    {
     "name": "stdout",
     "output_type": "stream",
     "text": [
      "[0.054474708171206226, 0.08045977011494253]\n"
     ]
    }
   ],
   "source": [
    "with open(\"gpx_simplified.df\",'rb') as infile:\n",
    "        df_cluster = pickle.load(infile)\n",
    "        \n",
    "dict_voxels = create_dict_vox(df_display, df_cluster.iloc[-1][\"route_num\"])\n",
    "print(get_similitude(dict_voxels, 1, 2))\n"
   ]
  }
 ],
 "metadata": {
  "kernelspec": {
   "display_name": "Python 3",
   "language": "python",
   "name": "python3"
  },
  "language_info": {
   "codemirror_mode": {
    "name": "ipython",
    "version": 3
   },
   "file_extension": ".py",
   "mimetype": "text/x-python",
   "name": "python",
   "nbconvert_exporter": "python",
   "pygments_lexer": "ipython3",
   "version": "3.6.9"
  }
 },
 "nbformat": 4,
 "nbformat_minor": 2
}
