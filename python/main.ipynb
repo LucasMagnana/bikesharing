{
 "cells": [
  {
   "cell_type": "code",
   "execution_count": 1,
   "metadata": {},
   "outputs": [
    {
     "name": "stdout",
     "output_type": "stream",
     "text": [
      "usage: main.py [-h] [--path PATH] [--voxels-frequency VOXELS_FREQUENCY]\n",
      "               [--num-layers NUM_LAYERS] [--hidden-size HIDDEN_SIZE]\n",
      "               [--num-samples NUM_SAMPLES] [--lr LR]\n",
      "               [--percentage-test PERCENTAGE_TEST]\n",
      "\n",
      "optional arguments:\n",
      "  -h, --help            show this help message and exit\n",
      "  --path PATH           path to the project's main folder\n",
      "  --voxels-frequency VOXELS_FREQUENCY\n",
      "                        frequency of voxels to send to the network\n",
      "  --num-layers NUM_LAYERS\n",
      "                        number of layers in the LSTM network\n",
      "  --hidden-size HIDDEN_SIZE\n",
      "                        size of the hidden layer(s) in the network\n",
      "  --num-samples NUM_SAMPLES\n",
      "                        number of data (chosen randomly) to send to the\n",
      "                        network\n",
      "  --lr LR               learning rate of the algorithm\n",
      "  --percentage-test PERCENTAGE_TEST\n",
      "                        percentage of data to use as testing\n"
     ]
    }
   ],
   "source": [
    "%run main.py -h"
   ]
  },
  {
   "cell_type": "code",
   "execution_count": 3,
   "metadata": {
    "scrolled": false
   },
   "outputs": [
    {
     "name": "stdout",
     "output_type": "stream",
     "text": [
      "start: 18:59:58.622669\n",
      "1/4: 19:14:24.856547\n",
      "1/4: 19:29:35.194467\n",
      "1/4: 19:45:01.552693\n",
      "Random: 1.5892420537897312 %\n",
      "Good predict: 95.59902200488997 %\n",
      "Saving network...\n"
     ]
    },
    {
     "data": {
      "image/png": "[encoded data removed]",
      "text/plain": [
       "<Figure size 432x288 with 1 Axes>"
      ]
     },
     "metadata": {
      "needs_background": "light"
     },
     "output_type": "display_data"
    }
   ],
   "source": [
    "%run main.py --path ../ --num-samples 90000"
   ]
  }
 ],
 "metadata": {
  "kernelspec": {
   "display_name": "Python 3",
   "language": "python",
   "name": "python3"
  },
  "language_info": {
   "codemirror_mode": {
    "name": "ipython",
    "version": 3
   },
   "file_extension": ".py",
   "mimetype": "text/x-python",
   "name": "python",
   "nbconvert_exporter": "python",
   "pygments_lexer": "ipython3",
   "version": "3.7.3"
  }
 },
 "nbformat": 4,
 "nbformat_minor": 2
}
