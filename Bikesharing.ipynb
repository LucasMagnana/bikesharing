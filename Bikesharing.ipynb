{
 "cells": [
  {
   "cell_type": "code",
   "execution_count": 1,
   "metadata": {},
   "outputs": [
    {
     "ename": "ModuleNotFoundError",
     "evalue": "No module named 'pandas'",
     "output_type": "error",
     "traceback": [
      "\u001b[0;31m---------------------------------------------------------------------------\u001b[0m",
      "\u001b[0;31mModuleNotFoundError\u001b[0m                       Traceback (most recent call last)",
      "\u001b[0;32m<ipython-input-1-d08be4ba01d3>\u001b[0m in \u001b[0;36m<module>\u001b[0;34m\u001b[0m\n\u001b[0;32m----> 1\u001b[0;31m \u001b[0;32mimport\u001b[0m \u001b[0mpandas\u001b[0m \u001b[0;32mas\u001b[0m \u001b[0mpd\u001b[0m\u001b[0;34m\u001b[0m\u001b[0;34m\u001b[0m\u001b[0m\n\u001b[0m\u001b[1;32m      2\u001b[0m \u001b[0;32mimport\u001b[0m \u001b[0mrequests\u001b[0m\u001b[0;34m\u001b[0m\u001b[0;34m\u001b[0m\u001b[0m\n\u001b[1;32m      3\u001b[0m \u001b[0;32mimport\u001b[0m \u001b[0mplotly\u001b[0m\u001b[0;34m.\u001b[0m\u001b[0mexpress\u001b[0m \u001b[0;32mas\u001b[0m \u001b[0mpx\u001b[0m\u001b[0;34m\u001b[0m\u001b[0;34m\u001b[0m\u001b[0m\n\u001b[1;32m      4\u001b[0m \u001b[0;32mimport\u001b[0m \u001b[0mpickle\u001b[0m\u001b[0;34m\u001b[0m\u001b[0;34m\u001b[0m\u001b[0m\n\u001b[1;32m      5\u001b[0m \u001b[0mtoken\u001b[0m \u001b[0;34m=\u001b[0m \u001b[0;34m\"pk.eyJ1IjoibG1hZ25hbmEiLCJhIjoiY2s2N3hmNzgwMGNnODNqcGJ1N2l2ZXZpdiJ9.-aOxDLM8KbEQnJfXegtl7A\"\u001b[0m\u001b[0;34m\u001b[0m\u001b[0;34m\u001b[0m\u001b[0m\n",
      "\u001b[0;31mModuleNotFoundError\u001b[0m: No module named 'pandas'"
     ]
    }
   ],
   "source": [
    "import pandas as pd\n",
    "import requests\n",
    "import plotly.express as px\n",
    "import pickle\n",
    "token = \"pk.eyJ1IjoibG1hZ25hbmEiLCJhIjoiY2s2N3hmNzgwMGNnODNqcGJ1N2l2ZXZpdiJ9.-aOxDLM8KbEQnJfXegtl7A\""
   ]
  },
  {
   "cell_type": "markdown",
   "metadata": {},
   "source": [
    "Appel à l'API MapBox "
   ]
  },
  {
   "cell_type": "code",
   "execution_count": null,
   "metadata": {},
   "outputs": [],
   "source": [
    "def request_route(lat1, long1, lat2, long2):\n",
    "    coord = str(long1)+\",\"+str(lat1)+\";\"+str(long2)+\",\"+str(lat2)\n",
    "    return requests.get(\"https://api.mapbox.com/directions/v5/mapbox/cycling/\"+coord, \n",
    "                            params={\"alternatives\": \"true\", \"geometries\": \"geojson\", \"steps\": \"true\", \"access_token\": token})\n",
    "    "
   ]
  },
  {
   "cell_type": "markdown",
   "metadata": {},
   "source": [
    "Remplissage du dictionaire :"
   ]
  },
  {
   "cell_type": "code",
   "execution_count": null,
   "metadata": {},
   "outputs": [],
   "source": [
    "def fill_dict(file):\n",
    "    file_already_used = False\n",
    "    with open(\"files_done.txt\",'rb') as infile: #check if the file has already been used\n",
    "        files_done = pickle.load(infile)\n",
    "        for f in files_done:\n",
    "            if(f == file):\n",
    "                file_already_used = True\n",
    "                break\n",
    "                \n",
    "    with open(\"trips_washington.dict\",'rb') as infile:\n",
    "        dict_trips = pickle.load(infile)\n",
    "        \n",
    "    if(not(file_already_used)):\n",
    "        #Filling without mapbox's request\n",
    "        print(\"fucj\")\n",
    "        for index, row in trips.iterrows(): #for all trips \n",
    "            break\n",
    "            key = str(row[\"Start station number\"])+','+str(row[\"End station number\"])#keys are stations' number\n",
    "            if(key in dict_trips): #store the duration in dict_trips\n",
    "                dict_trips[key]['durations'].append(row['Duration'])\n",
    "                dict_trips[key]['number_of_trip']+=1\n",
    "            else:\n",
    "                dict_trips[key] = {'durations': [row['Duration']], 'routes': [], 'number_of_trip': 1}\n",
    "\n",
    "\n",
    "    trips = pd.read_csv(\"Datas/America/Washington/\"+file)\n",
    "    stations = pd.read_csv(\"Datas/America/Washington/Capital_Bike_Share_Locations.csv\")\n",
    "            \n",
    "    #Filling without mapbox's request\n",
    "    for key in dict_trips: #for all trips in dict_trips\n",
    "        if(dict_trips[key]['routes'] == []): #if there is no route for the trip\n",
    "            save_route = True\n",
    "            tab_stations = key.split(',')\n",
    "            st1 = stations[stations['TERMINAL_NUMBER']==int(tab_stations[0])] #find the position of the stations\n",
    "            st2 = stations[stations['TERMINAL_NUMBER']==int(tab_stations[1])]\n",
    "            if(len(st1)>0 and len(st2)>0): #if the stations' position have been found\n",
    "                lon1 = st1['LONGITUDE'].values[0]\n",
    "                lat1 = st1['LATITUDE'].values[0]\n",
    "                lon2 = st2['LONGITUDE'].values[0]\n",
    "                lat2 = st2['LATITUDE'].values[0]\n",
    "                req = request_route(lat1, lon1, lat2, lon2) #mapbox request to find a route between the stations\n",
    "                response = req.json()\n",
    "                if(response['code']=='Ok'): #if a route have been found\n",
    "                    steps = response['routes'][0]['legs'][0]['steps'] #we browse all the steps of the route\n",
    "                    for step in steps:\n",
    "                        if(step['maneuver']['instruction'].find(\"Wharf\") != -1):\n",
    "                            save_route = False #if the route is not good (using a boat) we don't save it\n",
    "                            break\n",
    "                    if(save_route): #if we save the route\n",
    "                        df_temp = pd.DataFrame.from_records(response['routes'][0]['geometry']['coordinates'], \n",
    "                                                   columns=['lon', 'lat']) #create a DF from the route (nparray)\n",
    "                        dict_trips[key]['routes'].append(df_temp) #save the DF in dict_trips\n",
    "                    else: #if we don't save we store an empty DF in dict_trips\n",
    "                        dict_trips[key]['routes'].append(pd.DataFrame(columns=['lon', 'lat', 'route_num']))\n",
    "                    with open('trips_washington.dict', 'wb') as outfile: #save dict_trips\n",
    "                        pickle.dump(dict_trips, outfile)\n",
    "                \n",
    "    with open('trips_washington.dict', 'wb') as outfile: #save dict_trips\n",
    "        pickle.dump(dict_trips, outfile)\n",
    "        \n",
    "    files_done.append(file) #append the used file to the list of used files\n",
    "    with open('files_done.txt', 'wb') as outfile: #save the used files list\n",
    "        pickle.dump(files_done, outfile)\n",
    "                \n",
    "                \n",
    "        "
   ]
  },
  {
   "cell_type": "code",
   "execution_count": null,
   "metadata": {},
   "outputs": [],
   "source": [
    "with open('files_done.txt', 'wb') as outfile:\n",
    "        pickle.dump([\"2012Q1-capitalbikeshare-tripdata.csv\"], outfile)\n",
    "\n",
    "fill_dict(\"2012Q1-capitalbikeshare-tripdata.csv\")"
   ]
  },
  {
   "cell_type": "code",
   "execution_count": null,
   "metadata": {},
   "outputs": [],
   "source": [
    "dict_trips = {}\n",
    "with open('trips_washington.dict', 'rb') as infile: #load a dictionary in dict_trips\n",
    "    dict_trips = pickle.load(infile)\n",
    "    \n",
    "route_num = 0\n",
    "df = pd.DataFrame(columns=['lon', 'lat', 'route_num']) #creation of an empty dataframe\n",
    "for key in dict_trips: #for all trips in dict_trips\n",
    "    if(len(dict_trips[key]['routes'])!=0 and not(dict_trips[key]['routes'][0].empty)): #if a route is found\n",
    "        df_temp = dict_trips[key]['routes'][0] #we take the route\n",
    "        df_temp['route_num'] = route_num #we add a number to differentiate routes\n",
    "        route_num+=1\n",
    "        df = df.append(df_temp) #we add the route to the final DF\n",
    "df"
   ]
  },
  {
   "cell_type": "code",
   "execution_count": null,
   "metadata": {},
   "outputs": [],
   "source": [
    "def display(dfdisplay, n=75, line_group=\"route_num\", color=None):\n",
    "    \"\"\"\n",
    "    Display a dataframe of gps points on a mapbox map.\n",
    "    Parameters\n",
    "    ----------\n",
    "    df or str : pandas' DataFrame with columns=['lat', 'lon', 'route_num'] or the name of a file containing one\n",
    "        Dataframe to display or the file where it is located\n",
    "    n : int, optional\n",
    "        Number of routes to display\n",
    "    line_group : str, optional\n",
    "        Dataframe's attribute used to differenciate routes\n",
    "    color : str, optional\n",
    "        Dataframe's attribute used to color routes\n",
    "    \"\"\"\n",
    "    n+=1\n",
    "    if(type(dfdisplay) == str): #if df is a file location\n",
    "        with open(dfdisplay,'rb') as infile:\n",
    "            dfdisplay = pickle.load(infile) #open the file to load the dataframe\n",
    "    dfdisplay = dfdisplay[dfdisplay[line_group]<n]\n",
    "    fig = px.line_mapbox(dfdisplay, lat=\"lat\", lon=\"lon\", line_group=line_group, color=color, zoom=11)\n",
    "    fig.show()"
   ]
  },
  {
   "cell_type": "code",
   "execution_count": null,
   "metadata": {},
   "outputs": [],
   "source": [
    "display(df)"
   ]
  }
 ],
 "metadata": {
  "kernelspec": {
   "display_name": "Python 3",
   "language": "python",
   "name": "python3"
  },
  "language_info": {
   "codemirror_mode": {
    "name": "ipython",
    "version": 3
   },
   "file_extension": ".py",
   "mimetype": "text/x-python",
   "name": "python",
   "nbconvert_exporter": "python",
   "pygments_lexer": "ipython3",
   "version": "3.7.3"
  }
 },
 "nbformat": 4,
 "nbformat_minor": 2
}
